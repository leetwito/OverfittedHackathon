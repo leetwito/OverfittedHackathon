{
 "cells": [
  {
   "cell_type": "code",
   "execution_count": 1,
   "metadata": {},
   "outputs": [],
   "source": [
    "import pandas as pd\n",
    "import numpy as np"
   ]
  },
  {
   "cell_type": "code",
   "execution_count": 2,
   "metadata": {},
   "outputs": [],
   "source": [
    "df = pd.read_csv(\"data_examples/test_video/0000000_pointcloud.csv\", header=None)"
   ]
  },
  {
   "cell_type": "code",
   "execution_count": 3,
   "metadata": {},
   "outputs": [
    {
     "data": {
      "text/plain": [
       "0     319\n",
       "1   -2128\n",
       "2      -5\n",
       "dtype: int64"
      ]
     },
     "execution_count": 3,
     "metadata": {},
     "output_type": "execute_result"
    }
   ],
   "source": [
    "mins = df.min(axis=0)[:3]\n",
    "mins"
   ]
  },
  {
   "cell_type": "code",
   "execution_count": 4,
   "metadata": {},
   "outputs": [
    {
     "data": {
      "text/plain": [
       "0    9791\n",
       "1    5643\n",
       "2    1020\n",
       "dtype: int64"
      ]
     },
     "execution_count": 4,
     "metadata": {},
     "output_type": "execute_result"
    }
   ],
   "source": [
    "maxes = df.max(axis=0)[:3]\n",
    "maxes"
   ]
  },
  {
   "cell_type": "code",
   "execution_count": 5,
   "metadata": {},
   "outputs": [],
   "source": [
    "df_xyz = df.iloc[:,:3]"
   ]
  },
  {
   "cell_type": "code",
   "execution_count": 6,
   "metadata": {},
   "outputs": [],
   "source": [
    "ref_ser = df.iloc[:, 3]"
   ]
  },
  {
   "cell_type": "code",
   "execution_count": 10,
   "metadata": {},
   "outputs": [
    {
     "data": {
      "text/html": [
       "<div>\n",
       "<style scoped>\n",
       "    .dataframe tbody tr th:only-of-type {\n",
       "        vertical-align: middle;\n",
       "    }\n",
       "\n",
       "    .dataframe tbody tr th {\n",
       "        vertical-align: top;\n",
       "    }\n",
       "\n",
       "    .dataframe thead th {\n",
       "        text-align: right;\n",
       "    }\n",
       "</style>\n",
       "<table border=\"1\" class=\"dataframe\">\n",
       "  <thead>\n",
       "    <tr style=\"text-align: right;\">\n",
       "      <th></th>\n",
       "      <th>0</th>\n",
       "      <th>1</th>\n",
       "      <th>2</th>\n",
       "    </tr>\n",
       "  </thead>\n",
       "  <tbody>\n",
       "    <tr>\n",
       "      <th>0</th>\n",
       "      <td>135</td>\n",
       "      <td>4035</td>\n",
       "      <td>436</td>\n",
       "    </tr>\n",
       "    <tr>\n",
       "      <th>1</th>\n",
       "      <td>131</td>\n",
       "      <td>4033</td>\n",
       "      <td>434</td>\n",
       "    </tr>\n",
       "    <tr>\n",
       "      <th>2</th>\n",
       "      <td>129</td>\n",
       "      <td>4031</td>\n",
       "      <td>434</td>\n",
       "    </tr>\n",
       "    <tr>\n",
       "      <th>3</th>\n",
       "      <td>127</td>\n",
       "      <td>4029</td>\n",
       "      <td>433</td>\n",
       "    </tr>\n",
       "    <tr>\n",
       "      <th>4</th>\n",
       "      <td>129</td>\n",
       "      <td>4025</td>\n",
       "      <td>434</td>\n",
       "    </tr>\n",
       "  </tbody>\n",
       "</table>\n",
       "</div>"
      ],
      "text/plain": [
       "     0     1    2\n",
       "0  135  4035  436\n",
       "1  131  4033  434\n",
       "2  129  4031  434\n",
       "3  127  4029  433\n",
       "4  129  4025  434"
      ]
     },
     "execution_count": 10,
     "metadata": {},
     "output_type": "execute_result"
    }
   ],
   "source": [
    "df_xyz = df_xyz - mins\n",
    "df_xyz.head()"
   ]
  },
  {
   "cell_type": "code",
   "execution_count": 11,
   "metadata": {},
   "outputs": [],
   "source": [
    "voxel_size = 10"
   ]
  },
  {
   "cell_type": "code",
   "execution_count": 25,
   "metadata": {},
   "outputs": [
    {
     "data": {
      "text/html": [
       "<div>\n",
       "<style scoped>\n",
       "    .dataframe tbody tr th:only-of-type {\n",
       "        vertical-align: middle;\n",
       "    }\n",
       "\n",
       "    .dataframe tbody tr th {\n",
       "        vertical-align: top;\n",
       "    }\n",
       "\n",
       "    .dataframe thead th {\n",
       "        text-align: right;\n",
       "    }\n",
       "</style>\n",
       "<table border=\"1\" class=\"dataframe\">\n",
       "  <thead>\n",
       "    <tr style=\"text-align: right;\">\n",
       "      <th></th>\n",
       "      <th>0</th>\n",
       "      <th>1</th>\n",
       "      <th>2</th>\n",
       "      <th>3</th>\n",
       "    </tr>\n",
       "  </thead>\n",
       "  <tbody>\n",
       "    <tr>\n",
       "      <th>0</th>\n",
       "      <td>13</td>\n",
       "      <td>403</td>\n",
       "      <td>43</td>\n",
       "      <td>25</td>\n",
       "    </tr>\n",
       "    <tr>\n",
       "      <th>1</th>\n",
       "      <td>13</td>\n",
       "      <td>403</td>\n",
       "      <td>43</td>\n",
       "      <td>25</td>\n",
       "    </tr>\n",
       "    <tr>\n",
       "      <th>2</th>\n",
       "      <td>12</td>\n",
       "      <td>403</td>\n",
       "      <td>43</td>\n",
       "      <td>25</td>\n",
       "    </tr>\n",
       "    <tr>\n",
       "      <th>3</th>\n",
       "      <td>12</td>\n",
       "      <td>402</td>\n",
       "      <td>43</td>\n",
       "      <td>25</td>\n",
       "    </tr>\n",
       "    <tr>\n",
       "      <th>4</th>\n",
       "      <td>12</td>\n",
       "      <td>402</td>\n",
       "      <td>43</td>\n",
       "      <td>25</td>\n",
       "    </tr>\n",
       "  </tbody>\n",
       "</table>\n",
       "</div>"
      ],
      "text/plain": [
       "    0    1   2   3\n",
       "0  13  403  43  25\n",
       "1  13  403  43  25\n",
       "2  12  403  43  25\n",
       "3  12  402  43  25\n",
       "4  12  402  43  25"
      ]
     },
     "execution_count": 25,
     "metadata": {},
     "output_type": "execute_result"
    }
   ],
   "source": [
    "df_grid = df_xyz//voxel_size\n",
    "df_grid[3] = ref_ser\n",
    "df_grid.head()"
   ]
  },
  {
   "cell_type": "code",
   "execution_count": 26,
   "metadata": {},
   "outputs": [
    {
     "data": {
      "text/plain": [
       "0     1    2 \n",
       "-32   403  3     10.062500\n",
       "      404  3     10.000000\n",
       "-31   402  3     13.166667\n",
       "      403  3     10.346154\n",
       "      404  3     10.666667\n",
       "-30   401  3     16.500000\n",
       "      402  2     10.750000\n",
       "           3     15.363636\n",
       "      403  3     11.000000\n",
       "      404  3     11.000000\n",
       "      449  2     26.625000\n",
       "-29   400  3     17.000000\n",
       "      401  3     16.400000\n",
       "      402  2     10.500000\n",
       "           3     15.727273\n",
       "      403  3     10.583333\n",
       "      404  3     10.444444\n",
       "      449  2     28.739130\n",
       "      450  2     27.500000\n",
       "-28   400  3     15.375000\n",
       "      401  3     16.166667\n",
       "      402  3     15.260870\n",
       "      403  3     10.958333\n",
       "      404  3     10.333333\n",
       "      448  2     26.000000\n",
       "      449  2     27.583333\n",
       "      450  2     27.400000\n",
       "      451  2     26.000000\n",
       "-27   399  3     16.000000\n",
       "      400  3     15.782609\n",
       "                   ...    \n",
       " 901  655  42     0.000000\n",
       " 902  651  5      0.000000\n",
       "           10     0.000000\n",
       "           14     0.000000\n",
       "           18     0.000000\n",
       "           22     0.000000\n",
       "           26     0.000000\n",
       "           30     0.000000\n",
       "           34     0.000000\n",
       "           38     0.000000\n",
       "           42     0.000000\n",
       " 903  647  5      0.000000\n",
       "           10     0.000000\n",
       "           14     0.000000\n",
       "           18     0.000000\n",
       "           22     0.000000\n",
       "           26     0.000000\n",
       "           30     0.000000\n",
       "           34     0.000000\n",
       " 904  643  5      0.000000\n",
       "           10     0.000000\n",
       "           14     0.000000\n",
       "           18     0.000000\n",
       "           22     0.000000\n",
       "           30     0.000000\n",
       " 905  639  10     0.000000\n",
       "           14     0.000000\n",
       "           18     0.000000\n",
       " 913  250  67    28.000000\n",
       " 915  523  5     45.000000\n",
       "Length: 18723, dtype: float64"
      ]
     },
     "execution_count": 26,
     "metadata": {},
     "output_type": "execute_result"
    }
   ],
   "source": [
    "df_grid.groupby([0,1,2]).apply(lambda x: x.iloc[:, 3].mean())"
   ]
  },
  {
   "cell_type": "code",
   "execution_count": null,
   "metadata": {},
   "outputs": [],
   "source": []
  }
 ],
 "metadata": {
  "kernelspec": {
   "display_name": "datahack2",
   "language": "python",
   "name": "datahack2"
  },
  "language_info": {
   "codemirror_mode": {
    "name": "ipython",
    "version": 3
   },
   "file_extension": ".py",
   "mimetype": "text/x-python",
   "name": "python",
   "nbconvert_exporter": "python",
   "pygments_lexer": "ipython3",
   "version": "3.6.4"
  }
 },
 "nbformat": 4,
 "nbformat_minor": 2
}
