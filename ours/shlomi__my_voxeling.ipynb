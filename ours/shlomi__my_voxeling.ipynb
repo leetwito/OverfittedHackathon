{
 "cells": [
  {
   "cell_type": "code",
   "execution_count": 1,
   "metadata": {},
   "outputs": [],
   "source": [
    "import pandas as pd\n",
    "import numpy as np\n",
    "import os\n",
    "from time import time\n",
    "from tqdm import tqdm\n",
    "\n",
    "from utilities.math_utils import RotationTranslationData\n",
    "from utilities import data_utils\n",
    "import os\n",
    "from tqdm import tqdm\n",
    "import numpy as np\n",
    "import pandas as pd"
   ]
  },
  {
   "cell_type": "code",
   "execution_count": 2,
   "metadata": {},
   "outputs": [],
   "source": [
    "def pc_to_grid(df, voxel_size, dest_dir, dest_name):\n",
    "    # df_frame points are in world coordinate system\n",
    "    # dest_name may be frame number\n",
    "    start_time = time()\n",
    "#     df = pd.read_csv(csv_path, header=None)\n",
    "\n",
    "    df_xyz = df.iloc[:,:3]\n",
    "    ref_ser = df.iloc[:, 3]\n",
    "    df_grid = df_xyz//voxel_size\n",
    "    df_grid[3] = ref_ser\n",
    "    df_grid.columns=list(\"xyzr\")\n",
    "    df_voxel = df_grid.groupby(['x','y','z']).apply(lambda x: x.iloc[:, 3].mean()).to_frame()\n",
    "    df_voxel.reset_index(drop=False, inplace=True)\n",
    "    df_voxel.iloc[:, :3] = df_voxel.iloc[:, :3]*voxel_size + voxel_size//2\n",
    "    df_voxel= df_voxel.astype(np.int)\n",
    "    base_name = os.path.join(dest_dir, dest_name)\n",
    "    df_voxel.to_csv(base_name + '_pointcloud.csv', header=None, index=False)\n",
    "    pd.DataFrame([0]*df_voxel.shape[0]).to_csv(base_name+'_labels.csv', header=None, index=False)\n",
    "    pd.DataFrame([0.]*6).T.to_csv(base_name+'_egomotion.csv', header=None, index=False)\n",
    "    print('single file runtime: {}'.format(time()-start_time))"
   ]
  },
  {
   "cell_type": "code",
   "execution_count": 3,
   "metadata": {},
   "outputs": [],
   "source": [
    "# df_pc = pd.read_csv('data_examples/test_video/0000000_pointcloud.csv')\n",
    "# voxel_size = 100\n",
    "# dest_dir = 'data_examples/test_video_mod/'\n",
    "# dest_name = '0000000'\n",
    "\n",
    "# pc_to_grid(df_pc, voxel_size, dest_dir, dest_name)"
   ]
  },
  {
   "cell_type": "code",
   "execution_count": null,
   "metadata": {},
   "outputs": [],
   "source": []
  },
  {
   "cell_type": "code",
   "execution_count": null,
   "metadata": {},
   "outputs": [],
   "source": []
  },
  {
   "cell_type": "code",
   "execution_count": null,
   "metadata": {},
   "outputs": [],
   "source": []
  },
  {
   "cell_type": "code",
   "execution_count": null,
   "metadata": {},
   "outputs": [],
   "source": []
  },
  {
   "cell_type": "code",
   "execution_count": null,
   "metadata": {},
   "outputs": [],
   "source": []
  },
  {
   "cell_type": "code",
   "execution_count": null,
   "metadata": {},
   "outputs": [],
   "source": []
  },
  {
   "cell_type": "code",
   "execution_count": null,
   "metadata": {},
   "outputs": [],
   "source": []
  },
  {
   "cell_type": "code",
   "execution_count": null,
   "metadata": {},
   "outputs": [],
   "source": []
  },
  {
   "cell_type": "code",
   "execution_count": null,
   "metadata": {},
   "outputs": [],
   "source": []
  },
  {
   "cell_type": "code",
   "execution_count": null,
   "metadata": {},
   "outputs": [],
   "source": [
    "def transform_frame_to_world(pc, ego):\n",
    "    ego_rt = RotationTranslationData(vecs=(ego[:3], ego[3:]))\n",
    "    ego_pc = ego_rt.apply_transform(pc[:, :3]) # pc is (x, y, z, lumin)\n",
    "    return ego_pc"
   ]
  },
  {
   "cell_type": "code",
   "execution_count": null,
   "metadata": {},
   "outputs": [],
   "source": [
    "def transform_folder_to_world(sub_dir):\n",
    "    base_dir = \"E:\\Datasets\\DataHack\\Train\"\n",
    "    base_res_dir = \"E:\\Datasets\\DataHack\\World\\Train\"\n",
    "    print('Working on sub_dir: {}'.format(sub_dir))\n",
    "\n",
    "    for idx in data_utils.enumerate_frames(os.path.join(base_dir, sub_dir)):\n",
    "        pc_file = os.path.join(base_res_dir, data_utils.frame_to_filename(sub_dir, idx, 'pointcloud'))\n",
    "        if os.path.exists(pc_file):\n",
    "            continue\n",
    "        pc, ego, label = data_utils.read_all_data(os.path.join(base_dir, sub_dir), idx)\n",
    "        ego_pc = transform_frame_to_world(pc, ego)\n",
    "        ego_pc = np.concatenate((ego_pc, pc[:, 3:4]), -1)\n",
    "        df = (pd.DataFrame(ego_pc) * 100).astype(int)\n",
    "        res_dir = os.path.join(base_res_dir, sub_dir)\n",
    "        if not os.path.exists(res_dir):\n",
    "            os.makedirs(res_dir)\n",
    "        file_name = os.path.join(res_dir, str(idx).zfill(7))\n",
    "        df.to_csv(file_name+'_pointcloud.csv', header=None, index=False)\n",
    "        pd.DataFrame([0]*df.shape[0]).to_csv(file_name+'_labels.csv', header=None, index=False)\n",
    "        pd.DataFrame([0.]*6).T.to_csv(file_name+'_egomotion.csv', header=None, index=False)\n",
    "\n"
   ]
  },
  {
   "cell_type": "code",
   "execution_count": null,
   "metadata": {},
   "outputs": [],
   "source": [
    "# base_dir = \"E:\\Datasets\\DataHack\\Train\"\n",
    "# transform_folder_to_world('vid_11_2')"
   ]
  },
  {
   "cell_type": "code",
   "execution_count": null,
   "metadata": {},
   "outputs": [],
   "source": [
    "# a = pd.read_csv(\"E:/Datasets/DataHack/Train/vid_1/0000000_pointcloud.csv\", header=None)"
   ]
  },
  {
   "cell_type": "code",
   "execution_count": null,
   "metadata": {},
   "outputs": [],
   "source": [
    "# b = pd.read_csv(\"E:/Datasets/DataHack/World/Train/vid_1/0000000_pointcloud.csv\", header=None)"
   ]
  },
  {
   "cell_type": "code",
   "execution_count": null,
   "metadata": {},
   "outputs": [],
   "source": [
    "# a.max() - a.min()"
   ]
  },
  {
   "cell_type": "code",
   "execution_count": null,
   "metadata": {},
   "outputs": [],
   "source": [
    "# b.max() - b.min()"
   ]
  },
  {
   "cell_type": "code",
   "execution_count": null,
   "metadata": {},
   "outputs": [],
   "source": [
    "[]"
   ]
  }
 ],
 "metadata": {
  "kernelspec": {
   "display_name": "datahack",
   "language": "python",
   "name": "datahack"
  },
  "language_info": {
   "codemirror_mode": {
    "name": "ipython",
    "version": 3
   },
   "file_extension": ".py",
   "mimetype": "text/x-python",
   "name": "python",
   "nbconvert_exporter": "python",
   "pygments_lexer": "ipython3",
   "version": "3.6.6"
  }
 },
 "nbformat": 4,
 "nbformat_minor": 2
}
