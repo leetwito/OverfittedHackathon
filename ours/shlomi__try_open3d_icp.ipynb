{
 "cells": [
  {
   "cell_type": "code",
   "execution_count": 2,
   "metadata": {},
   "outputs": [],
   "source": [
    "import pandas as pd\n",
    "import numpy as np\n",
    "\n",
    "import open3d\n",
    "# examples/Python/Tutorial/Basic/icp_registration.py\n",
    "    \n",
    "from open3d import *\n",
    "import numpy as np\n",
    "import copy"
   ]
  },
  {
   "cell_type": "code",
   "execution_count": 18,
   "metadata": {},
   "outputs": [],
   "source": [
    "path = \"voxelling_output/submission_files/check_registration/\"\n",
    "pcw1 = pd.read_csv(path+\"0000000_pointcloud.csv\", header=None)\n",
    "pcw2 = pd.read_csv(path+\"0000150_pointcloud.csv\", header=None)\n",
    "\n",
    "pcw1.iloc[:, :3].to_csv(path+\"source.xyz\", sep=\" \", header=None, index=None)\n",
    "pcw2.iloc[:, :3].to_csv(path+\"target.xyz\", sep=\" \", header=None, index=None)"
   ]
  },
  {
   "cell_type": "code",
   "execution_count": 19,
   "metadata": {},
   "outputs": [],
   "source": [
    "def draw_registration_result(source, target, transformation):\n",
    "    source_temp = copy.deepcopy(source)\n",
    "    target_temp = copy.deepcopy(target)\n",
    "    source_temp.paint_uniform_color([1, 0.706, 0])\n",
    "    target_temp.paint_uniform_color([0, 0.651, 0.929])\n",
    "    source_temp.transform(transformation)\n",
    "    draw_geometries([source_temp, target_temp])"
   ]
  },
  {
   "cell_type": "code",
   "execution_count": 20,
   "metadata": {},
   "outputs": [],
   "source": [
    "source = read_point_cloud(path+\"source.xyz\")\n",
    "target = read_point_cloud(path+\"target.xyz\")"
   ]
  },
  {
   "cell_type": "code",
   "execution_count": 21,
   "metadata": {},
   "outputs": [
    {
     "data": {
      "text/plain": [
       "PointCloud with 39375 points."
      ]
     },
     "execution_count": 21,
     "metadata": {},
     "output_type": "execute_result"
    }
   ],
   "source": [
    "source"
   ]
  },
  {
   "cell_type": "code",
   "execution_count": 72,
   "metadata": {},
   "outputs": [
    {
     "data": {
      "text/plain": [
       "array([[ 0.70710678,  0.70710678,  0.        , 10.        ],\n",
       "       [-0.70710678,  0.70710678,  0.        , 20.        ],\n",
       "       [ 0.        ,  0.        ,  1.        , 10.        ],\n",
       "       [ 0.        ,  0.        ,  0.        ,  1.        ]])"
      ]
     },
     "execution_count": 72,
     "metadata": {},
     "output_type": "execute_result"
    }
   ],
   "source": [
    "threshold = 1000000000000000000\n",
    "\n",
    "# trans_init = np.eye(4)\n",
    "# trans_init[:3, 3] = 100*np.random.rand(3)\n",
    "\n",
    "trans_init = np.array([[np.cos(np.pi/4), np.sin(np.pi/4), 0., 10.],\n",
    "                      [-np.sin(np.pi/4), np.cos(np.pi/4), 0., 20.],\n",
    "                      [0,0,1,10],\n",
    "                      [0,0,0,1]])\n",
    "trans_init"
   ]
  },
  {
   "cell_type": "code",
   "execution_count": 73,
   "metadata": {},
   "outputs": [],
   "source": [
    "# draw_registration_result(source, target, trans_init)"
   ]
  },
  {
   "cell_type": "code",
   "execution_count": 74,
   "metadata": {},
   "outputs": [
    {
     "name": "stdout",
     "output_type": "stream",
     "text": [
      "Initial alignment\n",
      "RegistrationResult with fitness = 1.000000, inlier_rmse = 996.014939, and correspondence_set size of 39375\n",
      "Access transformation to get result.\n"
     ]
    }
   ],
   "source": [
    "print(\"Initial alignment\")\n",
    "evaluation = evaluate_registration(source, target,\n",
    "        threshold, trans_init)\n",
    "print(evaluation)"
   ]
  },
  {
   "cell_type": "code",
   "execution_count": 75,
   "metadata": {},
   "outputs": [
    {
     "name": "stdout",
     "output_type": "stream",
     "text": [
      "Apply point-to-point ICP\n",
      "RegistrationResult with fitness = 1.000000, inlier_rmse = 200.328096, and correspondence_set size of 39375\n",
      "Access transformation to get result.\n",
      "Transformation is:\n",
      "[[ 9.49555800e-01  3.12897489e-01  2.09509818e-02  5.69002382e+02]\n",
      " [-3.12131677e-01  9.49457270e-01 -3.32371758e-02  7.72402194e+02]\n",
      " [-3.02918908e-02  2.50210880e-02  9.99227875e-01 -2.08436657e+00]\n",
      " [ 0.00000000e+00  0.00000000e+00  0.00000000e+00  1.00000000e+00]]\n",
      "\n"
     ]
    }
   ],
   "source": [
    "print(\"Apply point-to-point ICP\")\n",
    "reg_p2p = registration_icp(source, target, threshold, trans_init,\n",
    "        TransformationEstimationPointToPoint(), )\n",
    "print(reg_p2p)\n",
    "print(\"Transformation is:\")\n",
    "print(reg_p2p.transformation)\n",
    "print(\"\")\n",
    "draw_registration_result(source, target, reg_p2p.transformation)"
   ]
  },
  {
   "cell_type": "code",
   "execution_count": 63,
   "metadata": {},
   "outputs": [
    {
     "name": "stdout",
     "output_type": "stream",
     "text": [
      "Apply point-to-plane ICP\n",
      "RegistrationResult with fitness = 0.000000, inlier_rmse = 0.000000, and correspondence_set size of 0\n",
      "Access transformation to get result.\n",
      "Transformation is:\n",
      "[[ 0.70710678  0.70710678  0.         10.        ]\n",
      " [-0.70710678  0.70710678  0.         20.        ]\n",
      " [ 0.1         0.          1.         10.        ]\n",
      " [ 0.          0.          0.          1.        ]]\n",
      "\n"
     ]
    }
   ],
   "source": [
    "print(\"Apply point-to-plane ICP\")\n",
    "reg_p2l = registration_icp(source, target, threshold, trans_init,\n",
    "        TransformationEstimationPointToPlane())\n",
    "print(reg_p2l)\n",
    "print(\"Transformation is:\")\n",
    "print(reg_p2l.transformation)\n",
    "print(\"\")\n",
    "draw_registration_result(source, target, reg_p2l.transformation)"
   ]
  },
  {
   "cell_type": "code",
   "execution_count": null,
   "metadata": {},
   "outputs": [],
   "source": []
  },
  {
   "cell_type": "code",
   "execution_count": null,
   "metadata": {},
   "outputs": [],
   "source": [
    "from functools import partial\n",
    "import matplotlib.pyplot as plt\n",
    "from mpl_toolkits.mplot3d import Axes3D\n",
    "from pycpd import rigid_registration\n",
    "import numpy as np\n",
    "import time\n",
    "\n",
    "def visualize(iteration, error, X, Y, ax):\n",
    "    plt.cla()\n",
    "    ax.scatter(X[:,0],  X[:,1], X[:,2], color='red', label='Target')\n",
    "    ax.scatter(Y[:,0],  Y[:,1], Y[:,2], color='blue', label='Source')\n",
    "    ax.text2D(0.87, 0.92, 'Iteration: {:d}\\nError: {:06.4f}'.format(iteration, error), horizontalalignment='center', verticalalignment='center', transform=ax.transAxes, fontsize='x-large')\n",
    "    ax.legend(loc='upper left', fontsize='x-large')\n",
    "    plt.draw()\n",
    "    plt.pause(0.001)\n",
    "\n",
    "def main():\n",
    "    X = np.loadtxt('data/bunny_target.txt')\n",
    "    Y = np.loadtxt('data/bunny_source.txt') #synthetic data, equaivalent to X + 1\n",
    "\n",
    "    fig = plt.figure()\n",
    "    ax = fig.add_subplot(111, projection='3d')\n",
    "    callback = partial(visualize, ax=ax)\n",
    "\n",
    "    reg = rigid_registration(**{ 'X': X, 'Y': Y })\n",
    "    reg.register(callback)\n",
    "    plt.show()\n",
    "\n",
    "if __name__ == '__main__':\n",
    "    main()"
   ]
  },
  {
   "cell_type": "code",
   "execution_count": null,
   "metadata": {},
   "outputs": [],
   "source": []
  }
 ],
 "metadata": {
  "kernelspec": {
   "display_name": "datahack2",
   "language": "python",
   "name": "datahack2"
  },
  "language_info": {
   "codemirror_mode": {
    "name": "ipython",
    "version": 3
   },
   "file_extension": ".py",
   "mimetype": "text/x-python",
   "name": "python",
   "nbconvert_exporter": "python",
   "pygments_lexer": "ipython3",
   "version": "3.6.4"
  }
 },
 "nbformat": 4,
 "nbformat_minor": 2
}
