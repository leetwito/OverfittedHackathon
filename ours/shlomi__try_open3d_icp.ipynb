{
 "cells": [
  {
   "cell_type": "code",
   "execution_count": 1,
   "metadata": {},
   "outputs": [],
   "source": [
    "import pandas as pd\n",
    "import numpy as np\n",
    "\n",
    "import open3d\n",
    "# examples/Python/Tutorial/Basic/icp_registration.py\n",
    "    \n",
    "from open3d import *\n",
    "import numpy as np\n",
    "import copy"
   ]
  },
  {
   "cell_type": "code",
   "execution_count": 2,
   "metadata": {},
   "outputs": [],
   "source": [
    "path = \"voxelling_output/submission_files/check_registration/\"\n",
    "pcw1 = pd.read_csv(path+\"0000007_pointcloud.csv\", header=None)\n",
    "pcw2 = pd.read_csv(path+\"0000020_pointcloud.csv\", header=None)\n",
    "\n",
    "pcw1.iloc[:, :3].to_csv(path+\"source.xyz\", sep=\" \", header=None, index=None)\n",
    "pcw2.iloc[:, :3].to_csv(path+\"target.xyz\", sep=\" \", header=None, index=None)"
   ]
  },
  {
   "cell_type": "code",
   "execution_count": 3,
   "metadata": {},
   "outputs": [],
   "source": [
    "def draw_registration_result(source, target, transformation):\n",
    "    source_temp = copy.deepcopy(source)\n",
    "    target_temp = copy.deepcopy(target)\n",
    "    source_temp.paint_uniform_color([1, 0.706, 0])\n",
    "    target_temp.paint_uniform_color([0, 0.651, 0.929])\n",
    "    source_temp.transform(transformation)\n",
    "    draw_geometries([source_temp, target_temp])"
   ]
  },
  {
   "cell_type": "code",
   "execution_count": 4,
   "metadata": {},
   "outputs": [],
   "source": [
    "source = read_point_cloud(path+\"source.xyz\")\n",
    "target = read_point_cloud(path+\"target.xyz\")"
   ]
  },
  {
   "cell_type": "code",
   "execution_count": 5,
   "metadata": {},
   "outputs": [
    {
     "data": {
      "text/plain": [
       "PointCloud with 39281 points."
      ]
     },
     "execution_count": 5,
     "metadata": {},
     "output_type": "execute_result"
    }
   ],
   "source": [
    "source"
   ]
  },
  {
   "cell_type": "code",
   "execution_count": 6,
   "metadata": {},
   "outputs": [
    {
     "data": {
      "text/plain": [
       "array([[ 1.        ,  0.        ,  0.        , 66.46777295],\n",
       "       [ 0.        ,  1.        ,  0.        , 48.00280859],\n",
       "       [ 0.        ,  0.        ,  1.        , 63.09584695],\n",
       "       [ 0.        ,  0.        ,  0.        ,  1.        ]])"
      ]
     },
     "execution_count": 6,
     "metadata": {},
     "output_type": "execute_result"
    }
   ],
   "source": [
    "threshold = 1000000000000000000\n",
    "\n",
    "trans_init = np.eye(4)\n",
    "trans_init[:3, 3] = 100*np.random.rand(3)\n",
    "\n",
    "# trans_init = np.array([[np.cos(np.pi/8), np.sin(np.pi/8), 0., 10.],\n",
    "#                       [-np.sin(np.pi/8), np.cos(np.pi/8), 0., 20.],\n",
    "#                       [0,0,1,10],\n",
    "#                       [0,0,0,1]])\n",
    "trans_init"
   ]
  },
  {
   "cell_type": "code",
   "execution_count": 7,
   "metadata": {},
   "outputs": [],
   "source": [
    "draw_registration_result(source, target, trans_init)"
   ]
  },
  {
   "cell_type": "code",
   "execution_count": 8,
   "metadata": {},
   "outputs": [
    {
     "name": "stdout",
     "output_type": "stream",
     "text": [
      "Initial alignment\n",
      "RegistrationResult with fitness = 1.000000, inlier_rmse = 65.666740, and correspondence_set size of 39281\n",
      "Access transformation to get result.\n"
     ]
    }
   ],
   "source": [
    "print(\"Initial alignment\")\n",
    "evaluation = evaluate_registration(source, target,\n",
    "        threshold, trans_init)\n",
    "print(evaluation)"
   ]
  },
  {
   "cell_type": "code",
   "execution_count": 9,
   "metadata": {},
   "outputs": [
    {
     "name": "stdout",
     "output_type": "stream",
     "text": [
      "Apply point-to-point ICP\n",
      "RegistrationResult with fitness = 1.000000, inlier_rmse = 12.504035, and correspondence_set size of 39281\n",
      "Access transformation to get result.\n",
      "Transformation is:\n",
      "[[ 9.99999688e-01  6.36826445e-04 -4.66460284e-04  2.76984209e+00]\n",
      " [-6.36661682e-04  9.99999735e-01  3.53284431e-04  1.99644116e+00]\n",
      " [ 4.66685141e-04 -3.52987343e-04  9.99999829e-01 -1.66867856e+00]\n",
      " [ 0.00000000e+00  0.00000000e+00  0.00000000e+00  1.00000000e+00]]\n",
      "\n"
     ]
    }
   ],
   "source": [
    "print(\"Apply point-to-point ICP\")\n",
    "reg_p2p = registration_icp(source, target, threshold, trans_init,\n",
    "        TransformationEstimationPointToPoint(), )\n",
    "print(reg_p2p)\n",
    "print(\"Transformation is:\")\n",
    "print(reg_p2p.transformation)\n",
    "print(\"\")\n",
    "draw_registration_result(source, target, reg_p2p.transformation)"
   ]
  },
  {
   "cell_type": "code",
   "execution_count": 12,
   "metadata": {},
   "outputs": [
    {
     "name": "stdout",
     "output_type": "stream",
     "text": [
      "[[ 9.99999688e-01  6.36826445e-04 -4.66460284e-04  2.76984209e+00]\n",
      " [-6.36661682e-04  9.99999735e-01  3.53284431e-04  1.99644116e+00]\n",
      " [ 4.66685141e-04 -3.52987343e-04  9.99999829e-01 -1.66867856e+00]\n",
      " [ 0.00000000e+00  0.00000000e+00  0.00000000e+00  1.00000000e+00]]\n",
      "(4, 4)\n"
     ]
    }
   ],
   "source": [
    "R = reg_p2p.transformation\n",
    "print(R)\n",
    "print(R.shape)"
   ]
  },
  {
   "cell_type": "markdown",
   "metadata": {},
   "source": [
    "-------------------------------"
   ]
  },
  {
   "cell_type": "code",
   "execution_count": 35,
   "metadata": {},
   "outputs": [],
   "source": [
    "from utilities.math_utils import extract_rotation, extract_translation"
   ]
  },
  {
   "cell_type": "code",
   "execution_count": 36,
   "metadata": {
    "scrolled": true
   },
   "outputs": [
    {
     "data": {
      "text/plain": [
       "(array([-0.00035328, -0.00046646, -0.00063683]),\n",
       " array([ 2.76984209,  1.99644116, -1.66867856]))"
      ]
     },
     "execution_count": 36,
     "metadata": {},
     "output_type": "execute_result"
    }
   ],
   "source": [
    "rot = extract_rotation(R)\n",
    "trans = extract_translation(R)\n",
    "rot, trans"
   ]
  },
  {
   "cell_type": "code",
   "execution_count": null,
   "metadata": {},
   "outputs": [],
   "source": []
  },
  {
   "cell_type": "markdown",
   "metadata": {},
   "source": [
    "---------------------------------------------"
   ]
  },
  {
   "cell_type": "code",
   "execution_count": 37,
   "metadata": {},
   "outputs": [],
   "source": [
    "def rot_and_trans_mat_to_euler_3d(R):\n",
    "    # based on rotation and translation matrix defenition found here: http://planning.cs.uiuc.edu/node104.html\n",
    "    assert R[3,3]==1 and R.shape==(4,4) and R[3,1]==0\n",
    "    x_t = R[0,3]\n",
    "    y_t = R[1,3]\n",
    "    z_t = R[2,3]\n",
    "    beta = -np.arcsin(R[2,0])\n",
    "    gamma = np.arcsin(R[2,1]/np.cos(beta))\n",
    "    alpha = np.arcsin(R[1,0]/np.cos(beta))\n",
    "    return (x_t, y_t, z_t), (alpha, beta, gamma)"
   ]
  },
  {
   "cell_type": "code",
   "execution_count": 38,
   "metadata": {},
   "outputs": [],
   "source": [
    "trans, rot = rot_and_trans_mat_to_euler_3d(R)"
   ]
  },
  {
   "cell_type": "code",
   "execution_count": 39,
   "metadata": {},
   "outputs": [
    {
     "data": {
      "text/plain": [
       "((-0.0006366617942376715, -0.00046668515798245963, -0.0003529873890561033),\n",
       " (2.769842092347897, 1.9964411649030667, -1.6686785648441038))"
      ]
     },
     "execution_count": 39,
     "metadata": {},
     "output_type": "execute_result"
    }
   ],
   "source": [
    "rot, trans  ## looks like my function iz good but alpha and gamma should replace positions "
   ]
  },
  {
   "cell_type": "code",
   "execution_count": 44,
   "metadata": {},
   "outputs": [
    {
     "ename": "FileNotFoundError",
     "evalue": "File b'E:/Datasets/DataHack/Test/vid_21_estimate_egomotion0000007_egomotion.csv' does not exist",
     "output_type": "error",
     "traceback": [
      "\u001b[1;31m---------------------------------------------------------------------------\u001b[0m",
      "\u001b[1;31mFileNotFoundError\u001b[0m                         Traceback (most recent call last)",
      "\u001b[1;32m<ipython-input-44-b9b2b665ae3f>\u001b[0m in \u001b[0;36m<module>\u001b[1;34m()\u001b[0m\n\u001b[1;32m----> 1\u001b[1;33m \u001b[0mgt_ego1\u001b[0m \u001b[1;33m=\u001b[0m \u001b[0mpd\u001b[0m\u001b[1;33m.\u001b[0m\u001b[0mread_csv\u001b[0m\u001b[1;33m(\u001b[0m\u001b[0mpath\u001b[0m\u001b[1;33m+\u001b[0m\u001b[1;34m\"0000007_egomotion.csv\"\u001b[0m\u001b[1;33m)\u001b[0m\u001b[1;33m\u001b[0m\u001b[0m\n\u001b[0m\u001b[0;32m      2\u001b[0m \u001b[0mgt_ego2\u001b[0m \u001b[1;33m=\u001b[0m \u001b[0mpd\u001b[0m\u001b[1;33m.\u001b[0m\u001b[0mread_csv\u001b[0m\u001b[1;33m(\u001b[0m\u001b[0mpath\u001b[0m\u001b[1;33m+\u001b[0m\u001b[1;34m\"0000020_egomotion.csv\"\u001b[0m\u001b[1;33m)\u001b[0m\u001b[1;33m\u001b[0m\u001b[0m\n\u001b[0;32m      3\u001b[0m \u001b[0mgt_ego1\u001b[0m\u001b[1;33m-\u001b[0m\u001b[0mgt_ego2\u001b[0m\u001b[1;33m\u001b[0m\u001b[0m\n",
      "\u001b[1;32m~\\Anaconda3\\envs\\datahack\\lib\\site-packages\\pandas\\io\\parsers.py\u001b[0m in \u001b[0;36mparser_f\u001b[1;34m(filepath_or_buffer, sep, delimiter, header, names, index_col, usecols, squeeze, prefix, mangle_dupe_cols, dtype, engine, converters, true_values, false_values, skipinitialspace, skiprows, nrows, na_values, keep_default_na, na_filter, verbose, skip_blank_lines, parse_dates, infer_datetime_format, keep_date_col, date_parser, dayfirst, iterator, chunksize, compression, thousands, decimal, lineterminator, quotechar, quoting, escapechar, comment, encoding, dialect, tupleize_cols, error_bad_lines, warn_bad_lines, skipfooter, doublequote, delim_whitespace, low_memory, memory_map, float_precision)\u001b[0m\n\u001b[0;32m    676\u001b[0m                     skip_blank_lines=skip_blank_lines)\n\u001b[0;32m    677\u001b[0m \u001b[1;33m\u001b[0m\u001b[0m\n\u001b[1;32m--> 678\u001b[1;33m         \u001b[1;32mreturn\u001b[0m \u001b[0m_read\u001b[0m\u001b[1;33m(\u001b[0m\u001b[0mfilepath_or_buffer\u001b[0m\u001b[1;33m,\u001b[0m \u001b[0mkwds\u001b[0m\u001b[1;33m)\u001b[0m\u001b[1;33m\u001b[0m\u001b[0m\n\u001b[0m\u001b[0;32m    679\u001b[0m \u001b[1;33m\u001b[0m\u001b[0m\n\u001b[0;32m    680\u001b[0m     \u001b[0mparser_f\u001b[0m\u001b[1;33m.\u001b[0m\u001b[0m__name__\u001b[0m \u001b[1;33m=\u001b[0m \u001b[0mname\u001b[0m\u001b[1;33m\u001b[0m\u001b[0m\n",
      "\u001b[1;32m~\\Anaconda3\\envs\\datahack\\lib\\site-packages\\pandas\\io\\parsers.py\u001b[0m in \u001b[0;36m_read\u001b[1;34m(filepath_or_buffer, kwds)\u001b[0m\n\u001b[0;32m    438\u001b[0m \u001b[1;33m\u001b[0m\u001b[0m\n\u001b[0;32m    439\u001b[0m     \u001b[1;31m# Create the parser.\u001b[0m\u001b[1;33m\u001b[0m\u001b[1;33m\u001b[0m\u001b[0m\n\u001b[1;32m--> 440\u001b[1;33m     \u001b[0mparser\u001b[0m \u001b[1;33m=\u001b[0m \u001b[0mTextFileReader\u001b[0m\u001b[1;33m(\u001b[0m\u001b[0mfilepath_or_buffer\u001b[0m\u001b[1;33m,\u001b[0m \u001b[1;33m**\u001b[0m\u001b[0mkwds\u001b[0m\u001b[1;33m)\u001b[0m\u001b[1;33m\u001b[0m\u001b[0m\n\u001b[0m\u001b[0;32m    441\u001b[0m \u001b[1;33m\u001b[0m\u001b[0m\n\u001b[0;32m    442\u001b[0m     \u001b[1;32mif\u001b[0m \u001b[0mchunksize\u001b[0m \u001b[1;32mor\u001b[0m \u001b[0miterator\u001b[0m\u001b[1;33m:\u001b[0m\u001b[1;33m\u001b[0m\u001b[0m\n",
      "\u001b[1;32m~\\Anaconda3\\envs\\datahack\\lib\\site-packages\\pandas\\io\\parsers.py\u001b[0m in \u001b[0;36m__init__\u001b[1;34m(self, f, engine, **kwds)\u001b[0m\n\u001b[0;32m    785\u001b[0m             \u001b[0mself\u001b[0m\u001b[1;33m.\u001b[0m\u001b[0moptions\u001b[0m\u001b[1;33m[\u001b[0m\u001b[1;34m'has_index_names'\u001b[0m\u001b[1;33m]\u001b[0m \u001b[1;33m=\u001b[0m \u001b[0mkwds\u001b[0m\u001b[1;33m[\u001b[0m\u001b[1;34m'has_index_names'\u001b[0m\u001b[1;33m]\u001b[0m\u001b[1;33m\u001b[0m\u001b[0m\n\u001b[0;32m    786\u001b[0m \u001b[1;33m\u001b[0m\u001b[0m\n\u001b[1;32m--> 787\u001b[1;33m         \u001b[0mself\u001b[0m\u001b[1;33m.\u001b[0m\u001b[0m_make_engine\u001b[0m\u001b[1;33m(\u001b[0m\u001b[0mself\u001b[0m\u001b[1;33m.\u001b[0m\u001b[0mengine\u001b[0m\u001b[1;33m)\u001b[0m\u001b[1;33m\u001b[0m\u001b[0m\n\u001b[0m\u001b[0;32m    788\u001b[0m \u001b[1;33m\u001b[0m\u001b[0m\n\u001b[0;32m    789\u001b[0m     \u001b[1;32mdef\u001b[0m \u001b[0mclose\u001b[0m\u001b[1;33m(\u001b[0m\u001b[0mself\u001b[0m\u001b[1;33m)\u001b[0m\u001b[1;33m:\u001b[0m\u001b[1;33m\u001b[0m\u001b[0m\n",
      "\u001b[1;32m~\\Anaconda3\\envs\\datahack\\lib\\site-packages\\pandas\\io\\parsers.py\u001b[0m in \u001b[0;36m_make_engine\u001b[1;34m(self, engine)\u001b[0m\n\u001b[0;32m   1012\u001b[0m     \u001b[1;32mdef\u001b[0m \u001b[0m_make_engine\u001b[0m\u001b[1;33m(\u001b[0m\u001b[0mself\u001b[0m\u001b[1;33m,\u001b[0m \u001b[0mengine\u001b[0m\u001b[1;33m=\u001b[0m\u001b[1;34m'c'\u001b[0m\u001b[1;33m)\u001b[0m\u001b[1;33m:\u001b[0m\u001b[1;33m\u001b[0m\u001b[0m\n\u001b[0;32m   1013\u001b[0m         \u001b[1;32mif\u001b[0m \u001b[0mengine\u001b[0m \u001b[1;33m==\u001b[0m \u001b[1;34m'c'\u001b[0m\u001b[1;33m:\u001b[0m\u001b[1;33m\u001b[0m\u001b[0m\n\u001b[1;32m-> 1014\u001b[1;33m             \u001b[0mself\u001b[0m\u001b[1;33m.\u001b[0m\u001b[0m_engine\u001b[0m \u001b[1;33m=\u001b[0m \u001b[0mCParserWrapper\u001b[0m\u001b[1;33m(\u001b[0m\u001b[0mself\u001b[0m\u001b[1;33m.\u001b[0m\u001b[0mf\u001b[0m\u001b[1;33m,\u001b[0m \u001b[1;33m**\u001b[0m\u001b[0mself\u001b[0m\u001b[1;33m.\u001b[0m\u001b[0moptions\u001b[0m\u001b[1;33m)\u001b[0m\u001b[1;33m\u001b[0m\u001b[0m\n\u001b[0m\u001b[0;32m   1015\u001b[0m         \u001b[1;32melse\u001b[0m\u001b[1;33m:\u001b[0m\u001b[1;33m\u001b[0m\u001b[0m\n\u001b[0;32m   1016\u001b[0m             \u001b[1;32mif\u001b[0m \u001b[0mengine\u001b[0m \u001b[1;33m==\u001b[0m \u001b[1;34m'python'\u001b[0m\u001b[1;33m:\u001b[0m\u001b[1;33m\u001b[0m\u001b[0m\n",
      "\u001b[1;32m~\\Anaconda3\\envs\\datahack\\lib\\site-packages\\pandas\\io\\parsers.py\u001b[0m in \u001b[0;36m__init__\u001b[1;34m(self, src, **kwds)\u001b[0m\n\u001b[0;32m   1706\u001b[0m         \u001b[0mkwds\u001b[0m\u001b[1;33m[\u001b[0m\u001b[1;34m'usecols'\u001b[0m\u001b[1;33m]\u001b[0m \u001b[1;33m=\u001b[0m \u001b[0mself\u001b[0m\u001b[1;33m.\u001b[0m\u001b[0musecols\u001b[0m\u001b[1;33m\u001b[0m\u001b[0m\n\u001b[0;32m   1707\u001b[0m \u001b[1;33m\u001b[0m\u001b[0m\n\u001b[1;32m-> 1708\u001b[1;33m         \u001b[0mself\u001b[0m\u001b[1;33m.\u001b[0m\u001b[0m_reader\u001b[0m \u001b[1;33m=\u001b[0m \u001b[0mparsers\u001b[0m\u001b[1;33m.\u001b[0m\u001b[0mTextReader\u001b[0m\u001b[1;33m(\u001b[0m\u001b[0msrc\u001b[0m\u001b[1;33m,\u001b[0m \u001b[1;33m**\u001b[0m\u001b[0mkwds\u001b[0m\u001b[1;33m)\u001b[0m\u001b[1;33m\u001b[0m\u001b[0m\n\u001b[0m\u001b[0;32m   1709\u001b[0m \u001b[1;33m\u001b[0m\u001b[0m\n\u001b[0;32m   1710\u001b[0m         \u001b[0mpassed_names\u001b[0m \u001b[1;33m=\u001b[0m \u001b[0mself\u001b[0m\u001b[1;33m.\u001b[0m\u001b[0mnames\u001b[0m \u001b[1;32mis\u001b[0m \u001b[1;32mNone\u001b[0m\u001b[1;33m\u001b[0m\u001b[0m\n",
      "\u001b[1;32mpandas/_libs/parsers.pyx\u001b[0m in \u001b[0;36mpandas._libs.parsers.TextReader.__cinit__\u001b[1;34m()\u001b[0m\n",
      "\u001b[1;32mpandas/_libs/parsers.pyx\u001b[0m in \u001b[0;36mpandas._libs.parsers.TextReader._setup_parser_source\u001b[1;34m()\u001b[0m\n",
      "\u001b[1;31mFileNotFoundError\u001b[0m: File b'E:/Datasets/DataHack/Test/vid_21_estimate_egomotion0000007_egomotion.csv' does not exist"
     ]
    }
   ],
   "source": [
    "gt_ego1 = pd.read_csv(path+\"0000007_egomotion.csv\", header=None)\n",
    "gt_ego2 = pd.read_csv(path+\"0000020_egomotion.csv\", header=None)\n",
    "gt_ego1-gt_ego2"
   ]
  },
  {
   "cell_type": "markdown",
   "metadata": {},
   "source": [
    "----------------------------------------"
   ]
  },
  {
   "cell_type": "code",
   "execution_count": 1,
   "metadata": {},
   "outputs": [
    {
     "name": "stdout",
     "output_type": "stream",
     "text": [
      "     0    1    2    3    4    5\n",
      "0  0.0  0.0  0.0  0.0  0.0  0.0\n",
      "Apply point-to-point ICP to: \n",
      "E:/Datasets/DataHack/Test/vid_21_estimate_egomotion\\0004001.xyz\n",
      "RegistrationResult with fitness = 1.000000, inlier_rmse = 15.988768, and correspondence_set size of 42987\n",
      "Access transformation to get result.\n",
      "Transformation is:\n",
      "[[ 9.99999135e-01 -2.75520351e-04 -1.28624412e-03 -3.03663132e+01]\n",
      " [ 2.71755601e-04  9.99995682e-01 -2.92619011e-03 -9.76622793e-01]\n",
      " [ 1.28704479e-03  2.92583804e-03  9.99994891e-01 -3.65200122e-01]\n",
      " [ 0.00000000e+00  0.00000000e+00  0.00000000e+00  1.00000000e+00]]\n",
      "          0         1         2          3         4       5\n",
      "0  0.002926 -0.001286  0.000276 -30.366313 -0.976623 -0.3652\n",
      "\n",
      "Apply point-to-point ICP to: \n",
      "E:/Datasets/DataHack/Test/vid_21_estimate_egomotion\\0004002.xyz\n",
      "RegistrationResult with fitness = 1.000000, inlier_rmse = 14.797363, and correspondence_set size of 43151\n",
      "Access transformation to get result.\n",
      "Transformation is:\n",
      "[[ 9.99999050e-01 -2.63850860e-04 -1.35263666e-03 -2.90003853e+01]\n",
      " [ 2.59780237e-04  9.99995440e-01 -3.00869160e-03 -9.43838161e-01]\n",
      " [ 1.35342433e-03  3.00833735e-03  9.99994559e-01 -8.95077585e-01]\n",
      " [ 0.00000000e+00  0.00000000e+00  0.00000000e+00  1.00000000e+00]]\n",
      "          0         1         2          3         4         5\n",
      "0  0.005935 -0.002638  0.000543 -59.365918 -1.927246 -1.304312\n",
      "\n",
      "Apply point-to-point ICP to: \n",
      "E:/Datasets/DataHack/Test/vid_21_estimate_egomotion\\0004003.xyz\n",
      "RegistrationResult with fitness = 1.000000, inlier_rmse = 21.396866, and correspondence_set size of 43258\n",
      "Access transformation to get result.\n",
      "Transformation is:\n",
      "[[ 9.99999217e-01 -1.07213664e-04 -1.24658859e-03 -2.55485056e+01]\n",
      " [ 1.03723830e-04  9.99996077e-01 -2.79923549e-03 -3.46933293e-01]\n",
      " [ 1.24688381e-03  2.79910400e-03  9.99995305e-01 -1.17564789e+00]\n",
      " [ 0.00000000e+00  0.00000000e+00  0.00000000e+00  1.00000000e+00]]\n",
      "          0         1         2          3         4         5\n",
      "0  0.008735 -0.003884  0.000658 -84.912545 -2.276679 -2.559371\n",
      "\n",
      "Apply point-to-point ICP to: \n",
      "E:/Datasets/DataHack/Test/vid_21_estimate_egomotion\\0004004.xyz\n"
     ]
    },
    {
     "ename": "KeyboardInterrupt",
     "evalue": "",
     "output_type": "error",
     "traceback": [
      "\u001b[1;31m---------------------------------------------------------------------------\u001b[0m",
      "\u001b[1;31mKeyboardInterrupt\u001b[0m                         Traceback (most recent call last)",
      "\u001b[1;32m<ipython-input-1-fec96c3f46d5>\u001b[0m in \u001b[0;36m<module>\u001b[1;34m()\u001b[0m\n\u001b[0;32m     29\u001b[0m     \u001b[0mprint\u001b[0m\u001b[1;33m(\u001b[0m\u001b[1;34m\"Apply point-to-point ICP to: \\n{}\"\u001b[0m\u001b[1;33m.\u001b[0m\u001b[0mformat\u001b[0m\u001b[1;33m(\u001b[0m\u001b[0mxyz_path\u001b[0m\u001b[1;33m)\u001b[0m\u001b[1;33m)\u001b[0m\u001b[1;33m\u001b[0m\u001b[0m\n\u001b[0;32m     30\u001b[0m     reg_p2p = open3d.registration_icp(pc_prev, pc_cur, threshold, trans_init,\n\u001b[1;32m---> 31\u001b[1;33m             open3d.TransformationEstimationPointToPoint(), )\n\u001b[0m\u001b[0;32m     32\u001b[0m     \u001b[0mprint\u001b[0m\u001b[1;33m(\u001b[0m\u001b[0mreg_p2p\u001b[0m\u001b[1;33m)\u001b[0m\u001b[1;33m\u001b[0m\u001b[0m\n\u001b[0;32m     33\u001b[0m     \u001b[0mprint\u001b[0m\u001b[1;33m(\u001b[0m\u001b[1;34m\"Transformation is:\"\u001b[0m\u001b[1;33m)\u001b[0m\u001b[1;33m\u001b[0m\u001b[0m\n",
      "\u001b[1;31mKeyboardInterrupt\u001b[0m: "
     ]
    }
   ],
   "source": [
    "from glob import glob\n",
    "import os\n",
    "import open3d\n",
    "from utilities.math_utils import extract_rotation, extract_translation\n",
    "import numpy as np\n",
    "import pandas as pd\n",
    "\n",
    "path = \"E:/Datasets/DataHack/Test/vid_21_estimate_egomotion\"\n",
    "trans_init = np.eye(4)\n",
    "trans_init[:3, 3] = 100*np.random.rand(3)\n",
    "threshold = 10000\n",
    "\n",
    "pc_paths = glob(path+'/*pointcloud.csv')\n",
    "xyz_paths = [i.replace('_pointcloud.csv', '.xyz') for i in pc_paths]\n",
    "\n",
    "if not os.path.exists(xyz_paths[0]):\n",
    "    for idx in range(len(pc_paths)):\n",
    "        pc = pd.read_csv(pc_paths[idx], header=None)\n",
    "        pc.iloc[:, :3].to_csv(xyz_path[idx], sep=\" \", header=None, index=None)\n",
    "\n",
    "pc_prev = open3d.read_point_cloud(xyz_paths[0])\n",
    "R_prev = np.eye(4)\n",
    "cur_ego = pd.DataFrame(np.zeros((1,6)), dtype=np.float)\n",
    "print(cur_ego)\n",
    "\n",
    "for xyz_path in xyz_paths[1:]:\n",
    "    pc_cur = open3d.read_point_cloud(xyz_path)\n",
    "    evaluation = open3d.evaluate_registration(pc_prev, pc_cur, threshold, trans_init)\n",
    "    print(\"Apply point-to-point ICP to: \\n{}\".format(xyz_path))\n",
    "    reg_p2p = open3d.registration_icp(pc_prev, pc_cur, threshold, trans_init,\n",
    "            open3d.TransformationEstimationPointToPoint(), )\n",
    "    print(reg_p2p)\n",
    "    print(\"Transformation is:\")\n",
    "    R_cur = reg_p2p.transformation\n",
    "    print(R_cur)\n",
    "    R = np.matmul(R_cur, R_prev)\n",
    "    rot = extract_rotation(R)\n",
    "    trans = extract_translation(R)\n",
    "    cur_ego.at[0, :2] = rot\n",
    "    cur_ego.at[0, 3:] = trans\n",
    "    print(cur_ego)\n",
    "    print(\"\")    \n",
    "    \n",
    "    cur_ego.iloc[0, :].T.to_csv(xyz_path.replace('.xyz', '_egomotion.csv'), sep=\" \", header=None, index=None)\n",
    "    R_prev = R\n",
    "    pc_prev = pc_cur\n"
   ]
  },
  {
   "cell_type": "markdown",
   "metadata": {},
   "source": [
    "-----------------------------"
   ]
  },
  {
   "cell_type": "code",
   "execution_count": null,
   "metadata": {},
   "outputs": [],
   "source": [
    "\n",
    "from functools import partial\n",
    "import matplotlib.pyplot as plt\n",
    "from mpl_toolkits.mplot3d import Axes3D\n",
    "from pycpd import rigid_registration\n",
    "import numpy as np\n",
    "import time\n",
    "\n",
    "def visualize(iteration, error, X, Y, ax):\n",
    "    plt.cla()\n",
    "    ax.scatter(X[:,0],  X[:,1], X[:,2], color='red', label='Target')\n",
    "    ax.scatter(Y[:,0],  Y[:,1], Y[:,2], color='blue', label='Source')\n",
    "    ax.text2D(0.87, 0.92, 'Iteration: {:d}\\nError: {:06.4f}'.format(iteration, error), horizontalalignment='center', verticalalignment='center', transform=ax.transAxes, fontsize='x-large')\n",
    "    ax.legend(loc='upper left', fontsize='x-large')\n",
    "    plt.draw()\n",
    "    plt.pause(0.001)\n",
    "\n",
    "def main():\n",
    "    X = np.loadtxt('data/bunny_target.txt')\n",
    "    Y = np.loadtxt('data/bunny_source.txt') #synthetic data, equaivalent to X + 1\n",
    "\n",
    "    fig = plt.figure()\n",
    "    ax = fig.add_subplot(111, projection='3d')\n",
    "    callback = partial(visualize, ax=ax)\n",
    "\n",
    "    reg = rigid_registration(**{ 'X': X, 'Y': Y })\n",
    "    reg.register(callback)\n",
    "    plt.show()\n",
    "\n",
    "if __name__ == '__main__':\n",
    "    main()"
   ]
  }
 ],
 "metadata": {
  "kernelspec": {
   "display_name": "datahack",
   "language": "python",
   "name": "datahack"
  },
  "language_info": {
   "codemirror_mode": {
    "name": "ipython",
    "version": 3
   },
   "file_extension": ".py",
   "mimetype": "text/x-python",
   "name": "python",
   "nbconvert_exporter": "python",
   "pygments_lexer": "ipython3",
   "version": "3.6.6"
  }
 },
 "nbformat": 4,
 "nbformat_minor": 2
}
