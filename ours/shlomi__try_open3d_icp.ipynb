{
 "cells": [
  {
   "cell_type": "code",
   "execution_count": 29,
   "metadata": {},
   "outputs": [],
   "source": [
    "import pandas as pd\n",
    "import numpy as np\n",
    "\n",
    "import open3d\n",
    "# examples/Python/Tutorial/Basic/icp_registration.py\n",
    "    \n",
    "from open3d import *\n",
    "import numpy as np\n",
    "import copy"
   ]
  },
  {
   "cell_type": "code",
   "execution_count": 39,
   "metadata": {},
   "outputs": [],
   "source": [
    "path = \"C:/Users/shlomi/Documents/Work/OverfittedHackathon_data/voxelling_output/Test/vid_21/\"\n",
    "pcw1 = pd.read_csv(path+\"0000107_pointcloud.csv\", header=None)\n",
    "pcw2 = pd.read_csv(path+\"0000120_pointcloud.csv\", header=None)\n",
    "\n",
    "pcw1 = pcw1[(pcw1[0]>1500)&(pcw1[2]>50)]\n",
    "pcw2 = pcw2[(pcw2[0]>1500)&(pcw2[2]>50)]\n",
    "\n",
    "pcw1.iloc[:, :3].to_csv(path+\"source.xyz\", sep=\" \", header=None, index=None)\n",
    "pcw2.iloc[:, :3].to_csv(path+\"target.xyz\", sep=\" \", header=None, index=None)"
   ]
  },
  {
   "cell_type": "code",
   "execution_count": 40,
   "metadata": {},
   "outputs": [],
   "source": [
    "def draw_registration_result(source, target, transformation):\n",
    "    source_temp = copy.deepcopy(source)\n",
    "    target_temp = copy.deepcopy(target)\n",
    "    source_temp.paint_uniform_color([1, 0.706, 0])\n",
    "    target_temp.paint_uniform_color([0, 0.651, 0.929])\n",
    "    source_temp.transform(transformation)\n",
    "    draw_geometries([source_temp, target_temp])"
   ]
  },
  {
   "cell_type": "code",
   "execution_count": 41,
   "metadata": {},
   "outputs": [],
   "source": [
    "source = read_point_cloud(path+\"source.xyz\")\n",
    "target = read_point_cloud(path+\"target.xyz\")"
   ]
  },
  {
   "cell_type": "code",
   "execution_count": 42,
   "metadata": {},
   "outputs": [
    {
     "data": {
      "text/plain": [
       "PointCloud with 19508 points."
      ]
     },
     "execution_count": 42,
     "metadata": {},
     "output_type": "execute_result"
    }
   ],
   "source": [
    "source"
   ]
  },
  {
   "cell_type": "code",
   "execution_count": 51,
   "metadata": {},
   "outputs": [
    {
     "data": {
      "text/plain": [
       "array([[1., 0., 0., 0.],\n",
       "       [0., 1., 0., 0.],\n",
       "       [0., 0., 1., 0.],\n",
       "       [0., 0., 0., 1.]])"
      ]
     },
     "execution_count": 51,
     "metadata": {},
     "output_type": "execute_result"
    }
   ],
   "source": [
    "threshold = 100000000000000000000000\n",
    "\n",
    "trans_init = np.eye(4)\n",
    "trans_init[:3, 3] = [0,0,0]\n",
    "\n",
    "# trans_init = np.array([[np.cos(np.pi/8), np.sin(np.pi/8), 0., 10.],\n",
    "#                       [-np.sin(np.pi/8), np.cos(np.pi/8), 0., 20.],\n",
    "#                       [0,0,1,10],\n",
    "#                       [0,0,0,1]])\n",
    "trans_init"
   ]
  },
  {
   "cell_type": "code",
   "execution_count": 52,
   "metadata": {},
   "outputs": [],
   "source": [
    "draw_registration_result(source, target, trans_init)"
   ]
  },
  {
   "cell_type": "code",
   "execution_count": 53,
   "metadata": {},
   "outputs": [
    {
     "name": "stdout",
     "output_type": "stream",
     "text": [
      "Initial alignment\n",
      "RegistrationResult with fitness = 1.000000, inlier_rmse = 307.137061, and correspondence_set size of 19508\n",
      "Access transformation to get result.\n"
     ]
    }
   ],
   "source": [
    "print(\"Initial alignment\")\n",
    "evaluation = evaluate_registration(source, target,\n",
    "        threshold, trans_init)\n",
    "print(evaluation)"
   ]
  },
  {
   "cell_type": "code",
   "execution_count": 54,
   "metadata": {},
   "outputs": [
    {
     "name": "stdout",
     "output_type": "stream",
     "text": [
      "Apply point-to-point ICP\n",
      "RegistrationResult with fitness = 1.000000, inlier_rmse = 158.147127, and correspondence_set size of 19508\n",
      "Access transformation to get result.\n",
      "Transformation is:\n",
      "[[ 9.98984103e-01  4.25343088e-02  1.48860603e-02 -3.71605809e+02]\n",
      " [-4.23102253e-02  9.98991045e-01 -1.50577844e-02 -3.22854756e+01]\n",
      " [-1.55115134e-02  1.44126547e-02  9.99775809e-01  6.41901853e+01]\n",
      " [ 0.00000000e+00  0.00000000e+00  0.00000000e+00  1.00000000e+00]]\n",
      "\n"
     ]
    }
   ],
   "source": [
    "print(\"Apply point-to-point ICP\")\n",
    "reg_p2p = registration_icp(source, target, threshold, trans_init,\n",
    "        TransformationEstimationPointToPoint(), )\n",
    "print(reg_p2p)\n",
    "print(\"Transformation is:\")\n",
    "print(reg_p2p.transformation)\n",
    "print(\"\")\n",
    "draw_registration_result(source, target, reg_p2p.transformation)"
   ]
  },
  {
   "cell_type": "code",
   "execution_count": null,
   "metadata": {},
   "outputs": [],
   "source": [
    "R = reg_p2p.transformation\n",
    "print(R)\n",
    "print(R.shape)"
   ]
  },
  {
   "cell_type": "markdown",
   "metadata": {},
   "source": [
    "-------------------------------"
   ]
  },
  {
   "cell_type": "code",
   "execution_count": null,
   "metadata": {},
   "outputs": [],
   "source": [
    "from utilities.math_utils import extract_rotation, extract_translation"
   ]
  },
  {
   "cell_type": "code",
   "execution_count": null,
   "metadata": {
    "scrolled": true
   },
   "outputs": [],
   "source": [
    "rot = extract_rotation(R)\n",
    "trans = extract_translation(R)\n",
    "rot, trans"
   ]
  },
  {
   "cell_type": "code",
   "execution_count": null,
   "metadata": {},
   "outputs": [],
   "source": []
  },
  {
   "cell_type": "markdown",
   "metadata": {},
   "source": [
    "---------------------------------------------"
   ]
  },
  {
   "cell_type": "code",
   "execution_count": null,
   "metadata": {},
   "outputs": [],
   "source": [
    "def rot_and_trans_mat_to_euler_3d(R):\n",
    "    # based on rotation and translation matrix defenition found here: http://planning.cs.uiuc.edu/node104.html\n",
    "    assert R[3,3]==1 and R.shape==(4,4) and R[3,1]==0\n",
    "    x_t = R[0,3]\n",
    "    y_t = R[1,3]\n",
    "    z_t = R[2,3]\n",
    "    beta = -np.arcsin(R[2,0])\n",
    "    gamma = np.arcsin(R[2,1]/np.cos(beta))\n",
    "    alpha = np.arcsin(R[1,0]/np.cos(beta))\n",
    "    return (x_t, y_t, z_t), (alpha, beta, gamma)"
   ]
  },
  {
   "cell_type": "code",
   "execution_count": null,
   "metadata": {},
   "outputs": [],
   "source": [
    "trans, rot = rot_and_trans_mat_to_euler_3d(R)"
   ]
  },
  {
   "cell_type": "code",
   "execution_count": null,
   "metadata": {},
   "outputs": [],
   "source": [
    "rot, trans  ## looks like my function iz good but alpha and gamma should replace positions "
   ]
  },
  {
   "cell_type": "code",
   "execution_count": null,
   "metadata": {},
   "outputs": [],
   "source": [
    "gt_ego1 = pd.read_csv(path+\"0000007_egomotion.csv\", header=None)\n",
    "gt_ego2 = pd.read_csv(path+\"0000020_egomotion.csv\", header=None)\n",
    "gt_ego1-gt_ego2"
   ]
  },
  {
   "cell_type": "markdown",
   "metadata": {},
   "source": [
    "----------------------------------------"
   ]
  },
  {
   "cell_type": "code",
   "execution_count": null,
   "metadata": {},
   "outputs": [],
   "source": [
    "from glob import glob\n",
    "import os\n",
    "import open3d\n",
    "from utilities.math_utils import extract_rotation, extract_translation\n",
    "import numpy as np\n",
    "import pandas as pd\n",
    "\n",
    "path = \"E:/Datasets/DataHack/Test/vid_21_estimate_egomotion\"\n",
    "trans_init = np.eye(4)\n",
    "trans_init[:3, 3] = 100*np.random.rand(3)\n",
    "threshold = 10000\n",
    "\n",
    "pc_paths = glob(path+'/*pointcloud.csv')\n",
    "xyz_paths = [i.replace('_pointcloud.csv', '.xyz') for i in pc_paths]\n",
    "\n",
    "if not os.path.exists(xyz_paths[0]):\n",
    "    for idx in range(len(pc_paths)):\n",
    "        pc = pd.read_csv(pc_paths[idx], header=None)\n",
    "        pc.iloc[:, :3].to_csv(xyz_path[idx], sep=\" \", header=None, index=None)\n",
    "\n",
    "pc_prev = open3d.read_point_cloud(xyz_paths[0])\n",
    "R_prev = np.eye(4)\n",
    "cur_ego = pd.DataFrame(np.zeros((1,6)), dtype=np.float)\n",
    "print(cur_ego)\n",
    "\n",
    "for xyz_path in xyz_paths[1:]:\n",
    "    pc_cur = open3d.read_point_cloud(xyz_path)\n",
    "    evaluation = open3d.evaluate_registration(pc_prev, pc_cur, threshold, trans_init)\n",
    "    print(\"Apply point-to-point ICP to: \\n{}\".format(xyz_path))\n",
    "    reg_p2p = open3d.registration_icp(pc_prev, pc_cur, threshold, trans_init,\n",
    "            open3d.TransformationEstimationPointToPoint(), )\n",
    "    print(reg_p2p)\n",
    "    print(\"Transformation is:\")\n",
    "    R_cur = reg_p2p.transformation\n",
    "    print(R_cur)\n",
    "    R = np.matmul(R_cur, R_prev)\n",
    "    rot = extract_rotation(R)\n",
    "    trans = extract_translation(R)\n",
    "    cur_ego.at[0, :2] = rot\n",
    "    cur_ego.at[0, 3:] = trans\n",
    "    print(cur_ego)\n",
    "    print(\"\")    \n",
    "    \n",
    "    cur_ego.iloc[0, :].T.to_csv(xyz_path.replace('.xyz', '_egomotion.csv'), sep=\" \", header=None, index=None)\n",
    "    R_prev = R\n",
    "    pc_prev = pc_cur\n"
   ]
  },
  {
   "cell_type": "markdown",
   "metadata": {},
   "source": [
    "-----------------------------"
   ]
  },
  {
   "cell_type": "code",
   "execution_count": null,
   "metadata": {},
   "outputs": [],
   "source": [
    "\n",
    "from functools import partial\n",
    "import matplotlib.pyplot as plt\n",
    "from mpl_toolkits.mplot3d import Axes3D\n",
    "from pycpd import rigid_registration\n",
    "import numpy as np\n",
    "import time\n",
    "\n",
    "def visualize(iteration, error, X, Y, ax):\n",
    "    plt.cla()\n",
    "    ax.scatter(X[:,0],  X[:,1], X[:,2], color='red', label='Target')\n",
    "    ax.scatter(Y[:,0],  Y[:,1], Y[:,2], color='blue', label='Source')\n",
    "    ax.text2D(0.87, 0.92, 'Iteration: {:d}\\nError: {:06.4f}'.format(iteration, error), horizontalalignment='center', verticalalignment='center', transform=ax.transAxes, fontsize='x-large')\n",
    "    ax.legend(loc='upper left', fontsize='x-large')\n",
    "    plt.draw()\n",
    "    plt.pause(0.001)\n",
    "\n",
    "def main():\n",
    "    X = np.loadtxt('data/bunny_target.txt')\n",
    "    Y = np.loadtxt('data/bunny_source.txt') #synthetic data, equaivalent to X + 1\n",
    "\n",
    "    fig = plt.figure()\n",
    "    ax = fig.add_subplot(111, projection='3d')\n",
    "    callback = partial(visualize, ax=ax)\n",
    "\n",
    "    reg = rigid_registration(**{ 'X': X, 'Y': Y })\n",
    "    reg.register(callback)\n",
    "    plt.show()\n",
    "\n",
    "if __name__ == '__main__':\n",
    "    main()"
   ]
  }
 ],
 "metadata": {
  "kernelspec": {
   "display_name": "datahack2",
   "language": "python",
   "name": "datahack2"
  },
  "language_info": {
   "codemirror_mode": {
    "name": "ipython",
    "version": 3
   },
   "file_extension": ".py",
   "mimetype": "text/x-python",
   "name": "python",
   "nbconvert_exporter": "python",
   "pygments_lexer": "ipython3",
   "version": "3.6.4"
  }
 },
 "nbformat": 4,
 "nbformat_minor": 2
}
