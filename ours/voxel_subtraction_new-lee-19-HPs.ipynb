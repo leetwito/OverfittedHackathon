{
 "cells": [
  {
   "cell_type": "code",
   "execution_count": 1,
   "metadata": {},
   "outputs": [],
   "source": [
    "import pandas as pd\n",
    "import numpy as np\n",
    "import os\n",
    "from time import time\n",
    "from tqdm import tqdm\n",
    "from utilities.math_utils import RotationTranslationData\n",
    "from utilities import data_utils\n",
    "from glob import glob\n",
    "import pickle\n",
    "\n",
    "from time import time\n",
    "%matplotlib inline"
   ]
  },
  {
   "cell_type": "markdown",
   "metadata": {},
   "source": [
    "#### Params and Paths:"
   ]
  },
  {
   "cell_type": "code",
   "execution_count": 2,
   "metadata": {},
   "outputs": [],
   "source": [
    "const_n_frames_per_side=100\n",
    "const_shift=150\n",
    "\n",
    "rot_n_frames_per_side=8\n",
    "rot_shift=5\n",
    "\n",
    "voxel_size=20\n",
    "voting_scene_frac_to_drop = 0.3"
   ]
  },
  {
   "cell_type": "code",
   "execution_count": 3,
   "metadata": {},
   "outputs": [],
   "source": [
    "base_dir = \"C:/Users\\shlomi\\Documents\\Work\\OverfittedHackathon\\ours/voxelling_output\\Test_world_2/vid_19/\"\n",
    "pickles_path = \"voxelling_output/\"\n",
    "orig_files_path = \"C:/Users\\shlomi\\Documents\\Work\\OverfittedHackathon/ours/voxelling_output/Test/vid_19/\"\n",
    "labels_path = \"voxelling_output/submission_files/test_vid_19_pred__final/\"\n",
    "# labels_path = \"voxelling_output/submission_files/checks/\""
   ]
  },
  {
   "cell_type": "markdown",
   "metadata": {},
   "source": [
    "-----------------------------"
   ]
  },
  {
   "cell_type": "code",
   "execution_count": 4,
   "metadata": {},
   "outputs": [],
   "source": [
    "def add_grid_and_hash(df, voxel_size):\n",
    "    \"\"\" \n",
    "    add grid and hash to each point of a given point cloud\n",
    "    \"\"\"\n",
    "    df_grid = df.iloc[:,:3]//voxel_size\n",
    "    df_grid.iloc[:, :3] = df_grid.iloc[:, :3]*voxel_size + voxel_size//2\n",
    "    df_grid['voxel_id'] = df_grid.apply(lambda x: hash((x[0], x[1], x[2])), axis=1)\n",
    "    df_grid = pd.concat([df, df_grid], axis=1)\n",
    "    df_grid.columns = ['x', 'y', 'z', 'r', 'x_grid', 'y_grid', 'z_grid', 'voxel_id']\n",
    "    return df_grid"
   ]
  },
  {
   "cell_type": "code",
   "execution_count": 5,
   "metadata": {},
   "outputs": [],
   "source": [
    "all_files = glob(base_dir+\"/*point*\")"
   ]
  },
  {
   "cell_type": "code",
   "execution_count": 6,
   "metadata": {},
   "outputs": [],
   "source": [
    "vid = base_dir.split(\"/\")[-2]"
   ]
  },
  {
   "cell_type": "code",
   "execution_count": 7,
   "metadata": {},
   "outputs": [],
   "source": [
    "def create_list_dfs_voxel_scene(base_dir, voxel_size, upto=None):\n",
    "    global all_files\n",
    "    list_df_voxel_scene = []\n",
    "#     all_files = glob(base_dir+\"/*point*\")\n",
    "    if upto is not None:\n",
    "        all_files = all_files[:upto]\n",
    "    \n",
    "    for f in tqdm(all_files):\n",
    "        list_df_voxel_scene.append( add_grid_and_hash(pd.read_csv(f, header=None), voxel_size))\n",
    "    list_df_voxel_scene = pd.Series(list_df_voxel_scene).values\n",
    "    return list_df_voxel_scene"
   ]
  },
  {
   "cell_type": "code",
   "execution_count": 8,
   "metadata": {},
   "outputs": [],
   "source": [
    "list_df_file = pickles_path+\"list_df_voxel_scene__%s__voxel_size_%d.p\"%(vid, voxel_size)\n",
    "\n",
    "if os.path.exists(list_df_file):\n",
    "    list_df_voxel_scene = pickle.load(open(list_df_file, \"rb\"))\n",
    "else:\n",
    "    list_df_voxel_scene = create_list_dfs_voxel_scene(base_dir, voxel_size, upto=None)\n",
    "    pickle.dump(list_df_voxel_scene, open(pickles_path+\"list_df_voxel_scene__%s__voxel_size_%d.p\"%(vid, voxel_size), \"wb\"))"
   ]
  },
  {
   "cell_type": "markdown",
   "metadata": {},
   "source": [
    "----------------------"
   ]
  },
  {
   "cell_type": "code",
   "execution_count": 9,
   "metadata": {},
   "outputs": [],
   "source": [
    "def get_list_idx_for_frame(frame_idx, n_frames_per_side, shift):\n",
    "    list_idx = np.array(list(np.arange(frame_idx-shift-n_frames_per_side,frame_idx-shift)) + list(np.arange(frame_idx+shift+1,frame_idx+shift+n_frames_per_side+1)))\n",
    "    list_idx = [i for i in list_idx if i>=0 and i<=list_df_voxel_scene.shape[0]]\n",
    "    return list_idx"
   ]
  },
  {
   "cell_type": "code",
   "execution_count": 10,
   "metadata": {},
   "outputs": [],
   "source": [
    "def create_scene_voxel_df(list_df_voxel_scene, list_idx, frac_to_drop=0.5):\n",
    "#     print(list_idx)\n",
    "    list_df_voxel_scene_for_frame = list_df_voxel_scene[list_idx]\n",
    "    df_scene = pd.concat(list_df_voxel_scene_for_frame)#.drop_duplicates(\"voxel_id\")\n",
    "#     print(df_scene)\n",
    "#     df_scene.keys()\n",
    "#     df_scene.groupby([\"x_grid\", \"y_grid\", \"z_grid\"]).value_counts()\n",
    "    dfff = df_scene.groupby([\"x_grid\", \"y_grid\", \"z_grid\"]).apply(len).reset_index(drop=False)\n",
    "\n",
    "    dfff = dfff[dfff[0]>frac_to_drop*len(list_idx)]\n",
    "    dfff[\"v_index\"] = dfff.iloc[:, :3].apply(lambda x: hash((x.iloc[0], x.iloc[1], x.iloc[2])), axis=1)\n",
    "#     print(df_scene.shape)\n",
    "    df_scene.drop_duplicates([\"x_grid\", \"y_grid\", \"z_grid\"], inplace=True)\n",
    "#     print(df_scene.shape)\n",
    "    df_scene = df_scene[df_scene.voxel_id.isin(dfff.v_index)]\n",
    "#     print(df_scene.shape)\n",
    "    \n",
    "    return df_scene"
   ]
  },
  {
   "cell_type": "code",
   "execution_count": 11,
   "metadata": {},
   "outputs": [],
   "source": [
    "def get_df_voxel_subtracted_frame(list_df_voxel_scene, frame_idx, n_frames_per_side, shift):\n",
    "    \n",
    "    list_idx_uf = get_list_idx_for_frame(frame_idx, n_frames_per_side, shift)\n",
    "#     print ('--get_df_voxel_sub--\\nlist idx_uf: {}\\nlist_idx   :{}\\n-------'.format(list_idx_uf, list_idx))\n",
    "    df_voxel_scene = create_scene_voxel_df(list_df_voxel_scene, list_idx, frac_to_drop=voting_scene_frac_to_drop)\n",
    "    df_voxel_frame = create_scene_voxel_df(list_df_voxel_scene, [frame_idx])\n",
    "\n",
    "    df_subtracted_frame = df_voxel_frame[~df_voxel_frame.voxel_id.isin(df_voxel_scene.voxel_id)]\n",
    "    return df_subtracted_frame"
   ]
  },
  {
   "cell_type": "code",
   "execution_count": 12,
   "metadata": {},
   "outputs": [],
   "source": [
    "def point_to_voxel(ser, voxel_size):\n",
    "    # ser: [x, y, z, r]\n",
    "    ser_out = ser.iloc[:3]//voxel_size\n",
    "    ser_out = ser_out*voxel_size + voxel_size//2\n",
    "    voxel_id = hash((ser_out[0], ser_out[1], ser_out[2]))\n",
    "    \n",
    "#     return pd.Series(ser_out.tolist()+[voxel_id])\n",
    "    return voxel_id"
   ]
  },
  {
   "cell_type": "code",
   "execution_count": 13,
   "metadata": {},
   "outputs": [],
   "source": [
    "def save_frame_for_movie(frame, folder, all_files, frame_idx):\n",
    "    if not os.path.exists(folder):\n",
    "        os.mkdir(folder)\n",
    "    filename = os.path.basename(all_files[frame_idx])\n",
    "    frame.to_csv(folder + filename, header=None, index=False)\n",
    "    labels_filename = filename.replace('pointcloud', 'labels')\n",
    "    pd.DataFrame([0]*frame.shape[0]).to_csv(folder + labels_filename, header=None, index=False)\n",
    "\n",
    "    egomotion_filename = filename.replace('pointcloud', 'egomotion')\n",
    "    pd.DataFrame([0.]*6).T.to_csv(folder + egomotion_filename, header=None, index=False)\n",
    "    print('frame {} saved successfuly'.format(frame_idx))"
   ]
  },
  {
   "cell_type": "markdown",
   "metadata": {},
   "source": [
    "#### Filters:"
   ]
  },
  {
   "cell_type": "code",
   "execution_count": 14,
   "metadata": {},
   "outputs": [],
   "source": [
    "def remove_distant_lines(frame_idx, df_labels, orig_files_path):\n",
    "    filename = (7-len(str(frame_idx)))*\"0\"+str(frame_idx)+\"_pointcloud.csv\"\n",
    "    dff = pd.read_csv(orig_files_path+filename, header=None)\n",
    "    dff.columns = list(\"xyzr\")\n",
    "    dff[\"l\"] = df_labels.tolist()\n",
    "    dff = dff[dff.l==1]\n",
    "#     print(dff.shape)\n",
    "#     dff.head() \n",
    "\n",
    "#     dff = dff[dff.x>dff.x.min()+(dff.x.max()-dff.x.min())*0.2]\n",
    "#     print(dff.shape)\n",
    "#     dff.head()\n",
    "    \n",
    "    dff = dff[dff.z<dff.z.min()+(dff.z.max()-dff.z.min())*0.3]\n",
    "#     print(dff.shape)\n",
    "#     dff.head()\n",
    "\n",
    "    dff = dff[(dff[\"r\"]>5)&(dff[\"r\"]<15)]\n",
    "#     print(dff.shape)\n",
    "#     dff.head()\n",
    "\n",
    "    df_labels.loc[dff.index] = False\n",
    "    return df_labels"
   ]
  },
  {
   "cell_type": "code",
   "execution_count": 15,
   "metadata": {},
   "outputs": [],
   "source": [
    "def remove_distant_points(frame_idx, df_labels, orig_files_path):\n",
    "    filename = (7-len(str(frame_idx)))*\"0\"+str(frame_idx)+\"_pointcloud.csv\"\n",
    "    dff = pd.read_csv(orig_files_path+filename, header=None)\n",
    "    dff.columns = list(\"xyzr\")\n",
    "    dff[\"l\"] = df_labels.tolist()\n",
    "    dff = dff[dff.l==1]\n",
    "#     print(dff.shape)\n",
    "#     dff.head() \n",
    "#     print(dff.describe())\n",
    "    dff = dff[dff[\"x\"]>5500]\n",
    "#     print(dff.describe())\n",
    "#     rr = np.sqrt(dff.x**2+dff.y**2)\n",
    "#     dff = dff[rr<10]\n",
    "#     print(dff.shape)\n",
    "#     dff.head()\n",
    "    \n",
    "#     dff = dff[dff.z<dff.z.min()+(dff.z.max()-dff.z.min())*0.3]\n",
    "#     print(dff.shape)\n",
    "#     dff.head()\n",
    "\n",
    "#     dff = dff[(dff[\"r\"]>5)&(dff[\"r\"]<15)]\n",
    "#     print(dff.shape)\n",
    "#     dff.head()\n",
    "\n",
    "    df_labels.loc[dff.index] = False\n",
    "    return df_labels"
   ]
  },
  {
   "cell_type": "code",
   "execution_count": 16,
   "metadata": {},
   "outputs": [],
   "source": [
    "def remove_high_theta_points(frame_idx, df_labels, orig_files_path):\n",
    "    filename = (7-len(str(frame_idx)))*\"0\"+str(frame_idx)+\"_pointcloud.csv\"\n",
    "    dff = pd.read_csv(orig_files_path+filename, header=None)\n",
    "    dff.columns = list(\"xyzr\")\n",
    "    dff[\"l\"] = df_labels.tolist()\n",
    "    dff = dff[dff.l==1]\n",
    "#     print(dff.shape)\n",
    "#     dff.head() \n",
    "\n",
    "    theta = np.abs(np.arctan(dff.y/dff.x))\n",
    "    dff = dff[theta>0.9*theta.max()]\n",
    "    dff = dff[dff.x>300]\n",
    "#     print(dff.shape)\n",
    "#     dff.head()\n",
    "    \n",
    "#     dff = dff[dff.z<dff.z.min()+(dff.z.max()-dff.z.min())*0.3]\n",
    "#     print(dff.shape)\n",
    "#     dff.head()\n",
    "\n",
    "#     dff = dff[(dff[\"r\"]>5)&(dff[\"r\"]<15)]\n",
    "#     print(dff.shape)\n",
    "#     dff.head()\n",
    "\n",
    "    df_labels.loc[dff.index] = False\n",
    "    return df_labels"
   ]
  },
  {
   "cell_type": "code",
   "execution_count": 17,
   "metadata": {},
   "outputs": [],
   "source": [
    "def remove_close_lines(frame_idx, df_labels, orig_files_path):\n",
    "    filename = (7-len(str(frame_idx)))*\"0\"+str(frame_idx)+\"_pointcloud.csv\"\n",
    "    dff = pd.read_csv(orig_files_path+filename, header=None)\n",
    "    dff.columns = list(\"xyzr\")\n",
    "    dff[\"l\"] = df_labels.tolist()\n",
    "    dff = dff[dff.l==1]\n",
    "#     print(dff.shape)\n",
    "#     dff.head() \n",
    "\n",
    "    dff = dff[dff.x<dff.x.min()+(dff.x.max()-dff.x.min())*0.1]\n",
    "#     print(dff.shape)\n",
    "#     dff.head()\n",
    "    \n",
    "    dff = dff[dff.z<dff.z.min()+(dff.z.max()-dff.z.min())*0.01]\n",
    "#     print(dff.shape)\n",
    "#     dff.head()\n",
    "\n",
    "#     dff = dff[(dff[\"r\"]>5)&(dff[\"r\"]<15)]\n",
    "# #     print(dff.shape)\n",
    "# #     dff.head()\n",
    "\n",
    "    df_labels.loc[dff.index] = False\n",
    "    return df_labels"
   ]
  },
  {
   "cell_type": "code",
   "execution_count": 18,
   "metadata": {},
   "outputs": [],
   "source": [
    "def remove_high_points(frame_idx, df_labels, orig_files_path):\n",
    "    filename = (7-len(str(frame_idx)))*\"0\"+str(frame_idx)+\"_pointcloud.csv\"\n",
    "    dff = pd.read_csv(orig_files_path+filename, header=None)\n",
    "    dff.columns = list(\"xyzr\")\n",
    "    dff[\"l\"] = df_labels.tolist()\n",
    "    dff = dff[dff.l==1]\n",
    "#     print(dff.shape)\n",
    "#     dff.head() \n",
    "\n",
    "#     dff = dff[dff.x<dff.x.min()+(dff.x.max()-dff.x.min())*0.15]\n",
    "#     print(dff.shape)\n",
    "#     dff.head()\n",
    "    \n",
    "    dff = dff[dff.z>400]\n",
    "    print(dff.shape)\n",
    "    dff.head()\n",
    "\n",
    "#     dff = dff[(dff[\"r\"]>5)&(dff[\"r\"]<15)]\n",
    "# #     print(dff.shape)\n",
    "# #     dff.head()\n",
    "\n",
    "    df_labels.loc[dff.index] = False\n",
    "    return df_labels"
   ]
  },
  {
   "cell_type": "code",
   "execution_count": 19,
   "metadata": {},
   "outputs": [],
   "source": [
    "def remove_low_points(frame_idx, df_labels, orig_files_path):\n",
    "    filename = (7-len(str(frame_idx)))*\"0\"+str(frame_idx)+\"_pointcloud.csv\"\n",
    "    dff = pd.read_csv(orig_files_path+filename, header=None)\n",
    "    dff.columns = list(\"xyzr\")\n",
    "    dff[\"l\"] = df_labels.tolist()\n",
    "    dff = dff[dff.l==1]\n",
    "#     print(dff.shape)\n",
    "#     dff.head() \n",
    "\n",
    "#     dff = dff[dff.x<dff.x.min()+(dff.x.max()-dff.x.min())*0.15]\n",
    "#     print(dff.shape)\n",
    "#     dff.head()\n",
    "#     print(\"\\n\\nXMIN:\", dff.x.min())\n",
    "    dff = dff[dff.z<dff.z.min()+15]\n",
    "    print(dff.shape)\n",
    "    dff.head()\n",
    "\n",
    "#     dff = dff[(dff[\"r\"]>5)&(dff[\"r\"]<15)]\n",
    "# #     print(dff.shape)\n",
    "# #     dff.head()\n",
    "\n",
    "    df_labels.loc[dff.index] = False\n",
    "    return df_labels"
   ]
  },
  {
   "cell_type": "markdown",
   "metadata": {},
   "source": [
    "---------------------------------"
   ]
  },
  {
   "cell_type": "code",
   "execution_count": null,
   "metadata": {},
   "outputs": [
    {
     "name": "stderr",
     "output_type": "stream",
     "text": [
      "\r",
      "  0%|                                                                                                                                                                         | 0/1000 [00:00<?, ?it/s]"
     ]
    },
    {
     "name": "stdout",
     "output_type": "stream",
     "text": [
      "=========================================================================\n",
      "frame_idx = 0\n",
      "=========================================================================\n",
      "0.0 : list_idx = get_list_idx_for_frame(frame_idx, n_frames_per_side, shift)\n",
      "5.426035404205322 : df_subtracted_frame = get_df_voxel_subtracted_frame(list_df_voxel_scene, frame_idx, n_frames_per_side, shift)\n",
      "1.3598933219909668 : df_frame_orig['voxel_id'] =  df_frame_orig.apply(lambda x: point_to_voxel(x, voxel_size), axis=1)\n",
      "0.0014960765838623047 : df_labels = df_frame_orig.voxel_id.isin(df_subtracted_frame.voxel_id)\n",
      "(546, 5)\n",
      "(1254, 5)\n",
      "0.1873927116394043 : df_frame_orig_subtracted = df_frame_orig[df_labels]\n",
      "(3879, 5)\n",
      "file_labels: voxelling_output/submission_files/test_vid_19_pred__final/0000000_labels.csv\n",
      "0.10584831237792969 : df_labels.to_csv(pickles_path+\"df_labels__frame_%d__%s__voxel_size_%d_(%d,%d,%d).p\"%(frame_idx, vid, voxel_size, n_frames_per_side, shift, n_frames_per_side))\n",
      "3879\n",
      "0.003004312515258789 : save_frame_for_movie(df_frame_orig_subtracted, \"tmp_only_labeled/\", all_files, frame_idx)\n"
     ]
    },
    {
     "name": "stderr",
     "output_type": "stream",
     "text": [
      "\r",
      "  0%|▏                                                                                                                                                              | 1/1000 [00:07<1:58:24,  7.11s/it]"
     ]
    },
    {
     "name": "stdout",
     "output_type": "stream",
     "text": [
      "=========================================================================\n",
      "frame_idx = 1\n",
      "=========================================================================\n",
      "0.0 : list_idx = get_list_idx_for_frame(frame_idx, n_frames_per_side, shift)\n",
      "5.299540996551514 : df_subtracted_frame = get_df_voxel_subtracted_frame(list_df_voxel_scene, frame_idx, n_frames_per_side, shift)\n",
      "1.3669939041137695 : df_frame_orig['voxel_id'] =  df_frame_orig.apply(lambda x: point_to_voxel(x, voxel_size), axis=1)\n",
      "0.0010027885437011719 : df_labels = df_frame_orig.voxel_id.isin(df_subtracted_frame.voxel_id)\n",
      "(447, 5)\n",
      "(1060, 5)\n",
      "0.19750237464904785 : df_frame_orig_subtracted = df_frame_orig[df_labels]\n",
      "(2271, 5)\n",
      "file_labels: voxelling_output/submission_files/test_vid_19_pred__final/0000001_labels.csv\n",
      "0.1017308235168457 : df_labels.to_csv(pickles_path+\"df_labels__frame_%d__%s__voxel_size_%d_(%d,%d,%d).p\"%(frame_idx, vid, voxel_size, n_frames_per_side, shift, n_frames_per_side))\n",
      "2271\n",
      "0.0029942989349365234 : save_frame_for_movie(df_frame_orig_subtracted, \"tmp_only_labeled/\", all_files, frame_idx)\n"
     ]
    },
    {
     "name": "stderr",
     "output_type": "stream",
     "text": [
      "\r",
      "  0%|▎                                                                                                                                                              | 2/1000 [00:14<1:57:19,  7.05s/it]"
     ]
    },
    {
     "name": "stdout",
     "output_type": "stream",
     "text": [
      "=========================================================================\n",
      "frame_idx = 2\n",
      "=========================================================================\n",
      "0.000997781753540039 : list_idx = get_list_idx_for_frame(frame_idx, n_frames_per_side, shift)\n",
      "5.038376808166504 : df_subtracted_frame = get_df_voxel_subtracted_frame(list_df_voxel_scene, frame_idx, n_frames_per_side, shift)\n",
      "1.373232126235962 : df_frame_orig['voxel_id'] =  df_frame_orig.apply(lambda x: point_to_voxel(x, voxel_size), axis=1)\n",
      "0.001989126205444336 : df_labels = df_frame_orig.voxel_id.isin(df_subtracted_frame.voxel_id)\n",
      "(455, 5)\n",
      "(871, 5)\n",
      "0.1859278678894043 : df_frame_orig_subtracted = df_frame_orig[df_labels]\n",
      "(4696, 5)\n",
      "file_labels: voxelling_output/submission_files/test_vid_19_pred__final/0000002_labels.csv\n",
      "0.09376883506774902 : df_labels.to_csv(pickles_path+\"df_labels__frame_%d__%s__voxel_size_%d_(%d,%d,%d).p\"%(frame_idx, vid, voxel_size, n_frames_per_side, shift, n_frames_per_side))\n",
      "4696\n",
      "0.003987312316894531 : save_frame_for_movie(df_frame_orig_subtracted, \"tmp_only_labeled/\", all_files, frame_idx)\n"
     ]
    },
    {
     "name": "stderr",
     "output_type": "stream",
     "text": [
      "\r",
      "  0%|▍                                                                                                                                                              | 3/1000 [00:20<1:55:22,  6.94s/it]"
     ]
    },
    {
     "name": "stdout",
     "output_type": "stream",
     "text": [
      "=========================================================================\n",
      "frame_idx = 3\n",
      "=========================================================================\n",
      "0.0 : list_idx = get_list_idx_for_frame(frame_idx, n_frames_per_side, shift)\n",
      "5.215355396270752 : df_subtracted_frame = get_df_voxel_subtracted_frame(list_df_voxel_scene, frame_idx, n_frames_per_side, shift)\n",
      "1.3550617694854736 : df_frame_orig['voxel_id'] =  df_frame_orig.apply(lambda x: point_to_voxel(x, voxel_size), axis=1)\n",
      "0.0009760856628417969 : df_labels = df_frame_orig.voxel_id.isin(df_subtracted_frame.voxel_id)\n",
      "(402, 5)\n",
      "(1, 5)\n",
      "0.18576765060424805 : df_frame_orig_subtracted = df_frame_orig[df_labels]\n",
      "(5221, 5)\n",
      "file_labels: voxelling_output/submission_files/test_vid_19_pred__final/0000003_labels.csv\n",
      "0.09326052665710449 : df_labels.to_csv(pickles_path+\"df_labels__frame_%d__%s__voxel_size_%d_(%d,%d,%d).p\"%(frame_idx, vid, voxel_size, n_frames_per_side, shift, n_frames_per_side))\n",
      "5221\n",
      "0.003989696502685547 : save_frame_for_movie(df_frame_orig_subtracted, \"tmp_only_labeled/\", all_files, frame_idx)\n"
     ]
    },
    {
     "name": "stderr",
     "output_type": "stream",
     "text": [
      "\r",
      "  0%|▋                                                                                                                                                              | 4/1000 [00:27<1:55:00,  6.93s/it]"
     ]
    },
    {
     "name": "stdout",
     "output_type": "stream",
     "text": [
      "=========================================================================\n",
      "frame_idx = 4\n",
      "=========================================================================\n",
      "0.0 : list_idx = get_list_idx_for_frame(frame_idx, n_frames_per_side, shift)\n",
      "5.073902606964111 : df_subtracted_frame = get_df_voxel_subtracted_frame(list_df_voxel_scene, frame_idx, n_frames_per_side, shift)\n",
      "1.360994815826416 : df_frame_orig['voxel_id'] =  df_frame_orig.apply(lambda x: point_to_voxel(x, voxel_size), axis=1)\n",
      "0.001993894577026367 : df_labels = df_frame_orig.voxel_id.isin(df_subtracted_frame.voxel_id)\n",
      "(385, 5)\n",
      "(201, 5)\n",
      "0.1920301914215088 : df_frame_orig_subtracted = df_frame_orig[df_labels]\n",
      "(6565, 5)\n",
      "file_labels: voxelling_output/submission_files/test_vid_19_pred__final/0000004_labels.csv\n",
      "0.09973812103271484 : df_labels.to_csv(pickles_path+\"df_labels__frame_%d__%s__voxel_size_%d_(%d,%d,%d).p\"%(frame_idx, vid, voxel_size, n_frames_per_side, shift, n_frames_per_side))\n",
      "6565\n",
      "0.0030274391174316406 : save_frame_for_movie(df_frame_orig_subtracted, \"tmp_only_labeled/\", all_files, frame_idx)\n"
     ]
    },
    {
     "name": "stderr",
     "output_type": "stream",
     "text": [
      "\r",
      "  0%|▊                                                                                                                                                              | 5/1000 [00:34<1:54:18,  6.89s/it]"
     ]
    },
    {
     "name": "stdout",
     "output_type": "stream",
     "text": [
      "=========================================================================\n",
      "frame_idx = 5\n",
      "=========================================================================\n",
      "0.0 : list_idx = get_list_idx_for_frame(frame_idx, n_frames_per_side, shift)\n",
      "5.038761854171753 : df_subtracted_frame = get_df_voxel_subtracted_frame(list_df_voxel_scene, frame_idx, n_frames_per_side, shift)\n",
      "1.348717212677002 : df_frame_orig['voxel_id'] =  df_frame_orig.apply(lambda x: point_to_voxel(x, voxel_size), axis=1)\n",
      "0.0009999275207519531 : df_labels = df_frame_orig.voxel_id.isin(df_subtracted_frame.voxel_id)\n",
      "(183, 5)\n",
      "(158, 5)\n",
      "0.18780517578125 : df_frame_orig_subtracted = df_frame_orig[df_labels]\n",
      "(2349, 5)\n",
      "file_labels: voxelling_output/submission_files/test_vid_19_pred__final/0000005_labels.csv\n",
      "0.0951070785522461 : df_labels.to_csv(pickles_path+\"df_labels__frame_%d__%s__voxel_size_%d_(%d,%d,%d).p\"%(frame_idx, vid, voxel_size, n_frames_per_side, shift, n_frames_per_side))\n",
      "2349\n",
      "0.0029938220977783203 : save_frame_for_movie(df_frame_orig_subtracted, \"tmp_only_labeled/\", all_files, frame_idx)\n"
     ]
    },
    {
     "name": "stderr",
     "output_type": "stream",
     "text": [
      "\r",
      "  1%|▉                                                                                                                                                              | 6/1000 [00:41<1:53:41,  6.86s/it]"
     ]
    },
    {
     "name": "stdout",
     "output_type": "stream",
     "text": [
      "=========================================================================\n",
      "frame_idx = 6\n",
      "=========================================================================\n",
      "0.0010075569152832031 : list_idx = get_list_idx_for_frame(frame_idx, n_frames_per_side, shift)\n",
      "5.026208877563477 : df_subtracted_frame = get_df_voxel_subtracted_frame(list_df_voxel_scene, frame_idx, n_frames_per_side, shift)\n",
      "1.3640246391296387 : df_frame_orig['voxel_id'] =  df_frame_orig.apply(lambda x: point_to_voxel(x, voxel_size), axis=1)\n",
      "0.0030028820037841797 : df_labels = df_frame_orig.voxel_id.isin(df_subtracted_frame.voxel_id)\n",
      "(272, 5)\n",
      "(3658, 5)\n",
      "0.17989039421081543 : df_frame_orig_subtracted = df_frame_orig[df_labels]\n",
      "(1313, 5)\n",
      "file_labels: voxelling_output/submission_files/test_vid_19_pred__final/0000006_labels.csv\n",
      "0.09319853782653809 : df_labels.to_csv(pickles_path+\"df_labels__frame_%d__%s__voxel_size_%d_(%d,%d,%d).p\"%(frame_idx, vid, voxel_size, n_frames_per_side, shift, n_frames_per_side))\n",
      "1313\n",
      "0.0030074119567871094 : save_frame_for_movie(df_frame_orig_subtracted, \"tmp_only_labeled/\", all_files, frame_idx)\n"
     ]
    },
    {
     "name": "stderr",
     "output_type": "stream",
     "text": [
      "\r",
      "  1%|█                                                                                                                                                              | 7/1000 [00:47<1:53:10,  6.84s/it]"
     ]
    },
    {
     "name": "stdout",
     "output_type": "stream",
     "text": [
      "=========================================================================\n",
      "frame_idx = 7\n",
      "=========================================================================\n",
      "0.0 : list_idx = get_list_idx_for_frame(frame_idx, n_frames_per_side, shift)\n",
      "5.108054876327515 : df_subtracted_frame = get_df_voxel_subtracted_frame(list_df_voxel_scene, frame_idx, n_frames_per_side, shift)\n",
      "1.3471169471740723 : df_frame_orig['voxel_id'] =  df_frame_orig.apply(lambda x: point_to_voxel(x, voxel_size), axis=1)\n",
      "0.001997709274291992 : df_labels = df_frame_orig.voxel_id.isin(df_subtracted_frame.voxel_id)\n",
      "(295, 5)\n",
      "(4, 5)\n",
      "0.1854863166809082 : df_frame_orig_subtracted = df_frame_orig[df_labels]\n",
      "(6772, 5)\n",
      "file_labels: voxelling_output/submission_files/test_vid_19_pred__final/0000007_labels.csv\n",
      "0.09778046607971191 : df_labels.to_csv(pickles_path+\"df_labels__frame_%d__%s__voxel_size_%d_(%d,%d,%d).p\"%(frame_idx, vid, voxel_size, n_frames_per_side, shift, n_frames_per_side))\n",
      "6772\n",
      "0.001956462860107422 : save_frame_for_movie(df_frame_orig_subtracted, \"tmp_only_labeled/\", all_files, frame_idx)\n"
     ]
    },
    {
     "name": "stderr",
     "output_type": "stream",
     "text": [
      "\r",
      "  1%|█▎                                                                                                                                                             | 8/1000 [00:54<1:52:55,  6.83s/it]"
     ]
    },
    {
     "name": "stdout",
     "output_type": "stream",
     "text": [
      "=========================================================================\n",
      "frame_idx = 8\n",
      "=========================================================================\n",
      "0.0009717941284179688 : list_idx = get_list_idx_for_frame(frame_idx, n_frames_per_side, shift)\n",
      "5.120095729827881 : df_subtracted_frame = get_df_voxel_subtracted_frame(list_df_voxel_scene, frame_idx, n_frames_per_side, shift)\n",
      "1.3553833961486816 : df_frame_orig['voxel_id'] =  df_frame_orig.apply(lambda x: point_to_voxel(x, voxel_size), axis=1)\n",
      "0.0020101070404052734 : df_labels = df_frame_orig.voxel_id.isin(df_subtracted_frame.voxel_id)\n",
      "(281, 5)\n",
      "(6, 5)\n",
      "0.18790221214294434 : df_frame_orig_subtracted = df_frame_orig[df_labels]\n",
      "(5900, 5)\n",
      "file_labels: voxelling_output/submission_files/test_vid_19_pred__final/0000008_labels.csv\n",
      "0.10971736907958984 : df_labels.to_csv(pickles_path+\"df_labels__frame_%d__%s__voxel_size_%d_(%d,%d,%d).p\"%(frame_idx, vid, voxel_size, n_frames_per_side, shift, n_frames_per_side))\n",
      "5900\n",
      "0.002992868423461914 : save_frame_for_movie(df_frame_orig_subtracted, \"tmp_only_labeled/\", all_files, frame_idx)\n"
     ]
    },
    {
     "name": "stderr",
     "output_type": "stream",
     "text": [
      "\r",
      "  1%|█▍                                                                                                                                                             | 9/1000 [01:01<1:52:46,  6.83s/it]"
     ]
    },
    {
     "name": "stdout",
     "output_type": "stream",
     "text": [
      "=========================================================================\n",
      "frame_idx = 9\n",
      "=========================================================================\n",
      "0.0 : list_idx = get_list_idx_for_frame(frame_idx, n_frames_per_side, shift)\n",
      "5.0674145221710205 : df_subtracted_frame = get_df_voxel_subtracted_frame(list_df_voxel_scene, frame_idx, n_frames_per_side, shift)\n",
      "1.3433096408843994 : df_frame_orig['voxel_id'] =  df_frame_orig.apply(lambda x: point_to_voxel(x, voxel_size), axis=1)\n",
      "0.0009796619415283203 : df_labels = df_frame_orig.voxel_id.isin(df_subtracted_frame.voxel_id)\n",
      "(266, 5)\n",
      "(7, 5)\n",
      "0.2030036449432373 : df_frame_orig_subtracted = df_frame_orig[df_labels]\n",
      "(5542, 5)\n",
      "file_labels: voxelling_output/submission_files/test_vid_19_pred__final/0000009_labels.csv\n",
      "0.10224175453186035 : df_labels.to_csv(pickles_path+\"df_labels__frame_%d__%s__voxel_size_%d_(%d,%d,%d).p\"%(frame_idx, vid, voxel_size, n_frames_per_side, shift, n_frames_per_side))\n",
      "5542\n",
      "0.0029752254486083984 : save_frame_for_movie(df_frame_orig_subtracted, \"tmp_only_labeled/\", all_files, frame_idx)\n"
     ]
    },
    {
     "name": "stderr",
     "output_type": "stream",
     "text": [
      "\r",
      "  1%|█▌                                                                                                                                                            | 10/1000 [01:08<1:52:31,  6.82s/it]"
     ]
    },
    {
     "name": "stdout",
     "output_type": "stream",
     "text": [
      "=========================================================================\n",
      "frame_idx = 10\n",
      "=========================================================================\n",
      "0.0 : list_idx = get_list_idx_for_frame(frame_idx, n_frames_per_side, shift)\n",
      "5.028599500656128 : df_subtracted_frame = get_df_voxel_subtracted_frame(list_df_voxel_scene, frame_idx, n_frames_per_side, shift)\n",
      "1.3469717502593994 : df_frame_orig['voxel_id'] =  df_frame_orig.apply(lambda x: point_to_voxel(x, voxel_size), axis=1)\n",
      "0.001993894577026367 : df_labels = df_frame_orig.voxel_id.isin(df_subtracted_frame.voxel_id)\n",
      "(246, 5)\n",
      "(8, 5)\n",
      "0.1875293254852295 : df_frame_orig_subtracted = df_frame_orig[df_labels]\n",
      "(5616, 5)\n",
      "file_labels: voxelling_output/submission_files/test_vid_19_pred__final/0000010_labels.csv\n",
      "0.09881258010864258 : df_labels.to_csv(pickles_path+\"df_labels__frame_%d__%s__voxel_size_%d_(%d,%d,%d).p\"%(frame_idx, vid, voxel_size, n_frames_per_side, shift, n_frames_per_side))\n",
      "5616\n",
      "0.0030183792114257812 : save_frame_for_movie(df_frame_orig_subtracted, \"tmp_only_labeled/\", all_files, frame_idx)\n"
     ]
    },
    {
     "name": "stderr",
     "output_type": "stream",
     "text": [
      "\r",
      "  1%|█▋                                                                                                                                                            | 11/1000 [01:14<1:52:13,  6.81s/it]"
     ]
    },
    {
     "name": "stdout",
     "output_type": "stream",
     "text": [
      "=========================================================================\n",
      "frame_idx = 11\n",
      "=========================================================================\n",
      "0.0 : list_idx = get_list_idx_for_frame(frame_idx, n_frames_per_side, shift)\n",
      "5.050957679748535 : df_subtracted_frame = get_df_voxel_subtracted_frame(list_df_voxel_scene, frame_idx, n_frames_per_side, shift)\n",
      "1.3273134231567383 : df_frame_orig['voxel_id'] =  df_frame_orig.apply(lambda x: point_to_voxel(x, voxel_size), axis=1)\n",
      "0.0009987354278564453 : df_labels = df_frame_orig.voxel_id.isin(df_subtracted_frame.voxel_id)\n",
      "(238, 5)\n",
      "(8, 5)\n",
      "0.19103360176086426 : df_frame_orig_subtracted = df_frame_orig[df_labels]\n",
      "(5453, 5)\n",
      "file_labels: voxelling_output/submission_files/test_vid_19_pred__final/0000011_labels.csv\n",
      "0.09208512306213379 : df_labels.to_csv(pickles_path+\"df_labels__frame_%d__%s__voxel_size_%d_(%d,%d,%d).p\"%(frame_idx, vid, voxel_size, n_frames_per_side, shift, n_frames_per_side))\n",
      "5453\n",
      "0.0039920806884765625 : save_frame_for_movie(df_frame_orig_subtracted, \"tmp_only_labeled/\", all_files, frame_idx)\n"
     ]
    },
    {
     "name": "stderr",
     "output_type": "stream",
     "text": [
      "\r",
      "  1%|█▉                                                                                                                                                            | 12/1000 [01:21<1:51:57,  6.80s/it]"
     ]
    },
    {
     "name": "stdout",
     "output_type": "stream",
     "text": [
      "=========================================================================\n",
      "frame_idx = 12\n",
      "=========================================================================\n",
      "0.0 : list_idx = get_list_idx_for_frame(frame_idx, n_frames_per_side, shift)\n",
      "5.056271076202393 : df_subtracted_frame = get_df_voxel_subtracted_frame(list_df_voxel_scene, frame_idx, n_frames_per_side, shift)\n",
      "1.3387560844421387 : df_frame_orig['voxel_id'] =  df_frame_orig.apply(lambda x: point_to_voxel(x, voxel_size), axis=1)\n",
      "0.002022981643676758 : df_labels = df_frame_orig.voxel_id.isin(df_subtracted_frame.voxel_id)\n",
      "(227, 5)\n",
      "(9, 5)\n",
      "0.18461012840270996 : df_frame_orig_subtracted = df_frame_orig[df_labels]\n",
      "(5567, 5)\n",
      "file_labels: voxelling_output/submission_files/test_vid_19_pred__final/0000012_labels.csv\n",
      "0.09474706649780273 : df_labels.to_csv(pickles_path+\"df_labels__frame_%d__%s__voxel_size_%d_(%d,%d,%d).p\"%(frame_idx, vid, voxel_size, n_frames_per_side, shift, n_frames_per_side))\n",
      "5567\n",
      "0.003988504409790039 : save_frame_for_movie(df_frame_orig_subtracted, \"tmp_only_labeled/\", all_files, frame_idx)\n"
     ]
    },
    {
     "name": "stderr",
     "output_type": "stream",
     "text": [
      "\r",
      "  1%|██                                                                                                                                                            | 13/1000 [01:28<1:51:43,  6.79s/it]"
     ]
    },
    {
     "name": "stdout",
     "output_type": "stream",
     "text": [
      "=========================================================================\n",
      "frame_idx = 13\n",
      "=========================================================================\n",
      "0.0 : list_idx = get_list_idx_for_frame(frame_idx, n_frames_per_side, shift)\n",
      "5.051527976989746 : df_subtracted_frame = get_df_voxel_subtracted_frame(list_df_voxel_scene, frame_idx, n_frames_per_side, shift)\n",
      "1.3147656917572021 : df_frame_orig['voxel_id'] =  df_frame_orig.apply(lambda x: point_to_voxel(x, voxel_size), axis=1)\n",
      "0.0019948482513427734 : df_labels = df_frame_orig.voxel_id.isin(df_subtracted_frame.voxel_id)\n",
      "(207, 5)\n",
      "(9, 5)\n",
      "0.18353629112243652 : df_frame_orig_subtracted = df_frame_orig[df_labels]\n",
      "(4996, 5)\n",
      "file_labels: voxelling_output/submission_files/test_vid_19_pred__final/0000013_labels.csv\n",
      "0.09075760841369629 : df_labels.to_csv(pickles_path+\"df_labels__frame_%d__%s__voxel_size_%d_(%d,%d,%d).p\"%(frame_idx, vid, voxel_size, n_frames_per_side, shift, n_frames_per_side))\n",
      "4996\n",
      "0.0029985904693603516 : save_frame_for_movie(df_frame_orig_subtracted, \"tmp_only_labeled/\", all_files, frame_idx)\n"
     ]
    },
    {
     "name": "stderr",
     "output_type": "stream",
     "text": [
      "\r",
      "  1%|██▏                                                                                                                                                           | 14/1000 [01:34<1:51:28,  6.78s/it]"
     ]
    },
    {
     "name": "stdout",
     "output_type": "stream",
     "text": [
      "=========================================================================\n",
      "frame_idx = 14\n",
      "=========================================================================\n",
      "0.0 : list_idx = get_list_idx_for_frame(frame_idx, n_frames_per_side, shift)\n",
      "5.052067995071411 : df_subtracted_frame = get_df_voxel_subtracted_frame(list_df_voxel_scene, frame_idx, n_frames_per_side, shift)\n",
      "1.3258581161499023 : df_frame_orig['voxel_id'] =  df_frame_orig.apply(lambda x: point_to_voxel(x, voxel_size), axis=1)\n",
      "0.001001596450805664 : df_labels = df_frame_orig.voxel_id.isin(df_subtracted_frame.voxel_id)\n",
      "(192, 5)\n",
      "(10, 5)\n",
      "0.18204689025878906 : df_frame_orig_subtracted = df_frame_orig[df_labels]\n",
      "(3771, 5)\n",
      "file_labels: voxelling_output/submission_files/test_vid_19_pred__final/0000014_labels.csv\n",
      "0.09174895286560059 : df_labels.to_csv(pickles_path+\"df_labels__frame_%d__%s__voxel_size_%d_(%d,%d,%d).p\"%(frame_idx, vid, voxel_size, n_frames_per_side, shift, n_frames_per_side))\n",
      "3771\n",
      "0.002993345260620117 : save_frame_for_movie(df_frame_orig_subtracted, \"tmp_only_labeled/\", all_files, frame_idx)\n"
     ]
    },
    {
     "name": "stderr",
     "output_type": "stream",
     "text": [
      "\r",
      "  2%|██▎                                                                                                                                                           | 15/1000 [01:41<1:51:15,  6.78s/it]"
     ]
    },
    {
     "name": "stdout",
     "output_type": "stream",
     "text": [
      "=========================================================================\n",
      "frame_idx = 15\n",
      "=========================================================================\n",
      "0.0 : list_idx = get_list_idx_for_frame(frame_idx, n_frames_per_side, shift)\n",
      "5.053570747375488 : df_subtracted_frame = get_df_voxel_subtracted_frame(list_df_voxel_scene, frame_idx, n_frames_per_side, shift)\n",
      "1.3278758525848389 : df_frame_orig['voxel_id'] =  df_frame_orig.apply(lambda x: point_to_voxel(x, voxel_size), axis=1)\n",
      "0.0019943714141845703 : df_labels = df_frame_orig.voxel_id.isin(df_subtracted_frame.voxel_id)\n",
      "(152, 5)\n",
      "(9, 5)\n",
      "0.17779016494750977 : df_frame_orig_subtracted = df_frame_orig[df_labels]\n",
      "(3602, 5)\n",
      "file_labels: voxelling_output/submission_files/test_vid_19_pred__final/0000015_labels.csv\n",
      "0.09674954414367676 : df_labels.to_csv(pickles_path+\"df_labels__frame_%d__%s__voxel_size_%d_(%d,%d,%d).p\"%(frame_idx, vid, voxel_size, n_frames_per_side, shift, n_frames_per_side))\n",
      "3602\n",
      "0.0029926300048828125 : save_frame_for_movie(df_frame_orig_subtracted, \"tmp_only_labeled/\", all_files, frame_idx)\n"
     ]
    },
    {
     "name": "stderr",
     "output_type": "stream",
     "text": [
      "\r",
      "  2%|██▌                                                                                                                                                           | 16/1000 [01:48<1:51:03,  6.77s/it]"
     ]
    },
    {
     "name": "stdout",
     "output_type": "stream",
     "text": [
      "=========================================================================\n",
      "frame_idx = 16\n",
      "=========================================================================\n",
      "0.0 : list_idx = get_list_idx_for_frame(frame_idx, n_frames_per_side, shift)\n",
      "5.087156534194946 : df_subtracted_frame = get_df_voxel_subtracted_frame(list_df_voxel_scene, frame_idx, n_frames_per_side, shift)\n",
      "1.3161299228668213 : df_frame_orig['voxel_id'] =  df_frame_orig.apply(lambda x: point_to_voxel(x, voxel_size), axis=1)\n",
      "0.001171112060546875 : df_labels = df_frame_orig.voxel_id.isin(df_subtracted_frame.voxel_id)\n",
      "(135, 5)\n",
      "(9, 5)\n",
      "0.18456745147705078 : df_frame_orig_subtracted = df_frame_orig[df_labels]\n",
      "(3247, 5)\n",
      "file_labels: voxelling_output/submission_files/test_vid_19_pred__final/0000016_labels.csv\n",
      "0.0987544059753418 : df_labels.to_csv(pickles_path+\"df_labels__frame_%d__%s__voxel_size_%d_(%d,%d,%d).p\"%(frame_idx, vid, voxel_size, n_frames_per_side, shift, n_frames_per_side))\n",
      "3247\n",
      "0.002977609634399414 : save_frame_for_movie(df_frame_orig_subtracted, \"tmp_only_labeled/\", all_files, frame_idx)\n"
     ]
    },
    {
     "name": "stderr",
     "output_type": "stream",
     "text": [
      "\r",
      "  2%|██▋                                                                                                                                                           | 17/1000 [01:55<1:50:53,  6.77s/it]"
     ]
    },
    {
     "name": "stdout",
     "output_type": "stream",
     "text": [
      "=========================================================================\n",
      "frame_idx = 17\n",
      "=========================================================================\n",
      "0.0 : list_idx = get_list_idx_for_frame(frame_idx, n_frames_per_side, shift)\n",
      "5.087608575820923 : df_subtracted_frame = get_df_voxel_subtracted_frame(list_df_voxel_scene, frame_idx, n_frames_per_side, shift)\n",
      "1.3453142642974854 : df_frame_orig['voxel_id'] =  df_frame_orig.apply(lambda x: point_to_voxel(x, voxel_size), axis=1)\n",
      "0.0019805431365966797 : df_labels = df_frame_orig.voxel_id.isin(df_subtracted_frame.voxel_id)\n",
      "(91, 5)\n",
      "(9, 5)\n",
      "0.1825406551361084 : df_frame_orig_subtracted = df_frame_orig[df_labels]\n",
      "(2787, 5)\n",
      "file_labels: voxelling_output/submission_files/test_vid_19_pred__final/0000017_labels.csv\n",
      "0.09474492073059082 : df_labels.to_csv(pickles_path+\"df_labels__frame_%d__%s__voxel_size_%d_(%d,%d,%d).p\"%(frame_idx, vid, voxel_size, n_frames_per_side, shift, n_frames_per_side))\n",
      "2787\n",
      "0.0020284652709960938 : save_frame_for_movie(df_frame_orig_subtracted, \"tmp_only_labeled/\", all_files, frame_idx)\n"
     ]
    },
    {
     "name": "stderr",
     "output_type": "stream",
     "text": [
      "\r",
      "  2%|██▊                                                                                                                                                           | 18/1000 [02:01<1:50:45,  6.77s/it]"
     ]
    },
    {
     "name": "stdout",
     "output_type": "stream",
     "text": [
      "=========================================================================\n",
      "frame_idx = 18\n",
      "=========================================================================\n",
      "0.0010113716125488281 : list_idx = get_list_idx_for_frame(frame_idx, n_frames_per_side, shift)\n",
      "5.110025405883789 : df_subtracted_frame = get_df_voxel_subtracted_frame(list_df_voxel_scene, frame_idx, n_frames_per_side, shift)\n",
      "1.3325717449188232 : df_frame_orig['voxel_id'] =  df_frame_orig.apply(lambda x: point_to_voxel(x, voxel_size), axis=1)\n",
      "0.001992940902709961 : df_labels = df_frame_orig.voxel_id.isin(df_subtracted_frame.voxel_id)\n",
      "(87, 5)\n",
      "(10, 5)\n",
      "0.19470810890197754 : df_frame_orig_subtracted = df_frame_orig[df_labels]\n",
      "(2807, 5)\n",
      "file_labels: voxelling_output/submission_files/test_vid_19_pred__final/0000018_labels.csv\n",
      "0.09477782249450684 : df_labels.to_csv(pickles_path+\"df_labels__frame_%d__%s__voxel_size_%d_(%d,%d,%d).p\"%(frame_idx, vid, voxel_size, n_frames_per_side, shift, n_frames_per_side))\n",
      "2807\n",
      "0.002939462661743164 : save_frame_for_movie(df_frame_orig_subtracted, \"tmp_only_labeled/\", all_files, frame_idx)\n"
     ]
    },
    {
     "name": "stderr",
     "output_type": "stream",
     "text": [
      "\r",
      "  2%|███                                                                                                                                                           | 19/1000 [02:08<1:50:38,  6.77s/it]"
     ]
    },
    {
     "name": "stdout",
     "output_type": "stream",
     "text": [
      "=========================================================================\n",
      "frame_idx = 19\n",
      "=========================================================================\n",
      "0.0 : list_idx = get_list_idx_for_frame(frame_idx, n_frames_per_side, shift)\n",
      "5.282451629638672 : df_subtracted_frame = get_df_voxel_subtracted_frame(list_df_voxel_scene, frame_idx, n_frames_per_side, shift)\n",
      "1.3486173152923584 : df_frame_orig['voxel_id'] =  df_frame_orig.apply(lambda x: point_to_voxel(x, voxel_size), axis=1)\n",
      "0.0019919872283935547 : df_labels = df_frame_orig.voxel_id.isin(df_subtracted_frame.voxel_id)\n",
      "(81, 5)\n",
      "(202, 5)\n",
      "0.19749784469604492 : df_frame_orig_subtracted = df_frame_orig[df_labels]\n",
      "(2382, 5)\n",
      "file_labels: voxelling_output/submission_files/test_vid_19_pred__final/0000019_labels.csv\n",
      "0.09476685523986816 : df_labels.to_csv(pickles_path+\"df_labels__frame_%d__%s__voxel_size_%d_(%d,%d,%d).p\"%(frame_idx, vid, voxel_size, n_frames_per_side, shift, n_frames_per_side))\n",
      "2382\n",
      "0.0040035247802734375 : save_frame_for_movie(df_frame_orig_subtracted, \"tmp_only_labeled/\", all_files, frame_idx)\n"
     ]
    },
    {
     "name": "stderr",
     "output_type": "stream",
     "text": [
      "\r",
      "  2%|███▏                                                                                                                                                          | 20/1000 [02:15<1:50:41,  6.78s/it]"
     ]
    },
    {
     "name": "stdout",
     "output_type": "stream",
     "text": [
      "=========================================================================\n",
      "frame_idx = 20\n",
      "=========================================================================\n",
      "0.0 : list_idx = get_list_idx_for_frame(frame_idx, n_frames_per_side, shift)\n",
      "5.0638427734375 : df_subtracted_frame = get_df_voxel_subtracted_frame(list_df_voxel_scene, frame_idx, n_frames_per_side, shift)\n",
      "1.3453423976898193 : df_frame_orig['voxel_id'] =  df_frame_orig.apply(lambda x: point_to_voxel(x, voxel_size), axis=1)\n",
      "0.0010287761688232422 : df_labels = df_frame_orig.voxel_id.isin(df_subtracted_frame.voxel_id)\n",
      "(70, 5)\n",
      "(1, 5)\n",
      "0.18650007247924805 : df_frame_orig_subtracted = df_frame_orig[df_labels]\n",
      "(2367, 5)\n",
      "file_labels: voxelling_output/submission_files/test_vid_19_pred__final/0000020_labels.csv\n",
      "0.09598684310913086 : df_labels.to_csv(pickles_path+\"df_labels__frame_%d__%s__voxel_size_%d_(%d,%d,%d).p\"%(frame_idx, vid, voxel_size, n_frames_per_side, shift, n_frames_per_side))\n",
      "2367\n",
      "0.0029938220977783203 : save_frame_for_movie(df_frame_orig_subtracted, \"tmp_only_labeled/\", all_files, frame_idx)\n"
     ]
    },
    {
     "name": "stderr",
     "output_type": "stream",
     "text": [
      "\r",
      "  2%|███▎                                                                                                                                                          | 21/1000 [02:22<1:50:32,  6.77s/it]"
     ]
    },
    {
     "name": "stdout",
     "output_type": "stream",
     "text": [
      "=========================================================================\n",
      "frame_idx = 21\n",
      "=========================================================================\n",
      "0.0 : list_idx = get_list_idx_for_frame(frame_idx, n_frames_per_side, shift)\n",
      "5.090687036514282 : df_subtracted_frame = get_df_voxel_subtracted_frame(list_df_voxel_scene, frame_idx, n_frames_per_side, shift)\n",
      "1.337968349456787 : df_frame_orig['voxel_id'] =  df_frame_orig.apply(lambda x: point_to_voxel(x, voxel_size), axis=1)\n",
      "0.0019948482513427734 : df_labels = df_frame_orig.voxel_id.isin(df_subtracted_frame.voxel_id)\n",
      "(66, 5)\n",
      "(1, 5)\n",
      "0.1821129322052002 : df_frame_orig_subtracted = df_frame_orig[df_labels]\n",
      "(2177, 5)\n",
      "file_labels: voxelling_output/submission_files/test_vid_19_pred__final/0000021_labels.csv\n",
      "0.09374666213989258 : df_labels.to_csv(pickles_path+\"df_labels__frame_%d__%s__voxel_size_%d_(%d,%d,%d).p\"%(frame_idx, vid, voxel_size, n_frames_per_side, shift, n_frames_per_side))\n",
      "2177\n",
      "0.002994537353515625 : save_frame_for_movie(df_frame_orig_subtracted, \"tmp_only_labeled/\", all_files, frame_idx)\n"
     ]
    },
    {
     "name": "stderr",
     "output_type": "stream",
     "text": [
      "\r",
      "  2%|███▍                                                                                                                                                          | 22/1000 [02:28<1:50:23,  6.77s/it]"
     ]
    },
    {
     "name": "stdout",
     "output_type": "stream",
     "text": [
      "=========================================================================\n",
      "frame_idx = 22\n",
      "=========================================================================\n",
      "0.0 : list_idx = get_list_idx_for_frame(frame_idx, n_frames_per_side, shift)\n",
      "5.05440354347229 : df_subtracted_frame = get_df_voxel_subtracted_frame(list_df_voxel_scene, frame_idx, n_frames_per_side, shift)\n",
      "1.3062231540679932 : df_frame_orig['voxel_id'] =  df_frame_orig.apply(lambda x: point_to_voxel(x, voxel_size), axis=1)\n",
      "0.001955747604370117 : df_labels = df_frame_orig.voxel_id.isin(df_subtracted_frame.voxel_id)\n",
      "(66, 5)\n",
      "(1, 5)\n",
      "0.18610095977783203 : df_frame_orig_subtracted = df_frame_orig[df_labels]\n",
      "(2074, 5)\n",
      "file_labels: voxelling_output/submission_files/test_vid_19_pred__final/0000022_labels.csv\n",
      "0.09212732315063477 : df_labels.to_csv(pickles_path+\"df_labels__frame_%d__%s__voxel_size_%d_(%d,%d,%d).p\"%(frame_idx, vid, voxel_size, n_frames_per_side, shift, n_frames_per_side))\n",
      "2074\n",
      "0.004989147186279297 : save_frame_for_movie(df_frame_orig_subtracted, \"tmp_only_labeled/\", all_files, frame_idx)\n"
     ]
    },
    {
     "name": "stderr",
     "output_type": "stream",
     "text": [
      "\r",
      "  2%|███▋                                                                                                                                                          | 23/1000 [02:35<1:50:12,  6.77s/it]"
     ]
    },
    {
     "name": "stdout",
     "output_type": "stream",
     "text": [
      "=========================================================================\n",
      "frame_idx = 23\n",
      "=========================================================================\n",
      "0.0 : list_idx = get_list_idx_for_frame(frame_idx, n_frames_per_side, shift)\n",
      "5.113713264465332 : df_subtracted_frame = get_df_voxel_subtracted_frame(list_df_voxel_scene, frame_idx, n_frames_per_side, shift)\n",
      "1.3143610954284668 : df_frame_orig['voxel_id'] =  df_frame_orig.apply(lambda x: point_to_voxel(x, voxel_size), axis=1)\n",
      "0.0010068416595458984 : df_labels = df_frame_orig.voxel_id.isin(df_subtracted_frame.voxel_id)\n",
      "(17, 5)\n",
      "(525, 5)\n",
      "0.1786971092224121 : df_frame_orig_subtracted = df_frame_orig[df_labels]\n",
      "(1401, 5)\n",
      "file_labels: voxelling_output/submission_files/test_vid_19_pred__final/0000023_labels.csv\n",
      "0.10022115707397461 : df_labels.to_csv(pickles_path+\"df_labels__frame_%d__%s__voxel_size_%d_(%d,%d,%d).p\"%(frame_idx, vid, voxel_size, n_frames_per_side, shift, n_frames_per_side))\n",
      "1401\n",
      "0.003012418746948242 : save_frame_for_movie(df_frame_orig_subtracted, \"tmp_only_labeled/\", all_files, frame_idx)\n"
     ]
    },
    {
     "name": "stderr",
     "output_type": "stream",
     "text": [
      "\r",
      "  2%|███▊                                                                                                                                                          | 24/1000 [02:42<1:50:04,  6.77s/it]"
     ]
    },
    {
     "name": "stdout",
     "output_type": "stream",
     "text": [
      "=========================================================================\n",
      "frame_idx = 24\n",
      "=========================================================================\n",
      "0.000997304916381836 : list_idx = get_list_idx_for_frame(frame_idx, n_frames_per_side, shift)\n",
      "5.018928050994873 : df_subtracted_frame = get_df_voxel_subtracted_frame(list_df_voxel_scene, frame_idx, n_frames_per_side, shift)\n",
      "1.3085062503814697 : df_frame_orig['voxel_id'] =  df_frame_orig.apply(lambda x: point_to_voxel(x, voxel_size), axis=1)\n",
      "0.0010089874267578125 : df_labels = df_frame_orig.voxel_id.isin(df_subtracted_frame.voxel_id)\n",
      "(10, 5)\n",
      "(276, 5)\n",
      "0.17851781845092773 : df_frame_orig_subtracted = df_frame_orig[df_labels]\n",
      "(1392, 5)\n",
      "file_labels: voxelling_output/submission_files/test_vid_19_pred__final/0000024_labels.csv\n",
      "0.09475231170654297 : df_labels.to_csv(pickles_path+\"df_labels__frame_%d__%s__voxel_size_%d_(%d,%d,%d).p\"%(frame_idx, vid, voxel_size, n_frames_per_side, shift, n_frames_per_side))\n",
      "1392\n",
      "0.0029931068420410156 : save_frame_for_movie(df_frame_orig_subtracted, \"tmp_only_labeled/\", all_files, frame_idx)\n"
     ]
    },
    {
     "name": "stderr",
     "output_type": "stream",
     "text": [
      "\r",
      "  2%|███▉                                                                                                                                                          | 25/1000 [02:49<1:49:52,  6.76s/it]"
     ]
    },
    {
     "name": "stdout",
     "output_type": "stream",
     "text": [
      "=========================================================================\n",
      "frame_idx = 25\n",
      "=========================================================================\n",
      "0.0 : list_idx = get_list_idx_for_frame(frame_idx, n_frames_per_side, shift)\n",
      "5.069033622741699 : df_subtracted_frame = get_df_voxel_subtracted_frame(list_df_voxel_scene, frame_idx, n_frames_per_side, shift)\n",
      "1.327967643737793 : df_frame_orig['voxel_id'] =  df_frame_orig.apply(lambda x: point_to_voxel(x, voxel_size), axis=1)\n",
      "0.0009992122650146484 : df_labels = df_frame_orig.voxel_id.isin(df_subtracted_frame.voxel_id)\n",
      "(6, 5)\n",
      "(278, 5)\n",
      "0.18154478073120117 : df_frame_orig_subtracted = df_frame_orig[df_labels]\n",
      "(1422, 5)\n",
      "file_labels: voxelling_output/submission_files/test_vid_19_pred__final/0000025_labels.csv\n",
      "0.09432291984558105 : df_labels.to_csv(pickles_path+\"df_labels__frame_%d__%s__voxel_size_%d_(%d,%d,%d).p\"%(frame_idx, vid, voxel_size, n_frames_per_side, shift, n_frames_per_side))\n",
      "1422\n",
      "0.0029926300048828125 : save_frame_for_movie(df_frame_orig_subtracted, \"tmp_only_labeled/\", all_files, frame_idx)\n"
     ]
    },
    {
     "name": "stderr",
     "output_type": "stream",
     "text": [
      "\r",
      "  3%|████                                                                                                                                                          | 26/1000 [02:55<1:49:43,  6.76s/it]"
     ]
    },
    {
     "name": "stdout",
     "output_type": "stream",
     "text": [
      "=========================================================================\n",
      "frame_idx = 26\n",
      "=========================================================================\n",
      "0.0 : list_idx = get_list_idx_for_frame(frame_idx, n_frames_per_side, shift)\n",
      "5.029764652252197 : df_subtracted_frame = get_df_voxel_subtracted_frame(list_df_voxel_scene, frame_idx, n_frames_per_side, shift)\n",
      "1.3174254894256592 : df_frame_orig['voxel_id'] =  df_frame_orig.apply(lambda x: point_to_voxel(x, voxel_size), axis=1)\n",
      "0.0009791851043701172 : df_labels = df_frame_orig.voxel_id.isin(df_subtracted_frame.voxel_id)\n",
      "(12, 5)\n",
      "(217, 5)\n",
      "0.18427634239196777 : df_frame_orig_subtracted = df_frame_orig[df_labels]\n",
      "(1475, 5)\n",
      "file_labels: voxelling_output/submission_files/test_vid_19_pred__final/0000026_labels.csv\n",
      "0.09531641006469727 : df_labels.to_csv(pickles_path+\"df_labels__frame_%d__%s__voxel_size_%d_(%d,%d,%d).p\"%(frame_idx, vid, voxel_size, n_frames_per_side, shift, n_frames_per_side))\n",
      "1475\n",
      "0.003986835479736328 : save_frame_for_movie(df_frame_orig_subtracted, \"tmp_only_labeled/\", all_files, frame_idx)\n"
     ]
    },
    {
     "name": "stderr",
     "output_type": "stream",
     "text": [
      "\r",
      "  3%|████▎                                                                                                                                                         | 27/1000 [03:02<1:49:33,  6.76s/it]"
     ]
    },
    {
     "name": "stdout",
     "output_type": "stream",
     "text": [
      "=========================================================================\n",
      "frame_idx = 27\n",
      "=========================================================================\n",
      "0.0 : list_idx = get_list_idx_for_frame(frame_idx, n_frames_per_side, shift)\n",
      "5.050333023071289 : df_subtracted_frame = get_df_voxel_subtracted_frame(list_df_voxel_scene, frame_idx, n_frames_per_side, shift)\n",
      "1.329416036605835 : df_frame_orig['voxel_id'] =  df_frame_orig.apply(lambda x: point_to_voxel(x, voxel_size), axis=1)\n",
      "0.0009980201721191406 : df_labels = df_frame_orig.voxel_id.isin(df_subtracted_frame.voxel_id)\n",
      "(6, 5)\n",
      "(214, 5)\n",
      "0.18210220336914062 : df_frame_orig_subtracted = df_frame_orig[df_labels]\n",
      "(1529, 5)\n",
      "file_labels: voxelling_output/submission_files/test_vid_19_pred__final/0000027_labels.csv\n",
      "0.09278202056884766 : df_labels.to_csv(pickles_path+\"df_labels__frame_%d__%s__voxel_size_%d_(%d,%d,%d).p\"%(frame_idx, vid, voxel_size, n_frames_per_side, shift, n_frames_per_side))\n",
      "1529\n",
      "0.003992795944213867 : save_frame_for_movie(df_frame_orig_subtracted, \"tmp_only_labeled/\", all_files, frame_idx)\n"
     ]
    },
    {
     "name": "stderr",
     "output_type": "stream",
     "text": [
      "\r",
      "  3%|████▍                                                                                                                                                         | 28/1000 [03:09<1:49:24,  6.75s/it]"
     ]
    },
    {
     "name": "stdout",
     "output_type": "stream",
     "text": [
      "=========================================================================\n",
      "frame_idx = 28\n",
      "=========================================================================\n",
      "0.000997781753540039 : list_idx = get_list_idx_for_frame(frame_idx, n_frames_per_side, shift)\n",
      "5.051089525222778 : df_subtracted_frame = get_df_voxel_subtracted_frame(list_df_voxel_scene, frame_idx, n_frames_per_side, shift)\n",
      "1.3330392837524414 : df_frame_orig['voxel_id'] =  df_frame_orig.apply(lambda x: point_to_voxel(x, voxel_size), axis=1)\n",
      "0.0020034313201904297 : df_labels = df_frame_orig.voxel_id.isin(df_subtracted_frame.voxel_id)\n",
      "(10, 5)\n",
      "(214, 5)\n",
      "0.18295502662658691 : df_frame_orig_subtracted = df_frame_orig[df_labels]\n",
      "(1590, 5)\n",
      "file_labels: voxelling_output/submission_files/test_vid_19_pred__final/0000028_labels.csv\n",
      "0.0937502384185791 : df_labels.to_csv(pickles_path+\"df_labels__frame_%d__%s__voxel_size_%d_(%d,%d,%d).p\"%(frame_idx, vid, voxel_size, n_frames_per_side, shift, n_frames_per_side))\n",
      "1590\n",
      "0.00402069091796875 : save_frame_for_movie(df_frame_orig_subtracted, \"tmp_only_labeled/\", all_files, frame_idx)\n"
     ]
    },
    {
     "name": "stderr",
     "output_type": "stream",
     "text": [
      "\r",
      "  3%|████▌                                                                                                                                                         | 29/1000 [03:15<1:49:15,  6.75s/it]"
     ]
    },
    {
     "name": "stdout",
     "output_type": "stream",
     "text": [
      "=========================================================================\n",
      "frame_idx = 29\n",
      "=========================================================================\n",
      "0.000997781753540039 : list_idx = get_list_idx_for_frame(frame_idx, n_frames_per_side, shift)\n",
      "5.068822860717773 : df_subtracted_frame = get_df_voxel_subtracted_frame(list_df_voxel_scene, frame_idx, n_frames_per_side, shift)\n",
      "1.313643217086792 : df_frame_orig['voxel_id'] =  df_frame_orig.apply(lambda x: point_to_voxel(x, voxel_size), axis=1)\n",
      "0.0020029544830322266 : df_labels = df_frame_orig.voxel_id.isin(df_subtracted_frame.voxel_id)\n",
      "(5, 5)\n",
      "(198, 5)\n",
      "0.1811206340789795 : df_frame_orig_subtracted = df_frame_orig[df_labels]\n",
      "(1704, 5)\n",
      "file_labels: voxelling_output/submission_files/test_vid_19_pred__final/0000029_labels.csv\n",
      "0.09499359130859375 : df_labels.to_csv(pickles_path+\"df_labels__frame_%d__%s__voxel_size_%d_(%d,%d,%d).p\"%(frame_idx, vid, voxel_size, n_frames_per_side, shift, n_frames_per_side))\n",
      "1704\n",
      "0.0029926300048828125 : save_frame_for_movie(df_frame_orig_subtracted, \"tmp_only_labeled/\", all_files, frame_idx)\n"
     ]
    },
    {
     "name": "stderr",
     "output_type": "stream",
     "text": [
      "\r",
      "  3%|████▋                                                                                                                                                         | 30/1000 [03:22<1:49:07,  6.75s/it]"
     ]
    },
    {
     "name": "stdout",
     "output_type": "stream",
     "text": [
      "=========================================================================\n",
      "frame_idx = 30\n",
      "=========================================================================\n",
      "0.0 : list_idx = get_list_idx_for_frame(frame_idx, n_frames_per_side, shift)\n",
      "5.035099744796753 : df_subtracted_frame = get_df_voxel_subtracted_frame(list_df_voxel_scene, frame_idx, n_frames_per_side, shift)\n",
      "1.3235352039337158 : df_frame_orig['voxel_id'] =  df_frame_orig.apply(lambda x: point_to_voxel(x, voxel_size), axis=1)\n",
      "0.0019910335540771484 : df_labels = df_frame_orig.voxel_id.isin(df_subtracted_frame.voxel_id)\n",
      "(6, 5)\n",
      "(206, 5)\n",
      "0.18549299240112305 : df_frame_orig_subtracted = df_frame_orig[df_labels]\n",
      "(1852, 5)\n",
      "file_labels: voxelling_output/submission_files/test_vid_19_pred__final/0000030_labels.csv\n",
      "0.09374785423278809 : df_labels.to_csv(pickles_path+\"df_labels__frame_%d__%s__voxel_size_%d_(%d,%d,%d).p\"%(frame_idx, vid, voxel_size, n_frames_per_side, shift, n_frames_per_side))\n",
      "1852\n",
      "0.002993345260620117 : save_frame_for_movie(df_frame_orig_subtracted, \"tmp_only_labeled/\", all_files, frame_idx)\n"
     ]
    },
    {
     "name": "stderr",
     "output_type": "stream",
     "text": [
      "\r",
      "  3%|████▉                                                                                                                                                         | 31/1000 [03:29<1:48:57,  6.75s/it]"
     ]
    },
    {
     "name": "stdout",
     "output_type": "stream",
     "text": [
      "=========================================================================\n",
      "frame_idx = 31\n",
      "=========================================================================\n",
      "0.0 : list_idx = get_list_idx_for_frame(frame_idx, n_frames_per_side, shift)\n",
      "5.043226957321167 : df_subtracted_frame = get_df_voxel_subtracted_frame(list_df_voxel_scene, frame_idx, n_frames_per_side, shift)\n",
      "1.3429200649261475 : df_frame_orig['voxel_id'] =  df_frame_orig.apply(lambda x: point_to_voxel(x, voxel_size), axis=1)\n",
      "0.0020046234130859375 : df_labels = df_frame_orig.voxel_id.isin(df_subtracted_frame.voxel_id)\n",
      "(4, 5)\n",
      "(84, 5)\n",
      "0.18398666381835938 : df_frame_orig_subtracted = df_frame_orig[df_labels]\n",
      "(1925, 5)\n",
      "file_labels: voxelling_output/submission_files/test_vid_19_pred__final/0000031_labels.csv\n",
      "0.08928871154785156 : df_labels.to_csv(pickles_path+\"df_labels__frame_%d__%s__voxel_size_%d_(%d,%d,%d).p\"%(frame_idx, vid, voxel_size, n_frames_per_side, shift, n_frames_per_side))\n",
      "1925\n",
      "0.001996278762817383 : save_frame_for_movie(df_frame_orig_subtracted, \"tmp_only_labeled/\", all_files, frame_idx)\n"
     ]
    },
    {
     "name": "stderr",
     "output_type": "stream",
     "text": [
      "\r",
      "  3%|█████                                                                                                                                                         | 32/1000 [03:35<1:48:49,  6.75s/it]"
     ]
    },
    {
     "name": "stdout",
     "output_type": "stream",
     "text": [
      "=========================================================================\n",
      "frame_idx = 32\n",
      "=========================================================================\n",
      "0.0 : list_idx = get_list_idx_for_frame(frame_idx, n_frames_per_side, shift)\n",
      "5.059445142745972 : df_subtracted_frame = get_df_voxel_subtracted_frame(list_df_voxel_scene, frame_idx, n_frames_per_side, shift)\n",
      "1.326148509979248 : df_frame_orig['voxel_id'] =  df_frame_orig.apply(lambda x: point_to_voxel(x, voxel_size), axis=1)\n",
      "0.0009965896606445312 : df_labels = df_frame_orig.voxel_id.isin(df_subtracted_frame.voxel_id)\n",
      "(4, 5)\n",
      "(104, 5)\n",
      "0.1875166893005371 : df_frame_orig_subtracted = df_frame_orig[df_labels]\n",
      "(2075, 5)\n",
      "file_labels: voxelling_output/submission_files/test_vid_19_pred__final/0000032_labels.csv\n",
      "0.09276056289672852 : df_labels.to_csv(pickles_path+\"df_labels__frame_%d__%s__voxel_size_%d_(%d,%d,%d).p\"%(frame_idx, vid, voxel_size, n_frames_per_side, shift, n_frames_per_side))\n",
      "2075\n",
      "0.0029921531677246094 : save_frame_for_movie(df_frame_orig_subtracted, \"tmp_only_labeled/\", all_files, frame_idx)\n"
     ]
    },
    {
     "name": "stderr",
     "output_type": "stream",
     "text": [
      "\r",
      "  3%|█████▏                                                                                                                                                        | 33/1000 [03:42<1:48:41,  6.74s/it]"
     ]
    },
    {
     "name": "stdout",
     "output_type": "stream",
     "text": [
      "=========================================================================\n",
      "frame_idx = 33\n",
      "=========================================================================\n",
      "0.0 : list_idx = get_list_idx_for_frame(frame_idx, n_frames_per_side, shift)\n",
      "5.043658018112183 : df_subtracted_frame = get_df_voxel_subtracted_frame(list_df_voxel_scene, frame_idx, n_frames_per_side, shift)\n",
      "1.3257734775543213 : df_frame_orig['voxel_id'] =  df_frame_orig.apply(lambda x: point_to_voxel(x, voxel_size), axis=1)\n",
      "0.001995086669921875 : df_labels = df_frame_orig.voxel_id.isin(df_subtracted_frame.voxel_id)\n",
      "(6, 5)\n",
      "(30, 5)\n",
      "0.184004545211792 : df_frame_orig_subtracted = df_frame_orig[df_labels]\n",
      "(1955, 5)\n",
      "file_labels: voxelling_output/submission_files/test_vid_19_pred__final/0000033_labels.csv\n",
      "0.10103917121887207 : df_labels.to_csv(pickles_path+\"df_labels__frame_%d__%s__voxel_size_%d_(%d,%d,%d).p\"%(frame_idx, vid, voxel_size, n_frames_per_side, shift, n_frames_per_side))\n",
      "1955\n",
      "0.002993345260620117 : save_frame_for_movie(df_frame_orig_subtracted, \"tmp_only_labeled/\", all_files, frame_idx)\n"
     ]
    },
    {
     "name": "stderr",
     "output_type": "stream",
     "text": [
      "\r",
      "  3%|█████▎                                                                                                                                                        | 34/1000 [03:49<1:48:32,  6.74s/it]"
     ]
    },
    {
     "name": "stdout",
     "output_type": "stream",
     "text": [
      "=========================================================================\n",
      "frame_idx = 34\n",
      "=========================================================================\n",
      "0.0 : list_idx = get_list_idx_for_frame(frame_idx, n_frames_per_side, shift)\n",
      "5.090688467025757 : df_subtracted_frame = get_df_voxel_subtracted_frame(list_df_voxel_scene, frame_idx, n_frames_per_side, shift)\n",
      "1.342094898223877 : df_frame_orig['voxel_id'] =  df_frame_orig.apply(lambda x: point_to_voxel(x, voxel_size), axis=1)\n",
      "0.001992464065551758 : df_labels = df_frame_orig.voxel_id.isin(df_subtracted_frame.voxel_id)\n",
      "(6, 5)\n",
      "(25, 5)\n",
      "0.18068504333496094 : df_frame_orig_subtracted = df_frame_orig[df_labels]\n",
      "(2244, 5)\n",
      "file_labels: voxelling_output/submission_files/test_vid_19_pred__final/0000034_labels.csv\n",
      "0.09925627708435059 : df_labels.to_csv(pickles_path+\"df_labels__frame_%d__%s__voxel_size_%d_(%d,%d,%d).p\"%(frame_idx, vid, voxel_size, n_frames_per_side, shift, n_frames_per_side))\n",
      "2244\n",
      "0.0040018558502197266 : save_frame_for_movie(df_frame_orig_subtracted, \"tmp_only_labeled/\", all_files, frame_idx)\n"
     ]
    },
    {
     "name": "stderr",
     "output_type": "stream",
     "text": [
      "\r",
      "  4%|█████▌                                                                                                                                                        | 35/1000 [03:55<1:48:26,  6.74s/it]"
     ]
    },
    {
     "name": "stdout",
     "output_type": "stream",
     "text": [
      "=========================================================================\n",
      "frame_idx = 35\n",
      "=========================================================================\n",
      "0.0009946823120117188 : list_idx = get_list_idx_for_frame(frame_idx, n_frames_per_side, shift)\n",
      "5.054722785949707 : df_subtracted_frame = get_df_voxel_subtracted_frame(list_df_voxel_scene, frame_idx, n_frames_per_side, shift)\n",
      "1.308053731918335 : df_frame_orig['voxel_id'] =  df_frame_orig.apply(lambda x: point_to_voxel(x, voxel_size), axis=1)\n",
      "0.0019958019256591797 : df_labels = df_frame_orig.voxel_id.isin(df_subtracted_frame.voxel_id)\n",
      "(6, 5)\n",
      "(29, 5)\n",
      "0.18699908256530762 : df_frame_orig_subtracted = df_frame_orig[df_labels]\n",
      "(2584, 5)\n",
      "file_labels: voxelling_output/submission_files/test_vid_19_pred__final/0000035_labels.csv\n",
      "0.09873652458190918 : df_labels.to_csv(pickles_path+\"df_labels__frame_%d__%s__voxel_size_%d_(%d,%d,%d).p\"%(frame_idx, vid, voxel_size, n_frames_per_side, shift, n_frames_per_side))\n",
      "2584\n",
      "0.0029926300048828125 : save_frame_for_movie(df_frame_orig_subtracted, \"tmp_only_labeled/\", all_files, frame_idx)\n"
     ]
    },
    {
     "name": "stderr",
     "output_type": "stream",
     "text": [
      "\r",
      "  4%|█████▋                                                                                                                                                        | 36/1000 [04:02<1:48:18,  6.74s/it]"
     ]
    },
    {
     "name": "stdout",
     "output_type": "stream",
     "text": [
      "=========================================================================\n",
      "frame_idx = 36\n",
      "=========================================================================\n",
      "0.0 : list_idx = get_list_idx_for_frame(frame_idx, n_frames_per_side, shift)\n",
      "5.092401504516602 : df_subtracted_frame = get_df_voxel_subtracted_frame(list_df_voxel_scene, frame_idx, n_frames_per_side, shift)\n",
      "1.3293161392211914 : df_frame_orig['voxel_id'] =  df_frame_orig.apply(lambda x: point_to_voxel(x, voxel_size), axis=1)\n",
      "0.001994609832763672 : df_labels = df_frame_orig.voxel_id.isin(df_subtracted_frame.voxel_id)\n",
      "(6, 5)\n",
      "(37, 5)\n",
      "0.18207740783691406 : df_frame_orig_subtracted = df_frame_orig[df_labels]\n",
      "(2710, 5)\n",
      "file_labels: voxelling_output/submission_files/test_vid_19_pred__final/0000036_labels.csv\n",
      "0.10622763633728027 : df_labels.to_csv(pickles_path+\"df_labels__frame_%d__%s__voxel_size_%d_(%d,%d,%d).p\"%(frame_idx, vid, voxel_size, n_frames_per_side, shift, n_frames_per_side))\n",
      "2710\n",
      "0.003003835678100586 : save_frame_for_movie(df_frame_orig_subtracted, \"tmp_only_labeled/\", all_files, frame_idx)\n"
     ]
    },
    {
     "name": "stderr",
     "output_type": "stream",
     "text": [
      "\r",
      "  4%|█████▊                                                                                                                                                        | 37/1000 [04:09<1:48:11,  6.74s/it]"
     ]
    },
    {
     "name": "stdout",
     "output_type": "stream",
     "text": [
      "=========================================================================\n",
      "frame_idx = 37\n",
      "=========================================================================\n",
      "0.0010111331939697266 : list_idx = get_list_idx_for_frame(frame_idx, n_frames_per_side, shift)\n",
      "5.112270355224609 : df_subtracted_frame = get_df_voxel_subtracted_frame(list_df_voxel_scene, frame_idx, n_frames_per_side, shift)\n",
      "1.3075518608093262 : df_frame_orig['voxel_id'] =  df_frame_orig.apply(lambda x: point_to_voxel(x, voxel_size), axis=1)\n",
      "0.0009970664978027344 : df_labels = df_frame_orig.voxel_id.isin(df_subtracted_frame.voxel_id)\n",
      "(7, 5)\n",
      "(27, 5)\n",
      "0.1800386905670166 : df_frame_orig_subtracted = df_frame_orig[df_labels]\n",
      "(2667, 5)\n",
      "file_labels: voxelling_output/submission_files/test_vid_19_pred__final/0000037_labels.csv\n",
      "0.09275341033935547 : df_labels.to_csv(pickles_path+\"df_labels__frame_%d__%s__voxel_size_%d_(%d,%d,%d).p\"%(frame_idx, vid, voxel_size, n_frames_per_side, shift, n_frames_per_side))\n",
      "2667\n",
      "0.0019783973693847656 : save_frame_for_movie(df_frame_orig_subtracted, \"tmp_only_labeled/\", all_files, frame_idx)\n"
     ]
    },
    {
     "name": "stderr",
     "output_type": "stream",
     "text": [
      "\r",
      "  4%|██████                                                                                                                                                        | 38/1000 [04:16<1:48:04,  6.74s/it]"
     ]
    },
    {
     "name": "stdout",
     "output_type": "stream",
     "text": [
      "=========================================================================\n",
      "frame_idx = 38\n",
      "=========================================================================\n",
      "0.0009958744049072266 : list_idx = get_list_idx_for_frame(frame_idx, n_frames_per_side, shift)\n",
      "5.047280311584473 : df_subtracted_frame = get_df_voxel_subtracted_frame(list_df_voxel_scene, frame_idx, n_frames_per_side, shift)\n",
      "1.3398561477661133 : df_frame_orig['voxel_id'] =  df_frame_orig.apply(lambda x: point_to_voxel(x, voxel_size), axis=1)\n",
      "0.001947641372680664 : df_labels = df_frame_orig.voxel_id.isin(df_subtracted_frame.voxel_id)\n",
      "(7, 5)\n",
      "(43, 5)\n",
      "0.18752455711364746 : df_frame_orig_subtracted = df_frame_orig[df_labels]\n",
      "(2393, 5)\n",
      "file_labels: voxelling_output/submission_files/test_vid_19_pred__final/0000038_labels.csv\n",
      "0.09375214576721191 : df_labels.to_csv(pickles_path+\"df_labels__frame_%d__%s__voxel_size_%d_(%d,%d,%d).p\"%(frame_idx, vid, voxel_size, n_frames_per_side, shift, n_frames_per_side))\n",
      "2393\n",
      "0.002991199493408203 : save_frame_for_movie(df_frame_orig_subtracted, \"tmp_only_labeled/\", all_files, frame_idx)\n"
     ]
    },
    {
     "name": "stderr",
     "output_type": "stream",
     "text": [
      "\r",
      "  4%|██████▏                                                                                                                                                       | 39/1000 [04:22<1:47:56,  6.74s/it]"
     ]
    },
    {
     "name": "stdout",
     "output_type": "stream",
     "text": [
      "=========================================================================\n",
      "frame_idx = 39\n",
      "=========================================================================\n",
      "0.0 : list_idx = get_list_idx_for_frame(frame_idx, n_frames_per_side, shift)\n",
      "5.04894495010376 : df_subtracted_frame = get_df_voxel_subtracted_frame(list_df_voxel_scene, frame_idx, n_frames_per_side, shift)\n",
      "1.3292686939239502 : df_frame_orig['voxel_id'] =  df_frame_orig.apply(lambda x: point_to_voxel(x, voxel_size), axis=1)\n",
      "0.001977682113647461 : df_labels = df_frame_orig.voxel_id.isin(df_subtracted_frame.voxel_id)\n",
      "(3, 5)\n",
      "(27, 5)\n",
      "0.18944883346557617 : df_frame_orig_subtracted = df_frame_orig[df_labels]\n",
      "(3236, 5)\n",
      "file_labels: voxelling_output/submission_files/test_vid_19_pred__final/0000039_labels.csv\n",
      "0.09126973152160645 : df_labels.to_csv(pickles_path+\"df_labels__frame_%d__%s__voxel_size_%d_(%d,%d,%d).p\"%(frame_idx, vid, voxel_size, n_frames_per_side, shift, n_frames_per_side))\n",
      "3236\n",
      "0.0029926300048828125 : save_frame_for_movie(df_frame_orig_subtracted, \"tmp_only_labeled/\", all_files, frame_idx)\n"
     ]
    },
    {
     "name": "stderr",
     "output_type": "stream",
     "text": [
      "\r",
      "  4%|██████▎                                                                                                                                                       | 40/1000 [04:29<1:47:48,  6.74s/it]"
     ]
    },
    {
     "name": "stdout",
     "output_type": "stream",
     "text": [
      "=========================================================================\n",
      "frame_idx = 40\n",
      "=========================================================================\n",
      "0.0 : list_idx = get_list_idx_for_frame(frame_idx, n_frames_per_side, shift)\n",
      "4.988525629043579 : df_subtracted_frame = get_df_voxel_subtracted_frame(list_df_voxel_scene, frame_idx, n_frames_per_side, shift)\n",
      "1.3197581768035889 : df_frame_orig['voxel_id'] =  df_frame_orig.apply(lambda x: point_to_voxel(x, voxel_size), axis=1)\n",
      "0.0009949207305908203 : df_labels = df_frame_orig.voxel_id.isin(df_subtracted_frame.voxel_id)\n",
      "(4, 5)\n",
      "(42, 5)\n",
      "0.18309617042541504 : df_frame_orig_subtracted = df_frame_orig[df_labels]\n",
      "(3171, 5)\n",
      "file_labels: voxelling_output/submission_files/test_vid_19_pred__final/0000040_labels.csv\n",
      "0.09226322174072266 : df_labels.to_csv(pickles_path+\"df_labels__frame_%d__%s__voxel_size_%d_(%d,%d,%d).p\"%(frame_idx, vid, voxel_size, n_frames_per_side, shift, n_frames_per_side))\n",
      "3171\n",
      "0.001995563507080078 : save_frame_for_movie(df_frame_orig_subtracted, \"tmp_only_labeled/\", all_files, frame_idx)\n"
     ]
    },
    {
     "name": "stderr",
     "output_type": "stream",
     "text": [
      "\r",
      "  4%|██████▍                                                                                                                                                       | 41/1000 [04:36<1:47:38,  6.74s/it]"
     ]
    },
    {
     "name": "stdout",
     "output_type": "stream",
     "text": [
      "=========================================================================\n",
      "frame_idx = 41\n",
      "=========================================================================\n",
      "0.0 : list_idx = get_list_idx_for_frame(frame_idx, n_frames_per_side, shift)\n",
      "5.04359245300293 : df_subtracted_frame = get_df_voxel_subtracted_frame(list_df_voxel_scene, frame_idx, n_frames_per_side, shift)\n",
      "1.3199760913848877 : df_frame_orig['voxel_id'] =  df_frame_orig.apply(lambda x: point_to_voxel(x, voxel_size), axis=1)\n",
      "0.0009949207305908203 : df_labels = df_frame_orig.voxel_id.isin(df_subtracted_frame.voxel_id)\n",
      "(7, 5)\n",
      "(48, 5)\n",
      "0.18058323860168457 : df_frame_orig_subtracted = df_frame_orig[df_labels]\n",
      "(2771, 5)\n",
      "file_labels: voxelling_output/submission_files/test_vid_19_pred__final/0000041_labels.csv\n",
      "0.09601998329162598 : df_labels.to_csv(pickles_path+\"df_labels__frame_%d__%s__voxel_size_%d_(%d,%d,%d).p\"%(frame_idx, vid, voxel_size, n_frames_per_side, shift, n_frames_per_side))\n",
      "2771\n",
      "0.0029969215393066406 : save_frame_for_movie(df_frame_orig_subtracted, \"tmp_only_labeled/\", all_files, frame_idx)\n"
     ]
    },
    {
     "name": "stderr",
     "output_type": "stream",
     "text": [
      "\r",
      "  4%|██████▋                                                                                                                                                       | 42/1000 [04:42<1:47:30,  6.73s/it]"
     ]
    },
    {
     "name": "stdout",
     "output_type": "stream",
     "text": [
      "=========================================================================\n",
      "frame_idx = 42\n",
      "=========================================================================\n",
      "0.0009958744049072266 : list_idx = get_list_idx_for_frame(frame_idx, n_frames_per_side, shift)\n",
      "4.9873316287994385 : df_subtracted_frame = get_df_voxel_subtracted_frame(list_df_voxel_scene, frame_idx, n_frames_per_side, shift)\n",
      "1.3077106475830078 : df_frame_orig['voxel_id'] =  df_frame_orig.apply(lambda x: point_to_voxel(x, voxel_size), axis=1)\n",
      "0.001980304718017578 : df_labels = df_frame_orig.voxel_id.isin(df_subtracted_frame.voxel_id)\n",
      "(2, 5)\n",
      "(26, 5)\n",
      "0.18298578262329102 : df_frame_orig_subtracted = df_frame_orig[df_labels]\n",
      "(3126, 5)\n",
      "file_labels: voxelling_output/submission_files/test_vid_19_pred__final/0000042_labels.csv\n",
      "0.09889459609985352 : df_labels.to_csv(pickles_path+\"df_labels__frame_%d__%s__voxel_size_%d_(%d,%d,%d).p\"%(frame_idx, vid, voxel_size, n_frames_per_side, shift, n_frames_per_side))\n",
      "3126\n",
      "0.004991054534912109 : save_frame_for_movie(df_frame_orig_subtracted, \"tmp_only_labeled/\", all_files, frame_idx)\n"
     ]
    },
    {
     "name": "stderr",
     "output_type": "stream",
     "text": [
      "\r",
      "  4%|██████▊                                                                                                                                                       | 43/1000 [04:49<1:47:21,  6.73s/it]"
     ]
    },
    {
     "name": "stdout",
     "output_type": "stream",
     "text": [
      "=========================================================================\n",
      "frame_idx = 43\n",
      "=========================================================================\n",
      "0.0010001659393310547 : list_idx = get_list_idx_for_frame(frame_idx, n_frames_per_side, shift)\n",
      "5.121468782424927 : df_subtracted_frame = get_df_voxel_subtracted_frame(list_df_voxel_scene, frame_idx, n_frames_per_side, shift)\n",
      "1.4226903915405273 : df_frame_orig['voxel_id'] =  df_frame_orig.apply(lambda x: point_to_voxel(x, voxel_size), axis=1)\n",
      "0.0019898414611816406 : df_labels = df_frame_orig.voxel_id.isin(df_subtracted_frame.voxel_id)\n",
      "(3, 5)\n",
      "(28, 5)\n",
      "0.18301820755004883 : df_frame_orig_subtracted = df_frame_orig[df_labels]\n",
      "(3242, 5)\n",
      "file_labels: voxelling_output/submission_files/test_vid_19_pred__final/0000043_labels.csv\n",
      "0.09425592422485352 : df_labels.to_csv(pickles_path+\"df_labels__frame_%d__%s__voxel_size_%d_(%d,%d,%d).p\"%(frame_idx, vid, voxel_size, n_frames_per_side, shift, n_frames_per_side))\n",
      "3242\n",
      "0.002986431121826172 : save_frame_for_movie(df_frame_orig_subtracted, \"tmp_only_labeled/\", all_files, frame_idx)\n"
     ]
    },
    {
     "name": "stderr",
     "output_type": "stream",
     "text": [
      "\r",
      "  4%|██████▉                                                                                                                                                       | 44/1000 [04:56<1:47:17,  6.73s/it]"
     ]
    },
    {
     "name": "stdout",
     "output_type": "stream",
     "text": [
      "=========================================================================\n",
      "frame_idx = 44\n",
      "=========================================================================\n",
      "0.0 : list_idx = get_list_idx_for_frame(frame_idx, n_frames_per_side, shift)\n",
      "5.477006673812866 : df_subtracted_frame = get_df_voxel_subtracted_frame(list_df_voxel_scene, frame_idx, n_frames_per_side, shift)\n",
      "1.4414806365966797 : df_frame_orig['voxel_id'] =  df_frame_orig.apply(lambda x: point_to_voxel(x, voxel_size), axis=1)\n",
      "0.0010075569152832031 : df_labels = df_frame_orig.voxel_id.isin(df_subtracted_frame.voxel_id)\n",
      "(6, 5)\n",
      "(30, 5)\n",
      "0.19351506233215332 : df_frame_orig_subtracted = df_frame_orig[df_labels]\n",
      "(3566, 5)\n",
      "file_labels: voxelling_output/submission_files/test_vid_19_pred__final/0000044_labels.csv\n",
      "0.1012423038482666 : df_labels.to_csv(pickles_path+\"df_labels__frame_%d__%s__voxel_size_%d_(%d,%d,%d).p\"%(frame_idx, vid, voxel_size, n_frames_per_side, shift, n_frames_per_side))\n",
      "3566\n",
      "0.0019948482513427734 : save_frame_for_movie(df_frame_orig_subtracted, \"tmp_only_labeled/\", all_files, frame_idx)\n"
     ]
    },
    {
     "name": "stderr",
     "output_type": "stream",
     "text": [
      "\r",
      "  4%|███████                                                                                                                                                       | 45/1000 [05:03<1:47:21,  6.75s/it]"
     ]
    },
    {
     "name": "stdout",
     "output_type": "stream",
     "text": [
      "=========================================================================\n",
      "frame_idx = 45\n",
      "=========================================================================\n",
      "0.0 : list_idx = get_list_idx_for_frame(frame_idx, n_frames_per_side, shift)\n",
      "5.247871398925781 : df_subtracted_frame = get_df_voxel_subtracted_frame(list_df_voxel_scene, frame_idx, n_frames_per_side, shift)\n",
      "1.3398189544677734 : df_frame_orig['voxel_id'] =  df_frame_orig.apply(lambda x: point_to_voxel(x, voxel_size), axis=1)\n",
      "0.0019822120666503906 : df_labels = df_frame_orig.voxel_id.isin(df_subtracted_frame.voxel_id)\n",
      "(4, 5)\n",
      "(31, 5)\n",
      "0.185715913772583 : df_frame_orig_subtracted = df_frame_orig[df_labels]\n",
      "(3563, 5)\n",
      "file_labels: voxelling_output/submission_files/test_vid_19_pred__final/0000045_labels.csv\n",
      "0.0982353687286377 : df_labels.to_csv(pickles_path+\"df_labels__frame_%d__%s__voxel_size_%d_(%d,%d,%d).p\"%(frame_idx, vid, voxel_size, n_frames_per_side, shift, n_frames_per_side))\n",
      "3563\n",
      "0.004985332489013672 : save_frame_for_movie(df_frame_orig_subtracted, \"tmp_only_labeled/\", all_files, frame_idx)\n"
     ]
    },
    {
     "name": "stderr",
     "output_type": "stream",
     "text": [
      "\r",
      "  5%|███████▎                                                                                                                                                      | 46/1000 [05:10<1:47:18,  6.75s/it]"
     ]
    },
    {
     "name": "stdout",
     "output_type": "stream",
     "text": [
      "=========================================================================\n",
      "frame_idx = 46\n",
      "=========================================================================\n",
      "0.0 : list_idx = get_list_idx_for_frame(frame_idx, n_frames_per_side, shift)\n",
      "5.1849000453948975 : df_subtracted_frame = get_df_voxel_subtracted_frame(list_df_voxel_scene, frame_idx, n_frames_per_side, shift)\n",
      "1.3285601139068604 : df_frame_orig['voxel_id'] =  df_frame_orig.apply(lambda x: point_to_voxel(x, voxel_size), axis=1)\n",
      "0.001995086669921875 : df_labels = df_frame_orig.voxel_id.isin(df_subtracted_frame.voxel_id)\n",
      "(6, 5)\n",
      "(28, 5)\n",
      "0.18051695823669434 : df_frame_orig_subtracted = df_frame_orig[df_labels]\n",
      "(3525, 5)\n",
      "file_labels: voxelling_output/submission_files/test_vid_19_pred__final/0000046_labels.csv\n",
      "0.10011792182922363 : df_labels.to_csv(pickles_path+\"df_labels__frame_%d__%s__voxel_size_%d_(%d,%d,%d).p\"%(frame_idx, vid, voxel_size, n_frames_per_side, shift, n_frames_per_side))\n",
      "3525\n",
      "0.003992319107055664 : save_frame_for_movie(df_frame_orig_subtracted, \"tmp_only_labeled/\", all_files, frame_idx)\n"
     ]
    },
    {
     "name": "stderr",
     "output_type": "stream",
     "text": [
      "\r",
      "  5%|███████▍                                                                                                                                                      | 47/1000 [05:17<1:47:13,  6.75s/it]"
     ]
    },
    {
     "name": "stdout",
     "output_type": "stream",
     "text": [
      "=========================================================================\n",
      "frame_idx = 47\n",
      "=========================================================================\n",
      "0.0 : list_idx = get_list_idx_for_frame(frame_idx, n_frames_per_side, shift)\n",
      "5.027058362960815 : df_subtracted_frame = get_df_voxel_subtracted_frame(list_df_voxel_scene, frame_idx, n_frames_per_side, shift)\n",
      "1.327223777770996 : df_frame_orig['voxel_id'] =  df_frame_orig.apply(lambda x: point_to_voxel(x, voxel_size), axis=1)\n",
      "0.001995086669921875 : df_labels = df_frame_orig.voxel_id.isin(df_subtracted_frame.voxel_id)\n",
      "(5, 5)\n",
      "(35, 5)\n",
      "0.18596959114074707 : df_frame_orig_subtracted = df_frame_orig[df_labels]\n",
      "(3445, 5)\n",
      "file_labels: voxelling_output/submission_files/test_vid_19_pred__final/0000047_labels.csv\n",
      "0.0982522964477539 : df_labels.to_csv(pickles_path+\"df_labels__frame_%d__%s__voxel_size_%d_(%d,%d,%d).p\"%(frame_idx, vid, voxel_size, n_frames_per_side, shift, n_frames_per_side))\n",
      "3445\n",
      "0.0019965171813964844 : save_frame_for_movie(df_frame_orig_subtracted, \"tmp_only_labeled/\", all_files, frame_idx)\n"
     ]
    },
    {
     "name": "stderr",
     "output_type": "stream",
     "text": [
      "\r",
      "  5%|███████▌                                                                                                                                                      | 48/1000 [05:23<1:47:04,  6.75s/it]"
     ]
    },
    {
     "name": "stdout",
     "output_type": "stream",
     "text": [
      "=========================================================================\n",
      "frame_idx = 48\n",
      "=========================================================================\n",
      "0.0 : list_idx = get_list_idx_for_frame(frame_idx, n_frames_per_side, shift)\n",
      "5.052510976791382 : df_subtracted_frame = get_df_voxel_subtracted_frame(list_df_voxel_scene, frame_idx, n_frames_per_side, shift)\n",
      "1.3291597366333008 : df_frame_orig['voxel_id'] =  df_frame_orig.apply(lambda x: point_to_voxel(x, voxel_size), axis=1)\n",
      "0.0009860992431640625 : df_labels = df_frame_orig.voxel_id.isin(df_subtracted_frame.voxel_id)\n",
      "(4, 5)\n",
      "(29, 5)\n",
      "0.17954754829406738 : df_frame_orig_subtracted = df_frame_orig[df_labels]\n",
      "(3230, 5)\n",
      "file_labels: voxelling_output/submission_files/test_vid_19_pred__final/0000048_labels.csv\n",
      "0.09508419036865234 : df_labels.to_csv(pickles_path+\"df_labels__frame_%d__%s__voxel_size_%d_(%d,%d,%d).p\"%(frame_idx, vid, voxel_size, n_frames_per_side, shift, n_frames_per_side))\n",
      "3230\n",
      "0.0029592514038085938 : save_frame_for_movie(df_frame_orig_subtracted, \"tmp_only_labeled/\", all_files, frame_idx)\n"
     ]
    },
    {
     "name": "stderr",
     "output_type": "stream",
     "text": [
      "\r",
      "  5%|███████▋                                                                                                                                                      | 49/1000 [05:30<1:46:56,  6.75s/it]"
     ]
    },
    {
     "name": "stdout",
     "output_type": "stream",
     "text": [
      "=========================================================================\n",
      "frame_idx = 49\n",
      "=========================================================================\n",
      "0.0 : list_idx = get_list_idx_for_frame(frame_idx, n_frames_per_side, shift)\n",
      "5.036670207977295 : df_subtracted_frame = get_df_voxel_subtracted_frame(list_df_voxel_scene, frame_idx, n_frames_per_side, shift)\n",
      "1.3426108360290527 : df_frame_orig['voxel_id'] =  df_frame_orig.apply(lambda x: point_to_voxel(x, voxel_size), axis=1)\n",
      "0.0009965896606445312 : df_labels = df_frame_orig.voxel_id.isin(df_subtracted_frame.voxel_id)\n",
      "(3, 5)\n",
      "(42, 5)\n",
      "0.18054795265197754 : df_frame_orig_subtracted = df_frame_orig[df_labels]\n",
      "(2984, 5)\n",
      "file_labels: voxelling_output/submission_files/test_vid_19_pred__final/0000049_labels.csv\n",
      "0.09375786781311035 : df_labels.to_csv(pickles_path+\"df_labels__frame_%d__%s__voxel_size_%d_(%d,%d,%d).p\"%(frame_idx, vid, voxel_size, n_frames_per_side, shift, n_frames_per_side))\n",
      "2984\n",
      "0.002985715866088867 : save_frame_for_movie(df_frame_orig_subtracted, \"tmp_only_labeled/\", all_files, frame_idx)\n"
     ]
    },
    {
     "name": "stderr",
     "output_type": "stream",
     "text": [
      "\r",
      "  5%|███████▉                                                                                                                                                      | 50/1000 [05:37<1:46:48,  6.75s/it]"
     ]
    },
    {
     "name": "stdout",
     "output_type": "stream",
     "text": [
      "=========================================================================\n",
      "frame_idx = 50\n",
      "=========================================================================\n",
      "0.0 : list_idx = get_list_idx_for_frame(frame_idx, n_frames_per_side, shift)\n",
      "4.967678785324097 : df_subtracted_frame = get_df_voxel_subtracted_frame(list_df_voxel_scene, frame_idx, n_frames_per_side, shift)\n",
      "1.3314826488494873 : df_frame_orig['voxel_id'] =  df_frame_orig.apply(lambda x: point_to_voxel(x, voxel_size), axis=1)\n",
      "0.0009870529174804688 : df_labels = df_frame_orig.voxel_id.isin(df_subtracted_frame.voxel_id)\n",
      "(4, 5)\n",
      "(42, 5)\n",
      "0.18450546264648438 : df_frame_orig_subtracted = df_frame_orig[df_labels]\n",
      "(2866, 5)\n",
      "file_labels: voxelling_output/submission_files/test_vid_19_pred__final/0000050_labels.csv\n",
      "0.09486746788024902 : df_labels.to_csv(pickles_path+\"df_labels__frame_%d__%s__voxel_size_%d_(%d,%d,%d).p\"%(frame_idx, vid, voxel_size, n_frames_per_side, shift, n_frames_per_side))\n",
      "2866\n",
      "0.0019936561584472656 : save_frame_for_movie(df_frame_orig_subtracted, \"tmp_only_labeled/\", all_files, frame_idx)\n"
     ]
    },
    {
     "name": "stderr",
     "output_type": "stream",
     "text": [
      "\r",
      "  5%|████████                                                                                                                                                      | 51/1000 [05:43<1:46:39,  6.74s/it]"
     ]
    },
    {
     "name": "stdout",
     "output_type": "stream",
     "text": [
      "=========================================================================\n",
      "frame_idx = 51\n",
      "=========================================================================\n",
      "0.0010118484497070312 : list_idx = get_list_idx_for_frame(frame_idx, n_frames_per_side, shift)\n",
      "5.058850526809692 : df_subtracted_frame = get_df_voxel_subtracted_frame(list_df_voxel_scene, frame_idx, n_frames_per_side, shift)\n",
      "1.326716661453247 : df_frame_orig['voxel_id'] =  df_frame_orig.apply(lambda x: point_to_voxel(x, voxel_size), axis=1)\n",
      "0.0009984970092773438 : df_labels = df_frame_orig.voxel_id.isin(df_subtracted_frame.voxel_id)\n",
      "(8, 5)\n",
      "(33, 5)\n",
      "0.1813652515411377 : df_frame_orig_subtracted = df_frame_orig[df_labels]\n",
      "(2611, 5)\n",
      "file_labels: voxelling_output/submission_files/test_vid_19_pred__final/0000051_labels.csv\n",
      "0.09574723243713379 : df_labels.to_csv(pickles_path+\"df_labels__frame_%d__%s__voxel_size_%d_(%d,%d,%d).p\"%(frame_idx, vid, voxel_size, n_frames_per_side, shift, n_frames_per_side))\n",
      "2611\n",
      "0.002990245819091797 : save_frame_for_movie(df_frame_orig_subtracted, \"tmp_only_labeled/\", all_files, frame_idx)\n"
     ]
    },
    {
     "name": "stderr",
     "output_type": "stream",
     "text": [
      "\r",
      "  5%|████████▏                                                                                                                                                     | 52/1000 [05:50<1:46:32,  6.74s/it]"
     ]
    },
    {
     "name": "stdout",
     "output_type": "stream",
     "text": [
      "=========================================================================\n",
      "frame_idx = 52\n",
      "=========================================================================\n",
      "0.0 : list_idx = get_list_idx_for_frame(frame_idx, n_frames_per_side, shift)\n",
      "5.45143461227417 : df_subtracted_frame = get_df_voxel_subtracted_frame(list_df_voxel_scene, frame_idx, n_frames_per_side, shift)\n",
      "1.443472146987915 : df_frame_orig['voxel_id'] =  df_frame_orig.apply(lambda x: point_to_voxel(x, voxel_size), axis=1)\n",
      "0.0009963512420654297 : df_labels = df_frame_orig.voxel_id.isin(df_subtracted_frame.voxel_id)\n",
      "(2, 5)\n",
      "(42, 5)\n",
      "0.2024850845336914 : df_frame_orig_subtracted = df_frame_orig[df_labels]\n",
      "(2464, 5)\n",
      "file_labels: voxelling_output/submission_files/test_vid_19_pred__final/0000052_labels.csv\n",
      "0.10473299026489258 : df_labels.to_csv(pickles_path+\"df_labels__frame_%d__%s__voxel_size_%d_(%d,%d,%d).p\"%(frame_idx, vid, voxel_size, n_frames_per_side, shift, n_frames_per_side))\n",
      "2464\n",
      "0.0029947757720947266 : save_frame_for_movie(df_frame_orig_subtracted, \"tmp_only_labeled/\", all_files, frame_idx)\n"
     ]
    },
    {
     "name": "stderr",
     "output_type": "stream",
     "text": [
      "\r",
      "  5%|████████▎                                                                                                                                                     | 53/1000 [05:57<1:46:34,  6.75s/it]"
     ]
    },
    {
     "name": "stdout",
     "output_type": "stream",
     "text": [
      "=========================================================================\n",
      "frame_idx = 53\n",
      "=========================================================================\n",
      "0.0009746551513671875 : list_idx = get_list_idx_for_frame(frame_idx, n_frames_per_side, shift)\n",
      "5.366518259048462 : df_subtracted_frame = get_df_voxel_subtracted_frame(list_df_voxel_scene, frame_idx, n_frames_per_side, shift)\n",
      "1.3266797065734863 : df_frame_orig['voxel_id'] =  df_frame_orig.apply(lambda x: point_to_voxel(x, voxel_size), axis=1)\n",
      "0.0009970664978027344 : df_labels = df_frame_orig.voxel_id.isin(df_subtracted_frame.voxel_id)\n",
      "(6, 5)\n",
      "(31, 5)\n",
      "0.18254590034484863 : df_frame_orig_subtracted = df_frame_orig[df_labels]\n",
      "(2209, 5)\n",
      "file_labels: voxelling_output/submission_files/test_vid_19_pred__final/0000053_labels.csv\n",
      "0.09378314018249512 : df_labels.to_csv(pickles_path+\"df_labels__frame_%d__%s__voxel_size_%d_(%d,%d,%d).p\"%(frame_idx, vid, voxel_size, n_frames_per_side, shift, n_frames_per_side))\n",
      "2209\n",
      "0.0029931068420410156 : save_frame_for_movie(df_frame_orig_subtracted, \"tmp_only_labeled/\", all_files, frame_idx)\n"
     ]
    },
    {
     "name": "stderr",
     "output_type": "stream",
     "text": [
      "\r",
      "  5%|████████▌                                                                                                                                                     | 54/1000 [06:04<1:46:31,  6.76s/it]"
     ]
    },
    {
     "name": "stdout",
     "output_type": "stream",
     "text": [
      "=========================================================================\n",
      "frame_idx = 54\n",
      "=========================================================================\n",
      "0.0009992122650146484 : list_idx = get_list_idx_for_frame(frame_idx, n_frames_per_side, shift)\n",
      "5.290242433547974 : df_subtracted_frame = get_df_voxel_subtracted_frame(list_df_voxel_scene, frame_idx, n_frames_per_side, shift)\n",
      "1.358811378479004 : df_frame_orig['voxel_id'] =  df_frame_orig.apply(lambda x: point_to_voxel(x, voxel_size), axis=1)\n",
      "0.0019941329956054688 : df_labels = df_frame_orig.voxel_id.isin(df_subtracted_frame.voxel_id)\n",
      "(7, 5)\n",
      "(40, 5)\n",
      "0.18154311180114746 : df_frame_orig_subtracted = df_frame_orig[df_labels]\n",
      "(1878, 5)\n",
      "file_labels: voxelling_output/submission_files/test_vid_19_pred__final/0000054_labels.csv\n",
      "0.09473490715026855 : df_labels.to_csv(pickles_path+\"df_labels__frame_%d__%s__voxel_size_%d_(%d,%d,%d).p\"%(frame_idx, vid, voxel_size, n_frames_per_side, shift, n_frames_per_side))\n",
      "1878\n",
      "0.003991603851318359 : save_frame_for_movie(df_frame_orig_subtracted, \"tmp_only_labeled/\", all_files, frame_idx)\n"
     ]
    },
    {
     "name": "stderr",
     "output_type": "stream",
     "text": [
      "\r",
      "  6%|████████▋                                                                                                                                                     | 55/1000 [06:11<1:46:28,  6.76s/it]"
     ]
    },
    {
     "name": "stdout",
     "output_type": "stream",
     "text": [
      "=========================================================================\n",
      "frame_idx = 55\n",
      "=========================================================================\n",
      "0.0 : list_idx = get_list_idx_for_frame(frame_idx, n_frames_per_side, shift)\n",
      "5.093733787536621 : df_subtracted_frame = get_df_voxel_subtracted_frame(list_df_voxel_scene, frame_idx, n_frames_per_side, shift)\n",
      "1.3397002220153809 : df_frame_orig['voxel_id'] =  df_frame_orig.apply(lambda x: point_to_voxel(x, voxel_size), axis=1)\n",
      "0.0019981861114501953 : df_labels = df_frame_orig.voxel_id.isin(df_subtracted_frame.voxel_id)\n",
      "(10, 5)\n",
      "(30, 5)\n",
      "0.1900770664215088 : df_frame_orig_subtracted = df_frame_orig[df_labels]\n",
      "(1480, 5)\n",
      "file_labels: voxelling_output/submission_files/test_vid_19_pred__final/0000055_labels.csv\n",
      "0.0937812328338623 : df_labels.to_csv(pickles_path+\"df_labels__frame_%d__%s__voxel_size_%d_(%d,%d,%d).p\"%(frame_idx, vid, voxel_size, n_frames_per_side, shift, n_frames_per_side))\n",
      "1480\n",
      "0.003000020980834961 : save_frame_for_movie(df_frame_orig_subtracted, \"tmp_only_labeled/\", all_files, frame_idx)\n"
     ]
    },
    {
     "name": "stderr",
     "output_type": "stream",
     "text": [
      "\r",
      "  6%|████████▊                                                                                                                                                     | 56/1000 [06:18<1:46:21,  6.76s/it]"
     ]
    },
    {
     "name": "stdout",
     "output_type": "stream",
     "text": [
      "=========================================================================\n",
      "frame_idx = 56\n",
      "=========================================================================\n",
      "0.0 : list_idx = get_list_idx_for_frame(frame_idx, n_frames_per_side, shift)\n",
      "5.020946741104126 : df_subtracted_frame = get_df_voxel_subtracted_frame(list_df_voxel_scene, frame_idx, n_frames_per_side, shift)\n",
      "1.3479063510894775 : df_frame_orig['voxel_id'] =  df_frame_orig.apply(lambda x: point_to_voxel(x, voxel_size), axis=1)\n",
      "0.0019915103912353516 : df_labels = df_frame_orig.voxel_id.isin(df_subtracted_frame.voxel_id)\n",
      "(5, 5)\n",
      "(30, 5)\n",
      "0.1798844337463379 : df_frame_orig_subtracted = df_frame_orig[df_labels]\n",
      "(1069, 5)\n",
      "file_labels: voxelling_output/submission_files/test_vid_19_pred__final/0000056_labels.csv\n",
      "0.09775662422180176 : df_labels.to_csv(pickles_path+\"df_labels__frame_%d__%s__voxel_size_%d_(%d,%d,%d).p\"%(frame_idx, vid, voxel_size, n_frames_per_side, shift, n_frames_per_side))\n",
      "1069\n",
      "0.002995729446411133 : save_frame_for_movie(df_frame_orig_subtracted, \"tmp_only_labeled/\", all_files, frame_idx)\n"
     ]
    },
    {
     "name": "stderr",
     "output_type": "stream",
     "text": [
      "\r",
      "  6%|█████████                                                                                                                                                     | 57/1000 [06:25<1:46:13,  6.76s/it]"
     ]
    },
    {
     "name": "stdout",
     "output_type": "stream",
     "text": [
      "=========================================================================\n",
      "frame_idx = 57\n",
      "=========================================================================\n",
      "0.0 : list_idx = get_list_idx_for_frame(frame_idx, n_frames_per_side, shift)\n",
      "5.417343378067017 : df_subtracted_frame = get_df_voxel_subtracted_frame(list_df_voxel_scene, frame_idx, n_frames_per_side, shift)\n",
      "1.4614710807800293 : df_frame_orig['voxel_id'] =  df_frame_orig.apply(lambda x: point_to_voxel(x, voxel_size), axis=1)\n",
      "0.0019893646240234375 : df_labels = df_frame_orig.voxel_id.isin(df_subtracted_frame.voxel_id)\n",
      "(2, 5)\n",
      "(37, 5)\n",
      "0.18488502502441406 : df_frame_orig_subtracted = df_frame_orig[df_labels]\n",
      "(702, 5)\n",
      "file_labels: voxelling_output/submission_files/test_vid_19_pred__final/0000057_labels.csv\n",
      "0.11818575859069824 : df_labels.to_csv(pickles_path+\"df_labels__frame_%d__%s__voxel_size_%d_(%d,%d,%d).p\"%(frame_idx, vid, voxel_size, n_frames_per_side, shift, n_frames_per_side))\n",
      "702\n",
      "0.0029914379119873047 : save_frame_for_movie(df_frame_orig_subtracted, \"tmp_only_labeled/\", all_files, frame_idx)\n"
     ]
    },
    {
     "name": "stderr",
     "output_type": "stream",
     "text": [
      "\r",
      "  6%|█████████▏                                                                                                                                                    | 58/1000 [06:32<1:46:14,  6.77s/it]"
     ]
    },
    {
     "name": "stdout",
     "output_type": "stream",
     "text": [
      "=========================================================================\n",
      "frame_idx = 58\n",
      "=========================================================================\n",
      "0.0 : list_idx = get_list_idx_for_frame(frame_idx, n_frames_per_side, shift)\n",
      "5.381330728530884 : df_subtracted_frame = get_df_voxel_subtracted_frame(list_df_voxel_scene, frame_idx, n_frames_per_side, shift)\n",
      "1.545846939086914 : df_frame_orig['voxel_id'] =  df_frame_orig.apply(lambda x: point_to_voxel(x, voxel_size), axis=1)\n",
      "0.0029909610748291016 : df_labels = df_frame_orig.voxel_id.isin(df_subtracted_frame.voxel_id)\n",
      "(9, 5)\n",
      "(34, 5)\n",
      "0.19649863243103027 : df_frame_orig_subtracted = df_frame_orig[df_labels]\n",
      "(445, 5)\n",
      "file_labels: voxelling_output/submission_files/test_vid_19_pred__final/0000058_labels.csv\n",
      "0.0977334976196289 : df_labels.to_csv(pickles_path+\"df_labels__frame_%d__%s__voxel_size_%d_(%d,%d,%d).p\"%(frame_idx, vid, voxel_size, n_frames_per_side, shift, n_frames_per_side))\n",
      "445\n",
      "0.002992391586303711 : save_frame_for_movie(df_frame_orig_subtracted, \"tmp_only_labeled/\", all_files, frame_idx)\n"
     ]
    },
    {
     "name": "stderr",
     "output_type": "stream",
     "text": [
      "\r",
      "  6%|█████████▎                                                                                                                                                    | 59/1000 [06:39<1:46:15,  6.77s/it]"
     ]
    },
    {
     "name": "stdout",
     "output_type": "stream",
     "text": [
      "=========================================================================\n",
      "frame_idx = 59\n",
      "=========================================================================\n",
      "0.0009965896606445312 : list_idx = get_list_idx_for_frame(frame_idx, n_frames_per_side, shift)\n",
      "5.564775228500366 : df_subtracted_frame = get_df_voxel_subtracted_frame(list_df_voxel_scene, frame_idx, n_frames_per_side, shift)\n",
      "1.4074654579162598 : df_frame_orig['voxel_id'] =  df_frame_orig.apply(lambda x: point_to_voxel(x, voxel_size), axis=1)\n",
      "0.0009975433349609375 : df_labels = df_frame_orig.voxel_id.isin(df_subtracted_frame.voxel_id)\n",
      "(2, 5)\n",
      "(35, 5)\n",
      "0.1825542449951172 : df_frame_orig_subtracted = df_frame_orig[df_labels]\n",
      "(448, 5)\n",
      "file_labels: voxelling_output/submission_files/test_vid_19_pred__final/0000059_labels.csv\n",
      "0.09574413299560547 : df_labels.to_csv(pickles_path+\"df_labels__frame_%d__%s__voxel_size_%d_(%d,%d,%d).p\"%(frame_idx, vid, voxel_size, n_frames_per_side, shift, n_frames_per_side))\n",
      "448\n",
      "0.00299072265625 : save_frame_for_movie(df_frame_orig_subtracted, \"tmp_only_labeled/\", all_files, frame_idx)\n"
     ]
    },
    {
     "name": "stderr",
     "output_type": "stream",
     "text": [
      "\r",
      "  6%|█████████▍                                                                                                                                                    | 60/1000 [06:47<1:46:16,  6.78s/it]"
     ]
    },
    {
     "name": "stdout",
     "output_type": "stream",
     "text": [
      "=========================================================================\n",
      "frame_idx = 60\n",
      "=========================================================================\n",
      "0.0 : list_idx = get_list_idx_for_frame(frame_idx, n_frames_per_side, shift)\n",
      "5.622224569320679 : df_subtracted_frame = get_df_voxel_subtracted_frame(list_df_voxel_scene, frame_idx, n_frames_per_side, shift)\n",
      "1.379652976989746 : df_frame_orig['voxel_id'] =  df_frame_orig.apply(lambda x: point_to_voxel(x, voxel_size), axis=1)\n",
      "0.00099945068359375 : df_labels = df_frame_orig.voxel_id.isin(df_subtracted_frame.voxel_id)\n",
      "(8, 5)\n",
      "(33, 5)\n",
      "0.18550419807434082 : df_frame_orig_subtracted = df_frame_orig[df_labels]\n",
      "(399, 5)\n",
      "file_labels: voxelling_output/submission_files/test_vid_19_pred__final/0000060_labels.csv\n",
      "0.09176325798034668 : df_labels.to_csv(pickles_path+\"df_labels__frame_%d__%s__voxel_size_%d_(%d,%d,%d).p\"%(frame_idx, vid, voxel_size, n_frames_per_side, shift, n_frames_per_side))\n",
      "399\n",
      "0.0029904842376708984 : save_frame_for_movie(df_frame_orig_subtracted, \"tmp_only_labeled/\", all_files, frame_idx)\n"
     ]
    },
    {
     "name": "stderr",
     "output_type": "stream",
     "text": [
      "\r",
      "  6%|█████████▋                                                                                                                                                    | 61/1000 [06:54<1:46:17,  6.79s/it]"
     ]
    },
    {
     "name": "stdout",
     "output_type": "stream",
     "text": [
      "=========================================================================\n",
      "frame_idx = 61\n",
      "=========================================================================\n",
      "0.0 : list_idx = get_list_idx_for_frame(frame_idx, n_frames_per_side, shift)\n",
      "5.551156044006348 : df_subtracted_frame = get_df_voxel_subtracted_frame(list_df_voxel_scene, frame_idx, n_frames_per_side, shift)\n",
      "1.490710973739624 : df_frame_orig['voxel_id'] =  df_frame_orig.apply(lambda x: point_to_voxel(x, voxel_size), axis=1)\n",
      "0.001991748809814453 : df_labels = df_frame_orig.voxel_id.isin(df_subtracted_frame.voxel_id)\n",
      "(4, 5)\n",
      "(28, 5)\n",
      "0.18005156517028809 : df_frame_orig_subtracted = df_frame_orig[df_labels]\n",
      "(357, 5)\n",
      "file_labels: voxelling_output/submission_files/test_vid_19_pred__final/0000061_labels.csv\n",
      "0.09323883056640625 : df_labels.to_csv(pickles_path+\"df_labels__frame_%d__%s__voxel_size_%d_(%d,%d,%d).p\"%(frame_idx, vid, voxel_size, n_frames_per_side, shift, n_frames_per_side))\n",
      "357\n",
      "0.0029921531677246094 : save_frame_for_movie(df_frame_orig_subtracted, \"tmp_only_labeled/\", all_files, frame_idx)\n"
     ]
    },
    {
     "name": "stderr",
     "output_type": "stream",
     "text": [
      "\r",
      "  6%|█████████▊                                                                                                                                                    | 62/1000 [07:01<1:46:19,  6.80s/it]"
     ]
    },
    {
     "name": "stdout",
     "output_type": "stream",
     "text": [
      "=========================================================================\n",
      "frame_idx = 62\n",
      "=========================================================================\n",
      "0.0 : list_idx = get_list_idx_for_frame(frame_idx, n_frames_per_side, shift)\n",
      "5.525809049606323 : df_subtracted_frame = get_df_voxel_subtracted_frame(list_df_voxel_scene, frame_idx, n_frames_per_side, shift)\n",
      "1.3909404277801514 : df_frame_orig['voxel_id'] =  df_frame_orig.apply(lambda x: point_to_voxel(x, voxel_size), axis=1)\n",
      "0.0019876956939697266 : df_labels = df_frame_orig.voxel_id.isin(df_subtracted_frame.voxel_id)\n",
      "(3, 5)\n",
      "(24, 5)\n",
      "0.18036365509033203 : df_frame_orig_subtracted = df_frame_orig[df_labels]\n",
      "(329, 5)\n",
      "file_labels: voxelling_output/submission_files/test_vid_19_pred__final/0000062_labels.csv\n",
      "0.09576845169067383 : df_labels.to_csv(pickles_path+\"df_labels__frame_%d__%s__voxel_size_%d_(%d,%d,%d).p\"%(frame_idx, vid, voxel_size, n_frames_per_side, shift, n_frames_per_side))\n",
      "329\n",
      "0.001989126205444336 : save_frame_for_movie(df_frame_orig_subtracted, \"tmp_only_labeled/\", all_files, frame_idx)\n"
     ]
    },
    {
     "name": "stderr",
     "output_type": "stream",
     "text": [
      "\r",
      "  6%|█████████▉                                                                                                                                                    | 63/1000 [07:08<1:46:19,  6.81s/it]"
     ]
    },
    {
     "name": "stdout",
     "output_type": "stream",
     "text": [
      "=========================================================================\n",
      "frame_idx = 63\n",
      "=========================================================================\n",
      "0.001012563705444336 : list_idx = get_list_idx_for_frame(frame_idx, n_frames_per_side, shift)\n",
      "5.613392114639282 : df_subtracted_frame = get_df_voxel_subtracted_frame(list_df_voxel_scene, frame_idx, n_frames_per_side, shift)\n",
      "1.3175108432769775 : df_frame_orig['voxel_id'] =  df_frame_orig.apply(lambda x: point_to_voxel(x, voxel_size), axis=1)\n",
      "0.001996755599975586 : df_labels = df_frame_orig.voxel_id.isin(df_subtracted_frame.voxel_id)\n",
      "(4, 5)\n",
      "(23, 5)\n",
      "0.17994260787963867 : df_frame_orig_subtracted = df_frame_orig[df_labels]\n",
      "(300, 5)\n",
      "file_labels: voxelling_output/submission_files/test_vid_19_pred__final/0000063_labels.csv\n",
      "0.09325218200683594 : df_labels.to_csv(pickles_path+\"df_labels__frame_%d__%s__voxel_size_%d_(%d,%d,%d).p\"%(frame_idx, vid, voxel_size, n_frames_per_side, shift, n_frames_per_side))\n",
      "300\n",
      "0.001993417739868164 : save_frame_for_movie(df_frame_orig_subtracted, \"tmp_only_labeled/\", all_files, frame_idx)\n"
     ]
    },
    {
     "name": "stderr",
     "output_type": "stream",
     "text": [
      "\r",
      "  6%|██████████                                                                                                                                                    | 64/1000 [07:16<1:46:18,  6.81s/it]"
     ]
    },
    {
     "name": "stdout",
     "output_type": "stream",
     "text": [
      "=========================================================================\n",
      "frame_idx = 64\n",
      "=========================================================================\n",
      "0.0009856224060058594 : list_idx = get_list_idx_for_frame(frame_idx, n_frames_per_side, shift)\n",
      "5.423772096633911 : df_subtracted_frame = get_df_voxel_subtracted_frame(list_df_voxel_scene, frame_idx, n_frames_per_side, shift)\n",
      "1.4360237121582031 : df_frame_orig['voxel_id'] =  df_frame_orig.apply(lambda x: point_to_voxel(x, voxel_size), axis=1)\n",
      "0.0019834041595458984 : df_labels = df_frame_orig.voxel_id.isin(df_subtracted_frame.voxel_id)\n",
      "(4, 5)\n",
      "(20, 5)\n",
      "0.2044527530670166 : df_frame_orig_subtracted = df_frame_orig[df_labels]\n",
      "(286, 5)\n",
      "file_labels: voxelling_output/submission_files/test_vid_19_pred__final/0000064_labels.csv\n",
      "0.10371613502502441 : df_labels.to_csv(pickles_path+\"df_labels__frame_%d__%s__voxel_size_%d_(%d,%d,%d).p\"%(frame_idx, vid, voxel_size, n_frames_per_side, shift, n_frames_per_side))\n",
      "286\n",
      "0.0029909610748291016 : save_frame_for_movie(df_frame_orig_subtracted, \"tmp_only_labeled/\", all_files, frame_idx)\n"
     ]
    },
    {
     "name": "stderr",
     "output_type": "stream",
     "text": [
      "\r",
      "  6%|██████████▎                                                                                                                                                   | 65/1000 [07:23<1:46:17,  6.82s/it]"
     ]
    },
    {
     "name": "stdout",
     "output_type": "stream",
     "text": [
      "=========================================================================\n",
      "frame_idx = 65\n",
      "=========================================================================\n",
      "0.0 : list_idx = get_list_idx_for_frame(frame_idx, n_frames_per_side, shift)\n",
      "5.569422483444214 : df_subtracted_frame = get_df_voxel_subtracted_frame(list_df_voxel_scene, frame_idx, n_frames_per_side, shift)\n",
      "1.3824520111083984 : df_frame_orig['voxel_id'] =  df_frame_orig.apply(lambda x: point_to_voxel(x, voxel_size), axis=1)\n",
      "0.001995563507080078 : df_labels = df_frame_orig.voxel_id.isin(df_subtracted_frame.voxel_id)\n",
      "(6, 5)\n",
      "(12, 5)\n",
      "0.19179773330688477 : df_frame_orig_subtracted = df_frame_orig[df_labels]\n",
      "(270, 5)\n",
      "file_labels: voxelling_output/submission_files/test_vid_19_pred__final/0000065_labels.csv\n",
      "0.10471868515014648 : df_labels.to_csv(pickles_path+\"df_labels__frame_%d__%s__voxel_size_%d_(%d,%d,%d).p\"%(frame_idx, vid, voxel_size, n_frames_per_side, shift, n_frames_per_side))\n",
      "270\n",
      "0.0025098323822021484 : save_frame_for_movie(df_frame_orig_subtracted, \"tmp_only_labeled/\", all_files, frame_idx)\n"
     ]
    },
    {
     "name": "stderr",
     "output_type": "stream",
     "text": [
      "\r",
      "  7%|██████████▍                                                                                                                                                   | 66/1000 [07:30<1:46:17,  6.83s/it]"
     ]
    },
    {
     "name": "stdout",
     "output_type": "stream",
     "text": [
      "=========================================================================\n",
      "frame_idx = 66\n",
      "=========================================================================\n",
      "0.0 : list_idx = get_list_idx_for_frame(frame_idx, n_frames_per_side, shift)\n",
      "5.379578113555908 : df_subtracted_frame = get_df_voxel_subtracted_frame(list_df_voxel_scene, frame_idx, n_frames_per_side, shift)\n",
      "1.5179271697998047 : df_frame_orig['voxel_id'] =  df_frame_orig.apply(lambda x: point_to_voxel(x, voxel_size), axis=1)\n",
      "0.001977682113647461 : df_labels = df_frame_orig.voxel_id.isin(df_subtracted_frame.voxel_id)\n",
      "(6, 5)\n",
      "(13, 5)\n",
      "0.1944725513458252 : df_frame_orig_subtracted = df_frame_orig[df_labels]\n",
      "(263, 5)\n",
      "file_labels: voxelling_output/submission_files/test_vid_19_pred__final/0000066_labels.csv\n",
      "0.10372066497802734 : df_labels.to_csv(pickles_path+\"df_labels__frame_%d__%s__voxel_size_%d_(%d,%d,%d).p\"%(frame_idx, vid, voxel_size, n_frames_per_side, shift, n_frames_per_side))\n",
      "263\n",
      "0.002979278564453125 : save_frame_for_movie(df_frame_orig_subtracted, \"tmp_only_labeled/\", all_files, frame_idx)\n"
     ]
    },
    {
     "name": "stderr",
     "output_type": "stream",
     "text": [
      "\r",
      "  7%|██████████▌                                                                                                                                                   | 67/1000 [07:37<1:46:15,  6.83s/it]"
     ]
    },
    {
     "name": "stdout",
     "output_type": "stream",
     "text": [
      "=========================================================================\n",
      "frame_idx = 67\n",
      "=========================================================================\n",
      "0.0 : list_idx = get_list_idx_for_frame(frame_idx, n_frames_per_side, shift)\n",
      "5.758157968521118 : df_subtracted_frame = get_df_voxel_subtracted_frame(list_df_voxel_scene, frame_idx, n_frames_per_side, shift)\n",
      "1.4781138896942139 : df_frame_orig['voxel_id'] =  df_frame_orig.apply(lambda x: point_to_voxel(x, voxel_size), axis=1)\n",
      "0.0019931793212890625 : df_labels = df_frame_orig.voxel_id.isin(df_subtracted_frame.voxel_id)\n",
      "(6, 5)\n",
      "(12, 5)\n",
      "0.20542573928833008 : df_frame_orig_subtracted = df_frame_orig[df_labels]\n",
      "(249, 5)\n",
      "file_labels: voxelling_output/submission_files/test_vid_19_pred__final/0000067_labels.csv\n",
      "0.09873247146606445 : df_labels.to_csv(pickles_path+\"df_labels__frame_%d__%s__voxel_size_%d_(%d,%d,%d).p\"%(frame_idx, vid, voxel_size, n_frames_per_side, shift, n_frames_per_side))\n",
      "249\n",
      "0.002991914749145508 : save_frame_for_movie(df_frame_orig_subtracted, \"tmp_only_labeled/\", all_files, frame_idx)\n"
     ]
    },
    {
     "name": "stderr",
     "output_type": "stream",
     "text": [
      "\r",
      "  7%|██████████▋                                                                                                                                                   | 68/1000 [07:45<1:46:19,  6.84s/it]"
     ]
    },
    {
     "name": "stdout",
     "output_type": "stream",
     "text": [
      "=========================================================================\n",
      "frame_idx = 68\n",
      "=========================================================================\n",
      "0.00099945068359375 : list_idx = get_list_idx_for_frame(frame_idx, n_frames_per_side, shift)\n",
      "5.742154359817505 : df_subtracted_frame = get_df_voxel_subtracted_frame(list_df_voxel_scene, frame_idx, n_frames_per_side, shift)\n",
      "1.5470404624938965 : df_frame_orig['voxel_id'] =  df_frame_orig.apply(lambda x: point_to_voxel(x, voxel_size), axis=1)\n",
      "0.0010156631469726562 : df_labels = df_frame_orig.voxel_id.isin(df_subtracted_frame.voxel_id)\n",
      "(6, 5)\n",
      "(9, 5)\n",
      "0.20007777214050293 : df_frame_orig_subtracted = df_frame_orig[df_labels]\n",
      "(243, 5)\n",
      "file_labels: voxelling_output/submission_files/test_vid_19_pred__final/0000068_labels.csv\n",
      "0.10671401023864746 : df_labels.to_csv(pickles_path+\"df_labels__frame_%d__%s__voxel_size_%d_(%d,%d,%d).p\"%(frame_idx, vid, voxel_size, n_frames_per_side, shift, n_frames_per_side))\n",
      "243\n",
      "0.0029914379119873047 : save_frame_for_movie(df_frame_orig_subtracted, \"tmp_only_labeled/\", all_files, frame_idx)\n"
     ]
    },
    {
     "name": "stderr",
     "output_type": "stream",
     "text": [
      "\r",
      "  7%|██████████▉                                                                                                                                                   | 69/1000 [07:53<1:46:22,  6.86s/it]"
     ]
    },
    {
     "name": "stdout",
     "output_type": "stream",
     "text": [
      "=========================================================================\n",
      "frame_idx = 69\n",
      "=========================================================================\n",
      "0.0 : list_idx = get_list_idx_for_frame(frame_idx, n_frames_per_side, shift)\n",
      "5.243317604064941 : df_subtracted_frame = get_df_voxel_subtracted_frame(list_df_voxel_scene, frame_idx, n_frames_per_side, shift)\n",
      "1.3463845252990723 : df_frame_orig['voxel_id'] =  df_frame_orig.apply(lambda x: point_to_voxel(x, voxel_size), axis=1)\n",
      "0.001984834671020508 : df_labels = df_frame_orig.voxel_id.isin(df_subtracted_frame.voxel_id)\n",
      "(7, 5)\n",
      "(13, 5)\n",
      "0.18160581588745117 : df_frame_orig_subtracted = df_frame_orig[df_labels]\n",
      "(220, 5)\n",
      "file_labels: voxelling_output/submission_files/test_vid_19_pred__final/0000069_labels.csv\n",
      "0.09275007247924805 : df_labels.to_csv(pickles_path+\"df_labels__frame_%d__%s__voxel_size_%d_(%d,%d,%d).p\"%(frame_idx, vid, voxel_size, n_frames_per_side, shift, n_frames_per_side))\n",
      "220\n",
      "0.0030028820037841797 : save_frame_for_movie(df_frame_orig_subtracted, \"tmp_only_labeled/\", all_files, frame_idx)\n"
     ]
    },
    {
     "name": "stderr",
     "output_type": "stream",
     "text": [
      "\r",
      "  7%|███████████                                                                                                                                                   | 70/1000 [07:59<1:46:16,  6.86s/it]"
     ]
    },
    {
     "name": "stdout",
     "output_type": "stream",
     "text": [
      "=========================================================================\n",
      "frame_idx = 70\n",
      "=========================================================================\n",
      "0.0 : list_idx = get_list_idx_for_frame(frame_idx, n_frames_per_side, shift)\n",
      "5.103331565856934 : df_subtracted_frame = get_df_voxel_subtracted_frame(list_df_voxel_scene, frame_idx, n_frames_per_side, shift)\n",
      "1.3197083473205566 : df_frame_orig['voxel_id'] =  df_frame_orig.apply(lambda x: point_to_voxel(x, voxel_size), axis=1)\n",
      "0.0020394325256347656 : df_labels = df_frame_orig.voxel_id.isin(df_subtracted_frame.voxel_id)\n",
      "(7, 5)\n",
      "(9, 5)\n",
      "0.1854996681213379 : df_frame_orig_subtracted = df_frame_orig[df_labels]\n",
      "(241, 5)\n",
      "file_labels: voxelling_output/submission_files/test_vid_19_pred__final/0000070_labels.csv\n",
      "0.09377145767211914 : df_labels.to_csv(pickles_path+\"df_labels__frame_%d__%s__voxel_size_%d_(%d,%d,%d).p\"%(frame_idx, vid, voxel_size, n_frames_per_side, shift, n_frames_per_side))\n",
      "241\n",
      "0.002991199493408203 : save_frame_for_movie(df_frame_orig_subtracted, \"tmp_only_labeled/\", all_files, frame_idx)\n"
     ]
    },
    {
     "name": "stderr",
     "output_type": "stream",
     "text": [
      "\r",
      "  7%|███████████▏                                                                                                                                                  | 71/1000 [08:06<1:46:08,  6.85s/it]"
     ]
    },
    {
     "name": "stdout",
     "output_type": "stream",
     "text": [
      "=========================================================================\n",
      "frame_idx = 71\n",
      "=========================================================================\n",
      "0.0 : list_idx = get_list_idx_for_frame(frame_idx, n_frames_per_side, shift)\n",
      "5.163055658340454 : df_subtracted_frame = get_df_voxel_subtracted_frame(list_df_voxel_scene, frame_idx, n_frames_per_side, shift)\n",
      "1.3500893115997314 : df_frame_orig['voxel_id'] =  df_frame_orig.apply(lambda x: point_to_voxel(x, voxel_size), axis=1)\n",
      "0.0019998550415039062 : df_labels = df_frame_orig.voxel_id.isin(df_subtracted_frame.voxel_id)\n",
      "(3, 5)\n",
      "(9, 5)\n",
      "0.18330645561218262 : df_frame_orig_subtracted = df_frame_orig[df_labels]\n",
      "(234, 5)\n",
      "file_labels: voxelling_output/submission_files/test_vid_19_pred__final/0000071_labels.csv\n",
      "0.10091972351074219 : df_labels.to_csv(pickles_path+\"df_labels__frame_%d__%s__voxel_size_%d_(%d,%d,%d).p\"%(frame_idx, vid, voxel_size, n_frames_per_side, shift, n_frames_per_side))\n",
      "234\n",
      "0.0029954910278320312 : save_frame_for_movie(df_frame_orig_subtracted, \"tmp_only_labeled/\", all_files, frame_idx)\n"
     ]
    },
    {
     "name": "stderr",
     "output_type": "stream",
     "text": [
      "\r",
      "  7%|███████████▍                                                                                                                                                  | 72/1000 [08:13<1:46:00,  6.85s/it]"
     ]
    },
    {
     "name": "stdout",
     "output_type": "stream",
     "text": [
      "=========================================================================\n",
      "frame_idx = 72\n",
      "=========================================================================\n",
      "0.0 : list_idx = get_list_idx_for_frame(frame_idx, n_frames_per_side, shift)\n",
      "5.081597089767456 : df_subtracted_frame = get_df_voxel_subtracted_frame(list_df_voxel_scene, frame_idx, n_frames_per_side, shift)\n",
      "1.3404593467712402 : df_frame_orig['voxel_id'] =  df_frame_orig.apply(lambda x: point_to_voxel(x, voxel_size), axis=1)\n",
      "0.000997304916381836 : df_labels = df_frame_orig.voxel_id.isin(df_subtracted_frame.voxel_id)\n",
      "(4, 5)\n",
      "(10, 5)\n",
      "0.18552279472351074 : df_frame_orig_subtracted = df_frame_orig[df_labels]\n",
      "(232, 5)\n",
      "file_labels: voxelling_output/submission_files/test_vid_19_pred__final/0000072_labels.csv\n",
      "0.09277844429016113 : df_labels.to_csv(pickles_path+\"df_labels__frame_%d__%s__voxel_size_%d_(%d,%d,%d).p\"%(frame_idx, vid, voxel_size, n_frames_per_side, shift, n_frames_per_side))\n",
      "232\n",
      "0.002992868423461914 : save_frame_for_movie(df_frame_orig_subtracted, \"tmp_only_labeled/\", all_files, frame_idx)\n"
     ]
    },
    {
     "name": "stderr",
     "output_type": "stream",
     "text": [
      "\r",
      "  7%|███████████▌                                                                                                                                                  | 73/1000 [08:20<1:45:52,  6.85s/it]"
     ]
    },
    {
     "name": "stdout",
     "output_type": "stream",
     "text": [
      "=========================================================================\n",
      "frame_idx = 73\n",
      "=========================================================================\n",
      "0.0 : list_idx = get_list_idx_for_frame(frame_idx, n_frames_per_side, shift)\n",
      "5.0869293212890625 : df_subtracted_frame = get_df_voxel_subtracted_frame(list_df_voxel_scene, frame_idx, n_frames_per_side, shift)\n",
      "1.3415861129760742 : df_frame_orig['voxel_id'] =  df_frame_orig.apply(lambda x: point_to_voxel(x, voxel_size), axis=1)\n",
      "0.0020160675048828125 : df_labels = df_frame_orig.voxel_id.isin(df_subtracted_frame.voxel_id)\n",
      "(7, 5)\n",
      "(8, 5)\n",
      "0.18115711212158203 : df_frame_orig_subtracted = df_frame_orig[df_labels]\n",
      "(233, 5)\n",
      "file_labels: voxelling_output/submission_files/test_vid_19_pred__final/0000073_labels.csv\n",
      "0.09326791763305664 : df_labels.to_csv(pickles_path+\"df_labels__frame_%d__%s__voxel_size_%d_(%d,%d,%d).p\"%(frame_idx, vid, voxel_size, n_frames_per_side, shift, n_frames_per_side))\n",
      "233\n",
      "0.001994609832763672 : save_frame_for_movie(df_frame_orig_subtracted, \"tmp_only_labeled/\", all_files, frame_idx)\n"
     ]
    },
    {
     "name": "stderr",
     "output_type": "stream",
     "text": [
      "\r",
      "  7%|███████████▋                                                                                                                                                  | 74/1000 [08:26<1:45:44,  6.85s/it]"
     ]
    },
    {
     "name": "stdout",
     "output_type": "stream",
     "text": [
      "=========================================================================\n",
      "frame_idx = 74\n",
      "=========================================================================\n",
      "0.0009984970092773438 : list_idx = get_list_idx_for_frame(frame_idx, n_frames_per_side, shift)\n",
      "5.027696847915649 : df_subtracted_frame = get_df_voxel_subtracted_frame(list_df_voxel_scene, frame_idx, n_frames_per_side, shift)\n",
      "1.325378656387329 : df_frame_orig['voxel_id'] =  df_frame_orig.apply(lambda x: point_to_voxel(x, voxel_size), axis=1)\n",
      "0.0009965896606445312 : df_labels = df_frame_orig.voxel_id.isin(df_subtracted_frame.voxel_id)\n",
      "(2, 5)\n",
      "(7, 5)\n",
      "0.1895759105682373 : df_frame_orig_subtracted = df_frame_orig[df_labels]\n",
      "(237, 5)\n",
      "file_labels: voxelling_output/submission_files/test_vid_19_pred__final/0000074_labels.csv\n",
      "0.09133553504943848 : df_labels.to_csv(pickles_path+\"df_labels__frame_%d__%s__voxel_size_%d_(%d,%d,%d).p\"%(frame_idx, vid, voxel_size, n_frames_per_side, shift, n_frames_per_side))\n",
      "237\n",
      "0.00398564338684082 : save_frame_for_movie(df_frame_orig_subtracted, \"tmp_only_labeled/\", all_files, frame_idx)\n"
     ]
    },
    {
     "name": "stderr",
     "output_type": "stream",
     "text": [
      "\r",
      "  8%|███████████▊                                                                                                                                                  | 75/1000 [08:33<1:45:35,  6.85s/it]"
     ]
    },
    {
     "name": "stdout",
     "output_type": "stream",
     "text": [
      "=========================================================================\n",
      "frame_idx = 75\n",
      "=========================================================================\n",
      "0.0 : list_idx = get_list_idx_for_frame(frame_idx, n_frames_per_side, shift)\n",
      "5.06678032875061 : df_subtracted_frame = get_df_voxel_subtracted_frame(list_df_voxel_scene, frame_idx, n_frames_per_side, shift)\n",
      "1.3066954612731934 : df_frame_orig['voxel_id'] =  df_frame_orig.apply(lambda x: point_to_voxel(x, voxel_size), axis=1)\n",
      "0.000980377197265625 : df_labels = df_frame_orig.voxel_id.isin(df_subtracted_frame.voxel_id)\n",
      "(3, 5)\n",
      "(11, 5)\n",
      "0.1831207275390625 : df_frame_orig_subtracted = df_frame_orig[df_labels]\n",
      "(260, 5)\n",
      "file_labels: voxelling_output/submission_files/test_vid_19_pred__final/0000075_labels.csv\n",
      "0.09673833847045898 : df_labels.to_csv(pickles_path+\"df_labels__frame_%d__%s__voxel_size_%d_(%d,%d,%d).p\"%(frame_idx, vid, voxel_size, n_frames_per_side, shift, n_frames_per_side))\n",
      "260\n",
      "0.004989147186279297 : save_frame_for_movie(df_frame_orig_subtracted, \"tmp_only_labeled/\", all_files, frame_idx)\n"
     ]
    },
    {
     "name": "stderr",
     "output_type": "stream",
     "text": [
      "\r",
      "  8%|████████████                                                                                                                                                  | 76/1000 [08:40<1:45:26,  6.85s/it]"
     ]
    },
    {
     "name": "stdout",
     "output_type": "stream",
     "text": [
      "=========================================================================\n",
      "frame_idx = 76\n",
      "=========================================================================\n",
      "0.0 : list_idx = get_list_idx_for_frame(frame_idx, n_frames_per_side, shift)\n",
      "5.031295299530029 : df_subtracted_frame = get_df_voxel_subtracted_frame(list_df_voxel_scene, frame_idx, n_frames_per_side, shift)\n",
      "1.3245818614959717 : df_frame_orig['voxel_id'] =  df_frame_orig.apply(lambda x: point_to_voxel(x, voxel_size), axis=1)\n",
      "0.0009930133819580078 : df_labels = df_frame_orig.voxel_id.isin(df_subtracted_frame.voxel_id)\n",
      "(6, 5)\n",
      "(10, 5)\n",
      "0.17887353897094727 : df_frame_orig_subtracted = df_frame_orig[df_labels]\n",
      "(261, 5)\n",
      "file_labels: voxelling_output/submission_files/test_vid_19_pred__final/0000076_labels.csv\n",
      "0.09275555610656738 : df_labels.to_csv(pickles_path+\"df_labels__frame_%d__%s__voxel_size_%d_(%d,%d,%d).p\"%(frame_idx, vid, voxel_size, n_frames_per_side, shift, n_frames_per_side))\n",
      "261\n",
      "0.001993894577026367 : save_frame_for_movie(df_frame_orig_subtracted, \"tmp_only_labeled/\", all_files, frame_idx)\n"
     ]
    },
    {
     "name": "stderr",
     "output_type": "stream",
     "text": [
      "\r",
      "  8%|████████████▏                                                                                                                                                 | 77/1000 [08:47<1:45:17,  6.84s/it]"
     ]
    },
    {
     "name": "stdout",
     "output_type": "stream",
     "text": [
      "=========================================================================\n",
      "frame_idx = 77\n",
      "=========================================================================\n",
      "0.0 : list_idx = get_list_idx_for_frame(frame_idx, n_frames_per_side, shift)\n",
      "5.031008005142212 : df_subtracted_frame = get_df_voxel_subtracted_frame(list_df_voxel_scene, frame_idx, n_frames_per_side, shift)\n",
      "1.32460618019104 : df_frame_orig['voxel_id'] =  df_frame_orig.apply(lambda x: point_to_voxel(x, voxel_size), axis=1)\n",
      "0.001996278762817383 : df_labels = df_frame_orig.voxel_id.isin(df_subtracted_frame.voxel_id)\n",
      "(4, 5)\n",
      "(6, 5)\n",
      "0.18764805793762207 : df_frame_orig_subtracted = df_frame_orig[df_labels]\n",
      "(296, 5)\n",
      "file_labels: voxelling_output/submission_files/test_vid_19_pred__final/0000077_labels.csv\n",
      "0.09176039695739746 : df_labels.to_csv(pickles_path+\"df_labels__frame_%d__%s__voxel_size_%d_(%d,%d,%d).p\"%(frame_idx, vid, voxel_size, n_frames_per_side, shift, n_frames_per_side))\n",
      "296\n",
      "0.0029959678649902344 : save_frame_for_movie(df_frame_orig_subtracted, \"tmp_only_labeled/\", all_files, frame_idx)\n"
     ]
    },
    {
     "name": "stderr",
     "output_type": "stream",
     "text": [
      "\r",
      "  8%|████████████▎                                                                                                                                                 | 78/1000 [08:53<1:45:08,  6.84s/it]"
     ]
    },
    {
     "name": "stdout",
     "output_type": "stream",
     "text": [
      "=========================================================================\n",
      "frame_idx = 78\n",
      "=========================================================================\n",
      "0.0 : list_idx = get_list_idx_for_frame(frame_idx, n_frames_per_side, shift)\n",
      "5.062745809555054 : df_subtracted_frame = get_df_voxel_subtracted_frame(list_df_voxel_scene, frame_idx, n_frames_per_side, shift)\n",
      "1.3300228118896484 : df_frame_orig['voxel_id'] =  df_frame_orig.apply(lambda x: point_to_voxel(x, voxel_size), axis=1)\n",
      "0.0009970664978027344 : df_labels = df_frame_orig.voxel_id.isin(df_subtracted_frame.voxel_id)\n",
      "(6, 5)\n",
      "(13, 5)\n",
      "0.18350958824157715 : df_frame_orig_subtracted = df_frame_orig[df_labels]\n",
      "(313, 5)\n",
      "file_labels: voxelling_output/submission_files/test_vid_19_pred__final/0000078_labels.csv\n",
      "0.09473919868469238 : df_labels.to_csv(pickles_path+\"df_labels__frame_%d__%s__voxel_size_%d_(%d,%d,%d).p\"%(frame_idx, vid, voxel_size, n_frames_per_side, shift, n_frames_per_side))\n",
      "313\n",
      "0.0029823780059814453 : save_frame_for_movie(df_frame_orig_subtracted, \"tmp_only_labeled/\", all_files, frame_idx)\n"
     ]
    },
    {
     "name": "stderr",
     "output_type": "stream",
     "text": [
      "\r",
      "  8%|████████████▍                                                                                                                                                 | 79/1000 [09:00<1:44:59,  6.84s/it]"
     ]
    },
    {
     "name": "stdout",
     "output_type": "stream",
     "text": [
      "=========================================================================\n",
      "frame_idx = 79\n",
      "=========================================================================\n",
      "0.0 : list_idx = get_list_idx_for_frame(frame_idx, n_frames_per_side, shift)\n",
      "4.978636980056763 : df_subtracted_frame = get_df_voxel_subtracted_frame(list_df_voxel_scene, frame_idx, n_frames_per_side, shift)\n",
      "1.323578119277954 : df_frame_orig['voxel_id'] =  df_frame_orig.apply(lambda x: point_to_voxel(x, voxel_size), axis=1)\n",
      "0.0010144710540771484 : df_labels = df_frame_orig.voxel_id.isin(df_subtracted_frame.voxel_id)\n",
      "(5, 5)\n",
      "(29, 5)\n",
      "0.17796564102172852 : df_frame_orig_subtracted = df_frame_orig[df_labels]\n",
      "(325, 5)\n",
      "file_labels: voxelling_output/submission_files/test_vid_19_pred__final/0000079_labels.csv\n",
      "0.09432387351989746 : df_labels.to_csv(pickles_path+\"df_labels__frame_%d__%s__voxel_size_%d_(%d,%d,%d).p\"%(frame_idx, vid, voxel_size, n_frames_per_side, shift, n_frames_per_side))\n",
      "325\n",
      "0.0049855709075927734 : save_frame_for_movie(df_frame_orig_subtracted, \"tmp_only_labeled/\", all_files, frame_idx)\n"
     ]
    },
    {
     "name": "stderr",
     "output_type": "stream",
     "text": [
      "\r",
      "  8%|████████████▋                                                                                                                                                 | 80/1000 [09:06<1:44:50,  6.84s/it]"
     ]
    },
    {
     "name": "stdout",
     "output_type": "stream",
     "text": [
      "=========================================================================\n",
      "frame_idx = 80\n",
      "=========================================================================\n",
      "0.0 : list_idx = get_list_idx_for_frame(frame_idx, n_frames_per_side, shift)\n",
      "5.138371229171753 : df_subtracted_frame = get_df_voxel_subtracted_frame(list_df_voxel_scene, frame_idx, n_frames_per_side, shift)\n",
      "1.3245832920074463 : df_frame_orig['voxel_id'] =  df_frame_orig.apply(lambda x: point_to_voxel(x, voxel_size), axis=1)\n",
      "0.0009906291961669922 : df_labels = df_frame_orig.voxel_id.isin(df_subtracted_frame.voxel_id)\n",
      "(4, 5)\n",
      "(6, 5)\n",
      "0.18351006507873535 : df_frame_orig_subtracted = df_frame_orig[df_labels]\n",
      "(362, 5)\n",
      "file_labels: voxelling_output/submission_files/test_vid_19_pred__final/0000080_labels.csv\n",
      "0.10172796249389648 : df_labels.to_csv(pickles_path+\"df_labels__frame_%d__%s__voxel_size_%d_(%d,%d,%d).p\"%(frame_idx, vid, voxel_size, n_frames_per_side, shift, n_frames_per_side))\n",
      "362\n",
      "0.002001523971557617 : save_frame_for_movie(df_frame_orig_subtracted, \"tmp_only_labeled/\", all_files, frame_idx)\n"
     ]
    },
    {
     "name": "stderr",
     "output_type": "stream",
     "text": [
      "\r",
      "  8%|████████████▊                                                                                                                                                 | 81/1000 [09:13<1:44:42,  6.84s/it]"
     ]
    },
    {
     "name": "stdout",
     "output_type": "stream",
     "text": [
      "=========================================================================\n",
      "frame_idx = 81\n",
      "=========================================================================\n",
      "0.0 : list_idx = get_list_idx_for_frame(frame_idx, n_frames_per_side, shift)\n",
      "5.184607267379761 : df_subtracted_frame = get_df_voxel_subtracted_frame(list_df_voxel_scene, frame_idx, n_frames_per_side, shift)\n",
      "1.3296911716461182 : df_frame_orig['voxel_id'] =  df_frame_orig.apply(lambda x: point_to_voxel(x, voxel_size), axis=1)\n",
      "0.001996278762817383 : df_labels = df_frame_orig.voxel_id.isin(df_subtracted_frame.voxel_id)\n",
      "(3, 5)\n",
      "(9, 5)\n",
      "0.18952560424804688 : df_frame_orig_subtracted = df_frame_orig[df_labels]\n",
      "(356, 5)\n",
      "file_labels: voxelling_output/submission_files/test_vid_19_pred__final/0000081_labels.csv\n",
      "0.09071946144104004 : df_labels.to_csv(pickles_path+\"df_labels__frame_%d__%s__voxel_size_%d_(%d,%d,%d).p\"%(frame_idx, vid, voxel_size, n_frames_per_side, shift, n_frames_per_side))\n",
      "356\n",
      "0.0019927024841308594 : save_frame_for_movie(df_frame_orig_subtracted, \"tmp_only_labeled/\", all_files, frame_idx)\n"
     ]
    },
    {
     "name": "stderr",
     "output_type": "stream",
     "text": [
      "\r",
      "  8%|████████████▉                                                                                                                                                 | 82/1000 [09:20<1:44:35,  6.84s/it]"
     ]
    },
    {
     "name": "stdout",
     "output_type": "stream",
     "text": [
      "=========================================================================\n",
      "frame_idx = 82\n",
      "=========================================================================\n",
      "0.0 : list_idx = get_list_idx_for_frame(frame_idx, n_frames_per_side, shift)\n",
      "5.058044672012329 : df_subtracted_frame = get_df_voxel_subtracted_frame(list_df_voxel_scene, frame_idx, n_frames_per_side, shift)\n",
      "1.3360614776611328 : df_frame_orig['voxel_id'] =  df_frame_orig.apply(lambda x: point_to_voxel(x, voxel_size), axis=1)\n",
      "0.000993967056274414 : df_labels = df_frame_orig.voxel_id.isin(df_subtracted_frame.voxel_id)\n",
      "(4, 5)\n",
      "(16, 5)\n",
      "0.1825108528137207 : df_frame_orig_subtracted = df_frame_orig[df_labels]\n",
      "(353, 5)\n",
      "file_labels: voxelling_output/submission_files/test_vid_19_pred__final/0000082_labels.csv\n",
      "0.09629535675048828 : df_labels.to_csv(pickles_path+\"df_labels__frame_%d__%s__voxel_size_%d_(%d,%d,%d).p\"%(frame_idx, vid, voxel_size, n_frames_per_side, shift, n_frames_per_side))\n",
      "353\n",
      "0.003991127014160156 : save_frame_for_movie(df_frame_orig_subtracted, \"tmp_only_labeled/\", all_files, frame_idx)\n"
     ]
    },
    {
     "name": "stderr",
     "output_type": "stream",
     "text": [
      "\r",
      "  8%|█████████████                                                                                                                                                 | 83/1000 [09:27<1:44:27,  6.84s/it]"
     ]
    },
    {
     "name": "stdout",
     "output_type": "stream",
     "text": [
      "=========================================================================\n",
      "frame_idx = 83\n",
      "=========================================================================\n",
      "0.0009963512420654297 : list_idx = get_list_idx_for_frame(frame_idx, n_frames_per_side, shift)\n",
      "5.169157981872559 : df_subtracted_frame = get_df_voxel_subtracted_frame(list_df_voxel_scene, frame_idx, n_frames_per_side, shift)\n",
      "1.3435120582580566 : df_frame_orig['voxel_id'] =  df_frame_orig.apply(lambda x: point_to_voxel(x, voxel_size), axis=1)\n",
      "0.0019931793212890625 : df_labels = df_frame_orig.voxel_id.isin(df_subtracted_frame.voxel_id)\n",
      "(8, 5)\n",
      "(8, 5)\n",
      "0.18882107734680176 : df_frame_orig_subtracted = df_frame_orig[df_labels]\n",
      "(375, 5)\n",
      "file_labels: voxelling_output/submission_files/test_vid_19_pred__final/0000083_labels.csv\n",
      "0.09973430633544922 : df_labels.to_csv(pickles_path+\"df_labels__frame_%d__%s__voxel_size_%d_(%d,%d,%d).p\"%(frame_idx, vid, voxel_size, n_frames_per_side, shift, n_frames_per_side))\n",
      "375\n",
      "0.0029854774475097656 : save_frame_for_movie(df_frame_orig_subtracted, \"tmp_only_labeled/\", all_files, frame_idx)\n"
     ]
    },
    {
     "name": "stderr",
     "output_type": "stream",
     "text": [
      "\r",
      "  8%|█████████████▎                                                                                                                                                | 84/1000 [09:34<1:44:20,  6.84s/it]"
     ]
    },
    {
     "name": "stdout",
     "output_type": "stream",
     "text": [
      "=========================================================================\n",
      "frame_idx = 84\n",
      "=========================================================================\n",
      "0.0 : list_idx = get_list_idx_for_frame(frame_idx, n_frames_per_side, shift)\n",
      "5.112387180328369 : df_subtracted_frame = get_df_voxel_subtracted_frame(list_df_voxel_scene, frame_idx, n_frames_per_side, shift)\n",
      "1.3360576629638672 : df_frame_orig['voxel_id'] =  df_frame_orig.apply(lambda x: point_to_voxel(x, voxel_size), axis=1)\n",
      "0.0009992122650146484 : df_labels = df_frame_orig.voxel_id.isin(df_subtracted_frame.voxel_id)\n",
      "(2, 5)\n",
      "(19, 5)\n",
      "0.17990875244140625 : df_frame_orig_subtracted = df_frame_orig[df_labels]\n",
      "(377, 5)\n",
      "file_labels: voxelling_output/submission_files/test_vid_19_pred__final/0000084_labels.csv\n",
      "0.0942845344543457 : df_labels.to_csv(pickles_path+\"df_labels__frame_%d__%s__voxel_size_%d_(%d,%d,%d).p\"%(frame_idx, vid, voxel_size, n_frames_per_side, shift, n_frames_per_side))\n",
      "377\n",
      "0.0029954910278320312 : save_frame_for_movie(df_frame_orig_subtracted, \"tmp_only_labeled/\", all_files, frame_idx)\n"
     ]
    },
    {
     "name": "stderr",
     "output_type": "stream",
     "text": [
      "\r",
      "  8%|█████████████▍                                                                                                                                                | 85/1000 [09:40<1:44:13,  6.83s/it]"
     ]
    },
    {
     "name": "stdout",
     "output_type": "stream",
     "text": [
      "=========================================================================\n",
      "frame_idx = 85\n",
      "=========================================================================\n",
      "0.0009963512420654297 : list_idx = get_list_idx_for_frame(frame_idx, n_frames_per_side, shift)\n",
      "5.001436233520508 : df_subtracted_frame = get_df_voxel_subtracted_frame(list_df_voxel_scene, frame_idx, n_frames_per_side, shift)\n",
      "1.3126060962677002 : df_frame_orig['voxel_id'] =  df_frame_orig.apply(lambda x: point_to_voxel(x, voxel_size), axis=1)\n",
      "0.0009832382202148438 : df_labels = df_frame_orig.voxel_id.isin(df_subtracted_frame.voxel_id)\n",
      "(6, 5)\n",
      "(4, 5)\n",
      "0.18298888206481934 : df_frame_orig_subtracted = df_frame_orig[df_labels]\n",
      "(424, 5)\n",
      "file_labels: voxelling_output/submission_files/test_vid_19_pred__final/0000085_labels.csv\n",
      "0.10544657707214355 : df_labels.to_csv(pickles_path+\"df_labels__frame_%d__%s__voxel_size_%d_(%d,%d,%d).p\"%(frame_idx, vid, voxel_size, n_frames_per_side, shift, n_frames_per_side))\n",
      "424\n",
      "0.0029904842376708984 : save_frame_for_movie(df_frame_orig_subtracted, \"tmp_only_labeled/\", all_files, frame_idx)\n"
     ]
    },
    {
     "name": "stderr",
     "output_type": "stream",
     "text": [
      "\r",
      "  9%|█████████████▌                                                                                                                                                | 86/1000 [09:47<1:44:04,  6.83s/it]"
     ]
    },
    {
     "name": "stdout",
     "output_type": "stream",
     "text": [
      "=========================================================================\n",
      "frame_idx = 86\n",
      "=========================================================================\n",
      "0.0 : list_idx = get_list_idx_for_frame(frame_idx, n_frames_per_side, shift)\n",
      "5.0856242179870605 : df_subtracted_frame = get_df_voxel_subtracted_frame(list_df_voxel_scene, frame_idx, n_frames_per_side, shift)\n",
      "1.3375136852264404 : df_frame_orig['voxel_id'] =  df_frame_orig.apply(lambda x: point_to_voxel(x, voxel_size), axis=1)\n",
      "0.0009961128234863281 : df_labels = df_frame_orig.voxel_id.isin(df_subtracted_frame.voxel_id)\n",
      "(7, 5)\n",
      "(6, 5)\n",
      "0.18611359596252441 : df_frame_orig_subtracted = df_frame_orig[df_labels]\n",
      "(457, 5)\n",
      "file_labels: voxelling_output/submission_files/test_vid_19_pred__final/0000086_labels.csv\n",
      "0.09677767753601074 : df_labels.to_csv(pickles_path+\"df_labels__frame_%d__%s__voxel_size_%d_(%d,%d,%d).p\"%(frame_idx, vid, voxel_size, n_frames_per_side, shift, n_frames_per_side))\n",
      "457\n",
      "0.001993894577026367 : save_frame_for_movie(df_frame_orig_subtracted, \"tmp_only_labeled/\", all_files, frame_idx)\n"
     ]
    },
    {
     "name": "stderr",
     "output_type": "stream",
     "text": [
      "\r",
      "  9%|█████████████▋                                                                                                                                                | 87/1000 [09:54<1:43:56,  6.83s/it]"
     ]
    },
    {
     "name": "stdout",
     "output_type": "stream",
     "text": [
      "=========================================================================\n",
      "frame_idx = 87\n",
      "=========================================================================\n",
      "0.0009949207305908203 : list_idx = get_list_idx_for_frame(frame_idx, n_frames_per_side, shift)\n",
      "5.13704252243042 : df_subtracted_frame = get_df_voxel_subtracted_frame(list_df_voxel_scene, frame_idx, n_frames_per_side, shift)\n",
      "1.360424280166626 : df_frame_orig['voxel_id'] =  df_frame_orig.apply(lambda x: point_to_voxel(x, voxel_size), axis=1)\n",
      "0.0020275115966796875 : df_labels = df_frame_orig.voxel_id.isin(df_subtracted_frame.voxel_id)\n",
      "(10, 5)\n",
      "(69, 5)\n",
      "0.1849522590637207 : df_frame_orig_subtracted = df_frame_orig[df_labels]\n",
      "(445, 5)\n",
      "file_labels: voxelling_output/submission_files/test_vid_19_pred__final/0000087_labels.csv\n",
      "0.0977170467376709 : df_labels.to_csv(pickles_path+\"df_labels__frame_%d__%s__voxel_size_%d_(%d,%d,%d).p\"%(frame_idx, vid, voxel_size, n_frames_per_side, shift, n_frames_per_side))\n",
      "445\n",
      "0.0020263195037841797 : save_frame_for_movie(df_frame_orig_subtracted, \"tmp_only_labeled/\", all_files, frame_idx)\n"
     ]
    },
    {
     "name": "stderr",
     "output_type": "stream",
     "text": [
      "\r",
      "  9%|█████████████▉                                                                                                                                                | 88/1000 [10:01<1:43:49,  6.83s/it]"
     ]
    },
    {
     "name": "stdout",
     "output_type": "stream",
     "text": [
      "=========================================================================\n",
      "frame_idx = 88\n",
      "=========================================================================\n",
      "0.0 : list_idx = get_list_idx_for_frame(frame_idx, n_frames_per_side, shift)\n",
      "5.166937589645386 : df_subtracted_frame = get_df_voxel_subtracted_frame(list_df_voxel_scene, frame_idx, n_frames_per_side, shift)\n",
      "1.3530700206756592 : df_frame_orig['voxel_id'] =  df_frame_orig.apply(lambda x: point_to_voxel(x, voxel_size), axis=1)\n",
      "0.001988649368286133 : df_labels = df_frame_orig.voxel_id.isin(df_subtracted_frame.voxel_id)\n",
      "(5, 5)\n",
      "(26, 5)\n",
      "0.18494153022766113 : df_frame_orig_subtracted = df_frame_orig[df_labels]\n",
      "(530, 5)\n",
      "file_labels: voxelling_output/submission_files/test_vid_19_pred__final/0000088_labels.csv\n",
      "0.09373903274536133 : df_labels.to_csv(pickles_path+\"df_labels__frame_%d__%s__voxel_size_%d_(%d,%d,%d).p\"%(frame_idx, vid, voxel_size, n_frames_per_side, shift, n_frames_per_side))\n",
      "530\n",
      "0.0029876232147216797 : save_frame_for_movie(df_frame_orig_subtracted, \"tmp_only_labeled/\", all_files, frame_idx)\n"
     ]
    },
    {
     "name": "stderr",
     "output_type": "stream",
     "text": [
      "\r",
      "  9%|██████████████                                                                                                                                                | 89/1000 [10:07<1:43:42,  6.83s/it]"
     ]
    },
    {
     "name": "stdout",
     "output_type": "stream",
     "text": [
      "=========================================================================\n",
      "frame_idx = 89\n",
      "=========================================================================\n",
      "0.0010142326354980469 : list_idx = get_list_idx_for_frame(frame_idx, n_frames_per_side, shift)\n",
      "5.378423452377319 : df_subtracted_frame = get_df_voxel_subtracted_frame(list_df_voxel_scene, frame_idx, n_frames_per_side, shift)\n",
      "1.3524518013000488 : df_frame_orig['voxel_id'] =  df_frame_orig.apply(lambda x: point_to_voxel(x, voxel_size), axis=1)\n",
      "0.00200653076171875 : df_labels = df_frame_orig.voxel_id.isin(df_subtracted_frame.voxel_id)\n",
      "(2, 5)\n",
      "(32, 5)\n",
      "0.18051505088806152 : df_frame_orig_subtracted = df_frame_orig[df_labels]\n",
      "(585, 5)\n",
      "file_labels: voxelling_output/submission_files/test_vid_19_pred__final/0000089_labels.csv\n",
      "0.09775328636169434 : df_labels.to_csv(pickles_path+\"df_labels__frame_%d__%s__voxel_size_%d_(%d,%d,%d).p\"%(frame_idx, vid, voxel_size, n_frames_per_side, shift, n_frames_per_side))\n",
      "585\n",
      "0.003988742828369141 : save_frame_for_movie(df_frame_orig_subtracted, \"tmp_only_labeled/\", all_files, frame_idx)\n"
     ]
    },
    {
     "name": "stderr",
     "output_type": "stream",
     "text": [
      "\r",
      "  9%|██████████████▏                                                                                                                                               | 90/1000 [10:14<1:43:37,  6.83s/it]"
     ]
    },
    {
     "name": "stdout",
     "output_type": "stream",
     "text": [
      "=========================================================================\n",
      "frame_idx = 90\n",
      "=========================================================================\n",
      "0.0 : list_idx = get_list_idx_for_frame(frame_idx, n_frames_per_side, shift)\n",
      "5.032357931137085 : df_subtracted_frame = get_df_voxel_subtracted_frame(list_df_voxel_scene, frame_idx, n_frames_per_side, shift)\n",
      "1.3464343547821045 : df_frame_orig['voxel_id'] =  df_frame_orig.apply(lambda x: point_to_voxel(x, voxel_size), axis=1)\n",
      "0.0009932518005371094 : df_labels = df_frame_orig.voxel_id.isin(df_subtracted_frame.voxel_id)\n",
      "(9, 5)\n",
      "(38, 5)\n",
      "0.18891167640686035 : df_frame_orig_subtracted = df_frame_orig[df_labels]\n",
      "(634, 5)\n",
      "file_labels: voxelling_output/submission_files/test_vid_19_pred__final/0000090_labels.csv\n",
      "0.09425950050354004 : df_labels.to_csv(pickles_path+\"df_labels__frame_%d__%s__voxel_size_%d_(%d,%d,%d).p\"%(frame_idx, vid, voxel_size, n_frames_per_side, shift, n_frames_per_side))\n",
      "634\n",
      "0.0019948482513427734 : save_frame_for_movie(df_frame_orig_subtracted, \"tmp_only_labeled/\", all_files, frame_idx)\n"
     ]
    },
    {
     "name": "stderr",
     "output_type": "stream",
     "text": [
      "\r",
      "  9%|██████████████▍                                                                                                                                               | 91/1000 [10:21<1:43:29,  6.83s/it]"
     ]
    },
    {
     "name": "stdout",
     "output_type": "stream",
     "text": [
      "=========================================================================\n",
      "frame_idx = 91\n",
      "=========================================================================\n",
      "0.0010020732879638672 : list_idx = get_list_idx_for_frame(frame_idx, n_frames_per_side, shift)\n",
      "5.030836582183838 : df_subtracted_frame = get_df_voxel_subtracted_frame(list_df_voxel_scene, frame_idx, n_frames_per_side, shift)\n",
      "1.3461196422576904 : df_frame_orig['voxel_id'] =  df_frame_orig.apply(lambda x: point_to_voxel(x, voxel_size), axis=1)\n",
      "0.001982450485229492 : df_labels = df_frame_orig.voxel_id.isin(df_subtracted_frame.voxel_id)\n",
      "(2, 5)\n",
      "(40, 5)\n",
      "0.18300414085388184 : df_frame_orig_subtracted = df_frame_orig[df_labels]\n",
      "(731, 5)\n",
      "file_labels: voxelling_output/submission_files/test_vid_19_pred__final/0000091_labels.csv\n",
      "0.09374880790710449 : df_labels.to_csv(pickles_path+\"df_labels__frame_%d__%s__voxel_size_%d_(%d,%d,%d).p\"%(frame_idx, vid, voxel_size, n_frames_per_side, shift, n_frames_per_side))\n",
      "731\n",
      "0.0029747486114501953 : save_frame_for_movie(df_frame_orig_subtracted, \"tmp_only_labeled/\", all_files, frame_idx)\n"
     ]
    },
    {
     "name": "stderr",
     "output_type": "stream",
     "text": [
      "\r",
      "  9%|██████████████▌                                                                                                                                               | 92/1000 [10:28<1:43:21,  6.83s/it]"
     ]
    },
    {
     "name": "stdout",
     "output_type": "stream",
     "text": [
      "=========================================================================\n",
      "frame_idx = 92\n",
      "=========================================================================\n",
      "0.0 : list_idx = get_list_idx_for_frame(frame_idx, n_frames_per_side, shift)\n",
      "5.063174486160278 : df_subtracted_frame = get_df_voxel_subtracted_frame(list_df_voxel_scene, frame_idx, n_frames_per_side, shift)\n",
      "1.332533359527588 : df_frame_orig['voxel_id'] =  df_frame_orig.apply(lambda x: point_to_voxel(x, voxel_size), axis=1)\n",
      "0.0019922256469726562 : df_labels = df_frame_orig.voxel_id.isin(df_subtracted_frame.voxel_id)\n",
      "(8, 5)\n",
      "(60, 5)\n",
      "0.18351125717163086 : df_frame_orig_subtracted = df_frame_orig[df_labels]\n",
      "(780, 5)\n",
      "file_labels: voxelling_output/submission_files/test_vid_19_pred__final/0000092_labels.csv\n",
      "0.09630489349365234 : df_labels.to_csv(pickles_path+\"df_labels__frame_%d__%s__voxel_size_%d_(%d,%d,%d).p\"%(frame_idx, vid, voxel_size, n_frames_per_side, shift, n_frames_per_side))\n",
      "780\n",
      "0.003996372222900391 : save_frame_for_movie(df_frame_orig_subtracted, \"tmp_only_labeled/\", all_files, frame_idx)\n"
     ]
    },
    {
     "name": "stderr",
     "output_type": "stream",
     "text": [
      "\r",
      "  9%|██████████████▋                                                                                                                                               | 93/1000 [10:35<1:43:13,  6.83s/it]"
     ]
    },
    {
     "name": "stdout",
     "output_type": "stream",
     "text": [
      "=========================================================================\n",
      "frame_idx = 93\n",
      "=========================================================================\n",
      "0.0 : list_idx = get_list_idx_for_frame(frame_idx, n_frames_per_side, shift)\n",
      "5.092810869216919 : df_subtracted_frame = get_df_voxel_subtracted_frame(list_df_voxel_scene, frame_idx, n_frames_per_side, shift)\n",
      "1.3627636432647705 : df_frame_orig['voxel_id'] =  df_frame_orig.apply(lambda x: point_to_voxel(x, voxel_size), axis=1)\n",
      "0.001992940902709961 : df_labels = df_frame_orig.voxel_id.isin(df_subtracted_frame.voxel_id)\n",
      "(4, 5)\n",
      "(111, 5)\n",
      "0.18152213096618652 : df_frame_orig_subtracted = df_frame_orig[df_labels]\n",
      "(792, 5)\n",
      "file_labels: voxelling_output/submission_files/test_vid_19_pred__final/0000093_labels.csv\n",
      "0.09685468673706055 : df_labels.to_csv(pickles_path+\"df_labels__frame_%d__%s__voxel_size_%d_(%d,%d,%d).p\"%(frame_idx, vid, voxel_size, n_frames_per_side, shift, n_frames_per_side))\n",
      "792\n",
      "0.001995086669921875 : save_frame_for_movie(df_frame_orig_subtracted, \"tmp_only_labeled/\", all_files, frame_idx)\n"
     ]
    },
    {
     "name": "stderr",
     "output_type": "stream",
     "text": [
      "\r",
      "  9%|██████████████▊                                                                                                                                               | 94/1000 [10:41<1:43:05,  6.83s/it]"
     ]
    },
    {
     "name": "stdout",
     "output_type": "stream",
     "text": [
      "=========================================================================\n",
      "frame_idx = 94\n",
      "=========================================================================\n",
      "0.0 : list_idx = get_list_idx_for_frame(frame_idx, n_frames_per_side, shift)\n",
      "5.070339918136597 : df_subtracted_frame = get_df_voxel_subtracted_frame(list_df_voxel_scene, frame_idx, n_frames_per_side, shift)\n",
      "1.3326001167297363 : df_frame_orig['voxel_id'] =  df_frame_orig.apply(lambda x: point_to_voxel(x, voxel_size), axis=1)\n",
      "0.0009233951568603516 : df_labels = df_frame_orig.voxel_id.isin(df_subtracted_frame.voxel_id)\n",
      "(3, 5)\n",
      "(55, 5)\n",
      "0.1814556121826172 : df_frame_orig_subtracted = df_frame_orig[df_labels]\n",
      "(967, 5)\n",
      "file_labels: voxelling_output/submission_files/test_vid_19_pred__final/0000094_labels.csv\n",
      "0.10297274589538574 : df_labels.to_csv(pickles_path+\"df_labels__frame_%d__%s__voxel_size_%d_(%d,%d,%d).p\"%(frame_idx, vid, voxel_size, n_frames_per_side, shift, n_frames_per_side))\n",
      "967\n",
      "0.0029740333557128906 : save_frame_for_movie(df_frame_orig_subtracted, \"tmp_only_labeled/\", all_files, frame_idx)\n"
     ]
    },
    {
     "name": "stderr",
     "output_type": "stream",
     "text": [
      "\r",
      " 10%|███████████████                                                                                                                                               | 95/1000 [10:48<1:42:58,  6.83s/it]"
     ]
    },
    {
     "name": "stdout",
     "output_type": "stream",
     "text": [
      "=========================================================================\n",
      "frame_idx = 95\n",
      "=========================================================================\n",
      "0.0010313987731933594 : list_idx = get_list_idx_for_frame(frame_idx, n_frames_per_side, shift)\n",
      "5.03070330619812 : df_subtracted_frame = get_df_voxel_subtracted_frame(list_df_voxel_scene, frame_idx, n_frames_per_side, shift)\n",
      "1.3418586254119873 : df_frame_orig['voxel_id'] =  df_frame_orig.apply(lambda x: point_to_voxel(x, voxel_size), axis=1)\n",
      "0.0010559558868408203 : df_labels = df_frame_orig.voxel_id.isin(df_subtracted_frame.voxel_id)\n",
      "(4, 5)\n",
      "(154, 5)\n",
      "0.18087172508239746 : df_frame_orig_subtracted = df_frame_orig[df_labels]\n",
      "(920, 5)\n",
      "file_labels: voxelling_output/submission_files/test_vid_19_pred__final/0000095_labels.csv\n",
      "0.10222840309143066 : df_labels.to_csv(pickles_path+\"df_labels__frame_%d__%s__voxel_size_%d_(%d,%d,%d).p\"%(frame_idx, vid, voxel_size, n_frames_per_side, shift, n_frames_per_side))\n",
      "920\n",
      "0.001974344253540039 : save_frame_for_movie(df_frame_orig_subtracted, \"tmp_only_labeled/\", all_files, frame_idx)\n"
     ]
    },
    {
     "name": "stderr",
     "output_type": "stream",
     "text": [
      "\r",
      " 10%|███████████████▏                                                                                                                                              | 96/1000 [10:55<1:42:49,  6.83s/it]"
     ]
    },
    {
     "name": "stdout",
     "output_type": "stream",
     "text": [
      "=========================================================================\n",
      "frame_idx = 96\n",
      "=========================================================================\n",
      "0.0 : list_idx = get_list_idx_for_frame(frame_idx, n_frames_per_side, shift)\n",
      "5.127727031707764 : df_subtracted_frame = get_df_voxel_subtracted_frame(list_df_voxel_scene, frame_idx, n_frames_per_side, shift)\n",
      "1.3444766998291016 : df_frame_orig['voxel_id'] =  df_frame_orig.apply(lambda x: point_to_voxel(x, voxel_size), axis=1)\n",
      "0.0020093917846679688 : df_labels = df_frame_orig.voxel_id.isin(df_subtracted_frame.voxel_id)\n",
      "(4, 5)\n",
      "(72, 5)\n",
      "0.17898178100585938 : df_frame_orig_subtracted = df_frame_orig[df_labels]\n",
      "(1062, 5)\n",
      "file_labels: voxelling_output/submission_files/test_vid_19_pred__final/0000096_labels.csv\n",
      "0.094757080078125 : df_labels.to_csv(pickles_path+\"df_labels__frame_%d__%s__voxel_size_%d_(%d,%d,%d).p\"%(frame_idx, vid, voxel_size, n_frames_per_side, shift, n_frames_per_side))\n",
      "1062\n",
      "0.003989219665527344 : save_frame_for_movie(df_frame_orig_subtracted, \"tmp_only_labeled/\", all_files, frame_idx)\n"
     ]
    },
    {
     "name": "stderr",
     "output_type": "stream",
     "text": [
      "\r",
      " 10%|███████████████▎                                                                                                                                              | 97/1000 [11:01<1:42:42,  6.82s/it]"
     ]
    },
    {
     "name": "stdout",
     "output_type": "stream",
     "text": [
      "=========================================================================\n",
      "frame_idx = 97\n",
      "=========================================================================\n",
      "0.0 : list_idx = get_list_idx_for_frame(frame_idx, n_frames_per_side, shift)\n",
      "5.0287511348724365 : df_subtracted_frame = get_df_voxel_subtracted_frame(list_df_voxel_scene, frame_idx, n_frames_per_side, shift)\n",
      "1.3366665840148926 : df_frame_orig['voxel_id'] =  df_frame_orig.apply(lambda x: point_to_voxel(x, voxel_size), axis=1)\n",
      "0.0009982585906982422 : df_labels = df_frame_orig.voxel_id.isin(df_subtracted_frame.voxel_id)\n",
      "(6, 5)\n",
      "(108, 5)\n",
      "0.19804096221923828 : df_frame_orig_subtracted = df_frame_orig[df_labels]\n",
      "(1113, 5)\n",
      "file_labels: voxelling_output/submission_files/test_vid_19_pred__final/0000097_labels.csv\n",
      "0.10225534439086914 : df_labels.to_csv(pickles_path+\"df_labels__frame_%d__%s__voxel_size_%d_(%d,%d,%d).p\"%(frame_idx, vid, voxel_size, n_frames_per_side, shift, n_frames_per_side))\n",
      "1113\n",
      "0.002991914749145508 : save_frame_for_movie(df_frame_orig_subtracted, \"tmp_only_labeled/\", all_files, frame_idx)\n"
     ]
    },
    {
     "name": "stderr",
     "output_type": "stream",
     "text": [
      "\r",
      " 10%|███████████████▍                                                                                                                                              | 98/1000 [11:08<1:42:34,  6.82s/it]"
     ]
    },
    {
     "name": "stdout",
     "output_type": "stream",
     "text": [
      "=========================================================================\n",
      "frame_idx = 98\n",
      "=========================================================================\n",
      "0.0009937286376953125 : list_idx = get_list_idx_for_frame(frame_idx, n_frames_per_side, shift)\n",
      "4.989342927932739 : df_subtracted_frame = get_df_voxel_subtracted_frame(list_df_voxel_scene, frame_idx, n_frames_per_side, shift)\n",
      "1.3374550342559814 : df_frame_orig['voxel_id'] =  df_frame_orig.apply(lambda x: point_to_voxel(x, voxel_size), axis=1)\n",
      "0.0009958744049072266 : df_labels = df_frame_orig.voxel_id.isin(df_subtracted_frame.voxel_id)\n",
      "(6, 5)\n",
      "(99, 5)\n",
      "0.1825852394104004 : df_frame_orig_subtracted = df_frame_orig[df_labels]\n",
      "(1222, 5)\n",
      "file_labels: voxelling_output/submission_files/test_vid_19_pred__final/0000098_labels.csv\n",
      "0.09326314926147461 : df_labels.to_csv(pickles_path+\"df_labels__frame_%d__%s__voxel_size_%d_(%d,%d,%d).p\"%(frame_idx, vid, voxel_size, n_frames_per_side, shift, n_frames_per_side))\n",
      "1222\n",
      "0.002991914749145508 : save_frame_for_movie(df_frame_orig_subtracted, \"tmp_only_labeled/\", all_files, frame_idx)\n"
     ]
    },
    {
     "name": "stderr",
     "output_type": "stream",
     "text": [
      "\r",
      " 10%|███████████████▋                                                                                                                                              | 99/1000 [11:15<1:42:26,  6.82s/it]"
     ]
    },
    {
     "name": "stdout",
     "output_type": "stream",
     "text": [
      "=========================================================================\n",
      "frame_idx = 99\n",
      "=========================================================================\n",
      "0.001026153564453125 : list_idx = get_list_idx_for_frame(frame_idx, n_frames_per_side, shift)\n",
      "4.967950820922852 : df_subtracted_frame = get_df_voxel_subtracted_frame(list_df_voxel_scene, frame_idx, n_frames_per_side, shift)\n",
      "1.346134901046753 : df_frame_orig['voxel_id'] =  df_frame_orig.apply(lambda x: point_to_voxel(x, voxel_size), axis=1)\n",
      "0.0019958019256591797 : df_labels = df_frame_orig.voxel_id.isin(df_subtracted_frame.voxel_id)\n",
      "(6, 5)\n",
      "(110, 5)\n",
      "0.18297266960144043 : df_frame_orig_subtracted = df_frame_orig[df_labels]\n",
      "(1346, 5)\n",
      "file_labels: voxelling_output/submission_files/test_vid_19_pred__final/0000099_labels.csv\n",
      "0.0989992618560791 : df_labels.to_csv(pickles_path+\"df_labels__frame_%d__%s__voxel_size_%d_(%d,%d,%d).p\"%(frame_idx, vid, voxel_size, n_frames_per_side, shift, n_frames_per_side))\n",
      "1346\n",
      "0.0029821395874023438 : save_frame_for_movie(df_frame_orig_subtracted, \"tmp_only_labeled/\", all_files, frame_idx)\n"
     ]
    },
    {
     "name": "stderr",
     "output_type": "stream",
     "text": [
      "\r",
      " 10%|███████████████▋                                                                                                                                             | 100/1000 [11:21<1:42:17,  6.82s/it]"
     ]
    },
    {
     "name": "stdout",
     "output_type": "stream",
     "text": [
      "=========================================================================\n",
      "frame_idx = 100\n",
      "=========================================================================\n",
      "0.0 : list_idx = get_list_idx_for_frame(frame_idx, n_frames_per_side, shift)\n",
      "5.089948415756226 : df_subtracted_frame = get_df_voxel_subtracted_frame(list_df_voxel_scene, frame_idx, n_frames_per_side, shift)\n",
      "1.3358426094055176 : df_frame_orig['voxel_id'] =  df_frame_orig.apply(lambda x: point_to_voxel(x, voxel_size), axis=1)\n",
      "0.0009949207305908203 : df_labels = df_frame_orig.voxel_id.isin(df_subtracted_frame.voxel_id)\n",
      "(6, 5)\n",
      "(69, 5)\n",
      "0.18267321586608887 : df_frame_orig_subtracted = df_frame_orig[df_labels]\n",
      "(1515, 5)\n",
      "file_labels: voxelling_output/submission_files/test_vid_19_pred__final/0000100_labels.csv\n",
      "0.08874106407165527 : df_labels.to_csv(pickles_path+\"df_labels__frame_%d__%s__voxel_size_%d_(%d,%d,%d).p\"%(frame_idx, vid, voxel_size, n_frames_per_side, shift, n_frames_per_side))\n",
      "1515\n",
      "0.001995563507080078 : save_frame_for_movie(df_frame_orig_subtracted, \"tmp_only_labeled/\", all_files, frame_idx)\n"
     ]
    },
    {
     "name": "stderr",
     "output_type": "stream",
     "text": [
      "\r",
      " 10%|███████████████▊                                                                                                                                             | 101/1000 [11:28<1:42:09,  6.82s/it]"
     ]
    },
    {
     "name": "stdout",
     "output_type": "stream",
     "text": [
      "=========================================================================\n",
      "frame_idx = 101\n",
      "=========================================================================\n",
      "0.0 : list_idx = get_list_idx_for_frame(frame_idx, n_frames_per_side, shift)\n",
      "5.0126872062683105 : df_subtracted_frame = get_df_voxel_subtracted_frame(list_df_voxel_scene, frame_idx, n_frames_per_side, shift)\n",
      "1.3235077857971191 : df_frame_orig['voxel_id'] =  df_frame_orig.apply(lambda x: point_to_voxel(x, voxel_size), axis=1)\n",
      "0.0019941329956054688 : df_labels = df_frame_orig.voxel_id.isin(df_subtracted_frame.voxel_id)\n",
      "(7, 5)\n",
      "(120, 5)\n",
      "0.18595099449157715 : df_frame_orig_subtracted = df_frame_orig[df_labels]\n",
      "(1548, 5)\n",
      "file_labels: voxelling_output/submission_files/test_vid_19_pred__final/0000101_labels.csv\n",
      "0.10073089599609375 : df_labels.to_csv(pickles_path+\"df_labels__frame_%d__%s__voxel_size_%d_(%d,%d,%d).p\"%(frame_idx, vid, voxel_size, n_frames_per_side, shift, n_frames_per_side))\n",
      "1548\n",
      "0.001995563507080078 : save_frame_for_movie(df_frame_orig_subtracted, \"tmp_only_labeled/\", all_files, frame_idx)\n"
     ]
    },
    {
     "name": "stderr",
     "output_type": "stream",
     "text": [
      "\r",
      " 10%|████████████████                                                                                                                                             | 102/1000 [11:35<1:42:01,  6.82s/it]"
     ]
    },
    {
     "name": "stdout",
     "output_type": "stream",
     "text": [
      "=========================================================================\n",
      "frame_idx = 102\n",
      "=========================================================================\n",
      "0.000986337661743164 : list_idx = get_list_idx_for_frame(frame_idx, n_frames_per_side, shift)\n",
      "4.939121961593628 : df_subtracted_frame = get_df_voxel_subtracted_frame(list_df_voxel_scene, frame_idx, n_frames_per_side, shift)\n",
      "1.3334765434265137 : df_frame_orig['voxel_id'] =  df_frame_orig.apply(lambda x: point_to_voxel(x, voxel_size), axis=1)\n",
      "0.0010035037994384766 : df_labels = df_frame_orig.voxel_id.isin(df_subtracted_frame.voxel_id)\n",
      "(7, 5)\n",
      "(125, 5)\n",
      "0.17700672149658203 : df_frame_orig_subtracted = df_frame_orig[df_labels]\n",
      "(1668, 5)\n",
      "file_labels: voxelling_output/submission_files/test_vid_19_pred__final/0000102_labels.csv\n",
      "0.10019111633300781 : df_labels.to_csv(pickles_path+\"df_labels__frame_%d__%s__voxel_size_%d_(%d,%d,%d).p\"%(frame_idx, vid, voxel_size, n_frames_per_side, shift, n_frames_per_side))\n",
      "1668\n",
      "0.002994537353515625 : save_frame_for_movie(df_frame_orig_subtracted, \"tmp_only_labeled/\", all_files, frame_idx)\n"
     ]
    },
    {
     "name": "stderr",
     "output_type": "stream",
     "text": [
      "\r",
      " 10%|████████████████▏                                                                                                                                            | 103/1000 [11:41<1:41:52,  6.81s/it]"
     ]
    },
    {
     "name": "stdout",
     "output_type": "stream",
     "text": [
      "=========================================================================\n",
      "frame_idx = 103\n",
      "=========================================================================\n",
      "0.0 : list_idx = get_list_idx_for_frame(frame_idx, n_frames_per_side, shift)\n",
      "5.02798867225647 : df_subtracted_frame = get_df_voxel_subtracted_frame(list_df_voxel_scene, frame_idx, n_frames_per_side, shift)\n",
      "1.3084933757781982 : df_frame_orig['voxel_id'] =  df_frame_orig.apply(lambda x: point_to_voxel(x, voxel_size), axis=1)\n",
      "0.000997781753540039 : df_labels = df_frame_orig.voxel_id.isin(df_subtracted_frame.voxel_id)\n",
      "(3, 5)\n",
      "(156, 5)\n",
      "0.18743157386779785 : df_frame_orig_subtracted = df_frame_orig[df_labels]\n",
      "(1766, 5)\n",
      "file_labels: voxelling_output/submission_files/test_vid_19_pred__final/0000103_labels.csv\n",
      "0.10422563552856445 : df_labels.to_csv(pickles_path+\"df_labels__frame_%d__%s__voxel_size_%d_(%d,%d,%d).p\"%(frame_idx, vid, voxel_size, n_frames_per_side, shift, n_frames_per_side))\n",
      "1766\n",
      "0.002987384796142578 : save_frame_for_movie(df_frame_orig_subtracted, \"tmp_only_labeled/\", all_files, frame_idx)\n"
     ]
    },
    {
     "name": "stderr",
     "output_type": "stream",
     "text": [
      "\r",
      " 10%|████████████████▎                                                                                                                                            | 104/1000 [11:48<1:41:44,  6.81s/it]"
     ]
    },
    {
     "name": "stdout",
     "output_type": "stream",
     "text": [
      "=========================================================================\n",
      "frame_idx = 104\n",
      "=========================================================================\n",
      "0.0 : list_idx = get_list_idx_for_frame(frame_idx, n_frames_per_side, shift)\n",
      "4.984033823013306 : df_subtracted_frame = get_df_voxel_subtracted_frame(list_df_voxel_scene, frame_idx, n_frames_per_side, shift)\n",
      "1.336878776550293 : df_frame_orig['voxel_id'] =  df_frame_orig.apply(lambda x: point_to_voxel(x, voxel_size), axis=1)\n",
      "0.001994609832763672 : df_labels = df_frame_orig.voxel_id.isin(df_subtracted_frame.voxel_id)\n",
      "(4, 5)\n",
      "(135, 5)\n",
      "0.177567720413208 : df_frame_orig_subtracted = df_frame_orig[df_labels]\n",
      "(1963, 5)\n",
      "file_labels: voxelling_output/submission_files/test_vid_19_pred__final/0000104_labels.csv\n",
      "0.09673905372619629 : df_labels.to_csv(pickles_path+\"df_labels__frame_%d__%s__voxel_size_%d_(%d,%d,%d).p\"%(frame_idx, vid, voxel_size, n_frames_per_side, shift, n_frames_per_side))\n",
      "1963\n",
      "0.0019943714141845703 : save_frame_for_movie(df_frame_orig_subtracted, \"tmp_only_labeled/\", all_files, frame_idx)\n"
     ]
    },
    {
     "name": "stderr",
     "output_type": "stream",
     "text": [
      "\r",
      " 10%|████████████████▍                                                                                                                                            | 105/1000 [11:55<1:41:36,  6.81s/it]"
     ]
    },
    {
     "name": "stdout",
     "output_type": "stream",
     "text": [
      "=========================================================================\n",
      "frame_idx = 105\n",
      "=========================================================================\n",
      "0.0009965896606445312 : list_idx = get_list_idx_for_frame(frame_idx, n_frames_per_side, shift)\n",
      "5.027944087982178 : df_subtracted_frame = get_df_voxel_subtracted_frame(list_df_voxel_scene, frame_idx, n_frames_per_side, shift)\n",
      "1.3333568572998047 : df_frame_orig['voxel_id'] =  df_frame_orig.apply(lambda x: point_to_voxel(x, voxel_size), axis=1)\n",
      "0.0009799003601074219 : df_labels = df_frame_orig.voxel_id.isin(df_subtracted_frame.voxel_id)\n",
      "(7, 5)\n",
      "(157, 5)\n",
      "0.1795182228088379 : df_frame_orig_subtracted = df_frame_orig[df_labels]\n",
      "(2085, 5)\n",
      "file_labels: voxelling_output/submission_files/test_vid_19_pred__final/0000105_labels.csv\n",
      "0.09277677536010742 : df_labels.to_csv(pickles_path+\"df_labels__frame_%d__%s__voxel_size_%d_(%d,%d,%d).p\"%(frame_idx, vid, voxel_size, n_frames_per_side, shift, n_frames_per_side))\n",
      "2085\n",
      "0.0029876232147216797 : save_frame_for_movie(df_frame_orig_subtracted, \"tmp_only_labeled/\", all_files, frame_idx)\n"
     ]
    },
    {
     "name": "stderr",
     "output_type": "stream",
     "text": [
      "\r",
      " 11%|████████████████▋                                                                                                                                            | 106/1000 [12:01<1:41:28,  6.81s/it]"
     ]
    },
    {
     "name": "stdout",
     "output_type": "stream",
     "text": [
      "=========================================================================\n",
      "frame_idx = 106\n",
      "=========================================================================\n",
      "0.0 : list_idx = get_list_idx_for_frame(frame_idx, n_frames_per_side, shift)\n",
      "5.000523567199707 : df_subtracted_frame = get_df_voxel_subtracted_frame(list_df_voxel_scene, frame_idx, n_frames_per_side, shift)\n",
      "1.321460247039795 : df_frame_orig['voxel_id'] =  df_frame_orig.apply(lambda x: point_to_voxel(x, voxel_size), axis=1)\n",
      "0.000993490219116211 : df_labels = df_frame_orig.voxel_id.isin(df_subtracted_frame.voxel_id)\n",
      "(2, 5)\n",
      "(219, 5)\n",
      "0.18536138534545898 : df_frame_orig_subtracted = df_frame_orig[df_labels]\n",
      "(2229, 5)\n",
      "file_labels: voxelling_output/submission_files/test_vid_19_pred__final/0000106_labels.csv\n",
      "0.10134744644165039 : df_labels.to_csv(pickles_path+\"df_labels__frame_%d__%s__voxel_size_%d_(%d,%d,%d).p\"%(frame_idx, vid, voxel_size, n_frames_per_side, shift, n_frames_per_side))\n",
      "2229\n",
      "0.002992391586303711 : save_frame_for_movie(df_frame_orig_subtracted, \"tmp_only_labeled/\", all_files, frame_idx)\n"
     ]
    },
    {
     "name": "stderr",
     "output_type": "stream",
     "text": [
      "\r",
      " 11%|████████████████▊                                                                                                                                            | 107/1000 [12:08<1:41:20,  6.81s/it]"
     ]
    },
    {
     "name": "stdout",
     "output_type": "stream",
     "text": [
      "=========================================================================\n",
      "frame_idx = 107\n",
      "=========================================================================\n",
      "0.0 : list_idx = get_list_idx_for_frame(frame_idx, n_frames_per_side, shift)\n",
      "5.047584772109985 : df_subtracted_frame = get_df_voxel_subtracted_frame(list_df_voxel_scene, frame_idx, n_frames_per_side, shift)\n",
      "1.3288390636444092 : df_frame_orig['voxel_id'] =  df_frame_orig.apply(lambda x: point_to_voxel(x, voxel_size), axis=1)\n",
      "0.001993417739868164 : df_labels = df_frame_orig.voxel_id.isin(df_subtracted_frame.voxel_id)\n",
      "(3, 5)\n",
      "(156, 5)\n",
      "0.18749427795410156 : df_frame_orig_subtracted = df_frame_orig[df_labels]\n",
      "(2562, 5)\n",
      "file_labels: voxelling_output/submission_files/test_vid_19_pred__final/0000107_labels.csv\n",
      "0.09573554992675781 : df_labels.to_csv(pickles_path+\"df_labels__frame_%d__%s__voxel_size_%d_(%d,%d,%d).p\"%(frame_idx, vid, voxel_size, n_frames_per_side, shift, n_frames_per_side))\n",
      "2562\n",
      "0.0029921531677246094 : save_frame_for_movie(df_frame_orig_subtracted, \"tmp_only_labeled/\", all_files, frame_idx)\n"
     ]
    },
    {
     "name": "stderr",
     "output_type": "stream",
     "text": [
      "\r",
      " 11%|████████████████▉                                                                                                                                            | 108/1000 [12:15<1:41:12,  6.81s/it]"
     ]
    },
    {
     "name": "stdout",
     "output_type": "stream",
     "text": [
      "=========================================================================\n",
      "frame_idx = 108\n",
      "=========================================================================\n",
      "0.0 : list_idx = get_list_idx_for_frame(frame_idx, n_frames_per_side, shift)\n",
      "4.9602508544921875 : df_subtracted_frame = get_df_voxel_subtracted_frame(list_df_voxel_scene, frame_idx, n_frames_per_side, shift)\n",
      "1.3359651565551758 : df_frame_orig['voxel_id'] =  df_frame_orig.apply(lambda x: point_to_voxel(x, voxel_size), axis=1)\n",
      "0.0019855499267578125 : df_labels = df_frame_orig.voxel_id.isin(df_subtracted_frame.voxel_id)\n",
      "(6, 5)\n",
      "(225, 5)\n",
      "0.1813664436340332 : df_frame_orig_subtracted = df_frame_orig[df_labels]\n",
      "(2715, 5)\n",
      "file_labels: voxelling_output/submission_files/test_vid_19_pred__final/0000108_labels.csv\n",
      "0.09773993492126465 : df_labels.to_csv(pickles_path+\"df_labels__frame_%d__%s__voxel_size_%d_(%d,%d,%d).p\"%(frame_idx, vid, voxel_size, n_frames_per_side, shift, n_frames_per_side))\n",
      "2715\n",
      "0.002977132797241211 : save_frame_for_movie(df_frame_orig_subtracted, \"tmp_only_labeled/\", all_files, frame_idx)\n"
     ]
    },
    {
     "name": "stderr",
     "output_type": "stream",
     "text": [
      "\r",
      " 11%|█████████████████                                                                                                                                            | 109/1000 [12:21<1:41:03,  6.81s/it]"
     ]
    },
    {
     "name": "stdout",
     "output_type": "stream",
     "text": [
      "=========================================================================\n",
      "frame_idx = 109\n",
      "=========================================================================\n",
      "0.0 : list_idx = get_list_idx_for_frame(frame_idx, n_frames_per_side, shift)\n",
      "5.0182459354400635 : df_subtracted_frame = get_df_voxel_subtracted_frame(list_df_voxel_scene, frame_idx, n_frames_per_side, shift)\n",
      "1.3422377109527588 : df_frame_orig['voxel_id'] =  df_frame_orig.apply(lambda x: point_to_voxel(x, voxel_size), axis=1)\n",
      "0.0009930133819580078 : df_labels = df_frame_orig.voxel_id.isin(df_subtracted_frame.voxel_id)\n",
      "(4, 5)\n",
      "(126, 5)\n",
      "0.1830141544342041 : df_frame_orig_subtracted = df_frame_orig[df_labels]\n",
      "(3133, 5)\n",
      "file_labels: voxelling_output/submission_files/test_vid_19_pred__final/0000109_labels.csv\n",
      "0.09525203704833984 : df_labels.to_csv(pickles_path+\"df_labels__frame_%d__%s__voxel_size_%d_(%d,%d,%d).p\"%(frame_idx, vid, voxel_size, n_frames_per_side, shift, n_frames_per_side))\n",
      "3133\n",
      "0.0029921531677246094 : save_frame_for_movie(df_frame_orig_subtracted, \"tmp_only_labeled/\", all_files, frame_idx)\n"
     ]
    },
    {
     "name": "stderr",
     "output_type": "stream",
     "text": [
      "\r",
      " 11%|█████████████████▎                                                                                                                                           | 110/1000 [12:28<1:40:55,  6.80s/it]"
     ]
    },
    {
     "name": "stdout",
     "output_type": "stream",
     "text": [
      "=========================================================================\n",
      "frame_idx = 110\n",
      "=========================================================================\n",
      "0.0 : list_idx = get_list_idx_for_frame(frame_idx, n_frames_per_side, shift)\n",
      "5.005429029464722 : df_subtracted_frame = get_df_voxel_subtracted_frame(list_df_voxel_scene, frame_idx, n_frames_per_side, shift)\n",
      "1.3428871631622314 : df_frame_orig['voxel_id'] =  df_frame_orig.apply(lambda x: point_to_voxel(x, voxel_size), axis=1)\n",
      "0.001995086669921875 : df_labels = df_frame_orig.voxel_id.isin(df_subtracted_frame.voxel_id)\n",
      "(6, 5)\n",
      "(260, 5)\n",
      "0.18370890617370605 : df_frame_orig_subtracted = df_frame_orig[df_labels]\n",
      "(3340, 5)\n",
      "file_labels: voxelling_output/submission_files/test_vid_19_pred__final/0000110_labels.csv\n",
      "0.0927879810333252 : df_labels.to_csv(pickles_path+\"df_labels__frame_%d__%s__voxel_size_%d_(%d,%d,%d).p\"%(frame_idx, vid, voxel_size, n_frames_per_side, shift, n_frames_per_side))\n",
      "3340\n",
      "0.003996372222900391 : save_frame_for_movie(df_frame_orig_subtracted, \"tmp_only_labeled/\", all_files, frame_idx)\n"
     ]
    },
    {
     "name": "stderr",
     "output_type": "stream",
     "text": [
      "\r",
      " 11%|█████████████████▍                                                                                                                                           | 111/1000 [12:35<1:40:47,  6.80s/it]"
     ]
    },
    {
     "name": "stdout",
     "output_type": "stream",
     "text": [
      "=========================================================================\n",
      "frame_idx = 111\n",
      "=========================================================================\n",
      "0.0 : list_idx = get_list_idx_for_frame(frame_idx, n_frames_per_side, shift)\n",
      "4.995495319366455 : df_subtracted_frame = get_df_voxel_subtracted_frame(list_df_voxel_scene, frame_idx, n_frames_per_side, shift)\n",
      "1.3609724044799805 : df_frame_orig['voxel_id'] =  df_frame_orig.apply(lambda x: point_to_voxel(x, voxel_size), axis=1)\n",
      "0.0009970664978027344 : df_labels = df_frame_orig.voxel_id.isin(df_subtracted_frame.voxel_id)\n",
      "(5, 5)\n",
      "(158, 5)\n",
      "0.1861424446105957 : df_frame_orig_subtracted = df_frame_orig[df_labels]\n",
      "(3639, 5)\n",
      "file_labels: voxelling_output/submission_files/test_vid_19_pred__final/0000111_labels.csv\n",
      "0.09688854217529297 : df_labels.to_csv(pickles_path+\"df_labels__frame_%d__%s__voxel_size_%d_(%d,%d,%d).p\"%(frame_idx, vid, voxel_size, n_frames_per_side, shift, n_frames_per_side))\n",
      "3639\n",
      "0.0029926300048828125 : save_frame_for_movie(df_frame_orig_subtracted, \"tmp_only_labeled/\", all_files, frame_idx)\n"
     ]
    },
    {
     "name": "stderr",
     "output_type": "stream",
     "text": [
      "\r",
      " 11%|█████████████████▌                                                                                                                                           | 112/1000 [12:41<1:40:40,  6.80s/it]"
     ]
    },
    {
     "name": "stdout",
     "output_type": "stream",
     "text": [
      "=========================================================================\n",
      "frame_idx = 112\n",
      "=========================================================================\n",
      "0.0 : list_idx = get_list_idx_for_frame(frame_idx, n_frames_per_side, shift)\n",
      "4.983877182006836 : df_subtracted_frame = get_df_voxel_subtracted_frame(list_df_voxel_scene, frame_idx, n_frames_per_side, shift)\n",
      "1.3431313037872314 : df_frame_orig['voxel_id'] =  df_frame_orig.apply(lambda x: point_to_voxel(x, voxel_size), axis=1)\n",
      "0.0009801387786865234 : df_labels = df_frame_orig.voxel_id.isin(df_subtracted_frame.voxel_id)\n",
      "(4, 5)\n",
      "(409, 5)\n",
      "0.1824510097503662 : df_frame_orig_subtracted = df_frame_orig[df_labels]\n",
      "(3547, 5)\n",
      "file_labels: voxelling_output/submission_files/test_vid_19_pred__final/0000112_labels.csv\n",
      "0.09228348731994629 : df_labels.to_csv(pickles_path+\"df_labels__frame_%d__%s__voxel_size_%d_(%d,%d,%d).p\"%(frame_idx, vid, voxel_size, n_frames_per_side, shift, n_frames_per_side))\n",
      "3547\n",
      "0.002997159957885742 : save_frame_for_movie(df_frame_orig_subtracted, \"tmp_only_labeled/\", all_files, frame_idx)\n"
     ]
    },
    {
     "name": "stderr",
     "output_type": "stream",
     "text": [
      "\r",
      " 11%|█████████████████▋                                                                                                                                           | 113/1000 [12:48<1:40:32,  6.80s/it]"
     ]
    },
    {
     "name": "stdout",
     "output_type": "stream",
     "text": [
      "=========================================================================\n",
      "frame_idx = 113\n",
      "=========================================================================\n",
      "0.0009980201721191406 : list_idx = get_list_idx_for_frame(frame_idx, n_frames_per_side, shift)\n",
      "4.988519668579102 : df_subtracted_frame = get_df_voxel_subtracted_frame(list_df_voxel_scene, frame_idx, n_frames_per_side, shift)\n",
      "1.3395755290985107 : df_frame_orig['voxel_id'] =  df_frame_orig.apply(lambda x: point_to_voxel(x, voxel_size), axis=1)\n",
      "0.0019958019256591797 : df_labels = df_frame_orig.voxel_id.isin(df_subtracted_frame.voxel_id)\n",
      "(3, 5)\n",
      "(487, 5)\n",
      "0.18154573440551758 : df_frame_orig_subtracted = df_frame_orig[df_labels]\n",
      "(3561, 5)\n",
      "file_labels: voxelling_output/submission_files/test_vid_19_pred__final/0000113_labels.csv\n",
      "0.09734463691711426 : df_labels.to_csv(pickles_path+\"df_labels__frame_%d__%s__voxel_size_%d_(%d,%d,%d).p\"%(frame_idx, vid, voxel_size, n_frames_per_side, shift, n_frames_per_side))\n",
      "3561\n",
      "0.003004312515258789 : save_frame_for_movie(df_frame_orig_subtracted, \"tmp_only_labeled/\", all_files, frame_idx)\n"
     ]
    },
    {
     "name": "stderr",
     "output_type": "stream",
     "text": [
      "\r",
      " 11%|█████████████████▉                                                                                                                                           | 114/1000 [12:55<1:40:23,  6.80s/it]"
     ]
    },
    {
     "name": "stdout",
     "output_type": "stream",
     "text": [
      "=========================================================================\n",
      "frame_idx = 114\n",
      "=========================================================================\n",
      "0.0 : list_idx = get_list_idx_for_frame(frame_idx, n_frames_per_side, shift)\n",
      "4.9052228927612305 : df_subtracted_frame = get_df_voxel_subtracted_frame(list_df_voxel_scene, frame_idx, n_frames_per_side, shift)\n",
      "1.341712236404419 : df_frame_orig['voxel_id'] =  df_frame_orig.apply(lambda x: point_to_voxel(x, voxel_size), axis=1)\n",
      "0.0019845962524414062 : df_labels = df_frame_orig.voxel_id.isin(df_subtracted_frame.voxel_id)\n",
      "(4, 5)\n",
      "(489, 5)\n",
      "0.18687820434570312 : df_frame_orig_subtracted = df_frame_orig[df_labels]\n",
      "(3519, 5)\n",
      "file_labels: voxelling_output/submission_files/test_vid_19_pred__final/0000114_labels.csv\n",
      "0.0977320671081543 : df_labels.to_csv(pickles_path+\"df_labels__frame_%d__%s__voxel_size_%d_(%d,%d,%d).p\"%(frame_idx, vid, voxel_size, n_frames_per_side, shift, n_frames_per_side))\n",
      "3519\n",
      "0.0029926300048828125 : save_frame_for_movie(df_frame_orig_subtracted, \"tmp_only_labeled/\", all_files, frame_idx)\n"
     ]
    },
    {
     "name": "stderr",
     "output_type": "stream",
     "text": [
      "\r",
      " 12%|██████████████████                                                                                                                                           | 115/1000 [13:01<1:40:15,  6.80s/it]"
     ]
    },
    {
     "name": "stdout",
     "output_type": "stream",
     "text": [
      "=========================================================================\n",
      "frame_idx = 115\n",
      "=========================================================================\n",
      "0.0 : list_idx = get_list_idx_for_frame(frame_idx, n_frames_per_side, shift)\n",
      "4.900483131408691 : df_subtracted_frame = get_df_voxel_subtracted_frame(list_df_voxel_scene, frame_idx, n_frames_per_side, shift)\n",
      "1.3478596210479736 : df_frame_orig['voxel_id'] =  df_frame_orig.apply(lambda x: point_to_voxel(x, voxel_size), axis=1)\n",
      "0.0019936561584472656 : df_labels = df_frame_orig.voxel_id.isin(df_subtracted_frame.voxel_id)\n",
      "(8, 5)\n",
      "(156, 5)\n",
      "0.17786335945129395 : df_frame_orig_subtracted = df_frame_orig[df_labels]\n",
      "(3668, 5)\n",
      "file_labels: voxelling_output/submission_files/test_vid_19_pred__final/0000115_labels.csv\n",
      "0.09778285026550293 : df_labels.to_csv(pickles_path+\"df_labels__frame_%d__%s__voxel_size_%d_(%d,%d,%d).p\"%(frame_idx, vid, voxel_size, n_frames_per_side, shift, n_frames_per_side))\n",
      "3668\n",
      "0.002992868423461914 : save_frame_for_movie(df_frame_orig_subtracted, \"tmp_only_labeled/\", all_files, frame_idx)\n"
     ]
    },
    {
     "name": "stderr",
     "output_type": "stream",
     "text": [
      "\r",
      " 12%|██████████████████▏                                                                                                                                          | 116/1000 [13:08<1:40:06,  6.79s/it]"
     ]
    },
    {
     "name": "stdout",
     "output_type": "stream",
     "text": [
      "=========================================================================\n",
      "frame_idx = 116\n",
      "=========================================================================\n",
      "0.0 : list_idx = get_list_idx_for_frame(frame_idx, n_frames_per_side, shift)\n",
      "4.946641206741333 : df_subtracted_frame = get_df_voxel_subtracted_frame(list_df_voxel_scene, frame_idx, n_frames_per_side, shift)\n",
      "1.3349347114562988 : df_frame_orig['voxel_id'] =  df_frame_orig.apply(lambda x: point_to_voxel(x, voxel_size), axis=1)\n",
      "0.000997781753540039 : df_labels = df_frame_orig.voxel_id.isin(df_subtracted_frame.voxel_id)\n",
      "(2, 5)\n",
      "(120, 5)\n",
      "0.1867835521697998 : df_frame_orig_subtracted = df_frame_orig[df_labels]\n",
      "(4170, 5)\n",
      "file_labels: voxelling_output/submission_files/test_vid_19_pred__final/0000116_labels.csv\n",
      "0.0937495231628418 : df_labels.to_csv(pickles_path+\"df_labels__frame_%d__%s__voxel_size_%d_(%d,%d,%d).p\"%(frame_idx, vid, voxel_size, n_frames_per_side, shift, n_frames_per_side))\n",
      "4170\n",
      "0.0030167102813720703 : save_frame_for_movie(df_frame_orig_subtracted, \"tmp_only_labeled/\", all_files, frame_idx)\n"
     ]
    },
    {
     "name": "stderr",
     "output_type": "stream",
     "text": [
      "\r",
      " 12%|██████████████████▎                                                                                                                                          | 117/1000 [13:14<1:39:58,  6.79s/it]"
     ]
    },
    {
     "name": "stdout",
     "output_type": "stream",
     "text": [
      "=========================================================================\n",
      "frame_idx = 117\n",
      "=========================================================================\n",
      "0.0009944438934326172 : list_idx = get_list_idx_for_frame(frame_idx, n_frames_per_side, shift)\n",
      "4.960761308670044 : df_subtracted_frame = get_df_voxel_subtracted_frame(list_df_voxel_scene, frame_idx, n_frames_per_side, shift)\n",
      "1.3110525608062744 : df_frame_orig['voxel_id'] =  df_frame_orig.apply(lambda x: point_to_voxel(x, voxel_size), axis=1)\n",
      "0.000997304916381836 : df_labels = df_frame_orig.voxel_id.isin(df_subtracted_frame.voxel_id)\n",
      "(6, 5)\n",
      "(8, 5)\n",
      "0.18216848373413086 : df_frame_orig_subtracted = df_frame_orig[df_labels]\n",
      "(4422, 5)\n",
      "file_labels: voxelling_output/submission_files/test_vid_19_pred__final/0000117_labels.csv\n",
      "0.09375524520874023 : df_labels.to_csv(pickles_path+\"df_labels__frame_%d__%s__voxel_size_%d_(%d,%d,%d).p\"%(frame_idx, vid, voxel_size, n_frames_per_side, shift, n_frames_per_side))\n",
      "4422\n",
      "0.0019762516021728516 : save_frame_for_movie(df_frame_orig_subtracted, \"tmp_only_labeled/\", all_files, frame_idx)\n"
     ]
    },
    {
     "name": "stderr",
     "output_type": "stream",
     "text": [
      "\r",
      " 12%|██████████████████▌                                                                                                                                          | 118/1000 [13:21<1:39:50,  6.79s/it]"
     ]
    },
    {
     "name": "stdout",
     "output_type": "stream",
     "text": [
      "=========================================================================\n",
      "frame_idx = 118\n",
      "=========================================================================\n",
      "0.0 : list_idx = get_list_idx_for_frame(frame_idx, n_frames_per_side, shift)\n",
      "4.962014675140381 : df_subtracted_frame = get_df_voxel_subtracted_frame(list_df_voxel_scene, frame_idx, n_frames_per_side, shift)\n",
      "1.350123643875122 : df_frame_orig['voxel_id'] =  df_frame_orig.apply(lambda x: point_to_voxel(x, voxel_size), axis=1)\n",
      "0.0020008087158203125 : df_labels = df_frame_orig.voxel_id.isin(df_subtracted_frame.voxel_id)\n",
      "(7, 5)\n",
      "(14, 5)\n",
      "0.18054795265197754 : df_frame_orig_subtracted = df_frame_orig[df_labels]\n",
      "(4248, 5)\n",
      "file_labels: voxelling_output/submission_files/test_vid_19_pred__final/0000118_labels.csv\n",
      "0.10272693634033203 : df_labels.to_csv(pickles_path+\"df_labels__frame_%d__%s__voxel_size_%d_(%d,%d,%d).p\"%(frame_idx, vid, voxel_size, n_frames_per_side, shift, n_frames_per_side))\n",
      "4248\n",
      "0.002964496612548828 : save_frame_for_movie(df_frame_orig_subtracted, \"tmp_only_labeled/\", all_files, frame_idx)\n"
     ]
    },
    {
     "name": "stderr",
     "output_type": "stream",
     "text": [
      "\r",
      " 12%|██████████████████▋                                                                                                                                          | 119/1000 [13:28<1:39:42,  6.79s/it]"
     ]
    },
    {
     "name": "stdout",
     "output_type": "stream",
     "text": [
      "=========================================================================\n",
      "frame_idx = 119\n",
      "=========================================================================\n",
      "0.0 : list_idx = get_list_idx_for_frame(frame_idx, n_frames_per_side, shift)\n",
      "4.930682182312012 : df_subtracted_frame = get_df_voxel_subtracted_frame(list_df_voxel_scene, frame_idx, n_frames_per_side, shift)\n",
      "1.343085527420044 : df_frame_orig['voxel_id'] =  df_frame_orig.apply(lambda x: point_to_voxel(x, voxel_size), axis=1)\n",
      "0.0009970664978027344 : df_labels = df_frame_orig.voxel_id.isin(df_subtracted_frame.voxel_id)\n",
      "(10, 5)\n",
      "(17, 5)\n",
      "0.1830596923828125 : df_frame_orig_subtracted = df_frame_orig[df_labels]\n",
      "(4094, 5)\n",
      "file_labels: voxelling_output/submission_files/test_vid_19_pred__final/0000119_labels.csv\n",
      "0.0917806625366211 : df_labels.to_csv(pickles_path+\"df_labels__frame_%d__%s__voxel_size_%d_(%d,%d,%d).p\"%(frame_idx, vid, voxel_size, n_frames_per_side, shift, n_frames_per_side))\n",
      "4094\n",
      "0.0020172595977783203 : save_frame_for_movie(df_frame_orig_subtracted, \"tmp_only_labeled/\", all_files, frame_idx)\n"
     ]
    },
    {
     "name": "stderr",
     "output_type": "stream",
     "text": [
      "\r",
      " 12%|██████████████████▊                                                                                                                                          | 120/1000 [13:34<1:39:33,  6.79s/it]"
     ]
    },
    {
     "name": "stdout",
     "output_type": "stream",
     "text": [
      "=========================================================================\n",
      "frame_idx = 120\n",
      "=========================================================================\n",
      "0.0 : list_idx = get_list_idx_for_frame(frame_idx, n_frames_per_side, shift)\n",
      "4.930466175079346 : df_subtracted_frame = get_df_voxel_subtracted_frame(list_df_voxel_scene, frame_idx, n_frames_per_side, shift)\n",
      "1.3368282318115234 : df_frame_orig['voxel_id'] =  df_frame_orig.apply(lambda x: point_to_voxel(x, voxel_size), axis=1)\n",
      "0.002047300338745117 : df_labels = df_frame_orig.voxel_id.isin(df_subtracted_frame.voxel_id)\n",
      "(5, 5)\n",
      "(17, 5)\n",
      "0.18380260467529297 : df_frame_orig_subtracted = df_frame_orig[df_labels]\n",
      "(3805, 5)\n",
      "file_labels: voxelling_output/submission_files/test_vid_19_pred__final/0000120_labels.csv\n",
      "0.0917520523071289 : df_labels.to_csv(pickles_path+\"df_labels__frame_%d__%s__voxel_size_%d_(%d,%d,%d).p\"%(frame_idx, vid, voxel_size, n_frames_per_side, shift, n_frames_per_side))\n",
      "3805\n",
      "0.0029904842376708984 : save_frame_for_movie(df_frame_orig_subtracted, \"tmp_only_labeled/\", all_files, frame_idx)\n"
     ]
    },
    {
     "name": "stderr",
     "output_type": "stream",
     "text": [
      "\r",
      " 12%|██████████████████▉                                                                                                                                          | 121/1000 [13:41<1:39:25,  6.79s/it]"
     ]
    },
    {
     "name": "stdout",
     "output_type": "stream",
     "text": [
      "=========================================================================\n",
      "frame_idx = 121\n",
      "=========================================================================\n",
      "0.0 : list_idx = get_list_idx_for_frame(frame_idx, n_frames_per_side, shift)\n",
      "4.937424659729004 : df_subtracted_frame = get_df_voxel_subtracted_frame(list_df_voxel_scene, frame_idx, n_frames_per_side, shift)\n",
      "1.3353092670440674 : df_frame_orig['voxel_id'] =  df_frame_orig.apply(lambda x: point_to_voxel(x, voxel_size), axis=1)\n",
      "0.0010018348693847656 : df_labels = df_frame_orig.voxel_id.isin(df_subtracted_frame.voxel_id)\n",
      "(2, 5)\n",
      "(15, 5)\n",
      "0.18293452262878418 : df_frame_orig_subtracted = df_frame_orig[df_labels]\n",
      "(3473, 5)\n",
      "file_labels: voxelling_output/submission_files/test_vid_19_pred__final/0000121_labels.csv\n",
      "0.09326052665710449 : df_labels.to_csv(pickles_path+\"df_labels__frame_%d__%s__voxel_size_%d_(%d,%d,%d).p\"%(frame_idx, vid, voxel_size, n_frames_per_side, shift, n_frames_per_side))\n",
      "3473\n",
      "0.0019958019256591797 : save_frame_for_movie(df_frame_orig_subtracted, \"tmp_only_labeled/\", all_files, frame_idx)\n"
     ]
    },
    {
     "name": "stderr",
     "output_type": "stream",
     "text": [
      "\r",
      " 12%|███████████████████▏                                                                                                                                         | 122/1000 [13:47<1:39:17,  6.78s/it]"
     ]
    },
    {
     "name": "stdout",
     "output_type": "stream",
     "text": [
      "=========================================================================\n",
      "frame_idx = 122\n",
      "=========================================================================\n",
      "0.0 : list_idx = get_list_idx_for_frame(frame_idx, n_frames_per_side, shift)\n",
      "4.954972982406616 : df_subtracted_frame = get_df_voxel_subtracted_frame(list_df_voxel_scene, frame_idx, n_frames_per_side, shift)\n",
      "1.3217189311981201 : df_frame_orig['voxel_id'] =  df_frame_orig.apply(lambda x: point_to_voxel(x, voxel_size), axis=1)\n",
      "0.0009965896606445312 : df_labels = df_frame_orig.voxel_id.isin(df_subtracted_frame.voxel_id)\n",
      "(9, 5)\n",
      "(24, 5)\n",
      "0.1825113296508789 : df_frame_orig_subtracted = df_frame_orig[df_labels]\n",
      "(3107, 5)\n",
      "file_labels: voxelling_output/submission_files/test_vid_19_pred__final/0000122_labels.csv\n",
      "0.0957326889038086 : df_labels.to_csv(pickles_path+\"df_labels__frame_%d__%s__voxel_size_%d_(%d,%d,%d).p\"%(frame_idx, vid, voxel_size, n_frames_per_side, shift, n_frames_per_side))\n",
      "3107\n",
      "0.003985881805419922 : save_frame_for_movie(df_frame_orig_subtracted, \"tmp_only_labeled/\", all_files, frame_idx)\n"
     ]
    },
    {
     "name": "stderr",
     "output_type": "stream",
     "text": [
      "\r",
      " 12%|███████████████████▎                                                                                                                                         | 123/1000 [13:54<1:39:08,  6.78s/it]"
     ]
    },
    {
     "name": "stdout",
     "output_type": "stream",
     "text": [
      "=========================================================================\n",
      "frame_idx = 123\n",
      "=========================================================================\n",
      "0.0010111331939697266 : list_idx = get_list_idx_for_frame(frame_idx, n_frames_per_side, shift)\n",
      "4.932596206665039 : df_subtracted_frame = get_df_voxel_subtracted_frame(list_df_voxel_scene, frame_idx, n_frames_per_side, shift)\n",
      "1.3213846683502197 : df_frame_orig['voxel_id'] =  df_frame_orig.apply(lambda x: point_to_voxel(x, voxel_size), axis=1)\n",
      "0.001998424530029297 : df_labels = df_frame_orig.voxel_id.isin(df_subtracted_frame.voxel_id)\n",
      "(2, 5)\n",
      "(21, 5)\n",
      "0.17955517768859863 : df_frame_orig_subtracted = df_frame_orig[df_labels]\n",
      "(2577, 5)\n",
      "file_labels: voxelling_output/submission_files/test_vid_19_pred__final/0000123_labels.csv\n",
      "0.09574580192565918 : df_labels.to_csv(pickles_path+\"df_labels__frame_%d__%s__voxel_size_%d_(%d,%d,%d).p\"%(frame_idx, vid, voxel_size, n_frames_per_side, shift, n_frames_per_side))\n",
      "2577\n",
      "0.0029702186584472656 : save_frame_for_movie(df_frame_orig_subtracted, \"tmp_only_labeled/\", all_files, frame_idx)\n"
     ]
    },
    {
     "name": "stderr",
     "output_type": "stream",
     "text": [
      "\r",
      " 12%|███████████████████▍                                                                                                                                         | 124/1000 [14:00<1:39:00,  6.78s/it]"
     ]
    },
    {
     "name": "stdout",
     "output_type": "stream",
     "text": [
      "=========================================================================\n",
      "frame_idx = 124\n",
      "=========================================================================\n",
      "0.0 : list_idx = get_list_idx_for_frame(frame_idx, n_frames_per_side, shift)\n",
      "4.921650409698486 : df_subtracted_frame = get_df_voxel_subtracted_frame(list_df_voxel_scene, frame_idx, n_frames_per_side, shift)\n",
      "1.323214054107666 : df_frame_orig['voxel_id'] =  df_frame_orig.apply(lambda x: point_to_voxel(x, voxel_size), axis=1)\n",
      "0.0009970664978027344 : df_labels = df_frame_orig.voxel_id.isin(df_subtracted_frame.voxel_id)\n",
      "(8, 5)\n",
      "(23, 5)\n",
      "0.18010640144348145 : df_frame_orig_subtracted = df_frame_orig[df_labels]\n",
      "(2033, 5)\n",
      "file_labels: voxelling_output/submission_files/test_vid_19_pred__final/0000124_labels.csv\n",
      "0.09424805641174316 : df_labels.to_csv(pickles_path+\"df_labels__frame_%d__%s__voxel_size_%d_(%d,%d,%d).p\"%(frame_idx, vid, voxel_size, n_frames_per_side, shift, n_frames_per_side))\n",
      "2033\n",
      "0.002006053924560547 : save_frame_for_movie(df_frame_orig_subtracted, \"tmp_only_labeled/\", all_files, frame_idx)\n"
     ]
    },
    {
     "name": "stderr",
     "output_type": "stream",
     "text": [
      "\r",
      " 12%|███████████████████▋                                                                                                                                         | 125/1000 [14:07<1:38:52,  6.78s/it]"
     ]
    },
    {
     "name": "stdout",
     "output_type": "stream",
     "text": [
      "=========================================================================\n",
      "frame_idx = 125\n",
      "=========================================================================\n",
      "0.00099945068359375 : list_idx = get_list_idx_for_frame(frame_idx, n_frames_per_side, shift)\n",
      "5.053603410720825 : df_subtracted_frame = get_df_voxel_subtracted_frame(list_df_voxel_scene, frame_idx, n_frames_per_side, shift)\n",
      "1.359182596206665 : df_frame_orig['voxel_id'] =  df_frame_orig.apply(lambda x: point_to_voxel(x, voxel_size), axis=1)\n",
      "0.001990079879760742 : df_labels = df_frame_orig.voxel_id.isin(df_subtracted_frame.voxel_id)\n",
      "(4, 5)\n",
      "(26, 5)\n",
      "0.18241047859191895 : df_frame_orig_subtracted = df_frame_orig[df_labels]\n",
      "(1301, 5)\n",
      "file_labels: voxelling_output/submission_files/test_vid_19_pred__final/0000125_labels.csv\n",
      "0.10073232650756836 : df_labels.to_csv(pickles_path+\"df_labels__frame_%d__%s__voxel_size_%d_(%d,%d,%d).p\"%(frame_idx, vid, voxel_size, n_frames_per_side, shift, n_frames_per_side))\n",
      "1301\n",
      "0.001994609832763672 : save_frame_for_movie(df_frame_orig_subtracted, \"tmp_only_labeled/\", all_files, frame_idx)\n"
     ]
    },
    {
     "name": "stderr",
     "output_type": "stream",
     "text": [
      "\r",
      " 13%|███████████████████▊                                                                                                                                         | 126/1000 [14:14<1:38:45,  6.78s/it]"
     ]
    },
    {
     "name": "stdout",
     "output_type": "stream",
     "text": [
      "=========================================================================\n",
      "frame_idx = 126\n",
      "=========================================================================\n",
      "0.0 : list_idx = get_list_idx_for_frame(frame_idx, n_frames_per_side, shift)\n",
      "4.9863440990448 : df_subtracted_frame = get_df_voxel_subtracted_frame(list_df_voxel_scene, frame_idx, n_frames_per_side, shift)\n",
      "1.333493709564209 : df_frame_orig['voxel_id'] =  df_frame_orig.apply(lambda x: point_to_voxel(x, voxel_size), axis=1)\n",
      "0.0009975433349609375 : df_labels = df_frame_orig.voxel_id.isin(df_subtracted_frame.voxel_id)\n",
      "(3, 5)\n",
      "(21, 5)\n",
      "0.18624591827392578 : df_frame_orig_subtracted = df_frame_orig[df_labels]\n",
      "(620, 5)\n",
      "file_labels: voxelling_output/submission_files/test_vid_19_pred__final/0000126_labels.csv\n",
      "0.09473729133605957 : df_labels.to_csv(pickles_path+\"df_labels__frame_%d__%s__voxel_size_%d_(%d,%d,%d).p\"%(frame_idx, vid, voxel_size, n_frames_per_side, shift, n_frames_per_side))\n",
      "620\n",
      "0.0039899349212646484 : save_frame_for_movie(df_frame_orig_subtracted, \"tmp_only_labeled/\", all_files, frame_idx)\n"
     ]
    },
    {
     "name": "stderr",
     "output_type": "stream",
     "text": [
      "\r",
      " 13%|███████████████████▉                                                                                                                                         | 127/1000 [14:20<1:38:37,  6.78s/it]"
     ]
    },
    {
     "name": "stdout",
     "output_type": "stream",
     "text": [
      "=========================================================================\n",
      "frame_idx = 127\n",
      "=========================================================================\n",
      "0.0 : list_idx = get_list_idx_for_frame(frame_idx, n_frames_per_side, shift)\n",
      "4.942137241363525 : df_subtracted_frame = get_df_voxel_subtracted_frame(list_df_voxel_scene, frame_idx, n_frames_per_side, shift)\n",
      "1.3284780979156494 : df_frame_orig['voxel_id'] =  df_frame_orig.apply(lambda x: point_to_voxel(x, voxel_size), axis=1)\n",
      "0.0010058879852294922 : df_labels = df_frame_orig.voxel_id.isin(df_subtracted_frame.voxel_id)\n",
      "(4, 5)\n",
      "(27, 5)\n",
      "0.18353843688964844 : df_frame_orig_subtracted = df_frame_orig[df_labels]\n",
      "(447, 5)\n",
      "file_labels: voxelling_output/submission_files/test_vid_19_pred__final/0000127_labels.csv\n",
      "0.09277081489562988 : df_labels.to_csv(pickles_path+\"df_labels__frame_%d__%s__voxel_size_%d_(%d,%d,%d).p\"%(frame_idx, vid, voxel_size, n_frames_per_side, shift, n_frames_per_side))\n",
      "447\n",
      "0.0029914379119873047 : save_frame_for_movie(df_frame_orig_subtracted, \"tmp_only_labeled/\", all_files, frame_idx)\n"
     ]
    },
    {
     "name": "stderr",
     "output_type": "stream",
     "text": [
      "\r",
      " 13%|████████████████████                                                                                                                                         | 128/1000 [14:27<1:38:29,  6.78s/it]"
     ]
    },
    {
     "name": "stdout",
     "output_type": "stream",
     "text": [
      "=========================================================================\n",
      "frame_idx = 128\n",
      "=========================================================================\n",
      "0.0 : list_idx = get_list_idx_for_frame(frame_idx, n_frames_per_side, shift)\n",
      "4.987908363342285 : df_subtracted_frame = get_df_voxel_subtracted_frame(list_df_voxel_scene, frame_idx, n_frames_per_side, shift)\n",
      "1.364426851272583 : df_frame_orig['voxel_id'] =  df_frame_orig.apply(lambda x: point_to_voxel(x, voxel_size), axis=1)\n",
      "0.0019941329956054688 : df_labels = df_frame_orig.voxel_id.isin(df_subtracted_frame.voxel_id)\n",
      "(4, 5)\n",
      "(21, 5)\n",
      "0.17750811576843262 : df_frame_orig_subtracted = df_frame_orig[df_labels]\n",
      "(454, 5)\n",
      "file_labels: voxelling_output/submission_files/test_vid_19_pred__final/0000128_labels.csv\n",
      "0.09474444389343262 : df_labels.to_csv(pickles_path+\"df_labels__frame_%d__%s__voxel_size_%d_(%d,%d,%d).p\"%(frame_idx, vid, voxel_size, n_frames_per_side, shift, n_frames_per_side))\n",
      "454\n",
      "0.0029921531677246094 : save_frame_for_movie(df_frame_orig_subtracted, \"tmp_only_labeled/\", all_files, frame_idx)\n"
     ]
    },
    {
     "name": "stderr",
     "output_type": "stream",
     "text": [
      "\r",
      " 13%|████████████████████▎                                                                                                                                        | 129/1000 [14:34<1:38:21,  6.78s/it]"
     ]
    },
    {
     "name": "stdout",
     "output_type": "stream",
     "text": [
      "=========================================================================\n",
      "frame_idx = 129\n",
      "=========================================================================\n",
      "0.0 : list_idx = get_list_idx_for_frame(frame_idx, n_frames_per_side, shift)\n",
      "4.952683448791504 : df_subtracted_frame = get_df_voxel_subtracted_frame(list_df_voxel_scene, frame_idx, n_frames_per_side, shift)\n",
      "1.3278486728668213 : df_frame_orig['voxel_id'] =  df_frame_orig.apply(lambda x: point_to_voxel(x, voxel_size), axis=1)\n",
      "0.00199127197265625 : df_labels = df_frame_orig.voxel_id.isin(df_subtracted_frame.voxel_id)\n",
      "(6, 5)\n",
      "(23, 5)\n",
      "0.18654990196228027 : df_frame_orig_subtracted = df_frame_orig[df_labels]\n",
      "(444, 5)\n",
      "file_labels: voxelling_output/submission_files/test_vid_19_pred__final/0000129_labels.csv\n",
      "0.09430241584777832 : df_labels.to_csv(pickles_path+\"df_labels__frame_%d__%s__voxel_size_%d_(%d,%d,%d).p\"%(frame_idx, vid, voxel_size, n_frames_per_side, shift, n_frames_per_side))\n",
      "444\n",
      "0.0019958019256591797 : save_frame_for_movie(df_frame_orig_subtracted, \"tmp_only_labeled/\", all_files, frame_idx)\n"
     ]
    },
    {
     "name": "stderr",
     "output_type": "stream",
     "text": [
      "\r",
      " 13%|████████████████████▍                                                                                                                                        | 130/1000 [14:40<1:38:13,  6.77s/it]"
     ]
    },
    {
     "name": "stdout",
     "output_type": "stream",
     "text": [
      "=========================================================================\n",
      "frame_idx = 130\n",
      "=========================================================================\n",
      "0.0 : list_idx = get_list_idx_for_frame(frame_idx, n_frames_per_side, shift)\n",
      "4.978351593017578 : df_subtracted_frame = get_df_voxel_subtracted_frame(list_df_voxel_scene, frame_idx, n_frames_per_side, shift)\n",
      "1.3194894790649414 : df_frame_orig['voxel_id'] =  df_frame_orig.apply(lambda x: point_to_voxel(x, voxel_size), axis=1)\n",
      "0.0019943714141845703 : df_labels = df_frame_orig.voxel_id.isin(df_subtracted_frame.voxel_id)\n",
      "(6, 5)\n",
      "(24, 5)\n",
      "0.17759180068969727 : df_frame_orig_subtracted = df_frame_orig[df_labels]\n",
      "(442, 5)\n",
      "file_labels: voxelling_output/submission_files/test_vid_19_pred__final/0000130_labels.csv\n",
      "0.0937492847442627 : df_labels.to_csv(pickles_path+\"df_labels__frame_%d__%s__voxel_size_%d_(%d,%d,%d).p\"%(frame_idx, vid, voxel_size, n_frames_per_side, shift, n_frames_per_side))\n",
      "442\n",
      "0.0029909610748291016 : save_frame_for_movie(df_frame_orig_subtracted, \"tmp_only_labeled/\", all_files, frame_idx)\n"
     ]
    },
    {
     "name": "stderr",
     "output_type": "stream",
     "text": [
      "\r",
      " 13%|████████████████████▌                                                                                                                                        | 131/1000 [14:47<1:38:05,  6.77s/it]"
     ]
    },
    {
     "name": "stdout",
     "output_type": "stream",
     "text": [
      "=========================================================================\n",
      "frame_idx = 131\n",
      "=========================================================================\n",
      "0.0010013580322265625 : list_idx = get_list_idx_for_frame(frame_idx, n_frames_per_side, shift)\n",
      "4.993824481964111 : df_subtracted_frame = get_df_voxel_subtracted_frame(list_df_voxel_scene, frame_idx, n_frames_per_side, shift)\n",
      "1.3424427509307861 : df_frame_orig['voxel_id'] =  df_frame_orig.apply(lambda x: point_to_voxel(x, voxel_size), axis=1)\n",
      "0.0020008087158203125 : df_labels = df_frame_orig.voxel_id.isin(df_subtracted_frame.voxel_id)\n",
      "(6, 5)\n",
      "(20, 5)\n",
      "0.176527738571167 : df_frame_orig_subtracted = df_frame_orig[df_labels]\n",
      "(456, 5)\n",
      "file_labels: voxelling_output/submission_files/test_vid_19_pred__final/0000131_labels.csv\n",
      "0.09574127197265625 : df_labels.to_csv(pickles_path+\"df_labels__frame_%d__%s__voxel_size_%d_(%d,%d,%d).p\"%(frame_idx, vid, voxel_size, n_frames_per_side, shift, n_frames_per_side))\n",
      "456\n",
      "0.001994609832763672 : save_frame_for_movie(df_frame_orig_subtracted, \"tmp_only_labeled/\", all_files, frame_idx)\n"
     ]
    },
    {
     "name": "stderr",
     "output_type": "stream",
     "text": [
      "\r",
      " 13%|████████████████████▋                                                                                                                                        | 132/1000 [14:53<1:37:58,  6.77s/it]"
     ]
    },
    {
     "name": "stdout",
     "output_type": "stream",
     "text": [
      "=========================================================================\n",
      "frame_idx = 132\n",
      "=========================================================================\n",
      "0.0010161399841308594 : list_idx = get_list_idx_for_frame(frame_idx, n_frames_per_side, shift)\n",
      "5.008610725402832 : df_subtracted_frame = get_df_voxel_subtracted_frame(list_df_voxel_scene, frame_idx, n_frames_per_side, shift)\n",
      "1.3229866027832031 : df_frame_orig['voxel_id'] =  df_frame_orig.apply(lambda x: point_to_voxel(x, voxel_size), axis=1)\n",
      "0.000997304916381836 : df_labels = df_frame_orig.voxel_id.isin(df_subtracted_frame.voxel_id)\n",
      "(6, 5)\n",
      "(21, 5)\n",
      "0.19053196907043457 : df_frame_orig_subtracted = df_frame_orig[df_labels]\n",
      "(468, 5)\n",
      "file_labels: voxelling_output/submission_files/test_vid_19_pred__final/0000132_labels.csv\n",
      "0.0926663875579834 : df_labels.to_csv(pickles_path+\"df_labels__frame_%d__%s__voxel_size_%d_(%d,%d,%d).p\"%(frame_idx, vid, voxel_size, n_frames_per_side, shift, n_frames_per_side))\n",
      "468\n",
      "0.0029952526092529297 : save_frame_for_movie(df_frame_orig_subtracted, \"tmp_only_labeled/\", all_files, frame_idx)\n"
     ]
    },
    {
     "name": "stderr",
     "output_type": "stream",
     "text": [
      "\r",
      " 13%|████████████████████▉                                                                                                                                        | 133/1000 [15:00<1:37:50,  6.77s/it]"
     ]
    },
    {
     "name": "stdout",
     "output_type": "stream",
     "text": [
      "=========================================================================\n",
      "frame_idx = 133\n",
      "=========================================================================\n",
      "0.0 : list_idx = get_list_idx_for_frame(frame_idx, n_frames_per_side, shift)\n",
      "5.178584098815918 : df_subtracted_frame = get_df_voxel_subtracted_frame(list_df_voxel_scene, frame_idx, n_frames_per_side, shift)\n",
      "1.3304054737091064 : df_frame_orig['voxel_id'] =  df_frame_orig.apply(lambda x: point_to_voxel(x, voxel_size), axis=1)\n",
      "0.0009968280792236328 : df_labels = df_frame_orig.voxel_id.isin(df_subtracted_frame.voxel_id)\n",
      "(7, 5)\n",
      "(21, 5)\n",
      "0.18154668807983398 : df_frame_orig_subtracted = df_frame_orig[df_labels]\n",
      "(450, 5)\n",
      "file_labels: voxelling_output/submission_files/test_vid_19_pred__final/0000133_labels.csv\n",
      "0.09478139877319336 : df_labels.to_csv(pickles_path+\"df_labels__frame_%d__%s__voxel_size_%d_(%d,%d,%d).p\"%(frame_idx, vid, voxel_size, n_frames_per_side, shift, n_frames_per_side))\n",
      "450\n",
      "0.002996206283569336 : save_frame_for_movie(df_frame_orig_subtracted, \"tmp_only_labeled/\", all_files, frame_idx)\n"
     ]
    },
    {
     "name": "stderr",
     "output_type": "stream",
     "text": [
      "\r",
      " 13%|█████████████████████                                                                                                                                        | 134/1000 [15:07<1:37:43,  6.77s/it]"
     ]
    },
    {
     "name": "stdout",
     "output_type": "stream",
     "text": [
      "=========================================================================\n",
      "frame_idx = 134\n",
      "=========================================================================\n",
      "0.0 : list_idx = get_list_idx_for_frame(frame_idx, n_frames_per_side, shift)\n",
      "5.144742965698242 : df_subtracted_frame = get_df_voxel_subtracted_frame(list_df_voxel_scene, frame_idx, n_frames_per_side, shift)\n",
      "1.3367624282836914 : df_frame_orig['voxel_id'] =  df_frame_orig.apply(lambda x: point_to_voxel(x, voxel_size), axis=1)\n",
      "0.001992940902709961 : df_labels = df_frame_orig.voxel_id.isin(df_subtracted_frame.voxel_id)\n",
      "(7, 5)\n",
      "(22, 5)\n",
      "0.17804622650146484 : df_frame_orig_subtracted = df_frame_orig[df_labels]\n",
      "(442, 5)\n",
      "file_labels: voxelling_output/submission_files/test_vid_19_pred__final/0000134_labels.csv\n",
      "0.09727883338928223 : df_labels.to_csv(pickles_path+\"df_labels__frame_%d__%s__voxel_size_%d_(%d,%d,%d).p\"%(frame_idx, vid, voxel_size, n_frames_per_side, shift, n_frames_per_side))\n",
      "442\n",
      "0.0029921531677246094 : save_frame_for_movie(df_frame_orig_subtracted, \"tmp_only_labeled/\", all_files, frame_idx)\n"
     ]
    },
    {
     "name": "stderr",
     "output_type": "stream",
     "text": [
      "\r",
      " 14%|█████████████████████▏                                                                                                                                       | 135/1000 [15:14<1:37:37,  6.77s/it]"
     ]
    },
    {
     "name": "stdout",
     "output_type": "stream",
     "text": [
      "=========================================================================\n",
      "frame_idx = 135\n",
      "=========================================================================\n",
      "0.0 : list_idx = get_list_idx_for_frame(frame_idx, n_frames_per_side, shift)\n",
      "5.0310444831848145 : df_subtracted_frame = get_df_voxel_subtracted_frame(list_df_voxel_scene, frame_idx, n_frames_per_side, shift)\n",
      "1.3552722930908203 : df_frame_orig['voxel_id'] =  df_frame_orig.apply(lambda x: point_to_voxel(x, voxel_size), axis=1)\n",
      "0.0019941329956054688 : df_labels = df_frame_orig.voxel_id.isin(df_subtracted_frame.voxel_id)\n",
      "(3, 5)\n",
      "(21, 5)\n",
      "0.18552851676940918 : df_frame_orig_subtracted = df_frame_orig[df_labels]\n",
      "(464, 5)\n",
      "file_labels: voxelling_output/submission_files/test_vid_19_pred__final/0000135_labels.csv\n",
      "0.09175491333007812 : df_labels.to_csv(pickles_path+\"df_labels__frame_%d__%s__voxel_size_%d_(%d,%d,%d).p\"%(frame_idx, vid, voxel_size, n_frames_per_side, shift, n_frames_per_side))\n",
      "464\n",
      "0.0029845237731933594 : save_frame_for_movie(df_frame_orig_subtracted, \"tmp_only_labeled/\", all_files, frame_idx)\n"
     ]
    },
    {
     "name": "stderr",
     "output_type": "stream",
     "text": [
      "\r",
      " 14%|█████████████████████▎                                                                                                                                       | 136/1000 [15:20<1:37:30,  6.77s/it]"
     ]
    },
    {
     "name": "stdout",
     "output_type": "stream",
     "text": [
      "=========================================================================\n",
      "frame_idx = 136\n",
      "=========================================================================\n",
      "0.000997304916381836 : list_idx = get_list_idx_for_frame(frame_idx, n_frames_per_side, shift)\n",
      "4.984988451004028 : df_subtracted_frame = get_df_voxel_subtracted_frame(list_df_voxel_scene, frame_idx, n_frames_per_side, shift)\n",
      "1.3397853374481201 : df_frame_orig['voxel_id'] =  df_frame_orig.apply(lambda x: point_to_voxel(x, voxel_size), axis=1)\n",
      "0.0010113716125488281 : df_labels = df_frame_orig.voxel_id.isin(df_subtracted_frame.voxel_id)\n",
      "(4, 5)\n",
      "(18, 5)\n",
      "0.18920636177062988 : df_frame_orig_subtracted = df_frame_orig[df_labels]\n",
      "(456, 5)\n",
      "file_labels: voxelling_output/submission_files/test_vid_19_pred__final/0000136_labels.csv\n",
      "0.09572839736938477 : df_labels.to_csv(pickles_path+\"df_labels__frame_%d__%s__voxel_size_%d_(%d,%d,%d).p\"%(frame_idx, vid, voxel_size, n_frames_per_side, shift, n_frames_per_side))\n",
      "456\n",
      "0.0029888153076171875 : save_frame_for_movie(df_frame_orig_subtracted, \"tmp_only_labeled/\", all_files, frame_idx)\n"
     ]
    },
    {
     "name": "stderr",
     "output_type": "stream",
     "text": [
      "\r",
      " 14%|█████████████████████▌                                                                                                                                       | 137/1000 [15:27<1:37:22,  6.77s/it]"
     ]
    },
    {
     "name": "stdout",
     "output_type": "stream",
     "text": [
      "=========================================================================\n",
      "frame_idx = 137\n",
      "=========================================================================\n",
      "0.0009834766387939453 : list_idx = get_list_idx_for_frame(frame_idx, n_frames_per_side, shift)\n",
      "5.080271005630493 : df_subtracted_frame = get_df_voxel_subtracted_frame(list_df_voxel_scene, frame_idx, n_frames_per_side, shift)\n",
      "1.3150107860565186 : df_frame_orig['voxel_id'] =  df_frame_orig.apply(lambda x: point_to_voxel(x, voxel_size), axis=1)\n",
      "0.0009975433349609375 : df_labels = df_frame_orig.voxel_id.isin(df_subtracted_frame.voxel_id)\n",
      "(7, 5)\n",
      "(18, 5)\n",
      "0.18752670288085938 : df_frame_orig_subtracted = df_frame_orig[df_labels]\n",
      "(426, 5)\n",
      "file_labels: voxelling_output/submission_files/test_vid_19_pred__final/0000137_labels.csv\n",
      "0.09474587440490723 : df_labels.to_csv(pickles_path+\"df_labels__frame_%d__%s__voxel_size_%d_(%d,%d,%d).p\"%(frame_idx, vid, voxel_size, n_frames_per_side, shift, n_frames_per_side))\n",
      "426\n",
      "0.002994537353515625 : save_frame_for_movie(df_frame_orig_subtracted, \"tmp_only_labeled/\", all_files, frame_idx)\n"
     ]
    },
    {
     "name": "stderr",
     "output_type": "stream",
     "text": [
      "\r",
      " 14%|█████████████████████▋                                                                                                                                       | 138/1000 [15:34<1:37:15,  6.77s/it]"
     ]
    },
    {
     "name": "stdout",
     "output_type": "stream",
     "text": [
      "=========================================================================\n",
      "frame_idx = 138\n",
      "=========================================================================\n",
      "0.0009965896606445312 : list_idx = get_list_idx_for_frame(frame_idx, n_frames_per_side, shift)\n",
      "4.935594081878662 : df_subtracted_frame = get_df_voxel_subtracted_frame(list_df_voxel_scene, frame_idx, n_frames_per_side, shift)\n",
      "1.3371014595031738 : df_frame_orig['voxel_id'] =  df_frame_orig.apply(lambda x: point_to_voxel(x, voxel_size), axis=1)\n",
      "0.0009984970092773438 : df_labels = df_frame_orig.voxel_id.isin(df_subtracted_frame.voxel_id)\n",
      "(2, 5)\n",
      "(20, 5)\n",
      "0.18853425979614258 : df_frame_orig_subtracted = df_frame_orig[df_labels]\n",
      "(399, 5)\n",
      "file_labels: voxelling_output/submission_files/test_vid_19_pred__final/0000138_labels.csv\n",
      "0.09573984146118164 : df_labels.to_csv(pickles_path+\"df_labels__frame_%d__%s__voxel_size_%d_(%d,%d,%d).p\"%(frame_idx, vid, voxel_size, n_frames_per_side, shift, n_frames_per_side))\n",
      "399\n",
      "0.003992557525634766 : save_frame_for_movie(df_frame_orig_subtracted, \"tmp_only_labeled/\", all_files, frame_idx)\n"
     ]
    },
    {
     "name": "stderr",
     "output_type": "stream",
     "text": [
      "\r",
      " 14%|█████████████████████▊                                                                                                                                       | 139/1000 [15:40<1:37:07,  6.77s/it]"
     ]
    },
    {
     "name": "stdout",
     "output_type": "stream",
     "text": [
      "=========================================================================\n",
      "frame_idx = 139\n",
      "=========================================================================\n",
      "0.0009953975677490234 : list_idx = get_list_idx_for_frame(frame_idx, n_frames_per_side, shift)\n",
      "4.955265522003174 : df_subtracted_frame = get_df_voxel_subtracted_frame(list_df_voxel_scene, frame_idx, n_frames_per_side, shift)\n",
      "1.3333485126495361 : df_frame_orig['voxel_id'] =  df_frame_orig.apply(lambda x: point_to_voxel(x, voxel_size), axis=1)\n",
      "0.0019943714141845703 : df_labels = df_frame_orig.voxel_id.isin(df_subtracted_frame.voxel_id)\n",
      "(3, 5)\n",
      "(20, 5)\n",
      "0.17825841903686523 : df_frame_orig_subtracted = df_frame_orig[df_labels]\n",
      "(391, 5)\n",
      "file_labels: voxelling_output/submission_files/test_vid_19_pred__final/0000139_labels.csv\n",
      "0.09576082229614258 : df_labels.to_csv(pickles_path+\"df_labels__frame_%d__%s__voxel_size_%d_(%d,%d,%d).p\"%(frame_idx, vid, voxel_size, n_frames_per_side, shift, n_frames_per_side))\n",
      "391\n",
      "0.002991199493408203 : save_frame_for_movie(df_frame_orig_subtracted, \"tmp_only_labeled/\", all_files, frame_idx)\n"
     ]
    },
    {
     "name": "stderr",
     "output_type": "stream",
     "text": [
      "\r",
      " 14%|█████████████████████▉                                                                                                                                       | 140/1000 [15:47<1:36:59,  6.77s/it]"
     ]
    },
    {
     "name": "stdout",
     "output_type": "stream",
     "text": [
      "=========================================================================\n",
      "frame_idx = 140\n",
      "=========================================================================\n",
      "0.0 : list_idx = get_list_idx_for_frame(frame_idx, n_frames_per_side, shift)\n",
      "4.947232007980347 : df_subtracted_frame = get_df_voxel_subtracted_frame(list_df_voxel_scene, frame_idx, n_frames_per_side, shift)\n",
      "1.342710256576538 : df_frame_orig['voxel_id'] =  df_frame_orig.apply(lambda x: point_to_voxel(x, voxel_size), axis=1)\n",
      "0.0010063648223876953 : df_labels = df_frame_orig.voxel_id.isin(df_subtracted_frame.voxel_id)\n",
      "(6, 5)\n",
      "(20, 5)\n",
      "0.18846940994262695 : df_frame_orig_subtracted = df_frame_orig[df_labels]\n",
      "(376, 5)\n",
      "file_labels: voxelling_output/submission_files/test_vid_19_pred__final/0000140_labels.csv\n",
      "0.09075427055358887 : df_labels.to_csv(pickles_path+\"df_labels__frame_%d__%s__voxel_size_%d_(%d,%d,%d).p\"%(frame_idx, vid, voxel_size, n_frames_per_side, shift, n_frames_per_side))\n",
      "376\n",
      "0.0029909610748291016 : save_frame_for_movie(df_frame_orig_subtracted, \"tmp_only_labeled/\", all_files, frame_idx)\n"
     ]
    },
    {
     "name": "stderr",
     "output_type": "stream",
     "text": [
      "\r",
      " 14%|██████████████████████▏                                                                                                                                      | 141/1000 [15:53<1:36:51,  6.77s/it]"
     ]
    },
    {
     "name": "stdout",
     "output_type": "stream",
     "text": [
      "=========================================================================\n",
      "frame_idx = 141\n",
      "=========================================================================\n",
      "0.0 : list_idx = get_list_idx_for_frame(frame_idx, n_frames_per_side, shift)\n",
      "4.989184856414795 : df_subtracted_frame = get_df_voxel_subtracted_frame(list_df_voxel_scene, frame_idx, n_frames_per_side, shift)\n",
      "1.3292279243469238 : df_frame_orig['voxel_id'] =  df_frame_orig.apply(lambda x: point_to_voxel(x, voxel_size), axis=1)\n",
      "0.0010094642639160156 : df_labels = df_frame_orig.voxel_id.isin(df_subtracted_frame.voxel_id)\n",
      "(4, 5)\n",
      "(22, 5)\n",
      "0.18206548690795898 : df_frame_orig_subtracted = df_frame_orig[df_labels]\n",
      "(358, 5)\n",
      "file_labels: voxelling_output/submission_files/test_vid_19_pred__final/0000141_labels.csv\n",
      "0.1011664867401123 : df_labels.to_csv(pickles_path+\"df_labels__frame_%d__%s__voxel_size_%d_(%d,%d,%d).p\"%(frame_idx, vid, voxel_size, n_frames_per_side, shift, n_frames_per_side))\n",
      "358\n",
      "0.0029985904693603516 : save_frame_for_movie(df_frame_orig_subtracted, \"tmp_only_labeled/\", all_files, frame_idx)\n"
     ]
    },
    {
     "name": "stderr",
     "output_type": "stream",
     "text": [
      "\r",
      " 14%|██████████████████████▎                                                                                                                                      | 142/1000 [16:00<1:36:44,  6.76s/it]"
     ]
    },
    {
     "name": "stdout",
     "output_type": "stream",
     "text": [
      "=========================================================================\n",
      "frame_idx = 142\n",
      "=========================================================================\n",
      "0.0 : list_idx = get_list_idx_for_frame(frame_idx, n_frames_per_side, shift)\n",
      "4.973087787628174 : df_subtracted_frame = get_df_voxel_subtracted_frame(list_df_voxel_scene, frame_idx, n_frames_per_side, shift)\n",
      "1.3333230018615723 : df_frame_orig['voxel_id'] =  df_frame_orig.apply(lambda x: point_to_voxel(x, voxel_size), axis=1)\n",
      "0.0009875297546386719 : df_labels = df_frame_orig.voxel_id.isin(df_subtracted_frame.voxel_id)\n",
      "(6, 5)\n",
      "(24, 5)\n",
      "0.18055033683776855 : df_frame_orig_subtracted = df_frame_orig[df_labels]\n",
      "(351, 5)\n",
      "file_labels: voxelling_output/submission_files/test_vid_19_pred__final/0000142_labels.csv\n",
      "0.09274792671203613 : df_labels.to_csv(pickles_path+\"df_labels__frame_%d__%s__voxel_size_%d_(%d,%d,%d).p\"%(frame_idx, vid, voxel_size, n_frames_per_side, shift, n_frames_per_side))\n",
      "351\n",
      "0.0029942989349365234 : save_frame_for_movie(df_frame_orig_subtracted, \"tmp_only_labeled/\", all_files, frame_idx)\n"
     ]
    },
    {
     "name": "stderr",
     "output_type": "stream",
     "text": [
      "\r",
      " 14%|██████████████████████▍                                                                                                                                      | 143/1000 [16:07<1:36:36,  6.76s/it]"
     ]
    },
    {
     "name": "stdout",
     "output_type": "stream",
     "text": [
      "=========================================================================\n",
      "frame_idx = 143\n",
      "=========================================================================\n",
      "0.0 : list_idx = get_list_idx_for_frame(frame_idx, n_frames_per_side, shift)\n",
      "5.038655996322632 : df_subtracted_frame = get_df_voxel_subtracted_frame(list_df_voxel_scene, frame_idx, n_frames_per_side, shift)\n",
      "1.3354270458221436 : df_frame_orig['voxel_id'] =  df_frame_orig.apply(lambda x: point_to_voxel(x, voxel_size), axis=1)\n",
      "0.001996755599975586 : df_labels = df_frame_orig.voxel_id.isin(df_subtracted_frame.voxel_id)\n",
      "(5, 5)\n",
      "(24, 5)\n",
      "0.17980265617370605 : df_frame_orig_subtracted = df_frame_orig[df_labels]\n",
      "(342, 5)\n",
      "file_labels: voxelling_output/submission_files/test_vid_19_pred__final/0000143_labels.csv\n",
      "0.09675002098083496 : df_labels.to_csv(pickles_path+\"df_labels__frame_%d__%s__voxel_size_%d_(%d,%d,%d).p\"%(frame_idx, vid, voxel_size, n_frames_per_side, shift, n_frames_per_side))\n",
      "342\n",
      "0.002993345260620117 : save_frame_for_movie(df_frame_orig_subtracted, \"tmp_only_labeled/\", all_files, frame_idx)\n"
     ]
    },
    {
     "name": "stderr",
     "output_type": "stream",
     "text": [
      "\r",
      " 14%|██████████████████████▌                                                                                                                                      | 144/1000 [16:13<1:36:29,  6.76s/it]"
     ]
    },
    {
     "name": "stdout",
     "output_type": "stream",
     "text": [
      "=========================================================================\n",
      "frame_idx = 144\n",
      "=========================================================================\n",
      "0.0 : list_idx = get_list_idx_for_frame(frame_idx, n_frames_per_side, shift)\n",
      "4.938366174697876 : df_subtracted_frame = get_df_voxel_subtracted_frame(list_df_voxel_scene, frame_idx, n_frames_per_side, shift)\n",
      "1.3502507209777832 : df_frame_orig['voxel_id'] =  df_frame_orig.apply(lambda x: point_to_voxel(x, voxel_size), axis=1)\n",
      "0.0019941329956054688 : df_labels = df_frame_orig.voxel_id.isin(df_subtracted_frame.voxel_id)\n",
      "(4, 5)\n",
      "(26, 5)\n",
      "0.18935084342956543 : df_frame_orig_subtracted = df_frame_orig[df_labels]\n",
      "(337, 5)\n",
      "file_labels: voxelling_output/submission_files/test_vid_19_pred__final/0000144_labels.csv\n",
      "0.09175658226013184 : df_labels.to_csv(pickles_path+\"df_labels__frame_%d__%s__voxel_size_%d_(%d,%d,%d).p\"%(frame_idx, vid, voxel_size, n_frames_per_side, shift, n_frames_per_side))\n",
      "337\n",
      "0.0020024776458740234 : save_frame_for_movie(df_frame_orig_subtracted, \"tmp_only_labeled/\", all_files, frame_idx)\n"
     ]
    },
    {
     "name": "stderr",
     "output_type": "stream",
     "text": [
      "\r",
      " 14%|██████████████████████▊                                                                                                                                      | 145/1000 [16:20<1:36:21,  6.76s/it]"
     ]
    },
    {
     "name": "stdout",
     "output_type": "stream",
     "text": [
      "=========================================================================\n",
      "frame_idx = 145\n",
      "=========================================================================\n",
      "0.0 : list_idx = get_list_idx_for_frame(frame_idx, n_frames_per_side, shift)\n",
      "4.942845344543457 : df_subtracted_frame = get_df_voxel_subtracted_frame(list_df_voxel_scene, frame_idx, n_frames_per_side, shift)\n",
      "1.3283026218414307 : df_frame_orig['voxel_id'] =  df_frame_orig.apply(lambda x: point_to_voxel(x, voxel_size), axis=1)\n",
      "0.0009818077087402344 : df_labels = df_frame_orig.voxel_id.isin(df_subtracted_frame.voxel_id)\n",
      "(3, 5)\n",
      "(26, 5)\n",
      "0.17905712127685547 : df_frame_orig_subtracted = df_frame_orig[df_labels]\n",
      "(330, 5)\n",
      "file_labels: voxelling_output/submission_files/test_vid_19_pred__final/0000145_labels.csv\n",
      "0.0967416763305664 : df_labels.to_csv(pickles_path+\"df_labels__frame_%d__%s__voxel_size_%d_(%d,%d,%d).p\"%(frame_idx, vid, voxel_size, n_frames_per_side, shift, n_frames_per_side))\n",
      "330\n",
      "0.002992391586303711 : save_frame_for_movie(df_frame_orig_subtracted, \"tmp_only_labeled/\", all_files, frame_idx)\n"
     ]
    },
    {
     "name": "stderr",
     "output_type": "stream",
     "text": [
      "\r",
      " 15%|██████████████████████▉                                                                                                                                      | 146/1000 [16:27<1:36:13,  6.76s/it]"
     ]
    },
    {
     "name": "stdout",
     "output_type": "stream",
     "text": [
      "=========================================================================\n",
      "frame_idx = 146\n",
      "=========================================================================\n",
      "0.0 : list_idx = get_list_idx_for_frame(frame_idx, n_frames_per_side, shift)\n",
      "5.024745941162109 : df_subtracted_frame = get_df_voxel_subtracted_frame(list_df_voxel_scene, frame_idx, n_frames_per_side, shift)\n",
      "1.3304507732391357 : df_frame_orig['voxel_id'] =  df_frame_orig.apply(lambda x: point_to_voxel(x, voxel_size), axis=1)\n",
      "0.000997304916381836 : df_labels = df_frame_orig.voxel_id.isin(df_subtracted_frame.voxel_id)\n",
      "(4, 5)\n",
      "(28, 5)\n",
      "0.1854841709136963 : df_frame_orig_subtracted = df_frame_orig[df_labels]\n",
      "(312, 5)\n",
      "file_labels: voxelling_output/submission_files/test_vid_19_pred__final/0000146_labels.csv\n",
      "0.09177780151367188 : df_labels.to_csv(pickles_path+\"df_labels__frame_%d__%s__voxel_size_%d_(%d,%d,%d).p\"%(frame_idx, vid, voxel_size, n_frames_per_side, shift, n_frames_per_side))\n",
      "312\n",
      "0.002992391586303711 : save_frame_for_movie(df_frame_orig_subtracted, \"tmp_only_labeled/\", all_files, frame_idx)\n"
     ]
    },
    {
     "name": "stderr",
     "output_type": "stream",
     "text": [
      "\r",
      " 15%|███████████████████████                                                                                                                                      | 147/1000 [16:33<1:36:06,  6.76s/it]"
     ]
    },
    {
     "name": "stdout",
     "output_type": "stream",
     "text": [
      "=========================================================================\n",
      "frame_idx = 147\n",
      "=========================================================================\n",
      "0.0 : list_idx = get_list_idx_for_frame(frame_idx, n_frames_per_side, shift)\n",
      "4.989973068237305 : df_subtracted_frame = get_df_voxel_subtracted_frame(list_df_voxel_scene, frame_idx, n_frames_per_side, shift)\n",
      "1.333451271057129 : df_frame_orig['voxel_id'] =  df_frame_orig.apply(lambda x: point_to_voxel(x, voxel_size), axis=1)\n",
      "0.0010001659393310547 : df_labels = df_frame_orig.voxel_id.isin(df_subtracted_frame.voxel_id)\n",
      "(8, 5)\n",
      "(30, 5)\n",
      "0.18454575538635254 : df_frame_orig_subtracted = df_frame_orig[df_labels]\n",
      "(301, 5)\n",
      "file_labels: voxelling_output/submission_files/test_vid_19_pred__final/0000147_labels.csv\n",
      "0.08986854553222656 : df_labels.to_csv(pickles_path+\"df_labels__frame_%d__%s__voxel_size_%d_(%d,%d,%d).p\"%(frame_idx, vid, voxel_size, n_frames_per_side, shift, n_frames_per_side))\n",
      "301\n",
      "0.003995656967163086 : save_frame_for_movie(df_frame_orig_subtracted, \"tmp_only_labeled/\", all_files, frame_idx)\n"
     ]
    },
    {
     "name": "stderr",
     "output_type": "stream",
     "text": [
      "\r",
      " 15%|███████████████████████▏                                                                                                                                     | 148/1000 [16:40<1:35:58,  6.76s/it]"
     ]
    },
    {
     "name": "stdout",
     "output_type": "stream",
     "text": [
      "=========================================================================\n",
      "frame_idx = 148\n",
      "=========================================================================\n",
      "0.000997304916381836 : list_idx = get_list_idx_for_frame(frame_idx, n_frames_per_side, shift)\n",
      "4.969751834869385 : df_subtracted_frame = get_df_voxel_subtracted_frame(list_df_voxel_scene, frame_idx, n_frames_per_side, shift)\n",
      "1.3541438579559326 : df_frame_orig['voxel_id'] =  df_frame_orig.apply(lambda x: point_to_voxel(x, voxel_size), axis=1)\n",
      "0.0009975433349609375 : df_labels = df_frame_orig.voxel_id.isin(df_subtracted_frame.voxel_id)\n",
      "(2, 5)\n",
      "(30, 5)\n",
      "0.18852663040161133 : df_frame_orig_subtracted = df_frame_orig[df_labels]\n",
      "(285, 5)\n",
      "file_labels: voxelling_output/submission_files/test_vid_19_pred__final/0000148_labels.csv\n",
      "0.0937490463256836 : df_labels.to_csv(pickles_path+\"df_labels__frame_%d__%s__voxel_size_%d_(%d,%d,%d).p\"%(frame_idx, vid, voxel_size, n_frames_per_side, shift, n_frames_per_side))\n",
      "285\n",
      "0.0019948482513427734 : save_frame_for_movie(df_frame_orig_subtracted, \"tmp_only_labeled/\", all_files, frame_idx)\n"
     ]
    },
    {
     "name": "stderr",
     "output_type": "stream",
     "text": [
      "\r",
      " 15%|███████████████████████▍                                                                                                                                     | 149/1000 [16:47<1:35:51,  6.76s/it]"
     ]
    },
    {
     "name": "stdout",
     "output_type": "stream",
     "text": [
      "=========================================================================\n",
      "frame_idx = 149\n",
      "=========================================================================\n",
      "0.0 : list_idx = get_list_idx_for_frame(frame_idx, n_frames_per_side, shift)\n",
      "5.015058755874634 : df_subtracted_frame = get_df_voxel_subtracted_frame(list_df_voxel_scene, frame_idx, n_frames_per_side, shift)\n",
      "1.3242108821868896 : df_frame_orig['voxel_id'] =  df_frame_orig.apply(lambda x: point_to_voxel(x, voxel_size), axis=1)\n",
      "0.001016378402709961 : df_labels = df_frame_orig.voxel_id.isin(df_subtracted_frame.voxel_id)\n",
      "(6, 5)\n",
      "(32, 5)\n",
      "0.18852639198303223 : df_frame_orig_subtracted = df_frame_orig[df_labels]\n",
      "(276, 5)\n",
      "file_labels: voxelling_output/submission_files/test_vid_19_pred__final/0000149_labels.csv\n",
      "0.09325456619262695 : df_labels.to_csv(pickles_path+\"df_labels__frame_%d__%s__voxel_size_%d_(%d,%d,%d).p\"%(frame_idx, vid, voxel_size, n_frames_per_side, shift, n_frames_per_side))\n",
      "276\n",
      "0.003985404968261719 : save_frame_for_movie(df_frame_orig_subtracted, \"tmp_only_labeled/\", all_files, frame_idx)\n"
     ]
    },
    {
     "name": "stderr",
     "output_type": "stream",
     "text": [
      "\r",
      " 15%|███████████████████████▌                                                                                                                                     | 150/1000 [16:53<1:35:44,  6.76s/it]"
     ]
    },
    {
     "name": "stdout",
     "output_type": "stream",
     "text": [
      "=========================================================================\n",
      "frame_idx = 150\n",
      "=========================================================================\n",
      "0.0 : list_idx = get_list_idx_for_frame(frame_idx, n_frames_per_side, shift)\n",
      "4.988269567489624 : df_subtracted_frame = get_df_voxel_subtracted_frame(list_df_voxel_scene, frame_idx, n_frames_per_side, shift)\n",
      "1.3596510887145996 : df_frame_orig['voxel_id'] =  df_frame_orig.apply(lambda x: point_to_voxel(x, voxel_size), axis=1)\n",
      "0.001996278762817383 : df_labels = df_frame_orig.voxel_id.isin(df_subtracted_frame.voxel_id)\n",
      "(7, 5)\n",
      "(34, 5)\n",
      "0.19797754287719727 : df_frame_orig_subtracted = df_frame_orig[df_labels]\n",
      "(254, 5)\n",
      "file_labels: voxelling_output/submission_files/test_vid_19_pred__final/0000150_labels.csv\n",
      "0.11121940612792969 : df_labels.to_csv(pickles_path+\"df_labels__frame_%d__%s__voxel_size_%d_(%d,%d,%d).p\"%(frame_idx, vid, voxel_size, n_frames_per_side, shift, n_frames_per_side))\n",
      "254\n",
      "0.002992391586303711 : save_frame_for_movie(df_frame_orig_subtracted, \"tmp_only_labeled/\", all_files, frame_idx)\n"
     ]
    },
    {
     "name": "stderr",
     "output_type": "stream",
     "text": [
      "\r",
      " 15%|███████████████████████▋                                                                                                                                     | 151/1000 [17:00<1:35:36,  6.76s/it]"
     ]
    },
    {
     "name": "stdout",
     "output_type": "stream",
     "text": [
      "=========================================================================\n",
      "frame_idx = 151\n",
      "=========================================================================\n",
      "0.001001596450805664 : list_idx = get_list_idx_for_frame(frame_idx, n_frames_per_side, shift)\n",
      "5.09470009803772 : df_subtracted_frame = get_df_voxel_subtracted_frame(list_df_voxel_scene, frame_idx, n_frames_per_side, shift)\n",
      "1.3194737434387207 : df_frame_orig['voxel_id'] =  df_frame_orig.apply(lambda x: point_to_voxel(x, voxel_size), axis=1)\n",
      "0.0009970664978027344 : df_labels = df_frame_orig.voxel_id.isin(df_subtracted_frame.voxel_id)\n",
      "(10, 5)\n",
      "(34, 5)\n",
      "0.1765275001525879 : df_frame_orig_subtracted = df_frame_orig[df_labels]\n",
      "(259, 5)\n",
      "file_labels: voxelling_output/submission_files/test_vid_19_pred__final/0000151_labels.csv\n",
      "0.09733366966247559 : df_labels.to_csv(pickles_path+\"df_labels__frame_%d__%s__voxel_size_%d_(%d,%d,%d).p\"%(frame_idx, vid, voxel_size, n_frames_per_side, shift, n_frames_per_side))\n",
      "259\n",
      "0.0029926300048828125 : save_frame_for_movie(df_frame_orig_subtracted, \"tmp_only_labeled/\", all_files, frame_idx)\n"
     ]
    },
    {
     "name": "stderr",
     "output_type": "stream",
     "text": [
      "\r",
      " 15%|███████████████████████▊                                                                                                                                     | 152/1000 [17:07<1:35:30,  6.76s/it]"
     ]
    },
    {
     "name": "stdout",
     "output_type": "stream",
     "text": [
      "=========================================================================\n",
      "frame_idx = 152\n",
      "=========================================================================\n",
      "0.0 : list_idx = get_list_idx_for_frame(frame_idx, n_frames_per_side, shift)\n",
      "5.1166417598724365 : df_subtracted_frame = get_df_voxel_subtracted_frame(list_df_voxel_scene, frame_idx, n_frames_per_side, shift)\n",
      "1.318171501159668 : df_frame_orig['voxel_id'] =  df_frame_orig.apply(lambda x: point_to_voxel(x, voxel_size), axis=1)\n",
      "0.0019991397857666016 : df_labels = df_frame_orig.voxel_id.isin(df_subtracted_frame.voxel_id)\n",
      "(5, 5)\n",
      "(34, 5)\n",
      "0.18266654014587402 : df_frame_orig_subtracted = df_frame_orig[df_labels]\n",
      "(268, 5)\n",
      "file_labels: voxelling_output/submission_files/test_vid_19_pred__final/0000152_labels.csv\n",
      "0.09076356887817383 : df_labels.to_csv(pickles_path+\"df_labels__frame_%d__%s__voxel_size_%d_(%d,%d,%d).p\"%(frame_idx, vid, voxel_size, n_frames_per_side, shift, n_frames_per_side))\n",
      "268\n",
      "0.004988193511962891 : save_frame_for_movie(df_frame_orig_subtracted, \"tmp_only_labeled/\", all_files, frame_idx)\n"
     ]
    },
    {
     "name": "stderr",
     "output_type": "stream",
     "text": [
      "\r",
      " 15%|████████████████████████                                                                                                                                     | 153/1000 [17:13<1:35:23,  6.76s/it]"
     ]
    },
    {
     "name": "stdout",
     "output_type": "stream",
     "text": [
      "=========================================================================\n",
      "frame_idx = 153\n",
      "=========================================================================\n",
      "0.0 : list_idx = get_list_idx_for_frame(frame_idx, n_frames_per_side, shift)\n",
      "5.215557336807251 : df_subtracted_frame = get_df_voxel_subtracted_frame(list_df_voxel_scene, frame_idx, n_frames_per_side, shift)\n",
      "1.3153367042541504 : df_frame_orig['voxel_id'] =  df_frame_orig.apply(lambda x: point_to_voxel(x, voxel_size), axis=1)\n",
      "0.0019659996032714844 : df_labels = df_frame_orig.voxel_id.isin(df_subtracted_frame.voxel_id)\n",
      "(2, 5)\n",
      "(34, 5)\n",
      "0.19202709197998047 : df_frame_orig_subtracted = df_frame_orig[df_labels]\n",
      "(262, 5)\n",
      "file_labels: voxelling_output/submission_files/test_vid_19_pred__final/0000153_labels.csv\n",
      "0.09325766563415527 : df_labels.to_csv(pickles_path+\"df_labels__frame_%d__%s__voxel_size_%d_(%d,%d,%d).p\"%(frame_idx, vid, voxel_size, n_frames_per_side, shift, n_frames_per_side))\n",
      "262\n",
      "0.002992391586303711 : save_frame_for_movie(df_frame_orig_subtracted, \"tmp_only_labeled/\", all_files, frame_idx)\n"
     ]
    },
    {
     "name": "stderr",
     "output_type": "stream",
     "text": [
      "\r",
      " 15%|████████████████████████▏                                                                                                                                    | 154/1000 [17:20<1:35:16,  6.76s/it]"
     ]
    },
    {
     "name": "stdout",
     "output_type": "stream",
     "text": [
      "=========================================================================\n",
      "frame_idx = 154\n",
      "=========================================================================\n",
      "0.0 : list_idx = get_list_idx_for_frame(frame_idx, n_frames_per_side, shift)\n",
      "5.300008773803711 : df_subtracted_frame = get_df_voxel_subtracted_frame(list_df_voxel_scene, frame_idx, n_frames_per_side, shift)\n",
      "1.3134865760803223 : df_frame_orig['voxel_id'] =  df_frame_orig.apply(lambda x: point_to_voxel(x, voxel_size), axis=1)\n",
      "0.0009982585906982422 : df_labels = df_frame_orig.voxel_id.isin(df_subtracted_frame.voxel_id)\n",
      "(9, 5)\n",
      "(34, 5)\n",
      "0.18450665473937988 : df_frame_orig_subtracted = df_frame_orig[df_labels]\n",
      "(264, 5)\n",
      "file_labels: voxelling_output/submission_files/test_vid_19_pred__final/0000154_labels.csv\n",
      "0.09924149513244629 : df_labels.to_csv(pickles_path+\"df_labels__frame_%d__%s__voxel_size_%d_(%d,%d,%d).p\"%(frame_idx, vid, voxel_size, n_frames_per_side, shift, n_frames_per_side))\n",
      "264\n",
      "0.004006147384643555 : save_frame_for_movie(df_frame_orig_subtracted, \"tmp_only_labeled/\", all_files, frame_idx)\n"
     ]
    },
    {
     "name": "stderr",
     "output_type": "stream",
     "text": [
      "\r",
      " 16%|████████████████████████▎                                                                                                                                    | 155/1000 [17:27<1:35:11,  6.76s/it]"
     ]
    },
    {
     "name": "stdout",
     "output_type": "stream",
     "text": [
      "=========================================================================\n",
      "frame_idx = 155\n",
      "=========================================================================\n",
      "0.0 : list_idx = get_list_idx_for_frame(frame_idx, n_frames_per_side, shift)\n",
      "5.306797504425049 : df_subtracted_frame = get_df_voxel_subtracted_frame(list_df_voxel_scene, frame_idx, n_frames_per_side, shift)\n",
      "1.3294920921325684 : df_frame_orig['voxel_id'] =  df_frame_orig.apply(lambda x: point_to_voxel(x, voxel_size), axis=1)\n",
      "0.0019948482513427734 : df_labels = df_frame_orig.voxel_id.isin(df_subtracted_frame.voxel_id)\n",
      "(2, 5)\n",
      "(34, 5)\n",
      "0.177520751953125 : df_frame_orig_subtracted = df_frame_orig[df_labels]\n",
      "(282, 5)\n",
      "file_labels: voxelling_output/submission_files/test_vid_19_pred__final/0000155_labels.csv\n",
      "0.09428811073303223 : df_labels.to_csv(pickles_path+\"df_labels__frame_%d__%s__voxel_size_%d_(%d,%d,%d).p\"%(frame_idx, vid, voxel_size, n_frames_per_side, shift, n_frames_per_side))\n",
      "282\n",
      "0.003973960876464844 : save_frame_for_movie(df_frame_orig_subtracted, \"tmp_only_labeled/\", all_files, frame_idx)\n"
     ]
    },
    {
     "name": "stderr",
     "output_type": "stream",
     "text": [
      "\r",
      " 16%|████████████████████████▍                                                                                                                                    | 156/1000 [17:34<1:35:05,  6.76s/it]"
     ]
    },
    {
     "name": "stdout",
     "output_type": "stream",
     "text": [
      "=========================================================================\n",
      "frame_idx = 156\n",
      "=========================================================================\n",
      "0.0 : list_idx = get_list_idx_for_frame(frame_idx, n_frames_per_side, shift)\n",
      "5.401219129562378 : df_subtracted_frame = get_df_voxel_subtracted_frame(list_df_voxel_scene, frame_idx, n_frames_per_side, shift)\n",
      "1.3516554832458496 : df_frame_orig['voxel_id'] =  df_frame_orig.apply(lambda x: point_to_voxel(x, voxel_size), axis=1)\n",
      "0.000997781753540039 : df_labels = df_frame_orig.voxel_id.isin(df_subtracted_frame.voxel_id)\n",
      "(8, 5)\n",
      "(34, 5)\n",
      "0.18173885345458984 : df_frame_orig_subtracted = df_frame_orig[df_labels]\n",
      "(271, 5)\n",
      "file_labels: voxelling_output/submission_files/test_vid_19_pred__final/0000156_labels.csv\n",
      "0.09877324104309082 : df_labels.to_csv(pickles_path+\"df_labels__frame_%d__%s__voxel_size_%d_(%d,%d,%d).p\"%(frame_idx, vid, voxel_size, n_frames_per_side, shift, n_frames_per_side))\n",
      "271\n",
      "0.0029947757720947266 : save_frame_for_movie(df_frame_orig_subtracted, \"tmp_only_labeled/\", all_files, frame_idx)\n"
     ]
    },
    {
     "name": "stderr",
     "output_type": "stream",
     "text": [
      "\r",
      " 16%|████████████████████████▋                                                                                                                                    | 157/1000 [17:41<1:35:00,  6.76s/it]"
     ]
    },
    {
     "name": "stdout",
     "output_type": "stream",
     "text": [
      "=========================================================================\n",
      "frame_idx = 157\n",
      "=========================================================================\n",
      "0.0010025501251220703 : list_idx = get_list_idx_for_frame(frame_idx, n_frames_per_side, shift)\n",
      "5.417388439178467 : df_subtracted_frame = get_df_voxel_subtracted_frame(list_df_voxel_scene, frame_idx, n_frames_per_side, shift)\n",
      "1.320481538772583 : df_frame_orig['voxel_id'] =  df_frame_orig.apply(lambda x: point_to_voxel(x, voxel_size), axis=1)\n",
      "0.0009942054748535156 : df_labels = df_frame_orig.voxel_id.isin(df_subtracted_frame.voxel_id)\n",
      "(4, 5)\n",
      "(34, 5)\n",
      "0.18550729751586914 : df_frame_orig_subtracted = df_frame_orig[df_labels]\n",
      "(268, 5)\n",
      "file_labels: voxelling_output/submission_files/test_vid_19_pred__final/0000157_labels.csv\n",
      "0.09928107261657715 : df_labels.to_csv(pickles_path+\"df_labels__frame_%d__%s__voxel_size_%d_(%d,%d,%d).p\"%(frame_idx, vid, voxel_size, n_frames_per_side, shift, n_frames_per_side))\n",
      "268\n",
      "0.004001140594482422 : save_frame_for_movie(df_frame_orig_subtracted, \"tmp_only_labeled/\", all_files, frame_idx)\n"
     ]
    },
    {
     "name": "stderr",
     "output_type": "stream",
     "text": [
      "\r",
      " 16%|████████████████████████▊                                                                                                                                    | 158/1000 [17:48<1:34:55,  6.76s/it]"
     ]
    },
    {
     "name": "stdout",
     "output_type": "stream",
     "text": [
      "=========================================================================\n",
      "frame_idx = 158\n",
      "=========================================================================\n",
      "0.000997781753540039 : list_idx = get_list_idx_for_frame(frame_idx, n_frames_per_side, shift)\n",
      "5.347275257110596 : df_subtracted_frame = get_df_voxel_subtracted_frame(list_df_voxel_scene, frame_idx, n_frames_per_side, shift)\n",
      "1.313523769378662 : df_frame_orig['voxel_id'] =  df_frame_orig.apply(lambda x: point_to_voxel(x, voxel_size), axis=1)\n",
      "0.001994609832763672 : df_labels = df_frame_orig.voxel_id.isin(df_subtracted_frame.voxel_id)\n",
      "(3, 5)\n",
      "(34, 5)\n",
      "0.17104268074035645 : df_frame_orig_subtracted = df_frame_orig[df_labels]\n",
      "(268, 5)\n",
      "file_labels: voxelling_output/submission_files/test_vid_19_pred__final/0000158_labels.csv\n",
      "0.09318256378173828 : df_labels.to_csv(pickles_path+\"df_labels__frame_%d__%s__voxel_size_%d_(%d,%d,%d).p\"%(frame_idx, vid, voxel_size, n_frames_per_side, shift, n_frames_per_side))\n",
      "268\n",
      "0.002994537353515625 : save_frame_for_movie(df_frame_orig_subtracted, \"tmp_only_labeled/\", all_files, frame_idx)\n"
     ]
    },
    {
     "name": "stderr",
     "output_type": "stream",
     "text": [
      "\r",
      " 16%|████████████████████████▉                                                                                                                                    | 159/1000 [17:55<1:34:49,  6.76s/it]"
     ]
    },
    {
     "name": "stdout",
     "output_type": "stream",
     "text": [
      "=========================================================================\n",
      "frame_idx = 159\n",
      "=========================================================================\n",
      "0.0 : list_idx = get_list_idx_for_frame(frame_idx, n_frames_per_side, shift)\n",
      "5.378891706466675 : df_subtracted_frame = get_df_voxel_subtracted_frame(list_df_voxel_scene, frame_idx, n_frames_per_side, shift)\n",
      "1.3020398616790771 : df_frame_orig['voxel_id'] =  df_frame_orig.apply(lambda x: point_to_voxel(x, voxel_size), axis=1)\n",
      "0.0019931793212890625 : df_labels = df_frame_orig.voxel_id.isin(df_subtracted_frame.voxel_id)\n",
      "(4, 5)\n",
      "(34, 5)\n",
      "0.17911171913146973 : df_frame_orig_subtracted = df_frame_orig[df_labels]\n",
      "(266, 5)\n",
      "file_labels: voxelling_output/submission_files/test_vid_19_pred__final/0000159_labels.csv\n",
      "0.09677290916442871 : df_labels.to_csv(pickles_path+\"df_labels__frame_%d__%s__voxel_size_%d_(%d,%d,%d).p\"%(frame_idx, vid, voxel_size, n_frames_per_side, shift, n_frames_per_side))\n",
      "266\n",
      "0.001956462860107422 : save_frame_for_movie(df_frame_orig_subtracted, \"tmp_only_labeled/\", all_files, frame_idx)\n"
     ]
    },
    {
     "name": "stderr",
     "output_type": "stream",
     "text": [
      "\r",
      " 16%|█████████████████████████                                                                                                                                    | 160/1000 [18:02<1:34:43,  6.77s/it]"
     ]
    },
    {
     "name": "stdout",
     "output_type": "stream",
     "text": [
      "=========================================================================\n",
      "frame_idx = 160\n",
      "=========================================================================\n",
      "0.0009963512420654297 : list_idx = get_list_idx_for_frame(frame_idx, n_frames_per_side, shift)\n",
      "5.398516893386841 : df_subtracted_frame = get_df_voxel_subtracted_frame(list_df_voxel_scene, frame_idx, n_frames_per_side, shift)\n",
      "1.2924950122833252 : df_frame_orig['voxel_id'] =  df_frame_orig.apply(lambda x: point_to_voxel(x, voxel_size), axis=1)\n",
      "0.0020003318786621094 : df_labels = df_frame_orig.voxel_id.isin(df_subtracted_frame.voxel_id)\n",
      "(4, 5)\n",
      "(34, 5)\n",
      "0.17679882049560547 : df_frame_orig_subtracted = df_frame_orig[df_labels]\n",
      "(276, 5)\n",
      "file_labels: voxelling_output/submission_files/test_vid_19_pred__final/0000160_labels.csv\n",
      "0.08426046371459961 : df_labels.to_csv(pickles_path+\"df_labels__frame_%d__%s__voxel_size_%d_(%d,%d,%d).p\"%(frame_idx, vid, voxel_size, n_frames_per_side, shift, n_frames_per_side))\n",
      "276\n",
      "0.0019979476928710938 : save_frame_for_movie(df_frame_orig_subtracted, \"tmp_only_labeled/\", all_files, frame_idx)\n"
     ]
    },
    {
     "name": "stderr",
     "output_type": "stream",
     "text": [
      "\r",
      " 16%|█████████████████████████▎                                                                                                                                   | 161/1000 [18:09<1:34:38,  6.77s/it]"
     ]
    },
    {
     "name": "stdout",
     "output_type": "stream",
     "text": [
      "=========================================================================\n",
      "frame_idx = 161\n",
      "=========================================================================\n",
      "0.000997781753540039 : list_idx = get_list_idx_for_frame(frame_idx, n_frames_per_side, shift)\n",
      "5.549254417419434 : df_subtracted_frame = get_df_voxel_subtracted_frame(list_df_voxel_scene, frame_idx, n_frames_per_side, shift)\n",
      "1.292159080505371 : df_frame_orig['voxel_id'] =  df_frame_orig.apply(lambda x: point_to_voxel(x, voxel_size), axis=1)\n",
      "0.0019834041595458984 : df_labels = df_frame_orig.voxel_id.isin(df_subtracted_frame.voxel_id)\n",
      "(6, 5)\n",
      "(34, 5)\n",
      "0.174546480178833 : df_frame_orig_subtracted = df_frame_orig[df_labels]\n",
      "(268, 5)\n",
      "file_labels: voxelling_output/submission_files/test_vid_19_pred__final/0000161_labels.csv\n",
      "0.09132838249206543 : df_labels.to_csv(pickles_path+\"df_labels__frame_%d__%s__voxel_size_%d_(%d,%d,%d).p\"%(frame_idx, vid, voxel_size, n_frames_per_side, shift, n_frames_per_side))\n",
      "268\n",
      "0.002993345260620117 : save_frame_for_movie(df_frame_orig_subtracted, \"tmp_only_labeled/\", all_files, frame_idx)\n"
     ]
    },
    {
     "name": "stderr",
     "output_type": "stream",
     "text": [
      "\r",
      " 16%|█████████████████████████▍                                                                                                                                   | 162/1000 [18:16<1:34:33,  6.77s/it]"
     ]
    },
    {
     "name": "stdout",
     "output_type": "stream",
     "text": [
      "=========================================================================\n",
      "frame_idx = 162\n",
      "=========================================================================\n",
      "0.0 : list_idx = get_list_idx_for_frame(frame_idx, n_frames_per_side, shift)\n",
      "5.560988187789917 : df_subtracted_frame = get_df_voxel_subtracted_frame(list_df_voxel_scene, frame_idx, n_frames_per_side, shift)\n",
      "1.2752985954284668 : df_frame_orig['voxel_id'] =  df_frame_orig.apply(lambda x: point_to_voxel(x, voxel_size), axis=1)\n",
      "0.002009868621826172 : df_labels = df_frame_orig.voxel_id.isin(df_subtracted_frame.voxel_id)\n",
      "(7, 5)\n",
      "(34, 5)\n",
      "0.17657709121704102 : df_frame_orig_subtracted = df_frame_orig[df_labels]\n",
      "(272, 5)\n",
      "file_labels: voxelling_output/submission_files/test_vid_19_pred__final/0000162_labels.csv\n",
      "0.09126996994018555 : df_labels.to_csv(pickles_path+\"df_labels__frame_%d__%s__voxel_size_%d_(%d,%d,%d).p\"%(frame_idx, vid, voxel_size, n_frames_per_side, shift, n_frames_per_side))\n",
      "272\n",
      "0.0019788742065429688 : save_frame_for_movie(df_frame_orig_subtracted, \"tmp_only_labeled/\", all_files, frame_idx)\n"
     ]
    },
    {
     "name": "stderr",
     "output_type": "stream",
     "text": [
      "\r",
      " 16%|█████████████████████████▌                                                                                                                                   | 163/1000 [18:23<1:34:28,  6.77s/it]"
     ]
    },
    {
     "name": "stdout",
     "output_type": "stream",
     "text": [
      "=========================================================================\n",
      "frame_idx = 163\n",
      "=========================================================================\n",
      "0.0 : list_idx = get_list_idx_for_frame(frame_idx, n_frames_per_side, shift)\n",
      "5.590349435806274 : df_subtracted_frame = get_df_voxel_subtracted_frame(list_df_voxel_scene, frame_idx, n_frames_per_side, shift)\n",
      "1.3041791915893555 : df_frame_orig['voxel_id'] =  df_frame_orig.apply(lambda x: point_to_voxel(x, voxel_size), axis=1)\n",
      "0.0009968280792236328 : df_labels = df_frame_orig.voxel_id.isin(df_subtracted_frame.voxel_id)\n",
      "(7, 5)\n",
      "(34, 5)\n",
      "0.18154048919677734 : df_frame_orig_subtracted = df_frame_orig[df_labels]\n",
      "(266, 5)\n",
      "file_labels: voxelling_output/submission_files/test_vid_19_pred__final/0000163_labels.csv\n",
      "0.09467029571533203 : df_labels.to_csv(pickles_path+\"df_labels__frame_%d__%s__voxel_size_%d_(%d,%d,%d).p\"%(frame_idx, vid, voxel_size, n_frames_per_side, shift, n_frames_per_side))\n",
      "266\n",
      "0.0029942989349365234 : save_frame_for_movie(df_frame_orig_subtracted, \"tmp_only_labeled/\", all_files, frame_idx)\n"
     ]
    },
    {
     "name": "stderr",
     "output_type": "stream",
     "text": [
      "\r",
      " 16%|█████████████████████████▋                                                                                                                                   | 164/1000 [18:31<1:34:23,  6.77s/it]"
     ]
    },
    {
     "name": "stdout",
     "output_type": "stream",
     "text": [
      "=========================================================================\n",
      "frame_idx = 164\n",
      "=========================================================================\n",
      "0.0 : list_idx = get_list_idx_for_frame(frame_idx, n_frames_per_side, shift)\n",
      "5.6542463302612305 : df_subtracted_frame = get_df_voxel_subtracted_frame(list_df_voxel_scene, frame_idx, n_frames_per_side, shift)\n",
      "1.294386625289917 : df_frame_orig['voxel_id'] =  df_frame_orig.apply(lambda x: point_to_voxel(x, voxel_size), axis=1)\n",
      "0.000997304916381836 : df_labels = df_frame_orig.voxel_id.isin(df_subtracted_frame.voxel_id)\n",
      "(6, 5)\n",
      "(34, 5)\n",
      "0.17774748802185059 : df_frame_orig_subtracted = df_frame_orig[df_labels]\n",
      "(277, 5)\n",
      "file_labels: voxelling_output/submission_files/test_vid_19_pred__final/0000164_labels.csv\n",
      "0.08827829360961914 : df_labels.to_csv(pickles_path+\"df_labels__frame_%d__%s__voxel_size_%d_(%d,%d,%d).p\"%(frame_idx, vid, voxel_size, n_frames_per_side, shift, n_frames_per_side))\n",
      "277\n",
      "0.003990650177001953 : save_frame_for_movie(df_frame_orig_subtracted, \"tmp_only_labeled/\", all_files, frame_idx)\n"
     ]
    },
    {
     "name": "stderr",
     "output_type": "stream",
     "text": [
      "\r",
      " 16%|█████████████████████████▉                                                                                                                                   | 165/1000 [18:38<1:34:19,  6.78s/it]"
     ]
    },
    {
     "name": "stdout",
     "output_type": "stream",
     "text": [
      "=========================================================================\n",
      "frame_idx = 165\n",
      "=========================================================================\n",
      "0.0 : list_idx = get_list_idx_for_frame(frame_idx, n_frames_per_side, shift)\n",
      "5.706737279891968 : df_subtracted_frame = get_df_voxel_subtracted_frame(list_df_voxel_scene, frame_idx, n_frames_per_side, shift)\n",
      "1.2805557250976562 : df_frame_orig['voxel_id'] =  df_frame_orig.apply(lambda x: point_to_voxel(x, voxel_size), axis=1)\n",
      "0.000997781753540039 : df_labels = df_frame_orig.voxel_id.isin(df_subtracted_frame.voxel_id)\n",
      "(7, 5)\n",
      "(34, 5)\n",
      "0.17604875564575195 : df_frame_orig_subtracted = df_frame_orig[df_labels]\n",
      "(262, 5)\n",
      "file_labels: voxelling_output/submission_files/test_vid_19_pred__final/0000165_labels.csv\n",
      "0.0903172492980957 : df_labels.to_csv(pickles_path+\"df_labels__frame_%d__%s__voxel_size_%d_(%d,%d,%d).p\"%(frame_idx, vid, voxel_size, n_frames_per_side, shift, n_frames_per_side))\n",
      "262\n",
      "0.004012107849121094 : save_frame_for_movie(df_frame_orig_subtracted, \"tmp_only_labeled/\", all_files, frame_idx)\n"
     ]
    },
    {
     "name": "stderr",
     "output_type": "stream",
     "text": [
      "\r",
      " 17%|██████████████████████████                                                                                                                                   | 166/1000 [18:45<1:34:15,  6.78s/it]"
     ]
    },
    {
     "name": "stdout",
     "output_type": "stream",
     "text": [
      "=========================================================================\n",
      "frame_idx = 166\n",
      "=========================================================================\n",
      "0.0 : list_idx = get_list_idx_for_frame(frame_idx, n_frames_per_side, shift)\n",
      "5.753377914428711 : df_subtracted_frame = get_df_voxel_subtracted_frame(list_df_voxel_scene, frame_idx, n_frames_per_side, shift)\n",
      "1.2813317775726318 : df_frame_orig['voxel_id'] =  df_frame_orig.apply(lambda x: point_to_voxel(x, voxel_size), axis=1)\n",
      "0.0009975433349609375 : df_labels = df_frame_orig.voxel_id.isin(df_subtracted_frame.voxel_id)\n",
      "(7, 5)\n",
      "(34, 5)\n",
      "0.1737964153289795 : df_frame_orig_subtracted = df_frame_orig[df_labels]\n",
      "(266, 5)\n",
      "file_labels: voxelling_output/submission_files/test_vid_19_pred__final/0000166_labels.csv\n",
      "0.09177041053771973 : df_labels.to_csv(pickles_path+\"df_labels__frame_%d__%s__voxel_size_%d_(%d,%d,%d).p\"%(frame_idx, vid, voxel_size, n_frames_per_side, shift, n_frames_per_side))\n",
      "266\n",
      "0.0019936561584472656 : save_frame_for_movie(df_frame_orig_subtracted, \"tmp_only_labeled/\", all_files, frame_idx)\n"
     ]
    },
    {
     "name": "stderr",
     "output_type": "stream",
     "text": [
      "\r",
      " 17%|██████████████████████████▏                                                                                                                                  | 167/1000 [18:52<1:34:10,  6.78s/it]"
     ]
    },
    {
     "name": "stdout",
     "output_type": "stream",
     "text": [
      "=========================================================================\n",
      "frame_idx = 167\n",
      "=========================================================================\n",
      "0.0 : list_idx = get_list_idx_for_frame(frame_idx, n_frames_per_side, shift)\n",
      "5.846115589141846 : df_subtracted_frame = get_df_voxel_subtracted_frame(list_df_voxel_scene, frame_idx, n_frames_per_side, shift)\n",
      "1.2946486473083496 : df_frame_orig['voxel_id'] =  df_frame_orig.apply(lambda x: point_to_voxel(x, voxel_size), axis=1)\n",
      "0.002007007598876953 : df_labels = df_frame_orig.voxel_id.isin(df_subtracted_frame.voxel_id)\n",
      "(2, 5)\n",
      "(34, 5)\n",
      "0.17600154876708984 : df_frame_orig_subtracted = df_frame_orig[df_labels]\n",
      "(265, 5)\n",
      "file_labels: voxelling_output/submission_files/test_vid_19_pred__final/0000167_labels.csv\n",
      "0.0887596607208252 : df_labels.to_csv(pickles_path+\"df_labels__frame_%d__%s__voxel_size_%d_(%d,%d,%d).p\"%(frame_idx, vid, voxel_size, n_frames_per_side, shift, n_frames_per_side))\n",
      "265\n",
      "0.0029752254486083984 : save_frame_for_movie(df_frame_orig_subtracted, \"tmp_only_labeled/\", all_files, frame_idx)\n"
     ]
    },
    {
     "name": "stderr",
     "output_type": "stream",
     "text": [
      "\r",
      " 17%|██████████████████████████▍                                                                                                                                  | 168/1000 [19:00<1:34:07,  6.79s/it]"
     ]
    },
    {
     "name": "stdout",
     "output_type": "stream",
     "text": [
      "=========================================================================\n",
      "frame_idx = 168\n",
      "=========================================================================\n",
      "0.0 : list_idx = get_list_idx_for_frame(frame_idx, n_frames_per_side, shift)\n",
      "5.820821523666382 : df_subtracted_frame = get_df_voxel_subtracted_frame(list_df_voxel_scene, frame_idx, n_frames_per_side, shift)\n",
      "1.2932536602020264 : df_frame_orig['voxel_id'] =  df_frame_orig.apply(lambda x: point_to_voxel(x, voxel_size), axis=1)\n",
      "0.0010094642639160156 : df_labels = df_frame_orig.voxel_id.isin(df_subtracted_frame.voxel_id)\n",
      "(4, 5)\n",
      "(34, 5)\n",
      "0.17356634140014648 : df_frame_orig_subtracted = df_frame_orig[df_labels]\n",
      "(272, 5)\n",
      "file_labels: voxelling_output/submission_files/test_vid_19_pred__final/0000168_labels.csv\n",
      "0.08879852294921875 : df_labels.to_csv(pickles_path+\"df_labels__frame_%d__%s__voxel_size_%d_(%d,%d,%d).p\"%(frame_idx, vid, voxel_size, n_frames_per_side, shift, n_frames_per_side))\n",
      "272\n",
      "0.002973794937133789 : save_frame_for_movie(df_frame_orig_subtracted, \"tmp_only_labeled/\", all_files, frame_idx)\n"
     ]
    },
    {
     "name": "stderr",
     "output_type": "stream",
     "text": [
      "\r",
      " 17%|██████████████████████████▌                                                                                                                                  | 169/1000 [19:07<1:34:03,  6.79s/it]"
     ]
    },
    {
     "name": "stdout",
     "output_type": "stream",
     "text": [
      "=========================================================================\n",
      "frame_idx = 169\n",
      "=========================================================================\n",
      "0.0010137557983398438 : list_idx = get_list_idx_for_frame(frame_idx, n_frames_per_side, shift)\n",
      "5.94478440284729 : df_subtracted_frame = get_df_voxel_subtracted_frame(list_df_voxel_scene, frame_idx, n_frames_per_side, shift)\n",
      "1.2998385429382324 : df_frame_orig['voxel_id'] =  df_frame_orig.apply(lambda x: point_to_voxel(x, voxel_size), axis=1)\n",
      "0.0009963512420654297 : df_labels = df_frame_orig.voxel_id.isin(df_subtracted_frame.voxel_id)\n",
      "(8, 5)\n",
      "(34, 5)\n",
      "0.1774287223815918 : df_frame_orig_subtracted = df_frame_orig[df_labels]\n",
      "(266, 5)\n",
      "file_labels: voxelling_output/submission_files/test_vid_19_pred__final/0000169_labels.csv\n",
      "0.08377575874328613 : df_labels.to_csv(pickles_path+\"df_labels__frame_%d__%s__voxel_size_%d_(%d,%d,%d).p\"%(frame_idx, vid, voxel_size, n_frames_per_side, shift, n_frames_per_side))\n",
      "266\n",
      "0.003000020980834961 : save_frame_for_movie(df_frame_orig_subtracted, \"tmp_only_labeled/\", all_files, frame_idx)\n"
     ]
    },
    {
     "name": "stderr",
     "output_type": "stream",
     "text": [
      "\r",
      " 17%|██████████████████████████▋                                                                                                                                  | 170/1000 [19:15<1:34:00,  6.80s/it]"
     ]
    },
    {
     "name": "stdout",
     "output_type": "stream",
     "text": [
      "=========================================================================\n",
      "frame_idx = 170\n",
      "=========================================================================\n",
      "0.000980377197265625 : list_idx = get_list_idx_for_frame(frame_idx, n_frames_per_side, shift)\n",
      "5.935925245285034 : df_subtracted_frame = get_df_voxel_subtracted_frame(list_df_voxel_scene, frame_idx, n_frames_per_side, shift)\n",
      "1.271925687789917 : df_frame_orig['voxel_id'] =  df_frame_orig.apply(lambda x: point_to_voxel(x, voxel_size), axis=1)\n",
      "0.0009970664978027344 : df_labels = df_frame_orig.voxel_id.isin(df_subtracted_frame.voxel_id)\n",
      "(2, 5)\n",
      "(34, 5)\n",
      "0.17496705055236816 : df_frame_orig_subtracted = df_frame_orig[df_labels]\n",
      "(261, 5)\n",
      "file_labels: voxelling_output/submission_files/test_vid_19_pred__final/0000170_labels.csv\n",
      "0.08925199508666992 : df_labels.to_csv(pickles_path+\"df_labels__frame_%d__%s__voxel_size_%d_(%d,%d,%d).p\"%(frame_idx, vid, voxel_size, n_frames_per_side, shift, n_frames_per_side))\n",
      "261\n",
      "0.0019927024841308594 : save_frame_for_movie(df_frame_orig_subtracted, \"tmp_only_labeled/\", all_files, frame_idx)\n"
     ]
    },
    {
     "name": "stderr",
     "output_type": "stream",
     "text": [
      "\r",
      " 17%|██████████████████████████▊                                                                                                                                  | 171/1000 [19:22<1:33:57,  6.80s/it]"
     ]
    },
    {
     "name": "stdout",
     "output_type": "stream",
     "text": [
      "=========================================================================\n",
      "frame_idx = 171\n",
      "=========================================================================\n",
      "0.0 : list_idx = get_list_idx_for_frame(frame_idx, n_frames_per_side, shift)\n",
      "6.015867233276367 : df_subtracted_frame = get_df_voxel_subtracted_frame(list_df_voxel_scene, frame_idx, n_frames_per_side, shift)\n",
      "1.2741212844848633 : df_frame_orig['voxel_id'] =  df_frame_orig.apply(lambda x: point_to_voxel(x, voxel_size), axis=1)\n",
      "0.0009958744049072266 : df_labels = df_frame_orig.voxel_id.isin(df_subtracted_frame.voxel_id)\n",
      "(3, 5)\n",
      "(34, 5)\n",
      "0.1730489730834961 : df_frame_orig_subtracted = df_frame_orig[df_labels]\n",
      "(266, 5)\n",
      "file_labels: voxelling_output/submission_files/test_vid_19_pred__final/0000171_labels.csv\n",
      "0.08782339096069336 : df_labels.to_csv(pickles_path+\"df_labels__frame_%d__%s__voxel_size_%d_(%d,%d,%d).p\"%(frame_idx, vid, voxel_size, n_frames_per_side, shift, n_frames_per_side))\n",
      "266\n",
      "0.0019724369049072266 : save_frame_for_movie(df_frame_orig_subtracted, \"tmp_only_labeled/\", all_files, frame_idx)\n"
     ]
    },
    {
     "name": "stderr",
     "output_type": "stream",
     "text": [
      "\r",
      " 17%|███████████████████████████                                                                                                                                  | 172/1000 [19:30<1:33:54,  6.80s/it]"
     ]
    },
    {
     "name": "stdout",
     "output_type": "stream",
     "text": [
      "=========================================================================\n",
      "frame_idx = 172\n",
      "=========================================================================\n",
      "0.0009982585906982422 : list_idx = get_list_idx_for_frame(frame_idx, n_frames_per_side, shift)\n",
      "6.055401563644409 : df_subtracted_frame = get_df_voxel_subtracted_frame(list_df_voxel_scene, frame_idx, n_frames_per_side, shift)\n",
      "1.2797443866729736 : df_frame_orig['voxel_id'] =  df_frame_orig.apply(lambda x: point_to_voxel(x, voxel_size), axis=1)\n",
      "0.0019979476928710938 : df_labels = df_frame_orig.voxel_id.isin(df_subtracted_frame.voxel_id)\n",
      "(6, 5)\n",
      "(34, 5)\n",
      "0.17909932136535645 : df_frame_orig_subtracted = df_frame_orig[df_labels]\n",
      "(274, 5)\n",
      "file_labels: voxelling_output/submission_files/test_vid_19_pred__final/0000172_labels.csv\n",
      "0.09126639366149902 : df_labels.to_csv(pickles_path+\"df_labels__frame_%d__%s__voxel_size_%d_(%d,%d,%d).p\"%(frame_idx, vid, voxel_size, n_frames_per_side, shift, n_frames_per_side))\n",
      "274\n",
      "0.0019366741180419922 : save_frame_for_movie(df_frame_orig_subtracted, \"tmp_only_labeled/\", all_files, frame_idx)\n"
     ]
    },
    {
     "name": "stderr",
     "output_type": "stream",
     "text": [
      "\r",
      " 17%|███████████████████████████▏                                                                                                                                 | 173/1000 [19:38<1:33:51,  6.81s/it]"
     ]
    },
    {
     "name": "stdout",
     "output_type": "stream",
     "text": [
      "=========================================================================\n",
      "frame_idx = 173\n",
      "=========================================================================\n",
      "0.0009980201721191406 : list_idx = get_list_idx_for_frame(frame_idx, n_frames_per_side, shift)\n",
      "6.116844415664673 : df_subtracted_frame = get_df_voxel_subtracted_frame(list_df_voxel_scene, frame_idx, n_frames_per_side, shift)\n",
      "1.307621717453003 : df_frame_orig['voxel_id'] =  df_frame_orig.apply(lambda x: point_to_voxel(x, voxel_size), axis=1)\n",
      "0.0009853839874267578 : df_labels = df_frame_orig.voxel_id.isin(df_subtracted_frame.voxel_id)\n",
      "(4, 5)\n",
      "(34, 5)\n",
      "0.1775224208831787 : df_frame_orig_subtracted = df_frame_orig[df_labels]\n",
      "(273, 5)\n",
      "file_labels: voxelling_output/submission_files/test_vid_19_pred__final/0000173_labels.csv\n",
      "0.09219908714294434 : df_labels.to_csv(pickles_path+\"df_labels__frame_%d__%s__voxel_size_%d_(%d,%d,%d).p\"%(frame_idx, vid, voxel_size, n_frames_per_side, shift, n_frames_per_side))\n",
      "273\n",
      "0.0029914379119873047 : save_frame_for_movie(df_frame_orig_subtracted, \"tmp_only_labeled/\", all_files, frame_idx)\n"
     ]
    },
    {
     "name": "stderr",
     "output_type": "stream",
     "text": [
      "\r",
      " 17%|███████████████████████████▎                                                                                                                                 | 174/1000 [19:45<1:33:48,  6.81s/it]"
     ]
    },
    {
     "name": "stdout",
     "output_type": "stream",
     "text": [
      "=========================================================================\n",
      "frame_idx = 174\n",
      "=========================================================================\n",
      "0.0 : list_idx = get_list_idx_for_frame(frame_idx, n_frames_per_side, shift)\n",
      "6.090012550354004 : df_subtracted_frame = get_df_voxel_subtracted_frame(list_df_voxel_scene, frame_idx, n_frames_per_side, shift)\n",
      "1.2971570491790771 : df_frame_orig['voxel_id'] =  df_frame_orig.apply(lambda x: point_to_voxel(x, voxel_size), axis=1)\n",
      "0.0019941329956054688 : df_labels = df_frame_orig.voxel_id.isin(df_subtracted_frame.voxel_id)\n",
      "(5, 5)\n",
      "(34, 5)\n",
      "0.1741015911102295 : df_frame_orig_subtracted = df_frame_orig[df_labels]\n",
      "(274, 5)\n",
      "file_labels: voxelling_output/submission_files/test_vid_19_pred__final/0000174_labels.csv\n",
      "0.09026432037353516 : df_labels.to_csv(pickles_path+\"df_labels__frame_%d__%s__voxel_size_%d_(%d,%d,%d).p\"%(frame_idx, vid, voxel_size, n_frames_per_side, shift, n_frames_per_side))\n",
      "274\n",
      "0.0030143260955810547 : save_frame_for_movie(df_frame_orig_subtracted, \"tmp_only_labeled/\", all_files, frame_idx)\n"
     ]
    },
    {
     "name": "stderr",
     "output_type": "stream",
     "text": [
      "\r",
      " 18%|███████████████████████████▍                                                                                                                                 | 175/1000 [19:53<1:33:46,  6.82s/it]"
     ]
    },
    {
     "name": "stdout",
     "output_type": "stream",
     "text": [
      "=========================================================================\n",
      "frame_idx = 175\n",
      "=========================================================================\n",
      "0.0009975433349609375 : list_idx = get_list_idx_for_frame(frame_idx, n_frames_per_side, shift)\n",
      "6.170295715332031 : df_subtracted_frame = get_df_voxel_subtracted_frame(list_df_voxel_scene, frame_idx, n_frames_per_side, shift)\n",
      "1.2961382865905762 : df_frame_orig['voxel_id'] =  df_frame_orig.apply(lambda x: point_to_voxel(x, voxel_size), axis=1)\n",
      "0.0009963512420654297 : df_labels = df_frame_orig.voxel_id.isin(df_subtracted_frame.voxel_id)\n",
      "(5, 5)\n",
      "(34, 5)\n",
      "0.17643022537231445 : df_frame_orig_subtracted = df_frame_orig[df_labels]\n",
      "(293, 5)\n",
      "file_labels: voxelling_output/submission_files/test_vid_19_pred__final/0000175_labels.csv\n",
      "0.08923554420471191 : df_labels.to_csv(pickles_path+\"df_labels__frame_%d__%s__voxel_size_%d_(%d,%d,%d).p\"%(frame_idx, vid, voxel_size, n_frames_per_side, shift, n_frames_per_side))\n",
      "293\n",
      "0.002995014190673828 : save_frame_for_movie(df_frame_orig_subtracted, \"tmp_only_labeled/\", all_files, frame_idx)\n"
     ]
    },
    {
     "name": "stderr",
     "output_type": "stream",
     "text": [
      "\r",
      " 18%|███████████████████████████▋                                                                                                                                 | 176/1000 [20:01<1:33:43,  6.82s/it]"
     ]
    },
    {
     "name": "stdout",
     "output_type": "stream",
     "text": [
      "=========================================================================\n",
      "frame_idx = 176\n",
      "=========================================================================\n",
      "0.0009968280792236328 : list_idx = get_list_idx_for_frame(frame_idx, n_frames_per_side, shift)\n",
      "6.20223593711853 : df_subtracted_frame = get_df_voxel_subtracted_frame(list_df_voxel_scene, frame_idx, n_frames_per_side, shift)\n",
      "1.281874656677246 : df_frame_orig['voxel_id'] =  df_frame_orig.apply(lambda x: point_to_voxel(x, voxel_size), axis=1)\n",
      "0.001990079879760742 : df_labels = df_frame_orig.voxel_id.isin(df_subtracted_frame.voxel_id)\n",
      "(4, 5)\n",
      "(34, 5)\n",
      "0.17583513259887695 : df_frame_orig_subtracted = df_frame_orig[df_labels]\n",
      "(291, 5)\n",
      "file_labels: voxelling_output/submission_files/test_vid_19_pred__final/0000176_labels.csv\n",
      "0.08826708793640137 : df_labels.to_csv(pickles_path+\"df_labels__frame_%d__%s__voxel_size_%d_(%d,%d,%d).p\"%(frame_idx, vid, voxel_size, n_frames_per_side, shift, n_frames_per_side))\n",
      "291\n",
      "0.002991199493408203 : save_frame_for_movie(df_frame_orig_subtracted, \"tmp_only_labeled/\", all_files, frame_idx)\n"
     ]
    },
    {
     "name": "stderr",
     "output_type": "stream",
     "text": [
      "\r",
      " 18%|███████████████████████████▊                                                                                                                                 | 177/1000 [20:08<1:33:41,  6.83s/it]"
     ]
    },
    {
     "name": "stdout",
     "output_type": "stream",
     "text": [
      "=========================================================================\n",
      "frame_idx = 177\n",
      "=========================================================================\n",
      "0.0 : list_idx = get_list_idx_for_frame(frame_idx, n_frames_per_side, shift)\n",
      "6.4976255893707275 : df_subtracted_frame = get_df_voxel_subtracted_frame(list_df_voxel_scene, frame_idx, n_frames_per_side, shift)\n",
      "1.284290075302124 : df_frame_orig['voxel_id'] =  df_frame_orig.apply(lambda x: point_to_voxel(x, voxel_size), axis=1)\n",
      "0.000997304916381836 : df_labels = df_frame_orig.voxel_id.isin(df_subtracted_frame.voxel_id)\n",
      "(4, 5)\n",
      "(34, 5)\n",
      "0.17054343223571777 : df_frame_orig_subtracted = df_frame_orig[df_labels]\n",
      "(297, 5)\n",
      "file_labels: voxelling_output/submission_files/test_vid_19_pred__final/0000177_labels.csv\n",
      "0.08978652954101562 : df_labels.to_csv(pickles_path+\"df_labels__frame_%d__%s__voxel_size_%d_(%d,%d,%d).p\"%(frame_idx, vid, voxel_size, n_frames_per_side, shift, n_frames_per_side))\n",
      "297\n",
      "0.001992940902709961 : save_frame_for_movie(df_frame_orig_subtracted, \"tmp_only_labeled/\", all_files, frame_idx)\n"
     ]
    },
    {
     "name": "stderr",
     "output_type": "stream",
     "text": [
      "\r",
      " 18%|███████████████████████████▉                                                                                                                                 | 178/1000 [20:17<1:33:40,  6.84s/it]"
     ]
    },
    {
     "name": "stdout",
     "output_type": "stream",
     "text": [
      "=========================================================================\n",
      "frame_idx = 178\n",
      "=========================================================================\n",
      "0.0009982585906982422 : list_idx = get_list_idx_for_frame(frame_idx, n_frames_per_side, shift)\n",
      "6.336987733840942 : df_subtracted_frame = get_df_voxel_subtracted_frame(list_df_voxel_scene, frame_idx, n_frames_per_side, shift)\n",
      "1.2827038764953613 : df_frame_orig['voxel_id'] =  df_frame_orig.apply(lambda x: point_to_voxel(x, voxel_size), axis=1)\n",
      "0.00199127197265625 : df_labels = df_frame_orig.voxel_id.isin(df_subtracted_frame.voxel_id)\n",
      "(3, 5)\n",
      "(34, 5)\n",
      "0.17813658714294434 : df_frame_orig_subtracted = df_frame_orig[df_labels]\n",
      "(303, 5)\n",
      "file_labels: voxelling_output/submission_files/test_vid_19_pred__final/0000178_labels.csv\n",
      "0.08931159973144531 : df_labels.to_csv(pickles_path+\"df_labels__frame_%d__%s__voxel_size_%d_(%d,%d,%d).p\"%(frame_idx, vid, voxel_size, n_frames_per_side, shift, n_frames_per_side))\n",
      "303\n",
      "0.0029921531677246094 : save_frame_for_movie(df_frame_orig_subtracted, \"tmp_only_labeled/\", all_files, frame_idx)\n"
     ]
    },
    {
     "name": "stderr",
     "output_type": "stream",
     "text": [
      "\r",
      " 18%|████████████████████████████                                                                                                                                 | 179/1000 [20:24<1:33:38,  6.84s/it]"
     ]
    },
    {
     "name": "stdout",
     "output_type": "stream",
     "text": [
      "=========================================================================\n",
      "frame_idx = 179\n",
      "=========================================================================\n",
      "0.0009982585906982422 : list_idx = get_list_idx_for_frame(frame_idx, n_frames_per_side, shift)\n",
      "6.350781440734863 : df_subtracted_frame = get_df_voxel_subtracted_frame(list_df_voxel_scene, frame_idx, n_frames_per_side, shift)\n",
      "1.2860465049743652 : df_frame_orig['voxel_id'] =  df_frame_orig.apply(lambda x: point_to_voxel(x, voxel_size), axis=1)\n",
      "0.000997781753540039 : df_labels = df_frame_orig.voxel_id.isin(df_subtracted_frame.voxel_id)\n",
      "(8, 5)\n",
      "(34, 5)\n",
      "0.18963003158569336 : df_frame_orig_subtracted = df_frame_orig[df_labels]\n",
      "(306, 5)\n",
      "file_labels: voxelling_output/submission_files/test_vid_19_pred__final/0000179_labels.csv\n",
      "0.09075736999511719 : df_labels.to_csv(pickles_path+\"df_labels__frame_%d__%s__voxel_size_%d_(%d,%d,%d).p\"%(frame_idx, vid, voxel_size, n_frames_per_side, shift, n_frames_per_side))\n",
      "306\n",
      "0.003988742828369141 : save_frame_for_movie(df_frame_orig_subtracted, \"tmp_only_labeled/\", all_files, frame_idx)\n"
     ]
    },
    {
     "name": "stderr",
     "output_type": "stream",
     "text": [
      "\r",
      " 18%|████████████████████████████▎                                                                                                                                | 180/1000 [20:32<1:33:36,  6.85s/it]"
     ]
    },
    {
     "name": "stdout",
     "output_type": "stream",
     "text": [
      "=========================================================================\n",
      "frame_idx = 180\n",
      "=========================================================================\n",
      "0.0 : list_idx = get_list_idx_for_frame(frame_idx, n_frames_per_side, shift)\n",
      "6.700540781021118 : df_subtracted_frame = get_df_voxel_subtracted_frame(list_df_voxel_scene, frame_idx, n_frames_per_side, shift)\n",
      "1.3587288856506348 : df_frame_orig['voxel_id'] =  df_frame_orig.apply(lambda x: point_to_voxel(x, voxel_size), axis=1)\n",
      "0.0019989013671875 : df_labels = df_frame_orig.voxel_id.isin(df_subtracted_frame.voxel_id)\n",
      "(2, 5)\n",
      "(34, 5)\n",
      "0.1815476417541504 : df_frame_orig_subtracted = df_frame_orig[df_labels]\n",
      "(306, 5)\n",
      "file_labels: voxelling_output/submission_files/test_vid_19_pred__final/0000180_labels.csv\n",
      "0.09474062919616699 : df_labels.to_csv(pickles_path+\"df_labels__frame_%d__%s__voxel_size_%d_(%d,%d,%d).p\"%(frame_idx, vid, voxel_size, n_frames_per_side, shift, n_frames_per_side))\n",
      "306\n",
      "0.0029878616333007812 : save_frame_for_movie(df_frame_orig_subtracted, \"tmp_only_labeled/\", all_files, frame_idx)\n"
     ]
    },
    {
     "name": "stderr",
     "output_type": "stream",
     "text": [
      "\r",
      " 18%|████████████████████████████▍                                                                                                                                | 181/1000 [20:41<1:33:36,  6.86s/it]"
     ]
    },
    {
     "name": "stdout",
     "output_type": "stream",
     "text": [
      "=========================================================================\n",
      "frame_idx = 181\n",
      "=========================================================================\n",
      "0.0010006427764892578 : list_idx = get_list_idx_for_frame(frame_idx, n_frames_per_side, shift)\n",
      "6.777860403060913 : df_subtracted_frame = get_df_voxel_subtracted_frame(list_df_voxel_scene, frame_idx, n_frames_per_side, shift)\n",
      "1.3419549465179443 : df_frame_orig['voxel_id'] =  df_frame_orig.apply(lambda x: point_to_voxel(x, voxel_size), axis=1)\n",
      "0.0019948482513427734 : df_labels = df_frame_orig.voxel_id.isin(df_subtracted_frame.voxel_id)\n",
      "(6, 5)\n",
      "(37, 5)\n",
      "0.17612814903259277 : df_frame_orig_subtracted = df_frame_orig[df_labels]\n",
      "(296, 5)\n",
      "file_labels: voxelling_output/submission_files/test_vid_19_pred__final/0000181_labels.csv\n",
      "0.09575152397155762 : df_labels.to_csv(pickles_path+\"df_labels__frame_%d__%s__voxel_size_%d_(%d,%d,%d).p\"%(frame_idx, vid, voxel_size, n_frames_per_side, shift, n_frames_per_side))\n",
      "296\n",
      "0.0057070255279541016 : save_frame_for_movie(df_frame_orig_subtracted, \"tmp_only_labeled/\", all_files, frame_idx)\n"
     ]
    },
    {
     "name": "stderr",
     "output_type": "stream",
     "text": [
      "\r",
      " 18%|████████████████████████████▌                                                                                                                                | 182/1000 [20:49<1:33:36,  6.87s/it]"
     ]
    },
    {
     "name": "stdout",
     "output_type": "stream",
     "text": [
      "=========================================================================\n",
      "frame_idx = 182\n",
      "=========================================================================\n",
      "0.000997304916381836 : list_idx = get_list_idx_for_frame(frame_idx, n_frames_per_side, shift)\n",
      "6.825683355331421 : df_subtracted_frame = get_df_voxel_subtracted_frame(list_df_voxel_scene, frame_idx, n_frames_per_side, shift)\n",
      "1.3341078758239746 : df_frame_orig['voxel_id'] =  df_frame_orig.apply(lambda x: point_to_voxel(x, voxel_size), axis=1)\n",
      "0.001996755599975586 : df_labels = df_frame_orig.voxel_id.isin(df_subtracted_frame.voxel_id)\n",
      "(7, 5)\n",
      "(40, 5)\n",
      "0.17909765243530273 : df_frame_orig_subtracted = df_frame_orig[df_labels]\n",
      "(294, 5)\n",
      "file_labels: voxelling_output/submission_files/test_vid_19_pred__final/0000182_labels.csv\n",
      "0.09530901908874512 : df_labels.to_csv(pickles_path+\"df_labels__frame_%d__%s__voxel_size_%d_(%d,%d,%d).p\"%(frame_idx, vid, voxel_size, n_frames_per_side, shift, n_frames_per_side))\n",
      "294\n",
      "0.002986907958984375 : save_frame_for_movie(df_frame_orig_subtracted, \"tmp_only_labeled/\", all_files, frame_idx)\n"
     ]
    },
    {
     "name": "stderr",
     "output_type": "stream",
     "text": [
      "\r",
      " 18%|████████████████████████████▋                                                                                                                                | 183/1000 [20:58<1:33:36,  6.88s/it]"
     ]
    },
    {
     "name": "stdout",
     "output_type": "stream",
     "text": [
      "=========================================================================\n",
      "frame_idx = 183\n",
      "=========================================================================\n",
      "0.0009937286376953125 : list_idx = get_list_idx_for_frame(frame_idx, n_frames_per_side, shift)\n",
      "6.820329427719116 : df_subtracted_frame = get_df_voxel_subtracted_frame(list_df_voxel_scene, frame_idx, n_frames_per_side, shift)\n",
      "1.3301396369934082 : df_frame_orig['voxel_id'] =  df_frame_orig.apply(lambda x: point_to_voxel(x, voxel_size), axis=1)\n",
      "0.0019884109497070312 : df_labels = df_frame_orig.voxel_id.isin(df_subtracted_frame.voxel_id)\n",
      "(9, 5)\n",
      "(39, 5)\n",
      "0.18265676498413086 : df_frame_orig_subtracted = df_frame_orig[df_labels]\n",
      "(303, 5)\n",
      "file_labels: voxelling_output/submission_files/test_vid_19_pred__final/0000183_labels.csv\n",
      "0.08997774124145508 : df_labels.to_csv(pickles_path+\"df_labels__frame_%d__%s__voxel_size_%d_(%d,%d,%d).p\"%(frame_idx, vid, voxel_size, n_frames_per_side, shift, n_frames_per_side))\n",
      "303\n",
      "0.0029942989349365234 : save_frame_for_movie(df_frame_orig_subtracted, \"tmp_only_labeled/\", all_files, frame_idx)\n"
     ]
    },
    {
     "name": "stderr",
     "output_type": "stream",
     "text": [
      "\r",
      " 18%|████████████████████████████▉                                                                                                                                | 184/1000 [21:06<1:33:37,  6.88s/it]"
     ]
    },
    {
     "name": "stdout",
     "output_type": "stream",
     "text": [
      "=========================================================================\n",
      "frame_idx = 184\n",
      "=========================================================================\n",
      "0.0 : list_idx = get_list_idx_for_frame(frame_idx, n_frames_per_side, shift)\n",
      "6.839359283447266 : df_subtracted_frame = get_df_voxel_subtracted_frame(list_df_voxel_scene, frame_idx, n_frames_per_side, shift)\n",
      "1.3183038234710693 : df_frame_orig['voxel_id'] =  df_frame_orig.apply(lambda x: point_to_voxel(x, voxel_size), axis=1)\n",
      "0.0020034313201904297 : df_labels = df_frame_orig.voxel_id.isin(df_subtracted_frame.voxel_id)\n",
      "(5, 5)\n",
      "(42, 5)\n",
      "0.1785893440246582 : df_frame_orig_subtracted = df_frame_orig[df_labels]\n",
      "(325, 5)\n",
      "file_labels: voxelling_output/submission_files/test_vid_19_pred__final/0000184_labels.csv\n",
      "0.09176254272460938 : df_labels.to_csv(pickles_path+\"df_labels__frame_%d__%s__voxel_size_%d_(%d,%d,%d).p\"%(frame_idx, vid, voxel_size, n_frames_per_side, shift, n_frames_per_side))\n",
      "325\n",
      "0.001993417739868164 : save_frame_for_movie(df_frame_orig_subtracted, \"tmp_only_labeled/\", all_files, frame_idx)\n"
     ]
    },
    {
     "name": "stderr",
     "output_type": "stream",
     "text": [
      "\r",
      " 18%|█████████████████████████████                                                                                                                                | 185/1000 [21:15<1:33:37,  6.89s/it]"
     ]
    },
    {
     "name": "stdout",
     "output_type": "stream",
     "text": [
      "=========================================================================\n",
      "frame_idx = 185\n",
      "=========================================================================\n",
      "0.0 : list_idx = get_list_idx_for_frame(frame_idx, n_frames_per_side, shift)\n",
      "6.969836950302124 : df_subtracted_frame = get_df_voxel_subtracted_frame(list_df_voxel_scene, frame_idx, n_frames_per_side, shift)\n",
      "1.3264822959899902 : df_frame_orig['voxel_id'] =  df_frame_orig.apply(lambda x: point_to_voxel(x, voxel_size), axis=1)\n",
      "0.0009827613830566406 : df_labels = df_frame_orig.voxel_id.isin(df_subtracted_frame.voxel_id)\n",
      "(2, 5)\n",
      "(44, 5)\n",
      "0.18155550956726074 : df_frame_orig_subtracted = df_frame_orig[df_labels]\n",
      "(333, 5)\n",
      "file_labels: voxelling_output/submission_files/test_vid_19_pred__final/0000185_labels.csv\n",
      "0.09205913543701172 : df_labels.to_csv(pickles_path+\"df_labels__frame_%d__%s__voxel_size_%d_(%d,%d,%d).p\"%(frame_idx, vid, voxel_size, n_frames_per_side, shift, n_frames_per_side))\n",
      "333\n",
      "0.001994609832763672 : save_frame_for_movie(df_frame_orig_subtracted, \"tmp_only_labeled/\", all_files, frame_idx)\n"
     ]
    },
    {
     "name": "stderr",
     "output_type": "stream",
     "text": [
      "\r",
      " 19%|█████████████████████████████▏                                                                                                                               | 186/1000 [21:23<1:33:37,  6.90s/it]"
     ]
    },
    {
     "name": "stdout",
     "output_type": "stream",
     "text": [
      "=========================================================================\n",
      "frame_idx = 186\n",
      "=========================================================================\n",
      "0.0 : list_idx = get_list_idx_for_frame(frame_idx, n_frames_per_side, shift)\n",
      "6.960810422897339 : df_subtracted_frame = get_df_voxel_subtracted_frame(list_df_voxel_scene, frame_idx, n_frames_per_side, shift)\n",
      "1.3462893962860107 : df_frame_orig['voxel_id'] =  df_frame_orig.apply(lambda x: point_to_voxel(x, voxel_size), axis=1)\n",
      "0.000997304916381836 : df_labels = df_frame_orig.voxel_id.isin(df_subtracted_frame.voxel_id)\n",
      "(9, 5)\n",
      "(43, 5)\n",
      "0.17803406715393066 : df_frame_orig_subtracted = df_frame_orig[df_labels]\n",
      "(331, 5)\n",
      "file_labels: voxelling_output/submission_files/test_vid_19_pred__final/0000186_labels.csv\n",
      "0.10072064399719238 : df_labels.to_csv(pickles_path+\"df_labels__frame_%d__%s__voxel_size_%d_(%d,%d,%d).p\"%(frame_idx, vid, voxel_size, n_frames_per_side, shift, n_frames_per_side))\n",
      "331\n",
      "0.001994609832763672 : save_frame_for_movie(df_frame_orig_subtracted, \"tmp_only_labeled/\", all_files, frame_idx)\n"
     ]
    },
    {
     "name": "stderr",
     "output_type": "stream",
     "text": [
      "\r",
      " 19%|█████████████████████████████▎                                                                                                                               | 187/1000 [21:32<1:33:38,  6.91s/it]"
     ]
    },
    {
     "name": "stdout",
     "output_type": "stream",
     "text": [
      "=========================================================================\n",
      "frame_idx = 187\n",
      "=========================================================================\n",
      "0.0009989738464355469 : list_idx = get_list_idx_for_frame(frame_idx, n_frames_per_side, shift)\n",
      "7.0656867027282715 : df_subtracted_frame = get_df_voxel_subtracted_frame(list_df_voxel_scene, frame_idx, n_frames_per_side, shift)\n",
      "1.338221549987793 : df_frame_orig['voxel_id'] =  df_frame_orig.apply(lambda x: point_to_voxel(x, voxel_size), axis=1)\n",
      "0.0010023117065429688 : df_labels = df_frame_orig.voxel_id.isin(df_subtracted_frame.voxel_id)\n",
      "(2, 5)\n",
      "(45, 5)\n",
      "0.1829671859741211 : df_frame_orig_subtracted = df_frame_orig[df_labels]\n",
      "(333, 5)\n",
      "file_labels: voxelling_output/submission_files/test_vid_19_pred__final/0000187_labels.csv\n",
      "0.09574437141418457 : df_labels.to_csv(pickles_path+\"df_labels__frame_%d__%s__voxel_size_%d_(%d,%d,%d).p\"%(frame_idx, vid, voxel_size, n_frames_per_side, shift, n_frames_per_side))\n",
      "333\n",
      "0.0030045509338378906 : save_frame_for_movie(df_frame_orig_subtracted, \"tmp_only_labeled/\", all_files, frame_idx)\n"
     ]
    },
    {
     "name": "stderr",
     "output_type": "stream",
     "text": [
      "\r",
      " 19%|█████████████████████████████▌                                                                                                                               | 188/1000 [21:41<1:33:39,  6.92s/it]"
     ]
    },
    {
     "name": "stdout",
     "output_type": "stream",
     "text": [
      "=========================================================================\n",
      "frame_idx = 188\n",
      "=========================================================================\n",
      "0.0 : list_idx = get_list_idx_for_frame(frame_idx, n_frames_per_side, shift)\n",
      "7.054834842681885 : df_subtracted_frame = get_df_voxel_subtracted_frame(list_df_voxel_scene, frame_idx, n_frames_per_side, shift)\n",
      "1.3098061084747314 : df_frame_orig['voxel_id'] =  df_frame_orig.apply(lambda x: point_to_voxel(x, voxel_size), axis=1)\n",
      "0.001986980438232422 : df_labels = df_frame_orig.voxel_id.isin(df_subtracted_frame.voxel_id)\n",
      "(8, 5)\n",
      "(48, 5)\n",
      "0.1750013828277588 : df_frame_orig_subtracted = df_frame_orig[df_labels]\n",
      "(312, 5)\n",
      "file_labels: voxelling_output/submission_files/test_vid_19_pred__final/0000188_labels.csv\n",
      "0.09873747825622559 : df_labels.to_csv(pickles_path+\"df_labels__frame_%d__%s__voxel_size_%d_(%d,%d,%d).p\"%(frame_idx, vid, voxel_size, n_frames_per_side, shift, n_frames_per_side))\n",
      "312\n",
      "0.0039937496185302734 : save_frame_for_movie(df_frame_orig_subtracted, \"tmp_only_labeled/\", all_files, frame_idx)\n"
     ]
    },
    {
     "name": "stderr",
     "output_type": "stream",
     "text": [
      "\r",
      " 19%|█████████████████████████████▋                                                                                                                               | 189/1000 [21:49<1:33:39,  6.93s/it]"
     ]
    },
    {
     "name": "stdout",
     "output_type": "stream",
     "text": [
      "=========================================================================\n",
      "frame_idx = 189\n",
      "=========================================================================\n",
      "0.000997304916381836 : list_idx = get_list_idx_for_frame(frame_idx, n_frames_per_side, shift)\n",
      "7.078355312347412 : df_subtracted_frame = get_df_voxel_subtracted_frame(list_df_voxel_scene, frame_idx, n_frames_per_side, shift)\n",
      "1.3255221843719482 : df_frame_orig['voxel_id'] =  df_frame_orig.apply(lambda x: point_to_voxel(x, voxel_size), axis=1)\n",
      "0.0019903182983398438 : df_labels = df_frame_orig.voxel_id.isin(df_subtracted_frame.voxel_id)\n",
      "(4, 5)\n",
      "(51, 5)\n",
      "0.1855325698852539 : df_frame_orig_subtracted = df_frame_orig[df_labels]\n",
      "(295, 5)\n",
      "file_labels: voxelling_output/submission_files/test_vid_19_pred__final/0000189_labels.csv\n",
      "0.09675788879394531 : df_labels.to_csv(pickles_path+\"df_labels__frame_%d__%s__voxel_size_%d_(%d,%d,%d).p\"%(frame_idx, vid, voxel_size, n_frames_per_side, shift, n_frames_per_side))\n",
      "295\n",
      "0.0019958019256591797 : save_frame_for_movie(df_frame_orig_subtracted, \"tmp_only_labeled/\", all_files, frame_idx)\n"
     ]
    },
    {
     "name": "stderr",
     "output_type": "stream",
     "text": [
      "\r",
      " 19%|█████████████████████████████▊                                                                                                                               | 190/1000 [21:58<1:33:40,  6.94s/it]"
     ]
    },
    {
     "name": "stdout",
     "output_type": "stream",
     "text": [
      "=========================================================================\n",
      "frame_idx = 190\n",
      "=========================================================================\n",
      "0.0 : list_idx = get_list_idx_for_frame(frame_idx, n_frames_per_side, shift)\n",
      "7.138974189758301 : df_subtracted_frame = get_df_voxel_subtracted_frame(list_df_voxel_scene, frame_idx, n_frames_per_side, shift)\n",
      "1.3396875858306885 : df_frame_orig['voxel_id'] =  df_frame_orig.apply(lambda x: point_to_voxel(x, voxel_size), axis=1)\n",
      "0.0019948482513427734 : df_labels = df_frame_orig.voxel_id.isin(df_subtracted_frame.voxel_id)\n",
      "(3, 5)\n",
      "(52, 5)\n",
      "0.17852282524108887 : df_frame_orig_subtracted = df_frame_orig[df_labels]\n",
      "(300, 5)\n",
      "file_labels: voxelling_output/submission_files/test_vid_19_pred__final/0000190_labels.csv\n",
      "0.09377670288085938 : df_labels.to_csv(pickles_path+\"df_labels__frame_%d__%s__voxel_size_%d_(%d,%d,%d).p\"%(frame_idx, vid, voxel_size, n_frames_per_side, shift, n_frames_per_side))\n",
      "300\n",
      "0.002993345260620117 : save_frame_for_movie(df_frame_orig_subtracted, \"tmp_only_labeled/\", all_files, frame_idx)\n"
     ]
    },
    {
     "name": "stderr",
     "output_type": "stream",
     "text": [
      "\r",
      " 19%|█████████████████████████████▉                                                                                                                               | 191/1000 [22:07<1:33:41,  6.95s/it]"
     ]
    },
    {
     "name": "stdout",
     "output_type": "stream",
     "text": [
      "=========================================================================\n",
      "frame_idx = 191\n",
      "=========================================================================\n",
      "0.0 : list_idx = get_list_idx_for_frame(frame_idx, n_frames_per_side, shift)\n",
      "7.244467735290527 : df_subtracted_frame = get_df_voxel_subtracted_frame(list_df_voxel_scene, frame_idx, n_frames_per_side, shift)\n",
      "1.3344879150390625 : df_frame_orig['voxel_id'] =  df_frame_orig.apply(lambda x: point_to_voxel(x, voxel_size), axis=1)\n",
      "0.0009894371032714844 : df_labels = df_frame_orig.voxel_id.isin(df_subtracted_frame.voxel_id)\n",
      "(5, 5)\n",
      "(52, 5)\n",
      "0.1815493106842041 : df_frame_orig_subtracted = df_frame_orig[df_labels]\n",
      "(295, 5)\n",
      "file_labels: voxelling_output/submission_files/test_vid_19_pred__final/0000191_labels.csv\n",
      "0.09731554985046387 : df_labels.to_csv(pickles_path+\"df_labels__frame_%d__%s__voxel_size_%d_(%d,%d,%d).p\"%(frame_idx, vid, voxel_size, n_frames_per_side, shift, n_frames_per_side))\n",
      "295\n",
      "0.003979682922363281 : save_frame_for_movie(df_frame_orig_subtracted, \"tmp_only_labeled/\", all_files, frame_idx)\n"
     ]
    },
    {
     "name": "stderr",
     "output_type": "stream",
     "text": [
      "\r",
      " 19%|██████████████████████████████▏                                                                                                                              | 192/1000 [22:16<1:33:42,  6.96s/it]"
     ]
    },
    {
     "name": "stdout",
     "output_type": "stream",
     "text": [
      "=========================================================================\n",
      "frame_idx = 192\n",
      "=========================================================================\n",
      "0.0 : list_idx = get_list_idx_for_frame(frame_idx, n_frames_per_side, shift)\n",
      "7.238767623901367 : df_subtracted_frame = get_df_voxel_subtracted_frame(list_df_voxel_scene, frame_idx, n_frames_per_side, shift)\n",
      "1.3317499160766602 : df_frame_orig['voxel_id'] =  df_frame_orig.apply(lambda x: point_to_voxel(x, voxel_size), axis=1)\n",
      "0.0019919872283935547 : df_labels = df_frame_orig.voxel_id.isin(df_subtracted_frame.voxel_id)\n",
      "(4, 5)\n",
      "(47, 5)\n",
      "0.18341660499572754 : df_frame_orig_subtracted = df_frame_orig[df_labels]\n",
      "(293, 5)\n",
      "file_labels: voxelling_output/submission_files/test_vid_19_pred__final/0000192_labels.csv\n",
      "0.09375 : df_labels.to_csv(pickles_path+\"df_labels__frame_%d__%s__voxel_size_%d_(%d,%d,%d).p\"%(frame_idx, vid, voxel_size, n_frames_per_side, shift, n_frames_per_side))\n",
      "293\n",
      "0.0029938220977783203 : save_frame_for_movie(df_frame_orig_subtracted, \"tmp_only_labeled/\", all_files, frame_idx)\n"
     ]
    },
    {
     "name": "stderr",
     "output_type": "stream",
     "text": [
      "\r",
      " 19%|██████████████████████████████▎                                                                                                                              | 193/1000 [22:24<1:33:43,  6.97s/it]"
     ]
    },
    {
     "name": "stdout",
     "output_type": "stream",
     "text": [
      "=========================================================================\n",
      "frame_idx = 193\n",
      "=========================================================================\n",
      "0.0 : list_idx = get_list_idx_for_frame(frame_idx, n_frames_per_side, shift)\n",
      "7.268599510192871 : df_subtracted_frame = get_df_voxel_subtracted_frame(list_df_voxel_scene, frame_idx, n_frames_per_side, shift)\n",
      "1.3283767700195312 : df_frame_orig['voxel_id'] =  df_frame_orig.apply(lambda x: point_to_voxel(x, voxel_size), axis=1)\n",
      "0.0009818077087402344 : df_labels = df_frame_orig.voxel_id.isin(df_subtracted_frame.voxel_id)\n",
      "(6, 5)\n",
      "(48, 5)\n",
      "0.1835038661956787 : df_frame_orig_subtracted = df_frame_orig[df_labels]\n",
      "(275, 5)\n",
      "file_labels: voxelling_output/submission_files/test_vid_19_pred__final/0000193_labels.csv\n",
      "0.09193229675292969 : df_labels.to_csv(pickles_path+\"df_labels__frame_%d__%s__voxel_size_%d_(%d,%d,%d).p\"%(frame_idx, vid, voxel_size, n_frames_per_side, shift, n_frames_per_side))\n",
      "275\n",
      "0.0030045509338378906 : save_frame_for_movie(df_frame_orig_subtracted, \"tmp_only_labeled/\", all_files, frame_idx)\n"
     ]
    },
    {
     "name": "stderr",
     "output_type": "stream",
     "text": [
      "\r",
      " 19%|██████████████████████████████▍                                                                                                                              | 194/1000 [22:33<1:33:44,  6.98s/it]"
     ]
    },
    {
     "name": "stdout",
     "output_type": "stream",
     "text": [
      "=========================================================================\n",
      "frame_idx = 194\n",
      "=========================================================================\n",
      "0.000986337661743164 : list_idx = get_list_idx_for_frame(frame_idx, n_frames_per_side, shift)\n",
      "7.273857831954956 : df_subtracted_frame = get_df_voxel_subtracted_frame(list_df_voxel_scene, frame_idx, n_frames_per_side, shift)\n",
      "1.3141326904296875 : df_frame_orig['voxel_id'] =  df_frame_orig.apply(lambda x: point_to_voxel(x, voxel_size), axis=1)\n",
      "0.0010170936584472656 : df_labels = df_frame_orig.voxel_id.isin(df_subtracted_frame.voxel_id)\n",
      "(10, 5)\n",
      "(47, 5)\n",
      "0.1829967498779297 : df_frame_orig_subtracted = df_frame_orig[df_labels]\n",
      "(277, 5)\n",
      "file_labels: voxelling_output/submission_files/test_vid_19_pred__final/0000194_labels.csv\n",
      "0.09628129005432129 : df_labels.to_csv(pickles_path+\"df_labels__frame_%d__%s__voxel_size_%d_(%d,%d,%d).p\"%(frame_idx, vid, voxel_size, n_frames_per_side, shift, n_frames_per_side))\n",
      "277\n",
      "0.002977609634399414 : save_frame_for_movie(df_frame_orig_subtracted, \"tmp_only_labeled/\", all_files, frame_idx)\n"
     ]
    },
    {
     "name": "stderr",
     "output_type": "stream",
     "text": [
      "\r",
      " 20%|██████████████████████████████▌                                                                                                                              | 195/1000 [22:42<1:33:45,  6.99s/it]"
     ]
    },
    {
     "name": "stdout",
     "output_type": "stream",
     "text": [
      "=========================================================================\n",
      "frame_idx = 195\n",
      "=========================================================================\n",
      "0.0 : list_idx = get_list_idx_for_frame(frame_idx, n_frames_per_side, shift)\n",
      "7.370286703109741 : df_subtracted_frame = get_df_voxel_subtracted_frame(list_df_voxel_scene, frame_idx, n_frames_per_side, shift)\n",
      "1.3149998188018799 : df_frame_orig['voxel_id'] =  df_frame_orig.apply(lambda x: point_to_voxel(x, voxel_size), axis=1)\n",
      "0.001996755599975586 : df_labels = df_frame_orig.voxel_id.isin(df_subtracted_frame.voxel_id)\n",
      "(9, 5)\n",
      "(45, 5)\n",
      "0.1788482666015625 : df_frame_orig_subtracted = df_frame_orig[df_labels]\n",
      "(265, 5)\n",
      "file_labels: voxelling_output/submission_files/test_vid_19_pred__final/0000195_labels.csv\n",
      "0.09776020050048828 : df_labels.to_csv(pickles_path+\"df_labels__frame_%d__%s__voxel_size_%d_(%d,%d,%d).p\"%(frame_idx, vid, voxel_size, n_frames_per_side, shift, n_frames_per_side))\n",
      "265\n",
      "0.0020117759704589844 : save_frame_for_movie(df_frame_orig_subtracted, \"tmp_only_labeled/\", all_files, frame_idx)\n"
     ]
    },
    {
     "name": "stderr",
     "output_type": "stream",
     "text": [
      "\r",
      " 20%|██████████████████████████████▊                                                                                                                              | 196/1000 [22:51<1:33:46,  7.00s/it]"
     ]
    },
    {
     "name": "stdout",
     "output_type": "stream",
     "text": [
      "=========================================================================\n",
      "frame_idx = 196\n",
      "=========================================================================\n",
      "0.0 : list_idx = get_list_idx_for_frame(frame_idx, n_frames_per_side, shift)\n",
      "7.411536693572998 : df_subtracted_frame = get_df_voxel_subtracted_frame(list_df_voxel_scene, frame_idx, n_frames_per_side, shift)\n",
      "1.3242249488830566 : df_frame_orig['voxel_id'] =  df_frame_orig.apply(lambda x: point_to_voxel(x, voxel_size), axis=1)\n",
      "0.0019838809967041016 : df_labels = df_frame_orig.voxel_id.isin(df_subtracted_frame.voxel_id)\n",
      "(6, 5)\n",
      "(42, 5)\n",
      "0.17652583122253418 : df_frame_orig_subtracted = df_frame_orig[df_labels]\n",
      "(279, 5)\n",
      "file_labels: voxelling_output/submission_files/test_vid_19_pred__final/0000196_labels.csv\n",
      "0.09966087341308594 : df_labels.to_csv(pickles_path+\"df_labels__frame_%d__%s__voxel_size_%d_(%d,%d,%d).p\"%(frame_idx, vid, voxel_size, n_frames_per_side, shift, n_frames_per_side))\n",
      "279\n",
      "0.0029935836791992188 : save_frame_for_movie(df_frame_orig_subtracted, \"tmp_only_labeled/\", all_files, frame_idx)\n"
     ]
    },
    {
     "name": "stderr",
     "output_type": "stream",
     "text": [
      "\r",
      " 20%|██████████████████████████████▉                                                                                                                              | 197/1000 [23:00<1:33:48,  7.01s/it]"
     ]
    },
    {
     "name": "stdout",
     "output_type": "stream",
     "text": [
      "=========================================================================\n",
      "frame_idx = 197\n",
      "=========================================================================\n",
      "0.0009963512420654297 : list_idx = get_list_idx_for_frame(frame_idx, n_frames_per_side, shift)\n",
      "7.396397829055786 : df_subtracted_frame = get_df_voxel_subtracted_frame(list_df_voxel_scene, frame_idx, n_frames_per_side, shift)\n",
      "1.3173937797546387 : df_frame_orig['voxel_id'] =  df_frame_orig.apply(lambda x: point_to_voxel(x, voxel_size), axis=1)\n",
      "0.0009965896606445312 : df_labels = df_frame_orig.voxel_id.isin(df_subtracted_frame.voxel_id)\n",
      "(7, 5)\n",
      "(44, 5)\n",
      "0.18101859092712402 : df_frame_orig_subtracted = df_frame_orig[df_labels]\n",
      "(271, 5)\n",
      "file_labels: voxelling_output/submission_files/test_vid_19_pred__final/0000197_labels.csv\n",
      "0.10073041915893555 : df_labels.to_csv(pickles_path+\"df_labels__frame_%d__%s__voxel_size_%d_(%d,%d,%d).p\"%(frame_idx, vid, voxel_size, n_frames_per_side, shift, n_frames_per_side))\n",
      "271\n",
      "0.003002643585205078 : save_frame_for_movie(df_frame_orig_subtracted, \"tmp_only_labeled/\", all_files, frame_idx)\n"
     ]
    },
    {
     "name": "stderr",
     "output_type": "stream",
     "text": [
      "\r",
      " 20%|███████████████████████████████                                                                                                                              | 198/1000 [23:09<1:33:49,  7.02s/it]"
     ]
    },
    {
     "name": "stdout",
     "output_type": "stream",
     "text": [
      "=========================================================================\n",
      "frame_idx = 198\n",
      "=========================================================================\n",
      "0.0009970664978027344 : list_idx = get_list_idx_for_frame(frame_idx, n_frames_per_side, shift)\n",
      "7.487111806869507 : df_subtracted_frame = get_df_voxel_subtracted_frame(list_df_voxel_scene, frame_idx, n_frames_per_side, shift)\n",
      "1.3142280578613281 : df_frame_orig['voxel_id'] =  df_frame_orig.apply(lambda x: point_to_voxel(x, voxel_size), axis=1)\n",
      "0.0009958744049072266 : df_labels = df_frame_orig.voxel_id.isin(df_subtracted_frame.voxel_id)\n",
      "(8, 5)\n",
      "(38, 5)\n",
      "0.18795347213745117 : df_frame_orig_subtracted = df_frame_orig[df_labels]\n",
      "(253, 5)\n",
      "file_labels: voxelling_output/submission_files/test_vid_19_pred__final/0000198_labels.csv\n",
      "0.09874796867370605 : df_labels.to_csv(pickles_path+\"df_labels__frame_%d__%s__voxel_size_%d_(%d,%d,%d).p\"%(frame_idx, vid, voxel_size, n_frames_per_side, shift, n_frames_per_side))\n",
      "253\n",
      "0.0029900074005126953 : save_frame_for_movie(df_frame_orig_subtracted, \"tmp_only_labeled/\", all_files, frame_idx)\n"
     ]
    },
    {
     "name": "stderr",
     "output_type": "stream",
     "text": [
      "\r",
      " 20%|███████████████████████████████▏                                                                                                                             | 199/1000 [23:18<1:33:50,  7.03s/it]"
     ]
    },
    {
     "name": "stdout",
     "output_type": "stream",
     "text": [
      "=========================================================================\n",
      "frame_idx = 199\n",
      "=========================================================================\n",
      "0.0 : list_idx = get_list_idx_for_frame(frame_idx, n_frames_per_side, shift)\n",
      "7.539097785949707 : df_subtracted_frame = get_df_voxel_subtracted_frame(list_df_voxel_scene, frame_idx, n_frames_per_side, shift)\n",
      "1.3244318962097168 : df_frame_orig['voxel_id'] =  df_frame_orig.apply(lambda x: point_to_voxel(x, voxel_size), axis=1)\n",
      "0.0009965896606445312 : df_labels = df_frame_orig.voxel_id.isin(df_subtracted_frame.voxel_id)\n",
      "(5, 5)\n",
      "(33, 5)\n",
      "0.1840200424194336 : df_frame_orig_subtracted = df_frame_orig[df_labels]\n",
      "(261, 5)\n",
      "file_labels: voxelling_output/submission_files/test_vid_19_pred__final/0000199_labels.csv\n",
      "0.09628820419311523 : df_labels.to_csv(pickles_path+\"df_labels__frame_%d__%s__voxel_size_%d_(%d,%d,%d).p\"%(frame_idx, vid, voxel_size, n_frames_per_side, shift, n_frames_per_side))\n",
      "261\n",
      "0.0029773712158203125 : save_frame_for_movie(df_frame_orig_subtracted, \"tmp_only_labeled/\", all_files, frame_idx)\n"
     ]
    },
    {
     "name": "stderr",
     "output_type": "stream",
     "text": [
      "\r",
      " 20%|███████████████████████████████▍                                                                                                                             | 200/1000 [23:28<1:33:52,  7.04s/it]"
     ]
    },
    {
     "name": "stdout",
     "output_type": "stream",
     "text": [
      "=========================================================================\n",
      "frame_idx = 200\n",
      "=========================================================================\n",
      "0.0 : list_idx = get_list_idx_for_frame(frame_idx, n_frames_per_side, shift)\n",
      "7.599370002746582 : df_subtracted_frame = get_df_voxel_subtracted_frame(list_df_voxel_scene, frame_idx, n_frames_per_side, shift)\n",
      "1.3238167762756348 : df_frame_orig['voxel_id'] =  df_frame_orig.apply(lambda x: point_to_voxel(x, voxel_size), axis=1)\n",
      "0.0009381771087646484 : df_labels = df_frame_orig.voxel_id.isin(df_subtracted_frame.voxel_id)\n",
      "(4, 5)\n",
      "(33, 5)\n",
      "0.17423701286315918 : df_frame_orig_subtracted = df_frame_orig[df_labels]\n",
      "(265, 5)\n",
      "file_labels: voxelling_output/submission_files/test_vid_19_pred__final/0000200_labels.csv\n",
      "0.09126687049865723 : df_labels.to_csv(pickles_path+\"df_labels__frame_%d__%s__voxel_size_%d_(%d,%d,%d).p\"%(frame_idx, vid, voxel_size, n_frames_per_side, shift, n_frames_per_side))\n",
      "265\n",
      "0.003986358642578125 : save_frame_for_movie(df_frame_orig_subtracted, \"tmp_only_labeled/\", all_files, frame_idx)\n"
     ]
    },
    {
     "name": "stderr",
     "output_type": "stream",
     "text": [
      "\r",
      " 20%|███████████████████████████████▌                                                                                                                             | 201/1000 [23:37<1:33:54,  7.05s/it]"
     ]
    },
    {
     "name": "stdout",
     "output_type": "stream",
     "text": [
      "=========================================================================\n",
      "frame_idx = 201\n",
      "=========================================================================\n",
      "0.0 : list_idx = get_list_idx_for_frame(frame_idx, n_frames_per_side, shift)\n",
      "7.630695104598999 : df_subtracted_frame = get_df_voxel_subtracted_frame(list_df_voxel_scene, frame_idx, n_frames_per_side, shift)\n",
      "1.3425469398498535 : df_frame_orig['voxel_id'] =  df_frame_orig.apply(lambda x: point_to_voxel(x, voxel_size), axis=1)\n",
      "0.000997781753540039 : df_labels = df_frame_orig.voxel_id.isin(df_subtracted_frame.voxel_id)\n",
      "(8, 5)\n",
      "(34, 5)\n",
      "0.1789412498474121 : df_frame_orig_subtracted = df_frame_orig[df_labels]\n",
      "(250, 5)\n",
      "file_labels: voxelling_output/submission_files/test_vid_19_pred__final/0000201_labels.csv\n",
      "0.09675335884094238 : df_labels.to_csv(pickles_path+\"df_labels__frame_%d__%s__voxel_size_%d_(%d,%d,%d).p\"%(frame_idx, vid, voxel_size, n_frames_per_side, shift, n_frames_per_side))\n",
      "250\n",
      "0.0029942989349365234 : save_frame_for_movie(df_frame_orig_subtracted, \"tmp_only_labeled/\", all_files, frame_idx)\n"
     ]
    },
    {
     "name": "stderr",
     "output_type": "stream",
     "text": [
      "\r",
      " 20%|███████████████████████████████▋                                                                                                                             | 202/1000 [23:46<1:33:55,  7.06s/it]"
     ]
    },
    {
     "name": "stdout",
     "output_type": "stream",
     "text": [
      "=========================================================================\n",
      "frame_idx = 202\n",
      "=========================================================================\n",
      "0.0 : list_idx = get_list_idx_for_frame(frame_idx, n_frames_per_side, shift)\n",
      "7.6579062938690186 : df_subtracted_frame = get_df_voxel_subtracted_frame(list_df_voxel_scene, frame_idx, n_frames_per_side, shift)\n",
      "1.3377511501312256 : df_frame_orig['voxel_id'] =  df_frame_orig.apply(lambda x: point_to_voxel(x, voxel_size), axis=1)\n",
      "0.002004861831665039 : df_labels = df_frame_orig.voxel_id.isin(df_subtracted_frame.voxel_id)\n",
      "(3, 5)\n",
      "(33, 5)\n",
      "0.19896268844604492 : df_frame_orig_subtracted = df_frame_orig[df_labels]\n",
      "(245, 5)\n",
      "file_labels: voxelling_output/submission_files/test_vid_19_pred__final/0000202_labels.csv\n",
      "0.09574460983276367 : df_labels.to_csv(pickles_path+\"df_labels__frame_%d__%s__voxel_size_%d_(%d,%d,%d).p\"%(frame_idx, vid, voxel_size, n_frames_per_side, shift, n_frames_per_side))\n",
      "245\n",
      "0.001992940902709961 : save_frame_for_movie(df_frame_orig_subtracted, \"tmp_only_labeled/\", all_files, frame_idx)\n"
     ]
    },
    {
     "name": "stderr",
     "output_type": "stream",
     "text": [
      "\r",
      " 20%|███████████████████████████████▊                                                                                                                             | 203/1000 [23:55<1:33:57,  7.07s/it]"
     ]
    },
    {
     "name": "stdout",
     "output_type": "stream",
     "text": [
      "=========================================================================\n",
      "frame_idx = 203\n",
      "=========================================================================\n",
      "0.0 : list_idx = get_list_idx_for_frame(frame_idx, n_frames_per_side, shift)\n",
      "7.733494997024536 : df_subtracted_frame = get_df_voxel_subtracted_frame(list_df_voxel_scene, frame_idx, n_frames_per_side, shift)\n",
      "1.35554838180542 : df_frame_orig['voxel_id'] =  df_frame_orig.apply(lambda x: point_to_voxel(x, voxel_size), axis=1)\n",
      "0.0010013580322265625 : df_labels = df_frame_orig.voxel_id.isin(df_subtracted_frame.voxel_id)\n",
      "(5, 5)\n",
      "(31, 5)\n",
      "0.17953276634216309 : df_frame_orig_subtracted = df_frame_orig[df_labels]\n",
      "(235, 5)\n",
      "file_labels: voxelling_output/submission_files/test_vid_19_pred__final/0000203_labels.csv\n",
      "0.09278535842895508 : df_labels.to_csv(pickles_path+\"df_labels__frame_%d__%s__voxel_size_%d_(%d,%d,%d).p\"%(frame_idx, vid, voxel_size, n_frames_per_side, shift, n_frames_per_side))\n",
      "235\n",
      "0.0029938220977783203 : save_frame_for_movie(df_frame_orig_subtracted, \"tmp_only_labeled/\", all_files, frame_idx)\n"
     ]
    },
    {
     "name": "stderr",
     "output_type": "stream",
     "text": [
      "\r",
      " 20%|████████████████████████████████                                                                                                                             | 204/1000 [24:05<1:33:59,  7.08s/it]"
     ]
    },
    {
     "name": "stdout",
     "output_type": "stream",
     "text": [
      "=========================================================================\n",
      "frame_idx = 204\n",
      "=========================================================================\n",
      "0.0 : list_idx = get_list_idx_for_frame(frame_idx, n_frames_per_side, shift)\n",
      "7.900382995605469 : df_subtracted_frame = get_df_voxel_subtracted_frame(list_df_voxel_scene, frame_idx, n_frames_per_side, shift)\n",
      "1.3278436660766602 : df_frame_orig['voxel_id'] =  df_frame_orig.apply(lambda x: point_to_voxel(x, voxel_size), axis=1)\n",
      "0.001988649368286133 : df_labels = df_frame_orig.voxel_id.isin(df_subtracted_frame.voxel_id)\n",
      "(6, 5)\n",
      "(33, 5)\n",
      "0.19188523292541504 : df_frame_orig_subtracted = df_frame_orig[df_labels]\n",
      "(237, 5)\n",
      "file_labels: voxelling_output/submission_files/test_vid_19_pred__final/0000204_labels.csv\n",
      "0.09175968170166016 : df_labels.to_csv(pickles_path+\"df_labels__frame_%d__%s__voxel_size_%d_(%d,%d,%d).p\"%(frame_idx, vid, voxel_size, n_frames_per_side, shift, n_frames_per_side))\n",
      "237\n",
      "0.0029876232147216797 : save_frame_for_movie(df_frame_orig_subtracted, \"tmp_only_labeled/\", all_files, frame_idx)\n"
     ]
    },
    {
     "name": "stderr",
     "output_type": "stream",
     "text": [
      "\r",
      " 20%|████████████████████████████████▏                                                                                                                            | 205/1000 [24:14<1:34:02,  7.10s/it]"
     ]
    },
    {
     "name": "stdout",
     "output_type": "stream",
     "text": [
      "=========================================================================\n",
      "frame_idx = 205\n",
      "=========================================================================\n",
      "0.0 : list_idx = get_list_idx_for_frame(frame_idx, n_frames_per_side, shift)\n",
      "7.88716459274292 : df_subtracted_frame = get_df_voxel_subtracted_frame(list_df_voxel_scene, frame_idx, n_frames_per_side, shift)\n",
      "1.3451411724090576 : df_frame_orig['voxel_id'] =  df_frame_orig.apply(lambda x: point_to_voxel(x, voxel_size), axis=1)\n",
      "0.001993417739868164 : df_labels = df_frame_orig.voxel_id.isin(df_subtracted_frame.voxel_id)\n",
      "(6, 5)\n",
      "(33, 5)\n",
      "0.17751526832580566 : df_frame_orig_subtracted = df_frame_orig[df_labels]\n",
      "(231, 5)\n",
      "file_labels: voxelling_output/submission_files/test_vid_19_pred__final/0000205_labels.csv\n",
      "0.09673571586608887 : df_labels.to_csv(pickles_path+\"df_labels__frame_%d__%s__voxel_size_%d_(%d,%d,%d).p\"%(frame_idx, vid, voxel_size, n_frames_per_side, shift, n_frames_per_side))\n",
      "231\n",
      "0.0029931068420410156 : save_frame_for_movie(df_frame_orig_subtracted, \"tmp_only_labeled/\", all_files, frame_idx)\n"
     ]
    },
    {
     "name": "stderr",
     "output_type": "stream",
     "text": [
      "\r",
      " 21%|████████████████████████████████▎                                                                                                                            | 206/1000 [24:24<1:34:04,  7.11s/it]"
     ]
    },
    {
     "name": "stdout",
     "output_type": "stream",
     "text": [
      "=========================================================================\n",
      "frame_idx = 206\n",
      "=========================================================================\n",
      "0.0 : list_idx = get_list_idx_for_frame(frame_idx, n_frames_per_side, shift)\n",
      "7.857249736785889 : df_subtracted_frame = get_df_voxel_subtracted_frame(list_df_voxel_scene, frame_idx, n_frames_per_side, shift)\n",
      "1.326136827468872 : df_frame_orig['voxel_id'] =  df_frame_orig.apply(lambda x: point_to_voxel(x, voxel_size), axis=1)\n",
      "0.0009603500366210938 : df_labels = df_frame_orig.voxel_id.isin(df_subtracted_frame.voxel_id)\n",
      "(8, 5)\n",
      "(33, 5)\n",
      "0.18452048301696777 : df_frame_orig_subtracted = df_frame_orig[df_labels]\n",
      "(229, 5)\n",
      "file_labels: voxelling_output/submission_files/test_vid_19_pred__final/0000206_labels.csv\n",
      "0.09402346611022949 : df_labels.to_csv(pickles_path+\"df_labels__frame_%d__%s__voxel_size_%d_(%d,%d,%d).p\"%(frame_idx, vid, voxel_size, n_frames_per_side, shift, n_frames_per_side))\n",
      "229\n",
      "0.002995729446411133 : save_frame_for_movie(df_frame_orig_subtracted, \"tmp_only_labeled/\", all_files, frame_idx)\n"
     ]
    },
    {
     "name": "stderr",
     "output_type": "stream",
     "text": [
      "\r",
      " 21%|████████████████████████████████▍                                                                                                                            | 207/1000 [24:33<1:34:06,  7.12s/it]"
     ]
    },
    {
     "name": "stdout",
     "output_type": "stream",
     "text": [
      "=========================================================================\n",
      "frame_idx = 207\n",
      "=========================================================================\n",
      "0.0 : list_idx = get_list_idx_for_frame(frame_idx, n_frames_per_side, shift)\n",
      "7.960068702697754 : df_subtracted_frame = get_df_voxel_subtracted_frame(list_df_voxel_scene, frame_idx, n_frames_per_side, shift)\n",
      "1.3488585948944092 : df_frame_orig['voxel_id'] =  df_frame_orig.apply(lambda x: point_to_voxel(x, voxel_size), axis=1)\n",
      "0.0020101070404052734 : df_labels = df_frame_orig.voxel_id.isin(df_subtracted_frame.voxel_id)\n",
      "(5, 5)\n",
      "(30, 5)\n",
      "0.18055272102355957 : df_frame_orig_subtracted = df_frame_orig[df_labels]\n",
      "(225, 5)\n",
      "file_labels: voxelling_output/submission_files/test_vid_19_pred__final/0000207_labels.csv\n",
      "0.09773707389831543 : df_labels.to_csv(pickles_path+\"df_labels__frame_%d__%s__voxel_size_%d_(%d,%d,%d).p\"%(frame_idx, vid, voxel_size, n_frames_per_side, shift, n_frames_per_side))\n",
      "225\n",
      "0.0029795169830322266 : save_frame_for_movie(df_frame_orig_subtracted, \"tmp_only_labeled/\", all_files, frame_idx)\n"
     ]
    },
    {
     "name": "stderr",
     "output_type": "stream",
     "text": [
      "\r",
      " 21%|████████████████████████████████▋                                                                                                                            | 208/1000 [24:43<1:34:08,  7.13s/it]"
     ]
    },
    {
     "name": "stdout",
     "output_type": "stream",
     "text": [
      "=========================================================================\n",
      "frame_idx = 208\n",
      "=========================================================================\n",
      "0.0009613037109375 : list_idx = get_list_idx_for_frame(frame_idx, n_frames_per_side, shift)\n",
      "7.983482837677002 : df_subtracted_frame = get_df_voxel_subtracted_frame(list_df_voxel_scene, frame_idx, n_frames_per_side, shift)\n",
      "1.3448021411895752 : df_frame_orig['voxel_id'] =  df_frame_orig.apply(lambda x: point_to_voxel(x, voxel_size), axis=1)\n",
      "0.001991748809814453 : df_labels = df_frame_orig.voxel_id.isin(df_subtracted_frame.voxel_id)\n",
      "(5, 5)\n",
      "(25, 5)\n",
      "0.17877483367919922 : df_frame_orig_subtracted = df_frame_orig[df_labels]\n",
      "(214, 5)\n",
      "file_labels: voxelling_output/submission_files/test_vid_19_pred__final/0000208_labels.csv\n",
      "0.09474444389343262 : df_labels.to_csv(pickles_path+\"df_labels__frame_%d__%s__voxel_size_%d_(%d,%d,%d).p\"%(frame_idx, vid, voxel_size, n_frames_per_side, shift, n_frames_per_side))\n",
      "214\n",
      "0.0029914379119873047 : save_frame_for_movie(df_frame_orig_subtracted, \"tmp_only_labeled/\", all_files, frame_idx)\n"
     ]
    },
    {
     "name": "stderr",
     "output_type": "stream",
     "text": [
      "\r",
      " 21%|████████████████████████████████▊                                                                                                                            | 209/1000 [24:53<1:34:11,  7.14s/it]"
     ]
    },
    {
     "name": "stdout",
     "output_type": "stream",
     "text": [
      "=========================================================================\n",
      "frame_idx = 209\n",
      "=========================================================================\n",
      "0.0 : list_idx = get_list_idx_for_frame(frame_idx, n_frames_per_side, shift)\n",
      "8.001184940338135 : df_subtracted_frame = get_df_voxel_subtracted_frame(list_df_voxel_scene, frame_idx, n_frames_per_side, shift)\n",
      "1.334366798400879 : df_frame_orig['voxel_id'] =  df_frame_orig.apply(lambda x: point_to_voxel(x, voxel_size), axis=1)\n",
      "0.001993894577026367 : df_labels = df_frame_orig.voxel_id.isin(df_subtracted_frame.voxel_id)\n",
      "(4, 5)\n",
      "(28, 5)\n",
      "0.17983722686767578 : df_frame_orig_subtracted = df_frame_orig[df_labels]\n",
      "(204, 5)\n",
      "file_labels: voxelling_output/submission_files/test_vid_19_pred__final/0000209_labels.csv\n",
      "0.1042015552520752 : df_labels.to_csv(pickles_path+\"df_labels__frame_%d__%s__voxel_size_%d_(%d,%d,%d).p\"%(frame_idx, vid, voxel_size, n_frames_per_side, shift, n_frames_per_side))\n",
      "204\n",
      "0.0029840469360351562 : save_frame_for_movie(df_frame_orig_subtracted, \"tmp_only_labeled/\", all_files, frame_idx)\n"
     ]
    },
    {
     "name": "stderr",
     "output_type": "stream",
     "text": [
      "\r",
      " 21%|████████████████████████████████▉                                                                                                                            | 210/1000 [25:02<1:34:13,  7.16s/it]"
     ]
    },
    {
     "name": "stdout",
     "output_type": "stream",
     "text": [
      "=========================================================================\n",
      "frame_idx = 210\n",
      "=========================================================================\n",
      "0.0 : list_idx = get_list_idx_for_frame(frame_idx, n_frames_per_side, shift)\n",
      "8.118697881698608 : df_subtracted_frame = get_df_voxel_subtracted_frame(list_df_voxel_scene, frame_idx, n_frames_per_side, shift)\n",
      "1.3981854915618896 : df_frame_orig['voxel_id'] =  df_frame_orig.apply(lambda x: point_to_voxel(x, voxel_size), axis=1)\n",
      "0.0009918212890625 : df_labels = df_frame_orig.voxel_id.isin(df_subtracted_frame.voxel_id)\n",
      "(4, 5)\n",
      "(22, 5)\n",
      "0.18584752082824707 : df_frame_orig_subtracted = df_frame_orig[df_labels]\n",
      "(201, 5)\n",
      "file_labels: voxelling_output/submission_files/test_vid_19_pred__final/0000210_labels.csv\n",
      "0.09275007247924805 : df_labels.to_csv(pickles_path+\"df_labels__frame_%d__%s__voxel_size_%d_(%d,%d,%d).p\"%(frame_idx, vid, voxel_size, n_frames_per_side, shift, n_frames_per_side))\n",
      "201\n",
      "0.0019960403442382812 : save_frame_for_movie(df_frame_orig_subtracted, \"tmp_only_labeled/\", all_files, frame_idx)\n"
     ]
    },
    {
     "name": "stderr",
     "output_type": "stream",
     "text": [
      "\r",
      " 21%|█████████████████████████████████▏                                                                                                                           | 211/1000 [25:12<1:34:16,  7.17s/it]"
     ]
    },
    {
     "name": "stdout",
     "output_type": "stream",
     "text": [
      "=========================================================================\n",
      "frame_idx = 211\n",
      "=========================================================================\n",
      "0.0 : list_idx = get_list_idx_for_frame(frame_idx, n_frames_per_side, shift)\n",
      "8.142069339752197 : df_subtracted_frame = get_df_voxel_subtracted_frame(list_df_voxel_scene, frame_idx, n_frames_per_side, shift)\n",
      "1.3384220600128174 : df_frame_orig['voxel_id'] =  df_frame_orig.apply(lambda x: point_to_voxel(x, voxel_size), axis=1)\n",
      "0.001992464065551758 : df_labels = df_frame_orig.voxel_id.isin(df_subtracted_frame.voxel_id)\n",
      "(10, 5)\n",
      "(24, 5)\n",
      "0.18151116371154785 : df_frame_orig_subtracted = df_frame_orig[df_labels]\n",
      "(199, 5)\n",
      "file_labels: voxelling_output/submission_files/test_vid_19_pred__final/0000211_labels.csv\n",
      "0.09325718879699707 : df_labels.to_csv(pickles_path+\"df_labels__frame_%d__%s__voxel_size_%d_(%d,%d,%d).p\"%(frame_idx, vid, voxel_size, n_frames_per_side, shift, n_frames_per_side))\n",
      "199\n",
      "0.001979827880859375 : save_frame_for_movie(df_frame_orig_subtracted, \"tmp_only_labeled/\", all_files, frame_idx)\n"
     ]
    },
    {
     "name": "stderr",
     "output_type": "stream",
     "text": [
      "\r",
      " 21%|█████████████████████████████████▎                                                                                                                           | 212/1000 [25:22<1:34:18,  7.18s/it]"
     ]
    },
    {
     "name": "stdout",
     "output_type": "stream",
     "text": [
      "=========================================================================\n",
      "frame_idx = 212\n",
      "=========================================================================\n",
      "0.0 : list_idx = get_list_idx_for_frame(frame_idx, n_frames_per_side, shift)\n",
      "8.197547435760498 : df_subtracted_frame = get_df_voxel_subtracted_frame(list_df_voxel_scene, frame_idx, n_frames_per_side, shift)\n",
      "1.3509840965270996 : df_frame_orig['voxel_id'] =  df_frame_orig.apply(lambda x: point_to_voxel(x, voxel_size), axis=1)\n",
      "0.0009849071502685547 : df_labels = df_frame_orig.voxel_id.isin(df_subtracted_frame.voxel_id)\n",
      "(2, 5)\n",
      "(20, 5)\n",
      "0.17955350875854492 : df_frame_orig_subtracted = df_frame_orig[df_labels]\n",
      "(198, 5)\n",
      "file_labels: voxelling_output/submission_files/test_vid_19_pred__final/0000212_labels.csv\n",
      "0.09474444389343262 : df_labels.to_csv(pickles_path+\"df_labels__frame_%d__%s__voxel_size_%d_(%d,%d,%d).p\"%(frame_idx, vid, voxel_size, n_frames_per_side, shift, n_frames_per_side))\n",
      "198\n",
      "0.0019958019256591797 : save_frame_for_movie(df_frame_orig_subtracted, \"tmp_only_labeled/\", all_files, frame_idx)\n"
     ]
    },
    {
     "name": "stderr",
     "output_type": "stream",
     "text": [
      "\r",
      " 21%|█████████████████████████████████▍                                                                                                                           | 213/1000 [25:32<1:34:21,  7.19s/it]"
     ]
    },
    {
     "name": "stdout",
     "output_type": "stream",
     "text": [
      "=========================================================================\n",
      "frame_idx = 213\n",
      "=========================================================================\n",
      "0.0 : list_idx = get_list_idx_for_frame(frame_idx, n_frames_per_side, shift)\n",
      "8.23207950592041 : df_subtracted_frame = get_df_voxel_subtracted_frame(list_df_voxel_scene, frame_idx, n_frames_per_side, shift)\n",
      "1.3566298484802246 : df_frame_orig['voxel_id'] =  df_frame_orig.apply(lambda x: point_to_voxel(x, voxel_size), axis=1)\n",
      "0.00098419189453125 : df_labels = df_frame_orig.voxel_id.isin(df_subtracted_frame.voxel_id)\n",
      "(8, 5)\n",
      "(17, 5)\n",
      "0.18055176734924316 : df_frame_orig_subtracted = df_frame_orig[df_labels]\n",
      "(184, 5)\n",
      "file_labels: voxelling_output/submission_files/test_vid_19_pred__final/0000213_labels.csv\n",
      "0.09478116035461426 : df_labels.to_csv(pickles_path+\"df_labels__frame_%d__%s__voxel_size_%d_(%d,%d,%d).p\"%(frame_idx, vid, voxel_size, n_frames_per_side, shift, n_frames_per_side))\n",
      "184\n",
      "0.001977682113647461 : save_frame_for_movie(df_frame_orig_subtracted, \"tmp_only_labeled/\", all_files, frame_idx)\n"
     ]
    },
    {
     "name": "stderr",
     "output_type": "stream",
     "text": [
      "\r",
      " 21%|█████████████████████████████████▌                                                                                                                           | 214/1000 [25:42<1:34:24,  7.21s/it]"
     ]
    },
    {
     "name": "stdout",
     "output_type": "stream",
     "text": [
      "=========================================================================\n",
      "frame_idx = 214\n",
      "=========================================================================\n",
      "0.0 : list_idx = get_list_idx_for_frame(frame_idx, n_frames_per_side, shift)\n",
      "8.226555585861206 : df_subtracted_frame = get_df_voxel_subtracted_frame(list_df_voxel_scene, frame_idx, n_frames_per_side, shift)\n",
      "1.342350959777832 : df_frame_orig['voxel_id'] =  df_frame_orig.apply(lambda x: point_to_voxel(x, voxel_size), axis=1)\n",
      "0.0019996166229248047 : df_labels = df_frame_orig.voxel_id.isin(df_subtracted_frame.voxel_id)\n",
      "(7, 5)\n",
      "(16, 5)\n",
      "0.17856240272521973 : df_frame_orig_subtracted = df_frame_orig[df_labels]\n",
      "(186, 5)\n",
      "file_labels: voxelling_output/submission_files/test_vid_19_pred__final/0000214_labels.csv\n",
      "0.09474754333496094 : df_labels.to_csv(pickles_path+\"df_labels__frame_%d__%s__voxel_size_%d_(%d,%d,%d).p\"%(frame_idx, vid, voxel_size, n_frames_per_side, shift, n_frames_per_side))\n",
      "186\n",
      "0.005023956298828125 : save_frame_for_movie(df_frame_orig_subtracted, \"tmp_only_labeled/\", all_files, frame_idx)\n"
     ]
    },
    {
     "name": "stderr",
     "output_type": "stream",
     "text": [
      "\r",
      " 22%|█████████████████████████████████▊                                                                                                                           | 215/1000 [25:52<1:34:26,  7.22s/it]"
     ]
    },
    {
     "name": "stdout",
     "output_type": "stream",
     "text": [
      "=========================================================================\n",
      "frame_idx = 215\n",
      "=========================================================================\n",
      "0.0 : list_idx = get_list_idx_for_frame(frame_idx, n_frames_per_side, shift)\n",
      "8.262540578842163 : df_subtracted_frame = get_df_voxel_subtracted_frame(list_df_voxel_scene, frame_idx, n_frames_per_side, shift)\n",
      "1.3204569816589355 : df_frame_orig['voxel_id'] =  df_frame_orig.apply(lambda x: point_to_voxel(x, voxel_size), axis=1)\n",
      "0.0020003318786621094 : df_labels = df_frame_orig.voxel_id.isin(df_subtracted_frame.voxel_id)\n",
      "(10, 5)\n",
      "(16, 5)\n",
      "0.18930745124816895 : df_frame_orig_subtracted = df_frame_orig[df_labels]\n",
      "(187, 5)\n",
      "file_labels: voxelling_output/submission_files/test_vid_19_pred__final/0000215_labels.csv\n",
      "0.09627485275268555 : df_labels.to_csv(pickles_path+\"df_labels__frame_%d__%s__voxel_size_%d_(%d,%d,%d).p\"%(frame_idx, vid, voxel_size, n_frames_per_side, shift, n_frames_per_side))\n",
      "187\n",
      "0.002984285354614258 : save_frame_for_movie(df_frame_orig_subtracted, \"tmp_only_labeled/\", all_files, frame_idx)\n"
     ]
    },
    {
     "name": "stderr",
     "output_type": "stream",
     "text": [
      "\r",
      " 22%|█████████████████████████████████▉                                                                                                                           | 216/1000 [26:01<1:34:29,  7.23s/it]"
     ]
    },
    {
     "name": "stdout",
     "output_type": "stream",
     "text": [
      "=========================================================================\n",
      "frame_idx = 216\n",
      "=========================================================================\n",
      "0.0 : list_idx = get_list_idx_for_frame(frame_idx, n_frames_per_side, shift)\n",
      "8.364514112472534 : df_subtracted_frame = get_df_voxel_subtracted_frame(list_df_voxel_scene, frame_idx, n_frames_per_side, shift)\n",
      "1.3435473442077637 : df_frame_orig['voxel_id'] =  df_frame_orig.apply(lambda x: point_to_voxel(x, voxel_size), axis=1)\n",
      "0.0009970664978027344 : df_labels = df_frame_orig.voxel_id.isin(df_subtracted_frame.voxel_id)\n",
      "(6, 5)\n",
      "(16, 5)\n",
      "0.1937251091003418 : df_frame_orig_subtracted = df_frame_orig[df_labels]\n",
      "(145, 5)\n",
      "file_labels: voxelling_output/submission_files/test_vid_19_pred__final/0000216_labels.csv\n",
      "0.08976364135742188 : df_labels.to_csv(pickles_path+\"df_labels__frame_%d__%s__voxel_size_%d_(%d,%d,%d).p\"%(frame_idx, vid, voxel_size, n_frames_per_side, shift, n_frames_per_side))\n",
      "145\n",
      "0.003010272979736328 : save_frame_for_movie(df_frame_orig_subtracted, \"tmp_only_labeled/\", all_files, frame_idx)\n"
     ]
    },
    {
     "name": "stderr",
     "output_type": "stream",
     "text": [
      "\r",
      " 22%|██████████████████████████████████                                                                                                                           | 217/1000 [26:11<1:34:32,  7.24s/it]"
     ]
    },
    {
     "name": "stdout",
     "output_type": "stream",
     "text": [
      "=========================================================================\n",
      "frame_idx = 217\n",
      "=========================================================================\n",
      "0.0 : list_idx = get_list_idx_for_frame(frame_idx, n_frames_per_side, shift)\n",
      "8.402580261230469 : df_subtracted_frame = get_df_voxel_subtracted_frame(list_df_voxel_scene, frame_idx, n_frames_per_side, shift)\n",
      "1.3452558517456055 : df_frame_orig['voxel_id'] =  df_frame_orig.apply(lambda x: point_to_voxel(x, voxel_size), axis=1)\n",
      "0.0009751319885253906 : df_labels = df_frame_orig.voxel_id.isin(df_subtracted_frame.voxel_id)\n",
      "(4, 5)\n",
      "(16, 5)\n",
      "0.18452692031860352 : df_frame_orig_subtracted = df_frame_orig[df_labels]\n",
      "(165, 5)\n",
      "file_labels: voxelling_output/submission_files/test_vid_19_pred__final/0000217_labels.csv\n",
      "0.10172748565673828 : df_labels.to_csv(pickles_path+\"df_labels__frame_%d__%s__voxel_size_%d_(%d,%d,%d).p\"%(frame_idx, vid, voxel_size, n_frames_per_side, shift, n_frames_per_side))\n",
      "165\n",
      "0.0029942989349365234 : save_frame_for_movie(df_frame_orig_subtracted, \"tmp_only_labeled/\", all_files, frame_idx)\n"
     ]
    },
    {
     "name": "stderr",
     "output_type": "stream",
     "text": [
      "\r",
      " 22%|██████████████████████████████████▏                                                                                                                          | 218/1000 [26:22<1:34:35,  7.26s/it]"
     ]
    },
    {
     "name": "stdout",
     "output_type": "stream",
     "text": [
      "=========================================================================\n",
      "frame_idx = 218\n",
      "=========================================================================\n",
      "0.0 : list_idx = get_list_idx_for_frame(frame_idx, n_frames_per_side, shift)\n",
      "8.438233137130737 : df_subtracted_frame = get_df_voxel_subtracted_frame(list_df_voxel_scene, frame_idx, n_frames_per_side, shift)\n",
      "1.3513929843902588 : df_frame_orig['voxel_id'] =  df_frame_orig.apply(lambda x: point_to_voxel(x, voxel_size), axis=1)\n",
      "0.000997781753540039 : df_labels = df_frame_orig.voxel_id.isin(df_subtracted_frame.voxel_id)\n",
      "(10, 5)\n",
      "(19, 5)\n",
      "0.18053913116455078 : df_frame_orig_subtracted = df_frame_orig[df_labels]\n",
      "(140, 5)\n",
      "file_labels: voxelling_output/submission_files/test_vid_19_pred__final/0000218_labels.csv\n",
      "0.09473848342895508 : df_labels.to_csv(pickles_path+\"df_labels__frame_%d__%s__voxel_size_%d_(%d,%d,%d).p\"%(frame_idx, vid, voxel_size, n_frames_per_side, shift, n_frames_per_side))\n",
      "140\n",
      "0.0029921531677246094 : save_frame_for_movie(df_frame_orig_subtracted, \"tmp_only_labeled/\", all_files, frame_idx)\n"
     ]
    },
    {
     "name": "stderr",
     "output_type": "stream",
     "text": [
      "\r",
      " 22%|██████████████████████████████████▍                                                                                                                          | 219/1000 [26:32<1:34:37,  7.27s/it]"
     ]
    },
    {
     "name": "stdout",
     "output_type": "stream",
     "text": [
      "=========================================================================\n",
      "frame_idx = 219\n",
      "=========================================================================\n",
      "0.000997304916381836 : list_idx = get_list_idx_for_frame(frame_idx, n_frames_per_side, shift)\n",
      "8.486651182174683 : df_subtracted_frame = get_df_voxel_subtracted_frame(list_df_voxel_scene, frame_idx, n_frames_per_side, shift)\n",
      "1.345069408416748 : df_frame_orig['voxel_id'] =  df_frame_orig.apply(lambda x: point_to_voxel(x, voxel_size), axis=1)\n",
      "0.0009975433349609375 : df_labels = df_frame_orig.voxel_id.isin(df_subtracted_frame.voxel_id)\n",
      "(3, 5)\n",
      "(20, 5)\n",
      "0.18254613876342773 : df_frame_orig_subtracted = df_frame_orig[df_labels]\n",
      "(161, 5)\n",
      "file_labels: voxelling_output/submission_files/test_vid_19_pred__final/0000219_labels.csv\n",
      "0.0892188549041748 : df_labels.to_csv(pickles_path+\"df_labels__frame_%d__%s__voxel_size_%d_(%d,%d,%d).p\"%(frame_idx, vid, voxel_size, n_frames_per_side, shift, n_frames_per_side))\n",
      "161\n",
      "0.0029921531677246094 : save_frame_for_movie(df_frame_orig_subtracted, \"tmp_only_labeled/\", all_files, frame_idx)\n"
     ]
    },
    {
     "name": "stderr",
     "output_type": "stream",
     "text": [
      "\r",
      " 22%|██████████████████████████████████▌                                                                                                                          | 220/1000 [26:42<1:34:40,  7.28s/it]"
     ]
    },
    {
     "name": "stdout",
     "output_type": "stream",
     "text": [
      "=========================================================================\n",
      "frame_idx = 220\n",
      "=========================================================================\n",
      "0.0009970664978027344 : list_idx = get_list_idx_for_frame(frame_idx, n_frames_per_side, shift)\n",
      "8.570637226104736 : df_subtracted_frame = get_df_voxel_subtracted_frame(list_df_voxel_scene, frame_idx, n_frames_per_side, shift)\n",
      "1.3317019939422607 : df_frame_orig['voxel_id'] =  df_frame_orig.apply(lambda x: point_to_voxel(x, voxel_size), axis=1)\n",
      "0.0019669532775878906 : df_labels = df_frame_orig.voxel_id.isin(df_subtracted_frame.voxel_id)\n",
      "(8, 5)\n",
      "(22, 5)\n",
      "0.1850109100341797 : df_frame_orig_subtracted = df_frame_orig[df_labels]\n",
      "(154, 5)\n",
      "file_labels: voxelling_output/submission_files/test_vid_19_pred__final/0000220_labels.csv\n",
      "0.09973549842834473 : df_labels.to_csv(pickles_path+\"df_labels__frame_%d__%s__voxel_size_%d_(%d,%d,%d).p\"%(frame_idx, vid, voxel_size, n_frames_per_side, shift, n_frames_per_side))\n",
      "154\n",
      "0.001972198486328125 : save_frame_for_movie(df_frame_orig_subtracted, \"tmp_only_labeled/\", all_files, frame_idx)\n"
     ]
    },
    {
     "name": "stderr",
     "output_type": "stream",
     "text": [
      "\r",
      " 22%|██████████████████████████████████▋                                                                                                                          | 221/1000 [26:52<1:34:43,  7.30s/it]"
     ]
    },
    {
     "name": "stdout",
     "output_type": "stream",
     "text": [
      "=========================================================================\n",
      "frame_idx = 221\n",
      "=========================================================================\n",
      "0.0009982585906982422 : list_idx = get_list_idx_for_frame(frame_idx, n_frames_per_side, shift)\n",
      "8.620540618896484 : df_subtracted_frame = get_df_voxel_subtracted_frame(list_df_voxel_scene, frame_idx, n_frames_per_side, shift)\n",
      "1.3530504703521729 : df_frame_orig['voxel_id'] =  df_frame_orig.apply(lambda x: point_to_voxel(x, voxel_size), axis=1)\n",
      "0.001995086669921875 : df_labels = df_frame_orig.voxel_id.isin(df_subtracted_frame.voxel_id)\n",
      "(5, 5)\n",
      "(19, 5)\n",
      "0.17829608917236328 : df_frame_orig_subtracted = df_frame_orig[df_labels]\n",
      "(143, 5)\n",
      "file_labels: voxelling_output/submission_files/test_vid_19_pred__final/0000221_labels.csv\n",
      "0.10126543045043945 : df_labels.to_csv(pickles_path+\"df_labels__frame_%d__%s__voxel_size_%d_(%d,%d,%d).p\"%(frame_idx, vid, voxel_size, n_frames_per_side, shift, n_frames_per_side))\n",
      "143\n",
      "0.002992391586303711 : save_frame_for_movie(df_frame_orig_subtracted, \"tmp_only_labeled/\", all_files, frame_idx)\n"
     ]
    },
    {
     "name": "stderr",
     "output_type": "stream",
     "text": [
      "\r",
      " 22%|██████████████████████████████████▊                                                                                                                          | 222/1000 [27:02<1:34:46,  7.31s/it]"
     ]
    },
    {
     "name": "stdout",
     "output_type": "stream",
     "text": [
      "=========================================================================\n",
      "frame_idx = 222\n",
      "=========================================================================\n",
      "0.0 : list_idx = get_list_idx_for_frame(frame_idx, n_frames_per_side, shift)\n",
      "8.62589955329895 : df_subtracted_frame = get_df_voxel_subtracted_frame(list_df_voxel_scene, frame_idx, n_frames_per_side, shift)\n",
      "1.337022066116333 : df_frame_orig['voxel_id'] =  df_frame_orig.apply(lambda x: point_to_voxel(x, voxel_size), axis=1)\n",
      "0.001993417739868164 : df_labels = df_frame_orig.voxel_id.isin(df_subtracted_frame.voxel_id)\n",
      "(5, 5)\n",
      "(15, 5)\n",
      "0.17954516410827637 : df_frame_orig_subtracted = df_frame_orig[df_labels]\n",
      "(130, 5)\n",
      "file_labels: voxelling_output/submission_files/test_vid_19_pred__final/0000222_labels.csv\n",
      "0.09975385665893555 : df_labels.to_csv(pickles_path+\"df_labels__frame_%d__%s__voxel_size_%d_(%d,%d,%d).p\"%(frame_idx, vid, voxel_size, n_frames_per_side, shift, n_frames_per_side))\n",
      "130\n",
      "0.0029821395874023438 : save_frame_for_movie(df_frame_orig_subtracted, \"tmp_only_labeled/\", all_files, frame_idx)\n"
     ]
    },
    {
     "name": "stderr",
     "output_type": "stream",
     "text": [
      "\r",
      " 22%|███████████████████████████████████                                                                                                                          | 223/1000 [27:13<1:34:50,  7.32s/it]"
     ]
    },
    {
     "name": "stdout",
     "output_type": "stream",
     "text": [
      "=========================================================================\n",
      "frame_idx = 223\n",
      "=========================================================================\n",
      "0.0009982585906982422 : list_idx = get_list_idx_for_frame(frame_idx, n_frames_per_side, shift)\n",
      "8.693780422210693 : df_subtracted_frame = get_df_voxel_subtracted_frame(list_df_voxel_scene, frame_idx, n_frames_per_side, shift)\n",
      "1.3396117687225342 : df_frame_orig['voxel_id'] =  df_frame_orig.apply(lambda x: point_to_voxel(x, voxel_size), axis=1)\n",
      "0.0019998550415039062 : df_labels = df_frame_orig.voxel_id.isin(df_subtracted_frame.voxel_id)\n",
      "(7, 5)\n",
      "(17, 5)\n",
      "0.1799638271331787 : df_frame_orig_subtracted = df_frame_orig[df_labels]\n",
      "(126, 5)\n",
      "file_labels: voxelling_output/submission_files/test_vid_19_pred__final/0000223_labels.csv\n",
      "0.09565091133117676 : df_labels.to_csv(pickles_path+\"df_labels__frame_%d__%s__voxel_size_%d_(%d,%d,%d).p\"%(frame_idx, vid, voxel_size, n_frames_per_side, shift, n_frames_per_side))\n",
      "126\n",
      "0.0039904117584228516 : save_frame_for_movie(df_frame_orig_subtracted, \"tmp_only_labeled/\", all_files, frame_idx)\n"
     ]
    },
    {
     "name": "stderr",
     "output_type": "stream",
     "text": [
      "\r",
      " 22%|███████████████████████████████████▏                                                                                                                         | 224/1000 [27:23<1:34:53,  7.34s/it]"
     ]
    },
    {
     "name": "stdout",
     "output_type": "stream",
     "text": [
      "=========================================================================\n",
      "frame_idx = 224\n",
      "=========================================================================\n",
      "0.0 : list_idx = get_list_idx_for_frame(frame_idx, n_frames_per_side, shift)\n",
      "8.71526026725769 : df_subtracted_frame = get_df_voxel_subtracted_frame(list_df_voxel_scene, frame_idx, n_frames_per_side, shift)\n",
      "1.3292460441589355 : df_frame_orig['voxel_id'] =  df_frame_orig.apply(lambda x: point_to_voxel(x, voxel_size), axis=1)\n",
      "0.001003265380859375 : df_labels = df_frame_orig.voxel_id.isin(df_subtracted_frame.voxel_id)\n",
      "(5, 5)\n",
      "(21, 5)\n",
      "0.17803597450256348 : df_frame_orig_subtracted = df_frame_orig[df_labels]\n",
      "(127, 5)\n",
      "file_labels: voxelling_output/submission_files/test_vid_19_pred__final/0000224_labels.csv\n",
      "0.09776878356933594 : df_labels.to_csv(pickles_path+\"df_labels__frame_%d__%s__voxel_size_%d_(%d,%d,%d).p\"%(frame_idx, vid, voxel_size, n_frames_per_side, shift, n_frames_per_side))\n",
      "127\n",
      "0.003000497817993164 : save_frame_for_movie(df_frame_orig_subtracted, \"tmp_only_labeled/\", all_files, frame_idx)\n"
     ]
    },
    {
     "name": "stderr",
     "output_type": "stream",
     "text": [
      "\r",
      " 22%|███████████████████████████████████▎                                                                                                                         | 225/1000 [27:33<1:34:56,  7.35s/it]"
     ]
    },
    {
     "name": "stdout",
     "output_type": "stream",
     "text": [
      "=========================================================================\n",
      "frame_idx = 225\n",
      "=========================================================================\n",
      "0.0 : list_idx = get_list_idx_for_frame(frame_idx, n_frames_per_side, shift)\n",
      "8.859886884689331 : df_subtracted_frame = get_df_voxel_subtracted_frame(list_df_voxel_scene, frame_idx, n_frames_per_side, shift)\n",
      "1.337477207183838 : df_frame_orig['voxel_id'] =  df_frame_orig.apply(lambda x: point_to_voxel(x, voxel_size), axis=1)\n",
      "0.0010209083557128906 : df_labels = df_frame_orig.voxel_id.isin(df_subtracted_frame.voxel_id)\n",
      "(10, 5)\n",
      "(15, 5)\n",
      "0.17955398559570312 : df_frame_orig_subtracted = df_frame_orig[df_labels]\n",
      "(139, 5)\n",
      "file_labels: voxelling_output/submission_files/test_vid_19_pred__final/0000225_labels.csv\n",
      "0.09673690795898438 : df_labels.to_csv(pickles_path+\"df_labels__frame_%d__%s__voxel_size_%d_(%d,%d,%d).p\"%(frame_idx, vid, voxel_size, n_frames_per_side, shift, n_frames_per_side))\n",
      "139\n",
      "0.002989530563354492 : save_frame_for_movie(df_frame_orig_subtracted, \"tmp_only_labeled/\", all_files, frame_idx)\n"
     ]
    },
    {
     "name": "stderr",
     "output_type": "stream",
     "text": [
      "\r",
      " 23%|███████████████████████████████████▍                                                                                                                         | 226/1000 [27:44<1:34:59,  7.36s/it]"
     ]
    },
    {
     "name": "stdout",
     "output_type": "stream",
     "text": [
      "=========================================================================\n",
      "frame_idx = 226\n",
      "=========================================================================\n",
      "0.0009965896606445312 : list_idx = get_list_idx_for_frame(frame_idx, n_frames_per_side, shift)\n",
      "8.833927869796753 : df_subtracted_frame = get_df_voxel_subtracted_frame(list_df_voxel_scene, frame_idx, n_frames_per_side, shift)\n",
      "1.3443148136138916 : df_frame_orig['voxel_id'] =  df_frame_orig.apply(lambda x: point_to_voxel(x, voxel_size), axis=1)\n",
      "0.0019931793212890625 : df_labels = df_frame_orig.voxel_id.isin(df_subtracted_frame.voxel_id)\n",
      "(12, 5)\n",
      "(6, 5)\n",
      "0.176560640335083 : df_frame_orig_subtracted = df_frame_orig[df_labels]\n",
      "(151, 5)\n",
      "file_labels: voxelling_output/submission_files/test_vid_19_pred__final/0000226_labels.csv\n",
      "0.09710216522216797 : df_labels.to_csv(pickles_path+\"df_labels__frame_%d__%s__voxel_size_%d_(%d,%d,%d).p\"%(frame_idx, vid, voxel_size, n_frames_per_side, shift, n_frames_per_side))\n",
      "151\n",
      "0.001994609832763672 : save_frame_for_movie(df_frame_orig_subtracted, \"tmp_only_labeled/\", all_files, frame_idx)\n"
     ]
    },
    {
     "name": "stderr",
     "output_type": "stream",
     "text": [
      "\r",
      " 23%|███████████████████████████████████▋                                                                                                                         | 227/1000 [27:54<1:35:02,  7.38s/it]"
     ]
    },
    {
     "name": "stdout",
     "output_type": "stream",
     "text": [
      "=========================================================================\n",
      "frame_idx = 227\n",
      "=========================================================================\n",
      "0.0 : list_idx = get_list_idx_for_frame(frame_idx, n_frames_per_side, shift)\n",
      "8.909876823425293 : df_subtracted_frame = get_df_voxel_subtracted_frame(list_df_voxel_scene, frame_idx, n_frames_per_side, shift)\n",
      "1.331376314163208 : df_frame_orig['voxel_id'] =  df_frame_orig.apply(lambda x: point_to_voxel(x, voxel_size), axis=1)\n",
      "0.0019969940185546875 : df_labels = df_frame_orig.voxel_id.isin(df_subtracted_frame.voxel_id)\n",
      "(11, 5)\n",
      "(10, 5)\n",
      "0.17951440811157227 : df_frame_orig_subtracted = df_frame_orig[df_labels]\n",
      "(156, 5)\n",
      "file_labels: voxelling_output/submission_files/test_vid_19_pred__final/0000227_labels.csv\n",
      "0.09676122665405273 : df_labels.to_csv(pickles_path+\"df_labels__frame_%d__%s__voxel_size_%d_(%d,%d,%d).p\"%(frame_idx, vid, voxel_size, n_frames_per_side, shift, n_frames_per_side))\n",
      "156\n",
      "0.0019941329956054688 : save_frame_for_movie(df_frame_orig_subtracted, \"tmp_only_labeled/\", all_files, frame_idx)\n"
     ]
    },
    {
     "name": "stderr",
     "output_type": "stream",
     "text": [
      "\r",
      " 23%|███████████████████████████████████▊                                                                                                                         | 228/1000 [28:05<1:35:06,  7.39s/it]"
     ]
    },
    {
     "name": "stdout",
     "output_type": "stream",
     "text": [
      "=========================================================================\n",
      "frame_idx = 228\n",
      "=========================================================================\n",
      "0.0 : list_idx = get_list_idx_for_frame(frame_idx, n_frames_per_side, shift)\n",
      "9.066142320632935 : df_subtracted_frame = get_df_voxel_subtracted_frame(list_df_voxel_scene, frame_idx, n_frames_per_side, shift)\n",
      "1.3349170684814453 : df_frame_orig['voxel_id'] =  df_frame_orig.apply(lambda x: point_to_voxel(x, voxel_size), axis=1)\n",
      "0.0009884834289550781 : df_labels = df_frame_orig.voxel_id.isin(df_subtracted_frame.voxel_id)\n",
      "(7, 5)\n",
      "(9, 5)\n",
      "0.18559694290161133 : df_frame_orig_subtracted = df_frame_orig[df_labels]\n",
      "(171, 5)\n",
      "file_labels: voxelling_output/submission_files/test_vid_19_pred__final/0000228_labels.csv\n",
      "0.09526515007019043 : df_labels.to_csv(pickles_path+\"df_labels__frame_%d__%s__voxel_size_%d_(%d,%d,%d).p\"%(frame_idx, vid, voxel_size, n_frames_per_side, shift, n_frames_per_side))\n",
      "171\n",
      "0.0029931068420410156 : save_frame_for_movie(df_frame_orig_subtracted, \"tmp_only_labeled/\", all_files, frame_idx)\n"
     ]
    },
    {
     "name": "stderr",
     "output_type": "stream",
     "text": [
      "\r",
      " 23%|███████████████████████████████████▉                                                                                                                         | 229/1000 [28:15<1:35:10,  7.41s/it]"
     ]
    },
    {
     "name": "stdout",
     "output_type": "stream",
     "text": [
      "=========================================================================\n",
      "frame_idx = 229\n",
      "=========================================================================\n",
      "0.0 : list_idx = get_list_idx_for_frame(frame_idx, n_frames_per_side, shift)\n",
      "9.00167441368103 : df_subtracted_frame = get_df_voxel_subtracted_frame(list_df_voxel_scene, frame_idx, n_frames_per_side, shift)\n",
      "1.3424103260040283 : df_frame_orig['voxel_id'] =  df_frame_orig.apply(lambda x: point_to_voxel(x, voxel_size), axis=1)\n",
      "0.001996755599975586 : df_labels = df_frame_orig.voxel_id.isin(df_subtracted_frame.voxel_id)\n",
      "(10, 5)\n",
      "(4, 5)\n",
      "0.18147730827331543 : df_frame_orig_subtracted = df_frame_orig[df_labels]\n",
      "(166, 5)\n",
      "file_labels: voxelling_output/submission_files/test_vid_19_pred__final/0000229_labels.csv\n",
      "0.09376287460327148 : df_labels.to_csv(pickles_path+\"df_labels__frame_%d__%s__voxel_size_%d_(%d,%d,%d).p\"%(frame_idx, vid, voxel_size, n_frames_per_side, shift, n_frames_per_side))\n",
      "166\n",
      "0.0029997825622558594 : save_frame_for_movie(df_frame_orig_subtracted, \"tmp_only_labeled/\", all_files, frame_idx)\n"
     ]
    },
    {
     "name": "stderr",
     "output_type": "stream",
     "text": [
      "\r",
      " 23%|████████████████████████████████████                                                                                                                         | 230/1000 [28:26<1:35:13,  7.42s/it]"
     ]
    },
    {
     "name": "stdout",
     "output_type": "stream",
     "text": [
      "=========================================================================\n",
      "frame_idx = 230\n",
      "=========================================================================\n",
      "0.0 : list_idx = get_list_idx_for_frame(frame_idx, n_frames_per_side, shift)\n",
      "9.095067977905273 : df_subtracted_frame = get_df_voxel_subtracted_frame(list_df_voxel_scene, frame_idx, n_frames_per_side, shift)\n",
      "1.3417799472808838 : df_frame_orig['voxel_id'] =  df_frame_orig.apply(lambda x: point_to_voxel(x, voxel_size), axis=1)\n",
      "0.000997781753540039 : df_labels = df_frame_orig.voxel_id.isin(df_subtracted_frame.voxel_id)\n",
      "(9, 5)\n",
      "(7, 5)\n",
      "0.17857027053833008 : df_frame_orig_subtracted = df_frame_orig[df_labels]\n",
      "(159, 5)\n",
      "file_labels: voxelling_output/submission_files/test_vid_19_pred__final/0000230_labels.csv\n",
      "0.08897185325622559 : df_labels.to_csv(pickles_path+\"df_labels__frame_%d__%s__voxel_size_%d_(%d,%d,%d).p\"%(frame_idx, vid, voxel_size, n_frames_per_side, shift, n_frames_per_side))\n",
      "159\n",
      "0.002995729446411133 : save_frame_for_movie(df_frame_orig_subtracted, \"tmp_only_labeled/\", all_files, frame_idx)\n"
     ]
    },
    {
     "name": "stderr",
     "output_type": "stream",
     "text": [
      "\r",
      " 23%|████████████████████████████████████▎                                                                                                                        | 231/1000 [28:37<1:35:17,  7.43s/it]"
     ]
    },
    {
     "name": "stdout",
     "output_type": "stream",
     "text": [
      "=========================================================================\n",
      "frame_idx = 231\n",
      "=========================================================================\n",
      "0.0009975433349609375 : list_idx = get_list_idx_for_frame(frame_idx, n_frames_per_side, shift)\n",
      "9.103458642959595 : df_subtracted_frame = get_df_voxel_subtracted_frame(list_df_voxel_scene, frame_idx, n_frames_per_side, shift)\n",
      "1.3376872539520264 : df_frame_orig['voxel_id'] =  df_frame_orig.apply(lambda x: point_to_voxel(x, voxel_size), axis=1)\n",
      "0.0009975433349609375 : df_labels = df_frame_orig.voxel_id.isin(df_subtracted_frame.voxel_id)\n",
      "(5, 5)\n",
      "(6, 5)\n",
      "0.17905259132385254 : df_frame_orig_subtracted = df_frame_orig[df_labels]\n",
      "(159, 5)\n",
      "file_labels: voxelling_output/submission_files/test_vid_19_pred__final/0000231_labels.csv\n",
      "0.0943148136138916 : df_labels.to_csv(pickles_path+\"df_labels__frame_%d__%s__voxel_size_%d_(%d,%d,%d).p\"%(frame_idx, vid, voxel_size, n_frames_per_side, shift, n_frames_per_side))\n",
      "159\n",
      "0.0019834041595458984 : save_frame_for_movie(df_frame_orig_subtracted, \"tmp_only_labeled/\", all_files, frame_idx)\n"
     ]
    },
    {
     "name": "stderr",
     "output_type": "stream",
     "text": [
      "\r",
      " 23%|████████████████████████████████████▍                                                                                                                        | 232/1000 [28:48<1:35:20,  7.45s/it]"
     ]
    },
    {
     "name": "stdout",
     "output_type": "stream",
     "text": [
      "=========================================================================\n",
      "frame_idx = 232\n",
      "=========================================================================\n",
      "0.0 : list_idx = get_list_idx_for_frame(frame_idx, n_frames_per_side, shift)\n",
      "9.216451168060303 : df_subtracted_frame = get_df_voxel_subtracted_frame(list_df_voxel_scene, frame_idx, n_frames_per_side, shift)\n",
      "1.3451435565948486 : df_frame_orig['voxel_id'] =  df_frame_orig.apply(lambda x: point_to_voxel(x, voxel_size), axis=1)\n",
      "0.0009853839874267578 : df_labels = df_frame_orig.voxel_id.isin(df_subtracted_frame.voxel_id)\n",
      "(4, 5)\n",
      "(4, 5)\n",
      "0.1836254596710205 : df_frame_orig_subtracted = df_frame_orig[df_labels]\n",
      "(181, 5)\n",
      "file_labels: voxelling_output/submission_files/test_vid_19_pred__final/0000232_labels.csv\n",
      "0.09378862380981445 : df_labels.to_csv(pickles_path+\"df_labels__frame_%d__%s__voxel_size_%d_(%d,%d,%d).p\"%(frame_idx, vid, voxel_size, n_frames_per_side, shift, n_frames_per_side))\n",
      "181\n",
      "0.002010345458984375 : save_frame_for_movie(df_frame_orig_subtracted, \"tmp_only_labeled/\", all_files, frame_idx)\n"
     ]
    },
    {
     "name": "stderr",
     "output_type": "stream",
     "text": [
      "\r",
      " 23%|████████████████████████████████████▌                                                                                                                        | 233/1000 [28:58<1:35:24,  7.46s/it]"
     ]
    },
    {
     "name": "stdout",
     "output_type": "stream",
     "text": [
      "=========================================================================\n",
      "frame_idx = 233\n",
      "=========================================================================\n",
      "0.0009984970092773438 : list_idx = get_list_idx_for_frame(frame_idx, n_frames_per_side, shift)\n",
      "9.277855157852173 : df_subtracted_frame = get_df_voxel_subtracted_frame(list_df_voxel_scene, frame_idx, n_frames_per_side, shift)\n",
      "1.3446681499481201 : df_frame_orig['voxel_id'] =  df_frame_orig.apply(lambda x: point_to_voxel(x, voxel_size), axis=1)\n",
      "0.0009968280792236328 : df_labels = df_frame_orig.voxel_id.isin(df_subtracted_frame.voxel_id)\n",
      "(9, 5)\n",
      "(6, 5)\n",
      "0.18253135681152344 : df_frame_orig_subtracted = df_frame_orig[df_labels]\n",
      "(205, 5)\n",
      "file_labels: voxelling_output/submission_files/test_vid_19_pred__final/0000233_labels.csv\n",
      "0.09501767158508301 : df_labels.to_csv(pickles_path+\"df_labels__frame_%d__%s__voxel_size_%d_(%d,%d,%d).p\"%(frame_idx, vid, voxel_size, n_frames_per_side, shift, n_frames_per_side))\n",
      "205\n",
      "0.003989696502685547 : save_frame_for_movie(df_frame_orig_subtracted, \"tmp_only_labeled/\", all_files, frame_idx)\n"
     ]
    },
    {
     "name": "stderr",
     "output_type": "stream",
     "text": [
      "\r",
      " 23%|████████████████████████████████████▋                                                                                                                        | 234/1000 [29:09<1:35:28,  7.48s/it]"
     ]
    },
    {
     "name": "stdout",
     "output_type": "stream",
     "text": [
      "=========================================================================\n",
      "frame_idx = 234\n",
      "=========================================================================\n",
      "0.000997304916381836 : list_idx = get_list_idx_for_frame(frame_idx, n_frames_per_side, shift)\n",
      "9.21052622795105 : df_subtracted_frame = get_df_voxel_subtracted_frame(list_df_voxel_scene, frame_idx, n_frames_per_side, shift)\n",
      "1.325535535812378 : df_frame_orig['voxel_id'] =  df_frame_orig.apply(lambda x: point_to_voxel(x, voxel_size), axis=1)\n",
      "0.001996278762817383 : df_labels = df_frame_orig.voxel_id.isin(df_subtracted_frame.voxel_id)\n",
      "(5, 5)\n",
      "(3, 5)\n",
      "0.1795063018798828 : df_frame_orig_subtracted = df_frame_orig[df_labels]\n",
      "(199, 5)\n",
      "file_labels: voxelling_output/submission_files/test_vid_19_pred__final/0000234_labels.csv\n",
      "0.09924983978271484 : df_labels.to_csv(pickles_path+\"df_labels__frame_%d__%s__voxel_size_%d_(%d,%d,%d).p\"%(frame_idx, vid, voxel_size, n_frames_per_side, shift, n_frames_per_side))\n",
      "199\n",
      "0.002992868423461914 : save_frame_for_movie(df_frame_orig_subtracted, \"tmp_only_labeled/\", all_files, frame_idx)\n"
     ]
    },
    {
     "name": "stderr",
     "output_type": "stream",
     "text": [
      "\r",
      " 24%|████████████████████████████████████▉                                                                                                                        | 235/1000 [29:20<1:35:31,  7.49s/it]"
     ]
    },
    {
     "name": "stdout",
     "output_type": "stream",
     "text": [
      "=========================================================================\n",
      "frame_idx = 235\n",
      "=========================================================================\n",
      "0.0 : list_idx = get_list_idx_for_frame(frame_idx, n_frames_per_side, shift)\n",
      "9.34304141998291 : df_subtracted_frame = get_df_voxel_subtracted_frame(list_df_voxel_scene, frame_idx, n_frames_per_side, shift)\n",
      "1.3240172863006592 : df_frame_orig['voxel_id'] =  df_frame_orig.apply(lambda x: point_to_voxel(x, voxel_size), axis=1)\n",
      "0.0019941329956054688 : df_labels = df_frame_orig.voxel_id.isin(df_subtracted_frame.voxel_id)\n",
      "(5, 5)\n",
      "(43, 5)\n",
      "0.17855310440063477 : df_frame_orig_subtracted = df_frame_orig[df_labels]\n",
      "(184, 5)\n",
      "file_labels: voxelling_output/submission_files/test_vid_19_pred__final/0000235_labels.csv\n",
      "0.09673833847045898 : df_labels.to_csv(pickles_path+\"df_labels__frame_%d__%s__voxel_size_%d_(%d,%d,%d).p\"%(frame_idx, vid, voxel_size, n_frames_per_side, shift, n_frames_per_side))\n",
      "184\n",
      "0.003989219665527344 : save_frame_for_movie(df_frame_orig_subtracted, \"tmp_only_labeled/\", all_files, frame_idx)\n"
     ]
    },
    {
     "name": "stderr",
     "output_type": "stream",
     "text": [
      "\r",
      " 24%|█████████████████████████████████████                                                                                                                        | 236/1000 [29:31<1:35:35,  7.51s/it]"
     ]
    },
    {
     "name": "stdout",
     "output_type": "stream",
     "text": [
      "=========================================================================\n",
      "frame_idx = 236\n",
      "=========================================================================\n",
      "0.0 : list_idx = get_list_idx_for_frame(frame_idx, n_frames_per_side, shift)\n",
      "9.367090225219727 : df_subtracted_frame = get_df_voxel_subtracted_frame(list_df_voxel_scene, frame_idx, n_frames_per_side, shift)\n",
      "1.3209383487701416 : df_frame_orig['voxel_id'] =  df_frame_orig.apply(lambda x: point_to_voxel(x, voxel_size), axis=1)\n",
      "0.0019922256469726562 : df_labels = df_frame_orig.voxel_id.isin(df_subtracted_frame.voxel_id)\n",
      "(6, 5)\n",
      "(31, 5)\n",
      "0.17809486389160156 : df_frame_orig_subtracted = df_frame_orig[df_labels]\n",
      "(179, 5)\n",
      "file_labels: voxelling_output/submission_files/test_vid_19_pred__final/0000236_labels.csv\n",
      "0.09235477447509766 : df_labels.to_csv(pickles_path+\"df_labels__frame_%d__%s__voxel_size_%d_(%d,%d,%d).p\"%(frame_idx, vid, voxel_size, n_frames_per_side, shift, n_frames_per_side))\n",
      "179\n",
      "0.004990577697753906 : save_frame_for_movie(df_frame_orig_subtracted, \"tmp_only_labeled/\", all_files, frame_idx)\n"
     ]
    },
    {
     "name": "stderr",
     "output_type": "stream",
     "text": [
      "\r",
      " 24%|█████████████████████████████████████▏                                                                                                                       | 237/1000 [29:42<1:35:39,  7.52s/it]"
     ]
    },
    {
     "name": "stdout",
     "output_type": "stream",
     "text": [
      "=========================================================================\n",
      "frame_idx = 237\n",
      "=========================================================================\n",
      "0.0009942054748535156 : list_idx = get_list_idx_for_frame(frame_idx, n_frames_per_side, shift)\n",
      "9.43191409111023 : df_subtracted_frame = get_df_voxel_subtracted_frame(list_df_voxel_scene, frame_idx, n_frames_per_side, shift)\n",
      "1.3307099342346191 : df_frame_orig['voxel_id'] =  df_frame_orig.apply(lambda x: point_to_voxel(x, voxel_size), axis=1)\n",
      "0.0009729862213134766 : df_labels = df_frame_orig.voxel_id.isin(df_subtracted_frame.voxel_id)\n",
      "(7, 5)\n",
      "(46, 5)\n",
      "0.18000316619873047 : df_frame_orig_subtracted = df_frame_orig[df_labels]\n",
      "(188, 5)\n",
      "file_labels: voxelling_output/submission_files/test_vid_19_pred__final/0000237_labels.csv\n",
      "0.1012418270111084 : df_labels.to_csv(pickles_path+\"df_labels__frame_%d__%s__voxel_size_%d_(%d,%d,%d).p\"%(frame_idx, vid, voxel_size, n_frames_per_side, shift, n_frames_per_side))\n",
      "188\n",
      "0.0029697418212890625 : save_frame_for_movie(df_frame_orig_subtracted, \"tmp_only_labeled/\", all_files, frame_idx)\n"
     ]
    },
    {
     "name": "stderr",
     "output_type": "stream",
     "text": [
      "\r",
      " 24%|█████████████████████████████████████▎                                                                                                                       | 238/1000 [29:53<1:35:43,  7.54s/it]"
     ]
    },
    {
     "name": "stdout",
     "output_type": "stream",
     "text": [
      "=========================================================================\n",
      "frame_idx = 238\n",
      "=========================================================================\n",
      "0.0 : list_idx = get_list_idx_for_frame(frame_idx, n_frames_per_side, shift)\n",
      "9.512123107910156 : df_subtracted_frame = get_df_voxel_subtracted_frame(list_df_voxel_scene, frame_idx, n_frames_per_side, shift)\n",
      "1.3108327388763428 : df_frame_orig['voxel_id'] =  df_frame_orig.apply(lambda x: point_to_voxel(x, voxel_size), axis=1)\n",
      "0.0010077953338623047 : df_labels = df_frame_orig.voxel_id.isin(df_subtracted_frame.voxel_id)\n",
      "(8, 5)\n",
      "(26, 5)\n",
      "0.1865072250366211 : df_frame_orig_subtracted = df_frame_orig[df_labels]\n",
      "(223, 5)\n",
      "file_labels: voxelling_output/submission_files/test_vid_19_pred__final/0000238_labels.csv\n",
      "0.09375739097595215 : df_labels.to_csv(pickles_path+\"df_labels__frame_%d__%s__voxel_size_%d_(%d,%d,%d).p\"%(frame_idx, vid, voxel_size, n_frames_per_side, shift, n_frames_per_side))\n",
      "223\n",
      "0.002994537353515625 : save_frame_for_movie(df_frame_orig_subtracted, \"tmp_only_labeled/\", all_files, frame_idx)\n"
     ]
    },
    {
     "name": "stderr",
     "output_type": "stream",
     "text": [
      "\r",
      " 24%|█████████████████████████████████████▌                                                                                                                       | 239/1000 [30:04<1:35:47,  7.55s/it]"
     ]
    },
    {
     "name": "stdout",
     "output_type": "stream",
     "text": [
      "=========================================================================\n",
      "frame_idx = 239\n",
      "=========================================================================\n",
      "0.0 : list_idx = get_list_idx_for_frame(frame_idx, n_frames_per_side, shift)\n",
      "9.808305263519287 : df_subtracted_frame = get_df_voxel_subtracted_frame(list_df_voxel_scene, frame_idx, n_frames_per_side, shift)\n",
      "1.3112084865570068 : df_frame_orig['voxel_id'] =  df_frame_orig.apply(lambda x: point_to_voxel(x, voxel_size), axis=1)\n",
      "0.0009965896606445312 : df_labels = df_frame_orig.voxel_id.isin(df_subtracted_frame.voxel_id)\n",
      "(7, 5)\n",
      "(30, 5)\n",
      "0.1798698902130127 : df_frame_orig_subtracted = df_frame_orig[df_labels]\n",
      "(244, 5)\n",
      "file_labels: voxelling_output/submission_files/test_vid_19_pred__final/0000239_labels.csv\n",
      "0.10220694541931152 : df_labels.to_csv(pickles_path+\"df_labels__frame_%d__%s__voxel_size_%d_(%d,%d,%d).p\"%(frame_idx, vid, voxel_size, n_frames_per_side, shift, n_frames_per_side))\n",
      "244\n",
      "0.0029926300048828125 : save_frame_for_movie(df_frame_orig_subtracted, \"tmp_only_labeled/\", all_files, frame_idx)\n"
     ]
    },
    {
     "name": "stderr",
     "output_type": "stream",
     "text": [
      "\r",
      " 24%|█████████████████████████████████████▋                                                                                                                       | 240/1000 [30:16<1:35:51,  7.57s/it]"
     ]
    },
    {
     "name": "stdout",
     "output_type": "stream",
     "text": [
      "=========================================================================\n",
      "frame_idx = 240\n",
      "=========================================================================\n",
      "0.0 : list_idx = get_list_idx_for_frame(frame_idx, n_frames_per_side, shift)\n",
      "9.551326751708984 : df_subtracted_frame = get_df_voxel_subtracted_frame(list_df_voxel_scene, frame_idx, n_frames_per_side, shift)\n",
      "1.3424019813537598 : df_frame_orig['voxel_id'] =  df_frame_orig.apply(lambda x: point_to_voxel(x, voxel_size), axis=1)\n",
      "0.002003192901611328 : df_labels = df_frame_orig.voxel_id.isin(df_subtracted_frame.voxel_id)\n",
      "(5, 5)\n",
      "(31, 5)\n",
      "0.17469501495361328 : df_frame_orig_subtracted = df_frame_orig[df_labels]\n",
      "(246, 5)\n",
      "file_labels: voxelling_output/submission_files/test_vid_19_pred__final/0000240_labels.csv\n",
      "0.0930633544921875 : df_labels.to_csv(pickles_path+\"df_labels__frame_%d__%s__voxel_size_%d_(%d,%d,%d).p\"%(frame_idx, vid, voxel_size, n_frames_per_side, shift, n_frames_per_side))\n",
      "246\n",
      "0.003976106643676758 : save_frame_for_movie(df_frame_orig_subtracted, \"tmp_only_labeled/\", all_files, frame_idx)\n"
     ]
    },
    {
     "name": "stderr",
     "output_type": "stream",
     "text": [
      "\r",
      " 24%|█████████████████████████████████████▊                                                                                                                       | 241/1000 [30:27<1:35:55,  7.58s/it]"
     ]
    },
    {
     "name": "stdout",
     "output_type": "stream",
     "text": [
      "=========================================================================\n",
      "frame_idx = 241\n",
      "=========================================================================\n",
      "0.0 : list_idx = get_list_idx_for_frame(frame_idx, n_frames_per_side, shift)\n",
      "9.44132924079895 : df_subtracted_frame = get_df_voxel_subtracted_frame(list_df_voxel_scene, frame_idx, n_frames_per_side, shift)\n",
      "1.3028056621551514 : df_frame_orig['voxel_id'] =  df_frame_orig.apply(lambda x: point_to_voxel(x, voxel_size), axis=1)\n",
      "0.001009225845336914 : df_labels = df_frame_orig.voxel_id.isin(df_subtracted_frame.voxel_id)\n",
      "(5, 5)\n",
      "(32, 5)\n",
      "0.17254853248596191 : df_frame_orig_subtracted = df_frame_orig[df_labels]\n",
      "(269, 5)\n",
      "file_labels: voxelling_output/submission_files/test_vid_19_pred__final/0000241_labels.csv\n",
      "0.08932828903198242 : df_labels.to_csv(pickles_path+\"df_labels__frame_%d__%s__voxel_size_%d_(%d,%d,%d).p\"%(frame_idx, vid, voxel_size, n_frames_per_side, shift, n_frames_per_side))\n",
      "269\n",
      "0.0029878616333007812 : save_frame_for_movie(df_frame_orig_subtracted, \"tmp_only_labeled/\", all_files, frame_idx)\n"
     ]
    },
    {
     "name": "stderr",
     "output_type": "stream",
     "text": [
      "\r",
      " 24%|█████████████████████████████████████▉                                                                                                                       | 242/1000 [30:38<1:35:59,  7.60s/it]"
     ]
    },
    {
     "name": "stdout",
     "output_type": "stream",
     "text": [
      "=========================================================================\n",
      "frame_idx = 242\n",
      "=========================================================================\n",
      "0.0 : list_idx = get_list_idx_for_frame(frame_idx, n_frames_per_side, shift)\n",
      "9.265316247940063 : df_subtracted_frame = get_df_voxel_subtracted_frame(list_df_voxel_scene, frame_idx, n_frames_per_side, shift)\n",
      "1.2793357372283936 : df_frame_orig['voxel_id'] =  df_frame_orig.apply(lambda x: point_to_voxel(x, voxel_size), axis=1)\n",
      "0.0009815692901611328 : df_labels = df_frame_orig.voxel_id.isin(df_subtracted_frame.voxel_id)\n",
      "(5, 5)\n",
      "(30, 5)\n",
      "0.17462420463562012 : df_frame_orig_subtracted = df_frame_orig[df_labels]\n",
      "(294, 5)\n",
      "file_labels: voxelling_output/submission_files/test_vid_19_pred__final/0000242_labels.csv\n",
      "0.0943138599395752 : df_labels.to_csv(pickles_path+\"df_labels__frame_%d__%s__voxel_size_%d_(%d,%d,%d).p\"%(frame_idx, vid, voxel_size, n_frames_per_side, shift, n_frames_per_side))\n",
      "294\n",
      "0.0019872188568115234 : save_frame_for_movie(df_frame_orig_subtracted, \"tmp_only_labeled/\", all_files, frame_idx)\n"
     ]
    },
    {
     "name": "stderr",
     "output_type": "stream",
     "text": [
      "\r",
      " 24%|██████████████████████████████████████▏                                                                                                                      | 243/1000 [30:49<1:36:01,  7.61s/it]"
     ]
    },
    {
     "name": "stdout",
     "output_type": "stream",
     "text": [
      "=========================================================================\n",
      "frame_idx = 243\n",
      "=========================================================================\n",
      "0.0009920597076416016 : list_idx = get_list_idx_for_frame(frame_idx, n_frames_per_side, shift)\n",
      "9.349936962127686 : df_subtracted_frame = get_df_voxel_subtracted_frame(list_df_voxel_scene, frame_idx, n_frames_per_side, shift)\n",
      "1.384474754333496 : df_frame_orig['voxel_id'] =  df_frame_orig.apply(lambda x: point_to_voxel(x, voxel_size), axis=1)\n",
      "0.000997781753540039 : df_labels = df_frame_orig.voxel_id.isin(df_subtracted_frame.voxel_id)\n",
      "(11, 5)\n",
      "(13, 5)\n",
      "0.17215752601623535 : df_frame_orig_subtracted = df_frame_orig[df_labels]\n",
      "(321, 5)\n",
      "file_labels: voxelling_output/submission_files/test_vid_19_pred__final/0000243_labels.csv\n",
      "0.09121036529541016 : df_labels.to_csv(pickles_path+\"df_labels__frame_%d__%s__voxel_size_%d_(%d,%d,%d).p\"%(frame_idx, vid, voxel_size, n_frames_per_side, shift, n_frames_per_side))\n",
      "321\n",
      "0.0029947757720947266 : save_frame_for_movie(df_frame_orig_subtracted, \"tmp_only_labeled/\", all_files, frame_idx)\n"
     ]
    },
    {
     "name": "stderr",
     "output_type": "stream",
     "text": [
      "\r",
      " 24%|██████████████████████████████████████▎                                                                                                                      | 244/1000 [31:00<1:36:04,  7.63s/it]"
     ]
    },
    {
     "name": "stdout",
     "output_type": "stream",
     "text": [
      "=========================================================================\n",
      "frame_idx = 244\n",
      "=========================================================================\n",
      "0.0010020732879638672 : list_idx = get_list_idx_for_frame(frame_idx, n_frames_per_side, shift)\n",
      "9.453976392745972 : df_subtracted_frame = get_df_voxel_subtracted_frame(list_df_voxel_scene, frame_idx, n_frames_per_side, shift)\n",
      "1.2858407497406006 : df_frame_orig['voxel_id'] =  df_frame_orig.apply(lambda x: point_to_voxel(x, voxel_size), axis=1)\n",
      "0.0009970664978027344 : df_labels = df_frame_orig.voxel_id.isin(df_subtracted_frame.voxel_id)\n",
      "(3, 5)\n",
      "(13, 5)\n",
      "0.1735689640045166 : df_frame_orig_subtracted = df_frame_orig[df_labels]\n",
      "(357, 5)\n",
      "file_labels: voxelling_output/submission_files/test_vid_19_pred__final/0000244_labels.csv\n",
      "0.09331655502319336 : df_labels.to_csv(pickles_path+\"df_labels__frame_%d__%s__voxel_size_%d_(%d,%d,%d).p\"%(frame_idx, vid, voxel_size, n_frames_per_side, shift, n_frames_per_side))\n",
      "357\n",
      "0.001979351043701172 : save_frame_for_movie(df_frame_orig_subtracted, \"tmp_only_labeled/\", all_files, frame_idx)\n"
     ]
    },
    {
     "name": "stderr",
     "output_type": "stream",
     "text": [
      "\r",
      " 24%|██████████████████████████████████████▍                                                                                                                      | 245/1000 [31:11<1:36:07,  7.64s/it]"
     ]
    },
    {
     "name": "stdout",
     "output_type": "stream",
     "text": [
      "=========================================================================\n",
      "frame_idx = 245\n",
      "=========================================================================\n",
      "0.0 : list_idx = get_list_idx_for_frame(frame_idx, n_frames_per_side, shift)\n",
      "9.358485221862793 : df_subtracted_frame = get_df_voxel_subtracted_frame(list_df_voxel_scene, frame_idx, n_frames_per_side, shift)\n",
      "1.3063764572143555 : df_frame_orig['voxel_id'] =  df_frame_orig.apply(lambda x: point_to_voxel(x, voxel_size), axis=1)\n",
      "0.000997304916381836 : df_labels = df_frame_orig.voxel_id.isin(df_subtracted_frame.voxel_id)\n",
      "(13, 5)\n",
      "(48, 5)\n",
      "0.1726830005645752 : df_frame_orig_subtracted = df_frame_orig[df_labels]\n",
      "(341, 5)\n",
      "file_labels: voxelling_output/submission_files/test_vid_19_pred__final/0000245_labels.csv\n",
      "0.09374189376831055 : df_labels.to_csv(pickles_path+\"df_labels__frame_%d__%s__voxel_size_%d_(%d,%d,%d).p\"%(frame_idx, vid, voxel_size, n_frames_per_side, shift, n_frames_per_side))\n",
      "341\n",
      "0.0029854774475097656 : save_frame_for_movie(df_frame_orig_subtracted, \"tmp_only_labeled/\", all_files, frame_idx)\n"
     ]
    },
    {
     "name": "stderr",
     "output_type": "stream",
     "text": [
      "\r",
      " 25%|██████████████████████████████████████▌                                                                                                                      | 246/1000 [31:22<1:36:09,  7.65s/it]"
     ]
    },
    {
     "name": "stdout",
     "output_type": "stream",
     "text": [
      "=========================================================================\n",
      "frame_idx = 246\n",
      "=========================================================================\n",
      "0.0 : list_idx = get_list_idx_for_frame(frame_idx, n_frames_per_side, shift)\n",
      "9.582431316375732 : df_subtracted_frame = get_df_voxel_subtracted_frame(list_df_voxel_scene, frame_idx, n_frames_per_side, shift)\n",
      "1.303612470626831 : df_frame_orig['voxel_id'] =  df_frame_orig.apply(lambda x: point_to_voxel(x, voxel_size), axis=1)\n",
      "0.00196075439453125 : df_labels = df_frame_orig.voxel_id.isin(df_subtracted_frame.voxel_id)\n",
      "(9, 5)\n",
      "(57, 5)\n",
      "0.1800248622894287 : df_frame_orig_subtracted = df_frame_orig[df_labels]\n",
      "(364, 5)\n",
      "file_labels: voxelling_output/submission_files/test_vid_19_pred__final/0000246_labels.csv\n",
      "0.09230756759643555 : df_labels.to_csv(pickles_path+\"df_labels__frame_%d__%s__voxel_size_%d_(%d,%d,%d).p\"%(frame_idx, vid, voxel_size, n_frames_per_side, shift, n_frames_per_side))\n",
      "364\n",
      "0.0019788742065429688 : save_frame_for_movie(df_frame_orig_subtracted, \"tmp_only_labeled/\", all_files, frame_idx)\n"
     ]
    },
    {
     "name": "stderr",
     "output_type": "stream",
     "text": [
      "\r",
      " 25%|██████████████████████████████████████▊                                                                                                                      | 247/1000 [31:33<1:36:13,  7.67s/it]"
     ]
    },
    {
     "name": "stdout",
     "output_type": "stream",
     "text": [
      "=========================================================================\n",
      "frame_idx = 247\n",
      "=========================================================================\n",
      "0.0 : list_idx = get_list_idx_for_frame(frame_idx, n_frames_per_side, shift)\n",
      "9.515602350234985 : df_subtracted_frame = get_df_voxel_subtracted_frame(list_df_voxel_scene, frame_idx, n_frames_per_side, shift)\n",
      "1.3010201454162598 : df_frame_orig['voxel_id'] =  df_frame_orig.apply(lambda x: point_to_voxel(x, voxel_size), axis=1)\n",
      "0.001977682113647461 : df_labels = df_frame_orig.voxel_id.isin(df_subtracted_frame.voxel_id)\n",
      "(10, 5)\n",
      "(48, 5)\n",
      "0.17612695693969727 : df_frame_orig_subtracted = df_frame_orig[df_labels]\n",
      "(429, 5)\n",
      "file_labels: voxelling_output/submission_files/test_vid_19_pred__final/0000247_labels.csv\n",
      "0.08975720405578613 : df_labels.to_csv(pickles_path+\"df_labels__frame_%d__%s__voxel_size_%d_(%d,%d,%d).p\"%(frame_idx, vid, voxel_size, n_frames_per_side, shift, n_frames_per_side))\n",
      "429\n",
      "0.0029904842376708984 : save_frame_for_movie(df_frame_orig_subtracted, \"tmp_only_labeled/\", all_files, frame_idx)\n"
     ]
    },
    {
     "name": "stderr",
     "output_type": "stream",
     "text": [
      "\r",
      " 25%|██████████████████████████████████████▉                                                                                                                      | 248/1000 [31:44<1:36:15,  7.68s/it]"
     ]
    },
    {
     "name": "stdout",
     "output_type": "stream",
     "text": [
      "=========================================================================\n",
      "frame_idx = 248\n",
      "=========================================================================\n",
      "0.0009891986846923828 : list_idx = get_list_idx_for_frame(frame_idx, n_frames_per_side, shift)\n",
      "9.521560192108154 : df_subtracted_frame = get_df_voxel_subtracted_frame(list_df_voxel_scene, frame_idx, n_frames_per_side, shift)\n",
      "1.2833538055419922 : df_frame_orig['voxel_id'] =  df_frame_orig.apply(lambda x: point_to_voxel(x, voxel_size), axis=1)\n",
      "0.001986265182495117 : df_labels = df_frame_orig.voxel_id.isin(df_subtracted_frame.voxel_id)\n",
      "(7, 5)\n",
      "(46, 5)\n",
      "0.17543935775756836 : df_frame_orig_subtracted = df_frame_orig[df_labels]\n",
      "(475, 5)\n",
      "file_labels: voxelling_output/submission_files/test_vid_19_pred__final/0000248_labels.csv\n",
      "0.09374761581420898 : df_labels.to_csv(pickles_path+\"df_labels__frame_%d__%s__voxel_size_%d_(%d,%d,%d).p\"%(frame_idx, vid, voxel_size, n_frames_per_side, shift, n_frames_per_side))\n",
      "475\n",
      "0.002989530563354492 : save_frame_for_movie(df_frame_orig_subtracted, \"tmp_only_labeled/\", all_files, frame_idx)\n"
     ]
    },
    {
     "name": "stderr",
     "output_type": "stream",
     "text": [
      "\r",
      " 25%|███████████████████████████████████████                                                                                                                      | 249/1000 [31:55<1:36:18,  7.69s/it]"
     ]
    },
    {
     "name": "stdout",
     "output_type": "stream",
     "text": [
      "=========================================================================\n",
      "frame_idx = 249\n",
      "=========================================================================\n",
      "0.0 : list_idx = get_list_idx_for_frame(frame_idx, n_frames_per_side, shift)\n",
      "9.653223514556885 : df_subtracted_frame = get_df_voxel_subtracted_frame(list_df_voxel_scene, frame_idx, n_frames_per_side, shift)\n",
      "1.305173397064209 : df_frame_orig['voxel_id'] =  df_frame_orig.apply(lambda x: point_to_voxel(x, voxel_size), axis=1)\n",
      "0.001995563507080078 : df_labels = df_frame_orig.voxel_id.isin(df_subtracted_frame.voxel_id)\n",
      "(5, 5)\n",
      "(54, 5)\n",
      "0.17811250686645508 : df_frame_orig_subtracted = df_frame_orig[df_labels]\n",
      "(448, 5)\n",
      "file_labels: voxelling_output/submission_files/test_vid_19_pred__final/0000249_labels.csv\n",
      "0.09377574920654297 : df_labels.to_csv(pickles_path+\"df_labels__frame_%d__%s__voxel_size_%d_(%d,%d,%d).p\"%(frame_idx, vid, voxel_size, n_frames_per_side, shift, n_frames_per_side))\n",
      "448\n",
      "0.0019960403442382812 : save_frame_for_movie(df_frame_orig_subtracted, \"tmp_only_labeled/\", all_files, frame_idx)\n"
     ]
    },
    {
     "name": "stderr",
     "output_type": "stream",
     "text": [
      "\r",
      " 25%|███████████████████████████████████████▎                                                                                                                     | 250/1000 [32:07<1:36:21,  7.71s/it]"
     ]
    },
    {
     "name": "stdout",
     "output_type": "stream",
     "text": [
      "=========================================================================\n",
      "frame_idx = 250\n",
      "=========================================================================\n",
      "0.0 : list_idx = get_list_idx_for_frame(frame_idx, n_frames_per_side, shift)\n",
      "9.731446981430054 : df_subtracted_frame = get_df_voxel_subtracted_frame(list_df_voxel_scene, frame_idx, n_frames_per_side, shift)\n",
      "1.2902579307556152 : df_frame_orig['voxel_id'] =  df_frame_orig.apply(lambda x: point_to_voxel(x, voxel_size), axis=1)\n",
      "0.0010311603546142578 : df_labels = df_frame_orig.voxel_id.isin(df_subtracted_frame.voxel_id)\n",
      "(11, 5)\n",
      "(65, 5)\n",
      "0.17305493354797363 : df_frame_orig_subtracted = df_frame_orig[df_labels]\n",
      "(457, 5)\n",
      "file_labels: voxelling_output/submission_files/test_vid_19_pred__final/0000250_labels.csv\n",
      "0.09636974334716797 : df_labels.to_csv(pickles_path+\"df_labels__frame_%d__%s__voxel_size_%d_(%d,%d,%d).p\"%(frame_idx, vid, voxel_size, n_frames_per_side, shift, n_frames_per_side))\n",
      "457\n",
      "0.0019783973693847656 : save_frame_for_movie(df_frame_orig_subtracted, \"tmp_only_labeled/\", all_files, frame_idx)\n"
     ]
    },
    {
     "name": "stderr",
     "output_type": "stream",
     "text": [
      "\r",
      " 25%|███████████████████████████████████████▍                                                                                                                     | 251/1000 [32:18<1:36:24,  7.72s/it]"
     ]
    },
    {
     "name": "stdout",
     "output_type": "stream",
     "text": [
      "=========================================================================\n",
      "frame_idx = 251\n",
      "=========================================================================\n",
      "0.0 : list_idx = get_list_idx_for_frame(frame_idx, n_frames_per_side, shift)\n",
      "9.755319356918335 : df_subtracted_frame = get_df_voxel_subtracted_frame(list_df_voxel_scene, frame_idx, n_frames_per_side, shift)\n",
      "1.312614917755127 : df_frame_orig['voxel_id'] =  df_frame_orig.apply(lambda x: point_to_voxel(x, voxel_size), axis=1)\n",
      "0.0009970664978027344 : df_labels = df_frame_orig.voxel_id.isin(df_subtracted_frame.voxel_id)\n",
      "(4, 5)\n",
      "(66, 5)\n",
      "0.17655324935913086 : df_frame_orig_subtracted = df_frame_orig[df_labels]\n",
      "(529, 5)\n",
      "file_labels: voxelling_output/submission_files/test_vid_19_pred__final/0000251_labels.csv\n",
      "0.09075260162353516 : df_labels.to_csv(pickles_path+\"df_labels__frame_%d__%s__voxel_size_%d_(%d,%d,%d).p\"%(frame_idx, vid, voxel_size, n_frames_per_side, shift, n_frames_per_side))\n",
      "529\n",
      "0.003003358840942383 : save_frame_for_movie(df_frame_orig_subtracted, \"tmp_only_labeled/\", all_files, frame_idx)\n"
     ]
    },
    {
     "name": "stderr",
     "output_type": "stream",
     "text": [
      "\r",
      " 25%|███████████████████████████████████████▌                                                                                                                     | 252/1000 [32:29<1:36:27,  7.74s/it]"
     ]
    },
    {
     "name": "stdout",
     "output_type": "stream",
     "text": [
      "=========================================================================\n",
      "frame_idx = 252\n",
      "=========================================================================\n",
      "0.0 : list_idx = get_list_idx_for_frame(frame_idx, n_frames_per_side, shift)\n",
      "9.76286268234253 : df_subtracted_frame = get_df_voxel_subtracted_frame(list_df_voxel_scene, frame_idx, n_frames_per_side, shift)\n",
      "1.2834100723266602 : df_frame_orig['voxel_id'] =  df_frame_orig.apply(lambda x: point_to_voxel(x, voxel_size), axis=1)\n",
      "0.000997304916381836 : df_labels = df_frame_orig.voxel_id.isin(df_subtracted_frame.voxel_id)\n",
      "(10, 5)\n",
      "(72, 5)\n",
      "0.17860817909240723 : df_frame_orig_subtracted = df_frame_orig[df_labels]\n",
      "(546, 5)\n",
      "file_labels: voxelling_output/submission_files/test_vid_19_pred__final/0000252_labels.csv\n",
      "0.09176492691040039 : df_labels.to_csv(pickles_path+\"df_labels__frame_%d__%s__voxel_size_%d_(%d,%d,%d).p\"%(frame_idx, vid, voxel_size, n_frames_per_side, shift, n_frames_per_side))\n",
      "546\n",
      "0.0029931068420410156 : save_frame_for_movie(df_frame_orig_subtracted, \"tmp_only_labeled/\", all_files, frame_idx)\n"
     ]
    },
    {
     "name": "stderr",
     "output_type": "stream",
     "text": [
      "\r",
      " 25%|███████████████████████████████████████▋                                                                                                                     | 253/1000 [32:41<1:36:30,  7.75s/it]"
     ]
    },
    {
     "name": "stdout",
     "output_type": "stream",
     "text": [
      "=========================================================================\n",
      "frame_idx = 253\n",
      "=========================================================================\n",
      "0.0009987354278564453 : list_idx = get_list_idx_for_frame(frame_idx, n_frames_per_side, shift)\n",
      "9.719313859939575 : df_subtracted_frame = get_df_voxel_subtracted_frame(list_df_voxel_scene, frame_idx, n_frames_per_side, shift)\n",
      "1.2818567752838135 : df_frame_orig['voxel_id'] =  df_frame_orig.apply(lambda x: point_to_voxel(x, voxel_size), axis=1)\n",
      "0.0009636878967285156 : df_labels = df_frame_orig.voxel_id.isin(df_subtracted_frame.voxel_id)\n",
      "(6, 5)\n",
      "(72, 5)\n",
      "0.17755126953125 : df_frame_orig_subtracted = df_frame_orig[df_labels]\n",
      "(622, 5)\n",
      "file_labels: voxelling_output/submission_files/test_vid_19_pred__final/0000253_labels.csv\n",
      "0.08974671363830566 : df_labels.to_csv(pickles_path+\"df_labels__frame_%d__%s__voxel_size_%d_(%d,%d,%d).p\"%(frame_idx, vid, voxel_size, n_frames_per_side, shift, n_frames_per_side))\n",
      "622\n",
      "0.0029854774475097656 : save_frame_for_movie(df_frame_orig_subtracted, \"tmp_only_labeled/\", all_files, frame_idx)\n"
     ]
    },
    {
     "name": "stderr",
     "output_type": "stream",
     "text": [
      "\r",
      " 25%|███████████████████████████████████████▉                                                                                                                     | 254/1000 [32:52<1:36:33,  7.77s/it]"
     ]
    },
    {
     "name": "stdout",
     "output_type": "stream",
     "text": [
      "=========================================================================\n",
      "frame_idx = 254\n",
      "=========================================================================\n",
      "0.0 : list_idx = get_list_idx_for_frame(frame_idx, n_frames_per_side, shift)\n",
      "9.777876377105713 : df_subtracted_frame = get_df_voxel_subtracted_frame(list_df_voxel_scene, frame_idx, n_frames_per_side, shift)\n",
      "1.3017528057098389 : df_frame_orig['voxel_id'] =  df_frame_orig.apply(lambda x: point_to_voxel(x, voxel_size), axis=1)\n",
      "0.0019953250885009766 : df_labels = df_frame_orig.voxel_id.isin(df_subtracted_frame.voxel_id)\n",
      "(6, 5)\n",
      "(83, 5)\n",
      "0.17776155471801758 : df_frame_orig_subtracted = df_frame_orig[df_labels]\n",
      "(661, 5)\n",
      "file_labels: voxelling_output/submission_files/test_vid_19_pred__final/0000254_labels.csv\n",
      "0.0872652530670166 : df_labels.to_csv(pickles_path+\"df_labels__frame_%d__%s__voxel_size_%d_(%d,%d,%d).p\"%(frame_idx, vid, voxel_size, n_frames_per_side, shift, n_frames_per_side))\n",
      "661\n",
      "0.002992391586303711 : save_frame_for_movie(df_frame_orig_subtracted, \"tmp_only_labeled/\", all_files, frame_idx)\n"
     ]
    },
    {
     "name": "stderr",
     "output_type": "stream",
     "text": [
      "\r",
      " 26%|████████████████████████████████████████                                                                                                                     | 255/1000 [33:03<1:36:36,  7.78s/it]"
     ]
    },
    {
     "name": "stdout",
     "output_type": "stream",
     "text": [
      "=========================================================================\n",
      "frame_idx = 255\n",
      "=========================================================================\n",
      "0.000995635986328125 : list_idx = get_list_idx_for_frame(frame_idx, n_frames_per_side, shift)\n",
      "9.831393718719482 : df_subtracted_frame = get_df_voxel_subtracted_frame(list_df_voxel_scene, frame_idx, n_frames_per_side, shift)\n",
      "1.283592939376831 : df_frame_orig['voxel_id'] =  df_frame_orig.apply(lambda x: point_to_voxel(x, voxel_size), axis=1)\n",
      "0.0019817352294921875 : df_labels = df_frame_orig.voxel_id.isin(df_subtracted_frame.voxel_id)\n",
      "(11, 5)\n",
      "(92, 5)\n",
      "0.17561697959899902 : df_frame_orig_subtracted = df_frame_orig[df_labels]\n",
      "(739, 5)\n",
      "file_labels: voxelling_output/submission_files/test_vid_19_pred__final/0000255_labels.csv\n",
      "0.08876419067382812 : df_labels.to_csv(pickles_path+\"df_labels__frame_%d__%s__voxel_size_%d_(%d,%d,%d).p\"%(frame_idx, vid, voxel_size, n_frames_per_side, shift, n_frames_per_side))\n",
      "739\n",
      "0.00399017333984375 : save_frame_for_movie(df_frame_orig_subtracted, \"tmp_only_labeled/\", all_files, frame_idx)\n"
     ]
    },
    {
     "name": "stderr",
     "output_type": "stream",
     "text": [
      "\r",
      " 26%|████████████████████████████████████████▏                                                                                                                    | 256/1000 [33:15<1:36:38,  7.79s/it]"
     ]
    },
    {
     "name": "stdout",
     "output_type": "stream",
     "text": [
      "=========================================================================\n",
      "frame_idx = 256\n",
      "=========================================================================\n",
      "0.0 : list_idx = get_list_idx_for_frame(frame_idx, n_frames_per_side, shift)\n",
      "9.828198909759521 : df_subtracted_frame = get_df_voxel_subtracted_frame(list_df_voxel_scene, frame_idx, n_frames_per_side, shift)\n",
      "1.2719178199768066 : df_frame_orig['voxel_id'] =  df_frame_orig.apply(lambda x: point_to_voxel(x, voxel_size), axis=1)\n",
      "0.0019490718841552734 : df_labels = df_frame_orig.voxel_id.isin(df_subtracted_frame.voxel_id)\n",
      "(6, 5)\n",
      "(102, 5)\n",
      "0.17154359817504883 : df_frame_orig_subtracted = df_frame_orig[df_labels]\n",
      "(773, 5)\n",
      "file_labels: voxelling_output/submission_files/test_vid_19_pred__final/0000256_labels.csv\n",
      "0.09110093116760254 : df_labels.to_csv(pickles_path+\"df_labels__frame_%d__%s__voxel_size_%d_(%d,%d,%d).p\"%(frame_idx, vid, voxel_size, n_frames_per_side, shift, n_frames_per_side))\n",
      "773\n",
      "0.0029904842376708984 : save_frame_for_movie(df_frame_orig_subtracted, \"tmp_only_labeled/\", all_files, frame_idx)\n"
     ]
    },
    {
     "name": "stderr",
     "output_type": "stream",
     "text": [
      "\r",
      " 26%|████████████████████████████████████████▎                                                                                                                    | 257/1000 [33:26<1:36:41,  7.81s/it]"
     ]
    },
    {
     "name": "stdout",
     "output_type": "stream",
     "text": [
      "=========================================================================\n",
      "frame_idx = 257\n",
      "=========================================================================\n",
      "0.0 : list_idx = get_list_idx_for_frame(frame_idx, n_frames_per_side, shift)\n",
      "9.784960985183716 : df_subtracted_frame = get_df_voxel_subtracted_frame(list_df_voxel_scene, frame_idx, n_frames_per_side, shift)\n",
      "1.3010530471801758 : df_frame_orig['voxel_id'] =  df_frame_orig.apply(lambda x: point_to_voxel(x, voxel_size), axis=1)\n",
      "0.0009810924530029297 : df_labels = df_frame_orig.voxel_id.isin(df_subtracted_frame.voxel_id)\n",
      "(10, 5)\n",
      "(105, 5)\n",
      "0.1797192096710205 : df_frame_orig_subtracted = df_frame_orig[df_labels]\n",
      "(762, 5)\n",
      "file_labels: voxelling_output/submission_files/test_vid_19_pred__final/0000257_labels.csv\n",
      "0.08976268768310547 : df_labels.to_csv(pickles_path+\"df_labels__frame_%d__%s__voxel_size_%d_(%d,%d,%d).p\"%(frame_idx, vid, voxel_size, n_frames_per_side, shift, n_frames_per_side))\n",
      "762\n",
      "0.00399017333984375 : save_frame_for_movie(df_frame_orig_subtracted, \"tmp_only_labeled/\", all_files, frame_idx)\n"
     ]
    },
    {
     "name": "stderr",
     "output_type": "stream",
     "text": [
      "\r",
      " 26%|████████████████████████████████████████▌                                                                                                                    | 258/1000 [33:38<1:36:43,  7.82s/it]"
     ]
    },
    {
     "name": "stdout",
     "output_type": "stream",
     "text": [
      "=========================================================================\n",
      "frame_idx = 258\n",
      "=========================================================================\n",
      "0.0009884834289550781 : list_idx = get_list_idx_for_frame(frame_idx, n_frames_per_side, shift)\n",
      "9.924334049224854 : df_subtracted_frame = get_df_voxel_subtracted_frame(list_df_voxel_scene, frame_idx, n_frames_per_side, shift)\n",
      "1.2701678276062012 : df_frame_orig['voxel_id'] =  df_frame_orig.apply(lambda x: point_to_voxel(x, voxel_size), axis=1)\n",
      "0.0009942054748535156 : df_labels = df_frame_orig.voxel_id.isin(df_subtracted_frame.voxel_id)\n",
      "(13, 5)\n",
      "(77, 5)\n",
      "0.1781768798828125 : df_frame_orig_subtracted = df_frame_orig[df_labels]\n",
      "(874, 5)\n",
      "file_labels: voxelling_output/submission_files/test_vid_19_pred__final/0000258_labels.csv\n",
      "0.0872344970703125 : df_labels.to_csv(pickles_path+\"df_labels__frame_%d__%s__voxel_size_%d_(%d,%d,%d).p\"%(frame_idx, vid, voxel_size, n_frames_per_side, shift, n_frames_per_side))\n",
      "874\n",
      "0.003988504409790039 : save_frame_for_movie(df_frame_orig_subtracted, \"tmp_only_labeled/\", all_files, frame_idx)\n"
     ]
    },
    {
     "name": "stderr",
     "output_type": "stream",
     "text": [
      "\r",
      " 26%|████████████████████████████████████████▋                                                                                                                    | 259/1000 [33:49<1:36:46,  7.84s/it]"
     ]
    },
    {
     "name": "stdout",
     "output_type": "stream",
     "text": [
      "=========================================================================\n",
      "frame_idx = 259\n",
      "=========================================================================\n",
      "0.0 : list_idx = get_list_idx_for_frame(frame_idx, n_frames_per_side, shift)\n",
      "9.931121110916138 : df_subtracted_frame = get_df_voxel_subtracted_frame(list_df_voxel_scene, frame_idx, n_frames_per_side, shift)\n",
      "1.3052558898925781 : df_frame_orig['voxel_id'] =  df_frame_orig.apply(lambda x: point_to_voxel(x, voxel_size), axis=1)\n",
      "0.0009975433349609375 : df_labels = df_frame_orig.voxel_id.isin(df_subtracted_frame.voxel_id)\n",
      "(12, 5)\n",
      "(92, 5)\n",
      "0.18354225158691406 : df_frame_orig_subtracted = df_frame_orig[df_labels]\n",
      "(934, 5)\n",
      "file_labels: voxelling_output/submission_files/test_vid_19_pred__final/0000259_labels.csv\n",
      "0.08777427673339844 : df_labels.to_csv(pickles_path+\"df_labels__frame_%d__%s__voxel_size_%d_(%d,%d,%d).p\"%(frame_idx, vid, voxel_size, n_frames_per_side, shift, n_frames_per_side))\n",
      "934\n",
      "0.003977060317993164 : save_frame_for_movie(df_frame_orig_subtracted, \"tmp_only_labeled/\", all_files, frame_idx)\n"
     ]
    },
    {
     "name": "stderr",
     "output_type": "stream",
     "text": [
      "\r",
      " 26%|████████████████████████████████████████▊                                                                                                                    | 260/1000 [34:01<1:36:49,  7.85s/it]"
     ]
    },
    {
     "name": "stdout",
     "output_type": "stream",
     "text": [
      "=========================================================================\n",
      "frame_idx = 260\n",
      "=========================================================================\n",
      "0.0 : list_idx = get_list_idx_for_frame(frame_idx, n_frames_per_side, shift)\n",
      "9.971490621566772 : df_subtracted_frame = get_df_voxel_subtracted_frame(list_df_voxel_scene, frame_idx, n_frames_per_side, shift)\n",
      "1.3078012466430664 : df_frame_orig['voxel_id'] =  df_frame_orig.apply(lambda x: point_to_voxel(x, voxel_size), axis=1)\n",
      "0.001968860626220703 : df_labels = df_frame_orig.voxel_id.isin(df_subtracted_frame.voxel_id)\n",
      "(8, 5)\n",
      "(106, 5)\n",
      "0.18456315994262695 : df_frame_orig_subtracted = df_frame_orig[df_labels]\n",
      "(833, 5)\n",
      "file_labels: voxelling_output/submission_files/test_vid_19_pred__final/0000260_labels.csv\n",
      "0.09213089942932129 : df_labels.to_csv(pickles_path+\"df_labels__frame_%d__%s__voxel_size_%d_(%d,%d,%d).p\"%(frame_idx, vid, voxel_size, n_frames_per_side, shift, n_frames_per_side))\n",
      "833\n",
      "0.003987789154052734 : save_frame_for_movie(df_frame_orig_subtracted, \"tmp_only_labeled/\", all_files, frame_idx)\n"
     ]
    },
    {
     "name": "stderr",
     "output_type": "stream",
     "text": [
      "\r",
      " 26%|████████████████████████████████████████▉                                                                                                                    | 261/1000 [34:12<1:36:52,  7.86s/it]"
     ]
    },
    {
     "name": "stdout",
     "output_type": "stream",
     "text": [
      "=========================================================================\n",
      "frame_idx = 261\n",
      "=========================================================================\n",
      "0.0 : list_idx = get_list_idx_for_frame(frame_idx, n_frames_per_side, shift)\n",
      "9.940620422363281 : df_subtracted_frame = get_df_voxel_subtracted_frame(list_df_voxel_scene, frame_idx, n_frames_per_side, shift)\n",
      "1.2888751029968262 : df_frame_orig['voxel_id'] =  df_frame_orig.apply(lambda x: point_to_voxel(x, voxel_size), axis=1)\n",
      "0.000997781753540039 : df_labels = df_frame_orig.voxel_id.isin(df_subtracted_frame.voxel_id)\n",
      "(12, 5)\n",
      "(128, 5)\n",
      "0.17718839645385742 : df_frame_orig_subtracted = df_frame_orig[df_labels]\n",
      "(832, 5)\n",
      "file_labels: voxelling_output/submission_files/test_vid_19_pred__final/0000261_labels.csv\n",
      "0.08875846862792969 : df_labels.to_csv(pickles_path+\"df_labels__frame_%d__%s__voxel_size_%d_(%d,%d,%d).p\"%(frame_idx, vid, voxel_size, n_frames_per_side, shift, n_frames_per_side))\n",
      "832\n",
      "0.00299072265625 : save_frame_for_movie(df_frame_orig_subtracted, \"tmp_only_labeled/\", all_files, frame_idx)\n"
     ]
    },
    {
     "name": "stderr",
     "output_type": "stream",
     "text": [
      "\r",
      " 26%|█████████████████████████████████████████▏                                                                                                                   | 262/1000 [34:24<1:36:54,  7.88s/it]"
     ]
    },
    {
     "name": "stdout",
     "output_type": "stream",
     "text": [
      "=========================================================================\n",
      "frame_idx = 262\n",
      "=========================================================================\n",
      "0.0 : list_idx = get_list_idx_for_frame(frame_idx, n_frames_per_side, shift)\n",
      "9.955039739608765 : df_subtracted_frame = get_df_voxel_subtracted_frame(list_df_voxel_scene, frame_idx, n_frames_per_side, shift)\n",
      "1.2846927642822266 : df_frame_orig['voxel_id'] =  df_frame_orig.apply(lambda x: point_to_voxel(x, voxel_size), axis=1)\n",
      "0.0019817352294921875 : df_labels = df_frame_orig.voxel_id.isin(df_subtracted_frame.voxel_id)\n",
      "(11, 5)\n",
      "(145, 5)\n",
      "0.17337441444396973 : df_frame_orig_subtracted = df_frame_orig[df_labels]\n",
      "(817, 5)\n",
      "file_labels: voxelling_output/submission_files/test_vid_19_pred__final/0000262_labels.csv\n",
      "0.09375357627868652 : df_labels.to_csv(pickles_path+\"df_labels__frame_%d__%s__voxel_size_%d_(%d,%d,%d).p\"%(frame_idx, vid, voxel_size, n_frames_per_side, shift, n_frames_per_side))\n",
      "817\n",
      "0.0019936561584472656 : save_frame_for_movie(df_frame_orig_subtracted, \"tmp_only_labeled/\", all_files, frame_idx)\n"
     ]
    },
    {
     "name": "stderr",
     "output_type": "stream",
     "text": [
      "\r",
      " 26%|█████████████████████████████████████████▎                                                                                                                   | 263/1000 [34:35<1:36:56,  7.89s/it]"
     ]
    },
    {
     "name": "stdout",
     "output_type": "stream",
     "text": [
      "=========================================================================\n",
      "frame_idx = 263\n",
      "=========================================================================\n",
      "0.0 : list_idx = get_list_idx_for_frame(frame_idx, n_frames_per_side, shift)\n",
      "9.904561042785645 : df_subtracted_frame = get_df_voxel_subtracted_frame(list_df_voxel_scene, frame_idx, n_frames_per_side, shift)\n",
      "1.292985200881958 : df_frame_orig['voxel_id'] =  df_frame_orig.apply(lambda x: point_to_voxel(x, voxel_size), axis=1)\n",
      "0.0009970664978027344 : df_labels = df_frame_orig.voxel_id.isin(df_subtracted_frame.voxel_id)\n",
      "(9, 5)\n",
      "(179, 5)\n",
      "0.18142342567443848 : df_frame_orig_subtracted = df_frame_orig[df_labels]\n",
      "(864, 5)\n",
      "file_labels: voxelling_output/submission_files/test_vid_19_pred__final/0000263_labels.csv\n",
      "0.09241724014282227 : df_labels.to_csv(pickles_path+\"df_labels__frame_%d__%s__voxel_size_%d_(%d,%d,%d).p\"%(frame_idx, vid, voxel_size, n_frames_per_side, shift, n_frames_per_side))\n",
      "864\n",
      "0.0029785633087158203 : save_frame_for_movie(df_frame_orig_subtracted, \"tmp_only_labeled/\", all_files, frame_idx)\n"
     ]
    },
    {
     "name": "stderr",
     "output_type": "stream",
     "text": [
      "\r",
      " 26%|█████████████████████████████████████████▍                                                                                                                   | 264/1000 [34:47<1:36:59,  7.91s/it]"
     ]
    },
    {
     "name": "stdout",
     "output_type": "stream",
     "text": [
      "=========================================================================\n",
      "frame_idx = 264\n",
      "=========================================================================\n",
      "0.0 : list_idx = get_list_idx_for_frame(frame_idx, n_frames_per_side, shift)\n",
      "10.060992002487183 : df_subtracted_frame = get_df_voxel_subtracted_frame(list_df_voxel_scene, frame_idx, n_frames_per_side, shift)\n",
      "1.2780606746673584 : df_frame_orig['voxel_id'] =  df_frame_orig.apply(lambda x: point_to_voxel(x, voxel_size), axis=1)\n",
      "0.0019605159759521484 : df_labels = df_frame_orig.voxel_id.isin(df_subtracted_frame.voxel_id)\n",
      "(7, 5)\n",
      "(218, 5)\n",
      "0.17457318305969238 : df_frame_orig_subtracted = df_frame_orig[df_labels]\n",
      "(887, 5)\n",
      "file_labels: voxelling_output/submission_files/test_vid_19_pred__final/0000264_labels.csv\n",
      "0.09176063537597656 : df_labels.to_csv(pickles_path+\"df_labels__frame_%d__%s__voxel_size_%d_(%d,%d,%d).p\"%(frame_idx, vid, voxel_size, n_frames_per_side, shift, n_frames_per_side))\n",
      "887\n",
      "0.0029897689819335938 : save_frame_for_movie(df_frame_orig_subtracted, \"tmp_only_labeled/\", all_files, frame_idx)\n"
     ]
    },
    {
     "name": "stderr",
     "output_type": "stream",
     "text": [
      "\r",
      " 26%|█████████████████████████████████████████▌                                                                                                                   | 265/1000 [34:58<1:37:01,  7.92s/it]"
     ]
    },
    {
     "name": "stdout",
     "output_type": "stream",
     "text": [
      "=========================================================================\n",
      "frame_idx = 265\n",
      "=========================================================================\n",
      "0.0 : list_idx = get_list_idx_for_frame(frame_idx, n_frames_per_side, shift)\n",
      "9.96778154373169 : df_subtracted_frame = get_df_voxel_subtracted_frame(list_df_voxel_scene, frame_idx, n_frames_per_side, shift)\n",
      "1.2922999858856201 : df_frame_orig['voxel_id'] =  df_frame_orig.apply(lambda x: point_to_voxel(x, voxel_size), axis=1)\n",
      "0.0009975433349609375 : df_labels = df_frame_orig.voxel_id.isin(df_subtracted_frame.voxel_id)\n",
      "(11, 5)\n",
      "(270, 5)\n",
      "0.17972755432128906 : df_frame_orig_subtracted = df_frame_orig[df_labels]\n",
      "(672, 5)\n",
      "file_labels: voxelling_output/submission_files/test_vid_19_pred__final/0000265_labels.csv\n",
      "0.09074783325195312 : df_labels.to_csv(pickles_path+\"df_labels__frame_%d__%s__voxel_size_%d_(%d,%d,%d).p\"%(frame_idx, vid, voxel_size, n_frames_per_side, shift, n_frames_per_side))\n",
      "672\n",
      "0.0029916763305664062 : save_frame_for_movie(df_frame_orig_subtracted, \"tmp_only_labeled/\", all_files, frame_idx)\n"
     ]
    },
    {
     "name": "stderr",
     "output_type": "stream",
     "text": [
      "\r",
      " 27%|█████████████████████████████████████████▊                                                                                                                   | 266/1000 [35:10<1:37:03,  7.93s/it]"
     ]
    },
    {
     "name": "stdout",
     "output_type": "stream",
     "text": [
      "=========================================================================\n",
      "frame_idx = 266\n",
      "=========================================================================\n",
      "0.0 : list_idx = get_list_idx_for_frame(frame_idx, n_frames_per_side, shift)\n",
      "10.174629926681519 : df_subtracted_frame = get_df_voxel_subtracted_frame(list_df_voxel_scene, frame_idx, n_frames_per_side, shift)\n",
      "1.2784554958343506 : df_frame_orig['voxel_id'] =  df_frame_orig.apply(lambda x: point_to_voxel(x, voxel_size), axis=1)\n",
      "0.0009984970092773438 : df_labels = df_frame_orig.voxel_id.isin(df_subtracted_frame.voxel_id)\n",
      "(9, 5)\n",
      "(249, 5)\n",
      "0.17652559280395508 : df_frame_orig_subtracted = df_frame_orig[df_labels]\n",
      "(598, 5)\n",
      "file_labels: voxelling_output/submission_files/test_vid_19_pred__final/0000266_labels.csv\n",
      "0.09399747848510742 : df_labels.to_csv(pickles_path+\"df_labels__frame_%d__%s__voxel_size_%d_(%d,%d,%d).p\"%(frame_idx, vid, voxel_size, n_frames_per_side, shift, n_frames_per_side))\n",
      "598\n",
      "0.0020079612731933594 : save_frame_for_movie(df_frame_orig_subtracted, \"tmp_only_labeled/\", all_files, frame_idx)\n"
     ]
    },
    {
     "name": "stderr",
     "output_type": "stream",
     "text": [
      "\r",
      " 27%|█████████████████████████████████████████▉                                                                                                                   | 267/1000 [35:22<1:37:06,  7.95s/it]"
     ]
    },
    {
     "name": "stdout",
     "output_type": "stream",
     "text": [
      "=========================================================================\n",
      "frame_idx = 267\n",
      "=========================================================================\n",
      "0.0 : list_idx = get_list_idx_for_frame(frame_idx, n_frames_per_side, shift)\n",
      "10.048951148986816 : df_subtracted_frame = get_df_voxel_subtracted_frame(list_df_voxel_scene, frame_idx, n_frames_per_side, shift)\n",
      "1.288276195526123 : df_frame_orig['voxel_id'] =  df_frame_orig.apply(lambda x: point_to_voxel(x, voxel_size), axis=1)\n",
      "0.0009968280792236328 : df_labels = df_frame_orig.voxel_id.isin(df_subtracted_frame.voxel_id)\n",
      "(9, 5)\n",
      "(72, 5)\n",
      "0.17956113815307617 : df_frame_orig_subtracted = df_frame_orig[df_labels]\n",
      "(500, 5)\n",
      "file_labels: voxelling_output/submission_files/test_vid_19_pred__final/0000267_labels.csv\n",
      "0.08776330947875977 : df_labels.to_csv(pickles_path+\"df_labels__frame_%d__%s__voxel_size_%d_(%d,%d,%d).p\"%(frame_idx, vid, voxel_size, n_frames_per_side, shift, n_frames_per_side))\n",
      "500\n",
      "0.001993894577026367 : save_frame_for_movie(df_frame_orig_subtracted, \"tmp_only_labeled/\", all_files, frame_idx)\n"
     ]
    },
    {
     "name": "stderr",
     "output_type": "stream",
     "text": [
      "\r",
      " 27%|██████████████████████████████████████████                                                                                                                   | 268/1000 [35:33<1:37:08,  7.96s/it]"
     ]
    },
    {
     "name": "stdout",
     "output_type": "stream",
     "text": [
      "=========================================================================\n",
      "frame_idx = 268\n",
      "=========================================================================\n",
      "0.0 : list_idx = get_list_idx_for_frame(frame_idx, n_frames_per_side, shift)\n",
      "10.09889531135559 : df_subtracted_frame = get_df_voxel_subtracted_frame(list_df_voxel_scene, frame_idx, n_frames_per_side, shift)\n",
      "1.2777459621429443 : df_frame_orig['voxel_id'] =  df_frame_orig.apply(lambda x: point_to_voxel(x, voxel_size), axis=1)\n",
      "0.0010128021240234375 : df_labels = df_frame_orig.voxel_id.isin(df_subtracted_frame.voxel_id)\n",
      "(11, 5)\n",
      "(82, 5)\n",
      "0.17466211318969727 : df_frame_orig_subtracted = df_frame_orig[df_labels]\n",
      "(382, 5)\n",
      "file_labels: voxelling_output/submission_files/test_vid_19_pred__final/0000268_labels.csv\n",
      "0.09299397468566895 : df_labels.to_csv(pickles_path+\"df_labels__frame_%d__%s__voxel_size_%d_(%d,%d,%d).p\"%(frame_idx, vid, voxel_size, n_frames_per_side, shift, n_frames_per_side))\n",
      "382\n",
      "0.0019931793212890625 : save_frame_for_movie(df_frame_orig_subtracted, \"tmp_only_labeled/\", all_files, frame_idx)\n"
     ]
    },
    {
     "name": "stderr",
     "output_type": "stream",
     "text": [
      "\r",
      " 27%|██████████████████████████████████████████▏                                                                                                                  | 269/1000 [35:45<1:37:10,  7.98s/it]"
     ]
    },
    {
     "name": "stdout",
     "output_type": "stream",
     "text": [
      "=========================================================================\n",
      "frame_idx = 269\n",
      "=========================================================================\n",
      "0.0 : list_idx = get_list_idx_for_frame(frame_idx, n_frames_per_side, shift)\n",
      "10.161333799362183 : df_subtracted_frame = get_df_voxel_subtracted_frame(list_df_voxel_scene, frame_idx, n_frames_per_side, shift)\n",
      "1.2767465114593506 : df_frame_orig['voxel_id'] =  df_frame_orig.apply(lambda x: point_to_voxel(x, voxel_size), axis=1)\n",
      "0.0019867420196533203 : df_labels = df_frame_orig.voxel_id.isin(df_subtracted_frame.voxel_id)\n",
      "(8, 5)\n",
      "(98, 5)\n",
      "0.17799973487854004 : df_frame_orig_subtracted = df_frame_orig[df_labels]\n",
      "(281, 5)\n",
      "file_labels: voxelling_output/submission_files/test_vid_19_pred__final/0000269_labels.csv\n",
      "0.08825540542602539 : df_labels.to_csv(pickles_path+\"df_labels__frame_%d__%s__voxel_size_%d_(%d,%d,%d).p\"%(frame_idx, vid, voxel_size, n_frames_per_side, shift, n_frames_per_side))\n",
      "281\n",
      "0.0019948482513427734 : save_frame_for_movie(df_frame_orig_subtracted, \"tmp_only_labeled/\", all_files, frame_idx)\n"
     ]
    },
    {
     "name": "stderr",
     "output_type": "stream",
     "text": [
      "\r",
      " 27%|██████████████████████████████████████████▍                                                                                                                  | 270/1000 [35:57<1:37:12,  7.99s/it]"
     ]
    },
    {
     "name": "stdout",
     "output_type": "stream",
     "text": [
      "=========================================================================\n",
      "frame_idx = 270\n",
      "=========================================================================\n",
      "0.0 : list_idx = get_list_idx_for_frame(frame_idx, n_frames_per_side, shift)\n",
      "10.158013105392456 : df_subtracted_frame = get_df_voxel_subtracted_frame(list_df_voxel_scene, frame_idx, n_frames_per_side, shift)\n",
      "1.290776252746582 : df_frame_orig['voxel_id'] =  df_frame_orig.apply(lambda x: point_to_voxel(x, voxel_size), axis=1)\n",
      "0.001995563507080078 : df_labels = df_frame_orig.voxel_id.isin(df_subtracted_frame.voxel_id)\n",
      "(9, 5)\n",
      "(82, 5)\n",
      "0.17502188682556152 : df_frame_orig_subtracted = df_frame_orig[df_labels]\n",
      "(328, 5)\n",
      "file_labels: voxelling_output/submission_files/test_vid_19_pred__final/0000270_labels.csv\n",
      "0.09503602981567383 : df_labels.to_csv(pickles_path+\"df_labels__frame_%d__%s__voxel_size_%d_(%d,%d,%d).p\"%(frame_idx, vid, voxel_size, n_frames_per_side, shift, n_frames_per_side))\n",
      "328\n",
      "0.0029921531677246094 : save_frame_for_movie(df_frame_orig_subtracted, \"tmp_only_labeled/\", all_files, frame_idx)\n"
     ]
    },
    {
     "name": "stderr",
     "output_type": "stream",
     "text": [
      "\r",
      " 27%|██████████████████████████████████████████▌                                                                                                                  | 271/1000 [36:09<1:37:14,  8.00s/it]"
     ]
    },
    {
     "name": "stdout",
     "output_type": "stream",
     "text": [
      "=========================================================================\n",
      "frame_idx = 271\n",
      "=========================================================================\n",
      "0.0 : list_idx = get_list_idx_for_frame(frame_idx, n_frames_per_side, shift)\n",
      "10.234225273132324 : df_subtracted_frame = get_df_voxel_subtracted_frame(list_df_voxel_scene, frame_idx, n_frames_per_side, shift)\n",
      "1.2963149547576904 : df_frame_orig['voxel_id'] =  df_frame_orig.apply(lambda x: point_to_voxel(x, voxel_size), axis=1)\n",
      "0.0010001659393310547 : df_labels = df_frame_orig.voxel_id.isin(df_subtracted_frame.voxel_id)\n",
      "(8, 5)\n",
      "(46, 5)\n",
      "0.1745471954345703 : df_frame_orig_subtracted = df_frame_orig[df_labels]\n",
      "(201, 5)\n",
      "file_labels: voxelling_output/submission_files/test_vid_19_pred__final/0000271_labels.csv\n",
      "0.0932304859161377 : df_labels.to_csv(pickles_path+\"df_labels__frame_%d__%s__voxel_size_%d_(%d,%d,%d).p\"%(frame_idx, vid, voxel_size, n_frames_per_side, shift, n_frames_per_side))\n",
      "201\n",
      "0.0029897689819335938 : save_frame_for_movie(df_frame_orig_subtracted, \"tmp_only_labeled/\", all_files, frame_idx)\n"
     ]
    },
    {
     "name": "stderr",
     "output_type": "stream",
     "text": [
      "\r",
      " 27%|██████████████████████████████████████████▋                                                                                                                  | 272/1000 [36:20<1:37:16,  8.02s/it]"
     ]
    },
    {
     "name": "stdout",
     "output_type": "stream",
     "text": [
      "=========================================================================\n",
      "frame_idx = 272\n",
      "=========================================================================\n",
      "0.001016855239868164 : list_idx = get_list_idx_for_frame(frame_idx, n_frames_per_side, shift)\n",
      "10.18227744102478 : df_subtracted_frame = get_df_voxel_subtracted_frame(list_df_voxel_scene, frame_idx, n_frames_per_side, shift)\n",
      "1.2910130023956299 : df_frame_orig['voxel_id'] =  df_frame_orig.apply(lambda x: point_to_voxel(x, voxel_size), axis=1)\n",
      "0.001993894577026367 : df_labels = df_frame_orig.voxel_id.isin(df_subtracted_frame.voxel_id)\n",
      "(9, 5)\n",
      "(17, 5)\n",
      "0.17583203315734863 : df_frame_orig_subtracted = df_frame_orig[df_labels]\n",
      "(83, 5)\n",
      "file_labels: voxelling_output/submission_files/test_vid_19_pred__final/0000272_labels.csv\n",
      "0.08779168128967285 : df_labels.to_csv(pickles_path+\"df_labels__frame_%d__%s__voxel_size_%d_(%d,%d,%d).p\"%(frame_idx, vid, voxel_size, n_frames_per_side, shift, n_frames_per_side))\n",
      "83\n",
      "0.0030295848846435547 : save_frame_for_movie(df_frame_orig_subtracted, \"tmp_only_labeled/\", all_files, frame_idx)\n"
     ]
    },
    {
     "name": "stderr",
     "output_type": "stream",
     "text": [
      "\r",
      " 27%|██████████████████████████████████████████▊                                                                                                                  | 273/1000 [36:32<1:37:18,  8.03s/it]"
     ]
    },
    {
     "name": "stdout",
     "output_type": "stream",
     "text": [
      "=========================================================================\n",
      "frame_idx = 273\n",
      "=========================================================================\n",
      "0.0 : list_idx = get_list_idx_for_frame(frame_idx, n_frames_per_side, shift)\n",
      "10.250768184661865 : df_subtracted_frame = get_df_voxel_subtracted_frame(list_df_voxel_scene, frame_idx, n_frames_per_side, shift)\n",
      "1.2931561470031738 : df_frame_orig['voxel_id'] =  df_frame_orig.apply(lambda x: point_to_voxel(x, voxel_size), axis=1)\n",
      "0.0010120868682861328 : df_labels = df_frame_orig.voxel_id.isin(df_subtracted_frame.voxel_id)\n",
      "(8, 5)\n",
      "(160, 5)\n",
      "0.17904353141784668 : df_frame_orig_subtracted = df_frame_orig[df_labels]\n",
      "(58, 5)\n",
      "file_labels: voxelling_output/submission_files/test_vid_19_pred__final/0000273_labels.csv\n",
      "0.08928966522216797 : df_labels.to_csv(pickles_path+\"df_labels__frame_%d__%s__voxel_size_%d_(%d,%d,%d).p\"%(frame_idx, vid, voxel_size, n_frames_per_side, shift, n_frames_per_side))\n",
      "58\n",
      "0.002994060516357422 : save_frame_for_movie(df_frame_orig_subtracted, \"tmp_only_labeled/\", all_files, frame_idx)\n"
     ]
    },
    {
     "name": "stderr",
     "output_type": "stream",
     "text": [
      "\r",
      " 27%|███████████████████████████████████████████                                                                                                                  | 274/1000 [36:44<1:37:20,  8.05s/it]"
     ]
    },
    {
     "name": "stdout",
     "output_type": "stream",
     "text": [
      "=========================================================================\n",
      "frame_idx = 274\n",
      "=========================================================================\n",
      "0.0 : list_idx = get_list_idx_for_frame(frame_idx, n_frames_per_side, shift)\n",
      "10.301002979278564 : df_subtracted_frame = get_df_voxel_subtracted_frame(list_df_voxel_scene, frame_idx, n_frames_per_side, shift)\n",
      "1.2697463035583496 : df_frame_orig['voxel_id'] =  df_frame_orig.apply(lambda x: point_to_voxel(x, voxel_size), axis=1)\n",
      "0.0009899139404296875 : df_labels = df_frame_orig.voxel_id.isin(df_subtracted_frame.voxel_id)\n",
      "(5, 5)\n",
      "(90, 5)\n",
      "0.17418861389160156 : df_frame_orig_subtracted = df_frame_orig[df_labels]\n",
      "(57, 5)\n",
      "file_labels: voxelling_output/submission_files/test_vid_19_pred__final/0000274_labels.csv\n",
      "0.09232091903686523 : df_labels.to_csv(pickles_path+\"df_labels__frame_%d__%s__voxel_size_%d_(%d,%d,%d).p\"%(frame_idx, vid, voxel_size, n_frames_per_side, shift, n_frames_per_side))\n",
      "57\n",
      "0.0019936561584472656 : save_frame_for_movie(df_frame_orig_subtracted, \"tmp_only_labeled/\", all_files, frame_idx)\n"
     ]
    },
    {
     "name": "stderr",
     "output_type": "stream",
     "text": [
      "\r",
      " 28%|███████████████████████████████████████████▏                                                                                                                 | 275/1000 [36:56<1:37:23,  8.06s/it]"
     ]
    },
    {
     "name": "stdout",
     "output_type": "stream",
     "text": [
      "=========================================================================\n",
      "frame_idx = 275\n",
      "=========================================================================\n",
      "0.0009984970092773438 : list_idx = get_list_idx_for_frame(frame_idx, n_frames_per_side, shift)\n",
      "10.397514581680298 : df_subtracted_frame = get_df_voxel_subtracted_frame(list_df_voxel_scene, frame_idx, n_frames_per_side, shift)\n",
      "1.2859652042388916 : df_frame_orig['voxel_id'] =  df_frame_orig.apply(lambda x: point_to_voxel(x, voxel_size), axis=1)\n",
      "0.001995563507080078 : df_labels = df_frame_orig.voxel_id.isin(df_subtracted_frame.voxel_id)\n",
      "(15, 5)\n",
      "(3, 5)\n",
      "0.17777299880981445 : df_frame_orig_subtracted = df_frame_orig[df_labels]\n",
      "(59, 5)\n",
      "file_labels: voxelling_output/submission_files/test_vid_19_pred__final/0000275_labels.csv\n",
      "0.09426045417785645 : df_labels.to_csv(pickles_path+\"df_labels__frame_%d__%s__voxel_size_%d_(%d,%d,%d).p\"%(frame_idx, vid, voxel_size, n_frames_per_side, shift, n_frames_per_side))\n",
      "59\n",
      "0.002991914749145508 : save_frame_for_movie(df_frame_orig_subtracted, \"tmp_only_labeled/\", all_files, frame_idx)\n"
     ]
    },
    {
     "name": "stderr",
     "output_type": "stream",
     "text": [
      "\r",
      " 28%|███████████████████████████████████████████▎                                                                                                                 | 276/1000 [37:08<1:37:25,  8.07s/it]"
     ]
    },
    {
     "name": "stdout",
     "output_type": "stream",
     "text": [
      "=========================================================================\n",
      "frame_idx = 276\n",
      "=========================================================================\n",
      "0.0009980201721191406 : list_idx = get_list_idx_for_frame(frame_idx, n_frames_per_side, shift)\n",
      "10.30461835861206 : df_subtracted_frame = get_df_voxel_subtracted_frame(list_df_voxel_scene, frame_idx, n_frames_per_side, shift)\n",
      "1.2881407737731934 : df_frame_orig['voxel_id'] =  df_frame_orig.apply(lambda x: point_to_voxel(x, voxel_size), axis=1)\n",
      "0.0019936561584472656 : df_labels = df_frame_orig.voxel_id.isin(df_subtracted_frame.voxel_id)\n",
      "(6, 5)\n",
      "(7, 5)\n",
      "0.1740419864654541 : df_frame_orig_subtracted = df_frame_orig[df_labels]\n",
      "(57, 5)\n",
      "file_labels: voxelling_output/submission_files/test_vid_19_pred__final/0000276_labels.csv\n",
      "0.09233570098876953 : df_labels.to_csv(pickles_path+\"df_labels__frame_%d__%s__voxel_size_%d_(%d,%d,%d).p\"%(frame_idx, vid, voxel_size, n_frames_per_side, shift, n_frames_per_side))\n",
      "57\n",
      "0.0020089149475097656 : save_frame_for_movie(df_frame_orig_subtracted, \"tmp_only_labeled/\", all_files, frame_idx)\n"
     ]
    },
    {
     "name": "stderr",
     "output_type": "stream",
     "text": [
      "\r",
      " 28%|███████████████████████████████████████████▍                                                                                                                 | 277/1000 [37:20<1:37:27,  8.09s/it]"
     ]
    },
    {
     "name": "stdout",
     "output_type": "stream",
     "text": [
      "=========================================================================\n",
      "frame_idx = 277\n",
      "=========================================================================\n",
      "0.00098419189453125 : list_idx = get_list_idx_for_frame(frame_idx, n_frames_per_side, shift)\n",
      "10.367518901824951 : df_subtracted_frame = get_df_voxel_subtracted_frame(list_df_voxel_scene, frame_idx, n_frames_per_side, shift)\n",
      "1.2725963592529297 : df_frame_orig['voxel_id'] =  df_frame_orig.apply(lambda x: point_to_voxel(x, voxel_size), axis=1)\n",
      "0.0009984970092773438 : df_labels = df_frame_orig.voxel_id.isin(df_subtracted_frame.voxel_id)\n",
      "(14, 5)\n",
      "(1, 5)\n",
      "0.17853760719299316 : df_frame_orig_subtracted = df_frame_orig[df_labels]\n",
      "(70, 5)\n",
      "file_labels: voxelling_output/submission_files/test_vid_19_pred__final/0000277_labels.csv\n",
      "0.09573078155517578 : df_labels.to_csv(pickles_path+\"df_labels__frame_%d__%s__voxel_size_%d_(%d,%d,%d).p\"%(frame_idx, vid, voxel_size, n_frames_per_side, shift, n_frames_per_side))\n",
      "70\n",
      "0.002976655960083008 : save_frame_for_movie(df_frame_orig_subtracted, \"tmp_only_labeled/\", all_files, frame_idx)\n"
     ]
    },
    {
     "name": "stderr",
     "output_type": "stream",
     "text": [
      "\r",
      " 28%|███████████████████████████████████████████▋                                                                                                                 | 278/1000 [37:32<1:37:29,  8.10s/it]"
     ]
    },
    {
     "name": "stdout",
     "output_type": "stream",
     "text": [
      "=========================================================================\n",
      "frame_idx = 278\n",
      "=========================================================================\n",
      "0.0 : list_idx = get_list_idx_for_frame(frame_idx, n_frames_per_side, shift)\n",
      "10.347635746002197 : df_subtracted_frame = get_df_voxel_subtracted_frame(list_df_voxel_scene, frame_idx, n_frames_per_side, shift)\n",
      "1.2955389022827148 : df_frame_orig['voxel_id'] =  df_frame_orig.apply(lambda x: point_to_voxel(x, voxel_size), axis=1)\n",
      "0.0009982585906982422 : df_labels = df_frame_orig.voxel_id.isin(df_subtracted_frame.voxel_id)\n",
      "(13, 5)\n",
      "(1, 5)\n",
      "0.1749873161315918 : df_frame_orig_subtracted = df_frame_orig[df_labels]\n",
      "(61, 5)\n",
      "file_labels: voxelling_output/submission_files/test_vid_19_pred__final/0000278_labels.csv\n",
      "0.09126138687133789 : df_labels.to_csv(pickles_path+\"df_labels__frame_%d__%s__voxel_size_%d_(%d,%d,%d).p\"%(frame_idx, vid, voxel_size, n_frames_per_side, shift, n_frames_per_side))\n",
      "61\n",
      "0.0029921531677246094 : save_frame_for_movie(df_frame_orig_subtracted, \"tmp_only_labeled/\", all_files, frame_idx)\n"
     ]
    },
    {
     "name": "stderr",
     "output_type": "stream",
     "text": [
      "\r",
      " 28%|███████████████████████████████████████████▊                                                                                                                 | 279/1000 [37:44<1:37:30,  8.11s/it]"
     ]
    },
    {
     "name": "stdout",
     "output_type": "stream",
     "text": [
      "=========================================================================\n",
      "frame_idx = 279\n",
      "=========================================================================\n",
      "0.0 : list_idx = get_list_idx_for_frame(frame_idx, n_frames_per_side, shift)\n",
      "10.422322988510132 : df_subtracted_frame = get_df_voxel_subtracted_frame(list_df_voxel_scene, frame_idx, n_frames_per_side, shift)\n",
      "1.285294532775879 : df_frame_orig['voxel_id'] =  df_frame_orig.apply(lambda x: point_to_voxel(x, voxel_size), axis=1)\n",
      "0.0019919872283935547 : df_labels = df_frame_orig.voxel_id.isin(df_subtracted_frame.voxel_id)\n",
      "(12, 5)\n",
      "(1, 5)\n",
      "0.1705777645111084 : df_frame_orig_subtracted = df_frame_orig[df_labels]\n",
      "(70, 5)\n",
      "file_labels: voxelling_output/submission_files/test_vid_19_pred__final/0000279_labels.csv\n",
      "0.0887916088104248 : df_labels.to_csv(pickles_path+\"df_labels__frame_%d__%s__voxel_size_%d_(%d,%d,%d).p\"%(frame_idx, vid, voxel_size, n_frames_per_side, shift, n_frames_per_side))\n",
      "70\n",
      "0.0019969940185546875 : save_frame_for_movie(df_frame_orig_subtracted, \"tmp_only_labeled/\", all_files, frame_idx)\n"
     ]
    },
    {
     "name": "stderr",
     "output_type": "stream",
     "text": [
      "\r",
      " 28%|███████████████████████████████████████████▉                                                                                                                 | 280/1000 [37:56<1:37:32,  8.13s/it]"
     ]
    },
    {
     "name": "stdout",
     "output_type": "stream",
     "text": [
      "=========================================================================\n",
      "frame_idx = 280\n",
      "=========================================================================\n",
      "0.0009963512420654297 : list_idx = get_list_idx_for_frame(frame_idx, n_frames_per_side, shift)\n",
      "10.313250064849854 : df_subtracted_frame = get_df_voxel_subtracted_frame(list_df_voxel_scene, frame_idx, n_frames_per_side, shift)\n",
      "1.2797672748565674 : df_frame_orig['voxel_id'] =  df_frame_orig.apply(lambda x: point_to_voxel(x, voxel_size), axis=1)\n",
      "0.0009968280792236328 : df_labels = df_frame_orig.voxel_id.isin(df_subtracted_frame.voxel_id)\n",
      "(8, 5)\n",
      "(2, 5)\n",
      "0.17652606964111328 : df_frame_orig_subtracted = df_frame_orig[df_labels]\n",
      "(77, 5)\n",
      "file_labels: voxelling_output/submission_files/test_vid_19_pred__final/0000280_labels.csv\n",
      "0.08734440803527832 : df_labels.to_csv(pickles_path+\"df_labels__frame_%d__%s__voxel_size_%d_(%d,%d,%d).p\"%(frame_idx, vid, voxel_size, n_frames_per_side, shift, n_frames_per_side))\n",
      "77\n",
      "0.002990245819091797 : save_frame_for_movie(df_frame_orig_subtracted, \"tmp_only_labeled/\", all_files, frame_idx)\n"
     ]
    },
    {
     "name": "stderr",
     "output_type": "stream",
     "text": [
      "\r",
      " 28%|████████████████████████████████████████████                                                                                                                 | 281/1000 [38:07<1:37:34,  8.14s/it]"
     ]
    },
    {
     "name": "stdout",
     "output_type": "stream",
     "text": [
      "=========================================================================\n",
      "frame_idx = 281\n",
      "=========================================================================\n",
      "0.0 : list_idx = get_list_idx_for_frame(frame_idx, n_frames_per_side, shift)\n",
      "10.52692985534668 : df_subtracted_frame = get_df_voxel_subtracted_frame(list_df_voxel_scene, frame_idx, n_frames_per_side, shift)\n",
      "1.2818467617034912 : df_frame_orig['voxel_id'] =  df_frame_orig.apply(lambda x: point_to_voxel(x, voxel_size), axis=1)\n",
      "0.0019876956939697266 : df_labels = df_frame_orig.voxel_id.isin(df_subtracted_frame.voxel_id)\n",
      "(9, 5)\n",
      "(3, 5)\n",
      "0.18069195747375488 : df_frame_orig_subtracted = df_frame_orig[df_labels]\n",
      "(74, 5)\n",
      "file_labels: voxelling_output/submission_files/test_vid_19_pred__final/0000281_labels.csv\n",
      "0.09275341033935547 : df_labels.to_csv(pickles_path+\"df_labels__frame_%d__%s__voxel_size_%d_(%d,%d,%d).p\"%(frame_idx, vid, voxel_size, n_frames_per_side, shift, n_frames_per_side))\n",
      "74\n",
      "0.0029993057250976562 : save_frame_for_movie(df_frame_orig_subtracted, \"tmp_only_labeled/\", all_files, frame_idx)\n"
     ]
    },
    {
     "name": "stderr",
     "output_type": "stream",
     "text": [
      "\r",
      " 28%|████████████████████████████████████████████▎                                                                                                                | 282/1000 [38:20<1:37:36,  8.16s/it]"
     ]
    },
    {
     "name": "stdout",
     "output_type": "stream",
     "text": [
      "=========================================================================\n",
      "frame_idx = 282\n",
      "=========================================================================\n",
      "0.0009808540344238281 : list_idx = get_list_idx_for_frame(frame_idx, n_frames_per_side, shift)\n",
      "10.393363952636719 : df_subtracted_frame = get_df_voxel_subtracted_frame(list_df_voxel_scene, frame_idx, n_frames_per_side, shift)\n",
      "1.2914457321166992 : df_frame_orig['voxel_id'] =  df_frame_orig.apply(lambda x: point_to_voxel(x, voxel_size), axis=1)\n",
      "0.0013384819030761719 : df_labels = df_frame_orig.voxel_id.isin(df_subtracted_frame.voxel_id)\n",
      "(13, 5)\n",
      "(3, 5)\n",
      "0.175034761428833 : df_frame_orig_subtracted = df_frame_orig[df_labels]\n",
      "(77, 5)\n",
      "file_labels: voxelling_output/submission_files/test_vid_19_pred__final/0000282_labels.csv\n",
      "0.08846807479858398 : df_labels.to_csv(pickles_path+\"df_labels__frame_%d__%s__voxel_size_%d_(%d,%d,%d).p\"%(frame_idx, vid, voxel_size, n_frames_per_side, shift, n_frames_per_side))\n",
      "77\n",
      "0.002992868423461914 : save_frame_for_movie(df_frame_orig_subtracted, \"tmp_only_labeled/\", all_files, frame_idx)\n"
     ]
    },
    {
     "name": "stderr",
     "output_type": "stream",
     "text": [
      "\r",
      " 28%|████████████████████████████████████████████▍                                                                                                                | 283/1000 [38:32<1:37:37,  8.17s/it]"
     ]
    },
    {
     "name": "stdout",
     "output_type": "stream",
     "text": [
      "=========================================================================\n",
      "frame_idx = 283\n",
      "=========================================================================\n",
      "0.0 : list_idx = get_list_idx_for_frame(frame_idx, n_frames_per_side, shift)\n",
      "10.353053331375122 : df_subtracted_frame = get_df_voxel_subtracted_frame(list_df_voxel_scene, frame_idx, n_frames_per_side, shift)\n",
      "1.2707016468048096 : df_frame_orig['voxel_id'] =  df_frame_orig.apply(lambda x: point_to_voxel(x, voxel_size), axis=1)\n",
      "0.0009984970092773438 : df_labels = df_frame_orig.voxel_id.isin(df_subtracted_frame.voxel_id)\n",
      "(7, 5)\n",
      "(3, 5)\n",
      "0.17715978622436523 : df_frame_orig_subtracted = df_frame_orig[df_labels]\n",
      "(84, 5)\n",
      "file_labels: voxelling_output/submission_files/test_vid_19_pred__final/0000283_labels.csv\n",
      "0.0919191837310791 : df_labels.to_csv(pickles_path+\"df_labels__frame_%d__%s__voxel_size_%d_(%d,%d,%d).p\"%(frame_idx, vid, voxel_size, n_frames_per_side, shift, n_frames_per_side))\n",
      "84\n",
      "0.0029926300048828125 : save_frame_for_movie(df_frame_orig_subtracted, \"tmp_only_labeled/\", all_files, frame_idx)\n"
     ]
    },
    {
     "name": "stderr",
     "output_type": "stream",
     "text": [
      "\r",
      " 28%|████████████████████████████████████████████▌                                                                                                                | 284/1000 [38:43<1:37:39,  8.18s/it]"
     ]
    },
    {
     "name": "stdout",
     "output_type": "stream",
     "text": [
      "=========================================================================\n",
      "frame_idx = 284\n",
      "=========================================================================\n",
      "0.0 : list_idx = get_list_idx_for_frame(frame_idx, n_frames_per_side, shift)\n",
      "10.342156171798706 : df_subtracted_frame = get_df_voxel_subtracted_frame(list_df_voxel_scene, frame_idx, n_frames_per_side, shift)\n",
      "1.2709357738494873 : df_frame_orig['voxel_id'] =  df_frame_orig.apply(lambda x: point_to_voxel(x, voxel_size), axis=1)\n",
      "0.000993967056274414 : df_labels = df_frame_orig.voxel_id.isin(df_subtracted_frame.voxel_id)\n",
      "(13, 5)\n",
      "(3, 5)\n",
      "0.17543482780456543 : df_frame_orig_subtracted = df_frame_orig[df_labels]\n",
      "(82, 5)\n",
      "file_labels: voxelling_output/submission_files/test_vid_19_pred__final/0000284_labels.csv\n",
      "0.09274935722351074 : df_labels.to_csv(pickles_path+\"df_labels__frame_%d__%s__voxel_size_%d_(%d,%d,%d).p\"%(frame_idx, vid, voxel_size, n_frames_per_side, shift, n_frames_per_side))\n",
      "82\n",
      "0.0019943714141845703 : save_frame_for_movie(df_frame_orig_subtracted, \"tmp_only_labeled/\", all_files, frame_idx)\n"
     ]
    },
    {
     "name": "stderr",
     "output_type": "stream",
     "text": [
      "\r",
      " 28%|████████████████████████████████████████████▋                                                                                                                | 285/1000 [38:55<1:37:40,  8.20s/it]"
     ]
    },
    {
     "name": "stdout",
     "output_type": "stream",
     "text": [
      "=========================================================================\n",
      "frame_idx = 285\n",
      "=========================================================================\n",
      "0.0 : list_idx = get_list_idx_for_frame(frame_idx, n_frames_per_side, shift)\n",
      "10.58479642868042 : df_subtracted_frame = get_df_voxel_subtracted_frame(list_df_voxel_scene, frame_idx, n_frames_per_side, shift)\n",
      "1.2699577808380127 : df_frame_orig['voxel_id'] =  df_frame_orig.apply(lambda x: point_to_voxel(x, voxel_size), axis=1)\n",
      "0.0009875297546386719 : df_labels = df_frame_orig.voxel_id.isin(df_subtracted_frame.voxel_id)\n",
      "(10, 5)\n",
      "(2, 5)\n",
      "0.1895902156829834 : df_frame_orig_subtracted = df_frame_orig[df_labels]\n",
      "(76, 5)\n",
      "file_labels: voxelling_output/submission_files/test_vid_19_pred__final/0000285_labels.csv\n",
      "0.09873318672180176 : df_labels.to_csv(pickles_path+\"df_labels__frame_%d__%s__voxel_size_%d_(%d,%d,%d).p\"%(frame_idx, vid, voxel_size, n_frames_per_side, shift, n_frames_per_side))\n",
      "76\n",
      "0.0029916763305664062 : save_frame_for_movie(df_frame_orig_subtracted, \"tmp_only_labeled/\", all_files, frame_idx)\n"
     ]
    },
    {
     "name": "stderr",
     "output_type": "stream",
     "text": [
      "\r",
      " 29%|████████████████████████████████████████████▉                                                                                                                | 286/1000 [39:08<1:37:41,  8.21s/it]"
     ]
    },
    {
     "name": "stdout",
     "output_type": "stream",
     "text": [
      "=========================================================================\n",
      "frame_idx = 286\n",
      "=========================================================================\n",
      "0.0 : list_idx = get_list_idx_for_frame(frame_idx, n_frames_per_side, shift)\n",
      "10.396124362945557 : df_subtracted_frame = get_df_voxel_subtracted_frame(list_df_voxel_scene, frame_idx, n_frames_per_side, shift)\n",
      "1.3216638565063477 : df_frame_orig['voxel_id'] =  df_frame_orig.apply(lambda x: point_to_voxel(x, voxel_size), axis=1)\n",
      "0.0019981861114501953 : df_labels = df_frame_orig.voxel_id.isin(df_subtracted_frame.voxel_id)\n",
      "(9, 5)\n",
      "(1, 5)\n",
      "0.17950749397277832 : df_frame_orig_subtracted = df_frame_orig[df_labels]\n",
      "(89, 5)\n",
      "file_labels: voxelling_output/submission_files/test_vid_19_pred__final/0000286_labels.csv\n",
      "0.08676695823669434 : df_labels.to_csv(pickles_path+\"df_labels__frame_%d__%s__voxel_size_%d_(%d,%d,%d).p\"%(frame_idx, vid, voxel_size, n_frames_per_side, shift, n_frames_per_side))\n",
      "89\n",
      "0.003983497619628906 : save_frame_for_movie(df_frame_orig_subtracted, \"tmp_only_labeled/\", all_files, frame_idx)\n"
     ]
    },
    {
     "name": "stderr",
     "output_type": "stream",
     "text": [
      "\r",
      " 29%|█████████████████████████████████████████████                                                                                                                | 287/1000 [39:20<1:37:43,  8.22s/it]"
     ]
    },
    {
     "name": "stdout",
     "output_type": "stream",
     "text": [
      "=========================================================================\n",
      "frame_idx = 287\n",
      "=========================================================================\n",
      "0.0009975433349609375 : list_idx = get_list_idx_for_frame(frame_idx, n_frames_per_side, shift)\n",
      "10.480344533920288 : df_subtracted_frame = get_df_voxel_subtracted_frame(list_df_voxel_scene, frame_idx, n_frames_per_side, shift)\n",
      "1.2791845798492432 : df_frame_orig['voxel_id'] =  df_frame_orig.apply(lambda x: point_to_voxel(x, voxel_size), axis=1)\n",
      "0.0019850730895996094 : df_labels = df_frame_orig.voxel_id.isin(df_subtracted_frame.voxel_id)\n",
      "(13, 5)\n",
      "(1, 5)\n",
      "0.17752480506896973 : df_frame_orig_subtracted = df_frame_orig[df_labels]\n",
      "(72, 5)\n",
      "file_labels: voxelling_output/submission_files/test_vid_19_pred__final/0000287_labels.csv\n",
      "0.08910179138183594 : df_labels.to_csv(pickles_path+\"df_labels__frame_%d__%s__voxel_size_%d_(%d,%d,%d).p\"%(frame_idx, vid, voxel_size, n_frames_per_side, shift, n_frames_per_side))\n",
      "72\n",
      "0.0029921531677246094 : save_frame_for_movie(df_frame_orig_subtracted, \"tmp_only_labeled/\", all_files, frame_idx)\n"
     ]
    },
    {
     "name": "stderr",
     "output_type": "stream",
     "text": [
      "\r",
      " 29%|█████████████████████████████████████████████▏                                                                                                               | 288/1000 [39:32<1:37:44,  8.24s/it]"
     ]
    },
    {
     "name": "stdout",
     "output_type": "stream",
     "text": [
      "=========================================================================\n",
      "frame_idx = 288\n",
      "=========================================================================\n",
      "0.0010135173797607422 : list_idx = get_list_idx_for_frame(frame_idx, n_frames_per_side, shift)\n",
      "10.499986171722412 : df_subtracted_frame = get_df_voxel_subtracted_frame(list_df_voxel_scene, frame_idx, n_frames_per_side, shift)\n",
      "1.2860472202301025 : df_frame_orig['voxel_id'] =  df_frame_orig.apply(lambda x: point_to_voxel(x, voxel_size), axis=1)\n",
      "0.001993894577026367 : df_labels = df_frame_orig.voxel_id.isin(df_subtracted_frame.voxel_id)\n",
      "(6, 5)\n",
      "(5, 5)\n",
      "0.1755812168121338 : df_frame_orig_subtracted = df_frame_orig[df_labels]\n",
      "(77, 5)\n",
      "file_labels: voxelling_output/submission_files/test_vid_19_pred__final/0000288_labels.csv\n",
      "0.09374713897705078 : df_labels.to_csv(pickles_path+\"df_labels__frame_%d__%s__voxel_size_%d_(%d,%d,%d).p\"%(frame_idx, vid, voxel_size, n_frames_per_side, shift, n_frames_per_side))\n",
      "77\n",
      "0.0029914379119873047 : save_frame_for_movie(df_frame_orig_subtracted, \"tmp_only_labeled/\", all_files, frame_idx)\n"
     ]
    },
    {
     "name": "stderr",
     "output_type": "stream",
     "text": [
      "\r",
      " 29%|█████████████████████████████████████████████▎                                                                                                               | 289/1000 [39:44<1:37:45,  8.25s/it]"
     ]
    },
    {
     "name": "stdout",
     "output_type": "stream",
     "text": [
      "=========================================================================\n",
      "frame_idx = 289\n",
      "=========================================================================\n",
      "0.0 : list_idx = get_list_idx_for_frame(frame_idx, n_frames_per_side, shift)\n",
      "10.583990097045898 : df_subtracted_frame = get_df_voxel_subtracted_frame(list_df_voxel_scene, frame_idx, n_frames_per_side, shift)\n",
      "1.2816004753112793 : df_frame_orig['voxel_id'] =  df_frame_orig.apply(lambda x: point_to_voxel(x, voxel_size), axis=1)\n",
      "0.0019838809967041016 : df_labels = df_frame_orig.voxel_id.isin(df_subtracted_frame.voxel_id)\n",
      "(11, 5)\n",
      "(8, 5)\n",
      "0.17537569999694824 : df_frame_orig_subtracted = df_frame_orig[df_labels]\n",
      "(73, 5)\n",
      "file_labels: voxelling_output/submission_files/test_vid_19_pred__final/0000289_labels.csv\n",
      "0.0928044319152832 : df_labels.to_csv(pickles_path+\"df_labels__frame_%d__%s__voxel_size_%d_(%d,%d,%d).p\"%(frame_idx, vid, voxel_size, n_frames_per_side, shift, n_frames_per_side))\n",
      "73\n",
      "0.001995563507080078 : save_frame_for_movie(df_frame_orig_subtracted, \"tmp_only_labeled/\", all_files, frame_idx)\n"
     ]
    },
    {
     "name": "stderr",
     "output_type": "stream",
     "text": [
      "\r",
      " 29%|█████████████████████████████████████████████▌                                                                                                               | 290/1000 [39:56<1:37:46,  8.26s/it]"
     ]
    },
    {
     "name": "stdout",
     "output_type": "stream",
     "text": [
      "=========================================================================\n",
      "frame_idx = 290\n",
      "=========================================================================\n",
      "0.0 : list_idx = get_list_idx_for_frame(frame_idx, n_frames_per_side, shift)\n",
      "10.505844831466675 : df_subtracted_frame = get_df_voxel_subtracted_frame(list_df_voxel_scene, frame_idx, n_frames_per_side, shift)\n",
      "1.2916903495788574 : df_frame_orig['voxel_id'] =  df_frame_orig.apply(lambda x: point_to_voxel(x, voxel_size), axis=1)\n",
      "0.0009961128234863281 : df_labels = df_frame_orig.voxel_id.isin(df_subtracted_frame.voxel_id)\n",
      "(13, 5)\n",
      "(13, 5)\n",
      "0.17755818367004395 : df_frame_orig_subtracted = df_frame_orig[df_labels]\n",
      "(68, 5)\n",
      "file_labels: voxelling_output/submission_files/test_vid_19_pred__final/0000290_labels.csv\n",
      "0.09025907516479492 : df_labels.to_csv(pickles_path+\"df_labels__frame_%d__%s__voxel_size_%d_(%d,%d,%d).p\"%(frame_idx, vid, voxel_size, n_frames_per_side, shift, n_frames_per_side))\n",
      "68\n",
      "0.0019876956939697266 : save_frame_for_movie(df_frame_orig_subtracted, \"tmp_only_labeled/\", all_files, frame_idx)\n"
     ]
    },
    {
     "name": "stderr",
     "output_type": "stream",
     "text": [
      "\r",
      " 29%|█████████████████████████████████████████████▋                                                                                                               | 291/1000 [40:08<1:37:48,  8.28s/it]"
     ]
    },
    {
     "name": "stdout",
     "output_type": "stream",
     "text": [
      "=========================================================================\n",
      "frame_idx = 291\n",
      "=========================================================================\n",
      "0.0 : list_idx = get_list_idx_for_frame(frame_idx, n_frames_per_side, shift)\n",
      "10.843867778778076 : df_subtracted_frame = get_df_voxel_subtracted_frame(list_df_voxel_scene, frame_idx, n_frames_per_side, shift)\n",
      "1.277097463607788 : df_frame_orig['voxel_id'] =  df_frame_orig.apply(lambda x: point_to_voxel(x, voxel_size), axis=1)\n",
      "0.0009889602661132812 : df_labels = df_frame_orig.voxel_id.isin(df_subtracted_frame.voxel_id)\n",
      "(12, 5)\n",
      "(13, 5)\n",
      "0.17674899101257324 : df_frame_orig_subtracted = df_frame_orig[df_labels]\n",
      "(72, 5)\n",
      "file_labels: voxelling_output/submission_files/test_vid_19_pred__final/0000291_labels.csv\n",
      "0.09232211112976074 : df_labels.to_csv(pickles_path+\"df_labels__frame_%d__%s__voxel_size_%d_(%d,%d,%d).p\"%(frame_idx, vid, voxel_size, n_frames_per_side, shift, n_frames_per_side))\n",
      "72\n",
      "0.0019876956939697266 : save_frame_for_movie(df_frame_orig_subtracted, \"tmp_only_labeled/\", all_files, frame_idx)\n"
     ]
    },
    {
     "name": "stderr",
     "output_type": "stream",
     "text": [
      "\r",
      " 29%|█████████████████████████████████████████████▊                                                                                                               | 292/1000 [40:20<1:37:49,  8.29s/it]"
     ]
    },
    {
     "name": "stdout",
     "output_type": "stream",
     "text": [
      "=========================================================================\n",
      "frame_idx = 292\n",
      "=========================================================================\n",
      "0.0009951591491699219 : list_idx = get_list_idx_for_frame(frame_idx, n_frames_per_side, shift)\n",
      "10.586199760437012 : df_subtracted_frame = get_df_voxel_subtracted_frame(list_df_voxel_scene, frame_idx, n_frames_per_side, shift)\n",
      "1.2887842655181885 : df_frame_orig['voxel_id'] =  df_frame_orig.apply(lambda x: point_to_voxel(x, voxel_size), axis=1)\n",
      "0.001993417739868164 : df_labels = df_frame_orig.voxel_id.isin(df_subtracted_frame.voxel_id)\n",
      "(9, 5)\n",
      "(9, 5)\n",
      "0.18988704681396484 : df_frame_orig_subtracted = df_frame_orig[df_labels]\n",
      "(73, 5)\n",
      "file_labels: voxelling_output/submission_files/test_vid_19_pred__final/0000292_labels.csv\n",
      "0.0912923812866211 : df_labels.to_csv(pickles_path+\"df_labels__frame_%d__%s__voxel_size_%d_(%d,%d,%d).p\"%(frame_idx, vid, voxel_size, n_frames_per_side, shift, n_frames_per_side))\n",
      "73\n",
      "0.003977775573730469 : save_frame_for_movie(df_frame_orig_subtracted, \"tmp_only_labeled/\", all_files, frame_idx)\n"
     ]
    },
    {
     "name": "stderr",
     "output_type": "stream",
     "text": [
      "\r",
      " 29%|██████████████████████████████████████████████                                                                                                               | 293/1000 [40:33<1:37:50,  8.30s/it]"
     ]
    },
    {
     "name": "stdout",
     "output_type": "stream",
     "text": [
      "=========================================================================\n",
      "frame_idx = 293\n",
      "=========================================================================\n",
      "0.0 : list_idx = get_list_idx_for_frame(frame_idx, n_frames_per_side, shift)\n",
      "10.479846954345703 : df_subtracted_frame = get_df_voxel_subtracted_frame(list_df_voxel_scene, frame_idx, n_frames_per_side, shift)\n",
      "1.284959077835083 : df_frame_orig['voxel_id'] =  df_frame_orig.apply(lambda x: point_to_voxel(x, voxel_size), axis=1)\n",
      "0.0020034313201904297 : df_labels = df_frame_orig.voxel_id.isin(df_subtracted_frame.voxel_id)\n",
      "(12, 5)\n",
      "(15, 5)\n",
      "0.17503595352172852 : df_frame_orig_subtracted = df_frame_orig[df_labels]\n",
      "(62, 5)\n",
      "file_labels: voxelling_output/submission_files/test_vid_19_pred__final/0000293_labels.csv\n",
      "0.09275293350219727 : df_labels.to_csv(pickles_path+\"df_labels__frame_%d__%s__voxel_size_%d_(%d,%d,%d).p\"%(frame_idx, vid, voxel_size, n_frames_per_side, shift, n_frames_per_side))\n",
      "62\n",
      "0.002995014190673828 : save_frame_for_movie(df_frame_orig_subtracted, \"tmp_only_labeled/\", all_files, frame_idx)\n"
     ]
    },
    {
     "name": "stderr",
     "output_type": "stream",
     "text": [
      "\r",
      " 29%|██████████████████████████████████████████████▏                                                                                                              | 294/1000 [40:45<1:37:51,  8.32s/it]"
     ]
    },
    {
     "name": "stdout",
     "output_type": "stream",
     "text": [
      "=========================================================================\n",
      "frame_idx = 294\n",
      "=========================================================================\n",
      "0.0 : list_idx = get_list_idx_for_frame(frame_idx, n_frames_per_side, shift)\n",
      "10.525179624557495 : df_subtracted_frame = get_df_voxel_subtracted_frame(list_df_voxel_scene, frame_idx, n_frames_per_side, shift)\n",
      "1.2868363857269287 : df_frame_orig['voxel_id'] =  df_frame_orig.apply(lambda x: point_to_voxel(x, voxel_size), axis=1)\n",
      "0.0019910335540771484 : df_labels = df_frame_orig.voxel_id.isin(df_subtracted_frame.voxel_id)\n",
      "(11, 5)\n",
      "(13, 5)\n",
      "0.17955231666564941 : df_frame_orig_subtracted = df_frame_orig[df_labels]\n",
      "(65, 5)\n",
      "file_labels: voxelling_output/submission_files/test_vid_19_pred__final/0000294_labels.csv\n",
      "0.09672164916992188 : df_labels.to_csv(pickles_path+\"df_labels__frame_%d__%s__voxel_size_%d_(%d,%d,%d).p\"%(frame_idx, vid, voxel_size, n_frames_per_side, shift, n_frames_per_side))\n",
      "65\n",
      "0.001984119415283203 : save_frame_for_movie(df_frame_orig_subtracted, \"tmp_only_labeled/\", all_files, frame_idx)\n"
     ]
    },
    {
     "name": "stderr",
     "output_type": "stream",
     "text": [
      "\r",
      " 30%|██████████████████████████████████████████████▎                                                                                                              | 295/1000 [40:57<1:37:52,  8.33s/it]"
     ]
    },
    {
     "name": "stdout",
     "output_type": "stream",
     "text": [
      "=========================================================================\n",
      "frame_idx = 295\n",
      "=========================================================================\n",
      "0.0 : list_idx = get_list_idx_for_frame(frame_idx, n_frames_per_side, shift)\n",
      "10.488196611404419 : df_subtracted_frame = get_df_voxel_subtracted_frame(list_df_voxel_scene, frame_idx, n_frames_per_side, shift)\n",
      "1.2951247692108154 : df_frame_orig['voxel_id'] =  df_frame_orig.apply(lambda x: point_to_voxel(x, voxel_size), axis=1)\n",
      "0.000997781753540039 : df_labels = df_frame_orig.voxel_id.isin(df_subtracted_frame.voxel_id)\n",
      "(10, 5)\n",
      "(18, 5)\n",
      "0.1765141487121582 : df_frame_orig_subtracted = df_frame_orig[df_labels]\n",
      "(74, 5)\n",
      "file_labels: voxelling_output/submission_files/test_vid_19_pred__final/0000295_labels.csv\n",
      "0.0907588005065918 : df_labels.to_csv(pickles_path+\"df_labels__frame_%d__%s__voxel_size_%d_(%d,%d,%d).p\"%(frame_idx, vid, voxel_size, n_frames_per_side, shift, n_frames_per_side))\n",
      "74\n",
      "0.0019941329956054688 : save_frame_for_movie(df_frame_orig_subtracted, \"tmp_only_labeled/\", all_files, frame_idx)\n"
     ]
    },
    {
     "name": "stderr",
     "output_type": "stream",
     "text": [
      "\r",
      " 30%|██████████████████████████████████████████████▍                                                                                                              | 296/1000 [41:09<1:37:53,  8.34s/it]"
     ]
    },
    {
     "name": "stdout",
     "output_type": "stream",
     "text": [
      "=========================================================================\n",
      "frame_idx = 296\n",
      "=========================================================================\n",
      "0.0 : list_idx = get_list_idx_for_frame(frame_idx, n_frames_per_side, shift)\n",
      "10.546036005020142 : df_subtracted_frame = get_df_voxel_subtracted_frame(list_df_voxel_scene, frame_idx, n_frames_per_side, shift)\n",
      "1.2836863994598389 : df_frame_orig['voxel_id'] =  df_frame_orig.apply(lambda x: point_to_voxel(x, voxel_size), axis=1)\n",
      "0.0009903907775878906 : df_labels = df_frame_orig.voxel_id.isin(df_subtracted_frame.voxel_id)\n",
      "(8, 5)\n",
      "(23, 5)\n",
      "0.1765122413635254 : df_frame_orig_subtracted = df_frame_orig[df_labels]\n",
      "(77, 5)\n",
      "file_labels: voxelling_output/submission_files/test_vid_19_pred__final/0000296_labels.csv\n",
      "0.08776378631591797 : df_labels.to_csv(pickles_path+\"df_labels__frame_%d__%s__voxel_size_%d_(%d,%d,%d).p\"%(frame_idx, vid, voxel_size, n_frames_per_side, shift, n_frames_per_side))\n",
      "77\n",
      "0.002992868423461914 : save_frame_for_movie(df_frame_orig_subtracted, \"tmp_only_labeled/\", all_files, frame_idx)\n"
     ]
    },
    {
     "name": "stderr",
     "output_type": "stream",
     "text": [
      "\r",
      " 30%|██████████████████████████████████████████████▋                                                                                                              | 297/1000 [41:21<1:37:53,  8.36s/it]"
     ]
    },
    {
     "name": "stdout",
     "output_type": "stream",
     "text": [
      "=========================================================================\n",
      "frame_idx = 297\n",
      "=========================================================================\n",
      "0.0 : list_idx = get_list_idx_for_frame(frame_idx, n_frames_per_side, shift)\n",
      "10.6326265335083 : df_subtracted_frame = get_df_voxel_subtracted_frame(list_df_voxel_scene, frame_idx, n_frames_per_side, shift)\n",
      "1.2772197723388672 : df_frame_orig['voxel_id'] =  df_frame_orig.apply(lambda x: point_to_voxel(x, voxel_size), axis=1)\n",
      "0.00099945068359375 : df_labels = df_frame_orig.voxel_id.isin(df_subtracted_frame.voxel_id)\n",
      "(11, 5)\n",
      "(24, 5)\n",
      "0.17543959617614746 : df_frame_orig_subtracted = df_frame_orig[df_labels]\n",
      "(74, 5)\n",
      "file_labels: voxelling_output/submission_files/test_vid_19_pred__final/0000297_labels.csv\n",
      "0.09232592582702637 : df_labels.to_csv(pickles_path+\"df_labels__frame_%d__%s__voxel_size_%d_(%d,%d,%d).p\"%(frame_idx, vid, voxel_size, n_frames_per_side, shift, n_frames_per_side))\n",
      "74\n",
      "0.002993345260620117 : save_frame_for_movie(df_frame_orig_subtracted, \"tmp_only_labeled/\", all_files, frame_idx)\n"
     ]
    },
    {
     "name": "stderr",
     "output_type": "stream",
     "text": [
      "\r",
      " 30%|██████████████████████████████████████████████▊                                                                                                              | 298/1000 [41:33<1:37:54,  8.37s/it]"
     ]
    },
    {
     "name": "stdout",
     "output_type": "stream",
     "text": [
      "=========================================================================\n",
      "frame_idx = 298\n",
      "=========================================================================\n",
      "0.0 : list_idx = get_list_idx_for_frame(frame_idx, n_frames_per_side, shift)\n",
      "10.64948844909668 : df_subtracted_frame = get_df_voxel_subtracted_frame(list_df_voxel_scene, frame_idx, n_frames_per_side, shift)\n",
      "1.2686703205108643 : df_frame_orig['voxel_id'] =  df_frame_orig.apply(lambda x: point_to_voxel(x, voxel_size), axis=1)\n",
      "0.0019910335540771484 : df_labels = df_frame_orig.voxel_id.isin(df_subtracted_frame.voxel_id)\n",
      "(8, 5)\n",
      "(23, 5)\n",
      "0.17955350875854492 : df_frame_orig_subtracted = df_frame_orig[df_labels]\n",
      "(71, 5)\n",
      "file_labels: voxelling_output/submission_files/test_vid_19_pred__final/0000298_labels.csv\n",
      "0.09313464164733887 : df_labels.to_csv(pickles_path+\"df_labels__frame_%d__%s__voxel_size_%d_(%d,%d,%d).p\"%(frame_idx, vid, voxel_size, n_frames_per_side, shift, n_frames_per_side))\n",
      "71\n",
      "0.0029926300048828125 : save_frame_for_movie(df_frame_orig_subtracted, \"tmp_only_labeled/\", all_files, frame_idx)\n"
     ]
    },
    {
     "name": "stderr",
     "output_type": "stream",
     "text": [
      "\r",
      " 30%|██████████████████████████████████████████████▉                                                                                                              | 299/1000 [41:45<1:37:55,  8.38s/it]"
     ]
    },
    {
     "name": "stdout",
     "output_type": "stream",
     "text": [
      "=========================================================================\n",
      "frame_idx = 299\n",
      "=========================================================================\n",
      "0.0 : list_idx = get_list_idx_for_frame(frame_idx, n_frames_per_side, shift)\n",
      "10.693069458007812 : df_subtracted_frame = get_df_voxel_subtracted_frame(list_df_voxel_scene, frame_idx, n_frames_per_side, shift)\n",
      "1.276294231414795 : df_frame_orig['voxel_id'] =  df_frame_orig.apply(lambda x: point_to_voxel(x, voxel_size), axis=1)\n",
      "0.0009961128234863281 : df_labels = df_frame_orig.voxel_id.isin(df_subtracted_frame.voxel_id)\n",
      "(9, 5)\n",
      "(31, 5)\n",
      "0.1751537322998047 : df_frame_orig_subtracted = df_frame_orig[df_labels]\n",
      "(100, 5)\n",
      "file_labels: voxelling_output/submission_files/test_vid_19_pred__final/0000299_labels.csv\n",
      "0.08859920501708984 : df_labels.to_csv(pickles_path+\"df_labels__frame_%d__%s__voxel_size_%d_(%d,%d,%d).p\"%(frame_idx, vid, voxel_size, n_frames_per_side, shift, n_frames_per_side))\n",
      "100\n",
      "0.002996206283569336 : save_frame_for_movie(df_frame_orig_subtracted, \"tmp_only_labeled/\", all_files, frame_idx)\n"
     ]
    },
    {
     "name": "stderr",
     "output_type": "stream",
     "text": [
      "\r",
      " 30%|███████████████████████████████████████████████                                                                                                              | 300/1000 [41:58<1:37:55,  8.39s/it]"
     ]
    },
    {
     "name": "stdout",
     "output_type": "stream",
     "text": [
      "=========================================================================\n",
      "frame_idx = 300\n",
      "=========================================================================\n",
      "0.0 : list_idx = get_list_idx_for_frame(frame_idx, n_frames_per_side, shift)\n",
      "10.710237979888916 : df_subtracted_frame = get_df_voxel_subtracted_frame(list_df_voxel_scene, frame_idx, n_frames_per_side, shift)\n",
      "1.3143420219421387 : df_frame_orig['voxel_id'] =  df_frame_orig.apply(lambda x: point_to_voxel(x, voxel_size), axis=1)\n",
      "0.0009949207305908203 : df_labels = df_frame_orig.voxel_id.isin(df_subtracted_frame.voxel_id)\n",
      "(11, 5)\n",
      "(26, 5)\n",
      "0.17558526992797852 : df_frame_orig_subtracted = df_frame_orig[df_labels]\n",
      "(116, 5)\n",
      "file_labels: voxelling_output/submission_files/test_vid_19_pred__final/0000300_labels.csv\n",
      "0.09074044227600098 : df_labels.to_csv(pickles_path+\"df_labels__frame_%d__%s__voxel_size_%d_(%d,%d,%d).p\"%(frame_idx, vid, voxel_size, n_frames_per_side, shift, n_frames_per_side))\n",
      "116\n",
      "0.0019893646240234375 : save_frame_for_movie(df_frame_orig_subtracted, \"tmp_only_labeled/\", all_files, frame_idx)\n"
     ]
    },
    {
     "name": "stderr",
     "output_type": "stream",
     "text": [
      "\r",
      " 30%|███████████████████████████████████████████████▎                                                                                                             | 301/1000 [42:10<1:37:56,  8.41s/it]"
     ]
    },
    {
     "name": "stdout",
     "output_type": "stream",
     "text": [
      "=========================================================================\n",
      "frame_idx = 301\n",
      "=========================================================================\n",
      "0.0 : list_idx = get_list_idx_for_frame(frame_idx, n_frames_per_side, shift)\n",
      "10.806201457977295 : df_subtracted_frame = get_df_voxel_subtracted_frame(list_df_voxel_scene, frame_idx, n_frames_per_side, shift)\n",
      "1.2803757190704346 : df_frame_orig['voxel_id'] =  df_frame_orig.apply(lambda x: point_to_voxel(x, voxel_size), axis=1)\n",
      "0.001992464065551758 : df_labels = df_frame_orig.voxel_id.isin(df_subtracted_frame.voxel_id)\n",
      "(8, 5)\n",
      "(31, 5)\n",
      "0.17668604850769043 : df_frame_orig_subtracted = df_frame_orig[df_labels]\n",
      "(121, 5)\n",
      "file_labels: voxelling_output/submission_files/test_vid_19_pred__final/0000301_labels.csv\n",
      "0.09377360343933105 : df_labels.to_csv(pickles_path+\"df_labels__frame_%d__%s__voxel_size_%d_(%d,%d,%d).p\"%(frame_idx, vid, voxel_size, n_frames_per_side, shift, n_frames_per_side))\n",
      "121\n",
      "0.003993511199951172 : save_frame_for_movie(df_frame_orig_subtracted, \"tmp_only_labeled/\", all_files, frame_idx)\n"
     ]
    },
    {
     "name": "stderr",
     "output_type": "stream",
     "text": [
      "\r",
      " 30%|███████████████████████████████████████████████▍                                                                                                             | 302/1000 [42:22<1:37:57,  8.42s/it]"
     ]
    },
    {
     "name": "stdout",
     "output_type": "stream",
     "text": [
      "=========================================================================\n",
      "frame_idx = 302\n",
      "=========================================================================\n",
      "0.0 : list_idx = get_list_idx_for_frame(frame_idx, n_frames_per_side, shift)\n",
      "10.748204708099365 : df_subtracted_frame = get_df_voxel_subtracted_frame(list_df_voxel_scene, frame_idx, n_frames_per_side, shift)\n",
      "1.2897140979766846 : df_frame_orig['voxel_id'] =  df_frame_orig.apply(lambda x: point_to_voxel(x, voxel_size), axis=1)\n",
      "0.0010073184967041016 : df_labels = df_frame_orig.voxel_id.isin(df_subtracted_frame.voxel_id)\n",
      "(9, 5)\n",
      "(25, 5)\n",
      "0.17852139472961426 : df_frame_orig_subtracted = df_frame_orig[df_labels]\n",
      "(138, 5)\n",
      "file_labels: voxelling_output/submission_files/test_vid_19_pred__final/0000302_labels.csv\n",
      "0.09474468231201172 : df_labels.to_csv(pickles_path+\"df_labels__frame_%d__%s__voxel_size_%d_(%d,%d,%d).p\"%(frame_idx, vid, voxel_size, n_frames_per_side, shift, n_frames_per_side))\n",
      "138\n",
      "0.0019958019256591797 : save_frame_for_movie(df_frame_orig_subtracted, \"tmp_only_labeled/\", all_files, frame_idx)\n"
     ]
    },
    {
     "name": "stderr",
     "output_type": "stream",
     "text": [
      "\r",
      " 30%|███████████████████████████████████████████████▌                                                                                                             | 303/1000 [42:35<1:37:57,  8.43s/it]"
     ]
    },
    {
     "name": "stdout",
     "output_type": "stream",
     "text": [
      "=========================================================================\n",
      "frame_idx = 303\n",
      "=========================================================================\n",
      "0.000997304916381836 : list_idx = get_list_idx_for_frame(frame_idx, n_frames_per_side, shift)\n",
      "10.729935884475708 : df_subtracted_frame = get_df_voxel_subtracted_frame(list_df_voxel_scene, frame_idx, n_frames_per_side, shift)\n",
      "1.279069185256958 : df_frame_orig['voxel_id'] =  df_frame_orig.apply(lambda x: point_to_voxel(x, voxel_size), axis=1)\n",
      "0.0020101070404052734 : df_labels = df_frame_orig.voxel_id.isin(df_subtracted_frame.voxel_id)\n",
      "(8, 5)\n",
      "(24, 5)\n",
      "0.17466497421264648 : df_frame_orig_subtracted = df_frame_orig[df_labels]\n",
      "(139, 5)\n",
      "file_labels: voxelling_output/submission_files/test_vid_19_pred__final/0000303_labels.csv\n",
      "0.09823822975158691 : df_labels.to_csv(pickles_path+\"df_labels__frame_%d__%s__voxel_size_%d_(%d,%d,%d).p\"%(frame_idx, vid, voxel_size, n_frames_per_side, shift, n_frames_per_side))\n",
      "139\n",
      "0.0029935836791992188 : save_frame_for_movie(df_frame_orig_subtracted, \"tmp_only_labeled/\", all_files, frame_idx)\n"
     ]
    },
    {
     "name": "stderr",
     "output_type": "stream",
     "text": [
      "\r",
      " 30%|███████████████████████████████████████████████▋                                                                                                             | 304/1000 [42:47<1:37:58,  8.45s/it]"
     ]
    },
    {
     "name": "stdout",
     "output_type": "stream",
     "text": [
      "=========================================================================\n",
      "frame_idx = 304\n",
      "=========================================================================\n",
      "0.0 : list_idx = get_list_idx_for_frame(frame_idx, n_frames_per_side, shift)\n",
      "10.725836515426636 : df_subtracted_frame = get_df_voxel_subtracted_frame(list_df_voxel_scene, frame_idx, n_frames_per_side, shift)\n",
      "1.282365083694458 : df_frame_orig['voxel_id'] =  df_frame_orig.apply(lambda x: point_to_voxel(x, voxel_size), axis=1)\n",
      "0.0009975433349609375 : df_labels = df_frame_orig.voxel_id.isin(df_subtracted_frame.voxel_id)\n",
      "(9, 5)\n",
      "(25, 5)\n",
      "0.22944426536560059 : df_frame_orig_subtracted = df_frame_orig[df_labels]\n",
      "(158, 5)\n",
      "file_labels: voxelling_output/submission_files/test_vid_19_pred__final/0000304_labels.csv\n",
      "0.09926438331604004 : df_labels.to_csv(pickles_path+\"df_labels__frame_%d__%s__voxel_size_%d_(%d,%d,%d).p\"%(frame_idx, vid, voxel_size, n_frames_per_side, shift, n_frames_per_side))\n",
      "158\n",
      "0.0019948482513427734 : save_frame_for_movie(df_frame_orig_subtracted, \"tmp_only_labeled/\", all_files, frame_idx)\n"
     ]
    },
    {
     "name": "stderr",
     "output_type": "stream",
     "text": [
      "\r",
      " 30%|███████████████████████████████████████████████▉                                                                                                             | 305/1000 [42:59<1:37:58,  8.46s/it]"
     ]
    },
    {
     "name": "stdout",
     "output_type": "stream",
     "text": [
      "=========================================================================\n",
      "frame_idx = 305\n",
      "=========================================================================\n",
      "0.0 : list_idx = get_list_idx_for_frame(frame_idx, n_frames_per_side, shift)\n",
      "11.241083860397339 : df_subtracted_frame = get_df_voxel_subtracted_frame(list_df_voxel_scene, frame_idx, n_frames_per_side, shift)\n",
      "1.3280344009399414 : df_frame_orig['voxel_id'] =  df_frame_orig.apply(lambda x: point_to_voxel(x, voxel_size), axis=1)\n",
      "0.0009970664978027344 : df_labels = df_frame_orig.voxel_id.isin(df_subtracted_frame.voxel_id)\n",
      "(8, 5)\n",
      "(30, 5)\n",
      "0.18249225616455078 : df_frame_orig_subtracted = df_frame_orig[df_labels]\n",
      "(180, 5)\n",
      "file_labels: voxelling_output/submission_files/test_vid_19_pred__final/0000305_labels.csv\n",
      "0.09109377861022949 : df_labels.to_csv(pickles_path+\"df_labels__frame_%d__%s__voxel_size_%d_(%d,%d,%d).p\"%(frame_idx, vid, voxel_size, n_frames_per_side, shift, n_frames_per_side))\n",
      "180\n",
      "0.0029799938201904297 : save_frame_for_movie(df_frame_orig_subtracted, \"tmp_only_labeled/\", all_files, frame_idx)\n"
     ]
    },
    {
     "name": "stderr",
     "output_type": "stream",
     "text": [
      "\r",
      " 31%|████████████████████████████████████████████████                                                                                                             | 306/1000 [43:12<1:38:00,  8.47s/it]"
     ]
    },
    {
     "name": "stdout",
     "output_type": "stream",
     "text": [
      "=========================================================================\n",
      "frame_idx = 306\n",
      "=========================================================================\n",
      "0.0 : list_idx = get_list_idx_for_frame(frame_idx, n_frames_per_side, shift)\n",
      "11.253196477890015 : df_subtracted_frame = get_df_voxel_subtracted_frame(list_df_voxel_scene, frame_idx, n_frames_per_side, shift)\n",
      "1.3232862949371338 : df_frame_orig['voxel_id'] =  df_frame_orig.apply(lambda x: point_to_voxel(x, voxel_size), axis=1)\n",
      "0.0009562969207763672 : df_labels = df_frame_orig.voxel_id.isin(df_subtracted_frame.voxel_id)\n",
      "(5, 5)\n",
      "(24, 5)\n",
      "0.1787104606628418 : df_frame_orig_subtracted = df_frame_orig[df_labels]\n",
      "(195, 5)\n",
      "file_labels: voxelling_output/submission_files/test_vid_19_pred__final/0000306_labels.csv\n",
      "0.0995633602142334 : df_labels.to_csv(pickles_path+\"df_labels__frame_%d__%s__voxel_size_%d_(%d,%d,%d).p\"%(frame_idx, vid, voxel_size, n_frames_per_side, shift, n_frames_per_side))\n",
      "195\n",
      "0.003989219665527344 : save_frame_for_movie(df_frame_orig_subtracted, \"tmp_only_labeled/\", all_files, frame_idx)\n"
     ]
    },
    {
     "name": "stderr",
     "output_type": "stream",
     "text": [
      "\r",
      " 31%|████████████████████████████████████████████████▏                                                                                                            | 307/1000 [43:25<1:38:01,  8.49s/it]"
     ]
    },
    {
     "name": "stdout",
     "output_type": "stream",
     "text": [
      "=========================================================================\n",
      "frame_idx = 307\n",
      "=========================================================================\n",
      "0.0009915828704833984 : list_idx = get_list_idx_for_frame(frame_idx, n_frames_per_side, shift)\n",
      "11.336087942123413 : df_subtracted_frame = get_df_voxel_subtracted_frame(list_df_voxel_scene, frame_idx, n_frames_per_side, shift)\n",
      "1.3193085193634033 : df_frame_orig['voxel_id'] =  df_frame_orig.apply(lambda x: point_to_voxel(x, voxel_size), axis=1)\n",
      "0.0019838809967041016 : df_labels = df_frame_orig.voxel_id.isin(df_subtracted_frame.voxel_id)\n",
      "(15, 5)\n",
      "(31, 5)\n",
      "0.17910122871398926 : df_frame_orig_subtracted = df_frame_orig[df_labels]\n",
      "(220, 5)\n",
      "file_labels: voxelling_output/submission_files/test_vid_19_pred__final/0000307_labels.csv\n",
      "0.09328746795654297 : df_labels.to_csv(pickles_path+\"df_labels__frame_%d__%s__voxel_size_%d_(%d,%d,%d).p\"%(frame_idx, vid, voxel_size, n_frames_per_side, shift, n_frames_per_side))\n",
      "220\n",
      "0.00299072265625 : save_frame_for_movie(df_frame_orig_subtracted, \"tmp_only_labeled/\", all_files, frame_idx)\n"
     ]
    },
    {
     "name": "stderr",
     "output_type": "stream",
     "text": [
      "\r",
      " 31%|████████████████████████████████████████████████▎                                                                                                            | 308/1000 [43:38<1:38:03,  8.50s/it]"
     ]
    },
    {
     "name": "stdout",
     "output_type": "stream",
     "text": [
      "=========================================================================\n",
      "frame_idx = 308\n",
      "=========================================================================\n",
      "0.0 : list_idx = get_list_idx_for_frame(frame_idx, n_frames_per_side, shift)\n",
      "11.287502765655518 : df_subtracted_frame = get_df_voxel_subtracted_frame(list_df_voxel_scene, frame_idx, n_frames_per_side, shift)\n",
      "1.3336741924285889 : df_frame_orig['voxel_id'] =  df_frame_orig.apply(lambda x: point_to_voxel(x, voxel_size), axis=1)\n",
      "0.001990795135498047 : df_labels = df_frame_orig.voxel_id.isin(df_subtracted_frame.voxel_id)\n",
      "(6, 5)\n",
      "(23, 5)\n",
      "0.17951345443725586 : df_frame_orig_subtracted = df_frame_orig[df_labels]\n",
      "(246, 5)\n",
      "file_labels: voxelling_output/submission_files/test_vid_19_pred__final/0000308_labels.csv\n",
      "0.0957479476928711 : df_labels.to_csv(pickles_path+\"df_labels__frame_%d__%s__voxel_size_%d_(%d,%d,%d).p\"%(frame_idx, vid, voxel_size, n_frames_per_side, shift, n_frames_per_side))\n",
      "246\n",
      "0.003025531768798828 : save_frame_for_movie(df_frame_orig_subtracted, \"tmp_only_labeled/\", all_files, frame_idx)\n"
     ]
    },
    {
     "name": "stderr",
     "output_type": "stream",
     "text": [
      "\r",
      " 31%|████████████████████████████████████████████████▌                                                                                                            | 309/1000 [43:51<1:38:04,  8.52s/it]"
     ]
    },
    {
     "name": "stdout",
     "output_type": "stream",
     "text": [
      "=========================================================================\n",
      "frame_idx = 309\n",
      "=========================================================================\n",
      "0.0009906291961669922 : list_idx = get_list_idx_for_frame(frame_idx, n_frames_per_side, shift)\n",
      "11.360471248626709 : df_subtracted_frame = get_df_voxel_subtracted_frame(list_df_voxel_scene, frame_idx, n_frames_per_side, shift)\n",
      "1.334355354309082 : df_frame_orig['voxel_id'] =  df_frame_orig.apply(lambda x: point_to_voxel(x, voxel_size), axis=1)\n",
      "0.0010020732879638672 : df_labels = df_frame_orig.voxel_id.isin(df_subtracted_frame.voxel_id)\n",
      "(14, 5)\n",
      "(24, 5)\n",
      "0.18208909034729004 : df_frame_orig_subtracted = df_frame_orig[df_labels]\n",
      "(275, 5)\n",
      "file_labels: voxelling_output/submission_files/test_vid_19_pred__final/0000309_labels.csv\n",
      "0.09574484825134277 : df_labels.to_csv(pickles_path+\"df_labels__frame_%d__%s__voxel_size_%d_(%d,%d,%d).p\"%(frame_idx, vid, voxel_size, n_frames_per_side, shift, n_frames_per_side))\n",
      "275\n",
      "0.0029747486114501953 : save_frame_for_movie(df_frame_orig_subtracted, \"tmp_only_labeled/\", all_files, frame_idx)\n"
     ]
    },
    {
     "name": "stderr",
     "output_type": "stream",
     "text": [
      "\r",
      " 31%|████████████████████████████████████████████████▋                                                                                                            | 310/1000 [44:04<1:38:06,  8.53s/it]"
     ]
    },
    {
     "name": "stdout",
     "output_type": "stream",
     "text": [
      "=========================================================================\n",
      "frame_idx = 310\n",
      "=========================================================================\n",
      "0.000997304916381836 : list_idx = get_list_idx_for_frame(frame_idx, n_frames_per_side, shift)\n",
      "11.458067655563354 : df_subtracted_frame = get_df_voxel_subtracted_frame(list_df_voxel_scene, frame_idx, n_frames_per_side, shift)\n",
      "1.334674596786499 : df_frame_orig['voxel_id'] =  df_frame_orig.apply(lambda x: point_to_voxel(x, voxel_size), axis=1)\n",
      "0.0009911060333251953 : df_labels = df_frame_orig.voxel_id.isin(df_subtracted_frame.voxel_id)\n",
      "(13, 5)\n",
      "(30, 5)\n",
      "0.18644928932189941 : df_frame_orig_subtracted = df_frame_orig[df_labels]\n",
      "(282, 5)\n",
      "file_labels: voxelling_output/submission_files/test_vid_19_pred__final/0000310_labels.csv\n",
      "0.09129595756530762 : df_labels.to_csv(pickles_path+\"df_labels__frame_%d__%s__voxel_size_%d_(%d,%d,%d).p\"%(frame_idx, vid, voxel_size, n_frames_per_side, shift, n_frames_per_side))\n",
      "282\n",
      "0.001995086669921875 : save_frame_for_movie(df_frame_orig_subtracted, \"tmp_only_labeled/\", all_files, frame_idx)\n"
     ]
    },
    {
     "name": "stderr",
     "output_type": "stream",
     "text": [
      "\r",
      " 31%|████████████████████████████████████████████████▊                                                                                                            | 311/1000 [44:17<1:38:07,  8.55s/it]"
     ]
    },
    {
     "name": "stdout",
     "output_type": "stream",
     "text": [
      "=========================================================================\n",
      "frame_idx = 311\n",
      "=========================================================================\n",
      "0.0 : list_idx = get_list_idx_for_frame(frame_idx, n_frames_per_side, shift)\n",
      "11.32918643951416 : df_subtracted_frame = get_df_voxel_subtracted_frame(list_df_voxel_scene, frame_idx, n_frames_per_side, shift)\n",
      "1.3460938930511475 : df_frame_orig['voxel_id'] =  df_frame_orig.apply(lambda x: point_to_voxel(x, voxel_size), axis=1)\n",
      "0.0009963512420654297 : df_labels = df_frame_orig.voxel_id.isin(df_subtracted_frame.voxel_id)\n",
      "(12, 5)\n",
      "(27, 5)\n",
      "0.180464506149292 : df_frame_orig_subtracted = df_frame_orig[df_labels]\n",
      "(312, 5)\n",
      "file_labels: voxelling_output/submission_files/test_vid_19_pred__final/0000311_labels.csv\n",
      "0.09420919418334961 : df_labels.to_csv(pickles_path+\"df_labels__frame_%d__%s__voxel_size_%d_(%d,%d,%d).p\"%(frame_idx, vid, voxel_size, n_frames_per_side, shift, n_frames_per_side))\n",
      "312\n",
      "0.003992557525634766 : save_frame_for_movie(df_frame_orig_subtracted, \"tmp_only_labeled/\", all_files, frame_idx)\n"
     ]
    },
    {
     "name": "stderr",
     "output_type": "stream",
     "text": [
      "\r",
      " 31%|████████████████████████████████████████████████▉                                                                                                            | 312/1000 [44:30<1:38:09,  8.56s/it]"
     ]
    },
    {
     "name": "stdout",
     "output_type": "stream",
     "text": [
      "=========================================================================\n",
      "frame_idx = 312\n",
      "=========================================================================\n",
      "0.0010323524475097656 : list_idx = get_list_idx_for_frame(frame_idx, n_frames_per_side, shift)\n",
      "11.406719207763672 : df_subtracted_frame = get_df_voxel_subtracted_frame(list_df_voxel_scene, frame_idx, n_frames_per_side, shift)\n",
      "1.3176093101501465 : df_frame_orig['voxel_id'] =  df_frame_orig.apply(lambda x: point_to_voxel(x, voxel_size), axis=1)\n",
      "0.0010161399841308594 : df_labels = df_frame_orig.voxel_id.isin(df_subtracted_frame.voxel_id)\n",
      "(8, 5)\n",
      "(24, 5)\n",
      "0.1853036880493164 : df_frame_orig_subtracted = df_frame_orig[df_labels]\n",
      "(343, 5)\n",
      "file_labels: voxelling_output/submission_files/test_vid_19_pred__final/0000312_labels.csv\n",
      "0.09926080703735352 : df_labels.to_csv(pickles_path+\"df_labels__frame_%d__%s__voxel_size_%d_(%d,%d,%d).p\"%(frame_idx, vid, voxel_size, n_frames_per_side, shift, n_frames_per_side))\n",
      "343\n",
      "0.002984285354614258 : save_frame_for_movie(df_frame_orig_subtracted, \"tmp_only_labeled/\", all_files, frame_idx)\n"
     ]
    },
    {
     "name": "stderr",
     "output_type": "stream",
     "text": [
      "\r",
      " 31%|█████████████████████████████████████████████████▏                                                                                                           | 313/1000 [44:43<1:38:10,  8.57s/it]"
     ]
    },
    {
     "name": "stdout",
     "output_type": "stream",
     "text": [
      "=========================================================================\n",
      "frame_idx = 313\n",
      "=========================================================================\n",
      "0.0 : list_idx = get_list_idx_for_frame(frame_idx, n_frames_per_side, shift)\n",
      "11.372443675994873 : df_subtracted_frame = get_df_voxel_subtracted_frame(list_df_voxel_scene, frame_idx, n_frames_per_side, shift)\n",
      "1.321718692779541 : df_frame_orig['voxel_id'] =  df_frame_orig.apply(lambda x: point_to_voxel(x, voxel_size), axis=1)\n",
      "0.0009965896606445312 : df_labels = df_frame_orig.voxel_id.isin(df_subtracted_frame.voxel_id)\n",
      "(9, 5)\n",
      "(24, 5)\n",
      "0.17919468879699707 : df_frame_orig_subtracted = df_frame_orig[df_labels]\n",
      "(362, 5)\n",
      "file_labels: voxelling_output/submission_files/test_vid_19_pred__final/0000313_labels.csv\n",
      "0.10374999046325684 : df_labels.to_csv(pickles_path+\"df_labels__frame_%d__%s__voxel_size_%d_(%d,%d,%d).p\"%(frame_idx, vid, voxel_size, n_frames_per_side, shift, n_frames_per_side))\n",
      "362\n",
      "0.0029747486114501953 : save_frame_for_movie(df_frame_orig_subtracted, \"tmp_only_labeled/\", all_files, frame_idx)\n"
     ]
    },
    {
     "name": "stderr",
     "output_type": "stream",
     "text": [
      "\r",
      " 31%|█████████████████████████████████████████████████▎                                                                                                           | 314/1000 [44:56<1:38:11,  8.59s/it]"
     ]
    },
    {
     "name": "stdout",
     "output_type": "stream",
     "text": [
      "=========================================================================\n",
      "frame_idx = 314\n",
      "=========================================================================\n",
      "0.0010154247283935547 : list_idx = get_list_idx_for_frame(frame_idx, n_frames_per_side, shift)\n",
      "11.494779109954834 : df_subtracted_frame = get_df_voxel_subtracted_frame(list_df_voxel_scene, frame_idx, n_frames_per_side, shift)\n",
      "1.3218486309051514 : df_frame_orig['voxel_id'] =  df_frame_orig.apply(lambda x: point_to_voxel(x, voxel_size), axis=1)\n",
      "0.001013040542602539 : df_labels = df_frame_orig.voxel_id.isin(df_subtracted_frame.voxel_id)\n",
      "(13, 5)\n",
      "(29, 5)\n",
      "0.18822741508483887 : df_frame_orig_subtracted = df_frame_orig[df_labels]\n",
      "(367, 5)\n",
      "file_labels: voxelling_output/submission_files/test_vid_19_pred__final/0000314_labels.csv\n",
      "0.09229111671447754 : df_labels.to_csv(pickles_path+\"df_labels__frame_%d__%s__voxel_size_%d_(%d,%d,%d).p\"%(frame_idx, vid, voxel_size, n_frames_per_side, shift, n_frames_per_side))\n",
      "367\n",
      "0.002991199493408203 : save_frame_for_movie(df_frame_orig_subtracted, \"tmp_only_labeled/\", all_files, frame_idx)\n"
     ]
    },
    {
     "name": "stderr",
     "output_type": "stream",
     "text": [
      "\r",
      " 32%|█████████████████████████████████████████████████▍                                                                                                           | 315/1000 [45:09<1:38:12,  8.60s/it]"
     ]
    },
    {
     "name": "stdout",
     "output_type": "stream",
     "text": [
      "=========================================================================\n",
      "frame_idx = 315\n",
      "=========================================================================\n",
      "0.0009903907775878906 : list_idx = get_list_idx_for_frame(frame_idx, n_frames_per_side, shift)\n",
      "11.622756958007812 : df_subtracted_frame = get_df_voxel_subtracted_frame(list_df_voxel_scene, frame_idx, n_frames_per_side, shift)\n",
      "1.331859827041626 : df_frame_orig['voxel_id'] =  df_frame_orig.apply(lambda x: point_to_voxel(x, voxel_size), axis=1)\n",
      "0.001992940902709961 : df_labels = df_frame_orig.voxel_id.isin(df_subtracted_frame.voxel_id)\n",
      "(7, 5)\n",
      "(21, 5)\n",
      "0.1775493621826172 : df_frame_orig_subtracted = df_frame_orig[df_labels]\n",
      "(388, 5)\n",
      "file_labels: voxelling_output/submission_files/test_vid_19_pred__final/0000315_labels.csv\n",
      "0.09766244888305664 : df_labels.to_csv(pickles_path+\"df_labels__frame_%d__%s__voxel_size_%d_(%d,%d,%d).p\"%(frame_idx, vid, voxel_size, n_frames_per_side, shift, n_frames_per_side))\n",
      "388\n",
      "0.003012418746948242 : save_frame_for_movie(df_frame_orig_subtracted, \"tmp_only_labeled/\", all_files, frame_idx)\n"
     ]
    },
    {
     "name": "stderr",
     "output_type": "stream",
     "text": [
      "\r",
      " 32%|█████████████████████████████████████████████████▌                                                                                                           | 316/1000 [45:23<1:38:14,  8.62s/it]"
     ]
    },
    {
     "name": "stdout",
     "output_type": "stream",
     "text": [
      "=========================================================================\n",
      "frame_idx = 316\n",
      "=========================================================================\n",
      "0.001008749008178711 : list_idx = get_list_idx_for_frame(frame_idx, n_frames_per_side, shift)\n",
      "11.517053842544556 : df_subtracted_frame = get_df_voxel_subtracted_frame(list_df_voxel_scene, frame_idx, n_frames_per_side, shift)\n",
      "1.329374074935913 : df_frame_orig['voxel_id'] =  df_frame_orig.apply(lambda x: point_to_voxel(x, voxel_size), axis=1)\n",
      "0.0019881725311279297 : df_labels = df_frame_orig.voxel_id.isin(df_subtracted_frame.voxel_id)\n",
      "(13, 5)\n",
      "(24, 5)\n",
      "0.1795201301574707 : df_frame_orig_subtracted = df_frame_orig[df_labels]\n",
      "(377, 5)\n",
      "file_labels: voxelling_output/submission_files/test_vid_19_pred__final/0000316_labels.csv\n",
      "0.09330582618713379 : df_labels.to_csv(pickles_path+\"df_labels__frame_%d__%s__voxel_size_%d_(%d,%d,%d).p\"%(frame_idx, vid, voxel_size, n_frames_per_side, shift, n_frames_per_side))\n",
      "377\n",
      "0.002997159957885742 : save_frame_for_movie(df_frame_orig_subtracted, \"tmp_only_labeled/\", all_files, frame_idx)\n"
     ]
    },
    {
     "name": "stderr",
     "output_type": "stream",
     "text": [
      "\r",
      " 32%|█████████████████████████████████████████████████▊                                                                                                           | 317/1000 [45:36<1:38:15,  8.63s/it]"
     ]
    },
    {
     "name": "stdout",
     "output_type": "stream",
     "text": [
      "=========================================================================\n",
      "frame_idx = 317\n",
      "=========================================================================\n",
      "0.0 : list_idx = get_list_idx_for_frame(frame_idx, n_frames_per_side, shift)\n",
      "11.553478717803955 : df_subtracted_frame = get_df_voxel_subtracted_frame(list_df_voxel_scene, frame_idx, n_frames_per_side, shift)\n",
      "1.3415699005126953 : df_frame_orig['voxel_id'] =  df_frame_orig.apply(lambda x: point_to_voxel(x, voxel_size), axis=1)\n",
      "0.0019779205322265625 : df_labels = df_frame_orig.voxel_id.isin(df_subtracted_frame.voxel_id)\n",
      "(10, 5)\n",
      "(31, 5)\n",
      "0.1806323528289795 : df_frame_orig_subtracted = df_frame_orig[df_labels]\n",
      "(374, 5)\n",
      "file_labels: voxelling_output/submission_files/test_vid_19_pred__final/0000317_labels.csv\n",
      "0.10079503059387207 : df_labels.to_csv(pickles_path+\"df_labels__frame_%d__%s__voxel_size_%d_(%d,%d,%d).p\"%(frame_idx, vid, voxel_size, n_frames_per_side, shift, n_frames_per_side))\n",
      "374\n",
      "0.002994537353515625 : save_frame_for_movie(df_frame_orig_subtracted, \"tmp_only_labeled/\", all_files, frame_idx)\n"
     ]
    },
    {
     "name": "stderr",
     "output_type": "stream",
     "text": [
      "\r",
      " 32%|█████████████████████████████████████████████████▉                                                                                                           | 318/1000 [45:49<1:38:16,  8.65s/it]"
     ]
    },
    {
     "name": "stdout",
     "output_type": "stream",
     "text": [
      "=========================================================================\n",
      "frame_idx = 318\n",
      "=========================================================================\n",
      "0.0 : list_idx = get_list_idx_for_frame(frame_idx, n_frames_per_side, shift)\n",
      "11.54407787322998 : df_subtracted_frame = get_df_voxel_subtracted_frame(list_df_voxel_scene, frame_idx, n_frames_per_side, shift)\n",
      "1.347984790802002 : df_frame_orig['voxel_id'] =  df_frame_orig.apply(lambda x: point_to_voxel(x, voxel_size), axis=1)\n",
      "0.001998424530029297 : df_labels = df_frame_orig.voxel_id.isin(df_subtracted_frame.voxel_id)\n",
      "(9, 5)\n",
      "(22, 5)\n",
      "0.17625641822814941 : df_frame_orig_subtracted = df_frame_orig[df_labels]\n",
      "(388, 5)\n",
      "file_labels: voxelling_output/submission_files/test_vid_19_pred__final/0000318_labels.csv\n",
      "0.09326791763305664 : df_labels.to_csv(pickles_path+\"df_labels__frame_%d__%s__voxel_size_%d_(%d,%d,%d).p\"%(frame_idx, vid, voxel_size, n_frames_per_side, shift, n_frames_per_side))\n",
      "388\n",
      "0.0029768943786621094 : save_frame_for_movie(df_frame_orig_subtracted, \"tmp_only_labeled/\", all_files, frame_idx)\n"
     ]
    },
    {
     "name": "stderr",
     "output_type": "stream",
     "text": [
      "\r",
      " 32%|██████████████████████████████████████████████████                                                                                                           | 319/1000 [46:02<1:38:17,  8.66s/it]"
     ]
    },
    {
     "name": "stdout",
     "output_type": "stream",
     "text": [
      "=========================================================================\n",
      "frame_idx = 319\n",
      "=========================================================================\n",
      "0.002624034881591797 : list_idx = get_list_idx_for_frame(frame_idx, n_frames_per_side, shift)\n",
      "11.644129753112793 : df_subtracted_frame = get_df_voxel_subtracted_frame(list_df_voxel_scene, frame_idx, n_frames_per_side, shift)\n",
      "1.3315598964691162 : df_frame_orig['voxel_id'] =  df_frame_orig.apply(lambda x: point_to_voxel(x, voxel_size), axis=1)\n",
      "0.0009860992431640625 : df_labels = df_frame_orig.voxel_id.isin(df_subtracted_frame.voxel_id)\n",
      "(13, 5)\n",
      "(31, 5)\n",
      "0.17953705787658691 : df_frame_orig_subtracted = df_frame_orig[df_labels]\n",
      "(373, 5)\n",
      "file_labels: voxelling_output/submission_files/test_vid_19_pred__final/0000319_labels.csv\n",
      "0.09873676300048828 : df_labels.to_csv(pickles_path+\"df_labels__frame_%d__%s__voxel_size_%d_(%d,%d,%d).p\"%(frame_idx, vid, voxel_size, n_frames_per_side, shift, n_frames_per_side))\n",
      "373\n",
      "0.002959012985229492 : save_frame_for_movie(df_frame_orig_subtracted, \"tmp_only_labeled/\", all_files, frame_idx)\n"
     ]
    },
    {
     "name": "stderr",
     "output_type": "stream",
     "text": [
      "\r",
      " 32%|██████████████████████████████████████████████████▏                                                                                                          | 320/1000 [46:15<1:38:18,  8.67s/it]"
     ]
    },
    {
     "name": "stdout",
     "output_type": "stream",
     "text": [
      "=========================================================================\n",
      "frame_idx = 320\n",
      "=========================================================================\n",
      "0.0 : list_idx = get_list_idx_for_frame(frame_idx, n_frames_per_side, shift)\n",
      "11.60680365562439 : df_subtracted_frame = get_df_voxel_subtracted_frame(list_df_voxel_scene, frame_idx, n_frames_per_side, shift)\n",
      "1.342083215713501 : df_frame_orig['voxel_id'] =  df_frame_orig.apply(lambda x: point_to_voxel(x, voxel_size), axis=1)\n",
      "0.0010156631469726562 : df_labels = df_frame_orig.voxel_id.isin(df_subtracted_frame.voxel_id)\n",
      "(6, 5)\n",
      "(33, 5)\n",
      "0.18152093887329102 : df_frame_orig_subtracted = df_frame_orig[df_labels]\n",
      "(380, 5)\n",
      "file_labels: voxelling_output/submission_files/test_vid_19_pred__final/0000320_labels.csv\n",
      "0.09474349021911621 : df_labels.to_csv(pickles_path+\"df_labels__frame_%d__%s__voxel_size_%d_(%d,%d,%d).p\"%(frame_idx, vid, voxel_size, n_frames_per_side, shift, n_frames_per_side))\n",
      "380\n",
      "0.003000974655151367 : save_frame_for_movie(df_frame_orig_subtracted, \"tmp_only_labeled/\", all_files, frame_idx)\n"
     ]
    },
    {
     "name": "stderr",
     "output_type": "stream",
     "text": [
      "\r",
      " 32%|██████████████████████████████████████████████████▍                                                                                                          | 321/1000 [46:29<1:38:19,  8.69s/it]"
     ]
    },
    {
     "name": "stdout",
     "output_type": "stream",
     "text": [
      "=========================================================================\n",
      "frame_idx = 321\n",
      "=========================================================================\n",
      "0.0 : list_idx = get_list_idx_for_frame(frame_idx, n_frames_per_side, shift)\n",
      "11.547093391418457 : df_subtracted_frame = get_df_voxel_subtracted_frame(list_df_voxel_scene, frame_idx, n_frames_per_side, shift)\n",
      "1.3465242385864258 : df_frame_orig['voxel_id'] =  df_frame_orig.apply(lambda x: point_to_voxel(x, voxel_size), axis=1)\n",
      "0.0019643306732177734 : df_labels = df_frame_orig.voxel_id.isin(df_subtracted_frame.voxel_id)\n",
      "(11, 5)\n",
      "(32, 5)\n",
      "0.1846010684967041 : df_frame_orig_subtracted = df_frame_orig[df_labels]\n",
      "(370, 5)\n",
      "file_labels: voxelling_output/submission_files/test_vid_19_pred__final/0000321_labels.csv\n",
      "0.09432005882263184 : df_labels.to_csv(pickles_path+\"df_labels__frame_%d__%s__voxel_size_%d_(%d,%d,%d).p\"%(frame_idx, vid, voxel_size, n_frames_per_side, shift, n_frames_per_side))\n",
      "370\n",
      "0.00498509407043457 : save_frame_for_movie(df_frame_orig_subtracted, \"tmp_only_labeled/\", all_files, frame_idx)\n"
     ]
    },
    {
     "name": "stderr",
     "output_type": "stream",
     "text": [
      "\r",
      " 32%|██████████████████████████████████████████████████▌                                                                                                          | 322/1000 [46:42<1:38:20,  8.70s/it]"
     ]
    },
    {
     "name": "stdout",
     "output_type": "stream",
     "text": [
      "=========================================================================\n",
      "frame_idx = 322\n",
      "=========================================================================\n",
      "0.0 : list_idx = get_list_idx_for_frame(frame_idx, n_frames_per_side, shift)\n",
      "11.567983388900757 : df_subtracted_frame = get_df_voxel_subtracted_frame(list_df_voxel_scene, frame_idx, n_frames_per_side, shift)\n",
      "1.349735975265503 : df_frame_orig['voxel_id'] =  df_frame_orig.apply(lambda x: point_to_voxel(x, voxel_size), axis=1)\n",
      "0.0009963512420654297 : df_labels = df_frame_orig.voxel_id.isin(df_subtracted_frame.voxel_id)\n",
      "(13, 5)\n",
      "(32, 5)\n",
      "0.18205523490905762 : df_frame_orig_subtracted = df_frame_orig[df_labels]\n",
      "(368, 5)\n",
      "file_labels: voxelling_output/submission_files/test_vid_19_pred__final/0000322_labels.csv\n",
      "0.09881854057312012 : df_labels.to_csv(pickles_path+\"df_labels__frame_%d__%s__voxel_size_%d_(%d,%d,%d).p\"%(frame_idx, vid, voxel_size, n_frames_per_side, shift, n_frames_per_side))\n",
      "368\n",
      "0.002979755401611328 : save_frame_for_movie(df_frame_orig_subtracted, \"tmp_only_labeled/\", all_files, frame_idx)\n"
     ]
    },
    {
     "name": "stderr",
     "output_type": "stream",
     "text": [
      "\r",
      " 32%|██████████████████████████████████████████████████▋                                                                                                          | 323/1000 [46:55<1:38:21,  8.72s/it]"
     ]
    },
    {
     "name": "stdout",
     "output_type": "stream",
     "text": [
      "=========================================================================\n",
      "frame_idx = 323\n",
      "=========================================================================\n",
      "0.0 : list_idx = get_list_idx_for_frame(frame_idx, n_frames_per_side, shift)\n",
      "11.77718186378479 : df_subtracted_frame = get_df_voxel_subtracted_frame(list_df_voxel_scene, frame_idx, n_frames_per_side, shift)\n",
      "1.3721952438354492 : df_frame_orig['voxel_id'] =  df_frame_orig.apply(lambda x: point_to_voxel(x, voxel_size), axis=1)\n",
      "0.0010302066802978516 : df_labels = df_frame_orig.voxel_id.isin(df_subtracted_frame.voxel_id)\n",
      "(12, 5)\n",
      "(32, 5)\n",
      "0.18952488899230957 : df_frame_orig_subtracted = df_frame_orig[df_labels]\n",
      "(360, 5)\n",
      "file_labels: voxelling_output/submission_files/test_vid_19_pred__final/0000323_labels.csv\n",
      "0.09477019309997559 : df_labels.to_csv(pickles_path+\"df_labels__frame_%d__%s__voxel_size_%d_(%d,%d,%d).p\"%(frame_idx, vid, voxel_size, n_frames_per_side, shift, n_frames_per_side))\n",
      "360\n",
      "0.003975391387939453 : save_frame_for_movie(df_frame_orig_subtracted, \"tmp_only_labeled/\", all_files, frame_idx)\n"
     ]
    },
    {
     "name": "stderr",
     "output_type": "stream",
     "text": [
      "\r",
      " 32%|██████████████████████████████████████████████████▊                                                                                                          | 324/1000 [47:09<1:38:22,  8.73s/it]"
     ]
    },
    {
     "name": "stdout",
     "output_type": "stream",
     "text": [
      "=========================================================================\n",
      "frame_idx = 324\n",
      "=========================================================================\n",
      "0.0009963512420654297 : list_idx = get_list_idx_for_frame(frame_idx, n_frames_per_side, shift)\n",
      "11.75052285194397 : df_subtracted_frame = get_df_voxel_subtracted_frame(list_df_voxel_scene, frame_idx, n_frames_per_side, shift)\n",
      "1.3429937362670898 : df_frame_orig['voxel_id'] =  df_frame_orig.apply(lambda x: point_to_voxel(x, voxel_size), axis=1)\n",
      "0.0010304450988769531 : df_labels = df_frame_orig.voxel_id.isin(df_subtracted_frame.voxel_id)\n",
      "(9, 5)\n",
      "(31, 5)\n",
      "0.1835322380065918 : df_frame_orig_subtracted = df_frame_orig[df_labels]\n",
      "(370, 5)\n",
      "file_labels: voxelling_output/submission_files/test_vid_19_pred__final/0000324_labels.csv\n",
      "0.09577727317810059 : df_labels.to_csv(pickles_path+\"df_labels__frame_%d__%s__voxel_size_%d_(%d,%d,%d).p\"%(frame_idx, vid, voxel_size, n_frames_per_side, shift, n_frames_per_side))\n",
      "370\n",
      "0.0039865970611572266 : save_frame_for_movie(df_frame_orig_subtracted, \"tmp_only_labeled/\", all_files, frame_idx)\n"
     ]
    },
    {
     "name": "stderr",
     "output_type": "stream",
     "text": [
      "\r",
      " 32%|███████████████████████████████████████████████████                                                                                                          | 325/1000 [47:22<1:38:23,  8.75s/it]"
     ]
    },
    {
     "name": "stdout",
     "output_type": "stream",
     "text": [
      "=========================================================================\n",
      "frame_idx = 325\n",
      "=========================================================================\n",
      "0.000980377197265625 : list_idx = get_list_idx_for_frame(frame_idx, n_frames_per_side, shift)\n",
      "11.67199444770813 : df_subtracted_frame = get_df_voxel_subtracted_frame(list_df_voxel_scene, frame_idx, n_frames_per_side, shift)\n",
      "1.3358683586120605 : df_frame_orig['voxel_id'] =  df_frame_orig.apply(lambda x: point_to_voxel(x, voxel_size), axis=1)\n",
      "0.0010254383087158203 : df_labels = df_frame_orig.voxel_id.isin(df_subtracted_frame.voxel_id)\n",
      "(12, 5)\n",
      "(31, 5)\n",
      "0.1834726333618164 : df_frame_orig_subtracted = df_frame_orig[df_labels]\n",
      "(359, 5)\n",
      "file_labels: voxelling_output/submission_files/test_vid_19_pred__final/0000325_labels.csv\n",
      "0.09078645706176758 : df_labels.to_csv(pickles_path+\"df_labels__frame_%d__%s__voxel_size_%d_(%d,%d,%d).p\"%(frame_idx, vid, voxel_size, n_frames_per_side, shift, n_frames_per_side))\n",
      "359\n",
      "0.00399470329284668 : save_frame_for_movie(df_frame_orig_subtracted, \"tmp_only_labeled/\", all_files, frame_idx)\n"
     ]
    },
    {
     "name": "stderr",
     "output_type": "stream",
     "text": [
      "\r",
      " 33%|███████████████████████████████████████████████████▏                                                                                                         | 326/1000 [47:35<1:38:24,  8.76s/it]"
     ]
    },
    {
     "name": "stdout",
     "output_type": "stream",
     "text": [
      "=========================================================================\n",
      "frame_idx = 326\n",
      "=========================================================================\n",
      "0.0010118484497070312 : list_idx = get_list_idx_for_frame(frame_idx, n_frames_per_side, shift)\n",
      "11.705647230148315 : df_subtracted_frame = get_df_voxel_subtracted_frame(list_df_voxel_scene, frame_idx, n_frames_per_side, shift)\n",
      "1.3408286571502686 : df_frame_orig['voxel_id'] =  df_frame_orig.apply(lambda x: point_to_voxel(x, voxel_size), axis=1)\n",
      "0.0020117759704589844 : df_labels = df_frame_orig.voxel_id.isin(df_subtracted_frame.voxel_id)\n",
      "(11, 5)\n",
      "(31, 5)\n",
      "0.17996001243591309 : df_frame_orig_subtracted = df_frame_orig[df_labels]\n",
      "(354, 5)\n",
      "file_labels: voxelling_output/submission_files/test_vid_19_pred__final/0000326_labels.csv\n",
      "0.09135150909423828 : df_labels.to_csv(pickles_path+\"df_labels__frame_%d__%s__voxel_size_%d_(%d,%d,%d).p\"%(frame_idx, vid, voxel_size, n_frames_per_side, shift, n_frames_per_side))\n",
      "354\n",
      "0.00398707389831543 : save_frame_for_movie(df_frame_orig_subtracted, \"tmp_only_labeled/\", all_files, frame_idx)\n"
     ]
    },
    {
     "name": "stderr",
     "output_type": "stream",
     "text": [
      "\r",
      " 33%|███████████████████████████████████████████████████▎                                                                                                         | 327/1000 [47:49<1:38:25,  8.77s/it]"
     ]
    },
    {
     "name": "stdout",
     "output_type": "stream",
     "text": [
      "=========================================================================\n",
      "frame_idx = 327\n",
      "=========================================================================\n",
      "0.0 : list_idx = get_list_idx_for_frame(frame_idx, n_frames_per_side, shift)\n",
      "11.731565713882446 : df_subtracted_frame = get_df_voxel_subtracted_frame(list_df_voxel_scene, frame_idx, n_frames_per_side, shift)\n",
      "1.329483985900879 : df_frame_orig['voxel_id'] =  df_frame_orig.apply(lambda x: point_to_voxel(x, voxel_size), axis=1)\n",
      "0.0019795894622802734 : df_labels = df_frame_orig.voxel_id.isin(df_subtracted_frame.voxel_id)\n",
      "(10, 5)\n",
      "(31, 5)\n",
      "0.18312692642211914 : df_frame_orig_subtracted = df_frame_orig[df_labels]\n",
      "(349, 5)\n",
      "file_labels: voxelling_output/submission_files/test_vid_19_pred__final/0000327_labels.csv\n",
      "0.09428119659423828 : df_labels.to_csv(pickles_path+\"df_labels__frame_%d__%s__voxel_size_%d_(%d,%d,%d).p\"%(frame_idx, vid, voxel_size, n_frames_per_side, shift, n_frames_per_side))\n",
      "349\n",
      "0.002994060516357422 : save_frame_for_movie(df_frame_orig_subtracted, \"tmp_only_labeled/\", all_files, frame_idx)\n"
     ]
    },
    {
     "name": "stderr",
     "output_type": "stream",
     "text": [
      "\r",
      " 33%|███████████████████████████████████████████████████▍                                                                                                         | 328/1000 [48:02<1:38:25,  8.79s/it]"
     ]
    },
    {
     "name": "stdout",
     "output_type": "stream",
     "text": [
      "=========================================================================\n",
      "frame_idx = 328\n",
      "=========================================================================\n",
      "0.0 : list_idx = get_list_idx_for_frame(frame_idx, n_frames_per_side, shift)\n",
      "11.92772126197815 : df_subtracted_frame = get_df_voxel_subtracted_frame(list_df_voxel_scene, frame_idx, n_frames_per_side, shift)\n",
      "1.3506362438201904 : df_frame_orig['voxel_id'] =  df_frame_orig.apply(lambda x: point_to_voxel(x, voxel_size), axis=1)\n",
      "0.0019898414611816406 : df_labels = df_frame_orig.voxel_id.isin(df_subtracted_frame.voxel_id)\n",
      "(8, 5)\n",
      "(30, 5)\n",
      "0.18952679634094238 : df_frame_orig_subtracted = df_frame_orig[df_labels]\n",
      "(353, 5)\n",
      "file_labels: voxelling_output/submission_files/test_vid_19_pred__final/0000328_labels.csv\n",
      "0.10381841659545898 : df_labels.to_csv(pickles_path+\"df_labels__frame_%d__%s__voxel_size_%d_(%d,%d,%d).p\"%(frame_idx, vid, voxel_size, n_frames_per_side, shift, n_frames_per_side))\n",
      "353\n",
      "0.0030260086059570312 : save_frame_for_movie(df_frame_orig_subtracted, \"tmp_only_labeled/\", all_files, frame_idx)\n"
     ]
    },
    {
     "name": "stderr",
     "output_type": "stream",
     "text": [
      "\r",
      " 33%|███████████████████████████████████████████████████▋                                                                                                         | 329/1000 [48:16<1:38:26,  8.80s/it]"
     ]
    },
    {
     "name": "stdout",
     "output_type": "stream",
     "text": [
      "=========================================================================\n",
      "frame_idx = 329\n",
      "=========================================================================\n",
      "0.0 : list_idx = get_list_idx_for_frame(frame_idx, n_frames_per_side, shift)\n",
      "11.670050144195557 : df_subtracted_frame = get_df_voxel_subtracted_frame(list_df_voxel_scene, frame_idx, n_frames_per_side, shift)\n",
      "1.3268065452575684 : df_frame_orig['voxel_id'] =  df_frame_orig.apply(lambda x: point_to_voxel(x, voxel_size), axis=1)\n",
      "0.0012154579162597656 : df_labels = df_frame_orig.voxel_id.isin(df_subtracted_frame.voxel_id)\n",
      "(11, 5)\n",
      "(32, 5)\n",
      "0.1795027256011963 : df_frame_orig_subtracted = df_frame_orig[df_labels]\n",
      "(346, 5)\n",
      "file_labels: voxelling_output/submission_files/test_vid_19_pred__final/0000329_labels.csv\n",
      "0.09175372123718262 : df_labels.to_csv(pickles_path+\"df_labels__frame_%d__%s__voxel_size_%d_(%d,%d,%d).p\"%(frame_idx, vid, voxel_size, n_frames_per_side, shift, n_frames_per_side))\n",
      "346\n",
      "0.002992868423461914 : save_frame_for_movie(df_frame_orig_subtracted, \"tmp_only_labeled/\", all_files, frame_idx)\n"
     ]
    },
    {
     "name": "stderr",
     "output_type": "stream",
     "text": [
      "\r",
      " 33%|███████████████████████████████████████████████████▊                                                                                                         | 330/1000 [48:29<1:38:27,  8.82s/it]"
     ]
    },
    {
     "name": "stdout",
     "output_type": "stream",
     "text": [
      "=========================================================================\n",
      "frame_idx = 330\n",
      "=========================================================================\n",
      "0.0 : list_idx = get_list_idx_for_frame(frame_idx, n_frames_per_side, shift)\n",
      "11.716243743896484 : df_subtracted_frame = get_df_voxel_subtracted_frame(list_df_voxel_scene, frame_idx, n_frames_per_side, shift)\n",
      "1.3159606456756592 : df_frame_orig['voxel_id'] =  df_frame_orig.apply(lambda x: point_to_voxel(x, voxel_size), axis=1)\n",
      "0.001973867416381836 : df_labels = df_frame_orig.voxel_id.isin(df_subtracted_frame.voxel_id)\n",
      "(8, 5)\n",
      "(31, 5)\n",
      "0.1823134422302246 : df_frame_orig_subtracted = df_frame_orig[df_labels]\n",
      "(338, 5)\n",
      "file_labels: voxelling_output/submission_files/test_vid_19_pred__final/0000330_labels.csv\n",
      "0.09338879585266113 : df_labels.to_csv(pickles_path+\"df_labels__frame_%d__%s__voxel_size_%d_(%d,%d,%d).p\"%(frame_idx, vid, voxel_size, n_frames_per_side, shift, n_frames_per_side))\n",
      "338\n",
      "0.002992868423461914 : save_frame_for_movie(df_frame_orig_subtracted, \"tmp_only_labeled/\", all_files, frame_idx)\n"
     ]
    },
    {
     "name": "stderr",
     "output_type": "stream",
     "text": [
      "\r",
      " 33%|███████████████████████████████████████████████████▉                                                                                                         | 331/1000 [48:42<1:38:27,  8.83s/it]"
     ]
    },
    {
     "name": "stdout",
     "output_type": "stream",
     "text": [
      "=========================================================================\n",
      "frame_idx = 331\n",
      "=========================================================================\n",
      "0.0 : list_idx = get_list_idx_for_frame(frame_idx, n_frames_per_side, shift)\n",
      "11.638092994689941 : df_subtracted_frame = get_df_voxel_subtracted_frame(list_df_voxel_scene, frame_idx, n_frames_per_side, shift)\n",
      "1.3291716575622559 : df_frame_orig['voxel_id'] =  df_frame_orig.apply(lambda x: point_to_voxel(x, voxel_size), axis=1)\n",
      "0.000993967056274414 : df_labels = df_frame_orig.voxel_id.isin(df_subtracted_frame.voxel_id)\n",
      "(9, 5)\n",
      "(31, 5)\n",
      "0.18407225608825684 : df_frame_orig_subtracted = df_frame_orig[df_labels]\n",
      "(339, 5)\n",
      "file_labels: voxelling_output/submission_files/test_vid_19_pred__final/0000331_labels.csv\n",
      "0.09643006324768066 : df_labels.to_csv(pickles_path+\"df_labels__frame_%d__%s__voxel_size_%d_(%d,%d,%d).p\"%(frame_idx, vid, voxel_size, n_frames_per_side, shift, n_frames_per_side))\n",
      "339\n",
      "0.001977205276489258 : save_frame_for_movie(df_frame_orig_subtracted, \"tmp_only_labeled/\", all_files, frame_idx)\n"
     ]
    },
    {
     "name": "stderr",
     "output_type": "stream",
     "text": [
      "\r",
      " 33%|████████████████████████████████████████████████████                                                                                                         | 332/1000 [48:56<1:38:27,  8.84s/it]"
     ]
    },
    {
     "name": "stdout",
     "output_type": "stream",
     "text": [
      "=========================================================================\n",
      "frame_idx = 332\n",
      "=========================================================================\n",
      "0.0009987354278564453 : list_idx = get_list_idx_for_frame(frame_idx, n_frames_per_side, shift)\n",
      "11.729609966278076 : df_subtracted_frame = get_df_voxel_subtracted_frame(list_df_voxel_scene, frame_idx, n_frames_per_side, shift)\n",
      "1.3335883617401123 : df_frame_orig['voxel_id'] =  df_frame_orig.apply(lambda x: point_to_voxel(x, voxel_size), axis=1)\n",
      "0.0009844303131103516 : df_labels = df_frame_orig.voxel_id.isin(df_subtracted_frame.voxel_id)\n",
      "(11, 5)\n",
      "(31, 5)\n",
      "0.17856168746948242 : df_frame_orig_subtracted = df_frame_orig[df_labels]\n",
      "(345, 5)\n",
      "file_labels: voxelling_output/submission_files/test_vid_19_pred__final/0000332_labels.csv\n",
      "0.09674263000488281 : df_labels.to_csv(pickles_path+\"df_labels__frame_%d__%s__voxel_size_%d_(%d,%d,%d).p\"%(frame_idx, vid, voxel_size, n_frames_per_side, shift, n_frames_per_side))\n",
      "345\n",
      "0.002980470657348633 : save_frame_for_movie(df_frame_orig_subtracted, \"tmp_only_labeled/\", all_files, frame_idx)\n"
     ]
    },
    {
     "name": "stderr",
     "output_type": "stream",
     "text": [
      "\r",
      " 33%|████████████████████████████████████████████████████▎                                                                                                        | 333/1000 [49:09<1:38:27,  8.86s/it]"
     ]
    },
    {
     "name": "stdout",
     "output_type": "stream",
     "text": [
      "=========================================================================\n",
      "frame_idx = 333\n",
      "=========================================================================\n",
      "0.0 : list_idx = get_list_idx_for_frame(frame_idx, n_frames_per_side, shift)\n",
      "11.638792753219604 : df_subtracted_frame = get_df_voxel_subtracted_frame(list_df_voxel_scene, frame_idx, n_frames_per_side, shift)\n",
      "1.337238073348999 : df_frame_orig['voxel_id'] =  df_frame_orig.apply(lambda x: point_to_voxel(x, voxel_size), axis=1)\n",
      "0.0009965896606445312 : df_labels = df_frame_orig.voxel_id.isin(df_subtracted_frame.voxel_id)\n",
      "(8, 5)\n",
      "(31, 5)\n",
      "0.18050670623779297 : df_frame_orig_subtracted = df_frame_orig[df_labels]\n",
      "(350, 5)\n",
      "file_labels: voxelling_output/submission_files/test_vid_19_pred__final/0000333_labels.csv\n",
      "0.09574484825134277 : df_labels.to_csv(pickles_path+\"df_labels__frame_%d__%s__voxel_size_%d_(%d,%d,%d).p\"%(frame_idx, vid, voxel_size, n_frames_per_side, shift, n_frames_per_side))\n",
      "350\n",
      "0.002995729446411133 : save_frame_for_movie(df_frame_orig_subtracted, \"tmp_only_labeled/\", all_files, frame_idx)\n"
     ]
    },
    {
     "name": "stderr",
     "output_type": "stream",
     "text": [
      "\r",
      " 33%|████████████████████████████████████████████████████▍                                                                                                        | 334/1000 [49:22<1:38:27,  8.87s/it]"
     ]
    },
    {
     "name": "stdout",
     "output_type": "stream",
     "text": [
      "=========================================================================\n",
      "frame_idx = 334\n",
      "=========================================================================\n",
      "0.0 : list_idx = get_list_idx_for_frame(frame_idx, n_frames_per_side, shift)\n",
      "11.638057708740234 : df_subtracted_frame = get_df_voxel_subtracted_frame(list_df_voxel_scene, frame_idx, n_frames_per_side, shift)\n",
      "1.346757173538208 : df_frame_orig['voxel_id'] =  df_frame_orig.apply(lambda x: point_to_voxel(x, voxel_size), axis=1)\n",
      "0.001993417739868164 : df_labels = df_frame_orig.voxel_id.isin(df_subtracted_frame.voxel_id)\n",
      "(9, 5)\n",
      "(31, 5)\n",
      "0.18329977989196777 : df_frame_orig_subtracted = df_frame_orig[df_labels]\n",
      "(362, 5)\n",
      "file_labels: voxelling_output/submission_files/test_vid_19_pred__final/0000334_labels.csv\n",
      "0.09380292892456055 : df_labels.to_csv(pickles_path+\"df_labels__frame_%d__%s__voxel_size_%d_(%d,%d,%d).p\"%(frame_idx, vid, voxel_size, n_frames_per_side, shift, n_frames_per_side))\n",
      "362\n",
      "0.0029942989349365234 : save_frame_for_movie(df_frame_orig_subtracted, \"tmp_only_labeled/\", all_files, frame_idx)\n"
     ]
    },
    {
     "name": "stderr",
     "output_type": "stream",
     "text": [
      "\r",
      " 34%|████████████████████████████████████████████████████▌                                                                                                        | 335/1000 [49:35<1:38:27,  8.88s/it]"
     ]
    },
    {
     "name": "stdout",
     "output_type": "stream",
     "text": [
      "=========================================================================\n",
      "frame_idx = 335\n",
      "=========================================================================\n",
      "0.0 : list_idx = get_list_idx_for_frame(frame_idx, n_frames_per_side, shift)\n",
      "11.78805661201477 : df_subtracted_frame = get_df_voxel_subtracted_frame(list_df_voxel_scene, frame_idx, n_frames_per_side, shift)\n",
      "1.3342363834381104 : df_frame_orig['voxel_id'] =  df_frame_orig.apply(lambda x: point_to_voxel(x, voxel_size), axis=1)\n",
      "0.0019867420196533203 : df_labels = df_frame_orig.voxel_id.isin(df_subtracted_frame.voxel_id)\n",
      "(8, 5)\n",
      "(31, 5)\n",
      "0.17908215522766113 : df_frame_orig_subtracted = df_frame_orig[df_labels]\n",
      "(360, 5)\n",
      "file_labels: voxelling_output/submission_files/test_vid_19_pred__final/0000335_labels.csv\n",
      "0.09383130073547363 : df_labels.to_csv(pickles_path+\"df_labels__frame_%d__%s__voxel_size_%d_(%d,%d,%d).p\"%(frame_idx, vid, voxel_size, n_frames_per_side, shift, n_frames_per_side))\n",
      "360\n",
      "0.003981351852416992 : save_frame_for_movie(df_frame_orig_subtracted, \"tmp_only_labeled/\", all_files, frame_idx)\n"
     ]
    },
    {
     "name": "stderr",
     "output_type": "stream",
     "text": [
      "\r",
      " 34%|████████████████████████████████████████████████████▊                                                                                                        | 336/1000 [49:49<1:38:27,  8.90s/it]"
     ]
    },
    {
     "name": "stdout",
     "output_type": "stream",
     "text": [
      "=========================================================================\n",
      "frame_idx = 336\n",
      "=========================================================================\n",
      "0.0009949207305908203 : list_idx = get_list_idx_for_frame(frame_idx, n_frames_per_side, shift)\n",
      "11.780305862426758 : df_subtracted_frame = get_df_voxel_subtracted_frame(list_df_voxel_scene, frame_idx, n_frames_per_side, shift)\n",
      "1.3345932960510254 : df_frame_orig['voxel_id'] =  df_frame_orig.apply(lambda x: point_to_voxel(x, voxel_size), axis=1)\n",
      "0.0009984970092773438 : df_labels = df_frame_orig.voxel_id.isin(df_subtracted_frame.voxel_id)\n",
      "(9, 5)\n",
      "(31, 5)\n",
      "0.18553519248962402 : df_frame_orig_subtracted = df_frame_orig[df_labels]\n",
      "(354, 5)\n",
      "file_labels: voxelling_output/submission_files/test_vid_19_pred__final/0000336_labels.csv\n",
      "0.0957498550415039 : df_labels.to_csv(pickles_path+\"df_labels__frame_%d__%s__voxel_size_%d_(%d,%d,%d).p\"%(frame_idx, vid, voxel_size, n_frames_per_side, shift, n_frames_per_side))\n",
      "354\n",
      "0.0019664764404296875 : save_frame_for_movie(df_frame_orig_subtracted, \"tmp_only_labeled/\", all_files, frame_idx)\n"
     ]
    },
    {
     "name": "stderr",
     "output_type": "stream",
     "text": [
      "\r",
      " 34%|████████████████████████████████████████████████████▉                                                                                                        | 337/1000 [50:02<1:38:27,  8.91s/it]"
     ]
    },
    {
     "name": "stdout",
     "output_type": "stream",
     "text": [
      "=========================================================================\n",
      "frame_idx = 337\n",
      "=========================================================================\n",
      "0.0 : list_idx = get_list_idx_for_frame(frame_idx, n_frames_per_side, shift)\n",
      "11.943281650543213 : df_subtracted_frame = get_df_voxel_subtracted_frame(list_df_voxel_scene, frame_idx, n_frames_per_side, shift)\n",
      "1.3412728309631348 : df_frame_orig['voxel_id'] =  df_frame_orig.apply(lambda x: point_to_voxel(x, voxel_size), axis=1)\n",
      "0.0009980201721191406 : df_labels = df_frame_orig.voxel_id.isin(df_subtracted_frame.voxel_id)\n",
      "(8, 5)\n",
      "(30, 5)\n",
      "0.17765188217163086 : df_frame_orig_subtracted = df_frame_orig[df_labels]\n",
      "(352, 5)\n",
      "file_labels: voxelling_output/submission_files/test_vid_19_pred__final/0000337_labels.csv\n",
      "0.09278726577758789 : df_labels.to_csv(pickles_path+\"df_labels__frame_%d__%s__voxel_size_%d_(%d,%d,%d).p\"%(frame_idx, vid, voxel_size, n_frames_per_side, shift, n_frames_per_side))\n",
      "352\n",
      "0.0029900074005126953 : save_frame_for_movie(df_frame_orig_subtracted, \"tmp_only_labeled/\", all_files, frame_idx)\n"
     ]
    },
    {
     "name": "stderr",
     "output_type": "stream",
     "text": [
      "\r",
      " 34%|█████████████████████████████████████████████████████                                                                                                        | 338/1000 [50:16<1:38:27,  8.92s/it]"
     ]
    },
    {
     "name": "stdout",
     "output_type": "stream",
     "text": [
      "=========================================================================\n",
      "frame_idx = 338\n",
      "=========================================================================\n",
      "0.0009946823120117188 : list_idx = get_list_idx_for_frame(frame_idx, n_frames_per_side, shift)\n",
      "11.669154405593872 : df_subtracted_frame = get_df_voxel_subtracted_frame(list_df_voxel_scene, frame_idx, n_frames_per_side, shift)\n",
      "1.3442597389221191 : df_frame_orig['voxel_id'] =  df_frame_orig.apply(lambda x: point_to_voxel(x, voxel_size), axis=1)\n",
      "0.0009980201721191406 : df_labels = df_frame_orig.voxel_id.isin(df_subtracted_frame.voxel_id)\n",
      "(5, 5)\n",
      "(30, 5)\n",
      "0.1777052879333496 : df_frame_orig_subtracted = df_frame_orig[df_labels]\n",
      "(344, 5)\n",
      "file_labels: voxelling_output/submission_files/test_vid_19_pred__final/0000338_labels.csv\n",
      "0.10122084617614746 : df_labels.to_csv(pickles_path+\"df_labels__frame_%d__%s__voxel_size_%d_(%d,%d,%d).p\"%(frame_idx, vid, voxel_size, n_frames_per_side, shift, n_frames_per_side))\n",
      "344\n",
      "0.0019745826721191406 : save_frame_for_movie(df_frame_orig_subtracted, \"tmp_only_labeled/\", all_files, frame_idx)\n"
     ]
    },
    {
     "name": "stderr",
     "output_type": "stream",
     "text": [
      "\r",
      " 34%|█████████████████████████████████████████████████████▏                                                                                                       | 339/1000 [50:29<1:38:27,  8.94s/it]"
     ]
    },
    {
     "name": "stdout",
     "output_type": "stream",
     "text": [
      "=========================================================================\n",
      "frame_idx = 339\n",
      "=========================================================================\n",
      "0.0 : list_idx = get_list_idx_for_frame(frame_idx, n_frames_per_side, shift)\n",
      "11.725587129592896 : df_subtracted_frame = get_df_voxel_subtracted_frame(list_df_voxel_scene, frame_idx, n_frames_per_side, shift)\n",
      "1.3199384212493896 : df_frame_orig['voxel_id'] =  df_frame_orig.apply(lambda x: point_to_voxel(x, voxel_size), axis=1)\n",
      "0.000995635986328125 : df_labels = df_frame_orig.voxel_id.isin(df_subtracted_frame.voxel_id)\n",
      "(15, 5)\n",
      "(30, 5)\n",
      "0.1790938377380371 : df_frame_orig_subtracted = df_frame_orig[df_labels]\n",
      "(349, 5)\n",
      "file_labels: voxelling_output/submission_files/test_vid_19_pred__final/0000339_labels.csv\n",
      "0.0953061580657959 : df_labels.to_csv(pickles_path+\"df_labels__frame_%d__%s__voxel_size_%d_(%d,%d,%d).p\"%(frame_idx, vid, voxel_size, n_frames_per_side, shift, n_frames_per_side))\n",
      "349\n",
      "0.0029926300048828125 : save_frame_for_movie(df_frame_orig_subtracted, \"tmp_only_labeled/\", all_files, frame_idx)\n"
     ]
    },
    {
     "name": "stderr",
     "output_type": "stream",
     "text": [
      "\r",
      " 34%|█████████████████████████████████████████████████████▍                                                                                                       | 340/1000 [50:43<1:38:27,  8.95s/it]"
     ]
    },
    {
     "name": "stdout",
     "output_type": "stream",
     "text": [
      "=========================================================================\n",
      "frame_idx = 340\n",
      "=========================================================================\n",
      "0.0009982585906982422 : list_idx = get_list_idx_for_frame(frame_idx, n_frames_per_side, shift)\n",
      "11.754143953323364 : df_subtracted_frame = get_df_voxel_subtracted_frame(list_df_voxel_scene, frame_idx, n_frames_per_side, shift)\n",
      "1.3451035022735596 : df_frame_orig['voxel_id'] =  df_frame_orig.apply(lambda x: point_to_voxel(x, voxel_size), axis=1)\n",
      "0.001991748809814453 : df_labels = df_frame_orig.voxel_id.isin(df_subtracted_frame.voxel_id)\n",
      "(6, 5)\n",
      "(30, 5)\n",
      "0.17921733856201172 : df_frame_orig_subtracted = df_frame_orig[df_labels]\n",
      "(341, 5)\n",
      "file_labels: voxelling_output/submission_files/test_vid_19_pred__final/0000340_labels.csv\n",
      "0.08917403221130371 : df_labels.to_csv(pickles_path+\"df_labels__frame_%d__%s__voxel_size_%d_(%d,%d,%d).p\"%(frame_idx, vid, voxel_size, n_frames_per_side, shift, n_frames_per_side))\n",
      "341\n",
      "0.002986431121826172 : save_frame_for_movie(df_frame_orig_subtracted, \"tmp_only_labeled/\", all_files, frame_idx)\n"
     ]
    },
    {
     "name": "stderr",
     "output_type": "stream",
     "text": [
      "\r",
      " 34%|█████████████████████████████████████████████████████▌                                                                                                       | 341/1000 [50:56<1:38:26,  8.96s/it]"
     ]
    },
    {
     "name": "stdout",
     "output_type": "stream",
     "text": [
      "=========================================================================\n",
      "frame_idx = 341\n",
      "=========================================================================\n",
      "0.0 : list_idx = get_list_idx_for_frame(frame_idx, n_frames_per_side, shift)\n",
      "11.632832288742065 : df_subtracted_frame = get_df_voxel_subtracted_frame(list_df_voxel_scene, frame_idx, n_frames_per_side, shift)\n",
      "1.3190524578094482 : df_frame_orig['voxel_id'] =  df_frame_orig.apply(lambda x: point_to_voxel(x, voxel_size), axis=1)\n",
      "0.001984119415283203 : df_labels = df_frame_orig.voxel_id.isin(df_subtracted_frame.voxel_id)\n",
      "(14, 5)\n",
      "(30, 5)\n",
      "0.18594074249267578 : df_frame_orig_subtracted = df_frame_orig[df_labels]\n",
      "(347, 5)\n",
      "file_labels: voxelling_output/submission_files/test_vid_19_pred__final/0000341_labels.csv\n",
      "0.09662008285522461 : df_labels.to_csv(pickles_path+\"df_labels__frame_%d__%s__voxel_size_%d_(%d,%d,%d).p\"%(frame_idx, vid, voxel_size, n_frames_per_side, shift, n_frames_per_side))\n",
      "347\n",
      "0.0029942989349365234 : save_frame_for_movie(df_frame_orig_subtracted, \"tmp_only_labeled/\", all_files, frame_idx)\n"
     ]
    },
    {
     "name": "stderr",
     "output_type": "stream",
     "text": [
      "\r",
      " 34%|█████████████████████████████████████████████████████▋                                                                                                       | 342/1000 [51:09<1:38:26,  8.98s/it]"
     ]
    },
    {
     "name": "stdout",
     "output_type": "stream",
     "text": [
      "=========================================================================\n",
      "frame_idx = 342\n",
      "=========================================================================\n",
      "0.0009970664978027344 : list_idx = get_list_idx_for_frame(frame_idx, n_frames_per_side, shift)\n",
      "11.825355529785156 : df_subtracted_frame = get_df_voxel_subtracted_frame(list_df_voxel_scene, frame_idx, n_frames_per_side, shift)\n",
      "1.3500912189483643 : df_frame_orig['voxel_id'] =  df_frame_orig.apply(lambda x: point_to_voxel(x, voxel_size), axis=1)\n",
      "0.0009853839874267578 : df_labels = df_frame_orig.voxel_id.isin(df_subtracted_frame.voxel_id)\n",
      "(13, 5)\n",
      "(32, 5)\n",
      "0.18040990829467773 : df_frame_orig_subtracted = df_frame_orig[df_labels]\n",
      "(288, 5)\n",
      "file_labels: voxelling_output/submission_files/test_vid_19_pred__final/0000342_labels.csv\n",
      "0.09178686141967773 : df_labels.to_csv(pickles_path+\"df_labels__frame_%d__%s__voxel_size_%d_(%d,%d,%d).p\"%(frame_idx, vid, voxel_size, n_frames_per_side, shift, n_frames_per_side))\n",
      "288\n",
      "0.001993417739868164 : save_frame_for_movie(df_frame_orig_subtracted, \"tmp_only_labeled/\", all_files, frame_idx)\n"
     ]
    },
    {
     "name": "stderr",
     "output_type": "stream",
     "text": [
      "\r",
      " 34%|█████████████████████████████████████████████████████▊                                                                                                       | 343/1000 [51:23<1:38:25,  8.99s/it]"
     ]
    },
    {
     "name": "stdout",
     "output_type": "stream",
     "text": [
      "=========================================================================\n",
      "frame_idx = 343\n",
      "=========================================================================\n",
      "0.0 : list_idx = get_list_idx_for_frame(frame_idx, n_frames_per_side, shift)\n",
      "11.654265403747559 : df_subtracted_frame = get_df_voxel_subtracted_frame(list_df_voxel_scene, frame_idx, n_frames_per_side, shift)\n",
      "1.323106050491333 : df_frame_orig['voxel_id'] =  df_frame_orig.apply(lambda x: point_to_voxel(x, voxel_size), axis=1)\n",
      "0.0009975433349609375 : df_labels = df_frame_orig.voxel_id.isin(df_subtracted_frame.voxel_id)\n",
      "(12, 5)\n",
      "(30, 5)\n",
      "0.1796410083770752 : df_frame_orig_subtracted = df_frame_orig[df_labels]\n",
      "(352, 5)\n",
      "file_labels: voxelling_output/submission_files/test_vid_19_pred__final/0000343_labels.csv\n",
      "0.09311652183532715 : df_labels.to_csv(pickles_path+\"df_labels__frame_%d__%s__voxel_size_%d_(%d,%d,%d).p\"%(frame_idx, vid, voxel_size, n_frames_per_side, shift, n_frames_per_side))\n",
      "352\n",
      "0.0029926300048828125 : save_frame_for_movie(df_frame_orig_subtracted, \"tmp_only_labeled/\", all_files, frame_idx)\n"
     ]
    },
    {
     "name": "stderr",
     "output_type": "stream",
     "text": [
      "\r",
      " 34%|██████████████████████████████████████████████████████                                                                                                       | 344/1000 [51:36<1:38:25,  9.00s/it]"
     ]
    },
    {
     "name": "stdout",
     "output_type": "stream",
     "text": [
      "=========================================================================\n",
      "frame_idx = 344\n",
      "=========================================================================\n",
      "0.0 : list_idx = get_list_idx_for_frame(frame_idx, n_frames_per_side, shift)\n",
      "11.593193292617798 : df_subtracted_frame = get_df_voxel_subtracted_frame(list_df_voxel_scene, frame_idx, n_frames_per_side, shift)\n",
      "1.3280360698699951 : df_frame_orig['voxel_id'] =  df_frame_orig.apply(lambda x: point_to_voxel(x, voxel_size), axis=1)\n",
      "0.002019166946411133 : df_labels = df_frame_orig.voxel_id.isin(df_subtracted_frame.voxel_id)\n",
      "(8, 5)\n",
      "(30, 5)\n",
      "0.18169617652893066 : df_frame_orig_subtracted = df_frame_orig[df_labels]\n",
      "(351, 5)\n",
      "file_labels: voxelling_output/submission_files/test_vid_19_pred__final/0000344_labels.csv\n",
      "0.10485291481018066 : df_labels.to_csv(pickles_path+\"df_labels__frame_%d__%s__voxel_size_%d_(%d,%d,%d).p\"%(frame_idx, vid, voxel_size, n_frames_per_side, shift, n_frames_per_side))\n",
      "351\n",
      "0.002016305923461914 : save_frame_for_movie(df_frame_orig_subtracted, \"tmp_only_labeled/\", all_files, frame_idx)\n"
     ]
    },
    {
     "name": "stderr",
     "output_type": "stream",
     "text": [
      "\r",
      " 34%|██████████████████████████████████████████████████████▏                                                                                                      | 345/1000 [51:49<1:38:24,  9.01s/it]"
     ]
    },
    {
     "name": "stdout",
     "output_type": "stream",
     "text": [
      "=========================================================================\n",
      "frame_idx = 345\n",
      "=========================================================================\n",
      "0.0 : list_idx = get_list_idx_for_frame(frame_idx, n_frames_per_side, shift)\n",
      "11.60121774673462 : df_subtracted_frame = get_df_voxel_subtracted_frame(list_df_voxel_scene, frame_idx, n_frames_per_side, shift)\n",
      "1.3405961990356445 : df_frame_orig['voxel_id'] =  df_frame_orig.apply(lambda x: point_to_voxel(x, voxel_size), axis=1)\n",
      "0.0019376277923583984 : df_labels = df_frame_orig.voxel_id.isin(df_subtracted_frame.voxel_id)\n",
      "(9, 5)\n",
      "(31, 5)\n",
      "0.18254542350769043 : df_frame_orig_subtracted = df_frame_orig[df_labels]\n",
      "(350, 5)\n",
      "file_labels: voxelling_output/submission_files/test_vid_19_pred__final/0000345_labels.csv\n",
      "0.0967562198638916 : df_labels.to_csv(pickles_path+\"df_labels__frame_%d__%s__voxel_size_%d_(%d,%d,%d).p\"%(frame_idx, vid, voxel_size, n_frames_per_side, shift, n_frames_per_side))\n",
      "350\n",
      "0.0029914379119873047 : save_frame_for_movie(df_frame_orig_subtracted, \"tmp_only_labeled/\", all_files, frame_idx)\n"
     ]
    },
    {
     "name": "stderr",
     "output_type": "stream",
     "text": [
      "\r",
      " 35%|██████████████████████████████████████████████████████▎                                                                                                      | 346/1000 [52:03<1:38:23,  9.03s/it]"
     ]
    },
    {
     "name": "stdout",
     "output_type": "stream",
     "text": [
      "=========================================================================\n",
      "frame_idx = 346\n",
      "=========================================================================\n",
      "0.0 : list_idx = get_list_idx_for_frame(frame_idx, n_frames_per_side, shift)\n",
      "11.689051628112793 : df_subtracted_frame = get_df_voxel_subtracted_frame(list_df_voxel_scene, frame_idx, n_frames_per_side, shift)\n",
      "1.3135380744934082 : df_frame_orig['voxel_id'] =  df_frame_orig.apply(lambda x: point_to_voxel(x, voxel_size), axis=1)\n",
      "0.000997304916381836 : df_labels = df_frame_orig.voxel_id.isin(df_subtracted_frame.voxel_id)\n",
      "(13, 5)\n",
      "(31, 5)\n",
      "0.17952346801757812 : df_frame_orig_subtracted = df_frame_orig[df_labels]\n",
      "(350, 5)\n",
      "file_labels: voxelling_output/submission_files/test_vid_19_pred__final/0000346_labels.csv\n",
      "0.10062575340270996 : df_labels.to_csv(pickles_path+\"df_labels__frame_%d__%s__voxel_size_%d_(%d,%d,%d).p\"%(frame_idx, vid, voxel_size, n_frames_per_side, shift, n_frames_per_side))\n",
      "350\n",
      "0.002992391586303711 : save_frame_for_movie(df_frame_orig_subtracted, \"tmp_only_labeled/\", all_files, frame_idx)\n"
     ]
    },
    {
     "name": "stderr",
     "output_type": "stream",
     "text": [
      "\r",
      " 35%|██████████████████████████████████████████████████████▍                                                                                                      | 347/1000 [52:16<1:38:22,  9.04s/it]"
     ]
    },
    {
     "name": "stdout",
     "output_type": "stream",
     "text": [
      "=========================================================================\n",
      "frame_idx = 347\n",
      "=========================================================================\n",
      "0.000995635986328125 : list_idx = get_list_idx_for_frame(frame_idx, n_frames_per_side, shift)\n",
      "11.580315351486206 : df_subtracted_frame = get_df_voxel_subtracted_frame(list_df_voxel_scene, frame_idx, n_frames_per_side, shift)\n",
      "1.3377125263214111 : df_frame_orig['voxel_id'] =  df_frame_orig.apply(lambda x: point_to_voxel(x, voxel_size), axis=1)\n",
      "0.0009915828704833984 : df_labels = df_frame_orig.voxel_id.isin(df_subtracted_frame.voxel_id)\n",
      "(7, 5)\n",
      "(31, 5)\n",
      "0.20644903182983398 : df_frame_orig_subtracted = df_frame_orig[df_labels]\n",
      "(361, 5)\n",
      "file_labels: voxelling_output/submission_files/test_vid_19_pred__final/0000347_labels.csv\n",
      "0.10822057723999023 : df_labels.to_csv(pickles_path+\"df_labels__frame_%d__%s__voxel_size_%d_(%d,%d,%d).p\"%(frame_idx, vid, voxel_size, n_frames_per_side, shift, n_frames_per_side))\n",
      "361\n",
      "0.001996278762817383 : save_frame_for_movie(df_frame_orig_subtracted, \"tmp_only_labeled/\", all_files, frame_idx)\n"
     ]
    },
    {
     "name": "stderr",
     "output_type": "stream",
     "text": [
      "\r",
      " 35%|██████████████████████████████████████████████████████▋                                                                                                      | 348/1000 [52:29<1:38:21,  9.05s/it]"
     ]
    },
    {
     "name": "stdout",
     "output_type": "stream",
     "text": [
      "=========================================================================\n",
      "frame_idx = 348\n",
      "=========================================================================\n",
      "0.0 : list_idx = get_list_idx_for_frame(frame_idx, n_frames_per_side, shift)\n",
      "12.243886232376099 : df_subtracted_frame = get_df_voxel_subtracted_frame(list_df_voxel_scene, frame_idx, n_frames_per_side, shift)\n",
      "1.3731629848480225 : df_frame_orig['voxel_id'] =  df_frame_orig.apply(lambda x: point_to_voxel(x, voxel_size), axis=1)\n",
      "0.0010368824005126953 : df_labels = df_frame_orig.voxel_id.isin(df_subtracted_frame.voxel_id)\n",
      "(13, 5)\n",
      "(31, 5)\n",
      "0.18109655380249023 : df_frame_orig_subtracted = df_frame_orig[df_labels]\n",
      "(350, 5)\n",
      "file_labels: voxelling_output/submission_files/test_vid_19_pred__final/0000348_labels.csv\n",
      "0.09872603416442871 : df_labels.to_csv(pickles_path+\"df_labels__frame_%d__%s__voxel_size_%d_(%d,%d,%d).p\"%(frame_idx, vid, voxel_size, n_frames_per_side, shift, n_frames_per_side))\n",
      "350\n",
      "0.0029916763305664062 : save_frame_for_movie(df_frame_orig_subtracted, \"tmp_only_labeled/\", all_files, frame_idx)\n"
     ]
    },
    {
     "name": "stderr",
     "output_type": "stream",
     "text": [
      "\r",
      " 35%|██████████████████████████████████████████████████████▊                                                                                                      | 349/1000 [52:43<1:38:21,  9.06s/it]"
     ]
    },
    {
     "name": "stdout",
     "output_type": "stream",
     "text": [
      "=========================================================================\n",
      "frame_idx = 349\n",
      "=========================================================================\n",
      "0.0 : list_idx = get_list_idx_for_frame(frame_idx, n_frames_per_side, shift)\n",
      "11.732402086257935 : df_subtracted_frame = get_df_voxel_subtracted_frame(list_df_voxel_scene, frame_idx, n_frames_per_side, shift)\n",
      "1.3658595085144043 : df_frame_orig['voxel_id'] =  df_frame_orig.apply(lambda x: point_to_voxel(x, voxel_size), axis=1)\n",
      "0.0019941329956054688 : df_labels = df_frame_orig.voxel_id.isin(df_subtracted_frame.voxel_id)\n",
      "(10, 5)\n",
      "(31, 5)\n",
      "0.19844627380371094 : df_frame_orig_subtracted = df_frame_orig[df_labels]\n",
      "(351, 5)\n",
      "file_labels: voxelling_output/submission_files/test_vid_19_pred__final/0000349_labels.csv\n",
      "0.10071945190429688 : df_labels.to_csv(pickles_path+\"df_labels__frame_%d__%s__voxel_size_%d_(%d,%d,%d).p\"%(frame_idx, vid, voxel_size, n_frames_per_side, shift, n_frames_per_side))\n",
      "351\n",
      "0.003973722457885742 : save_frame_for_movie(df_frame_orig_subtracted, \"tmp_only_labeled/\", all_files, frame_idx)\n"
     ]
    },
    {
     "name": "stderr",
     "output_type": "stream",
     "text": [
      "\r",
      " 35%|██████████████████████████████████████████████████████▉                                                                                                      | 350/1000 [52:56<1:38:20,  9.08s/it]"
     ]
    },
    {
     "name": "stdout",
     "output_type": "stream",
     "text": [
      "=========================================================================\n",
      "frame_idx = 350\n",
      "=========================================================================\n",
      "0.0009992122650146484 : list_idx = get_list_idx_for_frame(frame_idx, n_frames_per_side, shift)\n",
      "11.845733165740967 : df_subtracted_frame = get_df_voxel_subtracted_frame(list_df_voxel_scene, frame_idx, n_frames_per_side, shift)\n",
      "1.360142469406128 : df_frame_orig['voxel_id'] =  df_frame_orig.apply(lambda x: point_to_voxel(x, voxel_size), axis=1)\n",
      "0.000995635986328125 : df_labels = df_frame_orig.voxel_id.isin(df_subtracted_frame.voxel_id)\n",
      "(9, 5)\n",
      "(31, 5)\n",
      "0.19591379165649414 : df_frame_orig_subtracted = df_frame_orig[df_labels]\n",
      "(355, 5)\n",
      "file_labels: voxelling_output/submission_files/test_vid_19_pred__final/0000350_labels.csv\n",
      "0.1018836498260498 : df_labels.to_csv(pickles_path+\"df_labels__frame_%d__%s__voxel_size_%d_(%d,%d,%d).p\"%(frame_idx, vid, voxel_size, n_frames_per_side, shift, n_frames_per_side))\n",
      "355\n",
      "0.0019893646240234375 : save_frame_for_movie(df_frame_orig_subtracted, \"tmp_only_labeled/\", all_files, frame_idx)\n"
     ]
    },
    {
     "name": "stderr",
     "output_type": "stream",
     "text": [
      "\r",
      " 35%|███████████████████████████████████████████████████████                                                                                                      | 351/1000 [53:10<1:38:19,  9.09s/it]"
     ]
    },
    {
     "name": "stdout",
     "output_type": "stream",
     "text": [
      "=========================================================================\n",
      "frame_idx = 351\n",
      "=========================================================================\n",
      "0.0 : list_idx = get_list_idx_for_frame(frame_idx, n_frames_per_side, shift)\n",
      "12.293123483657837 : df_subtracted_frame = get_df_voxel_subtracted_frame(list_df_voxel_scene, frame_idx, n_frames_per_side, shift)\n",
      "1.4037127494812012 : df_frame_orig['voxel_id'] =  df_frame_orig.apply(lambda x: point_to_voxel(x, voxel_size), axis=1)\n",
      "0.0009975433349609375 : df_labels = df_frame_orig.voxel_id.isin(df_subtracted_frame.voxel_id)\n",
      "(13, 5)\n",
      "(31, 5)\n",
      "0.18614697456359863 : df_frame_orig_subtracted = df_frame_orig[df_labels]\n",
      "(343, 5)\n",
      "file_labels: voxelling_output/submission_files/test_vid_19_pred__final/0000351_labels.csv\n",
      "0.09425687789916992 : df_labels.to_csv(pickles_path+\"df_labels__frame_%d__%s__voxel_size_%d_(%d,%d,%d).p\"%(frame_idx, vid, voxel_size, n_frames_per_side, shift, n_frames_per_side))\n",
      "343\n",
      "0.0039825439453125 : save_frame_for_movie(df_frame_orig_subtracted, \"tmp_only_labeled/\", all_files, frame_idx)\n"
     ]
    },
    {
     "name": "stderr",
     "output_type": "stream",
     "text": [
      "\r",
      " 35%|███████████████████████████████████████████████████████▎                                                                                                     | 352/1000 [53:24<1:38:19,  9.10s/it]"
     ]
    },
    {
     "name": "stdout",
     "output_type": "stream",
     "text": [
      "=========================================================================\n",
      "frame_idx = 352\n",
      "=========================================================================\n",
      "0.0 : list_idx = get_list_idx_for_frame(frame_idx, n_frames_per_side, shift)\n",
      "12.739624500274658 : df_subtracted_frame = get_df_voxel_subtracted_frame(list_df_voxel_scene, frame_idx, n_frames_per_side, shift)\n",
      "1.4185667037963867 : df_frame_orig['voxel_id'] =  df_frame_orig.apply(lambda x: point_to_voxel(x, voxel_size), axis=1)\n",
      "0.0019686222076416016 : df_labels = df_frame_orig.voxel_id.isin(df_subtracted_frame.voxel_id)\n",
      "(6, 5)\n",
      "(30, 5)\n",
      "0.18942713737487793 : df_frame_orig_subtracted = df_frame_orig[df_labels]\n",
      "(349, 5)\n",
      "file_labels: voxelling_output/submission_files/test_vid_19_pred__final/0000352_labels.csv\n",
      "0.09849309921264648 : df_labels.to_csv(pickles_path+\"df_labels__frame_%d__%s__voxel_size_%d_(%d,%d,%d).p\"%(frame_idx, vid, voxel_size, n_frames_per_side, shift, n_frames_per_side))\n",
      "349\n",
      "0.00399017333984375 : save_frame_for_movie(df_frame_orig_subtracted, \"tmp_only_labeled/\", all_files, frame_idx)\n"
     ]
    },
    {
     "name": "stderr",
     "output_type": "stream",
     "text": [
      "\r",
      " 35%|███████████████████████████████████████████████████████▍                                                                                                     | 353/1000 [53:39<1:38:19,  9.12s/it]"
     ]
    },
    {
     "name": "stdout",
     "output_type": "stream",
     "text": [
      "=========================================================================\n",
      "frame_idx = 353\n",
      "=========================================================================\n",
      "0.0010106563568115234 : list_idx = get_list_idx_for_frame(frame_idx, n_frames_per_side, shift)\n",
      "11.938295125961304 : df_subtracted_frame = get_df_voxel_subtracted_frame(list_df_voxel_scene, frame_idx, n_frames_per_side, shift)\n",
      "1.3311045169830322 : df_frame_orig['voxel_id'] =  df_frame_orig.apply(lambda x: point_to_voxel(x, voxel_size), axis=1)\n",
      "0.001994609832763672 : df_labels = df_frame_orig.voxel_id.isin(df_subtracted_frame.voxel_id)\n",
      "(11, 5)\n",
      "(30, 5)\n",
      "0.17535901069641113 : df_frame_orig_subtracted = df_frame_orig[df_labels]\n",
      "(345, 5)\n",
      "file_labels: voxelling_output/submission_files/test_vid_19_pred__final/0000353_labels.csv\n",
      "0.09699034690856934 : df_labels.to_csv(pickles_path+\"df_labels__frame_%d__%s__voxel_size_%d_(%d,%d,%d).p\"%(frame_idx, vid, voxel_size, n_frames_per_side, shift, n_frames_per_side))\n",
      "345\n",
      "0.003010272979736328 : save_frame_for_movie(df_frame_orig_subtracted, \"tmp_only_labeled/\", all_files, frame_idx)\n"
     ]
    },
    {
     "name": "stderr",
     "output_type": "stream",
     "text": [
      "\r",
      " 35%|███████████████████████████████████████████████████████▌                                                                                                     | 354/1000 [53:52<1:38:19,  9.13s/it]"
     ]
    },
    {
     "name": "stdout",
     "output_type": "stream",
     "text": [
      "=========================================================================\n",
      "frame_idx = 354\n",
      "=========================================================================\n",
      "0.0 : list_idx = get_list_idx_for_frame(frame_idx, n_frames_per_side, shift)\n",
      "12.15722131729126 : df_subtracted_frame = get_df_voxel_subtracted_frame(list_df_voxel_scene, frame_idx, n_frames_per_side, shift)\n",
      "1.8138723373413086 : df_frame_orig['voxel_id'] =  df_frame_orig.apply(lambda x: point_to_voxel(x, voxel_size), axis=1)\n",
      "0.00199127197265625 : df_labels = df_frame_orig.voxel_id.isin(df_subtracted_frame.voxel_id)\n",
      "(13, 5)\n",
      "(30, 5)\n",
      "0.2064507007598877 : df_frame_orig_subtracted = df_frame_orig[df_labels]\n",
      "(345, 5)\n",
      "file_labels: voxelling_output/submission_files/test_vid_19_pred__final/0000354_labels.csv\n",
      "0.09674620628356934 : df_labels.to_csv(pickles_path+\"df_labels__frame_%d__%s__voxel_size_%d_(%d,%d,%d).p\"%(frame_idx, vid, voxel_size, n_frames_per_side, shift, n_frames_per_side))\n",
      "345\n",
      "0.0019931793212890625 : save_frame_for_movie(df_frame_orig_subtracted, \"tmp_only_labeled/\", all_files, frame_idx)\n"
     ]
    },
    {
     "name": "stderr",
     "output_type": "stream",
     "text": [
      "\r",
      " 36%|███████████████████████████████████████████████████████▋                                                                                                     | 355/1000 [54:06<1:38:19,  9.15s/it]"
     ]
    },
    {
     "name": "stdout",
     "output_type": "stream",
     "text": [
      "=========================================================================\n",
      "frame_idx = 355\n",
      "=========================================================================\n",
      "0.0 : list_idx = get_list_idx_for_frame(frame_idx, n_frames_per_side, shift)\n",
      "12.073957920074463 : df_subtracted_frame = get_df_voxel_subtracted_frame(list_df_voxel_scene, frame_idx, n_frames_per_side, shift)\n",
      "1.3434791564941406 : df_frame_orig['voxel_id'] =  df_frame_orig.apply(lambda x: point_to_voxel(x, voxel_size), axis=1)\n",
      "0.0009968280792236328 : df_labels = df_frame_orig.voxel_id.isin(df_subtracted_frame.voxel_id)\n",
      "(12, 5)\n",
      "(31, 5)\n",
      "0.17548632621765137 : df_frame_orig_subtracted = df_frame_orig[df_labels]\n",
      "(349, 5)\n",
      "file_labels: voxelling_output/submission_files/test_vid_19_pred__final/0000355_labels.csv\n",
      "0.09126782417297363 : df_labels.to_csv(pickles_path+\"df_labels__frame_%d__%s__voxel_size_%d_(%d,%d,%d).p\"%(frame_idx, vid, voxel_size, n_frames_per_side, shift, n_frames_per_side))\n",
      "349\n",
      "0.001995086669921875 : save_frame_for_movie(df_frame_orig_subtracted, \"tmp_only_labeled/\", all_files, frame_idx)\n"
     ]
    },
    {
     "name": "stderr",
     "output_type": "stream",
     "text": [
      "\r",
      " 36%|███████████████████████████████████████████████████████▉                                                                                                     | 356/1000 [54:20<1:38:18,  9.16s/it]"
     ]
    },
    {
     "name": "stdout",
     "output_type": "stream",
     "text": [
      "=========================================================================\n",
      "frame_idx = 356\n",
      "=========================================================================\n",
      "0.0 : list_idx = get_list_idx_for_frame(frame_idx, n_frames_per_side, shift)\n",
      "11.758258819580078 : df_subtracted_frame = get_df_voxel_subtracted_frame(list_df_voxel_scene, frame_idx, n_frames_per_side, shift)\n",
      "1.3430438041687012 : df_frame_orig['voxel_id'] =  df_frame_orig.apply(lambda x: point_to_voxel(x, voxel_size), axis=1)\n",
      "0.0009870529174804688 : df_labels = df_frame_orig.voxel_id.isin(df_subtracted_frame.voxel_id)\n",
      "(9, 5)\n",
      "(31, 5)\n",
      "0.17356634140014648 : df_frame_orig_subtracted = df_frame_orig[df_labels]\n",
      "(363, 5)\n",
      "file_labels: voxelling_output/submission_files/test_vid_19_pred__final/0000356_labels.csv\n",
      "0.08576560020446777 : df_labels.to_csv(pickles_path+\"df_labels__frame_%d__%s__voxel_size_%d_(%d,%d,%d).p\"%(frame_idx, vid, voxel_size, n_frames_per_side, shift, n_frames_per_side))\n",
      "363\n",
      "0.0029938220977783203 : save_frame_for_movie(df_frame_orig_subtracted, \"tmp_only_labeled/\", all_files, frame_idx)\n"
     ]
    },
    {
     "name": "stderr",
     "output_type": "stream",
     "text": [
      "\r",
      " 36%|████████████████████████████████████████████████████████                                                                                                     | 357/1000 [54:34<1:38:16,  9.17s/it]"
     ]
    },
    {
     "name": "stdout",
     "output_type": "stream",
     "text": [
      "=========================================================================\n",
      "frame_idx = 357\n",
      "=========================================================================\n",
      "0.0 : list_idx = get_list_idx_for_frame(frame_idx, n_frames_per_side, shift)\n",
      "11.768384456634521 : df_subtracted_frame = get_df_voxel_subtracted_frame(list_df_voxel_scene, frame_idx, n_frames_per_side, shift)\n",
      "1.404637336730957 : df_frame_orig['voxel_id'] =  df_frame_orig.apply(lambda x: point_to_voxel(x, voxel_size), axis=1)\n",
      "0.001970529556274414 : df_labels = df_frame_orig.voxel_id.isin(df_subtracted_frame.voxel_id)\n",
      "(12, 5)\n",
      "(31, 5)\n",
      "0.1805124282836914 : df_frame_orig_subtracted = df_frame_orig[df_labels]\n",
      "(359, 5)\n",
      "file_labels: voxelling_output/submission_files/test_vid_19_pred__final/0000357_labels.csv\n",
      "0.09911918640136719 : df_labels.to_csv(pickles_path+\"df_labels__frame_%d__%s__voxel_size_%d_(%d,%d,%d).p\"%(frame_idx, vid, voxel_size, n_frames_per_side, shift, n_frames_per_side))\n",
      "359\n",
      "0.001996278762817383 : save_frame_for_movie(df_frame_orig_subtracted, \"tmp_only_labeled/\", all_files, frame_idx)\n"
     ]
    },
    {
     "name": "stderr",
     "output_type": "stream",
     "text": [
      "\r",
      " 36%|████████████████████████████████████████████████████████▏                                                                                                    | 358/1000 [54:47<1:38:15,  9.18s/it]"
     ]
    },
    {
     "name": "stdout",
     "output_type": "stream",
     "text": [
      "=========================================================================\n",
      "frame_idx = 358\n",
      "=========================================================================\n",
      "0.0009970664978027344 : list_idx = get_list_idx_for_frame(frame_idx, n_frames_per_side, shift)\n",
      "12.588351964950562 : df_subtracted_frame = get_df_voxel_subtracted_frame(list_df_voxel_scene, frame_idx, n_frames_per_side, shift)\n",
      "1.4364283084869385 : df_frame_orig['voxel_id'] =  df_frame_orig.apply(lambda x: point_to_voxel(x, voxel_size), axis=1)\n",
      "0.0 : df_labels = df_frame_orig.voxel_id.isin(df_subtracted_frame.voxel_id)\n",
      "(11, 5)\n",
      "(31, 5)\n",
      "0.17653131484985352 : df_frame_orig_subtracted = df_frame_orig[df_labels]\n",
      "(360, 5)\n",
      "file_labels: voxelling_output/submission_files/test_vid_19_pred__final/0000358_labels.csv\n",
      "0.09873700141906738 : df_labels.to_csv(pickles_path+\"df_labels__frame_%d__%s__voxel_size_%d_(%d,%d,%d).p\"%(frame_idx, vid, voxel_size, n_frames_per_side, shift, n_frames_per_side))\n",
      "360\n",
      "0.0019948482513427734 : save_frame_for_movie(df_frame_orig_subtracted, \"tmp_only_labeled/\", all_files, frame_idx)\n"
     ]
    },
    {
     "name": "stderr",
     "output_type": "stream",
     "text": [
      "\r",
      " 36%|████████████████████████████████████████████████████████▎                                                                                                    | 359/1000 [55:01<1:38:15,  9.20s/it]"
     ]
    },
    {
     "name": "stdout",
     "output_type": "stream",
     "text": [
      "=========================================================================\n",
      "frame_idx = 359\n",
      "=========================================================================\n",
      "0.0 : list_idx = get_list_idx_for_frame(frame_idx, n_frames_per_side, shift)\n",
      "12.333800792694092 : df_subtracted_frame = get_df_voxel_subtracted_frame(list_df_voxel_scene, frame_idx, n_frames_per_side, shift)\n",
      "1.402315378189087 : df_frame_orig['voxel_id'] =  df_frame_orig.apply(lambda x: point_to_voxel(x, voxel_size), axis=1)\n",
      "0.0010066032409667969 : df_labels = df_frame_orig.voxel_id.isin(df_subtracted_frame.voxel_id)\n",
      "(10, 5)\n",
      "(31, 5)\n",
      "0.18949270248413086 : df_frame_orig_subtracted = df_frame_orig[df_labels]\n",
      "(374, 5)\n",
      "file_labels: voxelling_output/submission_files/test_vid_19_pred__final/0000359_labels.csv\n",
      "0.0913386344909668 : df_labels.to_csv(pickles_path+\"df_labels__frame_%d__%s__voxel_size_%d_(%d,%d,%d).p\"%(frame_idx, vid, voxel_size, n_frames_per_side, shift, n_frames_per_side))\n",
      "374\n",
      "0.002980947494506836 : save_frame_for_movie(df_frame_orig_subtracted, \"tmp_only_labeled/\", all_files, frame_idx)\n"
     ]
    },
    {
     "name": "stderr",
     "output_type": "stream",
     "text": [
      "\r",
      " 36%|████████████████████████████████████████████████████████▌                                                                                                    | 360/1000 [55:15<1:38:14,  9.21s/it]"
     ]
    },
    {
     "name": "stdout",
     "output_type": "stream",
     "text": [
      "=========================================================================\n",
      "frame_idx = 360\n",
      "=========================================================================\n",
      "0.0 : list_idx = get_list_idx_for_frame(frame_idx, n_frames_per_side, shift)\n",
      "12.452091217041016 : df_subtracted_frame = get_df_voxel_subtracted_frame(list_df_voxel_scene, frame_idx, n_frames_per_side, shift)\n",
      "1.3562238216400146 : df_frame_orig['voxel_id'] =  df_frame_orig.apply(lambda x: point_to_voxel(x, voxel_size), axis=1)\n",
      "0.000997304916381836 : df_labels = df_frame_orig.voxel_id.isin(df_subtracted_frame.voxel_id)\n",
      "(8, 5)\n",
      "(31, 5)\n",
      "0.18905878067016602 : df_frame_orig_subtracted = df_frame_orig[df_labels]\n",
      "(390, 5)\n",
      "file_labels: voxelling_output/submission_files/test_vid_19_pred__final/0000360_labels.csv\n",
      "0.09873461723327637 : df_labels.to_csv(pickles_path+\"df_labels__frame_%d__%s__voxel_size_%d_(%d,%d,%d).p\"%(frame_idx, vid, voxel_size, n_frames_per_side, shift, n_frames_per_side))\n",
      "390\n",
      "0.0029926300048828125 : save_frame_for_movie(df_frame_orig_subtracted, \"tmp_only_labeled/\", all_files, frame_idx)\n"
     ]
    },
    {
     "name": "stderr",
     "output_type": "stream",
     "text": [
      "\r",
      " 36%|████████████████████████████████████████████████████████▋                                                                                                    | 361/1000 [55:30<1:38:14,  9.22s/it]"
     ]
    },
    {
     "name": "stdout",
     "output_type": "stream",
     "text": [
      "=========================================================================\n",
      "frame_idx = 361\n",
      "=========================================================================\n",
      "0.0009946823120117188 : list_idx = get_list_idx_for_frame(frame_idx, n_frames_per_side, shift)\n",
      "12.4542396068573 : df_subtracted_frame = get_df_voxel_subtracted_frame(list_df_voxel_scene, frame_idx, n_frames_per_side, shift)\n",
      "1.4350075721740723 : df_frame_orig['voxel_id'] =  df_frame_orig.apply(lambda x: point_to_voxel(x, voxel_size), axis=1)\n",
      "0.0019919872283935547 : df_labels = df_frame_orig.voxel_id.isin(df_subtracted_frame.voxel_id)\n",
      "(11, 5)\n",
      "(31, 5)\n",
      "0.17784547805786133 : df_frame_orig_subtracted = df_frame_orig[df_labels]\n",
      "(383, 5)\n",
      "file_labels: voxelling_output/submission_files/test_vid_19_pred__final/0000361_labels.csv\n",
      "0.10024166107177734 : df_labels.to_csv(pickles_path+\"df_labels__frame_%d__%s__voxel_size_%d_(%d,%d,%d).p\"%(frame_idx, vid, voxel_size, n_frames_per_side, shift, n_frames_per_side))\n",
      "383\n",
      "0.001995086669921875 : save_frame_for_movie(df_frame_orig_subtracted, \"tmp_only_labeled/\", all_files, frame_idx)\n"
     ]
    },
    {
     "name": "stderr",
     "output_type": "stream",
     "text": [
      "\r",
      " 36%|████████████████████████████████████████████████████████▊                                                                                                    | 362/1000 [55:44<1:38:13,  9.24s/it]"
     ]
    },
    {
     "name": "stdout",
     "output_type": "stream",
     "text": [
      "=========================================================================\n",
      "frame_idx = 362\n",
      "=========================================================================\n",
      "0.0009963512420654297 : list_idx = get_list_idx_for_frame(frame_idx, n_frames_per_side, shift)\n",
      "12.861249208450317 : df_subtracted_frame = get_df_voxel_subtracted_frame(list_df_voxel_scene, frame_idx, n_frames_per_side, shift)\n",
      "1.415440320968628 : df_frame_orig['voxel_id'] =  df_frame_orig.apply(lambda x: point_to_voxel(x, voxel_size), axis=1)\n",
      "0.0019538402557373047 : df_labels = df_frame_orig.voxel_id.isin(df_subtracted_frame.voxel_id)\n",
      "(8, 5)\n",
      "(31, 5)\n",
      "0.18003344535827637 : df_frame_orig_subtracted = df_frame_orig[df_labels]\n",
      "(375, 5)\n",
      "file_labels: voxelling_output/submission_files/test_vid_19_pred__final/0000362_labels.csv\n",
      "0.09724712371826172 : df_labels.to_csv(pickles_path+\"df_labels__frame_%d__%s__voxel_size_%d_(%d,%d,%d).p\"%(frame_idx, vid, voxel_size, n_frames_per_side, shift, n_frames_per_side))\n",
      "375\n",
      "0.001993417739868164 : save_frame_for_movie(df_frame_orig_subtracted, \"tmp_only_labeled/\", all_files, frame_idx)\n"
     ]
    },
    {
     "name": "stderr",
     "output_type": "stream",
     "text": [
      "\r",
      " 36%|████████████████████████████████████████████████████████▉                                                                                                    | 363/1000 [55:58<1:38:14,  9.25s/it]"
     ]
    },
    {
     "name": "stdout",
     "output_type": "stream",
     "text": [
      "=========================================================================\n",
      "frame_idx = 363\n",
      "=========================================================================\n",
      "0.0 : list_idx = get_list_idx_for_frame(frame_idx, n_frames_per_side, shift)\n",
      "12.230396032333374 : df_subtracted_frame = get_df_voxel_subtracted_frame(list_df_voxel_scene, frame_idx, n_frames_per_side, shift)\n",
      "1.515535831451416 : df_frame_orig['voxel_id'] =  df_frame_orig.apply(lambda x: point_to_voxel(x, voxel_size), axis=1)\n",
      "0.0009987354278564453 : df_labels = df_frame_orig.voxel_id.isin(df_subtracted_frame.voxel_id)\n",
      "(9, 5)\n",
      "(31, 5)\n",
      "0.1924879550933838 : df_frame_orig_subtracted = df_frame_orig[df_labels]\n",
      "(376, 5)\n",
      "file_labels: voxelling_output/submission_files/test_vid_19_pred__final/0000363_labels.csv\n",
      "0.11667132377624512 : df_labels.to_csv(pickles_path+\"df_labels__frame_%d__%s__voxel_size_%d_(%d,%d,%d).p\"%(frame_idx, vid, voxel_size, n_frames_per_side, shift, n_frames_per_side))\n",
      "376\n",
      "0.0019948482513427734 : save_frame_for_movie(df_frame_orig_subtracted, \"tmp_only_labeled/\", all_files, frame_idx)\n"
     ]
    },
    {
     "name": "stderr",
     "output_type": "stream",
     "text": [
      "\r",
      " 36%|█████████████████████████████████████████████████████████▏                                                                                                   | 364/1000 [56:12<1:38:13,  9.27s/it]"
     ]
    },
    {
     "name": "stdout",
     "output_type": "stream",
     "text": [
      "=========================================================================\n",
      "frame_idx = 364\n",
      "=========================================================================\n",
      "0.0 : list_idx = get_list_idx_for_frame(frame_idx, n_frames_per_side, shift)\n",
      "12.39416217803955 : df_subtracted_frame = get_df_voxel_subtracted_frame(list_df_voxel_scene, frame_idx, n_frames_per_side, shift)\n",
      "1.4919943809509277 : df_frame_orig['voxel_id'] =  df_frame_orig.apply(lambda x: point_to_voxel(x, voxel_size), axis=1)\n",
      "0.0020046234130859375 : df_labels = df_frame_orig.voxel_id.isin(df_subtracted_frame.voxel_id)\n",
      "(11, 5)\n",
      "(32, 5)\n",
      "0.19447755813598633 : df_frame_orig_subtracted = df_frame_orig[df_labels]\n",
      "(381, 5)\n",
      "file_labels: voxelling_output/submission_files/test_vid_19_pred__final/0000364_labels.csv\n",
      "0.10273861885070801 : df_labels.to_csv(pickles_path+\"df_labels__frame_%d__%s__voxel_size_%d_(%d,%d,%d).p\"%(frame_idx, vid, voxel_size, n_frames_per_side, shift, n_frames_per_side))\n",
      "381\n",
      "0.0030095577239990234 : save_frame_for_movie(df_frame_orig_subtracted, \"tmp_only_labeled/\", all_files, frame_idx)\n"
     ]
    },
    {
     "name": "stderr",
     "output_type": "stream",
     "text": [
      "\r",
      " 36%|█████████████████████████████████████████████████████████▎                                                                                                   | 365/1000 [56:27<1:38:12,  9.28s/it]"
     ]
    },
    {
     "name": "stdout",
     "output_type": "stream",
     "text": [
      "=========================================================================\n",
      "frame_idx = 365\n",
      "=========================================================================\n",
      "0.0 : list_idx = get_list_idx_for_frame(frame_idx, n_frames_per_side, shift)\n",
      "14.1705002784729 : df_subtracted_frame = get_df_voxel_subtracted_frame(list_df_voxel_scene, frame_idx, n_frames_per_side, shift)\n",
      "2.2200515270233154 : df_frame_orig['voxel_id'] =  df_frame_orig.apply(lambda x: point_to_voxel(x, voxel_size), axis=1)\n",
      "0.0009975433349609375 : df_labels = df_frame_orig.voxel_id.isin(df_subtracted_frame.voxel_id)\n",
      "(8, 5)\n",
      "(32, 5)\n",
      "0.3721473217010498 : df_frame_orig_subtracted = df_frame_orig[df_labels]\n",
      "(379, 5)\n",
      "file_labels: voxelling_output/submission_files/test_vid_19_pred__final/0000365_labels.csv\n",
      "0.1057136058807373 : df_labels.to_csv(pickles_path+\"df_labels__frame_%d__%s__voxel_size_%d_(%d,%d,%d).p\"%(frame_idx, vid, voxel_size, n_frames_per_side, shift, n_frames_per_side))\n",
      "379\n",
      "0.002991914749145508 : save_frame_for_movie(df_frame_orig_subtracted, \"tmp_only_labeled/\", all_files, frame_idx)\n"
     ]
    },
    {
     "name": "stderr",
     "output_type": "stream",
     "text": [
      "\r",
      " 37%|█████████████████████████████████████████████████████████▍                                                                                                   | 366/1000 [56:44<1:38:16,  9.30s/it]"
     ]
    },
    {
     "name": "stdout",
     "output_type": "stream",
     "text": [
      "=========================================================================\n",
      "frame_idx = 366\n",
      "=========================================================================\n",
      "0.0 : list_idx = get_list_idx_for_frame(frame_idx, n_frames_per_side, shift)\n",
      "22.20970368385315 : df_subtracted_frame = get_df_voxel_subtracted_frame(list_df_voxel_scene, frame_idx, n_frames_per_side, shift)\n",
      "2.2450451850891113 : df_frame_orig['voxel_id'] =  df_frame_orig.apply(lambda x: point_to_voxel(x, voxel_size), axis=1)\n",
      "0.001996278762817383 : df_labels = df_frame_orig.voxel_id.isin(df_subtracted_frame.voxel_id)\n",
      "(9, 5)\n",
      "(32, 5)\n",
      "0.36103105545043945 : df_frame_orig_subtracted = df_frame_orig[df_labels]\n",
      "(388, 5)\n",
      "file_labels: voxelling_output/submission_files/test_vid_19_pred__final/0000366_labels.csv\n",
      "0.20387697219848633 : df_labels.to_csv(pickles_path+\"df_labels__frame_%d__%s__voxel_size_%d_(%d,%d,%d).p\"%(frame_idx, vid, voxel_size, n_frames_per_side, shift, n_frames_per_side))\n",
      "388\n",
      "0.004987001419067383 : save_frame_for_movie(df_frame_orig_subtracted, \"tmp_only_labeled/\", all_files, frame_idx)\n"
     ]
    },
    {
     "name": "stderr",
     "output_type": "stream",
     "text": [
      "\r",
      " 37%|█████████████████████████████████████████████████████████▌                                                                                                   | 367/1000 [57:09<1:38:34,  9.34s/it]"
     ]
    },
    {
     "name": "stdout",
     "output_type": "stream",
     "text": [
      "=========================================================================\n",
      "frame_idx = 367\n",
      "=========================================================================\n",
      "0.0009989738464355469 : list_idx = get_list_idx_for_frame(frame_idx, n_frames_per_side, shift)\n",
      "16.006792068481445 : df_subtracted_frame = get_df_voxel_subtracted_frame(list_df_voxel_scene, frame_idx, n_frames_per_side, shift)\n",
      "1.9901232719421387 : df_frame_orig['voxel_id'] =  df_frame_orig.apply(lambda x: point_to_voxel(x, voxel_size), axis=1)\n",
      "0.0019948482513427734 : df_labels = df_frame_orig.voxel_id.isin(df_subtracted_frame.voxel_id)\n",
      "(8, 5)\n",
      "(31, 5)\n",
      "0.20046281814575195 : df_frame_orig_subtracted = df_frame_orig[df_labels]\n",
      "(378, 5)\n",
      "file_labels: voxelling_output/submission_files/test_vid_19_pred__final/0000367_labels.csv\n",
      "0.11568975448608398 : df_labels.to_csv(pickles_path+\"df_labels__frame_%d__%s__voxel_size_%d_(%d,%d,%d).p\"%(frame_idx, vid, voxel_size, n_frames_per_side, shift, n_frames_per_side))\n",
      "378\n",
      "0.0029916763305664062 : save_frame_for_movie(df_frame_orig_subtracted, \"tmp_only_labeled/\", all_files, frame_idx)\n"
     ]
    },
    {
     "name": "stderr",
     "output_type": "stream",
     "text": [
      "\r",
      " 37%|█████████████████████████████████████████████████████████▊                                                                                                   | 368/1000 [57:27<1:38:40,  9.37s/it]"
     ]
    },
    {
     "name": "stdout",
     "output_type": "stream",
     "text": [
      "=========================================================================\n",
      "frame_idx = 368\n",
      "=========================================================================\n",
      "0.0 : list_idx = get_list_idx_for_frame(frame_idx, n_frames_per_side, shift)\n",
      "17.03180694580078 : df_subtracted_frame = get_df_voxel_subtracted_frame(list_df_voxel_scene, frame_idx, n_frames_per_side, shift)\n",
      "2.4248850345611572 : df_frame_orig['voxel_id'] =  df_frame_orig.apply(lambda x: point_to_voxel(x, voxel_size), axis=1)\n",
      "0.0019941329956054688 : df_labels = df_frame_orig.voxel_id.isin(df_subtracted_frame.voxel_id)\n",
      "(9, 5)\n",
      "(32, 5)\n",
      "0.22436308860778809 : df_frame_orig_subtracted = df_frame_orig[df_labels]\n",
      "(372, 5)\n",
      "file_labels: voxelling_output/submission_files/test_vid_19_pred__final/0000368_labels.csv\n",
      "0.1406247615814209 : df_labels.to_csv(pickles_path+\"df_labels__frame_%d__%s__voxel_size_%d_(%d,%d,%d).p\"%(frame_idx, vid, voxel_size, n_frames_per_side, shift, n_frames_per_side))\n",
      "372\n",
      "0.003990888595581055 : save_frame_for_movie(df_frame_orig_subtracted, \"tmp_only_labeled/\", all_files, frame_idx)\n"
     ]
    },
    {
     "name": "stderr",
     "output_type": "stream",
     "text": [
      "\r",
      " 37%|█████████████████████████████████████████████████████████▉                                                                                                   | 369/1000 [57:47<1:38:49,  9.40s/it]"
     ]
    },
    {
     "name": "stdout",
     "output_type": "stream",
     "text": [
      "=========================================================================\n",
      "frame_idx = 369\n",
      "=========================================================================\n",
      "0.0010013580322265625 : list_idx = get_list_idx_for_frame(frame_idx, n_frames_per_side, shift)\n",
      "18.550854921340942 : df_subtracted_frame = get_df_voxel_subtracted_frame(list_df_voxel_scene, frame_idx, n_frames_per_side, shift)\n",
      "2.29567551612854 : df_frame_orig['voxel_id'] =  df_frame_orig.apply(lambda x: point_to_voxel(x, voxel_size), axis=1)\n",
      "0.0009961128234863281 : df_labels = df_frame_orig.voxel_id.isin(df_subtracted_frame.voxel_id)\n",
      "(8, 5)\n",
      "(34, 5)\n",
      "0.23537874221801758 : df_frame_orig_subtracted = df_frame_orig[df_labels]\n",
      "(362, 5)\n",
      "file_labels: voxelling_output/submission_files/test_vid_19_pred__final/0000369_labels.csv\n",
      "0.11294317245483398 : df_labels.to_csv(pickles_path+\"df_labels__frame_%d__%s__voxel_size_%d_(%d,%d,%d).p\"%(frame_idx, vid, voxel_size, n_frames_per_side, shift, n_frames_per_side))\n",
      "362\n",
      "0.006983041763305664 : save_frame_for_movie(df_frame_orig_subtracted, \"tmp_only_labeled/\", all_files, frame_idx)\n"
     ]
    },
    {
     "name": "stderr",
     "output_type": "stream",
     "text": [
      "\r",
      " 37%|██████████████████████████████████████████████████████████                                                                                                   | 370/1000 [58:08<1:39:00,  9.43s/it]"
     ]
    },
    {
     "name": "stdout",
     "output_type": "stream",
     "text": [
      "=========================================================================\n",
      "frame_idx = 370\n",
      "=========================================================================\n",
      "0.0 : list_idx = get_list_idx_for_frame(frame_idx, n_frames_per_side, shift)\n"
     ]
    }
   ],
   "source": [
    "# frame_idx=15\n",
    "frames_range = range(1000)\n",
    "# frames_range = range(15,900)\n",
    "for frame_idx in tqdm(frames_range):\n",
    "    print(\"=========================================================================\")\n",
    "    print(\"frame_idx = %d\"%frame_idx)\n",
    "    print(\"=========================================================================\")\n",
    "\n",
    "    tic = time()\n",
    "    \n",
    "    shift = const_shift\n",
    "    n_frames_per_side = const_n_frames_per_side\n",
    "    \n",
    "    list_idx_uf = get_list_idx_for_frame(frame_idx, n_frames_per_side, shift)\n",
    "    list_idx = [i for i in list_idx_uf if i>=0 and i<=list_df_voxel_scene.shape[0]-1]\n",
    "#     print ('--main--\\nlist idx_uf: {}\\nlist_idx   :{}\\n-------'.format(list_idx_uf, list_idx))\n",
    "    toc = time(); print(toc-tic, \": list_idx = get_list_idx_for_frame(frame_idx, n_frames_per_side, shift)\"); tic=time()\n",
    "    \n",
    "    df_scene = create_scene_voxel_df(list_df_voxel_scene, list_idx)\n",
    "    \n",
    "    \n",
    "#     if frame_idx%frames_per_scene==0 :\n",
    "    df_subtracted_frame = get_df_voxel_subtracted_frame(list_df_voxel_scene, frame_idx, n_frames_per_side, shift)\n",
    "    toc = time(); print(toc-tic, \": df_subtracted_frame = get_df_voxel_subtracted_frame(list_df_voxel_scene, frame_idx, n_frames_per_side, shift)\"); tic=time()\n",
    "    \n",
    "    df_frame_orig = pd.read_csv(all_files[frame_idx], header=None)\n",
    "#     df_frame_orig[\"voxel_id\"] =  df_frame_orig.apply(lambda x: point_to_voxel(x, voxel_size), axis=1)\n",
    "    df_frame_orig[\"voxel_id\"] =  ((df_frame_orig.iloc[:, :3]//voxel_size)*voxel_size + voxel_size//2).apply(lambda x: hash((x[0], x[1], x[2])), axis=1)\n",
    "    toc = time(); print(toc-tic, \": df_frame_orig['voxel_id'] =  df_frame_orig.apply(lambda x: point_to_voxel(x, voxel_size), axis=1)\"); tic=time()\n",
    "    \n",
    "    df_labels = df_frame_orig.voxel_id.isin(df_subtracted_frame.voxel_id)\n",
    "    toc = time(); print(toc-tic, \": df_labels = df_frame_orig.voxel_id.isin(df_subtracted_frame.voxel_id)\"); tic=time()\n",
    "    \n",
    "    if (df_labels.sum()/df_labels.shape[0])>0.5:\n",
    "        print(\"\\nIN ROTATION MODE! fraction of green pixels before:\", (df_labels.sum()/df_labels.shape[0]))\n",
    "        n_frames_per_side=rot_n_frames_per_side\n",
    "        shift=rot_shift\n",
    "        \n",
    "        list_idx_uf = get_list_idx_for_frame(frame_idx, n_frames_per_side, shift)\n",
    "        list_idx = [i for i in list_idx_uf if i>=0 and i<=list_df_voxel_scene.shape[0]-1]\n",
    "        print(\"\\nIN ROTATION MODE: list_idx:\", list_idx)\n",
    "    #     print ('--main--\\nlist idx_uf: {}\\nlist_idx   :{}\\n-------'.format(list_idx_uf, list_idx))\n",
    "        toc = time(); print(toc-tic, \": list_idx = get_list_idx_for_frame(frame_idx, n_frames_per_side, shift)\"); tic=time()\n",
    "\n",
    "        df_scene = create_scene_voxel_df(list_df_voxel_scene, list_idx)\n",
    "\n",
    "\n",
    "    #     if frame_idx%frames_per_scene==0 :\n",
    "        df_subtracted_frame = get_df_voxel_subtracted_frame(list_df_voxel_scene, frame_idx, n_frames_per_side, shift)\n",
    "        toc = time(); print(toc-tic, \": df_subtracted_frame = get_df_voxel_subtracted_frame(list_df_voxel_scene, frame_idx, n_frames_per_side, shift)\"); tic=time()\n",
    "\n",
    "        df_frame_orig = pd.read_csv(all_files[frame_idx], header=None)\n",
    "    #     df_frame_orig[\"voxel_id\"] =  df_frame_orig.apply(lambda x: point_to_voxel(x, voxel_size), axis=1)\n",
    "        df_frame_orig[\"voxel_id\"] =  ((df_frame_orig.iloc[:, :3]//voxel_size)*voxel_size + voxel_size//2).apply(lambda x: hash((x[0], x[1], x[2])), axis=1)\n",
    "        toc = time(); print(toc-tic, \": df_frame_orig['voxel_id'] =  df_frame_orig.apply(lambda x: point_to_voxel(x, voxel_size), axis=1)\"); tic=time()\n",
    "\n",
    "        df_labels = df_frame_orig.voxel_id.isin(df_subtracted_frame.voxel_id)\n",
    "        toc = time(); print(toc-tic, \": df_labels = df_frame_orig.voxel_id.isin(df_subtracted_frame.voxel_id)\"); tic=time()\n",
    "\n",
    "        print(\"\\nIN ROTATION MODE! fraction of green pixels after:\", (df_labels.sum()/df_labels.shape[0]))\n",
    "        \n",
    "    \n",
    "    \n",
    "    # filters\n",
    "    df_labels = remove_distant_lines(frame_idx, df_labels, orig_files_path)\n",
    "    df_labels = remove_distant_points(frame_idx, df_labels, orig_files_path)\n",
    "    df_labels = remove_close_lines(frame_idx, df_labels, orig_files_path)\n",
    "    df_labels = remove_high_points(frame_idx, df_labels, orig_files_path)\n",
    "    df_labels = remove_low_points(frame_idx, df_labels, orig_files_path)\n",
    "    df_labels = remove_high_theta_points(frame_idx, df_labels, orig_files_path)\n",
    "    \n",
    "#     df_labels.iloc[:] = False\n",
    "    \n",
    "    df_frame_orig_subtracted = df_frame_orig[df_labels]\n",
    "    toc = time(); print(toc-tic, \": df_frame_orig_subtracted = df_frame_orig[df_labels]\"); tic=time()\n",
    "    \n",
    "    print(df_frame_orig_subtracted.shape)\n",
    "    df_labels = df_labels.astype(int)\n",
    "    file_labels = labels_path + os.path.basename(all_files[frame_idx]).replace(\"pointcloud\", \"labels\")\n",
    "    print(\"file_labels:\", file_labels)\n",
    "    df_labels.to_csv(file_labels, header=None, index=False)\n",
    "    toc = time(); print(toc-tic, ': df_labels.to_csv(pickles_path+\"df_labels__frame_%d__%s__voxel_size_%d_(%d,%d,%d).p\"%(frame_idx, vid, voxel_size, n_frames_per_side, shift, n_frames_per_side))'); tic=time()\n",
    "    \n",
    "    print(df_labels.sum())\n",
    "    df_frame_orig_subtracted = df_frame_orig_subtracted.iloc[:, :4]\n",
    "#     df_frame_orig_subtracted.to_csv(pickles_path+\"df_frame_orig_subtracted__frame_%d__%s__voxel_size%d_(%d,%d,%d).p\"%(frame_idx, vid, voxel_size, n_frames_per_side, shift, n_frames_per_side)), header=None, index=False)\n",
    "#     save_frame_for_movie(df_frame_orig_subtracted, \"tmp_only_labeled/\", all_files, frame_idx)\n",
    "    toc = time(); print(toc-tic, ': save_frame_for_movie(df_frame_orig_subtracted, \"tmp_only_labeled/\", all_files, frame_idx)'); tic=time()"
   ]
  },
  {
   "cell_type": "code",
   "execution_count": null,
   "metadata": {},
   "outputs": [],
   "source": [
    "list_idx"
   ]
  },
  {
   "cell_type": "code",
   "execution_count": null,
   "metadata": {},
   "outputs": [],
   "source": []
  }
 ],
 "metadata": {
  "kernelspec": {
   "display_name": "DataHack",
   "language": "python",
   "name": "datahack"
  },
  "language_info": {
   "codemirror_mode": {
    "name": "ipython",
    "version": 3
   },
   "file_extension": ".py",
   "mimetype": "text/x-python",
   "name": "python",
   "nbconvert_exporter": "python",
   "pygments_lexer": "ipython3",
   "version": "3.6.4"
  }
 },
 "nbformat": 4,
 "nbformat_minor": 2
}
