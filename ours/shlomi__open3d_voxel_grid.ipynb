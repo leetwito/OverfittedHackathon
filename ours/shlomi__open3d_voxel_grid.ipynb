{
 "cells": [
  {
   "cell_type": "code",
   "execution_count": 1,
   "metadata": {},
   "outputs": [],
   "source": [
    "# install open3d by: conda install -c open3d-admin open3d\n",
    "import open3d\n",
    "import pandas as pd\n",
    "import numpy as np\n",
    "\n",
    "%matplotlib inline"
   ]
  },
  {
   "cell_type": "code",
   "execution_count": 2,
   "metadata": {},
   "outputs": [],
   "source": [
    "df = pd.read_csv(\"data_examples/test_video/0000000_pointcloud.csv\", header=None)\n",
    "df.iloc[:, :3].to_csv(\"data_examples/test_video_mod/0000000_pointcloud.xyz\", header=None, index=False, sep=\" \")"
   ]
  },
  {
   "cell_type": "code",
   "execution_count": 3,
   "metadata": {},
   "outputs": [
    {
     "data": {
      "text/html": [
       "<div>\n",
       "<style scoped>\n",
       "    .dataframe tbody tr th:only-of-type {\n",
       "        vertical-align: middle;\n",
       "    }\n",
       "\n",
       "    .dataframe tbody tr th {\n",
       "        vertical-align: top;\n",
       "    }\n",
       "\n",
       "    .dataframe thead th {\n",
       "        text-align: right;\n",
       "    }\n",
       "</style>\n",
       "<table border=\"1\" class=\"dataframe\">\n",
       "  <thead>\n",
       "    <tr style=\"text-align: right;\">\n",
       "      <th></th>\n",
       "      <th>0</th>\n",
       "      <th>1</th>\n",
       "      <th>2</th>\n",
       "    </tr>\n",
       "  </thead>\n",
       "  <tbody>\n",
       "    <tr>\n",
       "      <th>0</th>\n",
       "      <td>773</td>\n",
       "      <td>-221</td>\n",
       "      <td>426</td>\n",
       "    </tr>\n",
       "    <tr>\n",
       "      <th>1</th>\n",
       "      <td>769</td>\n",
       "      <td>-223</td>\n",
       "      <td>424</td>\n",
       "    </tr>\n",
       "    <tr>\n",
       "      <th>2</th>\n",
       "      <td>767</td>\n",
       "      <td>-225</td>\n",
       "      <td>424</td>\n",
       "    </tr>\n",
       "    <tr>\n",
       "      <th>3</th>\n",
       "      <td>765</td>\n",
       "      <td>-227</td>\n",
       "      <td>423</td>\n",
       "    </tr>\n",
       "    <tr>\n",
       "      <th>4</th>\n",
       "      <td>767</td>\n",
       "      <td>-231</td>\n",
       "      <td>424</td>\n",
       "    </tr>\n",
       "  </tbody>\n",
       "</table>\n",
       "</div>"
      ],
      "text/plain": [
       "     0    1    2\n",
       "0  773 -221  426\n",
       "1  769 -223  424\n",
       "2  767 -225  424\n",
       "3  765 -227  423\n",
       "4  767 -231  424"
      ]
     },
     "execution_count": 3,
     "metadata": {},
     "output_type": "execute_result"
    }
   ],
   "source": [
    "df.iloc[:, :3].head()"
   ]
  },
  {
   "cell_type": "code",
   "execution_count": 4,
   "metadata": {},
   "outputs": [],
   "source": [
    "pcd = open3d.read_point_cloud(\"data_examples/test_video_mod/0000000_pointcloud.xyz\")\n",
    "pcd_pts = np.asarray(pcd.points)/100"
   ]
  },
  {
   "cell_type": "code",
   "execution_count": 5,
   "metadata": {},
   "outputs": [
    {
     "name": "stdout",
     "output_type": "stream",
     "text": [
      "PointCloud with 37568 points.\n"
     ]
    }
   ],
   "source": [
    "print(pcd)"
   ]
  },
  {
   "cell_type": "code",
   "execution_count": 6,
   "metadata": {},
   "outputs": [
    {
     "name": "stdout",
     "output_type": "stream",
     "text": [
      "[[ 7.73 -2.21  4.26]\n",
      " [ 7.69 -2.23  4.24]\n",
      " [ 7.67 -2.25  4.24]\n",
      " ...\n",
      " [ 3.19 -2.15  0.2 ]\n",
      " [ 3.19 -2.16  0.2 ]\n",
      " [ 3.19 -2.17  0.2 ]]\n"
     ]
    }
   ],
   "source": [
    "print(pcd_pts)"
   ]
  },
  {
   "cell_type": "code",
   "execution_count": 7,
   "metadata": {},
   "outputs": [],
   "source": [
    "# open3d.draw_geometries([pcd])"
   ]
  },
  {
   "cell_type": "code",
   "execution_count": 8,
   "metadata": {},
   "outputs": [],
   "source": [
    "downpcd = open3d.voxel_down_sample(pcd, voxel_size = 1.)\n",
    "downpcd_pts = np.asarray(downpcd.points)"
   ]
  },
  {
   "cell_type": "code",
   "execution_count": 9,
   "metadata": {},
   "outputs": [
    {
     "name": "stdout",
     "output_type": "stream",
     "text": [
      "[[  767.  -225.   403.]\n",
      " [ 2683. -1871.   779.]\n",
      " [ 2880. -1893.   804.]\n",
      " ...\n",
      " [  319.  -215.    20.]\n",
      " [  319.  -216.    20.]\n",
      " [  319.  -217.    20.]]\n"
     ]
    }
   ],
   "source": [
    "print(downpcd_pts)"
   ]
  },
  {
   "cell_type": "code",
   "execution_count": 10,
   "metadata": {},
   "outputs": [],
   "source": [
    "# open3d.draw_geometries([downpcd])"
   ]
  },
  {
   "cell_type": "code",
   "execution_count": 11,
   "metadata": {},
   "outputs": [
    {
     "name": "stdout",
     "output_type": "stream",
     "text": [
      "min points:\n",
      "0     3.19\n",
      "1   -21.28\n",
      "2    -0.05\n",
      "dtype: float64\n",
      "\n",
      "max points:\n",
      "0    97.91\n",
      "1    56.43\n",
      "2    10.20\n",
      "dtype: float64\n"
     ]
    }
   ],
   "source": [
    "df_pcd = pd.DataFrame(pcd_pts)\n",
    "print(\"min points:\")\n",
    "print(df_pcd.min(axis=0))\n",
    "print(\"\\nmax points:\")\n",
    "print(df_pcd.max(axis=0))\n",
    "# df_pcd.iloc[:, 0].hist()"
   ]
  },
  {
   "cell_type": "code",
   "execution_count": 12,
   "metadata": {},
   "outputs": [
    {
     "name": "stdout",
     "output_type": "stream",
     "text": [
      "min points:\n",
      "0     319\n",
      "1   -2128\n",
      "2      -5\n",
      "dtype: int32\n",
      "\n",
      "max points:\n",
      "0    9791\n",
      "1    5643\n",
      "2    1020\n",
      "dtype: int32\n"
     ]
    }
   ],
   "source": [
    "df_dwn = pd.DataFrame(downpcd_pts).astype(int)\n",
    "print(\"min points:\")\n",
    "print(df_dwn.min(axis=0))\n",
    "print(\"\\nmax points:\")\n",
    "print(df_dwn.max(axis=0))"
   ]
  },
  {
   "cell_type": "code",
   "execution_count": 13,
   "metadata": {},
   "outputs": [
    {
     "data": {
      "text/plain": [
       "((37568, 3), (37444, 3))"
      ]
     },
     "execution_count": 13,
     "metadata": {},
     "output_type": "execute_result"
    }
   ],
   "source": [
    "pcd_pts.shape, downpcd_pts.shape\n",
    "# some points were merged to same voxel."
   ]
  },
  {
   "cell_type": "code",
   "execution_count": null,
   "metadata": {},
   "outputs": [],
   "source": []
  }
 ],
 "metadata": {
  "kernelspec": {
   "display_name": "datahack2",
   "language": "python",
   "name": "datahack2"
  },
  "language_info": {
   "codemirror_mode": {
    "name": "ipython",
    "version": 3
   },
   "file_extension": ".py",
   "mimetype": "text/x-python",
   "name": "python",
   "nbconvert_exporter": "python",
   "pygments_lexer": "ipython3",
   "version": "3.6.4"
  }
 },
 "nbformat": 4,
 "nbformat_minor": 2
}
