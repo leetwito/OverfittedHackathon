{
 "cells": [
  {
   "cell_type": "code",
   "execution_count": 1,
   "metadata": {},
   "outputs": [],
   "source": [
    "# install open3d by: conda install -c open3d-admin open3d\n",
    "import open3d\n",
    "import pandas as pd\n",
    "import numpy as np\n",
    "\n",
    "%matplotlib inline"
   ]
  },
  {
   "cell_type": "markdown",
   "metadata": {},
   "source": [
    "### read pc and transform to format open3d knows to digest:"
   ]
  },
  {
   "cell_type": "code",
   "execution_count": 2,
   "metadata": {},
   "outputs": [],
   "source": [
    "df = pd.read_csv(\"data_examples/test_video/0000000_pointcloud.csv\", header=None)\n",
    "df.iloc[:, :3].to_csv(\"data_examples/test_video_mod/0000000_pointcloud.xyz\", header=None, index=False, sep=\" \")"
   ]
  },
  {
   "cell_type": "code",
   "execution_count": 3,
   "metadata": {},
   "outputs": [
    {
     "data": {
      "text/html": [
       "<div>\n",
       "<style scoped>\n",
       "    .dataframe tbody tr th:only-of-type {\n",
       "        vertical-align: middle;\n",
       "    }\n",
       "\n",
       "    .dataframe tbody tr th {\n",
       "        vertical-align: top;\n",
       "    }\n",
       "\n",
       "    .dataframe thead th {\n",
       "        text-align: right;\n",
       "    }\n",
       "</style>\n",
       "<table border=\"1\" class=\"dataframe\">\n",
       "  <thead>\n",
       "    <tr style=\"text-align: right;\">\n",
       "      <th></th>\n",
       "      <th>0</th>\n",
       "      <th>1</th>\n",
       "      <th>2</th>\n",
       "      <th>3</th>\n",
       "      <th>4</th>\n",
       "      <th>5</th>\n",
       "    </tr>\n",
       "  </thead>\n",
       "  <tbody>\n",
       "    <tr>\n",
       "      <th>0</th>\n",
       "      <td>773</td>\n",
       "      <td>-221</td>\n",
       "      <td>426</td>\n",
       "      <td>0.25</td>\n",
       "      <td>0.0</td>\n",
       "      <td>0.25</td>\n",
       "    </tr>\n",
       "    <tr>\n",
       "      <th>1</th>\n",
       "      <td>769</td>\n",
       "      <td>-223</td>\n",
       "      <td>424</td>\n",
       "      <td>0.25</td>\n",
       "      <td>0.0</td>\n",
       "      <td>0.25</td>\n",
       "    </tr>\n",
       "    <tr>\n",
       "      <th>2</th>\n",
       "      <td>767</td>\n",
       "      <td>-225</td>\n",
       "      <td>424</td>\n",
       "      <td>0.25</td>\n",
       "      <td>0.0</td>\n",
       "      <td>0.25</td>\n",
       "    </tr>\n",
       "    <tr>\n",
       "      <th>3</th>\n",
       "      <td>765</td>\n",
       "      <td>-227</td>\n",
       "      <td>423</td>\n",
       "      <td>0.25</td>\n",
       "      <td>0.0</td>\n",
       "      <td>0.25</td>\n",
       "    </tr>\n",
       "    <tr>\n",
       "      <th>4</th>\n",
       "      <td>767</td>\n",
       "      <td>-231</td>\n",
       "      <td>424</td>\n",
       "      <td>0.25</td>\n",
       "      <td>0.0</td>\n",
       "      <td>0.25</td>\n",
       "    </tr>\n",
       "  </tbody>\n",
       "</table>\n",
       "</div>"
      ],
      "text/plain": [
       "     0    1    2     3    4     5\n",
       "0  773 -221  426  0.25  0.0  0.25\n",
       "1  769 -223  424  0.25  0.0  0.25\n",
       "2  767 -225  424  0.25  0.0  0.25\n",
       "3  765 -227  423  0.25  0.0  0.25\n",
       "4  767 -231  424  0.25  0.0  0.25"
      ]
     },
     "execution_count": 3,
     "metadata": {},
     "output_type": "execute_result"
    }
   ],
   "source": [
    "# for creating xyzrgb format (r=intensity, g,b=0)\n",
    "df2 = df.copy()\n",
    "df2[3] = df2[3]/100\n",
    "df2[4] = 0. # df2[3]\n",
    "df2[5] = df2[3]\n",
    "\n",
    "df2.to_csv(\"data_examples/test_video_mod/0000000_pointcloud.xyzrgb\", header=None, index=False, sep=\" \")\n",
    "df2.head()"
   ]
  },
  {
   "cell_type": "code",
   "execution_count": 4,
   "metadata": {},
   "outputs": [],
   "source": [
    "pcd = open3d.read_point_cloud(\"data_examples/test_video_mod/0000000_pointcloud.xyzrgb\")\n",
    "pcd_pts = np.asarray(pcd.points)"
   ]
  },
  {
   "cell_type": "code",
   "execution_count": 5,
   "metadata": {},
   "outputs": [
    {
     "name": "stdout",
     "output_type": "stream",
     "text": [
      "PointCloud with 37568 points.\n"
     ]
    }
   ],
   "source": [
    "print(pcd)"
   ]
  },
  {
   "cell_type": "code",
   "execution_count": 6,
   "metadata": {},
   "outputs": [
    {
     "name": "stdout",
     "output_type": "stream",
     "text": [
      "[[ 773. -221.  426.]\n",
      " [ 769. -223.  424.]\n",
      " [ 767. -225.  424.]\n",
      " ...\n",
      " [ 319. -215.   20.]\n",
      " [ 319. -216.   20.]\n",
      " [ 319. -217.   20.]]\n"
     ]
    }
   ],
   "source": [
    "print(pcd_pts)"
   ]
  },
  {
   "cell_type": "code",
   "execution_count": 7,
   "metadata": {},
   "outputs": [],
   "source": [
    "open3d.draw_geometries([pcd])"
   ]
  },
  {
   "cell_type": "markdown",
   "metadata": {},
   "source": [
    "### downsample to voxel-grid:"
   ]
  },
  {
   "cell_type": "code",
   "execution_count": 8,
   "metadata": {},
   "outputs": [],
   "source": [
    "downpcd = open3d.voxel_down_sample(pcd, voxel_size = 100)\n",
    "downpcd_pts = np.asarray(downpcd.points)"
   ]
  },
  {
   "cell_type": "code",
   "execution_count": 9,
   "metadata": {},
   "outputs": [
    {
     "name": "stdout",
     "output_type": "stream",
     "text": [
      "[[ 2723.625      -1860.4375       767.        ]\n",
      " [ 1578.6         -733.26666667    68.        ]\n",
      " [ 2327.5         -607.33333333   169.66666667]\n",
      " ...\n",
      " [  517.52401747  -129.86317322    11.        ]\n",
      " [  417.96432111  -238.53716551    19.46481665]\n",
      " [  459.59259259   328.18518519    11.        ]]\n"
     ]
    }
   ],
   "source": [
    "print(downpcd_pts)"
   ]
  },
  {
   "cell_type": "code",
   "execution_count": 10,
   "metadata": {},
   "outputs": [],
   "source": [
    "open3d.draw_geometries([downpcd])"
   ]
  },
  {
   "cell_type": "code",
   "execution_count": 11,
   "metadata": {},
   "outputs": [
    {
     "name": "stdout",
     "output_type": "stream",
     "text": [
      "min points:\n",
      "0     319.0\n",
      "1   -2128.0\n",
      "2      -5.0\n",
      "dtype: float64\n",
      "\n",
      "max points:\n",
      "0    9791.0\n",
      "1    5643.0\n",
      "2    1020.0\n",
      "dtype: float64\n"
     ]
    }
   ],
   "source": [
    "df_pcd = pd.DataFrame(pcd_pts)\n",
    "print(\"min points:\")\n",
    "print(df_pcd.min(axis=0))\n",
    "print(\"\\nmax points:\")\n",
    "print(df_pcd.max(axis=0))\n",
    "# df_pcd.iloc[:, 0].hist()"
   ]
  },
  {
   "cell_type": "code",
   "execution_count": 12,
   "metadata": {},
   "outputs": [
    {
     "name": "stdout",
     "output_type": "stream",
     "text": [
      "min points:\n",
      "0     350\n",
      "1   -2106\n",
      "2      -5\n",
      "dtype: int32\n",
      "\n",
      "max points:\n",
      "0    9791\n",
      "1    5643\n",
      "2    1019\n",
      "dtype: int32\n"
     ]
    }
   ],
   "source": [
    "df_dwn = pd.DataFrame(downpcd_pts).astype(int)\n",
    "print(\"min points:\")\n",
    "print(df_dwn.min(axis=0))\n",
    "print(\"\\nmax points:\")\n",
    "print(df_dwn.max(axis=0))"
   ]
  },
  {
   "cell_type": "code",
   "execution_count": 13,
   "metadata": {},
   "outputs": [
    {
     "data": {
      "text/plain": [
       "((37568, 3), (1301, 3))"
      ]
     },
     "execution_count": 13,
     "metadata": {},
     "output_type": "execute_result"
    }
   ],
   "source": [
    "pcd_pts.shape, downpcd_pts.shape\n",
    "# some points were merged to same voxel."
   ]
  },
  {
   "cell_type": "code",
   "execution_count": null,
   "metadata": {},
   "outputs": [],
   "source": []
  }
 ],
 "metadata": {
  "kernelspec": {
   "display_name": "datahack2",
   "language": "python",
   "name": "datahack2"
  },
  "language_info": {
   "codemirror_mode": {
    "name": "ipython",
    "version": 3
   },
   "file_extension": ".py",
   "mimetype": "text/x-python",
   "name": "python",
   "nbconvert_exporter": "python",
   "pygments_lexer": "ipython3",
   "version": "3.6.4"
  }
 },
 "nbformat": 4,
 "nbformat_minor": 2
}
