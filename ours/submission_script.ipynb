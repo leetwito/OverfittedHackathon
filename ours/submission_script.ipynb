{
 "cells": [
  {
   "cell_type": "code",
   "execution_count": 13,
   "metadata": {},
   "outputs": [],
   "source": [
    "from evaluator.iou_evaluator import evaluate_frame, evaluate_folder\n",
    "from shutil import copy2\n",
    "from glob import glob\n",
    "\n",
    "import pandas as pd"
   ]
  },
  {
   "cell_type": "markdown",
   "metadata": {},
   "source": [
    "-------------"
   ]
  },
  {
   "cell_type": "code",
   "execution_count": 14,
   "metadata": {},
   "outputs": [],
   "source": [
    "# src_files = glob(\"../data/Train/vid_1/*labels*\")[15:900]\n",
    "# dst_dir = \"voxelling_output/submission_files/vid_1_gt/\""
   ]
  },
  {
   "cell_type": "code",
   "execution_count": 15,
   "metadata": {},
   "outputs": [],
   "source": [
    "# for f in src_files:\n",
    "#     copy2(f, dst_dir)"
   ]
  },
  {
   "cell_type": "markdown",
   "metadata": {},
   "source": [
    "----------------"
   ]
  },
  {
   "cell_type": "code",
   "execution_count": 39,
   "metadata": {},
   "outputs": [
    {
     "data": {
      "text/plain": [
       "'0000075_labels.csv'"
      ]
     },
     "execution_count": 39,
     "metadata": {},
     "output_type": "execute_result"
    }
   ],
   "source": [
    "idx = 75\n",
    "filename = '0'*(7-len(str(idx)))+str(idx)+\"_labels.csv\"\n",
    "filename"
   ]
  },
  {
   "cell_type": "code",
   "execution_count": 40,
   "metadata": {},
   "outputs": [
    {
     "data": {
      "text/plain": [
       "564"
      ]
     },
     "execution_count": 40,
     "metadata": {},
     "output_type": "execute_result"
    }
   ],
   "source": [
    "gt = pd.read_csv(\"voxelling_output/submission_files/vid_1_gt/\"+filename, header=None)\n",
    "# gt = gt.T[0]\n",
    "gt.values.sum()"
   ]
  },
  {
   "cell_type": "code",
   "execution_count": 41,
   "metadata": {},
   "outputs": [
    {
     "name": "stdout",
     "output_type": "stream",
     "text": [
      "0000075_labels.csv\n"
     ]
    },
    {
     "data": {
      "text/plain": [
       "2619"
      ]
     },
     "execution_count": 41,
     "metadata": {},
     "output_type": "execute_result"
    }
   ],
   "source": [
    "print(filename)\n",
    "pred2 = pd.read_csv(\"voxelling_output/submission_files/vid_1_pred_lee/\"+filename, header=None)\n",
    "# pred = pred.T[0]\n",
    "pred2.values.sum()"
   ]
  },
  {
   "cell_type": "code",
   "execution_count": 42,
   "metadata": {},
   "outputs": [
    {
     "data": {
      "text/plain": [
       "(0.20113207547169812, 533, 31, 2086)"
      ]
     },
     "execution_count": 42,
     "metadata": {},
     "output_type": "execute_result"
    }
   ],
   "source": [
    "tp, fn, fp = evaluate_frame(gt, pred2)\n",
    "iou = tp / (tp+fn+fp)\n",
    "iou[0], tp[0], fn[0], fp[0]"
   ]
  },
  {
   "cell_type": "code",
   "execution_count": 30,
   "metadata": {},
   "outputs": [],
   "source": [
    "def calc_iou(gt, pred):\n",
    "    tp, fn, fp = evaluate_frame(gt, pred)\n",
    "    iou = tp / (tp+fn+fp)\n",
    "    return iou"
   ]
  },
  {
   "cell_type": "markdown",
   "metadata": {},
   "source": [
    "-----------------------------------"
   ]
  },
  {
   "cell_type": "code",
   "execution_count": 48,
   "metadata": {},
   "outputs": [
    {
     "name": "stdout",
     "output_type": "stream",
     "text": [
      "evaluating folder  with 404 frames...\n",
      "No matching prediction file for frame 308 in voxelling_output/submission_files/vid_1_gt/, filling zero labels\n",
      "No matching prediction file for frame 309 in voxelling_output/submission_files/vid_1_gt/, filling zero labels\n",
      "No matching prediction file for frame 310 in voxelling_output/submission_files/vid_1_gt/, filling zero labels\n",
      "No matching prediction file for frame 311 in voxelling_output/submission_files/vid_1_gt/, filling zero labels\n",
      "No matching prediction file for frame 312 in voxelling_output/submission_files/vid_1_gt/, filling zero labels\n",
      "No matching prediction file for frame 313 in voxelling_output/submission_files/vid_1_gt/, filling zero labels\n",
      "No matching prediction file for frame 314 in voxelling_output/submission_files/vid_1_gt/, filling zero labels\n",
      "No matching prediction file for frame 315 in voxelling_output/submission_files/vid_1_gt/, filling zero labels\n",
      "No matching prediction file for frame 316 in voxelling_output/submission_files/vid_1_gt/, filling zero labels\n",
      "No matching prediction file for frame 317 in voxelling_output/submission_files/vid_1_gt/, filling zero labels\n",
      "No matching prediction file for frame 318 in voxelling_output/submission_files/vid_1_gt/, filling zero labels\n",
      "No matching prediction file for frame 319 in voxelling_output/submission_files/vid_1_gt/, filling zero labels\n",
      "No matching prediction file for frame 320 in voxelling_output/submission_files/vid_1_gt/, filling zero labels\n",
      "No matching prediction file for frame 321 in voxelling_output/submission_files/vid_1_gt/, filling zero labels\n",
      "No matching prediction file for frame 322 in voxelling_output/submission_files/vid_1_gt/, filling zero labels\n",
      "No matching prediction file for frame 323 in voxelling_output/submission_files/vid_1_gt/, filling zero labels\n",
      "No matching prediction file for frame 324 in voxelling_output/submission_files/vid_1_gt/, filling zero labels\n",
      "No matching prediction file for frame 325 in voxelling_output/submission_files/vid_1_gt/, filling zero labels\n",
      "No matching prediction file for frame 326 in voxelling_output/submission_files/vid_1_gt/, filling zero labels\n",
      "No matching prediction file for frame 327 in voxelling_output/submission_files/vid_1_gt/, filling zero labels\n",
      "No matching prediction file for frame 328 in voxelling_output/submission_files/vid_1_gt/, filling zero labels\n",
      "No matching prediction file for frame 329 in voxelling_output/submission_files/vid_1_gt/, filling zero labels\n",
      "No matching prediction file for frame 330 in voxelling_output/submission_files/vid_1_gt/, filling zero labels\n",
      "No matching prediction file for frame 331 in voxelling_output/submission_files/vid_1_gt/, filling zero labels\n",
      "No matching prediction file for frame 332 in voxelling_output/submission_files/vid_1_gt/, filling zero labels\n",
      "No matching prediction file for frame 333 in voxelling_output/submission_files/vid_1_gt/, filling zero labels\n",
      "No matching prediction file for frame 334 in voxelling_output/submission_files/vid_1_gt/, filling zero labels\n",
      "No matching prediction file for frame 335 in voxelling_output/submission_files/vid_1_gt/, filling zero labels\n",
      "No matching prediction file for frame 336 in voxelling_output/submission_files/vid_1_gt/, filling zero labels\n",
      "No matching prediction file for frame 337 in voxelling_output/submission_files/vid_1_gt/, filling zero labels\n",
      "No matching prediction file for frame 338 in voxelling_output/submission_files/vid_1_gt/, filling zero labels\n",
      "No matching prediction file for frame 339 in voxelling_output/submission_files/vid_1_gt/, filling zero labels\n",
      "No matching prediction file for frame 340 in voxelling_output/submission_files/vid_1_gt/, filling zero labels\n",
      "No matching prediction file for frame 341 in voxelling_output/submission_files/vid_1_gt/, filling zero labels\n",
      "No matching prediction file for frame 342 in voxelling_output/submission_files/vid_1_gt/, filling zero labels\n",
      "No matching prediction file for frame 343 in voxelling_output/submission_files/vid_1_gt/, filling zero labels\n",
      "No matching prediction file for frame 344 in voxelling_output/submission_files/vid_1_gt/, filling zero labels\n",
      "No matching prediction file for frame 345 in voxelling_output/submission_files/vid_1_gt/, filling zero labels\n",
      "No matching prediction file for frame 346 in voxelling_output/submission_files/vid_1_gt/, filling zero labels\n",
      "No matching prediction file for frame 347 in voxelling_output/submission_files/vid_1_gt/, filling zero labels\n",
      "No matching prediction file for frame 348 in voxelling_output/submission_files/vid_1_gt/, filling zero labels\n",
      "No matching prediction file for frame 349 in voxelling_output/submission_files/vid_1_gt/, filling zero labels\n",
      "No matching prediction file for frame 350 in voxelling_output/submission_files/vid_1_gt/, filling zero labels\n",
      "No matching prediction file for frame 351 in voxelling_output/submission_files/vid_1_gt/, filling zero labels\n",
      "No matching prediction file for frame 352 in voxelling_output/submission_files/vid_1_gt/, filling zero labels\n",
      "No matching prediction file for frame 353 in voxelling_output/submission_files/vid_1_gt/, filling zero labels\n",
      "No matching prediction file for frame 354 in voxelling_output/submission_files/vid_1_gt/, filling zero labels\n",
      "No matching prediction file for frame 355 in voxelling_output/submission_files/vid_1_gt/, filling zero labels\n",
      "No matching prediction file for frame 356 in voxelling_output/submission_files/vid_1_gt/, filling zero labels\n",
      "No matching prediction file for frame 357 in voxelling_output/submission_files/vid_1_gt/, filling zero labels\n",
      "No matching prediction file for frame 358 in voxelling_output/submission_files/vid_1_gt/, filling zero labels\n",
      "No matching prediction file for frame 359 in voxelling_output/submission_files/vid_1_gt/, filling zero labels\n",
      "No matching prediction file for frame 360 in voxelling_output/submission_files/vid_1_gt/, filling zero labels\n",
      "No matching prediction file for frame 361 in voxelling_output/submission_files/vid_1_gt/, filling zero labels\n",
      "No matching prediction file for frame 362 in voxelling_output/submission_files/vid_1_gt/, filling zero labels\n",
      "No matching prediction file for frame 363 in voxelling_output/submission_files/vid_1_gt/, filling zero labels\n",
      "No matching prediction file for frame 364 in voxelling_output/submission_files/vid_1_gt/, filling zero labels\n",
      "No matching prediction file for frame 365 in voxelling_output/submission_files/vid_1_gt/, filling zero labels\n",
      "No matching prediction file for frame 366 in voxelling_output/submission_files/vid_1_gt/, filling zero labels\n",
      "No matching prediction file for frame 367 in voxelling_output/submission_files/vid_1_gt/, filling zero labels\n",
      "No matching prediction file for frame 368 in voxelling_output/submission_files/vid_1_gt/, filling zero labels\n",
      "No matching prediction file for frame 369 in voxelling_output/submission_files/vid_1_gt/, filling zero labels\n",
      "No matching prediction file for frame 370 in voxelling_output/submission_files/vid_1_gt/, filling zero labels\n",
      "No matching prediction file for frame 371 in voxelling_output/submission_files/vid_1_gt/, filling zero labels\n",
      "No matching prediction file for frame 372 in voxelling_output/submission_files/vid_1_gt/, filling zero labels\n",
      "No matching prediction file for frame 373 in voxelling_output/submission_files/vid_1_gt/, filling zero labels\n",
      "No matching prediction file for frame 374 in voxelling_output/submission_files/vid_1_gt/, filling zero labels\n",
      "No matching prediction file for frame 375 in voxelling_output/submission_files/vid_1_gt/, filling zero labels\n",
      "No matching prediction file for frame 376 in voxelling_output/submission_files/vid_1_gt/, filling zero labels\n",
      "No matching prediction file for frame 377 in voxelling_output/submission_files/vid_1_gt/, filling zero labels\n",
      "No matching prediction file for frame 378 in voxelling_output/submission_files/vid_1_gt/, filling zero labels\n",
      "No matching prediction file for frame 379 in voxelling_output/submission_files/vid_1_gt/, filling zero labels\n",
      "No matching prediction file for frame 380 in voxelling_output/submission_files/vid_1_gt/, filling zero labels\n",
      "No matching prediction file for frame 381 in voxelling_output/submission_files/vid_1_gt/, filling zero labels\n",
      "No matching prediction file for frame 382 in voxelling_output/submission_files/vid_1_gt/, filling zero labels\n",
      "No matching prediction file for frame 383 in voxelling_output/submission_files/vid_1_gt/, filling zero labels\n",
      "No matching prediction file for frame 384 in voxelling_output/submission_files/vid_1_gt/, filling zero labels\n",
      "No matching prediction file for frame 385 in voxelling_output/submission_files/vid_1_gt/, filling zero labels\n",
      "No matching prediction file for frame 386 in voxelling_output/submission_files/vid_1_gt/, filling zero labels\n",
      "No matching prediction file for frame 387 in voxelling_output/submission_files/vid_1_gt/, filling zero labels\n",
      "No matching prediction file for frame 388 in voxelling_output/submission_files/vid_1_gt/, filling zero labels\n",
      "No matching prediction file for frame 389 in voxelling_output/submission_files/vid_1_gt/, filling zero labels\n",
      "No matching prediction file for frame 390 in voxelling_output/submission_files/vid_1_gt/, filling zero labels\n",
      "No matching prediction file for frame 391 in voxelling_output/submission_files/vid_1_gt/, filling zero labels\n",
      "No matching prediction file for frame 392 in voxelling_output/submission_files/vid_1_gt/, filling zero labels\n",
      "No matching prediction file for frame 393 in voxelling_output/submission_files/vid_1_gt/, filling zero labels\n",
      "No matching prediction file for frame 394 in voxelling_output/submission_files/vid_1_gt/, filling zero labels\n",
      "No matching prediction file for frame 395 in voxelling_output/submission_files/vid_1_gt/, filling zero labels\n",
      "No matching prediction file for frame 396 in voxelling_output/submission_files/vid_1_gt/, filling zero labels\n",
      "No matching prediction file for frame 397 in voxelling_output/submission_files/vid_1_gt/, filling zero labels\n",
      "No matching prediction file for frame 398 in voxelling_output/submission_files/vid_1_gt/, filling zero labels\n",
      "No matching prediction file for frame 399 in voxelling_output/submission_files/vid_1_gt/, filling zero labels\n",
      "No matching prediction file for frame 400 in voxelling_output/submission_files/vid_1_gt/, filling zero labels\n",
      "No matching prediction file for frame 401 in voxelling_output/submission_files/vid_1_gt/, filling zero labels\n",
      "No matching prediction file for frame 402 in voxelling_output/submission_files/vid_1_gt/, filling zero labels\n",
      "No matching prediction file for frame 403 in voxelling_output/submission_files/vid_1_gt/, filling zero labels\n",
      "No matching prediction file for frame 404 in voxelling_output/submission_files/vid_1_gt/, filling zero labels\n",
      "No matching prediction file for frame 405 in voxelling_output/submission_files/vid_1_gt/, filling zero labels\n",
      "No matching prediction file for frame 406 in voxelling_output/submission_files/vid_1_gt/, filling zero labels\n",
      "No matching prediction file for frame 407 in voxelling_output/submission_files/vid_1_gt/, filling zero labels\n",
      "No matching prediction file for frame 408 in voxelling_output/submission_files/vid_1_gt/, filling zero labels\n",
      "No matching prediction file for frame 409 in voxelling_output/submission_files/vid_1_gt/, filling zero labels\n"
     ]
    },
    {
     "name": "stdout",
     "output_type": "stream",
     "text": [
      "No matching prediction file for frame 410 in voxelling_output/submission_files/vid_1_gt/, filling zero labels\n",
      "No matching prediction file for frame 411 in voxelling_output/submission_files/vid_1_gt/, filling zero labels\n",
      "No matching prediction file for frame 412 in voxelling_output/submission_files/vid_1_gt/, filling zero labels\n",
      "No matching prediction file for frame 413 in voxelling_output/submission_files/vid_1_gt/, filling zero labels\n",
      "No matching prediction file for frame 414 in voxelling_output/submission_files/vid_1_gt/, filling zero labels\n",
      "No matching prediction file for frame 415 in voxelling_output/submission_files/vid_1_gt/, filling zero labels\n",
      "No matching prediction file for frame 416 in voxelling_output/submission_files/vid_1_gt/, filling zero labels\n",
      "No matching prediction file for frame 417 in voxelling_output/submission_files/vid_1_gt/, filling zero labels\n",
      "No matching prediction file for frame 418 in voxelling_output/submission_files/vid_1_gt/, filling zero labels\n"
     ]
    }
   ],
   "source": [
    "tps, fns, fps = evaluate_folder(\"voxelling_output/submission_files/vid_1_gt/\", \"voxelling_output/submission_files/vid_1_pred_lee/\")"
   ]
  },
  {
   "cell_type": "code",
   "execution_count": 49,
   "metadata": {},
   "outputs": [
    {
     "data": {
      "text/plain": [
       "0.2155122721447459"
      ]
     },
     "execution_count": 49,
     "metadata": {},
     "output_type": "execute_result"
    }
   ],
   "source": [
    "iou = tps / (tps+fns+fps)\n",
    "iou"
   ]
  },
  {
   "cell_type": "code",
   "execution_count": null,
   "metadata": {},
   "outputs": [],
   "source": []
  },
  {
   "cell_type": "code",
   "execution_count": null,
   "metadata": {},
   "outputs": [],
   "source": []
  }
 ],
 "metadata": {
  "kernelspec": {
   "display_name": "DataHack",
   "language": "python",
   "name": "datahack"
  },
  "language_info": {
   "codemirror_mode": {
    "name": "ipython",
    "version": 3
   },
   "file_extension": ".py",
   "mimetype": "text/x-python",
   "name": "python",
   "nbconvert_exporter": "python",
   "pygments_lexer": "ipython3",
   "version": "3.6.4"
  }
 },
 "nbformat": 4,
 "nbformat_minor": 2
}
