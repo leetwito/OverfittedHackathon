{
 "cells": [
  {
   "cell_type": "code",
   "execution_count": 109,
   "metadata": {},
   "outputs": [],
   "source": [
    "import pandas as pd\n",
    "from visualizations.vis import pcshow\n",
    "import os.path as osp\n",
    "import numpy as np\n",
    "\n",
    "import time\n",
    "%matplotlib inline"
   ]
  },
  {
   "cell_type": "code",
   "execution_count": 110,
   "metadata": {},
   "outputs": [],
   "source": [
    "# idx = 185\n",
    "# filename = '0'*(7-len(str(idx)))+str(idx)+\"_labels.csv\"\n",
    "# filename"
   ]
  },
  {
   "cell_type": "code",
   "execution_count": 132,
   "metadata": {},
   "outputs": [],
   "source": [
    "filename = \"0000900\"\n",
    "pcw = pd.read_csv(\"voxelling_output/submission_files/checks/%s_pointcloud.csv\"%filename, header=None)/100\n",
    "pred = pd.read_csv(\"voxelling_output/submission_files/checks/%s_labels.csv\"%filename, header=None)\n",
    "# # gt = pd.read_csv(\"voxelling_output/submission_files/vid_1_gt/\"+filename, header=None)"
   ]
  },
  {
   "cell_type": "code",
   "execution_count": 133,
   "metadata": {},
   "outputs": [],
   "source": [
    "# labeled_pc\n",
    "pcw[\"gt\"] = pred.values\n",
    "pcw = pcw.values"
   ]
  },
  {
   "cell_type": "code",
   "execution_count": 134,
   "metadata": {},
   "outputs": [],
   "source": [
    "mask = np.zeros(pcw.shape[0]).astype(int)\n",
    "# mask[(pred==1.).values.T[0] & (pred==gt).values.T[0]] = 1       # tp - purple\n",
    "# mask[(pred==1.).values.T[0] & (pred!=gt).values.T[0]] = 2       # fp - orange\n",
    "# mask[(pred==0.).values.T[0] & (pred!=gt).values.T[0]] = 3       # fn - green\n",
    "mask[(pred==1.).values.T[0]] = 3      # tp - purple"
   ]
  },
  {
   "cell_type": "code",
   "execution_count": 135,
   "metadata": {},
   "outputs": [
    {
     "data": {
      "text/plain": [
       "<visualizations.vis.PointCloudFrameViewer at 0x27018cd2a58>"
      ]
     },
     "execution_count": 135,
     "metadata": {},
     "output_type": "execute_result"
    }
   ],
   "source": [
    "pcshow(pcw, max_points=80000, point_cloud_coloring=mask)"
   ]
  },
  {
   "cell_type": "code",
   "execution_count": 79,
   "metadata": {},
   "outputs": [],
   "source": [
    "df = pd.DataFrame(pcw)"
   ]
  },
  {
   "cell_type": "code",
   "execution_count": 80,
   "metadata": {},
   "outputs": [],
   "source": [
    "df.columns = list('xyzrl')"
   ]
  },
  {
   "cell_type": "code",
   "execution_count": 47,
   "metadata": {},
   "outputs": [],
   "source": [
    "# df[[\"x\", \"z\"]].plot(kind=\"scatter\", x=\"x\", y=\"z\")"
   ]
  },
  {
   "cell_type": "code",
   "execution_count": 148,
   "metadata": {},
   "outputs": [],
   "source": [
    "df[\"z_mod\"] = df.z/df.x#/np.tan(0.2*np.pi/180)"
   ]
  },
  {
   "cell_type": "code",
   "execution_count": 149,
   "metadata": {},
   "outputs": [
    {
     "data": {
      "text/plain": [
       "<matplotlib.axes._subplots.AxesSubplot at 0x1748ec37b38>"
      ]
     },
     "execution_count": 149,
     "metadata": {},
     "output_type": "execute_result"
    },
    {
     "data": {
      "image/png": "[encoded data removed]",
      "text/plain": [
       "<Figure size 432x288 with 1 Axes>"
      ]
     },
     "metadata": {},
     "output_type": "display_data"
    }
   ],
   "source": [
    "df.plot(kind=\"scatter\", x=\"x\", y=\"y\")"
   ]
  },
  {
   "cell_type": "code",
   "execution_count": null,
   "metadata": {},
   "outputs": [],
   "source": []
  }
 ],
 "metadata": {
  "kernelspec": {
   "display_name": "DataHack",
   "language": "python",
   "name": "datahack"
  },
  "language_info": {
   "codemirror_mode": {
    "name": "ipython",
    "version": 3
   },
   "file_extension": ".py",
   "mimetype": "text/x-python",
   "name": "python",
   "nbconvert_exporter": "python",
   "pygments_lexer": "ipython3",
   "version": "3.6.4"
  }
 },
 "nbformat": 4,
 "nbformat_minor": 2
}
