{
 "cells": [
  {
   "cell_type": "code",
   "execution_count": 99,
   "metadata": {},
   "outputs": [],
   "source": [
    "import pandas as pd\n",
    "from visualizations.vis import pcshow\n",
    "import os.path as osp\n",
    "import numpy as np\n",
    "\n",
    "import time\n",
    "%matplotlib inline"
   ]
  },
  {
   "cell_type": "code",
   "execution_count": 100,
   "metadata": {},
   "outputs": [
    {
     "data": {
      "text/plain": [
       "'0000100_labels.csv'"
      ]
     },
     "execution_count": 100,
     "metadata": {},
     "output_type": "execute_result"
    }
   ],
   "source": [
    "idx = 100\n",
    "filename = '0'*(7-len(str(idx)))+str(idx)+\"_labels.csv\"\n",
    "filename"
   ]
  },
  {
   "cell_type": "code",
   "execution_count": 101,
   "metadata": {},
   "outputs": [],
   "source": [
    "pcw = pd.read_csv(\"E:/Datasets/DataHack/World2/Train/vid_1/\"+filename.replace(\"labels\", \"pointcloud\"), header=None)/100\n",
    "pred = pd.read_csv(\"voxelling_output/submission_files/vid_1_pred/\"+filename, header=None)\n",
    "gt = pd.read_csv(\"voxelling_output/submission_files/vid_1_gt/\"+filename, header=None)"
   ]
  },
  {
   "cell_type": "code",
   "execution_count": 102,
   "metadata": {},
   "outputs": [],
   "source": [
    "# labeled_pc\n",
    "pcw[\"gt\"] = gt.values\n",
    "pcw = pcw.values"
   ]
  },
  {
   "cell_type": "code",
   "execution_count": 103,
   "metadata": {},
   "outputs": [],
   "source": [
    "mask = np.zeros(pcw.shape[0]).astype(int)\n",
    "mask[(pred==1.).values.T[0] & (pred==gt).values.T[0]] = 1       # tp - purple\n",
    "mask[(pred==1.).values.T[0] & (pred!=gt).values.T[0]] = 2       # fp - orange\n",
    "mask[(pred==0.).values.T[0] & (pred!=gt).values.T[0]] = 3       # fn - green"
   ]
  },
  {
   "cell_type": "code",
   "execution_count": 104,
   "metadata": {},
   "outputs": [
    {
     "data": {
      "text/plain": [
       "<visualizations.vis.PointCloudFrameViewer at 0x18c598e0940>"
      ]
     },
     "execution_count": 104,
     "metadata": {},
     "output_type": "execute_result"
    }
   ],
   "source": [
    "pcshow(pcw, max_points=80000, point_cloud_coloring=mask)"
   ]
  },
  {
   "cell_type": "code",
   "execution_count": 98,
   "metadata": {},
   "outputs": [],
   "source": [
    "df = pd.DataFrame(pcw)"
   ]
  },
  {
   "cell_type": "code",
   "execution_count": 84,
   "metadata": {},
   "outputs": [],
   "source": [
    "df.columns = list('xyzrl')"
   ]
  },
  {
   "cell_type": "code",
   "execution_count": 26,
   "metadata": {},
   "outputs": [],
   "source": [
    "# df[[\"x\", \"z\"]].plot(kind=\"scatter\", x=\"x\", y=\"z\")"
   ]
  },
  {
   "cell_type": "code",
   "execution_count": null,
   "metadata": {},
   "outputs": [],
   "source": [
    "df[\"z_mod\"] = df.z/df.x#/np.tan(0.2*np.pi/180)"
   ]
  },
  {
   "cell_type": "code",
   "execution_count": null,
   "metadata": {},
   "outputs": [],
   "source": [
    "df.plot(kind=\"scatter\", x=\"x\", y=\"z_mod\")"
   ]
  },
  {
   "cell_type": "code",
   "execution_count": null,
   "metadata": {},
   "outputs": [],
   "source": []
  }
 ],
 "metadata": {
  "kernelspec": {
   "display_name": "datahack",
   "language": "python",
   "name": "datahack"
  },
  "language_info": {
   "codemirror_mode": {
    "name": "ipython",
    "version": 3
   },
   "file_extension": ".py",
   "mimetype": "text/x-python",
   "name": "python",
   "nbconvert_exporter": "python",
   "pygments_lexer": "ipython3",
   "version": "3.6.6"
  }
 },
 "nbformat": 4,
 "nbformat_minor": 2
}
