{
 "cells": [
  {
   "cell_type": "code",
   "execution_count": 1,
   "metadata": {},
   "outputs": [],
   "source": [
    "import pandas as pd\n",
    "import numpy as np\n",
    "import os\n",
    "from time import time\n",
    "from tqdm import tqdm\n",
    "\n",
    "from utilities.math_utils import RotationTranslationData\n",
    "from utilities import data_utils\n",
    "import os\n",
    "from tqdm import tqdm\n",
    "import numpy as np\n",
    "import pandas as pd\n",
    "\n",
    "from glob import glob"
   ]
  },
  {
   "cell_type": "code",
   "execution_count": 2,
   "metadata": {},
   "outputs": [],
   "source": [
    "def pc_to_grid(df, voxel_size, dest_dir, dest_name):\n",
    "    # df_frame points are in world coordinate system\n",
    "    # dest_name may be frame number\n",
    "    start_time = time()\n",
    "#     df = pd.read_csv(csv_path, header=None)\n",
    "\n",
    "    df_xyz = df.iloc[:,:3]\n",
    "    ref_ser = df.iloc[:, 3]\n",
    "    df_grid = df_xyz//voxel_size\n",
    "    df_grid[3] = ref_ser\n",
    "    df_grid.columns=list(\"xyzr\")\n",
    "    df_voxel = df_grid.groupby(['x','y','z']).apply(lambda x: x.iloc[:, 3].mean()).to_frame()\n",
    "    df_voxel.reset_index(drop=False, inplace=True)\n",
    "    df_voxel.iloc[:, :3] = df_voxel.iloc[:, :3]*voxel_size + voxel_size//2\n",
    "    df_voxel= df_voxel.astype(np.int)\n",
    "    base_name = os.path.join(dest_dir, dest_name)\n",
    "    df_voxel.to_csv(base_name + '_pointcloud.csv', header=None, index=False)\n",
    "    pd.DataFrame([0]*df_voxel.shape[0]).to_csv(base_name+'_labels.csv', header=None, index=False)\n",
    "    pd.DataFrame([0.]*6).T.to_csv(base_name+'_egomotion.csv', header=None, index=False)\n",
    "    print('single file runtime: {}'.format(time()-start_time))"
   ]
  },
  {
   "cell_type": "code",
   "execution_count": 3,
   "metadata": {},
   "outputs": [],
   "source": [
    "world_dir = \"E:/Datasets/DataHack/World/Train/vid_1/\""
   ]
  },
  {
   "cell_type": "code",
   "execution_count": 4,
   "metadata": {},
   "outputs": [],
   "source": [
    "scene_frames = glob(world_dir+\"/*point*\")[:10] + glob(world_dir+\"/*point*\")[20:30]\n",
    "cur_frame = glob(world_dir+\"/*point*\")[15]"
   ]
  },
  {
   "cell_type": "code",
   "execution_count": 5,
   "metadata": {},
   "outputs": [],
   "source": [
    "s_pcs = []\n",
    "for f in scene_frames:\n",
    "    s_pcs.append(pd.read_csv(f, header=None))\n",
    "df_scene_pcs = pd.concat(s_pcs, axis=0)"
   ]
  },
  {
   "cell_type": "code",
   "execution_count": 6,
   "metadata": {},
   "outputs": [
    {
     "name": "stdout",
     "output_type": "stream",
     "text": [
      "single file runtime: 3.6322646141052246\n",
      "Wall time: 3.64 s\n"
     ]
    }
   ],
   "source": [
    "%%time\n",
    "try:\n",
    "    os.mkdir(\"tmp/\")\n",
    "except:\n",
    "    pass\n",
    "pc_to_grid(df_scene_pcs, 20, \"tmp\", \"0000000\")"
   ]
  },
  {
   "cell_type": "code",
   "execution_count": 7,
   "metadata": {},
   "outputs": [
    {
     "name": "stdout",
     "output_type": "stream",
     "text": [
      "single file runtime: 1.8061716556549072\n",
      "Wall time: 1.83 s\n"
     ]
    }
   ],
   "source": [
    "%%time\n",
    "df_cur_pc = pd.read_csv(cur_frame, header=None)\n",
    "pc_to_grid(df_cur_pc, 20, \"tmp\", \"0000001\")"
   ]
  },
  {
   "cell_type": "code",
   "execution_count": 8,
   "metadata": {},
   "outputs": [],
   "source": [
    "w = pd.read_csv(\"tmp/0000000_pointcloud.csv\", header=None)\n",
    "c = pd.read_csv(\"tmp/0000001_pointcloud.csv\", header=None)"
   ]
  },
  {
   "cell_type": "code",
   "execution_count": 9,
   "metadata": {},
   "outputs": [],
   "source": [
    "w['voxel_id'] = w.apply(lambda x: hash((x[0], x[1], x[2])), axis=1)\n",
    "c['voxel_id'] = c.apply(lambda x: hash((x[0], x[1], x[2])), axis=1)"
   ]
  },
  {
   "cell_type": "code",
   "execution_count": 10,
   "metadata": {},
   "outputs": [],
   "source": [
    "c_out = c[~c.voxel_id.isin(w.voxel_id)]"
   ]
  },
  {
   "cell_type": "code",
   "execution_count": 11,
   "metadata": {},
   "outputs": [
    {
     "data": {
      "text/plain": [
       "((11326, 5), (165, 5))"
      ]
     },
     "execution_count": 11,
     "metadata": {},
     "output_type": "execute_result"
    }
   ],
   "source": [
    "c.shape, c_out.shape"
   ]
  },
  {
   "cell_type": "code",
   "execution_count": 12,
   "metadata": {},
   "outputs": [
    {
     "data": {
      "text/html": [
       "<div>\n",
       "<style scoped>\n",
       "    .dataframe tbody tr th:only-of-type {\n",
       "        vertical-align: middle;\n",
       "    }\n",
       "\n",
       "    .dataframe tbody tr th {\n",
       "        vertical-align: top;\n",
       "    }\n",
       "\n",
       "    .dataframe thead th {\n",
       "        text-align: right;\n",
       "    }\n",
       "</style>\n",
       "<table border=\"1\" class=\"dataframe\">\n",
       "  <thead>\n",
       "    <tr style=\"text-align: right;\">\n",
       "      <th></th>\n",
       "      <th>0</th>\n",
       "      <th>1</th>\n",
       "      <th>2</th>\n",
       "      <th>3</th>\n",
       "    </tr>\n",
       "  </thead>\n",
       "  <tbody>\n",
       "    <tr>\n",
       "      <th>0</th>\n",
       "      <td>-9470</td>\n",
       "      <td>-1770</td>\n",
       "      <td>-170</td>\n",
       "      <td>2</td>\n",
       "    </tr>\n",
       "    <tr>\n",
       "      <th>149</th>\n",
       "      <td>-8570</td>\n",
       "      <td>-490</td>\n",
       "      <td>-110</td>\n",
       "      <td>9</td>\n",
       "    </tr>\n",
       "    <tr>\n",
       "      <th>150</th>\n",
       "      <td>-8570</td>\n",
       "      <td>90</td>\n",
       "      <td>-110</td>\n",
       "      <td>10</td>\n",
       "    </tr>\n",
       "    <tr>\n",
       "      <th>153</th>\n",
       "      <td>-8250</td>\n",
       "      <td>-910</td>\n",
       "      <td>30</td>\n",
       "      <td>3</td>\n",
       "    </tr>\n",
       "    <tr>\n",
       "      <th>154</th>\n",
       "      <td>-8230</td>\n",
       "      <td>290</td>\n",
       "      <td>30</td>\n",
       "      <td>1</td>\n",
       "    </tr>\n",
       "  </tbody>\n",
       "</table>\n",
       "</div>"
      ],
      "text/plain": [
       "        0     1    2   3\n",
       "0   -9470 -1770 -170   2\n",
       "149 -8570  -490 -110   9\n",
       "150 -8570    90 -110  10\n",
       "153 -8250  -910   30   3\n",
       "154 -8230   290   30   1"
      ]
     },
     "execution_count": 12,
     "metadata": {},
     "output_type": "execute_result"
    }
   ],
   "source": [
    "c_out = c_out.iloc[:, :4]\n",
    "c_out.head()"
   ]
  },
  {
   "cell_type": "code",
   "execution_count": 16,
   "metadata": {},
   "outputs": [
    {
     "name": "stdout",
     "output_type": "stream",
     "text": [
      "single file runtime: 0.05385589599609375\n"
     ]
    }
   ],
   "source": [
    "try:\n",
    "    os.mkdir(\"tmp_out/\")\n",
    "except:\n",
    "    pass\n",
    "pc_to_grid(c_out, 20, \"tmp_out\", \"0000002\")"
   ]
  },
  {
   "cell_type": "code",
   "execution_count": null,
   "metadata": {},
   "outputs": [],
   "source": []
  }
 ],
 "metadata": {
  "kernelspec": {
   "display_name": "datahack",
   "language": "python",
   "name": "datahack"
  },
  "language_info": {
   "codemirror_mode": {
    "name": "ipython",
    "version": 3
   },
   "file_extension": ".py",
   "mimetype": "text/x-python",
   "name": "python",
   "nbconvert_exporter": "python",
   "pygments_lexer": "ipython3",
   "version": "3.6.6"
  }
 },
 "nbformat": 4,
 "nbformat_minor": 2
}
