{
 "cells": [
  {
   "cell_type": "code",
   "execution_count": 1,
   "metadata": {},
   "outputs": [],
   "source": [
    "import pandas as pd\n",
    "import numpy as np\n",
    "import os\n",
    "from time import time\n",
    "from tqdm import tqdm\n",
    "from utilities.math_utils import RotationTranslationData\n",
    "from utilities import data_utils\n",
    "from glob import glob\n",
    "import pickle\n",
    "\n",
    "from time import time\n",
    "%matplotlib inline"
   ]
  },
  {
   "cell_type": "code",
   "execution_count": 2,
   "metadata": {},
   "outputs": [],
   "source": [
    "def add_grid_and_hash(df, voxel_size):\n",
    "    \"\"\" \n",
    "    add grid and hash to each point of a given point cloud\n",
    "    \"\"\"\n",
    "    df_grid = df.iloc[:,:3]//voxel_size\n",
    "    df_grid.iloc[:, :3] = df_grid.iloc[:, :3]*voxel_size + voxel_size//2\n",
    "    df_grid['voxel_id'] = df_grid.apply(lambda x: hash((x[0], x[1], x[2])), axis=1)\n",
    "    df_grid = pd.concat([df, df_grid], axis=1)\n",
    "    df_grid.columns = ['x', 'y', 'z', 'r', 'x_grid', 'y_grid', 'z_grid', 'voxel_id']\n",
    "    return df_grid"
   ]
  },
  {
   "cell_type": "markdown",
   "metadata": {},
   "source": [
    "-----------------------------"
   ]
  },
  {
   "cell_type": "code",
   "execution_count": 3,
   "metadata": {},
   "outputs": [],
   "source": [
    "base_dir = \"voxelling_output/World2/Train/vid_1/\"\n",
    "pickles_path = \"voxelling_output/\"\n",
    "orig_files_path = \"voxelling_output/Original_Frames/vid_1/\"\n",
    "n_frames_per_side=50\n",
    "shift=20\n",
    "voxel_size=20"
   ]
  },
  {
   "cell_type": "code",
   "execution_count": 4,
   "metadata": {},
   "outputs": [],
   "source": [
    "all_files = glob(base_dir+\"/*point*\")"
   ]
  },
  {
   "cell_type": "code",
   "execution_count": 5,
   "metadata": {},
   "outputs": [],
   "source": [
    "vid = base_dir.split(\"/\")[-2]"
   ]
  },
  {
   "cell_type": "code",
   "execution_count": 6,
   "metadata": {},
   "outputs": [],
   "source": [
    "def create_list_dfs_voxel_scene(base_dir, voxel_size, upto=None):\n",
    "    global all_files\n",
    "    list_df_voxel_scene = []\n",
    "#     all_files = glob(base_dir+\"/*point*\")\n",
    "    if upto is not None:\n",
    "        all_files = all_files[:upto]\n",
    "    \n",
    "    for f in tqdm(all_files):\n",
    "        list_df_voxel_scene.append( add_grid_and_hash(pd.read_csv(f, header=None), voxel_size))\n",
    "    list_df_voxel_scene = pd.Series(list_df_voxel_scene).values\n",
    "    return list_df_voxel_scene"
   ]
  },
  {
   "cell_type": "code",
   "execution_count": 7,
   "metadata": {},
   "outputs": [],
   "source": [
    "list_df_file = pickles_path+\"list_df_voxel_scene__%s__voxel_size_%d.p\"%(vid, voxel_size)\n",
    "\n",
    "if os.path.exists(list_df_file):\n",
    "    list_df_voxel_scene = pickle.load(open(list_df_file, \"rb\"))\n",
    "else:\n",
    "    list_df_voxel_scene = create_list_dfs_voxel_scene(base_dir, voxel_size, upto=None)\n",
    "    pickle.dump(list_df_voxel_scene, open(pickles_path+\"list_df_voxel_scene__%s__voxel_size_%d.p\"%(vid, voxel_size), \"wb\"))"
   ]
  },
  {
   "cell_type": "markdown",
   "metadata": {},
   "source": [
    "----------------------"
   ]
  },
  {
   "cell_type": "code",
   "execution_count": 8,
   "metadata": {},
   "outputs": [],
   "source": [
    "def get_list_idx_for_frame(frame_idx, n_frames_per_side, shift):\n",
    "    list_idx = np.array(list(np.arange(frame_idx-shift-n_frames_per_side,frame_idx-shift)) + list(np.arange(frame_idx+shift+1,frame_idx+shift+n_frames_per_side+1)))\n",
    "    return list_idx"
   ]
  },
  {
   "cell_type": "code",
   "execution_count": 9,
   "metadata": {},
   "outputs": [],
   "source": [
    "def create_scene_voxel_df(list_df_voxel_scene, list_idx, frac_to_drop=0.5):\n",
    "    list_df_voxel_scene_for_frame = list_df_voxel_scene[list_idx]\n",
    "    df_scene = pd.concat(list_df_voxel_scene_for_frame)#.drop_duplicates(\"voxel_id\")\n",
    "#     df_scene.groupby([\"x_grid\", \"y_grid\", \"z_grid\"]).value_counts()\n",
    "    dfff = df_scene.groupby([\"x_grid\", \"y_grid\", \"z_grid\"]).apply(len).reset_index(drop=False)\n",
    "\n",
    "    dfff = dfff[dfff[0]>frac_to_drop*len(list_idx)]\n",
    "    dfff[\"v_index\"] = dfff.iloc[:, :3].apply(lambda x: hash((x.iloc[0], x.iloc[1], x.iloc[2])), axis=1)\n",
    "#     print(df_scene.shape)\n",
    "    df_scene.drop_duplicates([\"x_grid\", \"y_grid\", \"z_grid\"], inplace=True)\n",
    "#     print(df_scene.shape)\n",
    "    df_scene = df_scene[df_scene.voxel_id.isin(dfff.v_index)]\n",
    "#     print(df_scene.shape)\n",
    "    \n",
    "    return df_scene"
   ]
  },
  {
   "cell_type": "code",
   "execution_count": 10,
   "metadata": {},
   "outputs": [],
   "source": [
    "def get_df_voxel_subtracted_frame(list_df_voxel_scene, frame_idx, n_frames_per_side, shift):\n",
    "    \n",
    "    list_idx_uf = get_list_idx_for_frame(frame_idx, n_frames_per_side, shift)\n",
    "    list_idx = [i for i in list_idx_uf if i>=0 and i<=list_df_voxel_scene.shape[0]]\n",
    "#     print ('--get_df_voxel_sub--\\nlist idx_uf: {}\\nlist_idx   :{}\\n-------'.format(list_idx_uf, list_idx))\n",
    "    df_voxel_scene = create_scene_voxel_df(list_df_voxel_scene, list_idx)\n",
    "    df_voxel_frame = create_scene_voxel_df(list_df_voxel_scene, [frame_idx])\n",
    "\n",
    "    df_subtracted_frame = df_voxel_frame[~df_voxel_frame.voxel_id.isin(df_voxel_scene.voxel_id)]\n",
    "    return df_subtracted_frame"
   ]
  },
  {
   "cell_type": "code",
   "execution_count": 11,
   "metadata": {},
   "outputs": [],
   "source": [
    "def point_to_voxel(ser, voxel_size):\n",
    "    # ser: [x, y, z, r]\n",
    "    ser_out = ser.iloc[:3]//voxel_size\n",
    "    ser_out = ser_out*voxel_size + voxel_size//2\n",
    "    voxel_id = hash((ser_out[0], ser_out[1], ser_out[2]))\n",
    "    \n",
    "#     return pd.Series(ser_out.tolist()+[voxel_id])\n",
    "    return voxel_id"
   ]
  },
  {
   "cell_type": "code",
   "execution_count": 12,
   "metadata": {},
   "outputs": [],
   "source": [
    "def save_frame_for_movie(frame, folder, all_files, frame_idx):\n",
    "    if not os.path.exists(folder):\n",
    "        os.mkdir(folder)\n",
    "    filename = os.path.basename(all_files[frame_idx])\n",
    "    frame.to_csv(folder + filename, header=None, index=False)\n",
    "    labels_filename = filename.replace('pointcloud', 'labels')\n",
    "    pd.DataFrame([0]*frame.shape[0]).to_csv(folder + labels_filename, header=None, index=False)\n",
    "\n",
    "    egomotion_filename = filename.replace('pointcloud', 'egomotion')\n",
    "    pd.DataFrame([0.]*6).T.to_csv(folder + egomotion_filename, header=None, index=False)\n",
    "    print('frame {} saved successfuly'.format(frame_idx))"
   ]
  },
  {
   "cell_type": "code",
   "execution_count": 13,
   "metadata": {},
   "outputs": [],
   "source": [
    "# frame_idx=15\n",
    "# todo: add skips"
   ]
  },
  {
   "cell_type": "code",
   "execution_count": 14,
   "metadata": {},
   "outputs": [],
   "source": [
    "# list_idx = get_list_idx_for_frame(frame_idx, n_frames_per_side, shift)\n",
    "# list_idx"
   ]
  },
  {
   "cell_type": "code",
   "execution_count": 15,
   "metadata": {},
   "outputs": [],
   "source": [
    "# df_subtracted_frame = get_df_voxel_subtracted_frame(list_df_voxel_scene, frame_idx, n_frames_per_side, shift)"
   ]
  },
  {
   "cell_type": "code",
   "execution_count": 16,
   "metadata": {},
   "outputs": [],
   "source": [
    "# df_subtracted_frame.head()"
   ]
  },
  {
   "cell_type": "code",
   "execution_count": 17,
   "metadata": {},
   "outputs": [],
   "source": [
    "# df_frame_orig = pd.read_csv(all_files[frame_idx], header=None)"
   ]
  },
  {
   "cell_type": "code",
   "execution_count": 18,
   "metadata": {},
   "outputs": [],
   "source": [
    "# %%time\n",
    "# df_frame_orig[\"voxel_id\"] =  df_frame_orig.apply(lambda x: point_to_voxel(x, voxel_size), axis=1)"
   ]
  },
  {
   "cell_type": "code",
   "execution_count": 19,
   "metadata": {},
   "outputs": [],
   "source": [
    "# df_frame_orig.head()"
   ]
  },
  {
   "cell_type": "code",
   "execution_count": 20,
   "metadata": {},
   "outputs": [],
   "source": [
    "# df_labels = df_frame_orig.voxel_id.isin(df_subtracted_frame.voxel_id)\n",
    "# df_labels.sum()"
   ]
  },
  {
   "cell_type": "code",
   "execution_count": 21,
   "metadata": {},
   "outputs": [],
   "source": [
    "# df_frame_orig_subtracted = df_frame_orig[df_labels]\n",
    "# df_labels = df_labels.astype(int)"
   ]
  },
  {
   "cell_type": "code",
   "execution_count": 22,
   "metadata": {},
   "outputs": [],
   "source": [
    "# df_frame_orig_subtracted.shape"
   ]
  },
  {
   "cell_type": "code",
   "execution_count": 23,
   "metadata": {},
   "outputs": [],
   "source": [
    "# df_frame_orig_subtracted = df_frame_orig_subtracted.iloc[:4]"
   ]
  },
  {
   "cell_type": "code",
   "execution_count": 24,
   "metadata": {},
   "outputs": [],
   "source": [
    "# # \n",
    "# save_frame_for_movie(df_frame_orig_subtracted, \"tmp_only_labeled/\", all_files, frame_idx)"
   ]
  },
  {
   "cell_type": "code",
   "execution_count": 25,
   "metadata": {},
   "outputs": [],
   "source": [
    "def remove_distant_lines(frame_idx, df_labels, orig_files_path):\n",
    "    filename = (7-len(str(frame_idx)))*\"0\"+str(frame_idx)+\"_pointcloud.csv\"\n",
    "    dff = pd.read_csv(orig_files_path+filename, header=None)\n",
    "    dff.columns = list(\"xyzr\")\n",
    "    dff[\"l\"] = df_labels.tolist()\n",
    "    dff = dff[dff.l==1]\n",
    "#     print(dff.shape)\n",
    "#     dff.head() \n",
    "\n",
    "#     dff = dff[dff.x>dff.x.min()+(dff.x.max()-dff.x.min())*0.2]\n",
    "#     print(dff.shape)\n",
    "#     dff.head()\n",
    "    \n",
    "    dff = dff[dff.z<dff.z.min()+(dff.z.max()-dff.z.min())*0.3]\n",
    "#     print(dff.shape)\n",
    "#     dff.head()\n",
    "\n",
    "    dff = dff[(dff[\"r\"]>5)&(dff[\"r\"]<15)]\n",
    "#     print(dff.shape)\n",
    "#     dff.head()\n",
    "\n",
    "    df_labels.loc[dff.index] = False\n",
    "    return df_labels"
   ]
  },
  {
   "cell_type": "code",
   "execution_count": 26,
   "metadata": {},
   "outputs": [],
   "source": [
    "def remove_distant_points(frame_idx, df_labels, orig_files_path):\n",
    "    filename = (7-len(str(frame_idx)))*\"0\"+str(frame_idx)+\"_pointcloud.csv\"\n",
    "    dff = pd.read_csv(orig_files_path+filename, header=None)\n",
    "    dff.columns = list(\"xyzr\")\n",
    "    dff[\"l\"] = df_labels.tolist()\n",
    "    dff = dff[dff.l==1]\n",
    "#     print(dff.shape)\n",
    "#     dff.head() \n",
    "#     print(dff.describe())\n",
    "    dff = dff[dff[\"x\"]>5500]\n",
    "#     print(dff.describe())\n",
    "#     rr = np.sqrt(dff.x**2+dff.y**2)\n",
    "#     dff = dff[rr<10]\n",
    "#     print(dff.shape)\n",
    "#     dff.head()\n",
    "    \n",
    "#     dff = dff[dff.z<dff.z.min()+(dff.z.max()-dff.z.min())*0.3]\n",
    "#     print(dff.shape)\n",
    "#     dff.head()\n",
    "\n",
    "#     dff = dff[(dff[\"r\"]>5)&(dff[\"r\"]<15)]\n",
    "#     print(dff.shape)\n",
    "#     dff.head()\n",
    "\n",
    "    df_labels.loc[dff.index] = False\n",
    "    return df_labels"
   ]
  },
  {
   "cell_type": "code",
   "execution_count": 27,
   "metadata": {},
   "outputs": [],
   "source": [
    "def remove_high_theta_points(frame_idx, df_labels, orig_files_path):\n",
    "    filename = (7-len(str(frame_idx)))*\"0\"+str(frame_idx)+\"_pointcloud.csv\"\n",
    "    dff = pd.read_csv(orig_files_path+filename, header=None)\n",
    "    dff.columns = list(\"xyzr\")\n",
    "    dff[\"l\"] = df_labels.tolist()\n",
    "    dff = dff[dff.l==1]\n",
    "#     print(dff.shape)\n",
    "#     dff.head() \n",
    "\n",
    "    theta = np.abs(np.arctan(dff.y/dff.x))\n",
    "    dff = dff[theta>0.9*theta.max()]\n",
    "    dff = dff[dff.x>300]\n",
    "#     print(dff.shape)\n",
    "#     dff.head()\n",
    "    \n",
    "#     dff = dff[dff.z<dff.z.min()+(dff.z.max()-dff.z.min())*0.3]\n",
    "#     print(dff.shape)\n",
    "#     dff.head()\n",
    "\n",
    "#     dff = dff[(dff[\"r\"]>5)&(dff[\"r\"]<15)]\n",
    "#     print(dff.shape)\n",
    "#     dff.head()\n",
    "\n",
    "    df_labels.loc[dff.index] = False\n",
    "    return df_labels"
   ]
  },
  {
   "cell_type": "code",
   "execution_count": 28,
   "metadata": {},
   "outputs": [],
   "source": [
    "def remove_close_lines(frame_idx, df_labels, orig_files_path):\n",
    "    filename = (7-len(str(frame_idx)))*\"0\"+str(frame_idx)+\"_pointcloud.csv\"\n",
    "    dff = pd.read_csv(orig_files_path+filename, header=None)\n",
    "    dff.columns = list(\"xyzr\")\n",
    "    dff[\"l\"] = df_labels.tolist()\n",
    "    dff = dff[dff.l==1]\n",
    "#     print(dff.shape)\n",
    "#     dff.head() \n",
    "\n",
    "    dff = dff[dff.x<dff.x.min()+(dff.x.max()-dff.x.min())*0.1]\n",
    "#     print(dff.shape)\n",
    "#     dff.head()\n",
    "    \n",
    "    dff = dff[dff.z<dff.z.min()+(dff.z.max()-dff.z.min())*0.01]\n",
    "#     print(dff.shape)\n",
    "#     dff.head()\n",
    "\n",
    "#     dff = dff[(dff[\"r\"]>5)&(dff[\"r\"]<15)]\n",
    "# #     print(dff.shape)\n",
    "# #     dff.head()\n",
    "\n",
    "    df_labels.loc[dff.index] = False\n",
    "    return df_labels"
   ]
  },
  {
   "cell_type": "code",
   "execution_count": 29,
   "metadata": {},
   "outputs": [],
   "source": [
    "def remove_high_points(frame_idx, df_labels, orig_files_path):\n",
    "    filename = (7-len(str(frame_idx)))*\"0\"+str(frame_idx)+\"_pointcloud.csv\"\n",
    "    dff = pd.read_csv(orig_files_path+filename, header=None)\n",
    "    dff.columns = list(\"xyzr\")\n",
    "    dff[\"l\"] = df_labels.tolist()\n",
    "    dff = dff[dff.l==1]\n",
    "#     print(dff.shape)\n",
    "#     dff.head() \n",
    "\n",
    "#     dff = dff[dff.x<dff.x.min()+(dff.x.max()-dff.x.min())*0.15]\n",
    "#     print(dff.shape)\n",
    "#     dff.head()\n",
    "    \n",
    "    dff = dff[dff.z>400]\n",
    "    print(dff.shape)\n",
    "    dff.head()\n",
    "\n",
    "#     dff = dff[(dff[\"r\"]>5)&(dff[\"r\"]<15)]\n",
    "# #     print(dff.shape)\n",
    "# #     dff.head()\n",
    "\n",
    "    df_labels.loc[dff.index] = False\n",
    "    return df_labels"
   ]
  },
  {
   "cell_type": "markdown",
   "metadata": {},
   "source": [
    "---------------------------------"
   ]
  },
  {
   "cell_type": "code",
   "execution_count": 31,
   "metadata": {
    "scrolled": true
   },
   "outputs": [
    {
     "name": "stderr",
     "output_type": "stream",
     "text": [
      "\r",
      "  0%|                                                                                                                                                                          | 0/885 [00:00<?, ?it/s]"
     ]
    },
    {
     "name": "stdout",
     "output_type": "stream",
     "text": [
      "=========================================================================\n",
      "frame_idx = 15\n",
      "=========================================================================\n",
      "0.0 : list_idx = get_list_idx_for_frame(frame_idx, n_frames_per_side, shift)\n",
      "3.9594082832336426 : df_subtracted_frame = get_df_voxel_subtracted_frame(list_df_voxel_scene, frame_idx, n_frames_per_side, shift)\n",
      "1.204780101776123 : df_frame_orig['voxel_id'] =  df_frame_orig.apply(lambda x: point_to_voxel(x, voxel_size), axis=1)\n",
      "0.0009970664978027344 : df_labels = df_frame_orig.voxel_id.isin(df_subtracted_frame.voxel_id)\n",
      "(1800, 5)\n",
      "0.13862824440002441 : df_frame_orig_subtracted = df_frame_orig[df_labels]\n",
      "(3690, 5)\n",
      "file_labels: voxelling_output/submission_files/vid_1_pred_lee/0000015_labels.csv\n",
      "0.09474349021911621 : df_labels.to_csv(pickles_path+\"df_labels__frame_%d__%s__voxel_size_%d.p\"%(frame_idx, vid, voxel_size))\n",
      "3690\n",
      "0.032910823822021484 : save_frame_for_movie(df_frame_orig_subtracted, \"tmp_only_labeled/\", all_files, frame_idx)\n"
     ]
    },
    {
     "name": "stderr",
     "output_type": "stream",
     "text": [
      "\r",
      "  0%|▏                                                                                                                                                               | 1/885 [00:05<1:20:23,  5.46s/it]"
     ]
    },
    {
     "name": "stdout",
     "output_type": "stream",
     "text": [
      "=========================================================================\n",
      "frame_idx = 16\n",
      "=========================================================================\n",
      "0.0009968280792236328 : list_idx = get_list_idx_for_frame(frame_idx, n_frames_per_side, shift)\n",
      "3.719040632247925 : df_subtracted_frame = get_df_voxel_subtracted_frame(list_df_voxel_scene, frame_idx, n_frames_per_side, shift)\n",
      "1.1788465976715088 : df_frame_orig['voxel_id'] =  df_frame_orig.apply(lambda x: point_to_voxel(x, voxel_size), axis=1)\n",
      "0.001995086669921875 : df_labels = df_frame_orig.voxel_id.isin(df_subtracted_frame.voxel_id)\n",
      "(1925, 5)\n",
      "0.1326460838317871 : df_frame_orig_subtracted = df_frame_orig[df_labels]\n",
      "(4161, 5)\n",
      "file_labels: voxelling_output/submission_files/vid_1_pred_lee/0000016_labels.csv\n",
      "0.08776473999023438 : df_labels.to_csv(pickles_path+\"df_labels__frame_%d__%s__voxel_size_%d.p\"%(frame_idx, vid, voxel_size))\n",
      "4161\n",
      "0.038896799087524414 : save_frame_for_movie(df_frame_orig_subtracted, \"tmp_only_labeled/\", all_files, frame_idx)\n"
     ]
    },
    {
     "name": "stderr",
     "output_type": "stream",
     "text": [
      "\r",
      "  0%|▎                                                                                                                                                               | 2/885 [00:10<1:18:17,  5.32s/it]"
     ]
    },
    {
     "name": "stdout",
     "output_type": "stream",
     "text": [
      "=========================================================================\n",
      "frame_idx = 17\n",
      "=========================================================================\n",
      "0.0 : list_idx = get_list_idx_for_frame(frame_idx, n_frames_per_side, shift)\n",
      "3.7829177379608154 : df_subtracted_frame = get_df_voxel_subtracted_frame(list_df_voxel_scene, frame_idx, n_frames_per_side, shift)\n",
      "1.1718666553497314 : df_frame_orig['voxel_id'] =  df_frame_orig.apply(lambda x: point_to_voxel(x, voxel_size), axis=1)\n",
      "0.001995086669921875 : df_labels = df_frame_orig.voxel_id.isin(df_subtracted_frame.voxel_id)\n",
      "(2054, 5)\n",
      "0.16555356979370117 : df_frame_orig_subtracted = df_frame_orig[df_labels]\n",
      "(4755, 5)\n",
      "file_labels: voxelling_output/submission_files/vid_1_pred_lee/0000017_labels.csv\n",
      "0.08375859260559082 : df_labels.to_csv(pickles_path+\"df_labels__frame_%d__%s__voxel_size_%d.p\"%(frame_idx, vid, voxel_size))\n",
      "4755\n",
      "0.04687643051147461 : save_frame_for_movie(df_frame_orig_subtracted, \"tmp_only_labeled/\", all_files, frame_idx)\n"
     ]
    },
    {
     "name": "stderr",
     "output_type": "stream",
     "text": [
      "\r",
      "  0%|▌                                                                                                                                                               | 3/885 [00:15<1:18:00,  5.31s/it]"
     ]
    },
    {
     "name": "stdout",
     "output_type": "stream",
     "text": [
      "=========================================================================\n",
      "frame_idx = 18\n",
      "=========================================================================\n",
      "0.0 : list_idx = get_list_idx_for_frame(frame_idx, n_frames_per_side, shift)\n",
      "3.819817543029785 : df_subtracted_frame = get_df_voxel_subtracted_frame(list_df_voxel_scene, frame_idx, n_frames_per_side, shift)\n",
      "1.2376904487609863 : df_frame_orig['voxel_id'] =  df_frame_orig.apply(lambda x: point_to_voxel(x, voxel_size), axis=1)\n",
      "0.001994609832763672 : df_labels = df_frame_orig.voxel_id.isin(df_subtracted_frame.voxel_id)\n",
      "(2126, 5)\n",
      "0.14461731910705566 : df_frame_orig_subtracted = df_frame_orig[df_labels]\n",
      "(5290, 5)\n",
      "file_labels: voxelling_output/submission_files/vid_1_pred_lee/0000018_labels.csv\n",
      "0.07878875732421875 : df_labels.to_csv(pickles_path+\"df_labels__frame_%d__%s__voxel_size_%d.p\"%(frame_idx, vid, voxel_size))\n",
      "5290\n",
      "0.046874284744262695 : save_frame_for_movie(df_frame_orig_subtracted, \"tmp_only_labeled/\", all_files, frame_idx)\n"
     ]
    },
    {
     "name": "stderr",
     "output_type": "stream",
     "text": [
      "\r",
      "  0%|▋                                                                                                                                                               | 4/885 [00:21<1:18:05,  5.32s/it]"
     ]
    },
    {
     "name": "stdout",
     "output_type": "stream",
     "text": [
      "=========================================================================\n",
      "frame_idx = 19\n",
      "=========================================================================\n",
      "0.0 : list_idx = get_list_idx_for_frame(frame_idx, n_frames_per_side, shift)\n",
      "3.63527512550354 : df_subtracted_frame = get_df_voxel_subtracted_frame(list_df_voxel_scene, frame_idx, n_frames_per_side, shift)\n",
      "1.2127900123596191 : df_frame_orig['voxel_id'] =  df_frame_orig.apply(lambda x: point_to_voxel(x, voxel_size), axis=1)\n",
      "0.0009970664978027344 : df_labels = df_frame_orig.voxel_id.isin(df_subtracted_frame.voxel_id)\n",
      "(2188, 5)\n",
      "0.14860272407531738 : df_frame_orig_subtracted = df_frame_orig[df_labels]\n",
      "(5911, 5)\n",
      "file_labels: voxelling_output/submission_files/vid_1_pred_lee/0000019_labels.csv\n",
      "0.09275150299072266 : df_labels.to_csv(pickles_path+\"df_labels__frame_%d__%s__voxel_size_%d.p\"%(frame_idx, vid, voxel_size))\n",
      "5911\n",
      "0.04990386962890625 : save_frame_for_movie(df_frame_orig_subtracted, \"tmp_only_labeled/\", all_files, frame_idx)\n"
     ]
    },
    {
     "name": "stderr",
     "output_type": "stream",
     "text": [
      "\r",
      "  1%|▉                                                                                                                                                               | 5/885 [00:26<1:17:32,  5.29s/it]"
     ]
    },
    {
     "name": "stdout",
     "output_type": "stream",
     "text": [
      "=========================================================================\n",
      "frame_idx = 20\n",
      "=========================================================================\n",
      "0.000997304916381836 : list_idx = get_list_idx_for_frame(frame_idx, n_frames_per_side, shift)\n",
      "3.7898645401000977 : df_subtracted_frame = get_df_voxel_subtracted_frame(list_df_voxel_scene, frame_idx, n_frames_per_side, shift)\n",
      "1.2686054706573486 : df_frame_orig['voxel_id'] =  df_frame_orig.apply(lambda x: point_to_voxel(x, voxel_size), axis=1)\n",
      "0.0009980201721191406 : df_labels = df_frame_orig.voxel_id.isin(df_subtracted_frame.voxel_id)\n",
      "(2281, 5)\n",
      "0.15657997131347656 : df_frame_orig_subtracted = df_frame_orig[df_labels]\n",
      "(6521, 5)\n",
      "file_labels: voxelling_output/submission_files/vid_1_pred_lee/0000020_labels.csv\n",
      "0.08875203132629395 : df_labels.to_csv(pickles_path+\"df_labels__frame_%d__%s__voxel_size_%d.p\"%(frame_idx, vid, voxel_size))\n",
      "6521\n",
      "0.05485963821411133 : save_frame_for_movie(df_frame_orig_subtracted, \"tmp_only_labeled/\", all_files, frame_idx)\n"
     ]
    },
    {
     "name": "stderr",
     "output_type": "stream",
     "text": [
      "\r",
      "  1%|█                                                                                                                                                               | 6/885 [00:31<1:17:41,  5.30s/it]"
     ]
    },
    {
     "name": "stdout",
     "output_type": "stream",
     "text": [
      "=========================================================================\n",
      "frame_idx = 21\n",
      "=========================================================================\n",
      "0.0 : list_idx = get_list_idx_for_frame(frame_idx, n_frames_per_side, shift)\n",
      "3.898599147796631 : df_subtracted_frame = get_df_voxel_subtracted_frame(list_df_voxel_scene, frame_idx, n_frames_per_side, shift)\n",
      "1.2377204895019531 : df_frame_orig['voxel_id'] =  df_frame_orig.apply(lambda x: point_to_voxel(x, voxel_size), axis=1)\n",
      "0.0019948482513427734 : df_labels = df_frame_orig.voxel_id.isin(df_subtracted_frame.voxel_id)\n",
      "(2280, 5)\n",
      "0.1316666603088379 : df_frame_orig_subtracted = df_frame_orig[df_labels]\n",
      "(6191, 5)\n",
      "file_labels: voxelling_output/submission_files/vid_1_pred_lee/0000021_labels.csv\n",
      "0.07683086395263672 : df_labels.to_csv(pickles_path+\"df_labels__frame_%d__%s__voxel_size_%d.p\"%(frame_idx, vid, voxel_size))\n",
      "6191\n",
      "0.05191755294799805 : save_frame_for_movie(df_frame_orig_subtracted, \"tmp_only_labeled/\", all_files, frame_idx)\n"
     ]
    },
    {
     "name": "stderr",
     "output_type": "stream",
     "text": [
      "\r",
      "  1%|█▎                                                                                                                                                              | 7/885 [00:37<1:17:51,  5.32s/it]"
     ]
    },
    {
     "name": "stdout",
     "output_type": "stream",
     "text": [
      "=========================================================================\n",
      "frame_idx = 22\n",
      "=========================================================================\n",
      "0.0 : list_idx = get_list_idx_for_frame(frame_idx, n_frames_per_side, shift)\n",
      "3.9384958744049072 : df_subtracted_frame = get_df_voxel_subtracted_frame(list_df_voxel_scene, frame_idx, n_frames_per_side, shift)\n",
      "1.2696397304534912 : df_frame_orig['voxel_id'] =  df_frame_orig.apply(lambda x: point_to_voxel(x, voxel_size), axis=1)\n",
      "0.000997781753540039 : df_labels = df_frame_orig.voxel_id.isin(df_subtracted_frame.voxel_id)\n",
      "(2321, 5)\n",
      "0.13168621063232422 : df_frame_orig_subtracted = df_frame_orig[df_labels]\n",
      "(5647, 5)\n",
      "file_labels: voxelling_output/submission_files/vid_1_pred_lee/0000022_labels.csv\n",
      "0.0818169116973877 : df_labels.to_csv(pickles_path+\"df_labels__frame_%d__%s__voxel_size_%d.p\"%(frame_idx, vid, voxel_size))\n",
      "5647\n",
      "0.04587554931640625 : save_frame_for_movie(df_frame_orig_subtracted, \"tmp_only_labeled/\", all_files, frame_idx)\n"
     ]
    },
    {
     "name": "stderr",
     "output_type": "stream",
     "text": [
      "\r",
      "  1%|█▍                                                                                                                                                              | 8/885 [00:42<1:18:04,  5.34s/it]"
     ]
    },
    {
     "name": "stdout",
     "output_type": "stream",
     "text": [
      "=========================================================================\n",
      "frame_idx = 23\n",
      "=========================================================================\n",
      "0.0 : list_idx = get_list_idx_for_frame(frame_idx, n_frames_per_side, shift)\n",
      "3.9992685317993164 : df_subtracted_frame = get_df_voxel_subtracted_frame(list_df_voxel_scene, frame_idx, n_frames_per_side, shift)\n",
      "1.2377238273620605 : df_frame_orig['voxel_id'] =  df_frame_orig.apply(lambda x: point_to_voxel(x, voxel_size), axis=1)\n",
      "0.0009982585906982422 : df_labels = df_frame_orig.voxel_id.isin(df_subtracted_frame.voxel_id)\n",
      "(2336, 5)\n",
      "0.1406569480895996 : df_frame_orig_subtracted = df_frame_orig[df_labels]\n",
      "(4852, 5)\n",
      "file_labels: voxelling_output/submission_files/vid_1_pred_lee/0000023_labels.csv\n",
      "0.08479905128479004 : df_labels.to_csv(pickles_path+\"df_labels__frame_%d__%s__voxel_size_%d.p\"%(frame_idx, vid, voxel_size))\n",
      "4852\n",
      "0.04886746406555176 : save_frame_for_movie(df_frame_orig_subtracted, \"tmp_only_labeled/\", all_files, frame_idx)\n"
     ]
    },
    {
     "name": "stderr",
     "output_type": "stream",
     "text": [
      "\r",
      "  1%|█▋                                                                                                                                                              | 9/885 [00:48<1:18:18,  5.36s/it]"
     ]
    },
    {
     "name": "stdout",
     "output_type": "stream",
     "text": [
      "=========================================================================\n",
      "frame_idx = 24\n",
      "=========================================================================\n",
      "0.0 : list_idx = get_list_idx_for_frame(frame_idx, n_frames_per_side, shift)\n",
      "4.19580602645874 : df_subtracted_frame = get_df_voxel_subtracted_frame(list_df_voxel_scene, frame_idx, n_frames_per_side, shift)\n",
      "1.1299848556518555 : df_frame_orig['voxel_id'] =  df_frame_orig.apply(lambda x: point_to_voxel(x, voxel_size), axis=1)\n",
      "0.001995086669921875 : df_labels = df_frame_orig.voxel_id.isin(df_subtracted_frame.voxel_id)\n",
      "(2324, 5)\n",
      "0.1964716911315918 : df_frame_orig_subtracted = df_frame_orig[df_labels]\n",
      "(4970, 5)\n",
      "file_labels: voxelling_output/submission_files/vid_1_pred_lee/0000024_labels.csv\n",
      "0.08079791069030762 : df_labels.to_csv(pickles_path+\"df_labels__frame_%d__%s__voxel_size_%d.p\"%(frame_idx, vid, voxel_size))\n",
      "4970\n",
      "0.04192090034484863 : save_frame_for_movie(df_frame_orig_subtracted, \"tmp_only_labeled/\", all_files, frame_idx)\n"
     ]
    },
    {
     "name": "stderr",
     "output_type": "stream",
     "text": [
      "\r",
      "  1%|█▊                                                                                                                                                             | 10/885 [00:53<1:18:40,  5.40s/it]"
     ]
    },
    {
     "name": "stdout",
     "output_type": "stream",
     "text": [
      "=========================================================================\n",
      "frame_idx = 25\n",
      "=========================================================================\n",
      "0.0 : list_idx = get_list_idx_for_frame(frame_idx, n_frames_per_side, shift)\n",
      "4.224705696105957 : df_subtracted_frame = get_df_voxel_subtracted_frame(list_df_voxel_scene, frame_idx, n_frames_per_side, shift)\n",
      "1.2696294784545898 : df_frame_orig['voxel_id'] =  df_frame_orig.apply(lambda x: point_to_voxel(x, voxel_size), axis=1)\n",
      "0.0019903182983398438 : df_labels = df_frame_orig.voxel_id.isin(df_subtracted_frame.voxel_id)\n",
      "(2283, 5)\n",
      "0.14464521408081055 : df_frame_orig_subtracted = df_frame_orig[df_labels]\n",
      "(4814, 5)\n",
      "file_labels: voxelling_output/submission_files/vid_1_pred_lee/0000025_labels.csv\n",
      "0.08377218246459961 : df_labels.to_csv(pickles_path+\"df_labels__frame_%d__%s__voxel_size_%d.p\"%(frame_idx, vid, voxel_size))\n",
      "4814\n",
      "0.042908430099487305 : save_frame_for_movie(df_frame_orig_subtracted, \"tmp_only_labeled/\", all_files, frame_idx)\n"
     ]
    },
    {
     "name": "stderr",
     "output_type": "stream",
     "text": [
      "\r",
      "  1%|█▉                                                                                                                                                             | 11/885 [00:59<1:19:06,  5.43s/it]"
     ]
    },
    {
     "name": "stdout",
     "output_type": "stream",
     "text": [
      "=========================================================================\n",
      "frame_idx = 26\n",
      "=========================================================================\n",
      "0.0 : list_idx = get_list_idx_for_frame(frame_idx, n_frames_per_side, shift)\n",
      "4.013510227203369 : df_subtracted_frame = get_df_voxel_subtracted_frame(list_df_voxel_scene, frame_idx, n_frames_per_side, shift)\n",
      "1.2396786212921143 : df_frame_orig['voxel_id'] =  df_frame_orig.apply(lambda x: point_to_voxel(x, voxel_size), axis=1)\n",
      "0.0009808540344238281 : df_labels = df_frame_orig.voxel_id.isin(df_subtracted_frame.voxel_id)\n",
      "(2267, 5)\n",
      "0.14165425300598145 : df_frame_orig_subtracted = df_frame_orig[df_labels]\n",
      "(4898, 5)\n",
      "file_labels: voxelling_output/submission_files/vid_1_pred_lee/0000026_labels.csv\n",
      "0.07978653907775879 : df_labels.to_csv(pickles_path+\"df_labels__frame_%d__%s__voxel_size_%d.p\"%(frame_idx, vid, voxel_size))\n",
      "4898\n",
      "0.05485343933105469 : save_frame_for_movie(df_frame_orig_subtracted, \"tmp_only_labeled/\", all_files, frame_idx)\n"
     ]
    },
    {
     "name": "stderr",
     "output_type": "stream",
     "text": [
      "\r",
      "  1%|██▏                                                                                                                                                            | 12/885 [01:05<1:19:10,  5.44s/it]"
     ]
    },
    {
     "name": "stdout",
     "output_type": "stream",
     "text": [
      "=========================================================================\n",
      "frame_idx = 27\n",
      "=========================================================================\n",
      "0.00038504600524902344 : list_idx = get_list_idx_for_frame(frame_idx, n_frames_per_side, shift)\n",
      "4.1100404262542725 : df_subtracted_frame = get_df_voxel_subtracted_frame(list_df_voxel_scene, frame_idx, n_frames_per_side, shift)\n",
      "1.1230354309082031 : df_frame_orig['voxel_id'] =  df_frame_orig.apply(lambda x: point_to_voxel(x, voxel_size), axis=1)\n",
      "0.001994609832763672 : df_labels = df_frame_orig.voxel_id.isin(df_subtracted_frame.voxel_id)\n",
      "(2236, 5)\n",
      "0.14461302757263184 : df_frame_orig_subtracted = df_frame_orig[df_labels]\n",
      "(4693, 5)\n",
      "file_labels: voxelling_output/submission_files/vid_1_pred_lee/0000027_labels.csv\n",
      "0.0827934741973877 : df_labels.to_csv(pickles_path+\"df_labels__frame_%d__%s__voxel_size_%d.p\"%(frame_idx, vid, voxel_size))\n",
      "4693\n",
      "0.05186009407043457 : save_frame_for_movie(df_frame_orig_subtracted, \"tmp_only_labeled/\", all_files, frame_idx)\n"
     ]
    },
    {
     "name": "stderr",
     "output_type": "stream",
     "text": [
      "\r",
      "  1%|██▎                                                                                                                                                            | 13/885 [01:10<1:19:11,  5.45s/it]"
     ]
    },
    {
     "name": "stdout",
     "output_type": "stream",
     "text": [
      "=========================================================================\n",
      "frame_idx = 28\n",
      "=========================================================================\n",
      "0.0 : list_idx = get_list_idx_for_frame(frame_idx, n_frames_per_side, shift)\n",
      "3.968384265899658 : df_subtracted_frame = get_df_voxel_subtracted_frame(list_df_voxel_scene, frame_idx, n_frames_per_side, shift)\n",
      "1.1469318866729736 : df_frame_orig['voxel_id'] =  df_frame_orig.apply(lambda x: point_to_voxel(x, voxel_size), axis=1)\n",
      "0.001972198486328125 : df_labels = df_frame_orig.voxel_id.isin(df_subtracted_frame.voxel_id)\n",
      "(1775, 5)\n",
      "0.14364051818847656 : df_frame_orig_subtracted = df_frame_orig[df_labels]\n",
      "(4508, 5)\n",
      "file_labels: voxelling_output/submission_files/vid_1_pred_lee/0000028_labels.csv\n",
      "0.08477258682250977 : df_labels.to_csv(pickles_path+\"df_labels__frame_%d__%s__voxel_size_%d.p\"%(frame_idx, vid, voxel_size))\n",
      "4508\n",
      "0.04789257049560547 : save_frame_for_movie(df_frame_orig_subtracted, \"tmp_only_labeled/\", all_files, frame_idx)\n"
     ]
    },
    {
     "name": "stderr",
     "output_type": "stream",
     "text": [
      "\r",
      "  2%|██▌                                                                                                                                                            | 14/885 [01:16<1:19:04,  5.45s/it]"
     ]
    },
    {
     "name": "stdout",
     "output_type": "stream",
     "text": [
      "=========================================================================\n",
      "frame_idx = 29\n",
      "=========================================================================\n",
      "0.0 : list_idx = get_list_idx_for_frame(frame_idx, n_frames_per_side, shift)\n",
      "3.939490795135498 : df_subtracted_frame = get_df_voxel_subtracted_frame(list_df_voxel_scene, frame_idx, n_frames_per_side, shift)\n",
      "1.2047743797302246 : df_frame_orig['voxel_id'] =  df_frame_orig.apply(lambda x: point_to_voxel(x, voxel_size), axis=1)\n",
      "0.002012968063354492 : df_labels = df_frame_orig.voxel_id.isin(df_subtracted_frame.voxel_id)\n",
      "(1737, 5)\n",
      "0.1426219940185547 : df_frame_orig_subtracted = df_frame_orig[df_labels]\n",
      "(4230, 5)\n",
      "file_labels: voxelling_output/submission_files/vid_1_pred_lee/0000029_labels.csv\n",
      "0.0887918472290039 : df_labels.to_csv(pickles_path+\"df_labels__frame_%d__%s__voxel_size_%d.p\"%(frame_idx, vid, voxel_size))\n",
      "4230\n",
      "0.04291796684265137 : save_frame_for_movie(df_frame_orig_subtracted, \"tmp_only_labeled/\", all_files, frame_idx)\n"
     ]
    },
    {
     "name": "stderr",
     "output_type": "stream",
     "text": [
      "\r",
      "  2%|██▋                                                                                                                                                            | 15/885 [01:21<1:18:58,  5.45s/it]"
     ]
    },
    {
     "name": "stdout",
     "output_type": "stream",
     "text": [
      "=========================================================================\n",
      "frame_idx = 30\n",
      "=========================================================================\n",
      "0.0 : list_idx = get_list_idx_for_frame(frame_idx, n_frames_per_side, shift)\n",
      "4.099071502685547 : df_subtracted_frame = get_df_voxel_subtracted_frame(list_df_voxel_scene, frame_idx, n_frames_per_side, shift)\n",
      "1.1768648624420166 : df_frame_orig['voxel_id'] =  df_frame_orig.apply(lambda x: point_to_voxel(x, voxel_size), axis=1)\n",
      "0.000997781753540039 : df_labels = df_frame_orig.voxel_id.isin(df_subtracted_frame.voxel_id)\n",
      "(1700, 5)\n",
      "0.13965702056884766 : df_frame_orig_subtracted = df_frame_orig[df_labels]\n",
      "(4039, 5)\n",
      "file_labels: voxelling_output/submission_files/vid_1_pred_lee/0000030_labels.csv\n",
      "0.08676671981811523 : df_labels.to_csv(pickles_path+\"df_labels__frame_%d__%s__voxel_size_%d.p\"%(frame_idx, vid, voxel_size))\n",
      "4039\n",
      "0.043889760971069336 : save_frame_for_movie(df_frame_orig_subtracted, \"tmp_only_labeled/\", all_files, frame_idx)\n"
     ]
    },
    {
     "name": "stderr",
     "output_type": "stream",
     "text": [
      "\r",
      "  2%|██▊                                                                                                                                                            | 16/885 [01:27<1:19:00,  5.46s/it]"
     ]
    },
    {
     "name": "stdout",
     "output_type": "stream",
     "text": [
      "=========================================================================\n",
      "frame_idx = 31\n",
      "=========================================================================\n",
      "0.0 : list_idx = get_list_idx_for_frame(frame_idx, n_frames_per_side, shift)\n",
      "4.166825771331787 : df_subtracted_frame = get_df_voxel_subtracted_frame(list_df_voxel_scene, frame_idx, n_frames_per_side, shift)\n",
      "1.1908173561096191 : df_frame_orig['voxel_id'] =  df_frame_orig.apply(lambda x: point_to_voxel(x, voxel_size), axis=1)\n",
      "0.001993894577026367 : df_labels = df_frame_orig.voxel_id.isin(df_subtracted_frame.voxel_id)\n",
      "(1625, 5)\n",
      "0.1495964527130127 : df_frame_orig_subtracted = df_frame_orig[df_labels]\n",
      "(4109, 5)\n",
      "file_labels: voxelling_output/submission_files/vid_1_pred_lee/0000031_labels.csv\n",
      "0.08477926254272461 : df_labels.to_csv(pickles_path+\"df_labels__frame_%d__%s__voxel_size_%d.p\"%(frame_idx, vid, voxel_size))\n",
      "4109\n",
      "0.038893938064575195 : save_frame_for_movie(df_frame_orig_subtracted, \"tmp_only_labeled/\", all_files, frame_idx)\n"
     ]
    },
    {
     "name": "stderr",
     "output_type": "stream",
     "text": [
      "\r",
      "  2%|███                                                                                                                                                            | 17/885 [01:32<1:19:05,  5.47s/it]"
     ]
    },
    {
     "name": "stdout",
     "output_type": "stream",
     "text": [
      "=========================================================================\n",
      "frame_idx = 32\n",
      "=========================================================================\n",
      "0.0 : list_idx = get_list_idx_for_frame(frame_idx, n_frames_per_side, shift)\n",
      "4.091091156005859 : df_subtracted_frame = get_df_voxel_subtracted_frame(list_df_voxel_scene, frame_idx, n_frames_per_side, shift)\n",
      "1.1329984664916992 : df_frame_orig['voxel_id'] =  df_frame_orig.apply(lambda x: point_to_voxel(x, voxel_size), axis=1)\n",
      "0.0009655952453613281 : df_labels = df_frame_orig.voxel_id.isin(df_subtracted_frame.voxel_id)\n",
      "(1495, 5)\n",
      "0.16852974891662598 : df_frame_orig_subtracted = df_frame_orig[df_labels]\n",
      "(4345, 5)\n",
      "file_labels: voxelling_output/submission_files/vid_1_pred_lee/0000032_labels.csv\n",
      "0.08776450157165527 : df_labels.to_csv(pickles_path+\"df_labels__frame_%d__%s__voxel_size_%d.p\"%(frame_idx, vid, voxel_size))\n",
      "4345\n",
      "0.04587674140930176 : save_frame_for_movie(df_frame_orig_subtracted, \"tmp_only_labeled/\", all_files, frame_idx)\n"
     ]
    },
    {
     "name": "stderr",
     "output_type": "stream",
     "text": [
      "\r",
      "  2%|███▏                                                                                                                                                           | 18/885 [01:38<1:19:04,  5.47s/it]"
     ]
    },
    {
     "name": "stdout",
     "output_type": "stream",
     "text": [
      "=========================================================================\n",
      "frame_idx = 33\n",
      "=========================================================================\n",
      "0.0 : list_idx = get_list_idx_for_frame(frame_idx, n_frames_per_side, shift)\n",
      "4.1389288902282715 : df_subtracted_frame = get_df_voxel_subtracted_frame(list_df_voxel_scene, frame_idx, n_frames_per_side, shift)\n",
      "1.1559433937072754 : df_frame_orig['voxel_id'] =  df_frame_orig.apply(lambda x: point_to_voxel(x, voxel_size), axis=1)\n",
      "0.0009918212890625 : df_labels = df_frame_orig.voxel_id.isin(df_subtracted_frame.voxel_id)\n",
      "(1453, 5)\n",
      "0.13666486740112305 : df_frame_orig_subtracted = df_frame_orig[df_labels]\n",
      "(4397, 5)\n",
      "file_labels: voxelling_output/submission_files/vid_1_pred_lee/0000033_labels.csv\n",
      "0.08082103729248047 : df_labels.to_csv(pickles_path+\"df_labels__frame_%d__%s__voxel_size_%d.p\"%(frame_idx, vid, voxel_size))\n",
      "4397\n",
      "0.03992414474487305 : save_frame_for_movie(df_frame_orig_subtracted, \"tmp_only_labeled/\", all_files, frame_idx)\n"
     ]
    },
    {
     "name": "stderr",
     "output_type": "stream",
     "text": [
      "\r",
      "  2%|███▍                                                                                                                                                           | 19/885 [01:44<1:19:03,  5.48s/it]"
     ]
    },
    {
     "name": "stdout",
     "output_type": "stream",
     "text": [
      "=========================================================================\n",
      "frame_idx = 34\n",
      "=========================================================================\n",
      "0.0 : list_idx = get_list_idx_for_frame(frame_idx, n_frames_per_side, shift)\n",
      "4.181857347488403 : df_subtracted_frame = get_df_voxel_subtracted_frame(list_df_voxel_scene, frame_idx, n_frames_per_side, shift)\n",
      "1.1300044059753418 : df_frame_orig['voxel_id'] =  df_frame_orig.apply(lambda x: point_to_voxel(x, voxel_size), axis=1)\n",
      "0.0019927024841308594 : df_labels = df_frame_orig.voxel_id.isin(df_subtracted_frame.voxel_id)\n",
      "(1335, 5)\n",
      "0.1326444149017334 : df_frame_orig_subtracted = df_frame_orig[df_labels]\n",
      "(4431, 5)\n",
      "file_labels: voxelling_output/submission_files/vid_1_pred_lee/0000034_labels.csv\n",
      "0.08177828788757324 : df_labels.to_csv(pickles_path+\"df_labels__frame_%d__%s__voxel_size_%d.p\"%(frame_idx, vid, voxel_size))\n",
      "4431\n",
      "0.045877695083618164 : save_frame_for_movie(df_frame_orig_subtracted, \"tmp_only_labeled/\", all_files, frame_idx)\n"
     ]
    },
    {
     "name": "stderr",
     "output_type": "stream",
     "text": [
      "\r",
      "  2%|███▌                                                                                                                                                           | 20/885 [01:49<1:19:03,  5.48s/it]"
     ]
    },
    {
     "name": "stdout",
     "output_type": "stream",
     "text": [
      "=========================================================================\n",
      "frame_idx = 35\n",
      "=========================================================================\n",
      "0.0 : list_idx = get_list_idx_for_frame(frame_idx, n_frames_per_side, shift)\n",
      "4.367318153381348 : df_subtracted_frame = get_df_voxel_subtracted_frame(list_df_voxel_scene, frame_idx, n_frames_per_side, shift)\n",
      "1.1289887428283691 : df_frame_orig['voxel_id'] =  df_frame_orig.apply(lambda x: point_to_voxel(x, voxel_size), axis=1)\n",
      "0.0009970664978027344 : df_labels = df_frame_orig.voxel_id.isin(df_subtracted_frame.voxel_id)\n",
      "(1307, 5)\n",
      "0.1456141471862793 : df_frame_orig_subtracted = df_frame_orig[df_labels]\n",
      "(4423, 5)\n",
      "file_labels: voxelling_output/submission_files/vid_1_pred_lee/0000035_labels.csv\n",
      "0.08381104469299316 : df_labels.to_csv(pickles_path+\"df_labels__frame_%d__%s__voxel_size_%d.p\"%(frame_idx, vid, voxel_size))\n",
      "4423\n",
      "0.04291987419128418 : save_frame_for_movie(df_frame_orig_subtracted, \"tmp_only_labeled/\", all_files, frame_idx)\n"
     ]
    },
    {
     "name": "stderr",
     "output_type": "stream",
     "text": [
      "\r",
      "  2%|███▊                                                                                                                                                           | 21/885 [01:55<1:19:10,  5.50s/it]"
     ]
    },
    {
     "name": "stdout",
     "output_type": "stream",
     "text": [
      "=========================================================================\n",
      "frame_idx = 36\n",
      "=========================================================================\n",
      "0.0 : list_idx = get_list_idx_for_frame(frame_idx, n_frames_per_side, shift)\n",
      "4.4211745262146 : df_subtracted_frame = get_df_voxel_subtracted_frame(list_df_voxel_scene, frame_idx, n_frames_per_side, shift)\n",
      "1.089087963104248 : df_frame_orig['voxel_id'] =  df_frame_orig.apply(lambda x: point_to_voxel(x, voxel_size), axis=1)\n",
      "0.0009949207305908203 : df_labels = df_frame_orig.voxel_id.isin(df_subtracted_frame.voxel_id)\n",
      "(1315, 5)\n",
      "0.1326766014099121 : df_frame_orig_subtracted = df_frame_orig[df_labels]\n",
      "(4717, 5)\n",
      "file_labels: voxelling_output/submission_files/vid_1_pred_lee/0000036_labels.csv\n",
      "0.07478165626525879 : df_labels.to_csv(pickles_path+\"df_labels__frame_%d__%s__voxel_size_%d.p\"%(frame_idx, vid, voxel_size))\n",
      "4717\n",
      "0.04491305351257324 : save_frame_for_movie(df_frame_orig_subtracted, \"tmp_only_labeled/\", all_files, frame_idx)\n"
     ]
    },
    {
     "name": "stderr",
     "output_type": "stream",
     "text": [
      "\r",
      "  2%|███▉                                                                                                                                                           | 22/885 [02:01<1:19:16,  5.51s/it]"
     ]
    },
    {
     "name": "stdout",
     "output_type": "stream",
     "text": [
      "=========================================================================\n",
      "frame_idx = 37\n",
      "=========================================================================\n",
      "0.0 : list_idx = get_list_idx_for_frame(frame_idx, n_frames_per_side, shift)\n",
      "4.426145553588867 : df_subtracted_frame = get_df_voxel_subtracted_frame(list_df_voxel_scene, frame_idx, n_frames_per_side, shift)\n",
      "1.1160147190093994 : df_frame_orig['voxel_id'] =  df_frame_orig.apply(lambda x: point_to_voxel(x, voxel_size), axis=1)\n",
      "0.0019948482513427734 : df_labels = df_frame_orig.voxel_id.isin(df_subtracted_frame.voxel_id)\n",
      "(1277, 5)\n",
      "0.14959955215454102 : df_frame_orig_subtracted = df_frame_orig[df_labels]\n",
      "(4452, 5)\n",
      "file_labels: voxelling_output/submission_files/vid_1_pred_lee/0000037_labels.csv\n",
      "0.0807960033416748 : df_labels.to_csv(pickles_path+\"df_labels__frame_%d__%s__voxel_size_%d.p\"%(frame_idx, vid, voxel_size))\n",
      "4452\n",
      "0.053854942321777344 : save_frame_for_movie(df_frame_orig_subtracted, \"tmp_only_labeled/\", all_files, frame_idx)\n"
     ]
    },
    {
     "name": "stderr",
     "output_type": "stream",
     "text": [
      "\r",
      "  3%|████▏                                                                                                                                                          | 23/885 [02:07<1:19:23,  5.53s/it]"
     ]
    },
    {
     "name": "stdout",
     "output_type": "stream",
     "text": [
      "=========================================================================\n",
      "frame_idx = 38\n",
      "=========================================================================\n",
      "0.0 : list_idx = get_list_idx_for_frame(frame_idx, n_frames_per_side, shift)\n",
      "4.214712381362915 : df_subtracted_frame = get_df_voxel_subtracted_frame(list_df_voxel_scene, frame_idx, n_frames_per_side, shift)\n",
      "1.132988691329956 : df_frame_orig['voxel_id'] =  df_frame_orig.apply(lambda x: point_to_voxel(x, voxel_size), axis=1)\n",
      "0.001996755599975586 : df_labels = df_frame_orig.voxel_id.isin(df_subtracted_frame.voxel_id)\n",
      "(1242, 5)\n",
      "0.15957117080688477 : df_frame_orig_subtracted = df_frame_orig[df_labels]\n",
      "(4237, 5)\n",
      "file_labels: voxelling_output/submission_files/vid_1_pred_lee/0000038_labels.csv\n",
      "0.07877993583679199 : df_labels.to_csv(pickles_path+\"df_labels__frame_%d__%s__voxel_size_%d.p\"%(frame_idx, vid, voxel_size))\n",
      "4237\n",
      "0.03989291191101074 : save_frame_for_movie(df_frame_orig_subtracted, \"tmp_only_labeled/\", all_files, frame_idx)\n"
     ]
    },
    {
     "name": "stderr",
     "output_type": "stream",
     "text": [
      "\r",
      "  3%|████▎                                                                                                                                                          | 24/885 [02:12<1:19:22,  5.53s/it]"
     ]
    },
    {
     "name": "stdout",
     "output_type": "stream",
     "text": [
      "=========================================================================\n",
      "frame_idx = 39\n",
      "=========================================================================\n",
      "0.0 : list_idx = get_list_idx_for_frame(frame_idx, n_frames_per_side, shift)\n",
      "4.326427221298218 : df_subtracted_frame = get_df_voxel_subtracted_frame(list_df_voxel_scene, frame_idx, n_frames_per_side, shift)\n",
      "1.07814359664917 : df_frame_orig['voxel_id'] =  df_frame_orig.apply(lambda x: point_to_voxel(x, voxel_size), axis=1)\n",
      "0.001996755599975586 : df_labels = df_frame_orig.voxel_id.isin(df_subtracted_frame.voxel_id)\n",
      "(1244, 5)\n",
      "0.13364076614379883 : df_frame_orig_subtracted = df_frame_orig[df_labels]\n",
      "(4247, 5)\n",
      "file_labels: voxelling_output/submission_files/vid_1_pred_lee/0000039_labels.csv\n",
      "0.0827779769897461 : df_labels.to_csv(pickles_path+\"df_labels__frame_%d__%s__voxel_size_%d.p\"%(frame_idx, vid, voxel_size))\n",
      "4247\n",
      "0.04091620445251465 : save_frame_for_movie(df_frame_orig_subtracted, \"tmp_only_labeled/\", all_files, frame_idx)\n"
     ]
    },
    {
     "name": "stderr",
     "output_type": "stream",
     "text": [
      "\r",
      "  3%|████▍                                                                                                                                                          | 25/885 [02:18<1:19:22,  5.54s/it]"
     ]
    },
    {
     "name": "stdout",
     "output_type": "stream",
     "text": [
      "=========================================================================\n",
      "frame_idx = 40\n",
      "=========================================================================\n",
      "0.0 : list_idx = get_list_idx_for_frame(frame_idx, n_frames_per_side, shift)\n",
      "4.1848413944244385 : df_subtracted_frame = get_df_voxel_subtracted_frame(list_df_voxel_scene, frame_idx, n_frames_per_side, shift)\n",
      "1.0861284732818604 : df_frame_orig['voxel_id'] =  df_frame_orig.apply(lambda x: point_to_voxel(x, voxel_size), axis=1)\n",
      "0.0009870529174804688 : df_labels = df_frame_orig.voxel_id.isin(df_subtracted_frame.voxel_id)\n",
      "(1243, 5)\n",
      "0.12466788291931152 : df_frame_orig_subtracted = df_frame_orig[df_labels]\n",
      "(4450, 5)\n",
      "file_labels: voxelling_output/submission_files/vid_1_pred_lee/0000040_labels.csv\n",
      "0.08077502250671387 : df_labels.to_csv(pickles_path+\"df_labels__frame_%d__%s__voxel_size_%d.p\"%(frame_idx, vid, voxel_size))\n",
      "4450\n",
      "0.03889775276184082 : save_frame_for_movie(df_frame_orig_subtracted, \"tmp_only_labeled/\", all_files, frame_idx)\n"
     ]
    },
    {
     "name": "stderr",
     "output_type": "stream",
     "text": [
      "\r",
      "  3%|████▋                                                                                                                                                          | 26/885 [02:23<1:19:17,  5.54s/it]"
     ]
    },
    {
     "name": "stdout",
     "output_type": "stream",
     "text": [
      "=========================================================================\n",
      "frame_idx = 41\n",
      "=========================================================================\n",
      "0.0 : list_idx = get_list_idx_for_frame(frame_idx, n_frames_per_side, shift)\n",
      "4.214725494384766 : df_subtracted_frame = get_df_voxel_subtracted_frame(list_df_voxel_scene, frame_idx, n_frames_per_side, shift)\n",
      "1.0621709823608398 : df_frame_orig['voxel_id'] =  df_frame_orig.apply(lambda x: point_to_voxel(x, voxel_size), axis=1)\n",
      "0.000990152359008789 : df_labels = df_frame_orig.voxel_id.isin(df_subtracted_frame.voxel_id)\n",
      "(1207, 5)\n",
      "0.14464592933654785 : df_frame_orig_subtracted = df_frame_orig[df_labels]\n",
      "(4508, 5)\n",
      "file_labels: voxelling_output/submission_files/vid_1_pred_lee/0000041_labels.csv\n",
      "0.07981681823730469 : df_labels.to_csv(pickles_path+\"df_labels__frame_%d__%s__voxel_size_%d.p\"%(frame_idx, vid, voxel_size))\n",
      "4508\n",
      "0.043882131576538086 : save_frame_for_movie(df_frame_orig_subtracted, \"tmp_only_labeled/\", all_files, frame_idx)\n"
     ]
    },
    {
     "name": "stderr",
     "output_type": "stream",
     "text": [
      "\r",
      "  3%|████▊                                                                                                                                                          | 27/885 [02:29<1:19:12,  5.54s/it]"
     ]
    },
    {
     "name": "stdout",
     "output_type": "stream",
     "text": [
      "=========================================================================\n",
      "frame_idx = 42\n",
      "=========================================================================\n",
      "0.0 : list_idx = get_list_idx_for_frame(frame_idx, n_frames_per_side, shift)\n",
      "4.238664388656616 : df_subtracted_frame = get_df_voxel_subtracted_frame(list_df_voxel_scene, frame_idx, n_frames_per_side, shift)\n",
      "1.1110260486602783 : df_frame_orig['voxel_id'] =  df_frame_orig.apply(lambda x: point_to_voxel(x, voxel_size), axis=1)\n",
      "0.0009982585906982422 : df_labels = df_frame_orig.voxel_id.isin(df_subtracted_frame.voxel_id)\n",
      "(1217, 5)\n",
      "0.13762974739074707 : df_frame_orig_subtracted = df_frame_orig[df_labels]\n",
      "(4646, 5)\n",
      "file_labels: voxelling_output/submission_files/vid_1_pred_lee/0000042_labels.csv\n",
      "0.08477163314819336 : df_labels.to_csv(pickles_path+\"df_labels__frame_%d__%s__voxel_size_%d.p\"%(frame_idx, vid, voxel_size))\n",
      "4646\n",
      "0.04391622543334961 : save_frame_for_movie(df_frame_orig_subtracted, \"tmp_only_labeled/\", all_files, frame_idx)\n"
     ]
    },
    {
     "name": "stderr",
     "output_type": "stream",
     "text": [
      "\r",
      "  3%|█████                                                                                                                                                          | 28/885 [02:35<1:19:10,  5.54s/it]"
     ]
    },
    {
     "name": "stdout",
     "output_type": "stream",
     "text": [
      "=========================================================================\n",
      "frame_idx = 43\n",
      "=========================================================================\n",
      "0.0 : list_idx = get_list_idx_for_frame(frame_idx, n_frames_per_side, shift)\n",
      "4.2768635749816895 : df_subtracted_frame = get_df_voxel_subtracted_frame(list_df_voxel_scene, frame_idx, n_frames_per_side, shift)\n",
      "1.1588993072509766 : df_frame_orig['voxel_id'] =  df_frame_orig.apply(lambda x: point_to_voxel(x, voxel_size), axis=1)\n",
      "0.000997304916381836 : df_labels = df_frame_orig.voxel_id.isin(df_subtracted_frame.voxel_id)\n",
      "(1134, 5)\n",
      "0.14364290237426758 : df_frame_orig_subtracted = df_frame_orig[df_labels]\n",
      "(4406, 5)\n",
      "file_labels: voxelling_output/submission_files/vid_1_pred_lee/0000043_labels.csv\n",
      "0.08377552032470703 : df_labels.to_csv(pickles_path+\"df_labels__frame_%d__%s__voxel_size_%d.p\"%(frame_idx, vid, voxel_size))\n",
      "4406\n",
      "0.04089641571044922 : save_frame_for_movie(df_frame_orig_subtracted, \"tmp_only_labeled/\", all_files, frame_idx)\n"
     ]
    },
    {
     "name": "stderr",
     "output_type": "stream",
     "text": [
      "\r",
      "  3%|█████▏                                                                                                                                                         | 29/885 [02:40<1:19:10,  5.55s/it]"
     ]
    },
    {
     "name": "stdout",
     "output_type": "stream",
     "text": [
      "=========================================================================\n",
      "frame_idx = 44\n",
      "=========================================================================\n",
      "0.0 : list_idx = get_list_idx_for_frame(frame_idx, n_frames_per_side, shift)\n",
      "4.352357864379883 : df_subtracted_frame = get_df_voxel_subtracted_frame(list_df_voxel_scene, frame_idx, n_frames_per_side, shift)\n",
      "1.1539454460144043 : df_frame_orig['voxel_id'] =  df_frame_orig.apply(lambda x: point_to_voxel(x, voxel_size), axis=1)\n",
      "0.0010006427764892578 : df_labels = df_frame_orig.voxel_id.isin(df_subtracted_frame.voxel_id)\n",
      "(1227, 5)\n",
      "0.13068032264709473 : df_frame_orig_subtracted = df_frame_orig[df_labels]\n",
      "(4773, 5)\n",
      "file_labels: voxelling_output/submission_files/vid_1_pred_lee/0000044_labels.csv\n",
      "0.08277773857116699 : df_labels.to_csv(pickles_path+\"df_labels__frame_%d__%s__voxel_size_%d.p\"%(frame_idx, vid, voxel_size))\n",
      "4773\n",
      "0.04387784004211426 : save_frame_for_movie(df_frame_orig_subtracted, \"tmp_only_labeled/\", all_files, frame_idx)\n"
     ]
    },
    {
     "name": "stderr",
     "output_type": "stream",
     "text": [
      "\r",
      "  3%|█████▍                                                                                                                                                         | 30/885 [02:46<1:19:11,  5.56s/it]"
     ]
    },
    {
     "name": "stdout",
     "output_type": "stream",
     "text": [
      "=========================================================================\n",
      "frame_idx = 45\n",
      "=========================================================================\n",
      "0.0 : list_idx = get_list_idx_for_frame(frame_idx, n_frames_per_side, shift)\n",
      "4.473076343536377 : df_subtracted_frame = get_df_voxel_subtracted_frame(list_df_voxel_scene, frame_idx, n_frames_per_side, shift)\n",
      "1.110029697418213 : df_frame_orig['voxel_id'] =  df_frame_orig.apply(lambda x: point_to_voxel(x, voxel_size), axis=1)\n",
      "0.0009965896606445312 : df_labels = df_frame_orig.voxel_id.isin(df_subtracted_frame.voxel_id)\n",
      "(1009, 5)\n",
      "0.15856027603149414 : df_frame_orig_subtracted = df_frame_orig[df_labels]\n",
      "(5129, 5)\n",
      "file_labels: voxelling_output/submission_files/vid_1_pred_lee/0000045_labels.csv\n",
      "0.09275078773498535 : df_labels.to_csv(pickles_path+\"df_labels__frame_%d__%s__voxel_size_%d.p\"%(frame_idx, vid, voxel_size))\n",
      "5129\n",
      "0.051862239837646484 : save_frame_for_movie(df_frame_orig_subtracted, \"tmp_only_labeled/\", all_files, frame_idx)\n"
     ]
    },
    {
     "name": "stderr",
     "output_type": "stream",
     "text": [
      "\r",
      "  4%|█████▌                                                                                                                                                         | 31/885 [02:52<1:19:15,  5.57s/it]"
     ]
    },
    {
     "name": "stdout",
     "output_type": "stream",
     "text": [
      "=========================================================================\n",
      "frame_idx = 46\n",
      "=========================================================================\n",
      "0.0 : list_idx = get_list_idx_for_frame(frame_idx, n_frames_per_side, shift)\n",
      "4.460072755813599 : df_subtracted_frame = get_df_voxel_subtracted_frame(list_df_voxel_scene, frame_idx, n_frames_per_side, shift)\n",
      "1.1219990253448486 : df_frame_orig['voxel_id'] =  df_frame_orig.apply(lambda x: point_to_voxel(x, voxel_size), axis=1)\n",
      "0.0009953975677490234 : df_labels = df_frame_orig.voxel_id.isin(df_subtracted_frame.voxel_id)\n",
      "(1224, 5)\n",
      "0.1326448917388916 : df_frame_orig_subtracted = df_frame_orig[df_labels]\n",
      "(5464, 5)\n",
      "file_labels: voxelling_output/submission_files/vid_1_pred_lee/0000046_labels.csv\n",
      "0.07381677627563477 : df_labels.to_csv(pickles_path+\"df_labels__frame_%d__%s__voxel_size_%d.p\"%(frame_idx, vid, voxel_size))\n",
      "5464\n",
      "0.04787325859069824 : save_frame_for_movie(df_frame_orig_subtracted, \"tmp_only_labeled/\", all_files, frame_idx)\n"
     ]
    },
    {
     "name": "stderr",
     "output_type": "stream",
     "text": [
      "\r",
      "  4%|█████▋                                                                                                                                                         | 32/885 [02:58<1:19:18,  5.58s/it]"
     ]
    },
    {
     "name": "stdout",
     "output_type": "stream",
     "text": [
      "=========================================================================\n",
      "frame_idx = 47\n",
      "=========================================================================\n",
      "0.0 : list_idx = get_list_idx_for_frame(frame_idx, n_frames_per_side, shift)\n",
      "4.1648850440979 : df_subtracted_frame = get_df_voxel_subtracted_frame(list_df_voxel_scene, frame_idx, n_frames_per_side, shift)\n",
      "1.131967544555664 : df_frame_orig['voxel_id'] =  df_frame_orig.apply(lambda x: point_to_voxel(x, voxel_size), axis=1)\n",
      "0.0009856224060058594 : df_labels = df_frame_orig.voxel_id.isin(df_subtracted_frame.voxel_id)\n",
      "(1220, 5)\n",
      "0.15657949447631836 : df_frame_orig_subtracted = df_frame_orig[df_labels]\n",
      "(5513, 5)\n",
      "file_labels: voxelling_output/submission_files/vid_1_pred_lee/0000047_labels.csv\n",
      "0.09174370765686035 : df_labels.to_csv(pickles_path+\"df_labels__frame_%d__%s__voxel_size_%d.p\"%(frame_idx, vid, voxel_size))\n",
      "5513\n",
      "0.05185890197753906 : save_frame_for_movie(df_frame_orig_subtracted, \"tmp_only_labeled/\", all_files, frame_idx)\n"
     ]
    },
    {
     "name": "stderr",
     "output_type": "stream",
     "text": [
      "\r",
      "  4%|█████▉                                                                                                                                                         | 33/885 [03:04<1:19:13,  5.58s/it]"
     ]
    },
    {
     "name": "stdout",
     "output_type": "stream",
     "text": [
      "=========================================================================\n",
      "frame_idx = 48\n",
      "=========================================================================\n",
      "0.0009615421295166016 : list_idx = get_list_idx_for_frame(frame_idx, n_frames_per_side, shift)\n",
      "4.5209057331085205 : df_subtracted_frame = get_df_voxel_subtracted_frame(list_df_voxel_scene, frame_idx, n_frames_per_side, shift)\n",
      "1.1030809879302979 : df_frame_orig['voxel_id'] =  df_frame_orig.apply(lambda x: point_to_voxel(x, voxel_size), axis=1)\n",
      "0.0009794235229492188 : df_labels = df_frame_orig.voxel_id.isin(df_subtracted_frame.voxel_id)\n",
      "(1190, 5)\n",
      "0.15758490562438965 : df_frame_orig_subtracted = df_frame_orig[df_labels]\n",
      "(5636, 5)\n",
      "file_labels: voxelling_output/submission_files/vid_1_pred_lee/0000048_labels.csv\n",
      "0.09074783325195312 : df_labels.to_csv(pickles_path+\"df_labels__frame_%d__%s__voxel_size_%d.p\"%(frame_idx, vid, voxel_size))\n",
      "5636\n",
      "0.0628364086151123 : save_frame_for_movie(df_frame_orig_subtracted, \"tmp_only_labeled/\", all_files, frame_idx)\n"
     ]
    },
    {
     "name": "stderr",
     "output_type": "stream",
     "text": [
      "\r",
      "  4%|██████                                                                                                                                                         | 34/885 [03:10<1:19:17,  5.59s/it]"
     ]
    },
    {
     "name": "stdout",
     "output_type": "stream",
     "text": [
      "=========================================================================\n",
      "frame_idx = 49\n",
      "=========================================================================\n",
      "0.0009965896606445312 : list_idx = get_list_idx_for_frame(frame_idx, n_frames_per_side, shift)\n",
      "4.291552543640137 : df_subtracted_frame = get_df_voxel_subtracted_frame(list_df_voxel_scene, frame_idx, n_frames_per_side, shift)\n",
      "1.1339657306671143 : df_frame_orig['voxel_id'] =  df_frame_orig.apply(lambda x: point_to_voxel(x, voxel_size), axis=1)\n",
      "0.0019941329956054688 : df_labels = df_frame_orig.voxel_id.isin(df_subtracted_frame.voxel_id)\n",
      "(1153, 5)\n",
      "0.1286940574645996 : df_frame_orig_subtracted = df_frame_orig[df_labels]\n",
      "(5543, 5)\n",
      "file_labels: voxelling_output/submission_files/vid_1_pred_lee/0000049_labels.csv\n",
      "0.08477163314819336 : df_labels.to_csv(pickles_path+\"df_labels__frame_%d__%s__voxel_size_%d.p\"%(frame_idx, vid, voxel_size))\n",
      "5543\n",
      "0.04989361763000488 : save_frame_for_movie(df_frame_orig_subtracted, \"tmp_only_labeled/\", all_files, frame_idx)\n"
     ]
    },
    {
     "name": "stderr",
     "output_type": "stream",
     "text": [
      "\r",
      "  4%|██████▎                                                                                                                                                        | 35/885 [03:15<1:19:15,  5.59s/it]"
     ]
    },
    {
     "name": "stdout",
     "output_type": "stream",
     "text": [
      "=========================================================================\n",
      "frame_idx = 50\n",
      "=========================================================================\n",
      "0.0 : list_idx = get_list_idx_for_frame(frame_idx, n_frames_per_side, shift)\n",
      "4.2795820236206055 : df_subtracted_frame = get_df_voxel_subtracted_frame(list_df_voxel_scene, frame_idx, n_frames_per_side, shift)\n",
      "1.1619296073913574 : df_frame_orig['voxel_id'] =  df_frame_orig.apply(lambda x: point_to_voxel(x, voxel_size), axis=1)\n",
      "0.001995086669921875 : df_labels = df_frame_orig.voxel_id.isin(df_subtracted_frame.voxel_id)\n",
      "(1135, 5)\n",
      "0.14860177040100098 : df_frame_orig_subtracted = df_frame_orig[df_labels]\n",
      "(5393, 5)\n",
      "file_labels: voxelling_output/submission_files/vid_1_pred_lee/0000050_labels.csv\n",
      "0.09472370147705078 : df_labels.to_csv(pickles_path+\"df_labels__frame_%d__%s__voxel_size_%d.p\"%(frame_idx, vid, voxel_size))\n",
      "5393\n",
      "0.04886770248413086 : save_frame_for_movie(df_frame_orig_subtracted, \"tmp_only_labeled/\", all_files, frame_idx)\n"
     ]
    },
    {
     "name": "stderr",
     "output_type": "stream",
     "text": [
      "\r",
      "  4%|██████▍                                                                                                                                                        | 36/885 [03:21<1:19:13,  5.60s/it]"
     ]
    },
    {
     "name": "stdout",
     "output_type": "stream",
     "text": [
      "=========================================================================\n",
      "frame_idx = 51\n",
      "=========================================================================\n",
      "0.0 : list_idx = get_list_idx_for_frame(frame_idx, n_frames_per_side, shift)\n",
      "4.299533367156982 : df_subtracted_frame = get_df_voxel_subtracted_frame(list_df_voxel_scene, frame_idx, n_frames_per_side, shift)\n",
      "1.1698715686798096 : df_frame_orig['voxel_id'] =  df_frame_orig.apply(lambda x: point_to_voxel(x, voxel_size), axis=1)\n",
      "0.0009968280792236328 : df_labels = df_frame_orig.voxel_id.isin(df_subtracted_frame.voxel_id)\n",
      "(1053, 5)\n",
      "0.14062285423278809 : df_frame_orig_subtracted = df_frame_orig[df_labels]\n",
      "(5283, 5)\n",
      "file_labels: voxelling_output/submission_files/vid_1_pred_lee/0000051_labels.csv\n",
      "0.09374713897705078 : df_labels.to_csv(pickles_path+\"df_labels__frame_%d__%s__voxel_size_%d.p\"%(frame_idx, vid, voxel_size))\n",
      "5283\n",
      "0.04690742492675781 : save_frame_for_movie(df_frame_orig_subtracted, \"tmp_only_labeled/\", all_files, frame_idx)\n"
     ]
    },
    {
     "name": "stderr",
     "output_type": "stream",
     "text": [
      "\r",
      "  4%|██████▋                                                                                                                                                        | 37/885 [03:27<1:19:11,  5.60s/it]"
     ]
    },
    {
     "name": "stdout",
     "output_type": "stream",
     "text": [
      "=========================================================================\n",
      "frame_idx = 52\n",
      "=========================================================================\n",
      "0.0009958744049072266 : list_idx = get_list_idx_for_frame(frame_idx, n_frames_per_side, shift)\n",
      "4.349401235580444 : df_subtracted_frame = get_df_voxel_subtracted_frame(list_df_voxel_scene, frame_idx, n_frames_per_side, shift)\n",
      "1.1509547233581543 : df_frame_orig['voxel_id'] =  df_frame_orig.apply(lambda x: point_to_voxel(x, voxel_size), axis=1)\n",
      "0.000997781753540039 : df_labels = df_frame_orig.voxel_id.isin(df_subtracted_frame.voxel_id)\n",
      "(967, 5)\n",
      "0.15358948707580566 : df_frame_orig_subtracted = df_frame_orig[df_labels]\n",
      "(5347, 5)\n",
      "file_labels: voxelling_output/submission_files/vid_1_pred_lee/0000052_labels.csv\n",
      "0.08676767349243164 : df_labels.to_csv(pickles_path+\"df_labels__frame_%d__%s__voxel_size_%d.p\"%(frame_idx, vid, voxel_size))\n",
      "5347\n",
      "0.04989767074584961 : save_frame_for_movie(df_frame_orig_subtracted, \"tmp_only_labeled/\", all_files, frame_idx)\n"
     ]
    },
    {
     "name": "stderr",
     "output_type": "stream",
     "text": [
      "\r",
      "  4%|██████▊                                                                                                                                                        | 38/885 [03:33<1:19:11,  5.61s/it]"
     ]
    },
    {
     "name": "stdout",
     "output_type": "stream",
     "text": [
      "=========================================================================\n",
      "frame_idx = 53\n",
      "=========================================================================\n",
      "0.0 : list_idx = get_list_idx_for_frame(frame_idx, n_frames_per_side, shift)\n",
      "4.319446802139282 : df_subtracted_frame = get_df_voxel_subtracted_frame(list_df_voxel_scene, frame_idx, n_frames_per_side, shift)\n",
      "1.1848576068878174 : df_frame_orig['voxel_id'] =  df_frame_orig.apply(lambda x: point_to_voxel(x, voxel_size), axis=1)\n",
      "0.0010035037994384766 : df_labels = df_frame_orig.voxel_id.isin(df_subtracted_frame.voxel_id)\n",
      "(894, 5)\n",
      "0.13567090034484863 : df_frame_orig_subtracted = df_frame_orig[df_labels]\n",
      "(5326, 5)\n",
      "file_labels: voxelling_output/submission_files/vid_1_pred_lee/0000053_labels.csv\n",
      "0.07782554626464844 : df_labels.to_csv(pickles_path+\"df_labels__frame_%d__%s__voxel_size_%d.p\"%(frame_idx, vid, voxel_size))\n",
      "5326\n",
      "0.046842336654663086 : save_frame_for_movie(df_frame_orig_subtracted, \"tmp_only_labeled/\", all_files, frame_idx)\n"
     ]
    },
    {
     "name": "stderr",
     "output_type": "stream",
     "text": [
      "\r",
      "  4%|███████                                                                                                                                                        | 39/885 [03:38<1:19:09,  5.61s/it]"
     ]
    },
    {
     "name": "stdout",
     "output_type": "stream",
     "text": [
      "=========================================================================\n",
      "frame_idx = 54\n",
      "=========================================================================\n",
      "0.0 : list_idx = get_list_idx_for_frame(frame_idx, n_frames_per_side, shift)\n",
      "4.393240690231323 : df_subtracted_frame = get_df_voxel_subtracted_frame(list_df_voxel_scene, frame_idx, n_frames_per_side, shift)\n",
      "1.1778879165649414 : df_frame_orig['voxel_id'] =  df_frame_orig.apply(lambda x: point_to_voxel(x, voxel_size), axis=1)\n",
      "0.0020074844360351562 : df_labels = df_frame_orig.voxel_id.isin(df_subtracted_frame.voxel_id)\n",
      "(1008, 5)\n",
      "0.15162396430969238 : df_frame_orig_subtracted = df_frame_orig[df_labels]\n",
      "(5393, 5)\n",
      "file_labels: voxelling_output/submission_files/vid_1_pred_lee/0000054_labels.csv\n",
      "0.0798182487487793 : df_labels.to_csv(pickles_path+\"df_labels__frame_%d__%s__voxel_size_%d.p\"%(frame_idx, vid, voxel_size))\n",
      "5393\n",
      "0.047884225845336914 : save_frame_for_movie(df_frame_orig_subtracted, \"tmp_only_labeled/\", all_files, frame_idx)\n"
     ]
    },
    {
     "name": "stderr",
     "output_type": "stream",
     "text": [
      "\r",
      "  5%|███████▏                                                                                                                                                       | 40/885 [03:44<1:19:09,  5.62s/it]"
     ]
    },
    {
     "name": "stdout",
     "output_type": "stream",
     "text": [
      "=========================================================================\n",
      "frame_idx = 55\n",
      "=========================================================================\n",
      "0.0 : list_idx = get_list_idx_for_frame(frame_idx, n_frames_per_side, shift)\n",
      "4.425161600112915 : df_subtracted_frame = get_df_voxel_subtracted_frame(list_df_voxel_scene, frame_idx, n_frames_per_side, shift)\n",
      "1.1539137363433838 : df_frame_orig['voxel_id'] =  df_frame_orig.apply(lambda x: point_to_voxel(x, voxel_size), axis=1)\n",
      "0.0019943714141845703 : df_labels = df_frame_orig.voxel_id.isin(df_subtracted_frame.voxel_id)\n",
      "(1035, 5)\n",
      "0.16454243659973145 : df_frame_orig_subtracted = df_frame_orig[df_labels]\n",
      "(5754, 5)\n",
      "file_labels: voxelling_output/submission_files/vid_1_pred_lee/0000055_labels.csv\n",
      "0.09973311424255371 : df_labels.to_csv(pickles_path+\"df_labels__frame_%d__%s__voxel_size_%d.p\"%(frame_idx, vid, voxel_size))\n",
      "5754\n",
      "0.06183362007141113 : save_frame_for_movie(df_frame_orig_subtracted, \"tmp_only_labeled/\", all_files, frame_idx)\n"
     ]
    },
    {
     "name": "stderr",
     "output_type": "stream",
     "text": [
      "\r",
      "  5%|███████▎                                                                                                                                                       | 41/885 [03:50<1:19:10,  5.63s/it]"
     ]
    },
    {
     "name": "stdout",
     "output_type": "stream",
     "text": [
      "=========================================================================\n",
      "frame_idx = 56\n",
      "=========================================================================\n",
      "0.0 : list_idx = get_list_idx_for_frame(frame_idx, n_frames_per_side, shift)\n",
      "4.813115835189819 : df_subtracted_frame = get_df_voxel_subtracted_frame(list_df_voxel_scene, frame_idx, n_frames_per_side, shift)\n",
      "1.440187931060791 : df_frame_orig['voxel_id'] =  df_frame_orig.apply(lambda x: point_to_voxel(x, voxel_size), axis=1)\n",
      "0.000997781753540039 : df_labels = df_frame_orig.voxel_id.isin(df_subtracted_frame.voxel_id)\n",
      "(942, 5)\n",
      "0.16256451606750488 : df_frame_orig_subtracted = df_frame_orig[df_labels]\n",
      "(6197, 5)\n",
      "file_labels: voxelling_output/submission_files/vid_1_pred_lee/0000056_labels.csv\n",
      "0.0887596607208252 : df_labels.to_csv(pickles_path+\"df_labels__frame_%d__%s__voxel_size_%d.p\"%(frame_idx, vid, voxel_size))\n",
      "6197\n",
      "0.07878708839416504 : save_frame_for_movie(df_frame_orig_subtracted, \"tmp_only_labeled/\", all_files, frame_idx)\n"
     ]
    },
    {
     "name": "stderr",
     "output_type": "stream",
     "text": [
      "\r",
      "  5%|███████▌                                                                                                                                                       | 42/885 [03:57<1:19:24,  5.65s/it]"
     ]
    },
    {
     "name": "stdout",
     "output_type": "stream",
     "text": [
      "=========================================================================\n",
      "frame_idx = 57\n",
      "=========================================================================\n",
      "0.0 : list_idx = get_list_idx_for_frame(frame_idx, n_frames_per_side, shift)\n",
      "4.642583847045898 : df_subtracted_frame = get_df_voxel_subtracted_frame(list_df_voxel_scene, frame_idx, n_frames_per_side, shift)\n",
      "1.1958014965057373 : df_frame_orig['voxel_id'] =  df_frame_orig.apply(lambda x: point_to_voxel(x, voxel_size), axis=1)\n",
      "0.0009980201721191406 : df_labels = df_frame_orig.voxel_id.isin(df_subtracted_frame.voxel_id)\n",
      "(866, 5)\n",
      "0.14261889457702637 : df_frame_orig_subtracted = df_frame_orig[df_labels]\n",
      "(6583, 5)\n",
      "file_labels: voxelling_output/submission_files/vid_1_pred_lee/0000057_labels.csv\n",
      "0.08776211738586426 : df_labels.to_csv(pickles_path+\"df_labels__frame_%d__%s__voxel_size_%d.p\"%(frame_idx, vid, voxel_size))\n",
      "6583\n",
      "0.07779240608215332 : save_frame_for_movie(df_frame_orig_subtracted, \"tmp_only_labeled/\", all_files, frame_idx)\n"
     ]
    },
    {
     "name": "stderr",
     "output_type": "stream",
     "text": [
      "\r",
      "  5%|███████▋                                                                                                                                                       | 43/885 [04:03<1:19:28,  5.66s/it]"
     ]
    },
    {
     "name": "stdout",
     "output_type": "stream",
     "text": [
      "=========================================================================\n",
      "frame_idx = 58\n",
      "=========================================================================\n",
      "0.0 : list_idx = get_list_idx_for_frame(frame_idx, n_frames_per_side, shift)\n",
      "4.6445770263671875 : df_subtracted_frame = get_df_voxel_subtracted_frame(list_df_voxel_scene, frame_idx, n_frames_per_side, shift)\n",
      "1.2417123317718506 : df_frame_orig['voxel_id'] =  df_frame_orig.apply(lambda x: point_to_voxel(x, voxel_size), axis=1)\n",
      "0.000997304916381836 : df_labels = df_frame_orig.voxel_id.isin(df_subtracted_frame.voxel_id)\n",
      "(796, 5)\n",
      "0.14563536643981934 : df_frame_orig_subtracted = df_frame_orig[df_labels]\n",
      "(7063, 5)\n",
      "file_labels: voxelling_output/submission_files/vid_1_pred_lee/0000058_labels.csv\n",
      "0.07978582382202148 : df_labels.to_csv(pickles_path+\"df_labels__frame_%d__%s__voxel_size_%d.p\"%(frame_idx, vid, voxel_size))\n",
      "7063\n",
      "0.057851552963256836 : save_frame_for_movie(df_frame_orig_subtracted, \"tmp_only_labeled/\", all_files, frame_idx)\n"
     ]
    },
    {
     "name": "stderr",
     "output_type": "stream",
     "text": [
      "\r",
      "  5%|███████▉                                                                                                                                                       | 44/885 [04:09<1:19:33,  5.68s/it]"
     ]
    },
    {
     "name": "stdout",
     "output_type": "stream",
     "text": [
      "=========================================================================\n",
      "frame_idx = 59\n",
      "=========================================================================\n",
      "0.0 : list_idx = get_list_idx_for_frame(frame_idx, n_frames_per_side, shift)\n",
      "4.934800386428833 : df_subtracted_frame = get_df_voxel_subtracted_frame(list_df_voxel_scene, frame_idx, n_frames_per_side, shift)\n",
      "1.2097647190093994 : df_frame_orig['voxel_id'] =  df_frame_orig.apply(lambda x: point_to_voxel(x, voxel_size), axis=1)\n",
      "0.0009970664978027344 : df_labels = df_frame_orig.voxel_id.isin(df_subtracted_frame.voxel_id)\n",
      "(684, 5)\n",
      "0.14464521408081055 : df_frame_orig_subtracted = df_frame_orig[df_labels]\n",
      "(7100, 5)\n",
      "file_labels: voxelling_output/submission_files/vid_1_pred_lee/0000059_labels.csv\n",
      "0.08774447441101074 : df_labels.to_csv(pickles_path+\"df_labels__frame_%d__%s__voxel_size_%d.p\"%(frame_idx, vid, voxel_size))\n",
      "7100\n",
      "0.06282782554626465 : save_frame_for_movie(df_frame_orig_subtracted, \"tmp_only_labeled/\", all_files, frame_idx)\n"
     ]
    },
    {
     "name": "stderr",
     "output_type": "stream",
     "text": [
      "\r",
      "  5%|████████                                                                                                                                                       | 45/885 [04:16<1:19:42,  5.69s/it]"
     ]
    },
    {
     "name": "stdout",
     "output_type": "stream",
     "text": [
      "=========================================================================\n",
      "frame_idx = 60\n",
      "=========================================================================\n",
      "0.0 : list_idx = get_list_idx_for_frame(frame_idx, n_frames_per_side, shift)\n",
      "4.579533815383911 : df_subtracted_frame = get_df_voxel_subtracted_frame(list_df_voxel_scene, frame_idx, n_frames_per_side, shift)\n",
      "1.2247238159179688 : df_frame_orig['voxel_id'] =  df_frame_orig.apply(lambda x: point_to_voxel(x, voxel_size), axis=1)\n",
      "0.0010035037994384766 : df_labels = df_frame_orig.voxel_id.isin(df_subtracted_frame.voxel_id)\n",
      "(634, 5)\n",
      "0.1462082862854004 : df_frame_orig_subtracted = df_frame_orig[df_labels]\n",
      "(7242, 5)\n",
      "file_labels: voxelling_output/submission_files/vid_1_pred_lee/0000060_labels.csv\n",
      "0.10073089599609375 : df_labels.to_csv(pickles_path+\"df_labels__frame_%d__%s__voxel_size_%d.p\"%(frame_idx, vid, voxel_size))\n",
      "7242\n",
      "0.07579708099365234 : save_frame_for_movie(df_frame_orig_subtracted, \"tmp_only_labeled/\", all_files, frame_idx)\n"
     ]
    },
    {
     "name": "stderr",
     "output_type": "stream",
     "text": [
      "\r",
      "  5%|████████▎                                                                                                                                                      | 46/885 [04:22<1:19:45,  5.70s/it]"
     ]
    },
    {
     "name": "stdout",
     "output_type": "stream",
     "text": [
      "=========================================================================\n",
      "frame_idx = 61\n",
      "=========================================================================\n",
      "0.0 : list_idx = get_list_idx_for_frame(frame_idx, n_frames_per_side, shift)\n",
      "5.052485227584839 : df_subtracted_frame = get_df_voxel_subtracted_frame(list_df_voxel_scene, frame_idx, n_frames_per_side, shift)\n",
      "1.345402479171753 : df_frame_orig['voxel_id'] =  df_frame_orig.apply(lambda x: point_to_voxel(x, voxel_size), axis=1)\n",
      "0.0019941329956054688 : df_labels = df_frame_orig.voxel_id.isin(df_subtracted_frame.voxel_id)\n",
      "(589, 5)\n",
      "0.1635584831237793 : df_frame_orig_subtracted = df_frame_orig[df_labels]\n",
      "(6450, 5)\n",
      "file_labels: voxelling_output/submission_files/vid_1_pred_lee/0000061_labels.csv\n",
      "0.08678841590881348 : df_labels.to_csv(pickles_path+\"df_labels__frame_%d__%s__voxel_size_%d.p\"%(frame_idx, vid, voxel_size))\n",
      "6450\n",
      "0.05788135528564453 : save_frame_for_movie(df_frame_orig_subtracted, \"tmp_only_labeled/\", all_files, frame_idx)\n"
     ]
    },
    {
     "name": "stderr",
     "output_type": "stream",
     "text": [
      "\r",
      "  5%|████████▍                                                                                                                                                      | 47/885 [04:29<1:19:57,  5.73s/it]"
     ]
    },
    {
     "name": "stdout",
     "output_type": "stream",
     "text": [
      "=========================================================================\n",
      "frame_idx = 62\n",
      "=========================================================================\n",
      "0.000997304916381836 : list_idx = get_list_idx_for_frame(frame_idx, n_frames_per_side, shift)\n",
      "5.030542850494385 : df_subtracted_frame = get_df_voxel_subtracted_frame(list_df_voxel_scene, frame_idx, n_frames_per_side, shift)\n",
      "1.301680326461792 : df_frame_orig['voxel_id'] =  df_frame_orig.apply(lambda x: point_to_voxel(x, voxel_size), axis=1)\n",
      "0.001995563507080078 : df_labels = df_frame_orig.voxel_id.isin(df_subtracted_frame.voxel_id)\n",
      "(731, 5)\n",
      "0.14560866355895996 : df_frame_orig_subtracted = df_frame_orig[df_labels]\n",
      "(6161, 5)\n",
      "file_labels: voxelling_output/submission_files/vid_1_pred_lee/0000062_labels.csv\n",
      "0.08477020263671875 : df_labels.to_csv(pickles_path+\"df_labels__frame_%d__%s__voxel_size_%d.p\"%(frame_idx, vid, voxel_size))\n",
      "6161\n",
      "0.0498659610748291 : save_frame_for_movie(df_frame_orig_subtracted, \"tmp_only_labeled/\", all_files, frame_idx)\n"
     ]
    },
    {
     "name": "stderr",
     "output_type": "stream",
     "text": [
      "\r",
      "  5%|████████▌                                                                                                                                                      | 48/885 [04:35<1:20:08,  5.74s/it]"
     ]
    },
    {
     "name": "stdout",
     "output_type": "stream",
     "text": [
      "=========================================================================\n",
      "frame_idx = 63\n",
      "=========================================================================\n",
      "0.0 : list_idx = get_list_idx_for_frame(frame_idx, n_frames_per_side, shift)\n",
      "4.732336759567261 : df_subtracted_frame = get_df_voxel_subtracted_frame(list_df_voxel_scene, frame_idx, n_frames_per_side, shift)\n",
      "1.1678779125213623 : df_frame_orig['voxel_id'] =  df_frame_orig.apply(lambda x: point_to_voxel(x, voxel_size), axis=1)\n",
      "0.001997709274291992 : df_labels = df_frame_orig.voxel_id.isin(df_subtracted_frame.voxel_id)\n",
      "(856, 5)\n",
      "0.1416158676147461 : df_frame_orig_subtracted = df_frame_orig[df_labels]\n",
      "(6434, 5)\n",
      "file_labels: voxelling_output/submission_files/vid_1_pred_lee/0000063_labels.csv\n",
      "0.08078312873840332 : df_labels.to_csv(pickles_path+\"df_labels__frame_%d__%s__voxel_size_%d.p\"%(frame_idx, vid, voxel_size))\n",
      "6434\n",
      "0.05485224723815918 : save_frame_for_movie(df_frame_orig_subtracted, \"tmp_only_labeled/\", all_files, frame_idx)\n"
     ]
    },
    {
     "name": "stderr",
     "output_type": "stream",
     "text": [
      "\r",
      "  6%|████████▊                                                                                                                                                      | 49/885 [04:41<1:20:10,  5.75s/it]"
     ]
    },
    {
     "name": "stdout",
     "output_type": "stream",
     "text": [
      "=========================================================================\n",
      "frame_idx = 64\n",
      "=========================================================================\n",
      "0.0 : list_idx = get_list_idx_for_frame(frame_idx, n_frames_per_side, shift)\n",
      "4.76529335975647 : df_subtracted_frame = get_df_voxel_subtracted_frame(list_df_voxel_scene, frame_idx, n_frames_per_side, shift)\n",
      "1.2197232246398926 : df_frame_orig['voxel_id'] =  df_frame_orig.apply(lambda x: point_to_voxel(x, voxel_size), axis=1)\n",
      "0.001990079879760742 : df_labels = df_frame_orig.voxel_id.isin(df_subtracted_frame.voxel_id)\n",
      "(800, 5)\n",
      "0.1266956329345703 : df_frame_orig_subtracted = df_frame_orig[df_labels]\n",
      "(6778, 5)\n",
      "file_labels: voxelling_output/submission_files/vid_1_pred_lee/0000064_labels.csv\n",
      "0.09574460983276367 : df_labels.to_csv(pickles_path+\"df_labels__frame_%d__%s__voxel_size_%d.p\"%(frame_idx, vid, voxel_size))\n",
      "6778\n",
      "0.056847333908081055 : save_frame_for_movie(df_frame_orig_subtracted, \"tmp_only_labeled/\", all_files, frame_idx)\n"
     ]
    },
    {
     "name": "stderr",
     "output_type": "stream",
     "text": [
      "\r",
      "  6%|████████▉                                                                                                                                                      | 50/885 [04:48<1:20:13,  5.76s/it]"
     ]
    },
    {
     "name": "stdout",
     "output_type": "stream",
     "text": [
      "=========================================================================\n",
      "frame_idx = 65\n",
      "=========================================================================\n",
      "0.0 : list_idx = get_list_idx_for_frame(frame_idx, n_frames_per_side, shift)\n",
      "4.9935462474823 : df_subtracted_frame = get_df_voxel_subtracted_frame(list_df_voxel_scene, frame_idx, n_frames_per_side, shift)\n",
      "1.227754831314087 : df_frame_orig['voxel_id'] =  df_frame_orig.apply(lambda x: point_to_voxel(x, voxel_size), axis=1)\n",
      "0.0009975433349609375 : df_labels = df_frame_orig.voxel_id.isin(df_subtracted_frame.voxel_id)\n",
      "(658, 5)\n",
      "0.14764142036437988 : df_frame_orig_subtracted = df_frame_orig[df_labels]\n",
      "(7232, 5)\n",
      "file_labels: voxelling_output/submission_files/vid_1_pred_lee/0000065_labels.csv\n",
      "0.0857694149017334 : df_labels.to_csv(pickles_path+\"df_labels__frame_%d__%s__voxel_size_%d.p\"%(frame_idx, vid, voxel_size))\n",
      "7232\n",
      "0.06581997871398926 : save_frame_for_movie(df_frame_orig_subtracted, \"tmp_only_labeled/\", all_files, frame_idx)\n"
     ]
    },
    {
     "name": "stderr",
     "output_type": "stream",
     "text": [
      "\r",
      "  6%|█████████▏                                                                                                                                                     | 51/885 [04:54<1:20:20,  5.78s/it]"
     ]
    },
    {
     "name": "stdout",
     "output_type": "stream",
     "text": [
      "=========================================================================\n",
      "frame_idx = 66\n",
      "=========================================================================\n",
      "0.0 : list_idx = get_list_idx_for_frame(frame_idx, n_frames_per_side, shift)\n",
      "5.139279365539551 : df_subtracted_frame = get_df_voxel_subtracted_frame(list_df_voxel_scene, frame_idx, n_frames_per_side, shift)\n",
      "1.2895379066467285 : df_frame_orig['voxel_id'] =  df_frame_orig.apply(lambda x: point_to_voxel(x, voxel_size), axis=1)\n",
      "0.0019943714141845703 : df_labels = df_frame_orig.voxel_id.isin(df_subtracted_frame.voxel_id)\n",
      "(556, 5)\n",
      "0.16755175590515137 : df_frame_orig_subtracted = df_frame_orig[df_labels]\n",
      "(7535, 5)\n",
      "file_labels: voxelling_output/submission_files/vid_1_pred_lee/0000066_labels.csv\n",
      "0.10272479057312012 : df_labels.to_csv(pickles_path+\"df_labels__frame_%d__%s__voxel_size_%d.p\"%(frame_idx, vid, voxel_size))\n",
      "7535\n",
      "0.06984138488769531 : save_frame_for_movie(df_frame_orig_subtracted, \"tmp_only_labeled/\", all_files, frame_idx)\n"
     ]
    },
    {
     "name": "stderr",
     "output_type": "stream",
     "text": [
      "\r",
      "  6%|█████████▎                                                                                                                                                     | 52/885 [05:01<1:20:30,  5.80s/it]"
     ]
    },
    {
     "name": "stdout",
     "output_type": "stream",
     "text": [
      "=========================================================================\n",
      "frame_idx = 67\n",
      "=========================================================================\n",
      "0.000995635986328125 : list_idx = get_list_idx_for_frame(frame_idx, n_frames_per_side, shift)\n",
      "5.201088905334473 : df_subtracted_frame = get_df_voxel_subtracted_frame(list_df_voxel_scene, frame_idx, n_frames_per_side, shift)\n",
      "1.3394091129302979 : df_frame_orig['voxel_id'] =  df_frame_orig.apply(lambda x: point_to_voxel(x, voxel_size), axis=1)\n",
      "0.0009963512420654297 : df_labels = df_frame_orig.voxel_id.isin(df_subtracted_frame.voxel_id)\n",
      "(436, 5)\n",
      "0.14062237739562988 : df_frame_orig_subtracted = df_frame_orig[df_labels]\n",
      "(8097, 5)\n",
      "file_labels: voxelling_output/submission_files/vid_1_pred_lee/0000067_labels.csv\n",
      "0.0967409610748291 : df_labels.to_csv(pickles_path+\"df_labels__frame_%d__%s__voxel_size_%d.p\"%(frame_idx, vid, voxel_size))\n",
      "8097\n",
      "0.0747990608215332 : save_frame_for_movie(df_frame_orig_subtracted, \"tmp_only_labeled/\", all_files, frame_idx)\n"
     ]
    },
    {
     "name": "stderr",
     "output_type": "stream",
     "text": [
      "\r",
      "  6%|█████████▌                                                                                                                                                     | 53/885 [05:08<1:20:42,  5.82s/it]"
     ]
    },
    {
     "name": "stdout",
     "output_type": "stream",
     "text": [
      "=========================================================================\n",
      "frame_idx = 68\n",
      "=========================================================================\n",
      "0.0 : list_idx = get_list_idx_for_frame(frame_idx, n_frames_per_side, shift)\n",
      "5.00062370300293 : df_subtracted_frame = get_df_voxel_subtracted_frame(list_df_voxel_scene, frame_idx, n_frames_per_side, shift)\n",
      "1.3842964172363281 : df_frame_orig['voxel_id'] =  df_frame_orig.apply(lambda x: point_to_voxel(x, voxel_size), axis=1)\n",
      "0.0019948482513427734 : df_labels = df_frame_orig.voxel_id.isin(df_subtracted_frame.voxel_id)\n",
      "(463, 5)\n",
      "0.1575770378112793 : df_frame_orig_subtracted = df_frame_orig[df_labels]\n",
      "(8627, 5)\n",
      "file_labels: voxelling_output/submission_files/vid_1_pred_lee/0000068_labels.csv\n",
      "0.09773826599121094 : df_labels.to_csv(pickles_path+\"df_labels__frame_%d__%s__voxel_size_%d.p\"%(frame_idx, vid, voxel_size))\n",
      "8627\n",
      "0.07180666923522949 : save_frame_for_movie(df_frame_orig_subtracted, \"tmp_only_labeled/\", all_files, frame_idx)\n"
     ]
    },
    {
     "name": "stderr",
     "output_type": "stream",
     "text": [
      "\r",
      "  6%|█████████▋                                                                                                                                                     | 54/885 [05:15<1:20:50,  5.84s/it]"
     ]
    },
    {
     "name": "stdout",
     "output_type": "stream",
     "text": [
      "=========================================================================\n",
      "frame_idx = 69\n",
      "=========================================================================\n",
      "0.0 : list_idx = get_list_idx_for_frame(frame_idx, n_frames_per_side, shift)\n",
      "5.078399419784546 : df_subtracted_frame = get_df_voxel_subtracted_frame(list_df_voxel_scene, frame_idx, n_frames_per_side, shift)\n",
      "1.2666015625 : df_frame_orig['voxel_id'] =  df_frame_orig.apply(lambda x: point_to_voxel(x, voxel_size), axis=1)\n",
      "0.0009865760803222656 : df_labels = df_frame_orig.voxel_id.isin(df_subtracted_frame.voxel_id)\n",
      "(533, 5)\n",
      "0.14763236045837402 : df_frame_orig_subtracted = df_frame_orig[df_labels]\n",
      "(8962, 5)\n",
      "file_labels: voxelling_output/submission_files/vid_1_pred_lee/0000069_labels.csv\n",
      "0.08480501174926758 : df_labels.to_csv(pickles_path+\"df_labels__frame_%d__%s__voxel_size_%d.p\"%(frame_idx, vid, voxel_size))\n",
      "8962\n",
      "0.12806224822998047 : save_frame_for_movie(df_frame_orig_subtracted, \"tmp_only_labeled/\", all_files, frame_idx)\n"
     ]
    },
    {
     "name": "stderr",
     "output_type": "stream",
     "text": [
      "\r",
      "  6%|█████████▉                                                                                                                                                     | 55/885 [05:21<1:20:58,  5.85s/it]"
     ]
    },
    {
     "name": "stdout",
     "output_type": "stream",
     "text": [
      "=========================================================================\n",
      "frame_idx = 70\n",
      "=========================================================================\n",
      "0.0 : list_idx = get_list_idx_for_frame(frame_idx, n_frames_per_side, shift)\n",
      "4.942811727523804 : df_subtracted_frame = get_df_voxel_subtracted_frame(list_df_voxel_scene, frame_idx, n_frames_per_side, shift)\n",
      "1.250671625137329 : df_frame_orig['voxel_id'] =  df_frame_orig.apply(lambda x: point_to_voxel(x, voxel_size), axis=1)\n",
      "0.0019936561584472656 : df_labels = df_frame_orig.voxel_id.isin(df_subtracted_frame.voxel_id)\n",
      "(613, 5)\n",
      "0.14460277557373047 : df_frame_orig_subtracted = df_frame_orig[df_labels]\n",
      "(8278, 5)\n",
      "file_labels: voxelling_output/submission_files/vid_1_pred_lee/0000070_labels.csv\n",
      "0.10272526741027832 : df_labels.to_csv(pickles_path+\"df_labels__frame_%d__%s__voxel_size_%d.p\"%(frame_idx, vid, voxel_size))\n",
      "8278\n",
      "0.06682062149047852 : save_frame_for_movie(df_frame_orig_subtracted, \"tmp_only_labeled/\", all_files, frame_idx)\n"
     ]
    },
    {
     "name": "stderr",
     "output_type": "stream",
     "text": [
      "\r",
      "  6%|██████████                                                                                                                                                     | 56/885 [05:28<1:21:02,  5.87s/it]"
     ]
    },
    {
     "name": "stdout",
     "output_type": "stream",
     "text": [
      "=========================================================================\n",
      "frame_idx = 71\n",
      "=========================================================================\n",
      "0.0 : list_idx = get_list_idx_for_frame(frame_idx, n_frames_per_side, shift)\n",
      "5.014575958251953 : df_subtracted_frame = get_df_voxel_subtracted_frame(list_df_voxel_scene, frame_idx, n_frames_per_side, shift)\n",
      "1.2746155261993408 : df_frame_orig['voxel_id'] =  df_frame_orig.apply(lambda x: point_to_voxel(x, voxel_size), axis=1)\n",
      "0.0019943714141845703 : df_labels = df_frame_orig.voxel_id.isin(df_subtracted_frame.voxel_id)\n",
      "(662, 5)\n",
      "0.16058063507080078 : df_frame_orig_subtracted = df_frame_orig[df_labels]\n",
      "(7483, 5)\n",
      "file_labels: voxelling_output/submission_files/vid_1_pred_lee/0000071_labels.csv\n",
      "0.09075713157653809 : df_labels.to_csv(pickles_path+\"df_labels__frame_%d__%s__voxel_size_%d.p\"%(frame_idx, vid, voxel_size))\n",
      "7483\n",
      "0.060837745666503906 : save_frame_for_movie(df_frame_orig_subtracted, \"tmp_only_labeled/\", all_files, frame_idx)\n"
     ]
    },
    {
     "name": "stderr",
     "output_type": "stream",
     "text": [
      "\r",
      "  6%|██████████▏                                                                                                                                                    | 57/885 [05:35<1:21:07,  5.88s/it]"
     ]
    },
    {
     "name": "stdout",
     "output_type": "stream",
     "text": [
      "=========================================================================\n",
      "frame_idx = 72\n",
      "=========================================================================\n",
      "0.0 : list_idx = get_list_idx_for_frame(frame_idx, n_frames_per_side, shift)\n",
      "4.919840097427368 : df_subtracted_frame = get_df_voxel_subtracted_frame(list_df_voxel_scene, frame_idx, n_frames_per_side, shift)\n",
      "1.2303433418273926 : df_frame_orig['voxel_id'] =  df_frame_orig.apply(lambda x: point_to_voxel(x, voxel_size), axis=1)\n",
      "0.0009818077087402344 : df_labels = df_frame_orig.voxel_id.isin(df_subtracted_frame.voxel_id)\n",
      "(703, 5)\n",
      "0.15657973289489746 : df_frame_orig_subtracted = df_frame_orig[df_labels]\n",
      "(6064, 5)\n",
      "file_labels: voxelling_output/submission_files/vid_1_pred_lee/0000072_labels.csv\n",
      "0.08975982666015625 : df_labels.to_csv(pickles_path+\"df_labels__frame_%d__%s__voxel_size_%d.p\"%(frame_idx, vid, voxel_size))\n",
      "6064\n",
      "0.05185580253601074 : save_frame_for_movie(df_frame_orig_subtracted, \"tmp_only_labeled/\", all_files, frame_idx)\n"
     ]
    },
    {
     "name": "stderr",
     "output_type": "stream",
     "text": [
      "\r",
      "  7%|██████████▍                                                                                                                                                    | 58/885 [05:41<1:21:10,  5.89s/it]"
     ]
    },
    {
     "name": "stdout",
     "output_type": "stream",
     "text": [
      "=========================================================================\n",
      "frame_idx = 73\n",
      "=========================================================================\n",
      "0.0009965896606445312 : list_idx = get_list_idx_for_frame(frame_idx, n_frames_per_side, shift)\n",
      "5.6299309730529785 : df_subtracted_frame = get_df_voxel_subtracted_frame(list_df_voxel_scene, frame_idx, n_frames_per_side, shift)\n",
      "1.2517061233520508 : df_frame_orig['voxel_id'] =  df_frame_orig.apply(lambda x: point_to_voxel(x, voxel_size), axis=1)\n",
      "0.0010178089141845703 : df_labels = df_frame_orig.voxel_id.isin(df_subtracted_frame.voxel_id)\n",
      "(769, 5)\n",
      "0.17353391647338867 : df_frame_orig_subtracted = df_frame_orig[df_labels]\n",
      "(4620, 5)\n",
      "file_labels: voxelling_output/submission_files/vid_1_pred_lee/0000073_labels.csv\n",
      "0.10072946548461914 : df_labels.to_csv(pickles_path+\"df_labels__frame_%d__%s__voxel_size_%d.p\"%(frame_idx, vid, voxel_size))\n",
      "4620\n",
      "0.04886984825134277 : save_frame_for_movie(df_frame_orig_subtracted, \"tmp_only_labeled/\", all_files, frame_idx)\n"
     ]
    },
    {
     "name": "stderr",
     "output_type": "stream",
     "text": [
      "\r",
      "  7%|██████████▌                                                                                                                                                    | 59/885 [05:48<1:21:23,  5.91s/it]"
     ]
    },
    {
     "name": "stdout",
     "output_type": "stream",
     "text": [
      "=========================================================================\n",
      "frame_idx = 74\n",
      "=========================================================================\n",
      "0.0 : list_idx = get_list_idx_for_frame(frame_idx, n_frames_per_side, shift)\n",
      "4.830140590667725 : df_subtracted_frame = get_df_voxel_subtracted_frame(list_df_voxel_scene, frame_idx, n_frames_per_side, shift)\n",
      "1.1300055980682373 : df_frame_orig['voxel_id'] =  df_frame_orig.apply(lambda x: point_to_voxel(x, voxel_size), axis=1)\n",
      "0.0019943714141845703 : df_labels = df_frame_orig.voxel_id.isin(df_subtracted_frame.voxel_id)\n",
      "(701, 5)\n",
      "0.1495985984802246 : df_frame_orig_subtracted = df_frame_orig[df_labels]\n",
      "(2942, 5)\n",
      "file_labels: voxelling_output/submission_files/vid_1_pred_lee/0000074_labels.csv\n",
      "0.09574651718139648 : df_labels.to_csv(pickles_path+\"df_labels__frame_%d__%s__voxel_size_%d.p\"%(frame_idx, vid, voxel_size))\n",
      "2942\n",
      "0.03789877891540527 : save_frame_for_movie(df_frame_orig_subtracted, \"tmp_only_labeled/\", all_files, frame_idx)\n"
     ]
    },
    {
     "name": "stderr",
     "output_type": "stream",
     "text": [
      "\r",
      "  7%|██████████▊                                                                                                                                                    | 60/885 [05:55<1:21:22,  5.92s/it]"
     ]
    },
    {
     "name": "stdout",
     "output_type": "stream",
     "text": [
      "=========================================================================\n",
      "frame_idx = 75\n",
      "=========================================================================\n",
      "0.0 : list_idx = get_list_idx_for_frame(frame_idx, n_frames_per_side, shift)\n",
      "4.745399475097656 : df_subtracted_frame = get_df_voxel_subtracted_frame(list_df_voxel_scene, frame_idx, n_frames_per_side, shift)\n",
      "1.103083848953247 : df_frame_orig['voxel_id'] =  df_frame_orig.apply(lambda x: point_to_voxel(x, voxel_size), axis=1)\n",
      "0.0019567012786865234 : df_labels = df_frame_orig.voxel_id.isin(df_subtracted_frame.voxel_id)\n",
      "(642, 5)\n",
      "0.13165664672851562 : df_frame_orig_subtracted = df_frame_orig[df_labels]\n",
      "(2619, 5)\n",
      "file_labels: voxelling_output/submission_files/vid_1_pred_lee/0000075_labels.csv\n",
      "0.08076834678649902 : df_labels.to_csv(pickles_path+\"df_labels__frame_%d__%s__voxel_size_%d.p\"%(frame_idx, vid, voxel_size))\n",
      "2619\n",
      "0.029919147491455078 : save_frame_for_movie(df_frame_orig_subtracted, \"tmp_only_labeled/\", all_files, frame_idx)\n"
     ]
    },
    {
     "name": "stderr",
     "output_type": "stream",
     "text": [
      "\r",
      "  7%|██████████▉                                                                                                                                                    | 61/885 [06:01<1:21:18,  5.92s/it]"
     ]
    },
    {
     "name": "stdout",
     "output_type": "stream",
     "text": [
      "=========================================================================\n",
      "frame_idx = 76\n",
      "=========================================================================\n",
      "0.000997304916381836 : list_idx = get_list_idx_for_frame(frame_idx, n_frames_per_side, shift)\n",
      "4.872196197509766 : df_subtracted_frame = get_df_voxel_subtracted_frame(list_df_voxel_scene, frame_idx, n_frames_per_side, shift)\n",
      "1.1870191097259521 : df_frame_orig['voxel_id'] =  df_frame_orig.apply(lambda x: point_to_voxel(x, voxel_size), axis=1)\n",
      "0.0019931793212890625 : df_labels = df_frame_orig.voxel_id.isin(df_subtracted_frame.voxel_id)\n",
      "(524, 5)\n",
      "0.14962983131408691 : df_frame_orig_subtracted = df_frame_orig[df_labels]\n",
      "(2618, 5)\n",
      "file_labels: voxelling_output/submission_files/vid_1_pred_lee/0000076_labels.csv\n",
      "0.08178114891052246 : df_labels.to_csv(pickles_path+\"df_labels__frame_%d__%s__voxel_size_%d.p\"%(frame_idx, vid, voxel_size))\n",
      "2618\n",
      "0.0279390811920166 : save_frame_for_movie(df_frame_orig_subtracted, \"tmp_only_labeled/\", all_files, frame_idx)\n"
     ]
    },
    {
     "name": "stderr",
     "output_type": "stream",
     "text": [
      "\r",
      "  7%|███████████▏                                                                                                                                                   | 62/885 [06:07<1:21:18,  5.93s/it]"
     ]
    },
    {
     "name": "stdout",
     "output_type": "stream",
     "text": [
      "=========================================================================\n",
      "frame_idx = 77\n",
      "=========================================================================\n",
      "0.000995635986328125 : list_idx = get_list_idx_for_frame(frame_idx, n_frames_per_side, shift)\n",
      "4.821103572845459 : df_subtracted_frame = get_df_voxel_subtracted_frame(list_df_voxel_scene, frame_idx, n_frames_per_side, shift)\n",
      "1.2387197017669678 : df_frame_orig['voxel_id'] =  df_frame_orig.apply(lambda x: point_to_voxel(x, voxel_size), axis=1)\n",
      "0.0010089874267578125 : df_labels = df_frame_orig.voxel_id.isin(df_subtracted_frame.voxel_id)\n",
      "(442, 5)\n",
      "0.12865519523620605 : df_frame_orig_subtracted = df_frame_orig[df_labels]\n",
      "(2329, 5)\n",
      "file_labels: voxelling_output/submission_files/vid_1_pred_lee/0000077_labels.csv\n",
      "0.07878828048706055 : df_labels.to_csv(pickles_path+\"df_labels__frame_%d__%s__voxel_size_%d.p\"%(frame_idx, vid, voxel_size))\n",
      "2329\n",
      "0.02992081642150879 : save_frame_for_movie(df_frame_orig_subtracted, \"tmp_only_labeled/\", all_files, frame_idx)\n"
     ]
    },
    {
     "name": "stderr",
     "output_type": "stream",
     "text": [
      "\r",
      "  7%|███████████▎                                                                                                                                                   | 63/885 [06:13<1:21:17,  5.93s/it]"
     ]
    },
    {
     "name": "stdout",
     "output_type": "stream",
     "text": [
      "=========================================================================\n",
      "frame_idx = 78\n",
      "=========================================================================\n",
      "0.0 : list_idx = get_list_idx_for_frame(frame_idx, n_frames_per_side, shift)\n",
      "4.895771026611328 : df_subtracted_frame = get_df_voxel_subtracted_frame(list_df_voxel_scene, frame_idx, n_frames_per_side, shift)\n",
      "1.1409883499145508 : df_frame_orig['voxel_id'] =  df_frame_orig.apply(lambda x: point_to_voxel(x, voxel_size), axis=1)\n",
      "0.0009818077087402344 : df_labels = df_frame_orig.voxel_id.isin(df_subtracted_frame.voxel_id)\n",
      "(336, 5)\n",
      "0.13167715072631836 : df_frame_orig_subtracted = df_frame_orig[df_labels]\n",
      "(2672, 5)\n",
      "file_labels: voxelling_output/submission_files/vid_1_pred_lee/0000078_labels.csv\n",
      "0.08003520965576172 : df_labels.to_csv(pickles_path+\"df_labels__frame_%d__%s__voxel_size_%d.p\"%(frame_idx, vid, voxel_size))\n",
      "2672\n",
      "0.02792668342590332 : save_frame_for_movie(df_frame_orig_subtracted, \"tmp_only_labeled/\", all_files, frame_idx)\n"
     ]
    },
    {
     "name": "stderr",
     "output_type": "stream",
     "text": [
      "\r",
      "  7%|███████████▍                                                                                                                                                   | 64/885 [06:20<1:21:16,  5.94s/it]"
     ]
    },
    {
     "name": "stdout",
     "output_type": "stream",
     "text": [
      "=========================================================================\n",
      "frame_idx = 79\n",
      "=========================================================================\n",
      "0.0 : list_idx = get_list_idx_for_frame(frame_idx, n_frames_per_side, shift)\n",
      "4.804184913635254 : df_subtracted_frame = get_df_voxel_subtracted_frame(list_df_voxel_scene, frame_idx, n_frames_per_side, shift)\n",
      "1.1339516639709473 : df_frame_orig['voxel_id'] =  df_frame_orig.apply(lambda x: point_to_voxel(x, voxel_size), axis=1)\n",
      "0.0009975433349609375 : df_labels = df_frame_orig.voxel_id.isin(df_subtracted_frame.voxel_id)\n",
      "(241, 5)\n",
      "0.14560937881469727 : df_frame_orig_subtracted = df_frame_orig[df_labels]\n",
      "(2416, 5)\n",
      "file_labels: voxelling_output/submission_files/vid_1_pred_lee/0000079_labels.csv\n",
      "0.09773850440979004 : df_labels.to_csv(pickles_path+\"df_labels__frame_%d__%s__voxel_size_%d.p\"%(frame_idx, vid, voxel_size))\n",
      "2416\n",
      "0.03490900993347168 : save_frame_for_movie(df_frame_orig_subtracted, \"tmp_only_labeled/\", all_files, frame_idx)\n"
     ]
    },
    {
     "name": "stderr",
     "output_type": "stream",
     "text": [
      "\r",
      "  7%|███████████▋                                                                                                                                                   | 65/885 [06:26<1:21:14,  5.94s/it]"
     ]
    },
    {
     "name": "stdout",
     "output_type": "stream",
     "text": [
      "=========================================================================\n",
      "frame_idx = 80\n",
      "=========================================================================\n",
      "0.0 : list_idx = get_list_idx_for_frame(frame_idx, n_frames_per_side, shift)\n",
      "4.787195444107056 : df_subtracted_frame = get_df_voxel_subtracted_frame(list_df_voxel_scene, frame_idx, n_frames_per_side, shift)\n",
      "1.1619236469268799 : df_frame_orig['voxel_id'] =  df_frame_orig.apply(lambda x: point_to_voxel(x, voxel_size), axis=1)\n",
      "0.0059587955474853516 : df_labels = df_frame_orig.voxel_id.isin(df_subtracted_frame.voxel_id)\n",
      "(197, 5)\n",
      "0.1406552791595459 : df_frame_orig_subtracted = df_frame_orig[df_labels]\n",
      "(2235, 5)\n",
      "file_labels: voxelling_output/submission_files/vid_1_pred_lee/0000080_labels.csv\n",
      "0.08974528312683105 : df_labels.to_csv(pickles_path+\"df_labels__frame_%d__%s__voxel_size_%d.p\"%(frame_idx, vid, voxel_size))\n",
      "2235\n",
      "0.024933338165283203 : save_frame_for_movie(df_frame_orig_subtracted, \"tmp_only_labeled/\", all_files, frame_idx)\n"
     ]
    },
    {
     "name": "stderr",
     "output_type": "stream",
     "text": [
      "\r",
      "  7%|███████████▊                                                                                                                                                   | 66/885 [06:32<1:21:12,  5.95s/it]"
     ]
    },
    {
     "name": "stdout",
     "output_type": "stream",
     "text": [
      "=========================================================================\n",
      "frame_idx = 81\n",
      "=========================================================================\n",
      "0.0 : list_idx = get_list_idx_for_frame(frame_idx, n_frames_per_side, shift)\n",
      "4.826089859008789 : df_subtracted_frame = get_df_voxel_subtracted_frame(list_df_voxel_scene, frame_idx, n_frames_per_side, shift)\n",
      "1.2725965976715088 : df_frame_orig['voxel_id'] =  df_frame_orig.apply(lambda x: point_to_voxel(x, voxel_size), axis=1)\n",
      "0.0019981861114501953 : df_labels = df_frame_orig.voxel_id.isin(df_subtracted_frame.voxel_id)\n",
      "(217, 5)\n",
      "0.15062713623046875 : df_frame_orig_subtracted = df_frame_orig[df_labels]\n",
      "(2585, 5)\n",
      "file_labels: voxelling_output/submission_files/vid_1_pred_lee/0000081_labels.csv\n",
      "0.08779335021972656 : df_labels.to_csv(pickles_path+\"df_labels__frame_%d__%s__voxel_size_%d.p\"%(frame_idx, vid, voxel_size))\n",
      "2585\n",
      "0.028921842575073242 : save_frame_for_movie(df_frame_orig_subtracted, \"tmp_only_labeled/\", all_files, frame_idx)\n"
     ]
    },
    {
     "name": "stderr",
     "output_type": "stream",
     "text": [
      "\r",
      "  8%|████████████                                                                                                                                                   | 67/885 [06:39<1:21:11,  5.96s/it]"
     ]
    },
    {
     "name": "stdout",
     "output_type": "stream",
     "text": [
      "=========================================================================\n",
      "frame_idx = 82\n",
      "=========================================================================\n",
      "0.0 : list_idx = get_list_idx_for_frame(frame_idx, n_frames_per_side, shift)\n",
      "5.002619504928589 : df_subtracted_frame = get_df_voxel_subtracted_frame(list_df_voxel_scene, frame_idx, n_frames_per_side, shift)\n",
      "1.1579012870788574 : df_frame_orig['voxel_id'] =  df_frame_orig.apply(lambda x: point_to_voxel(x, voxel_size), axis=1)\n",
      "0.0009965896606445312 : df_labels = df_frame_orig.voxel_id.isin(df_subtracted_frame.voxel_id)\n",
      "(197, 5)\n",
      "0.14461255073547363 : df_frame_orig_subtracted = df_frame_orig[df_labels]\n",
      "(2118, 5)\n",
      "file_labels: voxelling_output/submission_files/vid_1_pred_lee/0000082_labels.csv\n",
      "0.09873580932617188 : df_labels.to_csv(pickles_path+\"df_labels__frame_%d__%s__voxel_size_%d.p\"%(frame_idx, vid, voxel_size))\n",
      "2118\n",
      "0.0219423770904541 : save_frame_for_movie(df_frame_orig_subtracted, \"tmp_only_labeled/\", all_files, frame_idx)\n"
     ]
    },
    {
     "name": "stderr",
     "output_type": "stream",
     "text": [
      "\r",
      "  8%|████████████▏                                                                                                                                                  | 68/885 [06:45<1:21:11,  5.96s/it]"
     ]
    },
    {
     "name": "stdout",
     "output_type": "stream",
     "text": [
      "=========================================================================\n",
      "frame_idx = 83\n",
      "=========================================================================\n",
      "0.0 : list_idx = get_list_idx_for_frame(frame_idx, n_frames_per_side, shift)\n",
      "4.960730791091919 : df_subtracted_frame = get_df_voxel_subtracted_frame(list_df_voxel_scene, frame_idx, n_frames_per_side, shift)\n",
      "1.249652624130249 : df_frame_orig['voxel_id'] =  df_frame_orig.apply(lambda x: point_to_voxel(x, voxel_size), axis=1)\n",
      "0.0019800662994384766 : df_labels = df_frame_orig.voxel_id.isin(df_subtracted_frame.voxel_id)\n",
      "(222, 5)\n",
      "0.1595745086669922 : df_frame_orig_subtracted = df_frame_orig[df_labels]\n",
      "(2445, 5)\n",
      "file_labels: voxelling_output/submission_files/vid_1_pred_lee/0000083_labels.csv\n",
      "0.08876252174377441 : df_labels.to_csv(pickles_path+\"df_labels__frame_%d__%s__voxel_size_%d.p\"%(frame_idx, vid, voxel_size))\n",
      "2445\n",
      "0.03291153907775879 : save_frame_for_movie(df_frame_orig_subtracted, \"tmp_only_labeled/\", all_files, frame_idx)\n"
     ]
    },
    {
     "name": "stderr",
     "output_type": "stream",
     "text": [
      "\r",
      "  8%|████████████▍                                                                                                                                                  | 69/885 [06:52<1:21:12,  5.97s/it]"
     ]
    },
    {
     "name": "stdout",
     "output_type": "stream",
     "text": [
      "=========================================================================\n",
      "frame_idx = 84\n",
      "=========================================================================\n",
      "0.0 : list_idx = get_list_idx_for_frame(frame_idx, n_frames_per_side, shift)\n",
      "5.130275726318359 : df_subtracted_frame = get_df_voxel_subtracted_frame(list_df_voxel_scene, frame_idx, n_frames_per_side, shift)\n",
      "1.2436692714691162 : df_frame_orig['voxel_id'] =  df_frame_orig.apply(lambda x: point_to_voxel(x, voxel_size), axis=1)\n",
      "0.00197601318359375 : df_labels = df_frame_orig.voxel_id.isin(df_subtracted_frame.voxel_id)\n",
      "(208, 5)\n",
      "0.1466226577758789 : df_frame_orig_subtracted = df_frame_orig[df_labels]\n",
      "(2115, 5)\n",
      "file_labels: voxelling_output/submission_files/vid_1_pred_lee/0000084_labels.csv\n",
      "0.07978582382202148 : df_labels.to_csv(pickles_path+\"df_labels__frame_%d__%s__voxel_size_%d.p\"%(frame_idx, vid, voxel_size))\n",
      "2115\n",
      "0.023967981338500977 : save_frame_for_movie(df_frame_orig_subtracted, \"tmp_only_labeled/\", all_files, frame_idx)\n"
     ]
    },
    {
     "name": "stderr",
     "output_type": "stream",
     "text": [
      "\r",
      "  8%|████████████▌                                                                                                                                                  | 70/885 [06:58<1:21:14,  5.98s/it]"
     ]
    },
    {
     "name": "stdout",
     "output_type": "stream",
     "text": [
      "=========================================================================\n",
      "frame_idx = 85\n",
      "=========================================================================\n",
      "0.0 : list_idx = get_list_idx_for_frame(frame_idx, n_frames_per_side, shift)\n",
      "5.024594783782959 : df_subtracted_frame = get_df_voxel_subtracted_frame(list_df_voxel_scene, frame_idx, n_frames_per_side, shift)\n",
      "1.2367236614227295 : df_frame_orig['voxel_id'] =  df_frame_orig.apply(lambda x: point_to_voxel(x, voxel_size), axis=1)\n",
      "0.0019969940185546875 : df_labels = df_frame_orig.voxel_id.isin(df_subtracted_frame.voxel_id)\n",
      "(226, 5)\n",
      "0.13763141632080078 : df_frame_orig_subtracted = df_frame_orig[df_labels]\n",
      "(2692, 5)\n",
      "file_labels: voxelling_output/submission_files/vid_1_pred_lee/0000085_labels.csv\n",
      "0.08476758003234863 : df_labels.to_csv(pickles_path+\"df_labels__frame_%d__%s__voxel_size_%d.p\"%(frame_idx, vid, voxel_size))\n",
      "2692\n",
      "0.031909942626953125 : save_frame_for_movie(df_frame_orig_subtracted, \"tmp_only_labeled/\", all_files, frame_idx)\n"
     ]
    },
    {
     "name": "stderr",
     "output_type": "stream",
     "text": [
      "\r",
      "  8%|████████████▊                                                                                                                                                  | 71/885 [07:05<1:21:14,  5.99s/it]"
     ]
    },
    {
     "name": "stdout",
     "output_type": "stream",
     "text": [
      "=========================================================================\n",
      "frame_idx = 86\n",
      "=========================================================================\n",
      "0.0 : list_idx = get_list_idx_for_frame(frame_idx, n_frames_per_side, shift)\n",
      "5.183193922042847 : df_subtracted_frame = get_df_voxel_subtracted_frame(list_df_voxel_scene, frame_idx, n_frames_per_side, shift)\n",
      "1.271630048751831 : df_frame_orig['voxel_id'] =  df_frame_orig.apply(lambda x: point_to_voxel(x, voxel_size), axis=1)\n",
      "0.000978708267211914 : df_labels = df_frame_orig.voxel_id.isin(df_subtracted_frame.voxel_id)\n",
      "(205, 5)\n",
      "0.13863515853881836 : df_frame_orig_subtracted = df_frame_orig[df_labels]\n",
      "(2329, 5)\n",
      "file_labels: voxelling_output/submission_files/vid_1_pred_lee/0000086_labels.csv\n",
      "0.08778095245361328 : df_labels.to_csv(pickles_path+\"df_labels__frame_%d__%s__voxel_size_%d.p\"%(frame_idx, vid, voxel_size))\n",
      "2329\n",
      "0.025928735733032227 : save_frame_for_movie(df_frame_orig_subtracted, \"tmp_only_labeled/\", all_files, frame_idx)\n"
     ]
    },
    {
     "name": "stderr",
     "output_type": "stream",
     "text": [
      "\r",
      "  8%|████████████▉                                                                                                                                                  | 72/885 [07:11<1:21:17,  6.00s/it]"
     ]
    },
    {
     "name": "stdout",
     "output_type": "stream",
     "text": [
      "=========================================================================\n",
      "frame_idx = 87\n",
      "=========================================================================\n",
      "0.0 : list_idx = get_list_idx_for_frame(frame_idx, n_frames_per_side, shift)\n",
      "4.9777257442474365 : df_subtracted_frame = get_df_voxel_subtracted_frame(list_df_voxel_scene, frame_idx, n_frames_per_side, shift)\n",
      "1.2038166522979736 : df_frame_orig['voxel_id'] =  df_frame_orig.apply(lambda x: point_to_voxel(x, voxel_size), axis=1)\n",
      "0.0019617080688476562 : df_labels = df_frame_orig.voxel_id.isin(df_subtracted_frame.voxel_id)\n",
      "(222, 5)\n",
      "0.13567042350769043 : df_frame_orig_subtracted = df_frame_orig[df_labels]\n",
      "(2600, 5)\n",
      "file_labels: voxelling_output/submission_files/vid_1_pred_lee/0000087_labels.csv\n",
      "0.08377575874328613 : df_labels.to_csv(pickles_path+\"df_labels__frame_%d__%s__voxel_size_%d.p\"%(frame_idx, vid, voxel_size))\n",
      "2600\n",
      "0.02891850471496582 : save_frame_for_movie(df_frame_orig_subtracted, \"tmp_only_labeled/\", all_files, frame_idx)\n"
     ]
    },
    {
     "name": "stderr",
     "output_type": "stream",
     "text": [
      "\r",
      "  8%|█████████████                                                                                                                                                  | 73/885 [07:18<1:21:16,  6.01s/it]"
     ]
    },
    {
     "name": "stdout",
     "output_type": "stream",
     "text": [
      "=========================================================================\n",
      "frame_idx = 88\n",
      "=========================================================================\n",
      "0.0009963512420654297 : list_idx = get_list_idx_for_frame(frame_idx, n_frames_per_side, shift)\n",
      "4.920873403549194 : df_subtracted_frame = get_df_voxel_subtracted_frame(list_df_voxel_scene, frame_idx, n_frames_per_side, shift)\n",
      "1.1878459453582764 : df_frame_orig['voxel_id'] =  df_frame_orig.apply(lambda x: point_to_voxel(x, voxel_size), axis=1)\n",
      "0.000997304916381836 : df_labels = df_frame_orig.voxel_id.isin(df_subtracted_frame.voxel_id)\n",
      "(205, 5)\n",
      "0.13365554809570312 : df_frame_orig_subtracted = df_frame_orig[df_labels]\n",
      "(2458, 5)\n",
      "file_labels: voxelling_output/submission_files/vid_1_pred_lee/0000088_labels.csv\n",
      "0.0857694149017334 : df_labels.to_csv(pickles_path+\"df_labels__frame_%d__%s__voxel_size_%d.p\"%(frame_idx, vid, voxel_size))\n",
      "2458\n",
      "0.02692890167236328 : save_frame_for_movie(df_frame_orig_subtracted, \"tmp_only_labeled/\", all_files, frame_idx)\n"
     ]
    },
    {
     "name": "stderr",
     "output_type": "stream",
     "text": [
      "\r",
      "  8%|█████████████▎                                                                                                                                                 | 74/885 [07:24<1:21:14,  6.01s/it]"
     ]
    },
    {
     "name": "stdout",
     "output_type": "stream",
     "text": [
      "=========================================================================\n",
      "frame_idx = 89\n",
      "=========================================================================\n",
      "0.0 : list_idx = get_list_idx_for_frame(frame_idx, n_frames_per_side, shift)\n",
      "5.15539813041687 : df_subtracted_frame = get_df_voxel_subtracted_frame(list_df_voxel_scene, frame_idx, n_frames_per_side, shift)\n",
      "1.1449298858642578 : df_frame_orig['voxel_id'] =  df_frame_orig.apply(lambda x: point_to_voxel(x, voxel_size), axis=1)\n",
      "0.001005411148071289 : df_labels = df_frame_orig.voxel_id.isin(df_subtracted_frame.voxel_id)\n",
      "(199, 5)\n",
      "0.12868642807006836 : df_frame_orig_subtracted = df_frame_orig[df_labels]\n",
      "(2277, 5)\n",
      "file_labels: voxelling_output/submission_files/vid_1_pred_lee/0000089_labels.csv\n",
      "0.08181905746459961 : df_labels.to_csv(pickles_path+\"df_labels__frame_%d__%s__voxel_size_%d.p\"%(frame_idx, vid, voxel_size))\n",
      "2277\n",
      "0.025931835174560547 : save_frame_for_movie(df_frame_orig_subtracted, \"tmp_only_labeled/\", all_files, frame_idx)\n"
     ]
    },
    {
     "name": "stderr",
     "output_type": "stream",
     "text": [
      "\r",
      "  8%|█████████████▍                                                                                                                                                 | 75/885 [07:31<1:21:14,  6.02s/it]"
     ]
    },
    {
     "name": "stdout",
     "output_type": "stream",
     "text": [
      "=========================================================================\n",
      "frame_idx = 90\n",
      "=========================================================================\n",
      "0.0 : list_idx = get_list_idx_for_frame(frame_idx, n_frames_per_side, shift)\n",
      "4.9717018604278564 : df_subtracted_frame = get_df_voxel_subtracted_frame(list_df_voxel_scene, frame_idx, n_frames_per_side, shift)\n",
      "1.2187397480010986 : df_frame_orig['voxel_id'] =  df_frame_orig.apply(lambda x: point_to_voxel(x, voxel_size), axis=1)\n",
      "0.001993417739868164 : df_labels = df_frame_orig.voxel_id.isin(df_subtracted_frame.voxel_id)\n",
      "(183, 5)\n",
      "0.14062213897705078 : df_frame_orig_subtracted = df_frame_orig[df_labels]\n",
      "(1955, 5)\n",
      "file_labels: voxelling_output/submission_files/vid_1_pred_lee/0000090_labels.csv\n",
      "0.0887918472290039 : df_labels.to_csv(pickles_path+\"df_labels__frame_%d__%s__voxel_size_%d.p\"%(frame_idx, vid, voxel_size))\n",
      "1955\n",
      "0.02193903923034668 : save_frame_for_movie(df_frame_orig_subtracted, \"tmp_only_labeled/\", all_files, frame_idx)\n"
     ]
    },
    {
     "name": "stderr",
     "output_type": "stream",
     "text": [
      "\r",
      "  9%|█████████████▋                                                                                                                                                 | 76/885 [07:37<1:21:13,  6.02s/it]"
     ]
    },
    {
     "name": "stdout",
     "output_type": "stream",
     "text": [
      "=========================================================================\n",
      "frame_idx = 91\n",
      "=========================================================================\n",
      "0.0 : list_idx = get_list_idx_for_frame(frame_idx, n_frames_per_side, shift)\n",
      "5.205077648162842 : df_subtracted_frame = get_df_voxel_subtracted_frame(list_df_voxel_scene, frame_idx, n_frames_per_side, shift)\n",
      "1.1928105354309082 : df_frame_orig['voxel_id'] =  df_frame_orig.apply(lambda x: point_to_voxel(x, voxel_size), axis=1)\n",
      "0.0009975433349609375 : df_labels = df_frame_orig.voxel_id.isin(df_subtracted_frame.voxel_id)\n",
      "(187, 5)\n",
      "0.132643461227417 : df_frame_orig_subtracted = df_frame_orig[df_labels]\n",
      "(2149, 5)\n",
      "file_labels: voxelling_output/submission_files/vid_1_pred_lee/0000091_labels.csv\n",
      "0.09873533248901367 : df_labels.to_csv(pickles_path+\"df_labels__frame_%d__%s__voxel_size_%d.p\"%(frame_idx, vid, voxel_size))\n",
      "2149\n",
      "0.024933815002441406 : save_frame_for_movie(df_frame_orig_subtracted, \"tmp_only_labeled/\", all_files, frame_idx)\n"
     ]
    },
    {
     "name": "stderr",
     "output_type": "stream",
     "text": [
      "\r",
      "  9%|█████████████▊                                                                                                                                                 | 77/885 [07:44<1:21:14,  6.03s/it]"
     ]
    },
    {
     "name": "stdout",
     "output_type": "stream",
     "text": [
      "=========================================================================\n",
      "frame_idx = 92\n",
      "=========================================================================\n",
      "0.0 : list_idx = get_list_idx_for_frame(frame_idx, n_frames_per_side, shift)\n",
      "5.031540632247925 : df_subtracted_frame = get_df_voxel_subtracted_frame(list_df_voxel_scene, frame_idx, n_frames_per_side, shift)\n",
      "1.0980620384216309 : df_frame_orig['voxel_id'] =  df_frame_orig.apply(lambda x: point_to_voxel(x, voxel_size), axis=1)\n",
      "0.0009968280792236328 : df_labels = df_frame_orig.voxel_id.isin(df_subtracted_frame.voxel_id)\n",
      "(166, 5)\n",
      "0.13666987419128418 : df_frame_orig_subtracted = df_frame_orig[df_labels]\n",
      "(2377, 5)\n",
      "file_labels: voxelling_output/submission_files/vid_1_pred_lee/0000092_labels.csv\n",
      "0.08178043365478516 : df_labels.to_csv(pickles_path+\"df_labels__frame_%d__%s__voxel_size_%d.p\"%(frame_idx, vid, voxel_size))\n",
      "2377\n",
      "0.026950597763061523 : save_frame_for_movie(df_frame_orig_subtracted, \"tmp_only_labeled/\", all_files, frame_idx)\n"
     ]
    },
    {
     "name": "stderr",
     "output_type": "stream",
     "text": [
      "\r",
      "  9%|██████████████                                                                                                                                                 | 78/885 [07:50<1:21:12,  6.04s/it]"
     ]
    },
    {
     "name": "stdout",
     "output_type": "stream",
     "text": [
      "=========================================================================\n",
      "frame_idx = 93\n",
      "=========================================================================\n",
      "0.0009918212890625 : list_idx = get_list_idx_for_frame(frame_idx, n_frames_per_side, shift)\n",
      "4.983670234680176 : df_subtracted_frame = get_df_voxel_subtracted_frame(list_df_voxel_scene, frame_idx, n_frames_per_side, shift)\n",
      "1.2676098346710205 : df_frame_orig['voxel_id'] =  df_frame_orig.apply(lambda x: point_to_voxel(x, voxel_size), axis=1)\n",
      "0.0019981861114501953 : df_labels = df_frame_orig.voxel_id.isin(df_subtracted_frame.voxel_id)\n",
      "(162, 5)\n",
      "0.13164663314819336 : df_frame_orig_subtracted = df_frame_orig[df_labels]\n",
      "(2479, 5)\n",
      "file_labels: voxelling_output/submission_files/vid_1_pred_lee/0000093_labels.csv\n",
      "0.09773755073547363 : df_labels.to_csv(pickles_path+\"df_labels__frame_%d__%s__voxel_size_%d.p\"%(frame_idx, vid, voxel_size))\n",
      "2479\n",
      "0.030912160873413086 : save_frame_for_movie(df_frame_orig_subtracted, \"tmp_only_labeled/\", all_files, frame_idx)\n"
     ]
    },
    {
     "name": "stderr",
     "output_type": "stream",
     "text": [
      "\r",
      "  9%|██████████████▏                                                                                                                                                | 79/885 [07:57<1:21:11,  6.04s/it]"
     ]
    },
    {
     "name": "stdout",
     "output_type": "stream",
     "text": [
      "=========================================================================\n",
      "frame_idx = 94\n",
      "=========================================================================\n",
      "0.0 : list_idx = get_list_idx_for_frame(frame_idx, n_frames_per_side, shift)\n",
      "5.419573545455933 : df_subtracted_frame = get_df_voxel_subtracted_frame(list_df_voxel_scene, frame_idx, n_frames_per_side, shift)\n",
      "1.1429693698883057 : df_frame_orig['voxel_id'] =  df_frame_orig.apply(lambda x: point_to_voxel(x, voxel_size), axis=1)\n",
      "0.0010128021240234375 : df_labels = df_frame_orig.voxel_id.isin(df_subtracted_frame.voxel_id)\n",
      "(152, 5)\n",
      "0.12868833541870117 : df_frame_orig_subtracted = df_frame_orig[df_labels]\n",
      "(1705, 5)\n",
      "file_labels: voxelling_output/submission_files/vid_1_pred_lee/0000094_labels.csv\n",
      "0.07581353187561035 : df_labels.to_csv(pickles_path+\"df_labels__frame_%d__%s__voxel_size_%d.p\"%(frame_idx, vid, voxel_size))\n",
      "1705\n",
      "0.01997852325439453 : save_frame_for_movie(df_frame_orig_subtracted, \"tmp_only_labeled/\", all_files, frame_idx)\n"
     ]
    },
    {
     "name": "stderr",
     "output_type": "stream",
     "text": [
      "\r",
      "  9%|██████████████▎                                                                                                                                                | 80/885 [08:04<1:21:12,  6.05s/it]"
     ]
    },
    {
     "name": "stdout",
     "output_type": "stream",
     "text": [
      "=========================================================================\n",
      "frame_idx = 95\n",
      "=========================================================================\n",
      "0.0 : list_idx = get_list_idx_for_frame(frame_idx, n_frames_per_side, shift)\n",
      "5.151231050491333 : df_subtracted_frame = get_df_voxel_subtracted_frame(list_df_voxel_scene, frame_idx, n_frames_per_side, shift)\n",
      "1.1270275115966797 : df_frame_orig['voxel_id'] =  df_frame_orig.apply(lambda x: point_to_voxel(x, voxel_size), axis=1)\n",
      "0.0009832382202148438 : df_labels = df_frame_orig.voxel_id.isin(df_subtracted_frame.voxel_id)\n",
      "(148, 5)\n",
      "0.11872267723083496 : df_frame_orig_subtracted = df_frame_orig[df_labels]\n",
      "(1944, 5)\n",
      "file_labels: voxelling_output/submission_files/vid_1_pred_lee/0000095_labels.csv\n",
      "0.07280397415161133 : df_labels.to_csv(pickles_path+\"df_labels__frame_%d__%s__voxel_size_%d.p\"%(frame_idx, vid, voxel_size))\n",
      "1944\n",
      "0.020967721939086914 : save_frame_for_movie(df_frame_orig_subtracted, \"tmp_only_labeled/\", all_files, frame_idx)\n"
     ]
    },
    {
     "name": "stderr",
     "output_type": "stream",
     "text": [
      "\r",
      "  9%|██████████████▌                                                                                                                                                | 81/885 [08:10<1:21:11,  6.06s/it]"
     ]
    },
    {
     "name": "stdout",
     "output_type": "stream",
     "text": [
      "=========================================================================\n",
      "frame_idx = 96\n",
      "=========================================================================\n",
      "0.0 : list_idx = get_list_idx_for_frame(frame_idx, n_frames_per_side, shift)\n",
      "4.958753347396851 : df_subtracted_frame = get_df_voxel_subtracted_frame(list_df_voxel_scene, frame_idx, n_frames_per_side, shift)\n",
      "1.1399493217468262 : df_frame_orig['voxel_id'] =  df_frame_orig.apply(lambda x: point_to_voxel(x, voxel_size), axis=1)\n",
      "0.0019948482513427734 : df_labels = df_frame_orig.voxel_id.isin(df_subtracted_frame.voxel_id)\n",
      "(153, 5)\n",
      "0.128692626953125 : df_frame_orig_subtracted = df_frame_orig[df_labels]\n",
      "(2066, 5)\n",
      "file_labels: voxelling_output/submission_files/vid_1_pred_lee/0000096_labels.csv\n",
      "0.07380175590515137 : df_labels.to_csv(pickles_path+\"df_labels__frame_%d__%s__voxel_size_%d.p\"%(frame_idx, vid, voxel_size))\n",
      "2066\n",
      "0.021939754486083984 : save_frame_for_movie(df_frame_orig_subtracted, \"tmp_only_labeled/\", all_files, frame_idx)\n"
     ]
    },
    {
     "name": "stderr",
     "output_type": "stream",
     "text": [
      "\r",
      "  9%|██████████████▋                                                                                                                                                | 82/885 [08:17<1:21:08,  6.06s/it]"
     ]
    },
    {
     "name": "stdout",
     "output_type": "stream",
     "text": [
      "=========================================================================\n",
      "frame_idx = 97\n",
      "=========================================================================\n",
      "0.0 : list_idx = get_list_idx_for_frame(frame_idx, n_frames_per_side, shift)\n",
      "5.073431491851807 : df_subtracted_frame = get_df_voxel_subtracted_frame(list_df_voxel_scene, frame_idx, n_frames_per_side, shift)\n",
      "1.0891244411468506 : df_frame_orig['voxel_id'] =  df_frame_orig.apply(lambda x: point_to_voxel(x, voxel_size), axis=1)\n",
      "0.0009970664978027344 : df_labels = df_frame_orig.voxel_id.isin(df_subtracted_frame.voxel_id)\n",
      "(155, 5)\n",
      "0.13965964317321777 : df_frame_orig_subtracted = df_frame_orig[df_labels]\n",
      "(2114, 5)\n",
      "file_labels: voxelling_output/submission_files/vid_1_pred_lee/0000097_labels.csv\n",
      "0.07682418823242188 : df_labels.to_csv(pickles_path+\"df_labels__frame_%d__%s__voxel_size_%d.p\"%(frame_idx, vid, voxel_size))\n",
      "2114\n",
      "0.02393317222595215 : save_frame_for_movie(df_frame_orig_subtracted, \"tmp_only_labeled/\", all_files, frame_idx)\n"
     ]
    },
    {
     "name": "stderr",
     "output_type": "stream",
     "text": [
      "\r",
      "  9%|██████████████▉                                                                                                                                                | 83/885 [08:23<1:21:05,  6.07s/it]"
     ]
    },
    {
     "name": "stdout",
     "output_type": "stream",
     "text": [
      "=========================================================================\n",
      "frame_idx = 98\n",
      "=========================================================================\n",
      "0.0 : list_idx = get_list_idx_for_frame(frame_idx, n_frames_per_side, shift)\n",
      "5.017578840255737 : df_subtracted_frame = get_df_voxel_subtracted_frame(list_df_voxel_scene, frame_idx, n_frames_per_side, shift)\n",
      "1.2007520198822021 : df_frame_orig['voxel_id'] =  df_frame_orig.apply(lambda x: point_to_voxel(x, voxel_size), axis=1)\n",
      "0.0020122528076171875 : df_labels = df_frame_orig.voxel_id.isin(df_subtracted_frame.voxel_id)\n",
      "(154, 5)\n",
      "0.14261865615844727 : df_frame_orig_subtracted = df_frame_orig[df_labels]\n",
      "(2127, 5)\n",
      "file_labels: voxelling_output/submission_files/vid_1_pred_lee/0000098_labels.csv\n",
      "0.0827779769897461 : df_labels.to_csv(pickles_path+\"df_labels__frame_%d__%s__voxel_size_%d.p\"%(frame_idx, vid, voxel_size))\n",
      "2127\n",
      "0.023974180221557617 : save_frame_for_movie(df_frame_orig_subtracted, \"tmp_only_labeled/\", all_files, frame_idx)\n"
     ]
    },
    {
     "name": "stderr",
     "output_type": "stream",
     "text": [
      "\r",
      "  9%|███████████████                                                                                                                                                | 84/885 [08:30<1:21:03,  6.07s/it]"
     ]
    },
    {
     "name": "stdout",
     "output_type": "stream",
     "text": [
      "=========================================================================\n",
      "frame_idx = 99\n",
      "=========================================================================\n",
      "0.0 : list_idx = get_list_idx_for_frame(frame_idx, n_frames_per_side, shift)\n",
      "5.043509483337402 : df_subtracted_frame = get_df_voxel_subtracted_frame(list_df_voxel_scene, frame_idx, n_frames_per_side, shift)\n",
      "1.0793490409851074 : df_frame_orig['voxel_id'] =  df_frame_orig.apply(lambda x: point_to_voxel(x, voxel_size), axis=1)\n",
      "0.0009989738464355469 : df_labels = df_frame_orig.voxel_id.isin(df_subtracted_frame.voxel_id)\n",
      "(166, 5)\n",
      "0.13064885139465332 : df_frame_orig_subtracted = df_frame_orig[df_labels]\n",
      "(2100, 5)\n",
      "file_labels: voxelling_output/submission_files/vid_1_pred_lee/0000099_labels.csv\n",
      "0.07478809356689453 : df_labels.to_csv(pickles_path+\"df_labels__frame_%d__%s__voxel_size_%d.p\"%(frame_idx, vid, voxel_size))\n",
      "2100\n",
      "0.028922080993652344 : save_frame_for_movie(df_frame_orig_subtracted, \"tmp_only_labeled/\", all_files, frame_idx)\n"
     ]
    },
    {
     "name": "stderr",
     "output_type": "stream",
     "text": [
      "\r",
      " 10%|███████████████▎                                                                                                                                               | 85/885 [08:36<1:21:00,  6.08s/it]"
     ]
    },
    {
     "name": "stdout",
     "output_type": "stream",
     "text": [
      "=========================================================================\n",
      "frame_idx = 100\n",
      "=========================================================================\n",
      "0.0009968280792236328 : list_idx = get_list_idx_for_frame(frame_idx, n_frames_per_side, shift)\n",
      "5.157205581665039 : df_subtracted_frame = get_df_voxel_subtracted_frame(list_df_voxel_scene, frame_idx, n_frames_per_side, shift)\n",
      "1.1668787002563477 : df_frame_orig['voxel_id'] =  df_frame_orig.apply(lambda x: point_to_voxel(x, voxel_size), axis=1)\n",
      "0.0009982585906982422 : df_labels = df_frame_orig.voxel_id.isin(df_subtracted_frame.voxel_id)\n",
      "(165, 5)\n",
      "0.12865376472473145 : df_frame_orig_subtracted = df_frame_orig[df_labels]\n",
      "(2024, 5)\n",
      "file_labels: voxelling_output/submission_files/vid_1_pred_lee/0000100_labels.csv\n",
      "0.07380223274230957 : df_labels.to_csv(pickles_path+\"df_labels__frame_%d__%s__voxel_size_%d.p\"%(frame_idx, vid, voxel_size))\n",
      "2024\n",
      "0.023559093475341797 : save_frame_for_movie(df_frame_orig_subtracted, \"tmp_only_labeled/\", all_files, frame_idx)\n"
     ]
    },
    {
     "name": "stderr",
     "output_type": "stream",
     "text": [
      "\r",
      " 10%|███████████████▍                                                                                                                                               | 86/885 [08:42<1:20:58,  6.08s/it]"
     ]
    },
    {
     "name": "stdout",
     "output_type": "stream",
     "text": [
      "=========================================================================\n",
      "frame_idx = 101\n",
      "=========================================================================\n",
      "0.0 : list_idx = get_list_idx_for_frame(frame_idx, n_frames_per_side, shift)\n",
      "5.3157830238342285 : df_subtracted_frame = get_df_voxel_subtracted_frame(list_df_voxel_scene, frame_idx, n_frames_per_side, shift)\n",
      "1.1718666553497314 : df_frame_orig['voxel_id'] =  df_frame_orig.apply(lambda x: point_to_voxel(x, voxel_size), axis=1)\n",
      "0.000997304916381836 : df_labels = df_frame_orig.voxel_id.isin(df_subtracted_frame.voxel_id)\n",
      "(159, 5)\n",
      "0.14560818672180176 : df_frame_orig_subtracted = df_frame_orig[df_labels]\n",
      "(1929, 5)\n",
      "file_labels: voxelling_output/submission_files/vid_1_pred_lee/0000101_labels.csv\n",
      "0.08676743507385254 : df_labels.to_csv(pickles_path+\"df_labels__frame_%d__%s__voxel_size_%d.p\"%(frame_idx, vid, voxel_size))\n",
      "1929\n",
      "0.02393794059753418 : save_frame_for_movie(df_frame_orig_subtracted, \"tmp_only_labeled/\", all_files, frame_idx)\n"
     ]
    },
    {
     "name": "stderr",
     "output_type": "stream",
     "text": [
      "\r",
      " 10%|███████████████▋                                                                                                                                               | 87/885 [08:49<1:20:59,  6.09s/it]"
     ]
    },
    {
     "name": "stdout",
     "output_type": "stream",
     "text": [
      "=========================================================================\n",
      "frame_idx = 102\n",
      "=========================================================================\n",
      "0.0 : list_idx = get_list_idx_for_frame(frame_idx, n_frames_per_side, shift)\n",
      "5.6190009117126465 : df_subtracted_frame = get_df_voxel_subtracted_frame(list_df_voxel_scene, frame_idx, n_frames_per_side, shift)\n",
      "1.1249892711639404 : df_frame_orig['voxel_id'] =  df_frame_orig.apply(lambda x: point_to_voxel(x, voxel_size), axis=1)\n",
      "0.0009982585906982422 : df_labels = df_frame_orig.voxel_id.isin(df_subtracted_frame.voxel_id)\n",
      "(161, 5)\n",
      "0.13263702392578125 : df_frame_orig_subtracted = df_frame_orig[df_labels]\n",
      "(1830, 5)\n",
      "file_labels: voxelling_output/submission_files/vid_1_pred_lee/0000102_labels.csv\n",
      "0.08974003791809082 : df_labels.to_csv(pickles_path+\"df_labels__frame_%d__%s__voxel_size_%d.p\"%(frame_idx, vid, voxel_size))\n",
      "1830\n",
      "0.022937774658203125 : save_frame_for_movie(df_frame_orig_subtracted, \"tmp_only_labeled/\", all_files, frame_idx)\n"
     ]
    },
    {
     "name": "stderr",
     "output_type": "stream",
     "text": [
      "\r",
      " 10%|███████████████▊                                                                                                                                               | 88/885 [08:56<1:21:01,  6.10s/it]"
     ]
    },
    {
     "name": "stdout",
     "output_type": "stream",
     "text": [
      "=========================================================================\n",
      "frame_idx = 103\n",
      "=========================================================================\n",
      "0.0 : list_idx = get_list_idx_for_frame(frame_idx, n_frames_per_side, shift)\n",
      "5.125324726104736 : df_subtracted_frame = get_df_voxel_subtracted_frame(list_df_voxel_scene, frame_idx, n_frames_per_side, shift)\n",
      "1.1409475803375244 : df_frame_orig['voxel_id'] =  df_frame_orig.apply(lambda x: point_to_voxel(x, voxel_size), axis=1)\n",
      "0.0019888877868652344 : df_labels = df_frame_orig.voxel_id.isin(df_subtracted_frame.voxel_id)\n",
      "(165, 5)\n",
      "0.13763093948364258 : df_frame_orig_subtracted = df_frame_orig[df_labels]\n",
      "(1616, 5)\n",
      "file_labels: voxelling_output/submission_files/vid_1_pred_lee/0000103_labels.csv\n",
      "0.08381414413452148 : df_labels.to_csv(pickles_path+\"df_labels__frame_%d__%s__voxel_size_%d.p\"%(frame_idx, vid, voxel_size))\n",
      "1616\n",
      "0.01994633674621582 : save_frame_for_movie(df_frame_orig_subtracted, \"tmp_only_labeled/\", all_files, frame_idx)\n"
     ]
    },
    {
     "name": "stderr",
     "output_type": "stream",
     "text": [
      "\r",
      " 10%|███████████████▉                                                                                                                                               | 89/885 [09:03<1:20:59,  6.10s/it]"
     ]
    },
    {
     "name": "stdout",
     "output_type": "stream",
     "text": [
      "=========================================================================\n",
      "frame_idx = 104\n",
      "=========================================================================\n",
      "0.0 : list_idx = get_list_idx_for_frame(frame_idx, n_frames_per_side, shift)\n",
      "4.9757325649261475 : df_subtracted_frame = get_df_voxel_subtracted_frame(list_df_voxel_scene, frame_idx, n_frames_per_side, shift)\n",
      "1.1649162769317627 : df_frame_orig['voxel_id'] =  df_frame_orig.apply(lambda x: point_to_voxel(x, voxel_size), axis=1)\n",
      "0.0009980201721191406 : df_labels = df_frame_orig.voxel_id.isin(df_subtracted_frame.voxel_id)\n",
      "(159, 5)\n",
      "0.1296842098236084 : df_frame_orig_subtracted = df_frame_orig[df_labels]\n",
      "(1152, 5)\n",
      "file_labels: voxelling_output/submission_files/vid_1_pred_lee/0000104_labels.csv\n",
      "0.08181571960449219 : df_labels.to_csv(pickles_path+\"df_labels__frame_%d__%s__voxel_size_%d.p\"%(frame_idx, vid, voxel_size))\n",
      "1152\n",
      "0.01798534393310547 : save_frame_for_movie(df_frame_orig_subtracted, \"tmp_only_labeled/\", all_files, frame_idx)\n"
     ]
    },
    {
     "name": "stderr",
     "output_type": "stream",
     "text": [
      "\r",
      " 10%|████████████████▏                                                                                                                                              | 90/885 [09:09<1:20:55,  6.11s/it]"
     ]
    },
    {
     "name": "stdout",
     "output_type": "stream",
     "text": [
      "=========================================================================\n",
      "frame_idx = 105\n",
      "=========================================================================\n",
      "0.0 : list_idx = get_list_idx_for_frame(frame_idx, n_frames_per_side, shift)\n",
      "5.031569719314575 : df_subtracted_frame = get_df_voxel_subtracted_frame(list_df_voxel_scene, frame_idx, n_frames_per_side, shift)\n",
      "1.1469712257385254 : df_frame_orig['voxel_id'] =  df_frame_orig.apply(lambda x: point_to_voxel(x, voxel_size), axis=1)\n",
      "0.0019838809967041016 : df_labels = df_frame_orig.voxel_id.isin(df_subtracted_frame.voxel_id)\n",
      "(151, 5)\n",
      "0.135636568069458 : df_frame_orig_subtracted = df_frame_orig[df_labels]\n",
      "(808, 5)\n",
      "file_labels: voxelling_output/submission_files/vid_1_pred_lee/0000105_labels.csv\n",
      "0.08377456665039062 : df_labels.to_csv(pickles_path+\"df_labels__frame_%d__%s__voxel_size_%d.p\"%(frame_idx, vid, voxel_size))\n",
      "808\n",
      "0.012956619262695312 : save_frame_for_movie(df_frame_orig_subtracted, \"tmp_only_labeled/\", all_files, frame_idx)\n"
     ]
    },
    {
     "name": "stderr",
     "output_type": "stream",
     "text": [
      "\r",
      " 10%|████████████████▎                                                                                                                                              | 91/885 [09:16<1:20:52,  6.11s/it]"
     ]
    },
    {
     "name": "stdout",
     "output_type": "stream",
     "text": [
      "=========================================================================\n",
      "frame_idx = 106\n",
      "=========================================================================\n",
      "0.0010080337524414062 : list_idx = get_list_idx_for_frame(frame_idx, n_frames_per_side, shift)\n",
      "5.056513071060181 : df_subtracted_frame = get_df_voxel_subtracted_frame(list_df_voxel_scene, frame_idx, n_frames_per_side, shift)\n",
      "1.1139850616455078 : df_frame_orig['voxel_id'] =  df_frame_orig.apply(lambda x: point_to_voxel(x, voxel_size), axis=1)\n",
      "0.0019876956939697266 : df_labels = df_frame_orig.voxel_id.isin(df_subtracted_frame.voxel_id)\n",
      "(150, 5)\n",
      "0.1406402587890625 : df_frame_orig_subtracted = df_frame_orig[df_labels]\n",
      "(785, 5)\n",
      "file_labels: voxelling_output/submission_files/vid_1_pred_lee/0000106_labels.csv\n",
      "0.10570263862609863 : df_labels.to_csv(pickles_path+\"df_labels__frame_%d__%s__voxel_size_%d.p\"%(frame_idx, vid, voxel_size))\n",
      "785\n",
      "0.014959573745727539 : save_frame_for_movie(df_frame_orig_subtracted, \"tmp_only_labeled/\", all_files, frame_idx)\n"
     ]
    },
    {
     "name": "stderr",
     "output_type": "stream",
     "text": [
      "\r",
      " 10%|████████████████▌                                                                                                                                              | 92/885 [09:22<1:20:49,  6.12s/it]"
     ]
    },
    {
     "name": "stdout",
     "output_type": "stream",
     "text": [
      "=========================================================================\n",
      "frame_idx = 107\n",
      "=========================================================================\n",
      "0.0009968280792236328 : list_idx = get_list_idx_for_frame(frame_idx, n_frames_per_side, shift)\n",
      "5.283875465393066 : df_subtracted_frame = get_df_voxel_subtracted_frame(list_df_voxel_scene, frame_idx, n_frames_per_side, shift)\n",
      "1.1748583316802979 : df_frame_orig['voxel_id'] =  df_frame_orig.apply(lambda x: point_to_voxel(x, voxel_size), axis=1)\n",
      "0.0009980201721191406 : df_labels = df_frame_orig.voxel_id.isin(df_subtracted_frame.voxel_id)\n",
      "(137, 5)\n",
      "0.13463926315307617 : df_frame_orig_subtracted = df_frame_orig[df_labels]\n",
      "(803, 5)\n",
      "file_labels: voxelling_output/submission_files/vid_1_pred_lee/0000107_labels.csv\n",
      "0.07977628707885742 : df_labels.to_csv(pickles_path+\"df_labels__frame_%d__%s__voxel_size_%d.p\"%(frame_idx, vid, voxel_size))\n",
      "803\n",
      "0.014994144439697266 : save_frame_for_movie(df_frame_orig_subtracted, \"tmp_only_labeled/\", all_files, frame_idx)\n"
     ]
    },
    {
     "name": "stderr",
     "output_type": "stream",
     "text": [
      "\r",
      " 11%|████████████████▋                                                                                                                                              | 93/885 [09:29<1:20:48,  6.12s/it]"
     ]
    },
    {
     "name": "stdout",
     "output_type": "stream",
     "text": [
      "=========================================================================\n",
      "frame_idx = 108\n",
      "=========================================================================\n",
      "0.0 : list_idx = get_list_idx_for_frame(frame_idx, n_frames_per_side, shift)\n",
      "5.028581619262695 : df_subtracted_frame = get_df_voxel_subtracted_frame(list_df_voxel_scene, frame_idx, n_frames_per_side, shift)\n",
      "1.1818320751190186 : df_frame_orig['voxel_id'] =  df_frame_orig.apply(lambda x: point_to_voxel(x, voxel_size), axis=1)\n",
      "0.0009946823120117188 : df_labels = df_frame_orig.voxel_id.isin(df_subtracted_frame.voxel_id)\n",
      "(136, 5)\n",
      "0.13463926315307617 : df_frame_orig_subtracted = df_frame_orig[df_labels]\n",
      "(790, 5)\n",
      "file_labels: voxelling_output/submission_files/vid_1_pred_lee/0000108_labels.csv\n",
      "0.07779097557067871 : df_labels.to_csv(pickles_path+\"df_labels__frame_%d__%s__voxel_size_%d.p\"%(frame_idx, vid, voxel_size))\n",
      "790\n",
      "0.015996217727661133 : save_frame_for_movie(df_frame_orig_subtracted, \"tmp_only_labeled/\", all_files, frame_idx)\n"
     ]
    },
    {
     "name": "stderr",
     "output_type": "stream",
     "text": [
      "\r",
      " 11%|████████████████▉                                                                                                                                              | 94/885 [09:35<1:20:45,  6.13s/it]"
     ]
    },
    {
     "name": "stdout",
     "output_type": "stream",
     "text": [
      "=========================================================================\n",
      "frame_idx = 109\n",
      "=========================================================================\n",
      "0.0 : list_idx = get_list_idx_for_frame(frame_idx, n_frames_per_side, shift)\n",
      "4.923303604125977 : df_subtracted_frame = get_df_voxel_subtracted_frame(list_df_voxel_scene, frame_idx, n_frames_per_side, shift)\n",
      "1.1529488563537598 : df_frame_orig['voxel_id'] =  df_frame_orig.apply(lambda x: point_to_voxel(x, voxel_size), axis=1)\n",
      "0.0009968280792236328 : df_labels = df_frame_orig.voxel_id.isin(df_subtracted_frame.voxel_id)\n",
      "(105, 5)\n",
      "0.14760255813598633 : df_frame_orig_subtracted = df_frame_orig[df_labels]\n",
      "(730, 5)\n",
      "file_labels: voxelling_output/submission_files/vid_1_pred_lee/0000109_labels.csv\n",
      "0.10273909568786621 : df_labels.to_csv(pickles_path+\"df_labels__frame_%d__%s__voxel_size_%d.p\"%(frame_idx, vid, voxel_size))\n",
      "730\n",
      "0.012965202331542969 : save_frame_for_movie(df_frame_orig_subtracted, \"tmp_only_labeled/\", all_files, frame_idx)\n"
     ]
    },
    {
     "name": "stderr",
     "output_type": "stream",
     "text": [
      "\r",
      " 11%|█████████████████                                                                                                                                              | 95/885 [09:42<1:20:41,  6.13s/it]"
     ]
    },
    {
     "name": "stdout",
     "output_type": "stream",
     "text": [
      "=========================================================================\n",
      "frame_idx = 110\n",
      "=========================================================================\n",
      "0.0 : list_idx = get_list_idx_for_frame(frame_idx, n_frames_per_side, shift)\n",
      "5.0146260261535645 : df_subtracted_frame = get_df_voxel_subtracted_frame(list_df_voxel_scene, frame_idx, n_frames_per_side, shift)\n",
      "1.097099781036377 : df_frame_orig['voxel_id'] =  df_frame_orig.apply(lambda x: point_to_voxel(x, voxel_size), axis=1)\n",
      "0.001995563507080078 : df_labels = df_frame_orig.voxel_id.isin(df_subtracted_frame.voxel_id)\n",
      "(104, 5)\n",
      "0.13664817810058594 : df_frame_orig_subtracted = df_frame_orig[df_labels]\n",
      "(709, 5)\n",
      "file_labels: voxelling_output/submission_files/vid_1_pred_lee/0000110_labels.csv\n",
      "0.08675360679626465 : df_labels.to_csv(pickles_path+\"df_labels__frame_%d__%s__voxel_size_%d.p\"%(frame_idx, vid, voxel_size))\n",
      "709\n",
      "0.01695537567138672 : save_frame_for_movie(df_frame_orig_subtracted, \"tmp_only_labeled/\", all_files, frame_idx)\n"
     ]
    },
    {
     "name": "stderr",
     "output_type": "stream",
     "text": [
      "\r",
      " 11%|█████████████████▏                                                                                                                                             | 96/885 [09:48<1:20:36,  6.13s/it]"
     ]
    },
    {
     "name": "stdout",
     "output_type": "stream",
     "text": [
      "=========================================================================\n",
      "frame_idx = 111\n",
      "=========================================================================\n",
      "0.0 : list_idx = get_list_idx_for_frame(frame_idx, n_frames_per_side, shift)\n",
      "5.004426002502441 : df_subtracted_frame = get_df_voxel_subtracted_frame(list_df_voxel_scene, frame_idx, n_frames_per_side, shift)\n",
      "1.1389915943145752 : df_frame_orig['voxel_id'] =  df_frame_orig.apply(lambda x: point_to_voxel(x, voxel_size), axis=1)\n",
      "0.0009832382202148438 : df_labels = df_frame_orig.voxel_id.isin(df_subtracted_frame.voxel_id)\n",
      "(127, 5)\n",
      "0.1366262435913086 : df_frame_orig_subtracted = df_frame_orig[df_labels]\n",
      "(693, 5)\n",
      "file_labels: voxelling_output/submission_files/vid_1_pred_lee/0000111_labels.csv\n",
      "0.08676671981811523 : df_labels.to_csv(pickles_path+\"df_labels__frame_%d__%s__voxel_size_%d.p\"%(frame_idx, vid, voxel_size))\n",
      "693\n",
      "0.015956401824951172 : save_frame_for_movie(df_frame_orig_subtracted, \"tmp_only_labeled/\", all_files, frame_idx)\n"
     ]
    },
    {
     "name": "stderr",
     "output_type": "stream",
     "text": [
      "\r",
      " 11%|█████████████████▍                                                                                                                                             | 97/885 [09:54<1:20:33,  6.13s/it]"
     ]
    },
    {
     "name": "stdout",
     "output_type": "stream",
     "text": [
      "=========================================================================\n",
      "frame_idx = 112\n",
      "=========================================================================\n",
      "0.0 : list_idx = get_list_idx_for_frame(frame_idx, n_frames_per_side, shift)\n",
      "4.993641138076782 : df_subtracted_frame = get_df_voxel_subtracted_frame(list_df_voxel_scene, frame_idx, n_frames_per_side, shift)\n",
      "1.1848642826080322 : df_frame_orig['voxel_id'] =  df_frame_orig.apply(lambda x: point_to_voxel(x, voxel_size), axis=1)\n",
      "0.002009868621826172 : df_labels = df_frame_orig.voxel_id.isin(df_subtracted_frame.voxel_id)\n",
      "(130, 5)\n",
      "0.12568020820617676 : df_frame_orig_subtracted = df_frame_orig[df_labels]\n",
      "(682, 5)\n",
      "file_labels: voxelling_output/submission_files/vid_1_pred_lee/0000112_labels.csv\n",
      "0.07679438591003418 : df_labels.to_csv(pickles_path+\"df_labels__frame_%d__%s__voxel_size_%d.p\"%(frame_idx, vid, voxel_size))\n",
      "682\n",
      "0.014961957931518555 : save_frame_for_movie(df_frame_orig_subtracted, \"tmp_only_labeled/\", all_files, frame_idx)\n"
     ]
    },
    {
     "name": "stderr",
     "output_type": "stream",
     "text": [
      "\r",
      " 11%|█████████████████▌                                                                                                                                             | 98/885 [10:01<1:20:29,  6.14s/it]"
     ]
    },
    {
     "name": "stdout",
     "output_type": "stream",
     "text": [
      "=========================================================================\n",
      "frame_idx = 113\n",
      "=========================================================================\n",
      "0.0 : list_idx = get_list_idx_for_frame(frame_idx, n_frames_per_side, shift)\n",
      "5.003647565841675 : df_subtracted_frame = get_df_voxel_subtracted_frame(list_df_voxel_scene, frame_idx, n_frames_per_side, shift)\n",
      "1.1798436641693115 : df_frame_orig['voxel_id'] =  df_frame_orig.apply(lambda x: point_to_voxel(x, voxel_size), axis=1)\n",
      "0.0019769668579101562 : df_labels = df_frame_orig.voxel_id.isin(df_subtracted_frame.voxel_id)\n",
      "(132, 5)\n",
      "0.12865543365478516 : df_frame_orig_subtracted = df_frame_orig[df_labels]\n",
      "(693, 5)\n",
      "file_labels: voxelling_output/submission_files/vid_1_pred_lee/0000113_labels.csv\n",
      "0.07783079147338867 : df_labels.to_csv(pickles_path+\"df_labels__frame_%d__%s__voxel_size_%d.p\"%(frame_idx, vid, voxel_size))\n",
      "693\n",
      "0.020989656448364258 : save_frame_for_movie(df_frame_orig_subtracted, \"tmp_only_labeled/\", all_files, frame_idx)\n"
     ]
    },
    {
     "name": "stderr",
     "output_type": "stream",
     "text": [
      "\r",
      " 11%|█████████████████▊                                                                                                                                             | 99/885 [10:07<1:20:25,  6.14s/it]"
     ]
    },
    {
     "name": "stdout",
     "output_type": "stream",
     "text": [
      "=========================================================================\n",
      "frame_idx = 114\n",
      "=========================================================================\n",
      "0.0 : list_idx = get_list_idx_for_frame(frame_idx, n_frames_per_side, shift)\n",
      "4.943776369094849 : df_subtracted_frame = get_df_voxel_subtracted_frame(list_df_voxel_scene, frame_idx, n_frames_per_side, shift)\n",
      "1.142982006072998 : df_frame_orig['voxel_id'] =  df_frame_orig.apply(lambda x: point_to_voxel(x, voxel_size), axis=1)\n",
      "0.0019936561584472656 : df_labels = df_frame_orig.voxel_id.isin(df_subtracted_frame.voxel_id)\n",
      "(138, 5)\n",
      "0.12967586517333984 : df_frame_orig_subtracted = df_frame_orig[df_labels]\n",
      "(694, 5)\n",
      "file_labels: voxelling_output/submission_files/vid_1_pred_lee/0000114_labels.csv\n",
      "0.0768280029296875 : df_labels.to_csv(pickles_path+\"df_labels__frame_%d__%s__voxel_size_%d.p\"%(frame_idx, vid, voxel_size))\n",
      "694\n",
      "0.013997077941894531 : save_frame_for_movie(df_frame_orig_subtracted, \"tmp_only_labeled/\", all_files, frame_idx)\n"
     ]
    },
    {
     "name": "stderr",
     "output_type": "stream",
     "text": [
      "\r",
      " 11%|█████████████████▊                                                                                                                                            | 100/885 [10:14<1:20:20,  6.14s/it]"
     ]
    },
    {
     "name": "stdout",
     "output_type": "stream",
     "text": [
      "=========================================================================\n",
      "frame_idx = 115\n",
      "=========================================================================\n",
      "0.0 : list_idx = get_list_idx_for_frame(frame_idx, n_frames_per_side, shift)\n",
      "4.991645097732544 : df_subtracted_frame = get_df_voxel_subtracted_frame(list_df_voxel_scene, frame_idx, n_frames_per_side, shift)\n",
      "1.0871281623840332 : df_frame_orig['voxel_id'] =  df_frame_orig.apply(lambda x: point_to_voxel(x, voxel_size), axis=1)\n",
      "0.0009968280792236328 : df_labels = df_frame_orig.voxel_id.isin(df_subtracted_frame.voxel_id)\n",
      "(138, 5)\n",
      "0.14263701438903809 : df_frame_orig_subtracted = df_frame_orig[df_labels]\n",
      "(688, 5)\n",
      "file_labels: voxelling_output/submission_files/vid_1_pred_lee/0000115_labels.csv\n",
      "0.0878138542175293 : df_labels.to_csv(pickles_path+\"df_labels__frame_%d__%s__voxel_size_%d.p\"%(frame_idx, vid, voxel_size))\n",
      "688\n",
      "0.013953685760498047 : save_frame_for_movie(df_frame_orig_subtracted, \"tmp_only_labeled/\", all_files, frame_idx)\n"
     ]
    },
    {
     "name": "stderr",
     "output_type": "stream",
     "text": [
      "\r",
      " 11%|██████████████████                                                                                                                                            | 101/885 [10:20<1:20:16,  6.14s/it]"
     ]
    },
    {
     "name": "stdout",
     "output_type": "stream",
     "text": [
      "=========================================================================\n",
      "frame_idx = 116\n",
      "=========================================================================\n",
      "0.0 : list_idx = get_list_idx_for_frame(frame_idx, n_frames_per_side, shift)\n",
      "4.962760925292969 : df_subtracted_frame = get_df_voxel_subtracted_frame(list_df_voxel_scene, frame_idx, n_frames_per_side, shift)\n",
      "1.0850982666015625 : df_frame_orig['voxel_id'] =  df_frame_orig.apply(lambda x: point_to_voxel(x, voxel_size), axis=1)\n",
      "0.000997781753540039 : df_labels = df_frame_orig.voxel_id.isin(df_subtracted_frame.voxel_id)\n",
      "(137, 5)\n",
      "0.13462376594543457 : df_frame_orig_subtracted = df_frame_orig[df_labels]\n",
      "(703, 5)\n",
      "file_labels: voxelling_output/submission_files/vid_1_pred_lee/0000116_labels.csv\n",
      "0.08177876472473145 : df_labels.to_csv(pickles_path+\"df_labels__frame_%d__%s__voxel_size_%d.p\"%(frame_idx, vid, voxel_size))\n",
      "703\n",
      "0.014961481094360352 : save_frame_for_movie(df_frame_orig_subtracted, \"tmp_only_labeled/\", all_files, frame_idx)\n"
     ]
    },
    {
     "name": "stderr",
     "output_type": "stream",
     "text": [
      "\r",
      " 12%|██████████████████▏                                                                                                                                           | 102/885 [10:26<1:20:11,  6.14s/it]"
     ]
    },
    {
     "name": "stdout",
     "output_type": "stream",
     "text": [
      "=========================================================================\n",
      "frame_idx = 117\n",
      "=========================================================================\n",
      "0.0 : list_idx = get_list_idx_for_frame(frame_idx, n_frames_per_side, shift)\n",
      "4.981676340103149 : df_subtracted_frame = get_df_voxel_subtracted_frame(list_df_voxel_scene, frame_idx, n_frames_per_side, shift)\n",
      "1.0673856735229492 : df_frame_orig['voxel_id'] =  df_frame_orig.apply(lambda x: point_to_voxel(x, voxel_size), axis=1)\n",
      "0.000993967056274414 : df_labels = df_frame_orig.voxel_id.isin(df_subtracted_frame.voxel_id)\n",
      "(136, 5)\n",
      "0.14563870429992676 : df_frame_orig_subtracted = df_frame_orig[df_labels]\n",
      "(679, 5)\n",
      "file_labels: voxelling_output/submission_files/vid_1_pred_lee/0000117_labels.csv\n",
      "0.07775712013244629 : df_labels.to_csv(pickles_path+\"df_labels__frame_%d__%s__voxel_size_%d.p\"%(frame_idx, vid, voxel_size))\n",
      "679\n",
      "0.014958858489990234 : save_frame_for_movie(df_frame_orig_subtracted, \"tmp_only_labeled/\", all_files, frame_idx)\n"
     ]
    },
    {
     "name": "stderr",
     "output_type": "stream",
     "text": [
      "\r",
      " 12%|██████████████████▍                                                                                                                                           | 103/885 [10:33<1:20:06,  6.15s/it]"
     ]
    },
    {
     "name": "stdout",
     "output_type": "stream",
     "text": [
      "=========================================================================\n",
      "frame_idx = 118\n",
      "=========================================================================\n",
      "0.0 : list_idx = get_list_idx_for_frame(frame_idx, n_frames_per_side, shift)\n",
      "5.039553642272949 : df_subtracted_frame = get_df_voxel_subtracted_frame(list_df_voxel_scene, frame_idx, n_frames_per_side, shift)\n",
      "1.1499004364013672 : df_frame_orig['voxel_id'] =  df_frame_orig.apply(lambda x: point_to_voxel(x, voxel_size), axis=1)\n",
      "0.0009963512420654297 : df_labels = df_frame_orig.voxel_id.isin(df_subtracted_frame.voxel_id)\n",
      "(137, 5)\n",
      "0.14859580993652344 : df_frame_orig_subtracted = df_frame_orig[df_labels]\n",
      "(705, 5)\n",
      "file_labels: voxelling_output/submission_files/vid_1_pred_lee/0000118_labels.csv\n",
      "0.09474372863769531 : df_labels.to_csv(pickles_path+\"df_labels__frame_%d__%s__voxel_size_%d.p\"%(frame_idx, vid, voxel_size))\n",
      "705\n",
      "0.01595592498779297 : save_frame_for_movie(df_frame_orig_subtracted, \"tmp_only_labeled/\", all_files, frame_idx)\n"
     ]
    },
    {
     "name": "stderr",
     "output_type": "stream",
     "text": [
      "\r",
      " 12%|██████████████████▌                                                                                                                                           | 104/885 [10:39<1:20:02,  6.15s/it]"
     ]
    },
    {
     "name": "stdout",
     "output_type": "stream",
     "text": [
      "=========================================================================\n",
      "frame_idx = 119\n",
      "=========================================================================\n",
      "0.0 : list_idx = get_list_idx_for_frame(frame_idx, n_frames_per_side, shift)\n",
      "5.282907485961914 : df_subtracted_frame = get_df_voxel_subtracted_frame(list_df_voxel_scene, frame_idx, n_frames_per_side, shift)\n",
      "1.1489262580871582 : df_frame_orig['voxel_id'] =  df_frame_orig.apply(lambda x: point_to_voxel(x, voxel_size), axis=1)\n",
      "0.001995086669921875 : df_labels = df_frame_orig.voxel_id.isin(df_subtracted_frame.voxel_id)\n",
      "(135, 5)\n",
      "0.13559818267822266 : df_frame_orig_subtracted = df_frame_orig[df_labels]\n",
      "(713, 5)\n",
      "file_labels: voxelling_output/submission_files/vid_1_pred_lee/0000119_labels.csv\n",
      "0.07912826538085938 : df_labels.to_csv(pickles_path+\"df_labels__frame_%d__%s__voxel_size_%d.p\"%(frame_idx, vid, voxel_size))\n",
      "713\n",
      "0.013964176177978516 : save_frame_for_movie(df_frame_orig_subtracted, \"tmp_only_labeled/\", all_files, frame_idx)\n"
     ]
    },
    {
     "name": "stderr",
     "output_type": "stream",
     "text": [
      "\r",
      " 12%|██████████████████▋                                                                                                                                           | 105/885 [10:46<1:20:00,  6.15s/it]"
     ]
    },
    {
     "name": "stdout",
     "output_type": "stream",
     "text": [
      "=========================================================================\n",
      "frame_idx = 120\n",
      "=========================================================================\n",
      "0.0 : list_idx = get_list_idx_for_frame(frame_idx, n_frames_per_side, shift)\n",
      "5.035926342010498 : df_subtracted_frame = get_df_voxel_subtracted_frame(list_df_voxel_scene, frame_idx, n_frames_per_side, shift)\n",
      "1.1090309619903564 : df_frame_orig['voxel_id'] =  df_frame_orig.apply(lambda x: point_to_voxel(x, voxel_size), axis=1)\n",
      "0.001996278762817383 : df_labels = df_frame_orig.voxel_id.isin(df_subtracted_frame.voxel_id)\n",
      "(140, 5)\n",
      "0.1446363925933838 : df_frame_orig_subtracted = df_frame_orig[df_labels]\n",
      "(724, 5)\n",
      "file_labels: voxelling_output/submission_files/vid_1_pred_lee/0000120_labels.csv\n",
      "0.08379340171813965 : df_labels.to_csv(pickles_path+\"df_labels__frame_%d__%s__voxel_size_%d.p\"%(frame_idx, vid, voxel_size))\n",
      "724\n",
      "0.013963460922241211 : save_frame_for_movie(df_frame_orig_subtracted, \"tmp_only_labeled/\", all_files, frame_idx)\n"
     ]
    },
    {
     "name": "stderr",
     "output_type": "stream",
     "text": [
      "\r",
      " 12%|██████████████████▉                                                                                                                                           | 106/885 [10:52<1:19:56,  6.16s/it]"
     ]
    },
    {
     "name": "stdout",
     "output_type": "stream",
     "text": [
      "=========================================================================\n",
      "frame_idx = 121\n",
      "=========================================================================\n",
      "0.0 : list_idx = get_list_idx_for_frame(frame_idx, n_frames_per_side, shift)\n",
      "5.035530090332031 : df_subtracted_frame = get_df_voxel_subtracted_frame(list_df_voxel_scene, frame_idx, n_frames_per_side, shift)\n",
      "1.105118751525879 : df_frame_orig['voxel_id'] =  df_frame_orig.apply(lambda x: point_to_voxel(x, voxel_size), axis=1)\n",
      "0.000997304916381836 : df_labels = df_frame_orig.voxel_id.isin(df_subtracted_frame.voxel_id)\n",
      "(137, 5)\n",
      "0.1346726417541504 : df_frame_orig_subtracted = df_frame_orig[df_labels]\n",
      "(734, 5)\n",
      "file_labels: voxelling_output/submission_files/vid_1_pred_lee/0000121_labels.csv\n",
      "0.0798029899597168 : df_labels.to_csv(pickles_path+\"df_labels__frame_%d__%s__voxel_size_%d.p\"%(frame_idx, vid, voxel_size))\n",
      "734\n",
      "0.014960527420043945 : save_frame_for_movie(df_frame_orig_subtracted, \"tmp_only_labeled/\", all_files, frame_idx)\n"
     ]
    },
    {
     "name": "stderr",
     "output_type": "stream",
     "text": [
      "\r",
      " 12%|███████████████████                                                                                                                                           | 107/885 [10:59<1:19:52,  6.16s/it]"
     ]
    },
    {
     "name": "stdout",
     "output_type": "stream",
     "text": [
      "=========================================================================\n",
      "frame_idx = 122\n",
      "=========================================================================\n",
      "0.0 : list_idx = get_list_idx_for_frame(frame_idx, n_frames_per_side, shift)\n",
      "4.8819756507873535 : df_subtracted_frame = get_df_voxel_subtracted_frame(list_df_voxel_scene, frame_idx, n_frames_per_side, shift)\n",
      "1.1229958534240723 : df_frame_orig['voxel_id'] =  df_frame_orig.apply(lambda x: point_to_voxel(x, voxel_size), axis=1)\n",
      "0.0009975433349609375 : df_labels = df_frame_orig.voxel_id.isin(df_subtracted_frame.voxel_id)\n",
      "(131, 5)\n",
      "0.13962554931640625 : df_frame_orig_subtracted = df_frame_orig[df_labels]\n",
      "(747, 5)\n",
      "file_labels: voxelling_output/submission_files/vid_1_pred_lee/0000122_labels.csv\n",
      "0.09374761581420898 : df_labels.to_csv(pickles_path+\"df_labels__frame_%d__%s__voxel_size_%d.p\"%(frame_idx, vid, voxel_size))\n",
      "747\n",
      "0.012964487075805664 : save_frame_for_movie(df_frame_orig_subtracted, \"tmp_only_labeled/\", all_files, frame_idx)\n"
     ]
    },
    {
     "name": "stderr",
     "output_type": "stream",
     "text": [
      "\r",
      " 12%|███████████████████▎                                                                                                                                          | 108/885 [11:05<1:19:46,  6.16s/it]"
     ]
    },
    {
     "name": "stdout",
     "output_type": "stream",
     "text": [
      "=========================================================================\n",
      "frame_idx = 123\n",
      "=========================================================================\n",
      "0.0 : list_idx = get_list_idx_for_frame(frame_idx, n_frames_per_side, shift)\n",
      "4.984668970108032 : df_subtracted_frame = get_df_voxel_subtracted_frame(list_df_voxel_scene, frame_idx, n_frames_per_side, shift)\n",
      "1.101428747177124 : df_frame_orig['voxel_id'] =  df_frame_orig.apply(lambda x: point_to_voxel(x, voxel_size), axis=1)\n",
      "0.0019948482513427734 : df_labels = df_frame_orig.voxel_id.isin(df_subtracted_frame.voxel_id)\n",
      "(130, 5)\n",
      "0.14461278915405273 : df_frame_orig_subtracted = df_frame_orig[df_labels]\n",
      "(744, 5)\n",
      "file_labels: voxelling_output/submission_files/vid_1_pred_lee/0000123_labels.csv\n",
      "0.07879376411437988 : df_labels.to_csv(pickles_path+\"df_labels__frame_%d__%s__voxel_size_%d.p\"%(frame_idx, vid, voxel_size))\n",
      "744\n",
      "0.015957355499267578 : save_frame_for_movie(df_frame_orig_subtracted, \"tmp_only_labeled/\", all_files, frame_idx)\n"
     ]
    },
    {
     "name": "stderr",
     "output_type": "stream",
     "text": [
      "\r",
      " 12%|███████████████████▍                                                                                                                                          | 109/885 [11:11<1:19:42,  6.16s/it]"
     ]
    },
    {
     "name": "stdout",
     "output_type": "stream",
     "text": [
      "=========================================================================\n",
      "frame_idx = 124\n",
      "=========================================================================\n",
      "0.0 : list_idx = get_list_idx_for_frame(frame_idx, n_frames_per_side, shift)\n",
      "5.074427366256714 : df_subtracted_frame = get_df_voxel_subtracted_frame(list_df_voxel_scene, frame_idx, n_frames_per_side, shift)\n",
      "1.0940964221954346 : df_frame_orig['voxel_id'] =  df_frame_orig.apply(lambda x: point_to_voxel(x, voxel_size), axis=1)\n",
      "0.0019943714141845703 : df_labels = df_frame_orig.voxel_id.isin(df_subtracted_frame.voxel_id)\n",
      "(144, 5)\n",
      "0.14261984825134277 : df_frame_orig_subtracted = df_frame_orig[df_labels]\n",
      "(754, 5)\n",
      "file_labels: voxelling_output/submission_files/vid_1_pred_lee/0000124_labels.csv\n",
      "0.09175920486450195 : df_labels.to_csv(pickles_path+\"df_labels__frame_%d__%s__voxel_size_%d.p\"%(frame_idx, vid, voxel_size))\n",
      "754\n",
      "0.014959096908569336 : save_frame_for_movie(df_frame_orig_subtracted, \"tmp_only_labeled/\", all_files, frame_idx)\n"
     ]
    },
    {
     "name": "stderr",
     "output_type": "stream",
     "text": [
      "\r",
      " 12%|███████████████████▋                                                                                                                                          | 110/885 [11:18<1:19:37,  6.16s/it]"
     ]
    },
    {
     "name": "stdout",
     "output_type": "stream",
     "text": [
      "=========================================================================\n",
      "frame_idx = 125\n",
      "=========================================================================\n",
      "0.0 : list_idx = get_list_idx_for_frame(frame_idx, n_frames_per_side, shift)\n",
      "4.943563938140869 : df_subtracted_frame = get_df_voxel_subtracted_frame(list_df_voxel_scene, frame_idx, n_frames_per_side, shift)\n",
      "1.1320054531097412 : df_frame_orig['voxel_id'] =  df_frame_orig.apply(lambda x: point_to_voxel(x, voxel_size), axis=1)\n",
      "0.0009968280792236328 : df_labels = df_frame_orig.voxel_id.isin(df_subtracted_frame.voxel_id)\n",
      "(143, 5)\n",
      "0.14960026741027832 : df_frame_orig_subtracted = df_frame_orig[df_labels]\n",
      "(730, 5)\n",
      "file_labels: voxelling_output/submission_files/vid_1_pred_lee/0000125_labels.csv\n",
      "0.09873318672180176 : df_labels.to_csv(pickles_path+\"df_labels__frame_%d__%s__voxel_size_%d.p\"%(frame_idx, vid, voxel_size))\n",
      "730\n",
      "0.013961553573608398 : save_frame_for_movie(df_frame_orig_subtracted, \"tmp_only_labeled/\", all_files, frame_idx)\n"
     ]
    },
    {
     "name": "stderr",
     "output_type": "stream",
     "text": [
      "\r",
      " 13%|███████████████████▊                                                                                                                                          | 111/885 [11:24<1:19:33,  6.17s/it]"
     ]
    },
    {
     "name": "stdout",
     "output_type": "stream",
     "text": [
      "=========================================================================\n",
      "frame_idx = 126\n",
      "=========================================================================\n",
      "0.0 : list_idx = get_list_idx_for_frame(frame_idx, n_frames_per_side, shift)\n",
      "4.990681886672974 : df_subtracted_frame = get_df_voxel_subtracted_frame(list_df_voxel_scene, frame_idx, n_frames_per_side, shift)\n",
      "1.1798837184906006 : df_frame_orig['voxel_id'] =  df_frame_orig.apply(lambda x: point_to_voxel(x, voxel_size), axis=1)\n",
      "0.000997304916381836 : df_labels = df_frame_orig.voxel_id.isin(df_subtracted_frame.voxel_id)\n",
      "(142, 5)\n",
      "0.16356229782104492 : df_frame_orig_subtracted = df_frame_orig[df_labels]\n",
      "(715, 5)\n",
      "file_labels: voxelling_output/submission_files/vid_1_pred_lee/0000126_labels.csv\n",
      "0.0887603759765625 : df_labels.to_csv(pickles_path+\"df_labels__frame_%d__%s__voxel_size_%d.p\"%(frame_idx, vid, voxel_size))\n",
      "715\n",
      "0.011996984481811523 : save_frame_for_movie(df_frame_orig_subtracted, \"tmp_only_labeled/\", all_files, frame_idx)\n"
     ]
    },
    {
     "name": "stderr",
     "output_type": "stream",
     "text": [
      "\r",
      " 13%|███████████████████▉                                                                                                                                          | 112/885 [11:30<1:19:28,  6.17s/it]"
     ]
    },
    {
     "name": "stdout",
     "output_type": "stream",
     "text": [
      "=========================================================================\n",
      "frame_idx = 127\n",
      "=========================================================================\n",
      "0.0 : list_idx = get_list_idx_for_frame(frame_idx, n_frames_per_side, shift)\n",
      "5.103349924087524 : df_subtracted_frame = get_df_voxel_subtracted_frame(list_df_voxel_scene, frame_idx, n_frames_per_side, shift)\n",
      "1.1888182163238525 : df_frame_orig['voxel_id'] =  df_frame_orig.apply(lambda x: point_to_voxel(x, voxel_size), axis=1)\n",
      "0.0009975433349609375 : df_labels = df_frame_orig.voxel_id.isin(df_subtracted_frame.voxel_id)\n",
      "(137, 5)\n",
      "0.15058374404907227 : df_frame_orig_subtracted = df_frame_orig[df_labels]\n",
      "(727, 5)\n",
      "file_labels: voxelling_output/submission_files/vid_1_pred_lee/0000127_labels.csv\n",
      "0.10870933532714844 : df_labels.to_csv(pickles_path+\"df_labels__frame_%d__%s__voxel_size_%d.p\"%(frame_idx, vid, voxel_size))\n",
      "727\n",
      "0.013957977294921875 : save_frame_for_movie(df_frame_orig_subtracted, \"tmp_only_labeled/\", all_files, frame_idx)\n"
     ]
    },
    {
     "name": "stderr",
     "output_type": "stream",
     "text": [
      "\r",
      " 13%|████████████████████▏                                                                                                                                         | 113/885 [11:37<1:19:25,  6.17s/it]"
     ]
    },
    {
     "name": "stdout",
     "output_type": "stream",
     "text": [
      "=========================================================================\n",
      "frame_idx = 128\n",
      "=========================================================================\n",
      "0.0 : list_idx = get_list_idx_for_frame(frame_idx, n_frames_per_side, shift)\n",
      "5.39461088180542 : df_subtracted_frame = get_df_voxel_subtracted_frame(list_df_voxel_scene, frame_idx, n_frames_per_side, shift)\n",
      "1.1459243297576904 : df_frame_orig['voxel_id'] =  df_frame_orig.apply(lambda x: point_to_voxel(x, voxel_size), axis=1)\n",
      "0.0009970664978027344 : df_labels = df_frame_orig.voxel_id.isin(df_subtracted_frame.voxel_id)\n",
      "(137, 5)\n",
      "0.13169050216674805 : df_frame_orig_subtracted = df_frame_orig[df_labels]\n",
      "(740, 5)\n",
      "file_labels: voxelling_output/submission_files/vid_1_pred_lee/0000128_labels.csv\n",
      "0.07684898376464844 : df_labels.to_csv(pickles_path+\"df_labels__frame_%d__%s__voxel_size_%d.p\"%(frame_idx, vid, voxel_size))\n",
      "740\n",
      "0.02094244956970215 : save_frame_for_movie(df_frame_orig_subtracted, \"tmp_only_labeled/\", all_files, frame_idx)\n"
     ]
    },
    {
     "name": "stderr",
     "output_type": "stream",
     "text": [
      "\r",
      " 13%|████████████████████▎                                                                                                                                         | 114/885 [11:44<1:19:23,  6.18s/it]"
     ]
    },
    {
     "name": "stdout",
     "output_type": "stream",
     "text": [
      "=========================================================================\n",
      "frame_idx = 129\n",
      "=========================================================================\n",
      "0.0 : list_idx = get_list_idx_for_frame(frame_idx, n_frames_per_side, shift)\n",
      "5.081408977508545 : df_subtracted_frame = get_df_voxel_subtracted_frame(list_df_voxel_scene, frame_idx, n_frames_per_side, shift)\n",
      "1.1060292720794678 : df_frame_orig['voxel_id'] =  df_frame_orig.apply(lambda x: point_to_voxel(x, voxel_size), axis=1)\n",
      "0.0010035037994384766 : df_labels = df_frame_orig.voxel_id.isin(df_subtracted_frame.voxel_id)\n",
      "(136, 5)\n",
      "0.14664149284362793 : df_frame_orig_subtracted = df_frame_orig[df_labels]\n",
      "(743, 5)\n",
      "file_labels: voxelling_output/submission_files/vid_1_pred_lee/0000129_labels.csv\n",
      "0.1077117919921875 : df_labels.to_csv(pickles_path+\"df_labels__frame_%d__%s__voxel_size_%d.p\"%(frame_idx, vid, voxel_size))\n",
      "743\n",
      "0.015955686569213867 : save_frame_for_movie(df_frame_orig_subtracted, \"tmp_only_labeled/\", all_files, frame_idx)\n"
     ]
    },
    {
     "name": "stderr",
     "output_type": "stream",
     "text": [
      "\r",
      " 13%|████████████████████▌                                                                                                                                         | 115/885 [11:50<1:19:19,  6.18s/it]"
     ]
    },
    {
     "name": "stdout",
     "output_type": "stream",
     "text": [
      "=========================================================================\n",
      "frame_idx = 130\n",
      "=========================================================================\n",
      "0.0 : list_idx = get_list_idx_for_frame(frame_idx, n_frames_per_side, shift)\n",
      "5.518261671066284 : df_subtracted_frame = get_df_voxel_subtracted_frame(list_df_voxel_scene, frame_idx, n_frames_per_side, shift)\n",
      "1.2257215976715088 : df_frame_orig['voxel_id'] =  df_frame_orig.apply(lambda x: point_to_voxel(x, voxel_size), axis=1)\n",
      "0.000997781753540039 : df_labels = df_frame_orig.voxel_id.isin(df_subtracted_frame.voxel_id)\n",
      "(134, 5)\n",
      "0.14461207389831543 : df_frame_orig_subtracted = df_frame_orig[df_labels]\n",
      "(740, 5)\n",
      "file_labels: voxelling_output/submission_files/vid_1_pred_lee/0000130_labels.csv\n",
      "0.08676719665527344 : df_labels.to_csv(pickles_path+\"df_labels__frame_%d__%s__voxel_size_%d.p\"%(frame_idx, vid, voxel_size))\n",
      "740\n",
      "0.01296377182006836 : save_frame_for_movie(df_frame_orig_subtracted, \"tmp_only_labeled/\", all_files, frame_idx)\n"
     ]
    },
    {
     "name": "stderr",
     "output_type": "stream",
     "text": [
      "\r",
      " 13%|████████████████████▋                                                                                                                                         | 116/885 [11:57<1:19:18,  6.19s/it]"
     ]
    },
    {
     "name": "stdout",
     "output_type": "stream",
     "text": [
      "=========================================================================\n",
      "frame_idx = 131\n",
      "=========================================================================\n",
      "0.0 : list_idx = get_list_idx_for_frame(frame_idx, n_frames_per_side, shift)\n",
      "6.131599187850952 : df_subtracted_frame = get_df_voxel_subtracted_frame(list_df_voxel_scene, frame_idx, n_frames_per_side, shift)\n",
      "1.5239245891571045 : df_frame_orig['voxel_id'] =  df_frame_orig.apply(lambda x: point_to_voxel(x, voxel_size), axis=1)\n",
      "0.0009975433349609375 : df_labels = df_frame_orig.voxel_id.isin(df_subtracted_frame.voxel_id)\n",
      "(134, 5)\n",
      "0.1874985694885254 : df_frame_orig_subtracted = df_frame_orig[df_labels]\n",
      "(741, 5)\n",
      "file_labels: voxelling_output/submission_files/vid_1_pred_lee/0000131_labels.csv\n",
      "0.10970592498779297 : df_labels.to_csv(pickles_path+\"df_labels__frame_%d__%s__voxel_size_%d.p\"%(frame_idx, vid, voxel_size))\n",
      "741\n",
      "0.015965700149536133 : save_frame_for_movie(df_frame_orig_subtracted, \"tmp_only_labeled/\", all_files, frame_idx)\n"
     ]
    },
    {
     "name": "stderr",
     "output_type": "stream",
     "text": [
      "\r",
      " 13%|████████████████████▉                                                                                                                                         | 117/885 [12:05<1:19:24,  6.20s/it]"
     ]
    },
    {
     "name": "stdout",
     "output_type": "stream",
     "text": [
      "=========================================================================\n",
      "frame_idx = 132\n",
      "=========================================================================\n",
      "0.0 : list_idx = get_list_idx_for_frame(frame_idx, n_frames_per_side, shift)\n",
      "5.256978511810303 : df_subtracted_frame = get_df_voxel_subtracted_frame(list_df_voxel_scene, frame_idx, n_frames_per_side, shift)\n",
      "1.1379573345184326 : df_frame_orig['voxel_id'] =  df_frame_orig.apply(lambda x: point_to_voxel(x, voxel_size), axis=1)\n",
      "0.000997781753540039 : df_labels = df_frame_orig.voxel_id.isin(df_subtracted_frame.voxel_id)\n",
      "(127, 5)\n",
      "0.13863253593444824 : df_frame_orig_subtracted = df_frame_orig[df_labels]\n",
      "(744, 5)\n",
      "file_labels: voxelling_output/submission_files/vid_1_pred_lee/0000132_labels.csv\n",
      "0.0967409610748291 : df_labels.to_csv(pickles_path+\"df_labels__frame_%d__%s__voxel_size_%d.p\"%(frame_idx, vid, voxel_size))\n",
      "744\n",
      "0.013962984085083008 : save_frame_for_movie(df_frame_orig_subtracted, \"tmp_only_labeled/\", all_files, frame_idx)\n"
     ]
    },
    {
     "name": "stderr",
     "output_type": "stream",
     "text": [
      "\r",
      " 13%|█████████████████████                                                                                                                                         | 118/885 [12:12<1:19:21,  6.21s/it]"
     ]
    },
    {
     "name": "stdout",
     "output_type": "stream",
     "text": [
      "=========================================================================\n",
      "frame_idx = 133\n",
      "=========================================================================\n",
      "0.0 : list_idx = get_list_idx_for_frame(frame_idx, n_frames_per_side, shift)\n",
      "5.306816577911377 : df_subtracted_frame = get_df_voxel_subtracted_frame(list_df_voxel_scene, frame_idx, n_frames_per_side, shift)\n",
      "1.2047760486602783 : df_frame_orig['voxel_id'] =  df_frame_orig.apply(lambda x: point_to_voxel(x, voxel_size), axis=1)\n",
      "0.0009970664978027344 : df_labels = df_frame_orig.voxel_id.isin(df_subtracted_frame.voxel_id)\n",
      "(126, 5)\n",
      "0.13763070106506348 : df_frame_orig_subtracted = df_frame_orig[df_labels]\n",
      "(712, 5)\n",
      "file_labels: voxelling_output/submission_files/vid_1_pred_lee/0000133_labels.csv\n",
      "0.0997309684753418 : df_labels.to_csv(pickles_path+\"df_labels__frame_%d__%s__voxel_size_%d.p\"%(frame_idx, vid, voxel_size))\n",
      "712\n",
      "0.012977838516235352 : save_frame_for_movie(df_frame_orig_subtracted, \"tmp_only_labeled/\", all_files, frame_idx)\n"
     ]
    },
    {
     "name": "stderr",
     "output_type": "stream",
     "text": [
      "\r",
      " 13%|█████████████████████▏                                                                                                                                        | 119/885 [12:19<1:19:18,  6.21s/it]"
     ]
    },
    {
     "name": "stdout",
     "output_type": "stream",
     "text": [
      "=========================================================================\n",
      "frame_idx = 134\n",
      "=========================================================================\n",
      "0.0 : list_idx = get_list_idx_for_frame(frame_idx, n_frames_per_side, shift)\n",
      "5.344705581665039 : df_subtracted_frame = get_df_voxel_subtracted_frame(list_df_voxel_scene, frame_idx, n_frames_per_side, shift)\n",
      "1.1668777465820312 : df_frame_orig['voxel_id'] =  df_frame_orig.apply(lambda x: point_to_voxel(x, voxel_size), axis=1)\n",
      "0.000997304916381836 : df_labels = df_frame_orig.voxel_id.isin(df_subtracted_frame.voxel_id)\n",
      "(133, 5)\n",
      "0.13367533683776855 : df_frame_orig_subtracted = df_frame_orig[df_labels]\n",
      "(727, 5)\n",
      "file_labels: voxelling_output/submission_files/vid_1_pred_lee/0000134_labels.csv\n",
      "0.0837562084197998 : df_labels.to_csv(pickles_path+\"df_labels__frame_%d__%s__voxel_size_%d.p\"%(frame_idx, vid, voxel_size))\n",
      "727\n",
      "0.011969327926635742 : save_frame_for_movie(df_frame_orig_subtracted, \"tmp_only_labeled/\", all_files, frame_idx)\n"
     ]
    },
    {
     "name": "stderr",
     "output_type": "stream",
     "text": [
      "\r",
      " 14%|█████████████████████▍                                                                                                                                        | 120/885 [12:26<1:19:16,  6.22s/it]"
     ]
    },
    {
     "name": "stdout",
     "output_type": "stream",
     "text": [
      "=========================================================================\n",
      "frame_idx = 135\n",
      "=========================================================================\n",
      "0.0 : list_idx = get_list_idx_for_frame(frame_idx, n_frames_per_side, shift)\n",
      "5.02655553817749 : df_subtracted_frame = get_df_voxel_subtracted_frame(list_df_voxel_scene, frame_idx, n_frames_per_side, shift)\n",
      "1.1210386753082275 : df_frame_orig['voxel_id'] =  df_frame_orig.apply(lambda x: point_to_voxel(x, voxel_size), axis=1)\n",
      "0.0009970664978027344 : df_labels = df_frame_orig.voxel_id.isin(df_subtracted_frame.voxel_id)\n",
      "(125, 5)\n",
      "0.13464093208312988 : df_frame_orig_subtracted = df_frame_orig[df_labels]\n",
      "(724, 5)\n",
      "file_labels: voxelling_output/submission_files/vid_1_pred_lee/0000135_labels.csv\n",
      "0.08309578895568848 : df_labels.to_csv(pickles_path+\"df_labels__frame_%d__%s__voxel_size_%d.p\"%(frame_idx, vid, voxel_size))\n",
      "724\n",
      "0.01896977424621582 : save_frame_for_movie(df_frame_orig_subtracted, \"tmp_only_labeled/\", all_files, frame_idx)\n"
     ]
    },
    {
     "name": "stderr",
     "output_type": "stream",
     "text": [
      "\r",
      " 14%|█████████████████████▌                                                                                                                                        | 121/885 [12:32<1:19:11,  6.22s/it]"
     ]
    },
    {
     "name": "stdout",
     "output_type": "stream",
     "text": [
      "=========================================================================\n",
      "frame_idx = 136\n",
      "=========================================================================\n",
      "0.0 : list_idx = get_list_idx_for_frame(frame_idx, n_frames_per_side, shift)\n",
      "4.9338037967681885 : df_subtracted_frame = get_df_voxel_subtracted_frame(list_df_voxel_scene, frame_idx, n_frames_per_side, shift)\n",
      "1.1100497245788574 : df_frame_orig['voxel_id'] =  df_frame_orig.apply(lambda x: point_to_voxel(x, voxel_size), axis=1)\n",
      "0.000997304916381836 : df_labels = df_frame_orig.voxel_id.isin(df_subtracted_frame.voxel_id)\n",
      "(126, 5)\n",
      "0.13463997840881348 : df_frame_orig_subtracted = df_frame_orig[df_labels]\n",
      "(713, 5)\n",
      "file_labels: voxelling_output/submission_files/vid_1_pred_lee/0000136_labels.csv\n",
      "0.091766357421875 : df_labels.to_csv(pickles_path+\"df_labels__frame_%d__%s__voxel_size_%d.p\"%(frame_idx, vid, voxel_size))\n",
      "713\n",
      "0.012000799179077148 : save_frame_for_movie(df_frame_orig_subtracted, \"tmp_only_labeled/\", all_files, frame_idx)\n"
     ]
    },
    {
     "name": "stderr",
     "output_type": "stream",
     "text": [
      "\r",
      " 14%|█████████████████████▊                                                                                                                                        | 122/885 [12:38<1:19:05,  6.22s/it]"
     ]
    },
    {
     "name": "stdout",
     "output_type": "stream",
     "text": [
      "=========================================================================\n",
      "frame_idx = 137\n",
      "=========================================================================\n",
      "0.0 : list_idx = get_list_idx_for_frame(frame_idx, n_frames_per_side, shift)\n",
      "4.951786279678345 : df_subtracted_frame = get_df_voxel_subtracted_frame(list_df_voxel_scene, frame_idx, n_frames_per_side, shift)\n",
      "1.0731563568115234 : df_frame_orig['voxel_id'] =  df_frame_orig.apply(lambda x: point_to_voxel(x, voxel_size), axis=1)\n",
      "0.0009968280792236328 : df_labels = df_frame_orig.voxel_id.isin(df_subtracted_frame.voxel_id)\n",
      "(126, 5)\n",
      "0.13167953491210938 : df_frame_orig_subtracted = df_frame_orig[df_labels]\n",
      "(812, 5)\n",
      "file_labels: voxelling_output/submission_files/vid_1_pred_lee/0000137_labels.csv\n",
      "0.081787109375 : df_labels.to_csv(pickles_path+\"df_labels__frame_%d__%s__voxel_size_%d.p\"%(frame_idx, vid, voxel_size))\n",
      "812\n",
      "0.01296377182006836 : save_frame_for_movie(df_frame_orig_subtracted, \"tmp_only_labeled/\", all_files, frame_idx)\n"
     ]
    },
    {
     "name": "stderr",
     "output_type": "stream",
     "text": [
      "\r",
      " 14%|█████████████████████▉                                                                                                                                        | 123/885 [12:45<1:18:59,  6.22s/it]"
     ]
    },
    {
     "name": "stdout",
     "output_type": "stream",
     "text": [
      "=========================================================================\n",
      "frame_idx = 138\n",
      "=========================================================================\n",
      "0.0 : list_idx = get_list_idx_for_frame(frame_idx, n_frames_per_side, shift)\n",
      "4.7882304191589355 : df_subtracted_frame = get_df_voxel_subtracted_frame(list_df_voxel_scene, frame_idx, n_frames_per_side, shift)\n",
      "1.1479597091674805 : df_frame_orig['voxel_id'] =  df_frame_orig.apply(lambda x: point_to_voxel(x, voxel_size), axis=1)\n",
      "0.0019948482513427734 : df_labels = df_frame_orig.voxel_id.isin(df_subtracted_frame.voxel_id)\n",
      "(125, 5)\n",
      "0.13364410400390625 : df_frame_orig_subtracted = df_frame_orig[df_labels]\n",
      "(1114, 5)\n",
      "file_labels: voxelling_output/submission_files/vid_1_pred_lee/0000138_labels.csv\n",
      "0.07579660415649414 : df_labels.to_csv(pickles_path+\"df_labels__frame_%d__%s__voxel_size_%d.p\"%(frame_idx, vid, voxel_size))\n",
      "1114\n",
      "0.018964529037475586 : save_frame_for_movie(df_frame_orig_subtracted, \"tmp_only_labeled/\", all_files, frame_idx)\n"
     ]
    },
    {
     "name": "stderr",
     "output_type": "stream",
     "text": [
      "\r",
      " 14%|██████████████████████▏                                                                                                                                       | 124/885 [12:51<1:18:53,  6.22s/it]"
     ]
    },
    {
     "name": "stdout",
     "output_type": "stream",
     "text": [
      "=========================================================================\n",
      "frame_idx = 139\n",
      "=========================================================================\n",
      "0.0 : list_idx = get_list_idx_for_frame(frame_idx, n_frames_per_side, shift)\n",
      "4.850058317184448 : df_subtracted_frame = get_df_voxel_subtracted_frame(list_df_voxel_scene, frame_idx, n_frames_per_side, shift)\n",
      "1.0681445598602295 : df_frame_orig['voxel_id'] =  df_frame_orig.apply(lambda x: point_to_voxel(x, voxel_size), axis=1)\n",
      "0.000997304916381836 : df_labels = df_frame_orig.voxel_id.isin(df_subtracted_frame.voxel_id)\n",
      "(125, 5)\n",
      "0.13363432884216309 : df_frame_orig_subtracted = df_frame_orig[df_labels]\n",
      "(1332, 5)\n",
      "file_labels: voxelling_output/submission_files/vid_1_pred_lee/0000139_labels.csv\n",
      "0.08478975296020508 : df_labels.to_csv(pickles_path+\"df_labels__frame_%d__%s__voxel_size_%d.p\"%(frame_idx, vid, voxel_size))\n",
      "1332\n",
      "0.017967939376831055 : save_frame_for_movie(df_frame_orig_subtracted, \"tmp_only_labeled/\", all_files, frame_idx)\n"
     ]
    },
    {
     "name": "stderr",
     "output_type": "stream",
     "text": [
      "\r",
      " 14%|██████████████████████▎                                                                                                                                       | 125/885 [12:57<1:18:46,  6.22s/it]"
     ]
    },
    {
     "name": "stdout",
     "output_type": "stream",
     "text": [
      "=========================================================================\n",
      "frame_idx = 140\n",
      "=========================================================================\n",
      "0.0009970664978027344 : list_idx = get_list_idx_for_frame(frame_idx, n_frames_per_side, shift)\n",
      "4.931808710098267 : df_subtracted_frame = get_df_voxel_subtracted_frame(list_df_voxel_scene, frame_idx, n_frames_per_side, shift)\n",
      "1.1808736324310303 : df_frame_orig['voxel_id'] =  df_frame_orig.apply(lambda x: point_to_voxel(x, voxel_size), axis=1)\n",
      "0.0009970664978027344 : df_labels = df_frame_orig.voxel_id.isin(df_subtracted_frame.voxel_id)\n",
      "(125, 5)\n",
      "0.13068222999572754 : df_frame_orig_subtracted = df_frame_orig[df_labels]\n",
      "(1307, 5)\n",
      "file_labels: voxelling_output/submission_files/vid_1_pred_lee/0000140_labels.csv\n",
      "0.07983040809631348 : df_labels.to_csv(pickles_path+\"df_labels__frame_%d__%s__voxel_size_%d.p\"%(frame_idx, vid, voxel_size))\n",
      "1307\n",
      "0.019948959350585938 : save_frame_for_movie(df_frame_orig_subtracted, \"tmp_only_labeled/\", all_files, frame_idx)\n"
     ]
    },
    {
     "name": "stderr",
     "output_type": "stream",
     "text": [
      "\r",
      " 14%|██████████████████████▍                                                                                                                                       | 126/885 [13:03<1:18:41,  6.22s/it]"
     ]
    },
    {
     "name": "stdout",
     "output_type": "stream",
     "text": [
      "=========================================================================\n",
      "frame_idx = 141\n",
      "=========================================================================\n",
      "0.000997781753540039 : list_idx = get_list_idx_for_frame(frame_idx, n_frames_per_side, shift)\n",
      "4.925824403762817 : df_subtracted_frame = get_df_voxel_subtracted_frame(list_df_voxel_scene, frame_idx, n_frames_per_side, shift)\n",
      "1.1072559356689453 : df_frame_orig['voxel_id'] =  df_frame_orig.apply(lambda x: point_to_voxel(x, voxel_size), axis=1)\n",
      "0.0009980201721191406 : df_labels = df_frame_orig.voxel_id.isin(df_subtracted_frame.voxel_id)\n",
      "(123, 5)\n",
      "0.1346149444580078 : df_frame_orig_subtracted = df_frame_orig[df_labels]\n",
      "(1285, 5)\n",
      "file_labels: voxelling_output/submission_files/vid_1_pred_lee/0000141_labels.csv\n",
      "0.08276557922363281 : df_labels.to_csv(pickles_path+\"df_labels__frame_%d__%s__voxel_size_%d.p\"%(frame_idx, vid, voxel_size))\n",
      "1285\n",
      "0.017953157424926758 : save_frame_for_movie(df_frame_orig_subtracted, \"tmp_only_labeled/\", all_files, frame_idx)\n"
     ]
    },
    {
     "name": "stderr",
     "output_type": "stream",
     "text": [
      "\r",
      " 14%|██████████████████████▋                                                                                                                                       | 127/885 [13:10<1:18:35,  6.22s/it]"
     ]
    },
    {
     "name": "stdout",
     "output_type": "stream",
     "text": [
      "=========================================================================\n",
      "frame_idx = 142\n",
      "=========================================================================\n",
      "0.000997304916381836 : list_idx = get_list_idx_for_frame(frame_idx, n_frames_per_side, shift)\n",
      "4.989652872085571 : df_subtracted_frame = get_df_voxel_subtracted_frame(list_df_voxel_scene, frame_idx, n_frames_per_side, shift)\n",
      "1.0714097023010254 : df_frame_orig['voxel_id'] =  df_frame_orig.apply(lambda x: point_to_voxel(x, voxel_size), axis=1)\n",
      "0.001995086669921875 : df_labels = df_frame_orig.voxel_id.isin(df_subtracted_frame.voxel_id)\n",
      "(101, 5)\n",
      "0.15262246131896973 : df_frame_orig_subtracted = df_frame_orig[df_labels]\n",
      "(1223, 5)\n",
      "file_labels: voxelling_output/submission_files/vid_1_pred_lee/0000142_labels.csv\n",
      "0.07978129386901855 : df_labels.to_csv(pickles_path+\"df_labels__frame_%d__%s__voxel_size_%d.p\"%(frame_idx, vid, voxel_size))\n",
      "1223\n",
      "0.017950773239135742 : save_frame_for_movie(df_frame_orig_subtracted, \"tmp_only_labeled/\", all_files, frame_idx)\n"
     ]
    },
    {
     "name": "stderr",
     "output_type": "stream",
     "text": [
      "\r",
      " 14%|██████████████████████▊                                                                                                                                       | 128/885 [13:16<1:18:30,  6.22s/it]"
     ]
    },
    {
     "name": "stdout",
     "output_type": "stream",
     "text": [
      "=========================================================================\n",
      "frame_idx = 143\n",
      "=========================================================================\n",
      "0.0010006427764892578 : list_idx = get_list_idx_for_frame(frame_idx, n_frames_per_side, shift)\n",
      "5.010958433151245 : df_subtracted_frame = get_df_voxel_subtracted_frame(list_df_voxel_scene, frame_idx, n_frames_per_side, shift)\n",
      "1.1416661739349365 : df_frame_orig['voxel_id'] =  df_frame_orig.apply(lambda x: point_to_voxel(x, voxel_size), axis=1)\n",
      "0.0019943714141845703 : df_labels = df_frame_orig.voxel_id.isin(df_subtracted_frame.voxel_id)\n",
      "(100, 5)\n",
      "0.12765789031982422 : df_frame_orig_subtracted = df_frame_orig[df_labels]\n",
      "(1158, 5)\n",
      "file_labels: voxelling_output/submission_files/vid_1_pred_lee/0000143_labels.csv\n",
      "0.07679343223571777 : df_labels.to_csv(pickles_path+\"df_labels__frame_%d__%s__voxel_size_%d.p\"%(frame_idx, vid, voxel_size))\n",
      "1158\n",
      "0.015957117080688477 : save_frame_for_movie(df_frame_orig_subtracted, \"tmp_only_labeled/\", all_files, frame_idx)\n"
     ]
    },
    {
     "name": "stderr",
     "output_type": "stream",
     "text": [
      "\r",
      " 15%|███████████████████████                                                                                                                                       | 129/885 [13:22<1:18:25,  6.22s/it]"
     ]
    },
    {
     "name": "stdout",
     "output_type": "stream",
     "text": [
      "=========================================================================\n",
      "frame_idx = 144\n",
      "=========================================================================\n",
      "0.0 : list_idx = get_list_idx_for_frame(frame_idx, n_frames_per_side, shift)\n",
      "5.36667799949646 : df_subtracted_frame = get_df_voxel_subtracted_frame(list_df_voxel_scene, frame_idx, n_frames_per_side, shift)\n",
      "1.198828935623169 : df_frame_orig['voxel_id'] =  df_frame_orig.apply(lambda x: point_to_voxel(x, voxel_size), axis=1)\n",
      "0.0009970664978027344 : df_labels = df_frame_orig.voxel_id.isin(df_subtracted_frame.voxel_id)\n",
      "(99, 5)\n",
      "0.1406540870666504 : df_frame_orig_subtracted = df_frame_orig[df_labels]\n",
      "(1162, 5)\n",
      "file_labels: voxelling_output/submission_files/vid_1_pred_lee/0000144_labels.csv\n",
      "0.07576370239257812 : df_labels.to_csv(pickles_path+\"df_labels__frame_%d__%s__voxel_size_%d.p\"%(frame_idx, vid, voxel_size))\n",
      "1162\n",
      "0.01694488525390625 : save_frame_for_movie(df_frame_orig_subtracted, \"tmp_only_labeled/\", all_files, frame_idx)\n"
     ]
    },
    {
     "name": "stderr",
     "output_type": "stream",
     "text": [
      "\r",
      " 15%|███████████████████████▏                                                                                                                                      | 130/885 [13:29<1:18:22,  6.23s/it]"
     ]
    },
    {
     "name": "stdout",
     "output_type": "stream",
     "text": [
      "=========================================================================\n",
      "frame_idx = 145\n",
      "=========================================================================\n",
      "0.0 : list_idx = get_list_idx_for_frame(frame_idx, n_frames_per_side, shift)\n",
      "5.480339765548706 : df_subtracted_frame = get_df_voxel_subtracted_frame(list_df_voxel_scene, frame_idx, n_frames_per_side, shift)\n",
      "1.3683381080627441 : df_frame_orig['voxel_id'] =  df_frame_orig.apply(lambda x: point_to_voxel(x, voxel_size), axis=1)\n",
      "0.000997304916381836 : df_labels = df_frame_orig.voxel_id.isin(df_subtracted_frame.voxel_id)\n",
      "(87, 5)\n",
      "0.1546008586883545 : df_frame_orig_subtracted = df_frame_orig[df_labels]\n",
      "(1136, 5)\n",
      "file_labels: voxelling_output/submission_files/vid_1_pred_lee/0000145_labels.csv\n",
      "0.0887606143951416 : df_labels.to_csv(pickles_path+\"df_labels__frame_%d__%s__voxel_size_%d.p\"%(frame_idx, vid, voxel_size))\n",
      "1136\n",
      "0.016959190368652344 : save_frame_for_movie(df_frame_orig_subtracted, \"tmp_only_labeled/\", all_files, frame_idx)\n"
     ]
    },
    {
     "name": "stderr",
     "output_type": "stream",
     "text": [
      "\r",
      " 15%|███████████████████████▍                                                                                                                                      | 131/885 [13:36<1:18:21,  6.24s/it]"
     ]
    },
    {
     "name": "stdout",
     "output_type": "stream",
     "text": [
      "=========================================================================\n",
      "frame_idx = 146\n",
      "=========================================================================\n",
      "0.0 : list_idx = get_list_idx_for_frame(frame_idx, n_frames_per_side, shift)\n",
      "5.441485166549683 : df_subtracted_frame = get_df_voxel_subtracted_frame(list_df_voxel_scene, frame_idx, n_frames_per_side, shift)\n",
      "1.1818742752075195 : df_frame_orig['voxel_id'] =  df_frame_orig.apply(lambda x: point_to_voxel(x, voxel_size), axis=1)\n",
      "0.001997709274291992 : df_labels = df_frame_orig.voxel_id.isin(df_subtracted_frame.voxel_id)\n",
      "(111, 5)\n",
      "0.14365482330322266 : df_frame_orig_subtracted = df_frame_orig[df_labels]\n",
      "(1330, 5)\n",
      "file_labels: voxelling_output/submission_files/vid_1_pred_lee/0000146_labels.csv\n",
      "0.07882404327392578 : df_labels.to_csv(pickles_path+\"df_labels__frame_%d__%s__voxel_size_%d.p\"%(frame_idx, vid, voxel_size))\n",
      "1330\n",
      "0.020937442779541016 : save_frame_for_movie(df_frame_orig_subtracted, \"tmp_only_labeled/\", all_files, frame_idx)\n"
     ]
    },
    {
     "name": "stderr",
     "output_type": "stream",
     "text": [
      "\r",
      " 15%|███████████████████████▌                                                                                                                                      | 132/885 [13:43<1:18:18,  6.24s/it]"
     ]
    },
    {
     "name": "stdout",
     "output_type": "stream",
     "text": [
      "=========================================================================\n",
      "frame_idx = 147\n",
      "=========================================================================\n",
      "0.0 : list_idx = get_list_idx_for_frame(frame_idx, n_frames_per_side, shift)\n",
      "5.4124228954315186 : df_subtracted_frame = get_df_voxel_subtracted_frame(list_df_voxel_scene, frame_idx, n_frames_per_side, shift)\n",
      "1.2697248458862305 : df_frame_orig['voxel_id'] =  df_frame_orig.apply(lambda x: point_to_voxel(x, voxel_size), axis=1)\n",
      "0.0009963512420654297 : df_labels = df_frame_orig.voxel_id.isin(df_subtracted_frame.voxel_id)\n",
      "(98, 5)\n",
      "0.17954635620117188 : df_frame_orig_subtracted = df_frame_orig[df_labels]\n",
      "(1227, 5)\n",
      "file_labels: voxelling_output/submission_files/vid_1_pred_lee/0000147_labels.csv\n",
      "0.10372376441955566 : df_labels.to_csv(pickles_path+\"df_labels__frame_%d__%s__voxel_size_%d.p\"%(frame_idx, vid, voxel_size))\n",
      "1227\n",
      "0.02591991424560547 : save_frame_for_movie(df_frame_orig_subtracted, \"tmp_only_labeled/\", all_files, frame_idx)\n"
     ]
    },
    {
     "name": "stderr",
     "output_type": "stream",
     "text": [
      "\r",
      " 15%|███████████████████████▋                                                                                                                                      | 133/885 [13:50<1:18:16,  6.25s/it]"
     ]
    },
    {
     "name": "stdout",
     "output_type": "stream",
     "text": [
      "=========================================================================\n",
      "frame_idx = 148\n",
      "=========================================================================\n",
      "0.0 : list_idx = get_list_idx_for_frame(frame_idx, n_frames_per_side, shift)\n",
      "6.052842140197754 : df_subtracted_frame = get_df_voxel_subtracted_frame(list_df_voxel_scene, frame_idx, n_frames_per_side, shift)\n",
      "1.1230192184448242 : df_frame_orig['voxel_id'] =  df_frame_orig.apply(lambda x: point_to_voxel(x, voxel_size), axis=1)\n",
      "0.0009806156158447266 : df_labels = df_frame_orig.voxel_id.isin(df_subtracted_frame.voxel_id)\n",
      "(115, 5)\n",
      "0.14564299583435059 : df_frame_orig_subtracted = df_frame_orig[df_labels]\n",
      "(1244, 5)\n",
      "file_labels: voxelling_output/submission_files/vid_1_pred_lee/0000148_labels.csv\n",
      "0.07779407501220703 : df_labels.to_csv(pickles_path+\"df_labels__frame_%d__%s__voxel_size_%d.p\"%(frame_idx, vid, voxel_size))\n",
      "1244\n",
      "0.01694011688232422 : save_frame_for_movie(df_frame_orig_subtracted, \"tmp_only_labeled/\", all_files, frame_idx)\n"
     ]
    },
    {
     "name": "stderr",
     "output_type": "stream",
     "text": [
      "\r",
      " 15%|███████████████████████▉                                                                                                                                      | 134/885 [13:58<1:18:17,  6.25s/it]"
     ]
    },
    {
     "name": "stdout",
     "output_type": "stream",
     "text": [
      "=========================================================================\n",
      "frame_idx = 149\n",
      "=========================================================================\n",
      "0.0 : list_idx = get_list_idx_for_frame(frame_idx, n_frames_per_side, shift)\n",
      "5.33074426651001 : df_subtracted_frame = get_df_voxel_subtracted_frame(list_df_voxel_scene, frame_idx, n_frames_per_side, shift)\n",
      "1.1868255138397217 : df_frame_orig['voxel_id'] =  df_frame_orig.apply(lambda x: point_to_voxel(x, voxel_size), axis=1)\n",
      "0.001994609832763672 : df_labels = df_frame_orig.voxel_id.isin(df_subtracted_frame.voxel_id)\n",
      "(153, 5)\n",
      "0.14760565757751465 : df_frame_orig_subtracted = df_frame_orig[df_labels]\n",
      "(1262, 5)\n",
      "file_labels: voxelling_output/submission_files/vid_1_pred_lee/0000149_labels.csv\n",
      "0.08879494667053223 : df_labels.to_csv(pickles_path+\"df_labels__frame_%d__%s__voxel_size_%d.p\"%(frame_idx, vid, voxel_size))\n",
      "1262\n",
      "0.01994490623474121 : save_frame_for_movie(df_frame_orig_subtracted, \"tmp_only_labeled/\", all_files, frame_idx)\n"
     ]
    },
    {
     "name": "stderr",
     "output_type": "stream",
     "text": [
      "\r",
      " 15%|████████████████████████                                                                                                                                      | 135/885 [14:04<1:18:14,  6.26s/it]"
     ]
    },
    {
     "name": "stdout",
     "output_type": "stream",
     "text": [
      "=========================================================================\n",
      "frame_idx = 150\n",
      "=========================================================================\n",
      "0.0 : list_idx = get_list_idx_for_frame(frame_idx, n_frames_per_side, shift)\n",
      "5.454399585723877 : df_subtracted_frame = get_df_voxel_subtracted_frame(list_df_voxel_scene, frame_idx, n_frames_per_side, shift)\n",
      "1.0183072090148926 : df_frame_orig['voxel_id'] =  df_frame_orig.apply(lambda x: point_to_voxel(x, voxel_size), axis=1)\n",
      "0.0009963512420654297 : df_labels = df_frame_orig.voxel_id.isin(df_subtracted_frame.voxel_id)\n",
      "(184, 5)\n",
      "0.13366484642028809 : df_frame_orig_subtracted = df_frame_orig[df_labels]\n",
      "(1366, 5)\n",
      "file_labels: voxelling_output/submission_files/vid_1_pred_lee/0000150_labels.csv\n",
      "0.07480072975158691 : df_labels.to_csv(pickles_path+\"df_labels__frame_%d__%s__voxel_size_%d.p\"%(frame_idx, vid, voxel_size))\n",
      "1366\n",
      "0.02094268798828125 : save_frame_for_movie(df_frame_orig_subtracted, \"tmp_only_labeled/\", all_files, frame_idx)\n"
     ]
    },
    {
     "name": "stderr",
     "output_type": "stream",
     "text": [
      "\r",
      " 15%|████████████████████████▎                                                                                                                                     | 136/885 [14:11<1:18:10,  6.26s/it]"
     ]
    },
    {
     "name": "stdout",
     "output_type": "stream",
     "text": [
      "=========================================================================\n",
      "frame_idx = 151\n",
      "=========================================================================\n",
      "0.0 : list_idx = get_list_idx_for_frame(frame_idx, n_frames_per_side, shift)\n",
      "5.167176723480225 : df_subtracted_frame = get_df_voxel_subtracted_frame(list_df_voxel_scene, frame_idx, n_frames_per_side, shift)\n",
      "1.1329998970031738 : df_frame_orig['voxel_id'] =  df_frame_orig.apply(lambda x: point_to_voxel(x, voxel_size), axis=1)\n",
      "0.0019943714141845703 : df_labels = df_frame_orig.voxel_id.isin(df_subtracted_frame.voxel_id)\n",
      "(207, 5)\n",
      "0.12868380546569824 : df_frame_orig_subtracted = df_frame_orig[df_labels]\n",
      "(1403, 5)\n",
      "file_labels: voxelling_output/submission_files/vid_1_pred_lee/0000151_labels.csv\n",
      "0.08477330207824707 : df_labels.to_csv(pickles_path+\"df_labels__frame_%d__%s__voxel_size_%d.p\"%(frame_idx, vid, voxel_size))\n",
      "1403\n",
      "0.019959449768066406 : save_frame_for_movie(df_frame_orig_subtracted, \"tmp_only_labeled/\", all_files, frame_idx)\n"
     ]
    },
    {
     "name": "stderr",
     "output_type": "stream",
     "text": [
      "\r",
      " 15%|████████████████████████▍                                                                                                                                     | 137/885 [14:18<1:18:05,  6.26s/it]"
     ]
    },
    {
     "name": "stdout",
     "output_type": "stream",
     "text": [
      "=========================================================================\n",
      "frame_idx = 152\n",
      "=========================================================================\n",
      "0.000997304916381836 : list_idx = get_list_idx_for_frame(frame_idx, n_frames_per_side, shift)\n",
      "5.24098014831543 : df_subtracted_frame = get_df_voxel_subtracted_frame(list_df_voxel_scene, frame_idx, n_frames_per_side, shift)\n",
      "1.0960955619812012 : df_frame_orig['voxel_id'] =  df_frame_orig.apply(lambda x: point_to_voxel(x, voxel_size), axis=1)\n",
      "0.0009980201721191406 : df_labels = df_frame_orig.voxel_id.isin(df_subtracted_frame.voxel_id)\n",
      "(228, 5)\n",
      "0.12968063354492188 : df_frame_orig_subtracted = df_frame_orig[df_labels]\n",
      "(1476, 5)\n",
      "file_labels: voxelling_output/submission_files/vid_1_pred_lee/0000152_labels.csv\n",
      "0.07483911514282227 : df_labels.to_csv(pickles_path+\"df_labels__frame_%d__%s__voxel_size_%d.p\"%(frame_idx, vid, voxel_size))\n",
      "1476\n",
      "0.01994490623474121 : save_frame_for_movie(df_frame_orig_subtracted, \"tmp_only_labeled/\", all_files, frame_idx)\n"
     ]
    },
    {
     "name": "stderr",
     "output_type": "stream",
     "text": [
      "\r",
      " 16%|████████████████████████▋                                                                                                                                     | 138/885 [14:24<1:18:01,  6.27s/it]"
     ]
    },
    {
     "name": "stdout",
     "output_type": "stream",
     "text": [
      "=========================================================================\n",
      "frame_idx = 153\n",
      "=========================================================================\n",
      "0.0 : list_idx = get_list_idx_for_frame(frame_idx, n_frames_per_side, shift)\n",
      "5.489356279373169 : df_subtracted_frame = get_df_voxel_subtracted_frame(list_df_voxel_scene, frame_idx, n_frames_per_side, shift)\n",
      "1.1090235710144043 : df_frame_orig['voxel_id'] =  df_frame_orig.apply(lambda x: point_to_voxel(x, voxel_size), axis=1)\n",
      "0.0009961128234863281 : df_labels = df_frame_orig.voxel_id.isin(df_subtracted_frame.voxel_id)\n",
      "(316, 5)\n",
      "0.14261770248413086 : df_frame_orig_subtracted = df_frame_orig[df_labels]\n",
      "(1596, 5)\n",
      "file_labels: voxelling_output/submission_files/vid_1_pred_lee/0000153_labels.csv\n",
      "0.07679247856140137 : df_labels.to_csv(pickles_path+\"df_labels__frame_%d__%s__voxel_size_%d.p\"%(frame_idx, vid, voxel_size))\n",
      "1596\n",
      "0.02194046974182129 : save_frame_for_movie(df_frame_orig_subtracted, \"tmp_only_labeled/\", all_files, frame_idx)\n"
     ]
    },
    {
     "name": "stderr",
     "output_type": "stream",
     "text": [
      "\r",
      " 16%|████████████████████████▊                                                                                                                                     | 139/885 [14:31<1:17:58,  6.27s/it]"
     ]
    },
    {
     "name": "stdout",
     "output_type": "stream",
     "text": [
      "=========================================================================\n",
      "frame_idx = 154\n",
      "=========================================================================\n",
      "0.0009980201721191406 : list_idx = get_list_idx_for_frame(frame_idx, n_frames_per_side, shift)\n",
      "5.4374895095825195 : df_subtracted_frame = get_df_voxel_subtracted_frame(list_df_voxel_scene, frame_idx, n_frames_per_side, shift)\n",
      "1.0713446140289307 : df_frame_orig['voxel_id'] =  df_frame_orig.apply(lambda x: point_to_voxel(x, voxel_size), axis=1)\n",
      "0.0009965896606445312 : df_labels = df_frame_orig.voxel_id.isin(df_subtracted_frame.voxel_id)\n",
      "(367, 5)\n",
      "0.12363195419311523 : df_frame_orig_subtracted = df_frame_orig[df_labels]\n",
      "(1557, 5)\n",
      "file_labels: voxelling_output/submission_files/vid_1_pred_lee/0000154_labels.csv\n",
      "0.07380151748657227 : df_labels.to_csv(pickles_path+\"df_labels__frame_%d__%s__voxel_size_%d.p\"%(frame_idx, vid, voxel_size))\n",
      "1557\n",
      "0.020943403244018555 : save_frame_for_movie(df_frame_orig_subtracted, \"tmp_only_labeled/\", all_files, frame_idx)\n"
     ]
    },
    {
     "name": "stderr",
     "output_type": "stream",
     "text": [
      "\r",
      " 16%|████████████████████████▉                                                                                                                                     | 140/885 [14:38<1:17:54,  6.27s/it]"
     ]
    },
    {
     "name": "stdout",
     "output_type": "stream",
     "text": [
      "=========================================================================\n",
      "frame_idx = 155\n",
      "=========================================================================\n",
      "0.0 : list_idx = get_list_idx_for_frame(frame_idx, n_frames_per_side, shift)\n",
      "5.1842875480651855 : df_subtracted_frame = get_df_voxel_subtracted_frame(list_df_voxel_scene, frame_idx, n_frames_per_side, shift)\n",
      "1.1011834144592285 : df_frame_orig['voxel_id'] =  df_frame_orig.apply(lambda x: point_to_voxel(x, voxel_size), axis=1)\n",
      "0.0010082721710205078 : df_labels = df_frame_orig.voxel_id.isin(df_subtracted_frame.voxel_id)\n",
      "(442, 5)\n",
      "0.2094717025756836 : df_frame_orig_subtracted = df_frame_orig[df_labels]\n",
      "(1688, 5)\n",
      "file_labels: voxelling_output/submission_files/vid_1_pred_lee/0000155_labels.csv\n",
      "0.08975720405578613 : df_labels.to_csv(pickles_path+\"df_labels__frame_%d__%s__voxel_size_%d.p\"%(frame_idx, vid, voxel_size))\n",
      "1688\n",
      "0.021942138671875 : save_frame_for_movie(df_frame_orig_subtracted, \"tmp_only_labeled/\", all_files, frame_idx)\n"
     ]
    },
    {
     "name": "stderr",
     "output_type": "stream",
     "text": [
      "\r",
      " 16%|█████████████████████████▏                                                                                                                                    | 141/885 [14:45<1:17:50,  6.28s/it]"
     ]
    },
    {
     "name": "stdout",
     "output_type": "stream",
     "text": [
      "=========================================================================\n",
      "frame_idx = 156\n",
      "=========================================================================\n",
      "0.0 : list_idx = get_list_idx_for_frame(frame_idx, n_frames_per_side, shift)\n",
      "5.500765562057495 : df_subtracted_frame = get_df_voxel_subtracted_frame(list_df_voxel_scene, frame_idx, n_frames_per_side, shift)\n",
      "1.1080684661865234 : df_frame_orig['voxel_id'] =  df_frame_orig.apply(lambda x: point_to_voxel(x, voxel_size), axis=1)\n",
      "0.0019817352294921875 : df_labels = df_frame_orig.voxel_id.isin(df_subtracted_frame.voxel_id)\n",
      "(398, 5)\n",
      "0.15258479118347168 : df_frame_orig_subtracted = df_frame_orig[df_labels]\n",
      "(1782, 5)\n",
      "file_labels: voxelling_output/submission_files/vid_1_pred_lee/0000156_labels.csv\n",
      "0.08476972579956055 : df_labels.to_csv(pickles_path+\"df_labels__frame_%d__%s__voxel_size_%d.p\"%(frame_idx, vid, voxel_size))\n",
      "1782\n",
      "0.02097773551940918 : save_frame_for_movie(df_frame_orig_subtracted, \"tmp_only_labeled/\", all_files, frame_idx)\n"
     ]
    },
    {
     "name": "stderr",
     "output_type": "stream",
     "text": [
      "\r",
      " 16%|█████████████████████████▎                                                                                                                                    | 142/885 [14:51<1:17:47,  6.28s/it]"
     ]
    },
    {
     "name": "stdout",
     "output_type": "stream",
     "text": [
      "=========================================================================\n",
      "frame_idx = 157\n",
      "=========================================================================\n",
      "0.0 : list_idx = get_list_idx_for_frame(frame_idx, n_frames_per_side, shift)\n",
      "5.334731101989746 : df_subtracted_frame = get_df_voxel_subtracted_frame(list_df_voxel_scene, frame_idx, n_frames_per_side, shift)\n",
      "1.1140193939208984 : df_frame_orig['voxel_id'] =  df_frame_orig.apply(lambda x: point_to_voxel(x, voxel_size), axis=1)\n",
      "0.0019941329956054688 : df_labels = df_frame_orig.voxel_id.isin(df_subtracted_frame.voxel_id)\n",
      "(347, 5)\n",
      "0.13962888717651367 : df_frame_orig_subtracted = df_frame_orig[df_labels]\n",
      "(1914, 5)\n",
      "file_labels: voxelling_output/submission_files/vid_1_pred_lee/0000157_labels.csv\n",
      "0.08277773857116699 : df_labels.to_csv(pickles_path+\"df_labels__frame_%d__%s__voxel_size_%d.p\"%(frame_idx, vid, voxel_size))\n",
      "1914\n",
      "0.02193927764892578 : save_frame_for_movie(df_frame_orig_subtracted, \"tmp_only_labeled/\", all_files, frame_idx)\n"
     ]
    },
    {
     "name": "stderr",
     "output_type": "stream",
     "text": [
      "\r",
      " 16%|█████████████████████████▌                                                                                                                                    | 143/885 [14:58<1:17:43,  6.28s/it]"
     ]
    },
    {
     "name": "stdout",
     "output_type": "stream",
     "text": [
      "=========================================================================\n",
      "frame_idx = 158\n",
      "=========================================================================\n",
      "0.0 : list_idx = get_list_idx_for_frame(frame_idx, n_frames_per_side, shift)\n",
      "5.693797588348389 : df_subtracted_frame = get_df_voxel_subtracted_frame(list_df_voxel_scene, frame_idx, n_frames_per_side, shift)\n",
      "1.1698858737945557 : df_frame_orig['voxel_id'] =  df_frame_orig.apply(lambda x: point_to_voxel(x, voxel_size), axis=1)\n",
      "0.0019936561584472656 : df_labels = df_frame_orig.voxel_id.isin(df_subtracted_frame.voxel_id)\n",
      "(321, 5)\n",
      "0.1386706829071045 : df_frame_orig_subtracted = df_frame_orig[df_labels]\n",
      "(1806, 5)\n",
      "file_labels: voxelling_output/submission_files/vid_1_pred_lee/0000158_labels.csv\n",
      "0.09078049659729004 : df_labels.to_csv(pickles_path+\"df_labels__frame_%d__%s__voxel_size_%d.p\"%(frame_idx, vid, voxel_size))\n",
      "1806\n",
      "0.02692723274230957 : save_frame_for_movie(df_frame_orig_subtracted, \"tmp_only_labeled/\", all_files, frame_idx)\n"
     ]
    },
    {
     "name": "stderr",
     "output_type": "stream",
     "text": [
      "\r",
      " 16%|█████████████████████████▋                                                                                                                                    | 144/885 [15:05<1:17:41,  6.29s/it]"
     ]
    },
    {
     "name": "stdout",
     "output_type": "stream",
     "text": [
      "=========================================================================\n",
      "frame_idx = 159\n",
      "=========================================================================\n",
      "0.0 : list_idx = get_list_idx_for_frame(frame_idx, n_frames_per_side, shift)\n",
      "5.685824394226074 : df_subtracted_frame = get_df_voxel_subtracted_frame(list_df_voxel_scene, frame_idx, n_frames_per_side, shift)\n",
      "1.1848158836364746 : df_frame_orig['voxel_id'] =  df_frame_orig.apply(lambda x: point_to_voxel(x, voxel_size), axis=1)\n",
      "0.0019922256469726562 : df_labels = df_frame_orig.voxel_id.isin(df_subtracted_frame.voxel_id)\n",
      "(339, 5)\n",
      "0.13965177536010742 : df_frame_orig_subtracted = df_frame_orig[df_labels]\n",
      "(1829, 5)\n",
      "file_labels: voxelling_output/submission_files/vid_1_pred_lee/0000159_labels.csv\n",
      "0.0787808895111084 : df_labels.to_csv(pickles_path+\"df_labels__frame_%d__%s__voxel_size_%d.p\"%(frame_idx, vid, voxel_size))\n",
      "1829\n",
      "0.022939443588256836 : save_frame_for_movie(df_frame_orig_subtracted, \"tmp_only_labeled/\", all_files, frame_idx)\n"
     ]
    },
    {
     "name": "stderr",
     "output_type": "stream",
     "text": [
      "\r",
      " 16%|█████████████████████████▉                                                                                                                                    | 145/885 [15:12<1:17:39,  6.30s/it]"
     ]
    },
    {
     "name": "stdout",
     "output_type": "stream",
     "text": [
      "=========================================================================\n",
      "frame_idx = 160\n",
      "=========================================================================\n",
      "0.0 : list_idx = get_list_idx_for_frame(frame_idx, n_frames_per_side, shift)\n",
      "5.638274908065796 : df_subtracted_frame = get_df_voxel_subtracted_frame(list_df_voxel_scene, frame_idx, n_frames_per_side, shift)\n",
      "1.1669085025787354 : df_frame_orig['voxel_id'] =  df_frame_orig.apply(lambda x: point_to_voxel(x, voxel_size), axis=1)\n",
      "0.0009913444519042969 : df_labels = df_frame_orig.voxel_id.isin(df_subtracted_frame.voxel_id)\n",
      "(256, 5)\n",
      "0.12769007682800293 : df_frame_orig_subtracted = df_frame_orig[df_labels]\n",
      "(1807, 5)\n",
      "file_labels: voxelling_output/submission_files/vid_1_pred_lee/0000160_labels.csv\n",
      "0.07779073715209961 : df_labels.to_csv(pickles_path+\"df_labels__frame_%d__%s__voxel_size_%d.p\"%(frame_idx, vid, voxel_size))\n",
      "1807\n",
      "0.022975683212280273 : save_frame_for_movie(df_frame_orig_subtracted, \"tmp_only_labeled/\", all_files, frame_idx)\n"
     ]
    },
    {
     "name": "stderr",
     "output_type": "stream",
     "text": [
      "\r",
      " 16%|██████████████████████████                                                                                                                                    | 146/885 [15:20<1:17:36,  6.30s/it]"
     ]
    },
    {
     "name": "stdout",
     "output_type": "stream",
     "text": [
      "=========================================================================\n",
      "frame_idx = 161\n",
      "=========================================================================\n",
      "0.0 : list_idx = get_list_idx_for_frame(frame_idx, n_frames_per_side, shift)\n",
      "5.1712048053741455 : df_subtracted_frame = get_df_voxel_subtracted_frame(list_df_voxel_scene, frame_idx, n_frames_per_side, shift)\n",
      "1.160923957824707 : df_frame_orig['voxel_id'] =  df_frame_orig.apply(lambda x: point_to_voxel(x, voxel_size), axis=1)\n",
      "0.0020041465759277344 : df_labels = df_frame_orig.voxel_id.isin(df_subtracted_frame.voxel_id)\n",
      "(266, 5)\n",
      "0.18812918663024902 : df_frame_orig_subtracted = df_frame_orig[df_labels]\n",
      "(2275, 5)\n",
      "file_labels: voxelling_output/submission_files/vid_1_pred_lee/0000161_labels.csv\n",
      "0.07679533958435059 : df_labels.to_csv(pickles_path+\"df_labels__frame_%d__%s__voxel_size_%d.p\"%(frame_idx, vid, voxel_size))\n",
      "2275\n",
      "0.0239412784576416 : save_frame_for_movie(df_frame_orig_subtracted, \"tmp_only_labeled/\", all_files, frame_idx)\n"
     ]
    },
    {
     "name": "stderr",
     "output_type": "stream",
     "text": [
      "\r",
      " 17%|██████████████████████████▏                                                                                                                                   | 147/885 [15:26<1:17:32,  6.30s/it]"
     ]
    },
    {
     "name": "stdout",
     "output_type": "stream",
     "text": [
      "=========================================================================\n",
      "frame_idx = 162\n",
      "=========================================================================\n",
      "0.0 : list_idx = get_list_idx_for_frame(frame_idx, n_frames_per_side, shift)\n",
      "5.252792596817017 : df_subtracted_frame = get_df_voxel_subtracted_frame(list_df_voxel_scene, frame_idx, n_frames_per_side, shift)\n",
      "1.325453758239746 : df_frame_orig['voxel_id'] =  df_frame_orig.apply(lambda x: point_to_voxel(x, voxel_size), axis=1)\n",
      "0.0019943714141845703 : df_labels = df_frame_orig.voxel_id.isin(df_subtracted_frame.voxel_id)\n",
      "(258, 5)\n",
      "0.14162039756774902 : df_frame_orig_subtracted = df_frame_orig[df_labels]\n",
      "(2305, 5)\n",
      "file_labels: voxelling_output/submission_files/vid_1_pred_lee/0000162_labels.csv\n",
      "0.08477234840393066 : df_labels.to_csv(pickles_path+\"df_labels__frame_%d__%s__voxel_size_%d.p\"%(frame_idx, vid, voxel_size))\n",
      "2305\n",
      "0.024931907653808594 : save_frame_for_movie(df_frame_orig_subtracted, \"tmp_only_labeled/\", all_files, frame_idx)\n"
     ]
    },
    {
     "name": "stderr",
     "output_type": "stream",
     "text": [
      "\r",
      " 17%|██████████████████████████▍                                                                                                                                   | 148/885 [15:33<1:17:28,  6.31s/it]"
     ]
    },
    {
     "name": "stdout",
     "output_type": "stream",
     "text": [
      "=========================================================================\n",
      "frame_idx = 163\n",
      "=========================================================================\n",
      "0.0009944438934326172 : list_idx = get_list_idx_for_frame(frame_idx, n_frames_per_side, shift)\n",
      "5.6379475593566895 : df_subtracted_frame = get_df_voxel_subtracted_frame(list_df_voxel_scene, frame_idx, n_frames_per_side, shift)\n",
      "1.1125588417053223 : df_frame_orig['voxel_id'] =  df_frame_orig.apply(lambda x: point_to_voxel(x, voxel_size), axis=1)\n",
      "0.0009970664978027344 : df_labels = df_frame_orig.voxel_id.isin(df_subtracted_frame.voxel_id)\n",
      "(254, 5)\n",
      "0.13662219047546387 : df_frame_orig_subtracted = df_frame_orig[df_labels]\n",
      "(2455, 5)\n",
      "file_labels: voxelling_output/submission_files/vid_1_pred_lee/0000163_labels.csv\n",
      "0.09175539016723633 : df_labels.to_csv(pickles_path+\"df_labels__frame_%d__%s__voxel_size_%d.p\"%(frame_idx, vid, voxel_size))\n",
      "2455\n",
      "0.029922008514404297 : save_frame_for_movie(df_frame_orig_subtracted, \"tmp_only_labeled/\", all_files, frame_idx)\n"
     ]
    },
    {
     "name": "stderr",
     "output_type": "stream",
     "text": [
      "\r",
      " 17%|██████████████████████████▌                                                                                                                                   | 149/885 [15:40<1:17:26,  6.31s/it]"
     ]
    },
    {
     "name": "stdout",
     "output_type": "stream",
     "text": [
      "=========================================================================\n",
      "frame_idx = 164\n",
      "=========================================================================\n",
      "0.0 : list_idx = get_list_idx_for_frame(frame_idx, n_frames_per_side, shift)\n",
      "5.420521020889282 : df_subtracted_frame = get_df_voxel_subtracted_frame(list_df_voxel_scene, frame_idx, n_frames_per_side, shift)\n",
      "1.0900688171386719 : df_frame_orig['voxel_id'] =  df_frame_orig.apply(lambda x: point_to_voxel(x, voxel_size), axis=1)\n",
      "0.0009882450103759766 : df_labels = df_frame_orig.voxel_id.isin(df_subtracted_frame.voxel_id)\n",
      "(238, 5)\n",
      "0.12566256523132324 : df_frame_orig_subtracted = df_frame_orig[df_labels]\n",
      "(2646, 5)\n",
      "file_labels: voxelling_output/submission_files/vid_1_pred_lee/0000164_labels.csv\n",
      "0.07975411415100098 : df_labels.to_csv(pickles_path+\"df_labels__frame_%d__%s__voxel_size_%d.p\"%(frame_idx, vid, voxel_size))\n",
      "2646\n",
      "0.027924537658691406 : save_frame_for_movie(df_frame_orig_subtracted, \"tmp_only_labeled/\", all_files, frame_idx)\n"
     ]
    },
    {
     "name": "stderr",
     "output_type": "stream",
     "text": [
      "\r",
      " 17%|██████████████████████████▊                                                                                                                                   | 150/885 [15:47<1:17:22,  6.32s/it]"
     ]
    },
    {
     "name": "stdout",
     "output_type": "stream",
     "text": [
      "=========================================================================\n",
      "frame_idx = 165\n",
      "=========================================================================\n",
      "0.0009975433349609375 : list_idx = get_list_idx_for_frame(frame_idx, n_frames_per_side, shift)\n",
      "5.375861167907715 : df_subtracted_frame = get_df_voxel_subtracted_frame(list_df_voxel_scene, frame_idx, n_frames_per_side, shift)\n",
      "1.05318284034729 : df_frame_orig['voxel_id'] =  df_frame_orig.apply(lambda x: point_to_voxel(x, voxel_size), axis=1)\n",
      "0.0009875297546386719 : df_labels = df_frame_orig.voxel_id.isin(df_subtracted_frame.voxel_id)\n",
      "(276, 5)\n",
      "0.2354285717010498 : df_frame_orig_subtracted = df_frame_orig[df_labels]\n",
      "(2866, 5)\n",
      "file_labels: voxelling_output/submission_files/vid_1_pred_lee/0000165_labels.csv\n",
      "0.08176875114440918 : df_labels.to_csv(pickles_path+\"df_labels__frame_%d__%s__voxel_size_%d.p\"%(frame_idx, vid, voxel_size))\n",
      "2866\n",
      "0.027924299240112305 : save_frame_for_movie(df_frame_orig_subtracted, \"tmp_only_labeled/\", all_files, frame_idx)\n"
     ]
    },
    {
     "name": "stderr",
     "output_type": "stream",
     "text": [
      "\r",
      " 17%|██████████████████████████▉                                                                                                                                   | 151/885 [15:54<1:17:18,  6.32s/it]"
     ]
    },
    {
     "name": "stdout",
     "output_type": "stream",
     "text": [
      "=========================================================================\n",
      "frame_idx = 166\n",
      "=========================================================================\n",
      "0.0 : list_idx = get_list_idx_for_frame(frame_idx, n_frames_per_side, shift)\n",
      "5.571527004241943 : df_subtracted_frame = get_df_voxel_subtracted_frame(list_df_voxel_scene, frame_idx, n_frames_per_side, shift)\n",
      "1.1638872623443604 : df_frame_orig['voxel_id'] =  df_frame_orig.apply(lambda x: point_to_voxel(x, voxel_size), axis=1)\n",
      "0.000995635986328125 : df_labels = df_frame_orig.voxel_id.isin(df_subtracted_frame.voxel_id)\n",
      "(238, 5)\n",
      "0.13465189933776855 : df_frame_orig_subtracted = df_frame_orig[df_labels]\n",
      "(2889, 5)\n",
      "file_labels: voxelling_output/submission_files/vid_1_pred_lee/0000166_labels.csv\n",
      "0.0887608528137207 : df_labels.to_csv(pickles_path+\"df_labels__frame_%d__%s__voxel_size_%d.p\"%(frame_idx, vid, voxel_size))\n",
      "2889\n",
      "0.03490805625915527 : save_frame_for_movie(df_frame_orig_subtracted, \"tmp_only_labeled/\", all_files, frame_idx)\n"
     ]
    },
    {
     "name": "stderr",
     "output_type": "stream",
     "text": [
      "\r",
      " 17%|███████████████████████████▏                                                                                                                                  | 152/885 [16:01<1:17:15,  6.32s/it]"
     ]
    },
    {
     "name": "stdout",
     "output_type": "stream",
     "text": [
      "=========================================================================\n",
      "frame_idx = 167\n",
      "=========================================================================\n",
      "0.0 : list_idx = get_list_idx_for_frame(frame_idx, n_frames_per_side, shift)\n",
      "5.595616817474365 : df_subtracted_frame = get_df_voxel_subtracted_frame(list_df_voxel_scene, frame_idx, n_frames_per_side, shift)\n",
      "1.1469826698303223 : df_frame_orig['voxel_id'] =  df_frame_orig.apply(lambda x: point_to_voxel(x, voxel_size), axis=1)\n",
      "0.000993490219116211 : df_labels = df_frame_orig.voxel_id.isin(df_subtracted_frame.voxel_id)\n",
      "(233, 5)\n",
      "0.1306467056274414 : df_frame_orig_subtracted = df_frame_orig[df_labels]\n",
      "(3022, 5)\n",
      "file_labels: voxelling_output/submission_files/vid_1_pred_lee/0000167_labels.csv\n",
      "0.07779073715209961 : df_labels.to_csv(pickles_path+\"df_labels__frame_%d__%s__voxel_size_%d.p\"%(frame_idx, vid, voxel_size))\n",
      "3022\n",
      "0.0329127311706543 : save_frame_for_movie(df_frame_orig_subtracted, \"tmp_only_labeled/\", all_files, frame_idx)\n"
     ]
    },
    {
     "name": "stderr",
     "output_type": "stream",
     "text": [
      "\r",
      " 17%|███████████████████████████▎                                                                                                                                  | 153/885 [16:08<1:17:12,  6.33s/it]"
     ]
    },
    {
     "name": "stdout",
     "output_type": "stream",
     "text": [
      "=========================================================================\n",
      "frame_idx = 168\n",
      "=========================================================================\n",
      "0.0 : list_idx = get_list_idx_for_frame(frame_idx, n_frames_per_side, shift)\n",
      "5.392085790634155 : df_subtracted_frame = get_df_voxel_subtracted_frame(list_df_voxel_scene, frame_idx, n_frames_per_side, shift)\n",
      "1.1978232860565186 : df_frame_orig['voxel_id'] =  df_frame_orig.apply(lambda x: point_to_voxel(x, voxel_size), axis=1)\n",
      "0.0019752979278564453 : df_labels = df_frame_orig.voxel_id.isin(df_subtracted_frame.voxel_id)\n",
      "(257, 5)\n",
      "0.14061331748962402 : df_frame_orig_subtracted = df_frame_orig[df_labels]\n",
      "(3537, 5)\n",
      "file_labels: voxelling_output/submission_files/vid_1_pred_lee/0000168_labels.csv\n",
      "0.07876801490783691 : df_labels.to_csv(pickles_path+\"df_labels__frame_%d__%s__voxel_size_%d.p\"%(frame_idx, vid, voxel_size))\n",
      "3537\n",
      "0.04487895965576172 : save_frame_for_movie(df_frame_orig_subtracted, \"tmp_only_labeled/\", all_files, frame_idx)\n"
     ]
    },
    {
     "name": "stderr",
     "output_type": "stream",
     "text": [
      "\r",
      " 17%|███████████████████████████▍                                                                                                                                  | 154/885 [16:15<1:17:08,  6.33s/it]"
     ]
    },
    {
     "name": "stdout",
     "output_type": "stream",
     "text": [
      "=========================================================================\n",
      "frame_idx = 169\n",
      "=========================================================================\n",
      "0.0 : list_idx = get_list_idx_for_frame(frame_idx, n_frames_per_side, shift)\n",
      "5.98201847076416 : df_subtracted_frame = get_df_voxel_subtracted_frame(list_df_voxel_scene, frame_idx, n_frames_per_side, shift)\n",
      "1.1529347896575928 : df_frame_orig['voxel_id'] =  df_frame_orig.apply(lambda x: point_to_voxel(x, voxel_size), axis=1)\n",
      "0.001994609832763672 : df_labels = df_frame_orig.voxel_id.isin(df_subtracted_frame.voxel_id)\n",
      "(240, 5)\n",
      "0.12865543365478516 : df_frame_orig_subtracted = df_frame_orig[df_labels]\n",
      "(3337, 5)\n",
      "file_labels: voxelling_output/submission_files/vid_1_pred_lee/0000169_labels.csv\n",
      "0.08078265190124512 : df_labels.to_csv(pickles_path+\"df_labels__frame_%d__%s__voxel_size_%d.p\"%(frame_idx, vid, voxel_size))\n",
      "3337\n",
      "0.0309145450592041 : save_frame_for_movie(df_frame_orig_subtracted, \"tmp_only_labeled/\", all_files, frame_idx)\n"
     ]
    },
    {
     "name": "stderr",
     "output_type": "stream",
     "text": [
      "\r",
      " 18%|███████████████████████████▋                                                                                                                                  | 155/885 [16:22<1:17:07,  6.34s/it]"
     ]
    },
    {
     "name": "stdout",
     "output_type": "stream",
     "text": [
      "=========================================================================\n",
      "frame_idx = 170\n",
      "=========================================================================\n",
      "0.0 : list_idx = get_list_idx_for_frame(frame_idx, n_frames_per_side, shift)\n",
      "5.326745510101318 : df_subtracted_frame = get_df_voxel_subtracted_frame(list_df_voxel_scene, frame_idx, n_frames_per_side, shift)\n",
      "1.3174772262573242 : df_frame_orig['voxel_id'] =  df_frame_orig.apply(lambda x: point_to_voxel(x, voxel_size), axis=1)\n",
      "0.0009982585906982422 : df_labels = df_frame_orig.voxel_id.isin(df_subtracted_frame.voxel_id)\n",
      "(223, 5)\n",
      "0.14561033248901367 : df_frame_orig_subtracted = df_frame_orig[df_labels]\n",
      "(3954, 5)\n",
      "file_labels: voxelling_output/submission_files/vid_1_pred_lee/0000170_labels.csv\n",
      "0.08275270462036133 : df_labels.to_csv(pickles_path+\"df_labels__frame_%d__%s__voxel_size_%d.p\"%(frame_idx, vid, voxel_size))\n",
      "3954\n",
      "0.03989267349243164 : save_frame_for_movie(df_frame_orig_subtracted, \"tmp_only_labeled/\", all_files, frame_idx)\n"
     ]
    },
    {
     "name": "stderr",
     "output_type": "stream",
     "text": [
      "\r",
      " 18%|███████████████████████████▊                                                                                                                                  | 156/885 [16:29<1:17:03,  6.34s/it]"
     ]
    },
    {
     "name": "stdout",
     "output_type": "stream",
     "text": [
      "=========================================================================\n",
      "frame_idx = 171\n",
      "=========================================================================\n",
      "0.0 : list_idx = get_list_idx_for_frame(frame_idx, n_frames_per_side, shift)\n",
      "5.500289440155029 : df_subtracted_frame = get_df_voxel_subtracted_frame(list_df_voxel_scene, frame_idx, n_frames_per_side, shift)\n",
      "1.1220386028289795 : df_frame_orig['voxel_id'] =  df_frame_orig.apply(lambda x: point_to_voxel(x, voxel_size), axis=1)\n",
      "0.0010080337524414062 : df_labels = df_frame_orig.voxel_id.isin(df_subtracted_frame.voxel_id)\n",
      "(232, 5)\n",
      "0.13564229011535645 : df_frame_orig_subtracted = df_frame_orig[df_labels]\n",
      "(4061, 5)\n",
      "file_labels: voxelling_output/submission_files/vid_1_pred_lee/0000171_labels.csv\n",
      "0.08876228332519531 : df_labels.to_csv(pickles_path+\"df_labels__frame_%d__%s__voxel_size_%d.p\"%(frame_idx, vid, voxel_size))\n",
      "4061\n",
      "0.039904117584228516 : save_frame_for_movie(df_frame_orig_subtracted, \"tmp_only_labeled/\", all_files, frame_idx)\n"
     ]
    },
    {
     "name": "stderr",
     "output_type": "stream",
     "text": [
      "\r",
      " 18%|████████████████████████████                                                                                                                                  | 157/885 [16:36<1:16:59,  6.35s/it]"
     ]
    },
    {
     "name": "stdout",
     "output_type": "stream",
     "text": [
      "=========================================================================\n",
      "frame_idx = 172\n",
      "=========================================================================\n",
      "0.0 : list_idx = get_list_idx_for_frame(frame_idx, n_frames_per_side, shift)\n",
      "5.411566257476807 : df_subtracted_frame = get_df_voxel_subtracted_frame(list_df_voxel_scene, frame_idx, n_frames_per_side, shift)\n",
      "1.1210780143737793 : df_frame_orig['voxel_id'] =  df_frame_orig.apply(lambda x: point_to_voxel(x, voxel_size), axis=1)\n",
      "0.0009927749633789062 : df_labels = df_frame_orig.voxel_id.isin(df_subtracted_frame.voxel_id)\n",
      "(212, 5)\n",
      "0.1326436996459961 : df_frame_orig_subtracted = df_frame_orig[df_labels]\n",
      "(4003, 5)\n",
      "file_labels: voxelling_output/submission_files/vid_1_pred_lee/0000172_labels.csv\n",
      "0.08277702331542969 : df_labels.to_csv(pickles_path+\"df_labels__frame_%d__%s__voxel_size_%d.p\"%(frame_idx, vid, voxel_size))\n",
      "4003\n",
      "0.038880348205566406 : save_frame_for_movie(df_frame_orig_subtracted, \"tmp_only_labeled/\", all_files, frame_idx)\n"
     ]
    },
    {
     "name": "stderr",
     "output_type": "stream",
     "text": [
      "\r",
      " 18%|████████████████████████████▏                                                                                                                                 | 158/885 [16:43<1:16:55,  6.35s/it]"
     ]
    },
    {
     "name": "stdout",
     "output_type": "stream",
     "text": [
      "=========================================================================\n",
      "frame_idx = 173\n",
      "=========================================================================\n",
      "0.0 : list_idx = get_list_idx_for_frame(frame_idx, n_frames_per_side, shift)\n",
      "5.410560607910156 : df_subtracted_frame = get_df_voxel_subtracted_frame(list_df_voxel_scene, frame_idx, n_frames_per_side, shift)\n",
      "1.243713140487671 : df_frame_orig['voxel_id'] =  df_frame_orig.apply(lambda x: point_to_voxel(x, voxel_size), axis=1)\n",
      "0.000997304916381836 : df_labels = df_frame_orig.voxel_id.isin(df_subtracted_frame.voxel_id)\n",
      "(215, 5)\n",
      "0.1386280059814453 : df_frame_orig_subtracted = df_frame_orig[df_labels]\n",
      "(4193, 5)\n",
      "file_labels: voxelling_output/submission_files/vid_1_pred_lee/0000173_labels.csv\n",
      "0.0887596607208252 : df_labels.to_csv(pickles_path+\"df_labels__frame_%d__%s__voxel_size_%d.p\"%(frame_idx, vid, voxel_size))\n",
      "4193\n",
      "0.048866987228393555 : save_frame_for_movie(df_frame_orig_subtracted, \"tmp_only_labeled/\", all_files, frame_idx)\n"
     ]
    },
    {
     "name": "stderr",
     "output_type": "stream",
     "text": [
      "\r",
      " 18%|████████████████████████████▍                                                                                                                                 | 159/885 [16:50<1:16:52,  6.35s/it]"
     ]
    },
    {
     "name": "stdout",
     "output_type": "stream",
     "text": [
      "=========================================================================\n",
      "frame_idx = 174\n",
      "=========================================================================\n",
      "0.0 : list_idx = get_list_idx_for_frame(frame_idx, n_frames_per_side, shift)\n",
      "5.586885452270508 : df_subtracted_frame = get_df_voxel_subtracted_frame(list_df_voxel_scene, frame_idx, n_frames_per_side, shift)\n",
      "1.1190054416656494 : df_frame_orig['voxel_id'] =  df_frame_orig.apply(lambda x: point_to_voxel(x, voxel_size), axis=1)\n",
      "0.0009965896606445312 : df_labels = df_frame_orig.voxel_id.isin(df_subtracted_frame.voxel_id)\n",
      "(216, 5)\n",
      "0.13364076614379883 : df_frame_orig_subtracted = df_frame_orig[df_labels]\n",
      "(4135, 5)\n",
      "file_labels: voxelling_output/submission_files/vid_1_pred_lee/0000174_labels.csv\n",
      "0.07579922676086426 : df_labels.to_csv(pickles_path+\"df_labels__frame_%d__%s__voxel_size_%d.p\"%(frame_idx, vid, voxel_size))\n",
      "4135\n",
      "0.03591513633728027 : save_frame_for_movie(df_frame_orig_subtracted, \"tmp_only_labeled/\", all_files, frame_idx)\n"
     ]
    },
    {
     "name": "stderr",
     "output_type": "stream",
     "text": [
      "\r",
      " 18%|████████████████████████████▌                                                                                                                                 | 160/885 [16:57<1:16:48,  6.36s/it]"
     ]
    },
    {
     "name": "stdout",
     "output_type": "stream",
     "text": [
      "=========================================================================\n",
      "frame_idx = 175\n",
      "=========================================================================\n",
      "0.0009980201721191406 : list_idx = get_list_idx_for_frame(frame_idx, n_frames_per_side, shift)\n",
      "5.147232532501221 : df_subtracted_frame = get_df_voxel_subtracted_frame(list_df_voxel_scene, frame_idx, n_frames_per_side, shift)\n",
      "1.0890860557556152 : df_frame_orig['voxel_id'] =  df_frame_orig.apply(lambda x: point_to_voxel(x, voxel_size), axis=1)\n",
      "0.001995086669921875 : df_labels = df_frame_orig.voxel_id.isin(df_subtracted_frame.voxel_id)\n",
      "(251, 5)\n",
      "0.1258101463317871 : df_frame_orig_subtracted = df_frame_orig[df_labels]\n",
      "(4110, 5)\n",
      "file_labels: voxelling_output/submission_files/vid_1_pred_lee/0000175_labels.csv\n",
      "0.07380270957946777 : df_labels.to_csv(pickles_path+\"df_labels__frame_%d__%s__voxel_size_%d.p\"%(frame_idx, vid, voxel_size))\n",
      "4110\n",
      "0.04188823699951172 : save_frame_for_movie(df_frame_orig_subtracted, \"tmp_only_labeled/\", all_files, frame_idx)\n"
     ]
    },
    {
     "name": "stderr",
     "output_type": "stream",
     "text": [
      "\r",
      " 18%|████████████████████████████▋                                                                                                                                 | 161/885 [17:03<1:16:42,  6.36s/it]"
     ]
    },
    {
     "name": "stdout",
     "output_type": "stream",
     "text": [
      "=========================================================================\n",
      "frame_idx = 176\n",
      "=========================================================================\n",
      "0.0 : list_idx = get_list_idx_for_frame(frame_idx, n_frames_per_side, shift)\n",
      "5.332734107971191 : df_subtracted_frame = get_df_voxel_subtracted_frame(list_df_voxel_scene, frame_idx, n_frames_per_side, shift)\n",
      "1.1738998889923096 : df_frame_orig['voxel_id'] =  df_frame_orig.apply(lambda x: point_to_voxel(x, voxel_size), axis=1)\n",
      "0.000982522964477539 : df_labels = df_frame_orig.voxel_id.isin(df_subtracted_frame.voxel_id)\n",
      "(216, 5)\n",
      "0.14066267013549805 : df_frame_orig_subtracted = df_frame_orig[df_labels]\n",
      "(4149, 5)\n",
      "file_labels: voxelling_output/submission_files/vid_1_pred_lee/0000176_labels.csv\n",
      "0.07779145240783691 : df_labels.to_csv(pickles_path+\"df_labels__frame_%d__%s__voxel_size_%d.p\"%(frame_idx, vid, voxel_size))\n",
      "4149\n",
      "0.036920785903930664 : save_frame_for_movie(df_frame_orig_subtracted, \"tmp_only_labeled/\", all_files, frame_idx)\n"
     ]
    },
    {
     "name": "stderr",
     "output_type": "stream",
     "text": [
      "\r",
      " 18%|████████████████████████████▉                                                                                                                                 | 162/885 [17:10<1:16:38,  6.36s/it]"
     ]
    },
    {
     "name": "stdout",
     "output_type": "stream",
     "text": [
      "=========================================================================\n",
      "frame_idx = 177\n",
      "=========================================================================\n",
      "0.0 : list_idx = get_list_idx_for_frame(frame_idx, n_frames_per_side, shift)\n",
      "5.368639945983887 : df_subtracted_frame = get_df_voxel_subtracted_frame(list_df_voxel_scene, frame_idx, n_frames_per_side, shift)\n",
      "1.1130609512329102 : df_frame_orig['voxel_id'] =  df_frame_orig.apply(lambda x: point_to_voxel(x, voxel_size), axis=1)\n",
      "0.0010008811950683594 : df_labels = df_frame_orig.voxel_id.isin(df_subtracted_frame.voxel_id)\n",
      "(206, 5)\n",
      "0.136627197265625 : df_frame_orig_subtracted = df_frame_orig[df_labels]\n",
      "(4400, 5)\n",
      "file_labels: voxelling_output/submission_files/vid_1_pred_lee/0000177_labels.csv\n",
      "0.08278536796569824 : df_labels.to_csv(pickles_path+\"df_labels__frame_%d__%s__voxel_size_%d.p\"%(frame_idx, vid, voxel_size))\n",
      "4400\n",
      "0.039885759353637695 : save_frame_for_movie(df_frame_orig_subtracted, \"tmp_only_labeled/\", all_files, frame_idx)\n"
     ]
    },
    {
     "name": "stderr",
     "output_type": "stream",
     "text": [
      "\r",
      " 18%|█████████████████████████████                                                                                                                                 | 163/885 [17:17<1:16:33,  6.36s/it]"
     ]
    },
    {
     "name": "stdout",
     "output_type": "stream",
     "text": [
      "=========================================================================\n",
      "frame_idx = 178\n",
      "=========================================================================\n",
      "0.0 : list_idx = get_list_idx_for_frame(frame_idx, n_frames_per_side, shift)\n",
      "5.431472301483154 : df_subtracted_frame = get_df_voxel_subtracted_frame(list_df_voxel_scene, frame_idx, n_frames_per_side, shift)\n",
      "1.0591676235198975 : df_frame_orig['voxel_id'] =  df_frame_orig.apply(lambda x: point_to_voxel(x, voxel_size), axis=1)\n",
      "0.0019996166229248047 : df_labels = df_frame_orig.voxel_id.isin(df_subtracted_frame.voxel_id)\n",
      "(228, 5)\n",
      "0.14161968231201172 : df_frame_orig_subtracted = df_frame_orig[df_labels]\n",
      "(4553, 5)\n",
      "file_labels: voxelling_output/submission_files/vid_1_pred_lee/0000178_labels.csv\n",
      "0.07880592346191406 : df_labels.to_csv(pickles_path+\"df_labels__frame_%d__%s__voxel_size_%d.p\"%(frame_idx, vid, voxel_size))\n",
      "4553\n",
      "0.04288458824157715 : save_frame_for_movie(df_frame_orig_subtracted, \"tmp_only_labeled/\", all_files, frame_idx)\n"
     ]
    },
    {
     "name": "stderr",
     "output_type": "stream",
     "text": [
      "\r",
      " 19%|█████████████████████████████▎                                                                                                                                | 164/885 [17:23<1:16:29,  6.37s/it]"
     ]
    },
    {
     "name": "stdout",
     "output_type": "stream",
     "text": [
      "=========================================================================\n",
      "frame_idx = 179\n",
      "=========================================================================\n",
      "0.0 : list_idx = get_list_idx_for_frame(frame_idx, n_frames_per_side, shift)\n",
      "5.391578674316406 : df_subtracted_frame = get_df_voxel_subtracted_frame(list_df_voxel_scene, frame_idx, n_frames_per_side, shift)\n",
      "1.0601646900177002 : df_frame_orig['voxel_id'] =  df_frame_orig.apply(lambda x: point_to_voxel(x, voxel_size), axis=1)\n",
      "0.0019943714141845703 : df_labels = df_frame_orig.voxel_id.isin(df_subtracted_frame.voxel_id)\n",
      "(217, 5)\n",
      "0.13067626953125 : df_frame_orig_subtracted = df_frame_orig[df_labels]\n",
      "(4824, 5)\n",
      "file_labels: voxelling_output/submission_files/vid_1_pred_lee/0000179_labels.csv\n",
      "0.08478450775146484 : df_labels.to_csv(pickles_path+\"df_labels__frame_%d__%s__voxel_size_%d.p\"%(frame_idx, vid, voxel_size))\n",
      "4824\n",
      "0.04286694526672363 : save_frame_for_movie(df_frame_orig_subtracted, \"tmp_only_labeled/\", all_files, frame_idx)\n"
     ]
    },
    {
     "name": "stderr",
     "output_type": "stream",
     "text": [
      "\r",
      " 19%|█████████████████████████████▍                                                                                                                                | 165/885 [17:30<1:16:24,  6.37s/it]"
     ]
    },
    {
     "name": "stdout",
     "output_type": "stream",
     "text": [
      "=========================================================================\n",
      "frame_idx = 180\n",
      "=========================================================================\n",
      "0.0 : list_idx = get_list_idx_for_frame(frame_idx, n_frames_per_side, shift)\n",
      "5.557132959365845 : df_subtracted_frame = get_df_voxel_subtracted_frame(list_df_voxel_scene, frame_idx, n_frames_per_side, shift)\n",
      "1.1977958679199219 : df_frame_orig['voxel_id'] =  df_frame_orig.apply(lambda x: point_to_voxel(x, voxel_size), axis=1)\n",
      "0.0009930133819580078 : df_labels = df_frame_orig.voxel_id.isin(df_subtracted_frame.voxel_id)\n",
      "(225, 5)\n",
      "0.14659547805786133 : df_frame_orig_subtracted = df_frame_orig[df_labels]\n",
      "(5013, 5)\n",
      "file_labels: voxelling_output/submission_files/vid_1_pred_lee/0000180_labels.csv\n",
      "0.07880163192749023 : df_labels.to_csv(pickles_path+\"df_labels__frame_%d__%s__voxel_size_%d.p\"%(frame_idx, vid, voxel_size))\n",
      "5013\n",
      "0.04388308525085449 : save_frame_for_movie(df_frame_orig_subtracted, \"tmp_only_labeled/\", all_files, frame_idx)\n"
     ]
    },
    {
     "name": "stderr",
     "output_type": "stream",
     "text": [
      "\r",
      " 19%|█████████████████████████████▋                                                                                                                                | 166/885 [17:37<1:16:21,  6.37s/it]"
     ]
    },
    {
     "name": "stdout",
     "output_type": "stream",
     "text": [
      "=========================================================================\n",
      "frame_idx = 181\n",
      "=========================================================================\n",
      "0.0 : list_idx = get_list_idx_for_frame(frame_idx, n_frames_per_side, shift)\n",
      "5.612973213195801 : df_subtracted_frame = get_df_voxel_subtracted_frame(list_df_voxel_scene, frame_idx, n_frames_per_side, shift)\n",
      "1.1609241962432861 : df_frame_orig['voxel_id'] =  df_frame_orig.apply(lambda x: point_to_voxel(x, voxel_size), axis=1)\n",
      "0.000997781753540039 : df_labels = df_frame_orig.voxel_id.isin(df_subtracted_frame.voxel_id)\n",
      "(256, 5)\n",
      "0.14165163040161133 : df_frame_orig_subtracted = df_frame_orig[df_labels]\n",
      "(5166, 5)\n",
      "file_labels: voxelling_output/submission_files/vid_1_pred_lee/0000181_labels.csv\n",
      "0.08078384399414062 : df_labels.to_csv(pickles_path+\"df_labels__frame_%d__%s__voxel_size_%d.p\"%(frame_idx, vid, voxel_size))\n",
      "5166\n",
      "0.04590654373168945 : save_frame_for_movie(df_frame_orig_subtracted, \"tmp_only_labeled/\", all_files, frame_idx)\n"
     ]
    },
    {
     "name": "stderr",
     "output_type": "stream",
     "text": [
      "\r",
      " 19%|█████████████████████████████▊                                                                                                                                | 167/885 [17:44<1:16:17,  6.38s/it]"
     ]
    },
    {
     "name": "stdout",
     "output_type": "stream",
     "text": [
      "=========================================================================\n",
      "frame_idx = 182\n",
      "=========================================================================\n",
      "0.0 : list_idx = get_list_idx_for_frame(frame_idx, n_frames_per_side, shift)\n",
      "5.886239528656006 : df_subtracted_frame = get_df_voxel_subtracted_frame(list_df_voxel_scene, frame_idx, n_frames_per_side, shift)\n",
      "1.080143690109253 : df_frame_orig['voxel_id'] =  df_frame_orig.apply(lambda x: point_to_voxel(x, voxel_size), axis=1)\n",
      "0.001993894577026367 : df_labels = df_frame_orig.voxel_id.isin(df_subtracted_frame.voxel_id)\n",
      "(251, 5)\n",
      "0.14864063262939453 : df_frame_orig_subtracted = df_frame_orig[df_labels]\n",
      "(5550, 5)\n",
      "file_labels: voxelling_output/submission_files/vid_1_pred_lee/0000182_labels.csv\n",
      "0.09475421905517578 : df_labels.to_csv(pickles_path+\"df_labels__frame_%d__%s__voxel_size_%d.p\"%(frame_idx, vid, voxel_size))\n",
      "5550\n",
      "0.05485224723815918 : save_frame_for_movie(df_frame_orig_subtracted, \"tmp_only_labeled/\", all_files, frame_idx)\n"
     ]
    },
    {
     "name": "stderr",
     "output_type": "stream",
     "text": [
      "\r",
      " 19%|█████████████████████████████▉                                                                                                                                | 168/885 [17:52<1:16:15,  6.38s/it]"
     ]
    },
    {
     "name": "stdout",
     "output_type": "stream",
     "text": [
      "=========================================================================\n",
      "frame_idx = 183\n",
      "=========================================================================\n",
      "0.0 : list_idx = get_list_idx_for_frame(frame_idx, n_frames_per_side, shift)\n",
      "5.595189332962036 : df_subtracted_frame = get_df_voxel_subtracted_frame(list_df_voxel_scene, frame_idx, n_frames_per_side, shift)\n",
      "1.0971052646636963 : df_frame_orig['voxel_id'] =  df_frame_orig.apply(lambda x: point_to_voxel(x, voxel_size), axis=1)\n",
      "0.0019948482513427734 : df_labels = df_frame_orig.voxel_id.isin(df_subtracted_frame.voxel_id)\n",
      "(239, 5)\n",
      "0.1436152458190918 : df_frame_orig_subtracted = df_frame_orig[df_labels]\n",
      "(6191, 5)\n",
      "file_labels: voxelling_output/submission_files/vid_1_pred_lee/0000183_labels.csv\n",
      "0.08877062797546387 : df_labels.to_csv(pickles_path+\"df_labels__frame_%d__%s__voxel_size_%d.p\"%(frame_idx, vid, voxel_size))\n",
      "6191\n",
      "0.055850982666015625 : save_frame_for_movie(df_frame_orig_subtracted, \"tmp_only_labeled/\", all_files, frame_idx)\n"
     ]
    },
    {
     "name": "stderr",
     "output_type": "stream",
     "text": [
      "\r",
      " 19%|██████████████████████████████▏                                                                                                                               | 169/885 [17:59<1:16:11,  6.38s/it]"
     ]
    },
    {
     "name": "stdout",
     "output_type": "stream",
     "text": [
      "=========================================================================\n",
      "frame_idx = 184\n",
      "=========================================================================\n",
      "0.0 : list_idx = get_list_idx_for_frame(frame_idx, n_frames_per_side, shift)\n",
      "5.681862831115723 : df_subtracted_frame = get_df_voxel_subtracted_frame(list_df_voxel_scene, frame_idx, n_frames_per_side, shift)\n",
      "1.1459660530090332 : df_frame_orig['voxel_id'] =  df_frame_orig.apply(lambda x: point_to_voxel(x, voxel_size), axis=1)\n",
      "0.0009968280792236328 : df_labels = df_frame_orig.voxel_id.isin(df_subtracted_frame.voxel_id)\n",
      "(241, 5)\n",
      "0.13862872123718262 : df_frame_orig_subtracted = df_frame_orig[df_labels]\n",
      "(6313, 5)\n",
      "file_labels: voxelling_output/submission_files/vid_1_pred_lee/0000184_labels.csv\n",
      "0.07483625411987305 : df_labels.to_csv(pickles_path+\"df_labels__frame_%d__%s__voxel_size_%d.p\"%(frame_idx, vid, voxel_size))\n",
      "6313\n",
      "0.04986143112182617 : save_frame_for_movie(df_frame_orig_subtracted, \"tmp_only_labeled/\", all_files, frame_idx)\n"
     ]
    },
    {
     "name": "stderr",
     "output_type": "stream",
     "text": [
      "\r",
      " 19%|██████████████████████████████▎                                                                                                                               | 170/885 [18:06<1:16:08,  6.39s/it]"
     ]
    },
    {
     "name": "stdout",
     "output_type": "stream",
     "text": [
      "=========================================================================\n",
      "frame_idx = 185\n",
      "=========================================================================\n",
      "0.0 : list_idx = get_list_idx_for_frame(frame_idx, n_frames_per_side, shift)\n",
      "5.707461833953857 : df_subtracted_frame = get_df_voxel_subtracted_frame(list_df_voxel_scene, frame_idx, n_frames_per_side, shift)\n",
      "1.1259989738464355 : df_frame_orig['voxel_id'] =  df_frame_orig.apply(lambda x: point_to_voxel(x, voxel_size), axis=1)\n",
      "0.0010113716125488281 : df_labels = df_frame_orig.voxel_id.isin(df_subtracted_frame.voxel_id)\n",
      "(284, 5)\n",
      "0.1257011890411377 : df_frame_orig_subtracted = df_frame_orig[df_labels]\n",
      "(6148, 5)\n",
      "file_labels: voxelling_output/submission_files/vid_1_pred_lee/0000185_labels.csv\n",
      "0.0857698917388916 : df_labels.to_csv(pickles_path+\"df_labels__frame_%d__%s__voxel_size_%d.p\"%(frame_idx, vid, voxel_size))\n",
      "6148\n",
      "0.050861358642578125 : save_frame_for_movie(df_frame_orig_subtracted, \"tmp_only_labeled/\", all_files, frame_idx)\n"
     ]
    },
    {
     "name": "stderr",
     "output_type": "stream",
     "text": [
      "\r",
      " 19%|██████████████████████████████▌                                                                                                                               | 171/885 [18:13<1:16:04,  6.39s/it]"
     ]
    },
    {
     "name": "stdout",
     "output_type": "stream",
     "text": [
      "=========================================================================\n",
      "frame_idx = 186\n",
      "=========================================================================\n",
      "0.0 : list_idx = get_list_idx_for_frame(frame_idx, n_frames_per_side, shift)\n",
      "5.502130031585693 : df_subtracted_frame = get_df_voxel_subtracted_frame(list_df_voxel_scene, frame_idx, n_frames_per_side, shift)\n",
      "1.1489269733428955 : df_frame_orig['voxel_id'] =  df_frame_orig.apply(lambda x: point_to_voxel(x, voxel_size), axis=1)\n",
      "0.0009710788726806641 : df_labels = df_frame_orig.voxel_id.isin(df_subtracted_frame.voxel_id)\n",
      "(275, 5)\n",
      "0.1406257152557373 : df_frame_orig_subtracted = df_frame_orig[df_labels]\n",
      "(6223, 5)\n",
      "file_labels: voxelling_output/submission_files/vid_1_pred_lee/0000186_labels.csv\n",
      "0.07880687713623047 : df_labels.to_csv(pickles_path+\"df_labels__frame_%d__%s__voxel_size_%d.p\"%(frame_idx, vid, voxel_size))\n",
      "6223\n",
      "0.05186009407043457 : save_frame_for_movie(df_frame_orig_subtracted, \"tmp_only_labeled/\", all_files, frame_idx)\n"
     ]
    },
    {
     "name": "stderr",
     "output_type": "stream",
     "text": [
      "\r",
      " 19%|██████████████████████████████▋                                                                                                                               | 172/885 [18:20<1:16:00,  6.40s/it]"
     ]
    },
    {
     "name": "stdout",
     "output_type": "stream",
     "text": [
      "=========================================================================\n",
      "frame_idx = 187\n",
      "=========================================================================\n",
      "0.0009970664978027344 : list_idx = get_list_idx_for_frame(frame_idx, n_frames_per_side, shift)\n",
      "5.516666889190674 : df_subtracted_frame = get_df_voxel_subtracted_frame(list_df_voxel_scene, frame_idx, n_frames_per_side, shift)\n",
      "1.1380589008331299 : df_frame_orig['voxel_id'] =  df_frame_orig.apply(lambda x: point_to_voxel(x, voxel_size), axis=1)\n",
      "0.001995086669921875 : df_labels = df_frame_orig.voxel_id.isin(df_subtracted_frame.voxel_id)\n",
      "(309, 5)\n",
      "0.12865281105041504 : df_frame_orig_subtracted = df_frame_orig[df_labels]\n",
      "(6472, 5)\n",
      "file_labels: voxelling_output/submission_files/vid_1_pred_lee/0000187_labels.csv\n",
      "0.07981419563293457 : df_labels.to_csv(pickles_path+\"df_labels__frame_%d__%s__voxel_size_%d.p\"%(frame_idx, vid, voxel_size))\n",
      "6472\n",
      "0.05186748504638672 : save_frame_for_movie(df_frame_orig_subtracted, \"tmp_only_labeled/\", all_files, frame_idx)\n"
     ]
    },
    {
     "name": "stderr",
     "output_type": "stream",
     "text": [
      "\r",
      " 20%|██████████████████████████████▉                                                                                                                               | 173/885 [18:27<1:15:56,  6.40s/it]"
     ]
    },
    {
     "name": "stdout",
     "output_type": "stream",
     "text": [
      "=========================================================================\n",
      "frame_idx = 188\n",
      "=========================================================================\n",
      "0.0 : list_idx = get_list_idx_for_frame(frame_idx, n_frames_per_side, shift)\n",
      "5.609036207199097 : df_subtracted_frame = get_df_voxel_subtracted_frame(list_df_voxel_scene, frame_idx, n_frames_per_side, shift)\n",
      "1.173861026763916 : df_frame_orig['voxel_id'] =  df_frame_orig.apply(lambda x: point_to_voxel(x, voxel_size), axis=1)\n",
      "0.0009918212890625 : df_labels = df_frame_orig.voxel_id.isin(df_subtracted_frame.voxel_id)\n",
      "(275, 5)\n",
      "0.13064885139465332 : df_frame_orig_subtracted = df_frame_orig[df_labels]\n",
      "(6050, 5)\n",
      "file_labels: voxelling_output/submission_files/vid_1_pred_lee/0000188_labels.csv\n",
      "0.07581424713134766 : df_labels.to_csv(pickles_path+\"df_labels__frame_%d__%s__voxel_size_%d.p\"%(frame_idx, vid, voxel_size))\n",
      "6050\n",
      "0.04990339279174805 : save_frame_for_movie(df_frame_orig_subtracted, \"tmp_only_labeled/\", all_files, frame_idx)\n"
     ]
    },
    {
     "name": "stderr",
     "output_type": "stream",
     "text": [
      "\r",
      " 20%|███████████████████████████████                                                                                                                               | 174/885 [18:34<1:15:53,  6.40s/it]"
     ]
    },
    {
     "name": "stdout",
     "output_type": "stream",
     "text": [
      "=========================================================================\n",
      "frame_idx = 189\n",
      "=========================================================================\n",
      "0.0 : list_idx = get_list_idx_for_frame(frame_idx, n_frames_per_side, shift)\n",
      "5.603973150253296 : df_subtracted_frame = get_df_voxel_subtracted_frame(list_df_voxel_scene, frame_idx, n_frames_per_side, shift)\n",
      "1.09010910987854 : df_frame_orig['voxel_id'] =  df_frame_orig.apply(lambda x: point_to_voxel(x, voxel_size), axis=1)\n",
      "0.0009975433349609375 : df_labels = df_frame_orig.voxel_id.isin(df_subtracted_frame.voxel_id)\n",
      "(284, 5)\n",
      "0.12722039222717285 : df_frame_orig_subtracted = df_frame_orig[df_labels]\n",
      "(6476, 5)\n",
      "file_labels: voxelling_output/submission_files/vid_1_pred_lee/0000189_labels.csv\n",
      "0.08676600456237793 : df_labels.to_csv(pickles_path+\"df_labels__frame_%d__%s__voxel_size_%d.p\"%(frame_idx, vid, voxel_size))\n",
      "6476\n",
      "0.05285787582397461 : save_frame_for_movie(df_frame_orig_subtracted, \"tmp_only_labeled/\", all_files, frame_idx)\n"
     ]
    },
    {
     "name": "stderr",
     "output_type": "stream",
     "text": [
      "\r",
      " 20%|███████████████████████████████▏                                                                                                                              | 175/885 [18:41<1:15:48,  6.41s/it]"
     ]
    },
    {
     "name": "stdout",
     "output_type": "stream",
     "text": [
      "=========================================================================\n",
      "frame_idx = 190\n",
      "=========================================================================\n",
      "0.0 : list_idx = get_list_idx_for_frame(frame_idx, n_frames_per_side, shift)\n",
      "5.801957368850708 : df_subtracted_frame = get_df_voxel_subtracted_frame(list_df_voxel_scene, frame_idx, n_frames_per_side, shift)\n",
      "1.158900260925293 : df_frame_orig['voxel_id'] =  df_frame_orig.apply(lambda x: point_to_voxel(x, voxel_size), axis=1)\n",
      "0.0010006427764892578 : df_labels = df_frame_orig.voxel_id.isin(df_subtracted_frame.voxel_id)\n",
      "(326, 5)\n",
      "0.1516258716583252 : df_frame_orig_subtracted = df_frame_orig[df_labels]\n",
      "(7022, 5)\n",
      "file_labels: voxelling_output/submission_files/vid_1_pred_lee/0000190_labels.csv\n",
      "0.09177756309509277 : df_labels.to_csv(pickles_path+\"df_labels__frame_%d__%s__voxel_size_%d.p\"%(frame_idx, vid, voxel_size))\n",
      "7022\n",
      "0.059838294982910156 : save_frame_for_movie(df_frame_orig_subtracted, \"tmp_only_labeled/\", all_files, frame_idx)\n"
     ]
    },
    {
     "name": "stderr",
     "output_type": "stream",
     "text": [
      "\r",
      " 20%|███████████████████████████████▍                                                                                                                              | 176/885 [18:48<1:15:46,  6.41s/it]"
     ]
    },
    {
     "name": "stdout",
     "output_type": "stream",
     "text": [
      "=========================================================================\n",
      "frame_idx = 191\n",
      "=========================================================================\n",
      "0.0 : list_idx = get_list_idx_for_frame(frame_idx, n_frames_per_side, shift)\n",
      "6.209409236907959 : df_subtracted_frame = get_df_voxel_subtracted_frame(list_df_voxel_scene, frame_idx, n_frames_per_side, shift)\n",
      "1.1429667472839355 : df_frame_orig['voxel_id'] =  df_frame_orig.apply(lambda x: point_to_voxel(x, voxel_size), axis=1)\n",
      "0.0019969940185546875 : df_labels = df_frame_orig.voxel_id.isin(df_subtracted_frame.voxel_id)\n",
      "(293, 5)\n",
      "0.1429886817932129 : df_frame_orig_subtracted = df_frame_orig[df_labels]\n",
      "(6810, 5)\n",
      "file_labels: voxelling_output/submission_files/vid_1_pred_lee/0000191_labels.csv\n",
      "0.07879996299743652 : df_labels.to_csv(pickles_path+\"df_labels__frame_%d__%s__voxel_size_%d.p\"%(frame_idx, vid, voxel_size))\n",
      "6810\n",
      "0.052895307540893555 : save_frame_for_movie(df_frame_orig_subtracted, \"tmp_only_labeled/\", all_files, frame_idx)\n"
     ]
    },
    {
     "name": "stderr",
     "output_type": "stream",
     "text": [
      "\r",
      " 20%|███████████████████████████████▌                                                                                                                              | 177/885 [18:56<1:15:44,  6.42s/it]"
     ]
    },
    {
     "name": "stdout",
     "output_type": "stream",
     "text": [
      "=========================================================================\n",
      "frame_idx = 192\n",
      "=========================================================================\n",
      "0.0 : list_idx = get_list_idx_for_frame(frame_idx, n_frames_per_side, shift)\n",
      "6.042335271835327 : df_subtracted_frame = get_df_voxel_subtracted_frame(list_df_voxel_scene, frame_idx, n_frames_per_side, shift)\n",
      "1.1679191589355469 : df_frame_orig['voxel_id'] =  df_frame_orig.apply(lambda x: point_to_voxel(x, voxel_size), axis=1)\n",
      "0.0019855499267578125 : df_labels = df_frame_orig.voxel_id.isin(df_subtracted_frame.voxel_id)\n",
      "(320, 5)\n",
      "0.1338028907775879 : df_frame_orig_subtracted = df_frame_orig[df_labels]\n",
      "(6893, 5)\n",
      "file_labels: voxelling_output/submission_files/vid_1_pred_lee/0000192_labels.csv\n",
      "0.0857846736907959 : df_labels.to_csv(pickles_path+\"df_labels__frame_%d__%s__voxel_size_%d.p\"%(frame_idx, vid, voxel_size))\n",
      "6893\n",
      "0.05388903617858887 : save_frame_for_movie(df_frame_orig_subtracted, \"tmp_only_labeled/\", all_files, frame_idx)\n"
     ]
    },
    {
     "name": "stderr",
     "output_type": "stream",
     "text": [
      "\r",
      " 20%|███████████████████████████████▊                                                                                                                              | 178/885 [19:03<1:15:42,  6.43s/it]"
     ]
    },
    {
     "name": "stdout",
     "output_type": "stream",
     "text": [
      "=========================================================================\n",
      "frame_idx = 193\n",
      "=========================================================================\n",
      "0.0009970664978027344 : list_idx = get_list_idx_for_frame(frame_idx, n_frames_per_side, shift)\n",
      "5.856064319610596 : df_subtracted_frame = get_df_voxel_subtracted_frame(list_df_voxel_scene, frame_idx, n_frames_per_side, shift)\n",
      "1.0556788444519043 : df_frame_orig['voxel_id'] =  df_frame_orig.apply(lambda x: point_to_voxel(x, voxel_size), axis=1)\n",
      "0.001994609832763672 : df_labels = df_frame_orig.voxel_id.isin(df_subtracted_frame.voxel_id)\n",
      "(373, 5)\n",
      "0.1356351375579834 : df_frame_orig_subtracted = df_frame_orig[df_labels]\n",
      "(7209, 5)\n",
      "file_labels: voxelling_output/submission_files/vid_1_pred_lee/0000193_labels.csv\n",
      "0.07884001731872559 : df_labels.to_csv(pickles_path+\"df_labels__frame_%d__%s__voxel_size_%d.p\"%(frame_idx, vid, voxel_size))\n",
      "7209\n",
      "0.059839725494384766 : save_frame_for_movie(df_frame_orig_subtracted, \"tmp_only_labeled/\", all_files, frame_idx)\n"
     ]
    },
    {
     "name": "stderr",
     "output_type": "stream",
     "text": [
      "\r",
      " 20%|███████████████████████████████▉                                                                                                                              | 179/885 [19:10<1:15:39,  6.43s/it]"
     ]
    },
    {
     "name": "stdout",
     "output_type": "stream",
     "text": [
      "=========================================================================\n",
      "frame_idx = 194\n",
      "=========================================================================\n",
      "0.0 : list_idx = get_list_idx_for_frame(frame_idx, n_frames_per_side, shift)\n",
      "5.625995874404907 : df_subtracted_frame = get_df_voxel_subtracted_frame(list_df_voxel_scene, frame_idx, n_frames_per_side, shift)\n",
      "1.1509225368499756 : df_frame_orig['voxel_id'] =  df_frame_orig.apply(lambda x: point_to_voxel(x, voxel_size), axis=1)\n",
      "0.00099945068359375 : df_labels = df_frame_orig.voxel_id.isin(df_subtracted_frame.voxel_id)\n",
      "(363, 5)\n",
      "0.14162230491638184 : df_frame_orig_subtracted = df_frame_orig[df_labels]\n",
      "(7419, 5)\n",
      "file_labels: voxelling_output/submission_files/vid_1_pred_lee/0000194_labels.csv\n",
      "0.07978653907775879 : df_labels.to_csv(pickles_path+\"df_labels__frame_%d__%s__voxel_size_%d.p\"%(frame_idx, vid, voxel_size))\n",
      "7419\n",
      "0.05884361267089844 : save_frame_for_movie(df_frame_orig_subtracted, \"tmp_only_labeled/\", all_files, frame_idx)\n"
     ]
    },
    {
     "name": "stderr",
     "output_type": "stream",
     "text": [
      "\r",
      " 20%|████████████████████████████████▏                                                                                                                             | 180/885 [19:17<1:15:35,  6.43s/it]"
     ]
    },
    {
     "name": "stdout",
     "output_type": "stream",
     "text": [
      "=========================================================================\n",
      "frame_idx = 195\n",
      "=========================================================================\n",
      "0.0 : list_idx = get_list_idx_for_frame(frame_idx, n_frames_per_side, shift)\n",
      "5.539181709289551 : df_subtracted_frame = get_df_voxel_subtracted_frame(list_df_voxel_scene, frame_idx, n_frames_per_side, shift)\n",
      "1.2486672401428223 : df_frame_orig['voxel_id'] =  df_frame_orig.apply(lambda x: point_to_voxel(x, voxel_size), axis=1)\n",
      "0.0020096302032470703 : df_labels = df_frame_orig.voxel_id.isin(df_subtracted_frame.voxel_id)\n",
      "(336, 5)\n",
      "0.14161920547485352 : df_frame_orig_subtracted = df_frame_orig[df_labels]\n",
      "(7269, 5)\n",
      "file_labels: voxelling_output/submission_files/vid_1_pred_lee/0000195_labels.csv\n",
      "0.08277773857116699 : df_labels.to_csv(pickles_path+\"df_labels__frame_%d__%s__voxel_size_%d.p\"%(frame_idx, vid, voxel_size))\n",
      "7269\n",
      "0.059830665588378906 : save_frame_for_movie(df_frame_orig_subtracted, \"tmp_only_labeled/\", all_files, frame_idx)\n"
     ]
    },
    {
     "name": "stderr",
     "output_type": "stream",
     "text": [
      "\r",
      " 20%|████████████████████████████████▎                                                                                                                             | 181/885 [19:25<1:15:31,  6.44s/it]"
     ]
    },
    {
     "name": "stdout",
     "output_type": "stream",
     "text": [
      "=========================================================================\n",
      "frame_idx = 196\n",
      "=========================================================================\n",
      "0.0 : list_idx = get_list_idx_for_frame(frame_idx, n_frames_per_side, shift)\n",
      "5.705739259719849 : df_subtracted_frame = get_df_voxel_subtracted_frame(list_df_voxel_scene, frame_idx, n_frames_per_side, shift)\n",
      "1.1549491882324219 : df_frame_orig['voxel_id'] =  df_frame_orig.apply(lambda x: point_to_voxel(x, voxel_size), axis=1)\n",
      "0.001996278762817383 : df_labels = df_frame_orig.voxel_id.isin(df_subtracted_frame.voxel_id)\n",
      "(324, 5)\n",
      "0.13866138458251953 : df_frame_orig_subtracted = df_frame_orig[df_labels]\n",
      "(7404, 5)\n",
      "file_labels: voxelling_output/submission_files/vid_1_pred_lee/0000196_labels.csv\n",
      "0.08081722259521484 : df_labels.to_csv(pickles_path+\"df_labels__frame_%d__%s__voxel_size_%d.p\"%(frame_idx, vid, voxel_size))\n",
      "7404\n",
      "0.057839155197143555 : save_frame_for_movie(df_frame_orig_subtracted, \"tmp_only_labeled/\", all_files, frame_idx)\n"
     ]
    },
    {
     "name": "stderr",
     "output_type": "stream",
     "text": [
      "\r",
      " 21%|████████████████████████████████▍                                                                                                                             | 182/885 [19:32<1:15:27,  6.44s/it]"
     ]
    },
    {
     "name": "stdout",
     "output_type": "stream",
     "text": [
      "=========================================================================\n",
      "frame_idx = 197\n",
      "=========================================================================\n",
      "0.0 : list_idx = get_list_idx_for_frame(frame_idx, n_frames_per_side, shift)\n",
      "5.651882886886597 : df_subtracted_frame = get_df_voxel_subtracted_frame(list_df_voxel_scene, frame_idx, n_frames_per_side, shift)\n",
      "1.1888175010681152 : df_frame_orig['voxel_id'] =  df_frame_orig.apply(lambda x: point_to_voxel(x, voxel_size), axis=1)\n",
      "0.0019941329956054688 : df_labels = df_frame_orig.voxel_id.isin(df_subtracted_frame.voxel_id)\n",
      "(310, 5)\n",
      "0.14464402198791504 : df_frame_orig_subtracted = df_frame_orig[df_labels]\n",
      "(7237, 5)\n",
      "file_labels: voxelling_output/submission_files/vid_1_pred_lee/0000197_labels.csv\n",
      "0.07679438591003418 : df_labels.to_csv(pickles_path+\"df_labels__frame_%d__%s__voxel_size_%d.p\"%(frame_idx, vid, voxel_size))\n",
      "7237\n",
      "0.057845354080200195 : save_frame_for_movie(df_frame_orig_subtracted, \"tmp_only_labeled/\", all_files, frame_idx)\n"
     ]
    },
    {
     "name": "stderr",
     "output_type": "stream",
     "text": [
      "\r",
      " 21%|████████████████████████████████▋                                                                                                                             | 183/885 [19:39<1:15:24,  6.44s/it]"
     ]
    },
    {
     "name": "stdout",
     "output_type": "stream",
     "text": [
      "=========================================================================\n",
      "frame_idx = 198\n",
      "=========================================================================\n",
      "0.0 : list_idx = get_list_idx_for_frame(frame_idx, n_frames_per_side, shift)\n",
      "5.772566318511963 : df_subtracted_frame = get_df_voxel_subtracted_frame(list_df_voxel_scene, frame_idx, n_frames_per_side, shift)\n",
      "1.111027717590332 : df_frame_orig['voxel_id'] =  df_frame_orig.apply(lambda x: point_to_voxel(x, voxel_size), axis=1)\n",
      "0.0019948482513427734 : df_labels = df_frame_orig.voxel_id.isin(df_subtracted_frame.voxel_id)\n",
      "(367, 5)\n",
      "0.1216738224029541 : df_frame_orig_subtracted = df_frame_orig[df_labels]\n",
      "(7531, 5)\n",
      "file_labels: voxelling_output/submission_files/vid_1_pred_lee/0000198_labels.csv\n",
      "0.07380080223083496 : df_labels.to_csv(pickles_path+\"df_labels__frame_%d__%s__voxel_size_%d.p\"%(frame_idx, vid, voxel_size))\n",
      "7531\n",
      "0.06880021095275879 : save_frame_for_movie(df_frame_orig_subtracted, \"tmp_only_labeled/\", all_files, frame_idx)\n"
     ]
    },
    {
     "name": "stderr",
     "output_type": "stream",
     "text": [
      "\r",
      " 21%|████████████████████████████████▊                                                                                                                             | 184/885 [19:46<1:15:20,  6.45s/it]"
     ]
    },
    {
     "name": "stdout",
     "output_type": "stream",
     "text": [
      "=========================================================================\n",
      "frame_idx = 199\n",
      "=========================================================================\n",
      "0.0 : list_idx = get_list_idx_for_frame(frame_idx, n_frames_per_side, shift)\n",
      "5.784552574157715 : df_subtracted_frame = get_df_voxel_subtracted_frame(list_df_voxel_scene, frame_idx, n_frames_per_side, shift)\n",
      "1.1220312118530273 : df_frame_orig['voxel_id'] =  df_frame_orig.apply(lambda x: point_to_voxel(x, voxel_size), axis=1)\n",
      "0.0019931793212890625 : df_labels = df_frame_orig.voxel_id.isin(df_subtracted_frame.voxel_id)\n",
      "(460, 5)\n",
      "0.1575772762298584 : df_frame_orig_subtracted = df_frame_orig[df_labels]\n",
      "(7711, 5)\n",
      "file_labels: voxelling_output/submission_files/vid_1_pred_lee/0000199_labels.csv\n",
      "0.08377838134765625 : df_labels.to_csv(pickles_path+\"df_labels__frame_%d__%s__voxel_size_%d.p\"%(frame_idx, vid, voxel_size))\n",
      "7711\n",
      "0.06582236289978027 : save_frame_for_movie(df_frame_orig_subtracted, \"tmp_only_labeled/\", all_files, frame_idx)\n"
     ]
    },
    {
     "name": "stderr",
     "output_type": "stream",
     "text": [
      "\r",
      " 21%|█████████████████████████████████                                                                                                                             | 185/885 [19:53<1:15:17,  6.45s/it]"
     ]
    },
    {
     "name": "stdout",
     "output_type": "stream",
     "text": [
      "=========================================================================\n",
      "frame_idx = 200\n",
      "=========================================================================\n",
      "0.0 : list_idx = get_list_idx_for_frame(frame_idx, n_frames_per_side, shift)\n",
      "6.080769300460815 : df_subtracted_frame = get_df_voxel_subtracted_frame(list_df_voxel_scene, frame_idx, n_frames_per_side, shift)\n",
      "1.2706019878387451 : df_frame_orig['voxel_id'] =  df_frame_orig.apply(lambda x: point_to_voxel(x, voxel_size), axis=1)\n",
      "0.0009984970092773438 : df_labels = df_frame_orig.voxel_id.isin(df_subtracted_frame.voxel_id)\n",
      "(454, 5)\n",
      "0.12366914749145508 : df_frame_orig_subtracted = df_frame_orig[df_labels]\n",
      "(6958, 5)\n",
      "file_labels: voxelling_output/submission_files/vid_1_pred_lee/0000200_labels.csv\n",
      "0.08078289031982422 : df_labels.to_csv(pickles_path+\"df_labels__frame_%d__%s__voxel_size_%d.p\"%(frame_idx, vid, voxel_size))\n",
      "6958\n",
      "0.05387091636657715 : save_frame_for_movie(df_frame_orig_subtracted, \"tmp_only_labeled/\", all_files, frame_idx)\n"
     ]
    },
    {
     "name": "stderr",
     "output_type": "stream",
     "text": [
      "\r",
      " 21%|█████████████████████████████████▏                                                                                                                            | 186/885 [20:01<1:15:15,  6.46s/it]"
     ]
    },
    {
     "name": "stdout",
     "output_type": "stream",
     "text": [
      "=========================================================================\n",
      "frame_idx = 201\n",
      "=========================================================================\n",
      "0.0 : list_idx = get_list_idx_for_frame(frame_idx, n_frames_per_side, shift)\n",
      "5.886251449584961 : df_subtracted_frame = get_df_voxel_subtracted_frame(list_df_voxel_scene, frame_idx, n_frames_per_side, shift)\n",
      "1.3314518928527832 : df_frame_orig['voxel_id'] =  df_frame_orig.apply(lambda x: point_to_voxel(x, voxel_size), axis=1)\n",
      "0.0019745826721191406 : df_labels = df_frame_orig.voxel_id.isin(df_subtracted_frame.voxel_id)\n",
      "(587, 5)\n",
      "0.137648344039917 : df_frame_orig_subtracted = df_frame_orig[df_labels]\n",
      "(6125, 5)\n",
      "file_labels: voxelling_output/submission_files/vid_1_pred_lee/0000201_labels.csv\n",
      "0.08377456665039062 : df_labels.to_csv(pickles_path+\"df_labels__frame_%d__%s__voxel_size_%d.p\"%(frame_idx, vid, voxel_size))\n",
      "6125\n",
      "0.05783534049987793 : save_frame_for_movie(df_frame_orig_subtracted, \"tmp_only_labeled/\", all_files, frame_idx)\n"
     ]
    },
    {
     "name": "stderr",
     "output_type": "stream",
     "text": [
      "\r",
      " 21%|█████████████████████████████████▍                                                                                                                            | 187/885 [20:08<1:15:12,  6.47s/it]"
     ]
    },
    {
     "name": "stdout",
     "output_type": "stream",
     "text": [
      "=========================================================================\n",
      "frame_idx = 202\n",
      "=========================================================================\n",
      "0.0 : list_idx = get_list_idx_for_frame(frame_idx, n_frames_per_side, shift)\n",
      "5.9660608768463135 : df_subtracted_frame = get_df_voxel_subtracted_frame(list_df_voxel_scene, frame_idx, n_frames_per_side, shift)\n",
      "1.2068018913269043 : df_frame_orig['voxel_id'] =  df_frame_orig.apply(lambda x: point_to_voxel(x, voxel_size), axis=1)\n",
      "0.0020117759704589844 : df_labels = df_frame_orig.voxel_id.isin(df_subtracted_frame.voxel_id)\n",
      "(605, 5)\n",
      "0.14460992813110352 : df_frame_orig_subtracted = df_frame_orig[df_labels]\n",
      "(5901, 5)\n",
      "file_labels: voxelling_output/submission_files/vid_1_pred_lee/0000202_labels.csv\n",
      "0.08379268646240234 : df_labels.to_csv(pickles_path+\"df_labels__frame_%d__%s__voxel_size_%d.p\"%(frame_idx, vid, voxel_size))\n",
      "5901\n",
      "0.047878265380859375 : save_frame_for_movie(df_frame_orig_subtracted, \"tmp_only_labeled/\", all_files, frame_idx)\n"
     ]
    },
    {
     "name": "stderr",
     "output_type": "stream",
     "text": [
      "\r",
      " 21%|█████████████████████████████████▌                                                                                                                            | 188/885 [20:16<1:15:09,  6.47s/it]"
     ]
    },
    {
     "name": "stdout",
     "output_type": "stream",
     "text": [
      "=========================================================================\n",
      "frame_idx = 203\n",
      "=========================================================================\n",
      "0.0 : list_idx = get_list_idx_for_frame(frame_idx, n_frames_per_side, shift)\n",
      "6.089737892150879 : df_subtracted_frame = get_df_voxel_subtracted_frame(list_df_voxel_scene, frame_idx, n_frames_per_side, shift)\n",
      "1.177847146987915 : df_frame_orig['voxel_id'] =  df_frame_orig.apply(lambda x: point_to_voxel(x, voxel_size), axis=1)\n",
      "0.000997781753540039 : df_labels = df_frame_orig.voxel_id.isin(df_subtracted_frame.voxel_id)\n",
      "(662, 5)\n",
      "0.1396620273590088 : df_frame_orig_subtracted = df_frame_orig[df_labels]\n",
      "(5503, 5)\n",
      "file_labels: voxelling_output/submission_files/vid_1_pred_lee/0000203_labels.csv\n",
      "0.07777619361877441 : df_labels.to_csv(pickles_path+\"df_labels__frame_%d__%s__voxel_size_%d.p\"%(frame_idx, vid, voxel_size))\n",
      "5503\n",
      "0.04587435722351074 : save_frame_for_movie(df_frame_orig_subtracted, \"tmp_only_labeled/\", all_files, frame_idx)\n"
     ]
    },
    {
     "name": "stderr",
     "output_type": "stream",
     "text": [
      "\r",
      " 21%|█████████████████████████████████▋                                                                                                                            | 189/885 [20:23<1:15:07,  6.48s/it]"
     ]
    },
    {
     "name": "stdout",
     "output_type": "stream",
     "text": [
      "=========================================================================\n",
      "frame_idx = 204\n",
      "=========================================================================\n",
      "0.0 : list_idx = get_list_idx_for_frame(frame_idx, n_frames_per_side, shift)\n",
      "5.728698492050171 : df_subtracted_frame = get_df_voxel_subtracted_frame(list_df_voxel_scene, frame_idx, n_frames_per_side, shift)\n",
      "1.1898574829101562 : df_frame_orig['voxel_id'] =  df_frame_orig.apply(lambda x: point_to_voxel(x, voxel_size), axis=1)\n",
      "0.0009963512420654297 : df_labels = df_frame_orig.voxel_id.isin(df_subtracted_frame.voxel_id)\n",
      "(772, 5)\n",
      "0.13962745666503906 : df_frame_orig_subtracted = df_frame_orig[df_labels]\n",
      "(5433, 5)\n",
      "file_labels: voxelling_output/submission_files/vid_1_pred_lee/0000204_labels.csv\n",
      "0.07977485656738281 : df_labels.to_csv(pickles_path+\"df_labels__frame_%d__%s__voxel_size_%d.p\"%(frame_idx, vid, voxel_size))\n",
      "5433\n",
      "0.04589271545410156 : save_frame_for_movie(df_frame_orig_subtracted, \"tmp_only_labeled/\", all_files, frame_idx)\n"
     ]
    },
    {
     "name": "stderr",
     "output_type": "stream",
     "text": [
      "\r",
      " 21%|█████████████████████████████████▉                                                                                                                            | 190/885 [20:31<1:15:03,  6.48s/it]"
     ]
    },
    {
     "name": "stdout",
     "output_type": "stream",
     "text": [
      "=========================================================================\n",
      "frame_idx = 205\n",
      "=========================================================================\n",
      "0.0 : list_idx = get_list_idx_for_frame(frame_idx, n_frames_per_side, shift)\n",
      "5.891242742538452 : df_subtracted_frame = get_df_voxel_subtracted_frame(list_df_voxel_scene, frame_idx, n_frames_per_side, shift)\n",
      "1.125988483428955 : df_frame_orig['voxel_id'] =  df_frame_orig.apply(lambda x: point_to_voxel(x, voxel_size), axis=1)\n",
      "0.000997781753540039 : df_labels = df_frame_orig.voxel_id.isin(df_subtracted_frame.voxel_id)\n",
      "(745, 5)\n",
      "0.13666367530822754 : df_frame_orig_subtracted = df_frame_orig[df_labels]\n",
      "(5151, 5)\n",
      "file_labels: voxelling_output/submission_files/vid_1_pred_lee/0000205_labels.csv\n",
      "0.08277702331542969 : df_labels.to_csv(pickles_path+\"df_labels__frame_%d__%s__voxel_size_%d.p\"%(frame_idx, vid, voxel_size))\n",
      "5151\n",
      "0.04487776756286621 : save_frame_for_movie(df_frame_orig_subtracted, \"tmp_only_labeled/\", all_files, frame_idx)\n"
     ]
    },
    {
     "name": "stderr",
     "output_type": "stream",
     "text": [
      "\r",
      " 22%|██████████████████████████████████                                                                                                                            | 191/885 [20:38<1:15:00,  6.48s/it]"
     ]
    },
    {
     "name": "stdout",
     "output_type": "stream",
     "text": [
      "=========================================================================\n",
      "frame_idx = 206\n",
      "=========================================================================\n",
      "0.0 : list_idx = get_list_idx_for_frame(frame_idx, n_frames_per_side, shift)\n",
      "6.200455188751221 : df_subtracted_frame = get_df_voxel_subtracted_frame(list_df_voxel_scene, frame_idx, n_frames_per_side, shift)\n",
      "1.2158679962158203 : df_frame_orig['voxel_id'] =  df_frame_orig.apply(lambda x: point_to_voxel(x, voxel_size), axis=1)\n",
      "0.002011537551879883 : df_labels = df_frame_orig.voxel_id.isin(df_subtracted_frame.voxel_id)\n",
      "(756, 5)\n",
      "0.12769222259521484 : df_frame_orig_subtracted = df_frame_orig[df_labels]\n",
      "(5161, 5)\n",
      "file_labels: voxelling_output/submission_files/vid_1_pred_lee/0000206_labels.csv\n",
      "0.07480096817016602 : df_labels.to_csv(pickles_path+\"df_labels__frame_%d__%s__voxel_size_%d.p\"%(frame_idx, vid, voxel_size))\n",
      "5161\n",
      "0.04088091850280762 : save_frame_for_movie(df_frame_orig_subtracted, \"tmp_only_labeled/\", all_files, frame_idx)\n"
     ]
    },
    {
     "name": "stderr",
     "output_type": "stream",
     "text": [
      "\r",
      " 22%|██████████████████████████████████▎                                                                                                                           | 192/885 [20:46<1:14:57,  6.49s/it]"
     ]
    },
    {
     "name": "stdout",
     "output_type": "stream",
     "text": [
      "=========================================================================\n",
      "frame_idx = 207\n",
      "=========================================================================\n",
      "0.0 : list_idx = get_list_idx_for_frame(frame_idx, n_frames_per_side, shift)\n",
      "5.858266115188599 : df_subtracted_frame = get_df_voxel_subtracted_frame(list_df_voxel_scene, frame_idx, n_frames_per_side, shift)\n",
      "1.2227697372436523 : df_frame_orig['voxel_id'] =  df_frame_orig.apply(lambda x: point_to_voxel(x, voxel_size), axis=1)\n",
      "0.0009958744049072266 : df_labels = df_frame_orig.voxel_id.isin(df_subtracted_frame.voxel_id)\n",
      "(742, 5)\n",
      "0.1347365379333496 : df_frame_orig_subtracted = df_frame_orig[df_labels]\n",
      "(5253, 5)\n",
      "file_labels: voxelling_output/submission_files/vid_1_pred_lee/0000207_labels.csv\n",
      "0.08275842666625977 : df_labels.to_csv(pickles_path+\"df_labels__frame_%d__%s__voxel_size_%d.p\"%(frame_idx, vid, voxel_size))\n",
      "5253\n",
      "0.04488015174865723 : save_frame_for_movie(df_frame_orig_subtracted, \"tmp_only_labeled/\", all_files, frame_idx)\n"
     ]
    },
    {
     "name": "stderr",
     "output_type": "stream",
     "text": [
      "\r",
      " 22%|██████████████████████████████████▍                                                                                                                           | 193/885 [20:53<1:14:54,  6.50s/it]"
     ]
    },
    {
     "name": "stdout",
     "output_type": "stream",
     "text": [
      "=========================================================================\n",
      "frame_idx = 208\n",
      "=========================================================================\n",
      "0.0 : list_idx = get_list_idx_for_frame(frame_idx, n_frames_per_side, shift)\n",
      "5.979008674621582 : df_subtracted_frame = get_df_voxel_subtracted_frame(list_df_voxel_scene, frame_idx, n_frames_per_side, shift)\n",
      "1.217775583267212 : df_frame_orig['voxel_id'] =  df_frame_orig.apply(lambda x: point_to_voxel(x, voxel_size), axis=1)\n",
      "0.0009975433349609375 : df_labels = df_frame_orig.voxel_id.isin(df_subtracted_frame.voxel_id)\n",
      "(838, 5)\n",
      "0.13965654373168945 : df_frame_orig_subtracted = df_frame_orig[df_labels]\n",
      "(5483, 5)\n",
      "file_labels: voxelling_output/submission_files/vid_1_pred_lee/0000208_labels.csv\n",
      "0.08377552032470703 : df_labels.to_csv(pickles_path+\"df_labels__frame_%d__%s__voxel_size_%d.p\"%(frame_idx, vid, voxel_size))\n",
      "5483\n",
      "0.04786539077758789 : save_frame_for_movie(df_frame_orig_subtracted, \"tmp_only_labeled/\", all_files, frame_idx)\n"
     ]
    },
    {
     "name": "stderr",
     "output_type": "stream",
     "text": [
      "\r",
      " 22%|██████████████████████████████████▋                                                                                                                           | 194/885 [21:01<1:14:51,  6.50s/it]"
     ]
    },
    {
     "name": "stdout",
     "output_type": "stream",
     "text": [
      "=========================================================================\n",
      "frame_idx = 209\n",
      "=========================================================================\n",
      "0.0 : list_idx = get_list_idx_for_frame(frame_idx, n_frames_per_side, shift)\n",
      "6.01849102973938 : df_subtracted_frame = get_df_voxel_subtracted_frame(list_df_voxel_scene, frame_idx, n_frames_per_side, shift)\n",
      "1.1718928813934326 : df_frame_orig['voxel_id'] =  df_frame_orig.apply(lambda x: point_to_voxel(x, voxel_size), axis=1)\n",
      "0.0019948482513427734 : df_labels = df_frame_orig.voxel_id.isin(df_subtracted_frame.voxel_id)\n",
      "(840, 5)\n",
      "0.15259075164794922 : df_frame_orig_subtracted = df_frame_orig[df_labels]\n",
      "(5607, 5)\n",
      "file_labels: voxelling_output/submission_files/vid_1_pred_lee/0000209_labels.csv\n",
      "0.09673237800598145 : df_labels.to_csv(pickles_path+\"df_labels__frame_%d__%s__voxel_size_%d.p\"%(frame_idx, vid, voxel_size))\n",
      "5607\n",
      "0.05086064338684082 : save_frame_for_movie(df_frame_orig_subtracted, \"tmp_only_labeled/\", all_files, frame_idx)\n"
     ]
    },
    {
     "name": "stderr",
     "output_type": "stream",
     "text": [
      "\r",
      " 22%|██████████████████████████████████▊                                                                                                                           | 195/885 [21:08<1:14:48,  6.51s/it]"
     ]
    },
    {
     "name": "stdout",
     "output_type": "stream",
     "text": [
      "=========================================================================\n",
      "frame_idx = 210\n",
      "=========================================================================\n",
      "0.0 : list_idx = get_list_idx_for_frame(frame_idx, n_frames_per_side, shift)\n",
      "6.074751138687134 : df_subtracted_frame = get_df_voxel_subtracted_frame(list_df_voxel_scene, frame_idx, n_frames_per_side, shift)\n",
      "1.1658825874328613 : df_frame_orig['voxel_id'] =  df_frame_orig.apply(lambda x: point_to_voxel(x, voxel_size), axis=1)\n",
      "0.0009922981262207031 : df_labels = df_frame_orig.voxel_id.isin(df_subtracted_frame.voxel_id)\n",
      "(924, 5)\n",
      "0.1356644630432129 : df_frame_orig_subtracted = df_frame_orig[df_labels]\n",
      "(5762, 5)\n",
      "file_labels: voxelling_output/submission_files/vid_1_pred_lee/0000210_labels.csv\n",
      "0.07878732681274414 : df_labels.to_csv(pickles_path+\"df_labels__frame_%d__%s__voxel_size_%d.p\"%(frame_idx, vid, voxel_size))\n",
      "5762\n",
      "0.05088233947753906 : save_frame_for_movie(df_frame_orig_subtracted, \"tmp_only_labeled/\", all_files, frame_idx)\n"
     ]
    },
    {
     "name": "stderr",
     "output_type": "stream",
     "text": [
      "\r",
      " 22%|██████████████████████████████████▉                                                                                                                           | 196/885 [21:16<1:14:45,  6.51s/it]"
     ]
    },
    {
     "name": "stdout",
     "output_type": "stream",
     "text": [
      "=========================================================================\n",
      "frame_idx = 211\n",
      "=========================================================================\n",
      "0.0 : list_idx = get_list_idx_for_frame(frame_idx, n_frames_per_side, shift)\n",
      "6.037887334823608 : df_subtracted_frame = get_df_voxel_subtracted_frame(list_df_voxel_scene, frame_idx, n_frames_per_side, shift)\n",
      "1.1449575424194336 : df_frame_orig['voxel_id'] =  df_frame_orig.apply(lambda x: point_to_voxel(x, voxel_size), axis=1)\n",
      "0.0020062923431396484 : df_labels = df_frame_orig.voxel_id.isin(df_subtracted_frame.voxel_id)\n",
      "(997, 5)\n",
      "0.14862394332885742 : df_frame_orig_subtracted = df_frame_orig[df_labels]\n",
      "(5891, 5)\n",
      "file_labels: voxelling_output/submission_files/vid_1_pred_lee/0000211_labels.csv\n",
      "0.08178997039794922 : df_labels.to_csv(pickles_path+\"df_labels__frame_%d__%s__voxel_size_%d.p\"%(frame_idx, vid, voxel_size))\n",
      "5891\n",
      "0.049863338470458984 : save_frame_for_movie(df_frame_orig_subtracted, \"tmp_only_labeled/\", all_files, frame_idx)\n"
     ]
    },
    {
     "name": "stderr",
     "output_type": "stream",
     "text": [
      "\r",
      " 22%|███████████████████████████████████▏                                                                                                                          | 197/885 [21:23<1:14:42,  6.52s/it]"
     ]
    },
    {
     "name": "stdout",
     "output_type": "stream",
     "text": [
      "=========================================================================\n",
      "frame_idx = 212\n",
      "=========================================================================\n",
      "0.0 : list_idx = get_list_idx_for_frame(frame_idx, n_frames_per_side, shift)\n",
      "6.1415722370147705 : df_subtracted_frame = get_df_voxel_subtracted_frame(list_df_voxel_scene, frame_idx, n_frames_per_side, shift)\n",
      "1.1449377536773682 : df_frame_orig['voxel_id'] =  df_frame_orig.apply(lambda x: point_to_voxel(x, voxel_size), axis=1)\n",
      "0.001001596450805664 : df_labels = df_frame_orig.voxel_id.isin(df_subtracted_frame.voxel_id)\n",
      "(931, 5)\n",
      "0.14963555335998535 : df_frame_orig_subtracted = df_frame_orig[df_labels]\n",
      "(5996, 5)\n",
      "file_labels: voxelling_output/submission_files/vid_1_pred_lee/0000212_labels.csv\n",
      "0.08477401733398438 : df_labels.to_csv(pickles_path+\"df_labels__frame_%d__%s__voxel_size_%d.p\"%(frame_idx, vid, voxel_size))\n",
      "5996\n",
      "0.05485057830810547 : save_frame_for_movie(df_frame_orig_subtracted, \"tmp_only_labeled/\", all_files, frame_idx)\n"
     ]
    },
    {
     "name": "stderr",
     "output_type": "stream",
     "text": [
      "\r",
      " 22%|███████████████████████████████████▎                                                                                                                          | 198/885 [21:31<1:14:40,  6.52s/it]"
     ]
    },
    {
     "name": "stdout",
     "output_type": "stream",
     "text": [
      "=========================================================================\n",
      "frame_idx = 213\n",
      "=========================================================================\n",
      "0.0 : list_idx = get_list_idx_for_frame(frame_idx, n_frames_per_side, shift)\n",
      "5.990018367767334 : df_subtracted_frame = get_df_voxel_subtracted_frame(list_df_voxel_scene, frame_idx, n_frames_per_side, shift)\n",
      "1.1708722114562988 : df_frame_orig['voxel_id'] =  df_frame_orig.apply(lambda x: point_to_voxel(x, voxel_size), axis=1)\n",
      "0.0019583702087402344 : df_labels = df_frame_orig.voxel_id.isin(df_subtracted_frame.voxel_id)\n",
      "(1005, 5)\n",
      "0.1326451301574707 : df_frame_orig_subtracted = df_frame_orig[df_labels]\n",
      "(6182, 5)\n",
      "file_labels: voxelling_output/submission_files/vid_1_pred_lee/0000213_labels.csv\n",
      "0.07978320121765137 : df_labels.to_csv(pickles_path+\"df_labels__frame_%d__%s__voxel_size_%d.p\"%(frame_idx, vid, voxel_size))\n",
      "6182\n",
      "0.06183505058288574 : save_frame_for_movie(df_frame_orig_subtracted, \"tmp_only_labeled/\", all_files, frame_idx)\n"
     ]
    },
    {
     "name": "stderr",
     "output_type": "stream",
     "text": [
      "\r",
      " 22%|███████████████████████████████████▌                                                                                                                          | 199/885 [21:38<1:14:36,  6.53s/it]"
     ]
    },
    {
     "name": "stdout",
     "output_type": "stream",
     "text": [
      "=========================================================================\n",
      "frame_idx = 214\n",
      "=========================================================================\n",
      "0.0010464191436767578 : list_idx = get_list_idx_for_frame(frame_idx, n_frames_per_side, shift)\n",
      "6.342010974884033 : df_subtracted_frame = get_df_voxel_subtracted_frame(list_df_voxel_scene, frame_idx, n_frames_per_side, shift)\n",
      "1.2938449382781982 : df_frame_orig['voxel_id'] =  df_frame_orig.apply(lambda x: point_to_voxel(x, voxel_size), axis=1)\n",
      "0.0010037422180175781 : df_labels = df_frame_orig.voxel_id.isin(df_subtracted_frame.voxel_id)\n",
      "(956, 5)\n",
      "0.17852258682250977 : df_frame_orig_subtracted = df_frame_orig[df_labels]\n",
      "(6436, 5)\n",
      "file_labels: voxelling_output/submission_files/vid_1_pred_lee/0000214_labels.csv\n",
      "0.12067508697509766 : df_labels.to_csv(pickles_path+\"df_labels__frame_%d__%s__voxel_size_%d.p\"%(frame_idx, vid, voxel_size))\n",
      "6436\n",
      "0.0668189525604248 : save_frame_for_movie(df_frame_orig_subtracted, \"tmp_only_labeled/\", all_files, frame_idx)\n"
     ]
    },
    {
     "name": "stderr",
     "output_type": "stream",
     "text": [
      "\r",
      " 23%|███████████████████████████████████▋                                                                                                                          | 200/885 [21:46<1:14:35,  6.53s/it]"
     ]
    },
    {
     "name": "stdout",
     "output_type": "stream",
     "text": [
      "=========================================================================\n",
      "frame_idx = 215\n",
      "=========================================================================\n",
      "0.0 : list_idx = get_list_idx_for_frame(frame_idx, n_frames_per_side, shift)\n",
      "6.413845062255859 : df_subtracted_frame = get_df_voxel_subtracted_frame(list_df_voxel_scene, frame_idx, n_frames_per_side, shift)\n",
      "1.1778843402862549 : df_frame_orig['voxel_id'] =  df_frame_orig.apply(lambda x: point_to_voxel(x, voxel_size), axis=1)\n",
      "0.0009961128234863281 : df_labels = df_frame_orig.voxel_id.isin(df_subtracted_frame.voxel_id)\n",
      "(1048, 5)\n",
      "0.13164615631103516 : df_frame_orig_subtracted = df_frame_orig[df_labels]\n",
      "(6683, 5)\n",
      "file_labels: voxelling_output/submission_files/vid_1_pred_lee/0000215_labels.csv\n",
      "0.07678914070129395 : df_labels.to_csv(pickles_path+\"df_labels__frame_%d__%s__voxel_size_%d.p\"%(frame_idx, vid, voxel_size))\n",
      "6683\n",
      "0.053859710693359375 : save_frame_for_movie(df_frame_orig_subtracted, \"tmp_only_labeled/\", all_files, frame_idx)\n"
     ]
    },
    {
     "name": "stderr",
     "output_type": "stream",
     "text": [
      "\r",
      " 23%|███████████████████████████████████▉                                                                                                                          | 201/885 [21:54<1:14:33,  6.54s/it]"
     ]
    },
    {
     "name": "stdout",
     "output_type": "stream",
     "text": [
      "=========================================================================\n",
      "frame_idx = 216\n",
      "=========================================================================\n",
      "0.0010101795196533203 : list_idx = get_list_idx_for_frame(frame_idx, n_frames_per_side, shift)\n",
      "6.4906086921691895 : df_subtracted_frame = get_df_voxel_subtracted_frame(list_df_voxel_scene, frame_idx, n_frames_per_side, shift)\n",
      "1.2506561279296875 : df_frame_orig['voxel_id'] =  df_frame_orig.apply(lambda x: point_to_voxel(x, voxel_size), axis=1)\n",
      "0.000997304916381836 : df_labels = df_frame_orig.voxel_id.isin(df_subtracted_frame.voxel_id)\n",
      "(993, 5)\n",
      "0.15658211708068848 : df_frame_orig_subtracted = df_frame_orig[df_labels]\n",
      "(6958, 5)\n",
      "file_labels: voxelling_output/submission_files/vid_1_pred_lee/0000216_labels.csv\n",
      "0.10471653938293457 : df_labels.to_csv(pickles_path+\"df_labels__frame_%d__%s__voxel_size_%d.p\"%(frame_idx, vid, voxel_size))\n",
      "6958\n",
      "0.07280421257019043 : save_frame_for_movie(df_frame_orig_subtracted, \"tmp_only_labeled/\", all_files, frame_idx)\n"
     ]
    },
    {
     "name": "stderr",
     "output_type": "stream",
     "text": [
      "\r",
      " 23%|████████████████████████████████████                                                                                                                          | 202/885 [22:02<1:14:32,  6.55s/it]"
     ]
    },
    {
     "name": "stdout",
     "output_type": "stream",
     "text": [
      "=========================================================================\n",
      "frame_idx = 217\n",
      "=========================================================================\n",
      "0.0 : list_idx = get_list_idx_for_frame(frame_idx, n_frames_per_side, shift)\n",
      "6.312147617340088 : df_subtracted_frame = get_df_voxel_subtracted_frame(list_df_voxel_scene, frame_idx, n_frames_per_side, shift)\n",
      "1.3643510341644287 : df_frame_orig['voxel_id'] =  df_frame_orig.apply(lambda x: point_to_voxel(x, voxel_size), axis=1)\n",
      "0.001994609832763672 : df_labels = df_frame_orig.voxel_id.isin(df_subtracted_frame.voxel_id)\n",
      "(973, 5)\n",
      "0.1765272617340088 : df_frame_orig_subtracted = df_frame_orig[df_labels]\n",
      "(7366, 5)\n",
      "file_labels: voxelling_output/submission_files/vid_1_pred_lee/0000217_labels.csv\n",
      "0.09275007247924805 : df_labels.to_csv(pickles_path+\"df_labels__frame_%d__%s__voxel_size_%d.p\"%(frame_idx, vid, voxel_size))\n",
      "7366\n",
      "0.05987811088562012 : save_frame_for_movie(df_frame_orig_subtracted, \"tmp_only_labeled/\", all_files, frame_idx)\n"
     ]
    },
    {
     "name": "stderr",
     "output_type": "stream",
     "text": [
      "\r",
      " 23%|████████████████████████████████████▏                                                                                                                         | 203/885 [22:10<1:14:30,  6.56s/it]"
     ]
    },
    {
     "name": "stdout",
     "output_type": "stream",
     "text": [
      "=========================================================================\n",
      "frame_idx = 218\n",
      "=========================================================================\n",
      "0.0 : list_idx = get_list_idx_for_frame(frame_idx, n_frames_per_side, shift)\n",
      "6.438776969909668 : df_subtracted_frame = get_df_voxel_subtracted_frame(list_df_voxel_scene, frame_idx, n_frames_per_side, shift)\n",
      "1.2835516929626465 : df_frame_orig['voxel_id'] =  df_frame_orig.apply(lambda x: point_to_voxel(x, voxel_size), axis=1)\n",
      "0.001995086669921875 : df_labels = df_frame_orig.voxel_id.isin(df_subtracted_frame.voxel_id)\n",
      "(695, 5)\n",
      "0.13962745666503906 : df_frame_orig_subtracted = df_frame_orig[df_labels]\n",
      "(7537, 5)\n",
      "file_labels: voxelling_output/submission_files/vid_1_pred_lee/0000218_labels.csv\n",
      "0.08377361297607422 : df_labels.to_csv(pickles_path+\"df_labels__frame_%d__%s__voxel_size_%d.p\"%(frame_idx, vid, voxel_size))\n",
      "7537\n",
      "0.05984687805175781 : save_frame_for_movie(df_frame_orig_subtracted, \"tmp_only_labeled/\", all_files, frame_idx)\n"
     ]
    },
    {
     "name": "stderr",
     "output_type": "stream",
     "text": [
      "\r",
      " 23%|████████████████████████████████████▍                                                                                                                         | 204/885 [22:18<1:14:29,  6.56s/it]"
     ]
    },
    {
     "name": "stdout",
     "output_type": "stream",
     "text": [
      "=========================================================================\n",
      "frame_idx = 219\n",
      "=========================================================================\n",
      "0.0009980201721191406 : list_idx = get_list_idx_for_frame(frame_idx, n_frames_per_side, shift)\n",
      "6.155288934707642 : df_subtracted_frame = get_df_voxel_subtracted_frame(list_df_voxel_scene, frame_idx, n_frames_per_side, shift)\n",
      "1.18782639503479 : df_frame_orig['voxel_id'] =  df_frame_orig.apply(lambda x: point_to_voxel(x, voxel_size), axis=1)\n",
      "0.0019941329956054688 : df_labels = df_frame_orig.voxel_id.isin(df_subtracted_frame.voxel_id)\n",
      "(650, 5)\n",
      "0.14162063598632812 : df_frame_orig_subtracted = df_frame_orig[df_labels]\n",
      "(7669, 5)\n",
      "file_labels: voxelling_output/submission_files/vid_1_pred_lee/0000219_labels.csv\n",
      "0.08179640769958496 : df_labels.to_csv(pickles_path+\"df_labels__frame_%d__%s__voxel_size_%d.p\"%(frame_idx, vid, voxel_size))\n",
      "7669\n",
      "0.0638267993927002 : save_frame_for_movie(df_frame_orig_subtracted, \"tmp_only_labeled/\", all_files, frame_idx)\n"
     ]
    },
    {
     "name": "stderr",
     "output_type": "stream",
     "text": [
      "\r",
      " 23%|████████████████████████████████████▌                                                                                                                         | 205/885 [22:26<1:14:26,  6.57s/it]"
     ]
    },
    {
     "name": "stdout",
     "output_type": "stream",
     "text": [
      "=========================================================================\n",
      "frame_idx = 220\n",
      "=========================================================================\n",
      "0.0 : list_idx = get_list_idx_for_frame(frame_idx, n_frames_per_side, shift)\n",
      "6.196425676345825 : df_subtracted_frame = get_df_voxel_subtracted_frame(list_df_voxel_scene, frame_idx, n_frames_per_side, shift)\n",
      "1.2955653667449951 : df_frame_orig['voxel_id'] =  df_frame_orig.apply(lambda x: point_to_voxel(x, voxel_size), axis=1)\n",
      "0.0009968280792236328 : df_labels = df_frame_orig.voxel_id.isin(df_subtracted_frame.voxel_id)\n",
      "(636, 5)\n",
      "0.130615234375 : df_frame_orig_subtracted = df_frame_orig[df_labels]\n",
      "(7707, 5)\n",
      "file_labels: voxelling_output/submission_files/vid_1_pred_lee/0000220_labels.csv\n",
      "0.08078241348266602 : df_labels.to_csv(pickles_path+\"df_labels__frame_%d__%s__voxel_size_%d.p\"%(frame_idx, vid, voxel_size))\n",
      "7707\n",
      "0.06384038925170898 : save_frame_for_movie(df_frame_orig_subtracted, \"tmp_only_labeled/\", all_files, frame_idx)\n"
     ]
    },
    {
     "name": "stderr",
     "output_type": "stream",
     "text": [
      "\r",
      " 23%|████████████████████████████████████▊                                                                                                                         | 206/885 [22:34<1:14:23,  6.57s/it]"
     ]
    },
    {
     "name": "stdout",
     "output_type": "stream",
     "text": [
      "=========================================================================\n",
      "frame_idx = 221\n",
      "=========================================================================\n",
      "0.0 : list_idx = get_list_idx_for_frame(frame_idx, n_frames_per_side, shift)\n",
      "6.216407775878906 : df_subtracted_frame = get_df_voxel_subtracted_frame(list_df_voxel_scene, frame_idx, n_frames_per_side, shift)\n",
      "1.1768813133239746 : df_frame_orig['voxel_id'] =  df_frame_orig.apply(lambda x: point_to_voxel(x, voxel_size), axis=1)\n",
      "0.0019936561584472656 : df_labels = df_frame_orig.voxel_id.isin(df_subtracted_frame.voxel_id)\n",
      "(621, 5)\n",
      "0.1246495246887207 : df_frame_orig_subtracted = df_frame_orig[df_labels]\n",
      "(7216, 5)\n",
      "file_labels: voxelling_output/submission_files/vid_1_pred_lee/0000221_labels.csv\n",
      "0.07579588890075684 : df_labels.to_csv(pickles_path+\"df_labels__frame_%d__%s__voxel_size_%d.p\"%(frame_idx, vid, voxel_size))\n",
      "7216\n",
      "0.05894351005554199 : save_frame_for_movie(df_frame_orig_subtracted, \"tmp_only_labeled/\", all_files, frame_idx)\n"
     ]
    },
    {
     "name": "stderr",
     "output_type": "stream",
     "text": [
      "\r",
      " 23%|████████████████████████████████████▉                                                                                                                         | 207/885 [22:41<1:14:20,  6.58s/it]"
     ]
    },
    {
     "name": "stdout",
     "output_type": "stream",
     "text": [
      "=========================================================================\n",
      "frame_idx = 222\n",
      "=========================================================================\n",
      "0.0 : list_idx = get_list_idx_for_frame(frame_idx, n_frames_per_side, shift)\n",
      "6.057837963104248 : df_subtracted_frame = get_df_voxel_subtracted_frame(list_df_voxel_scene, frame_idx, n_frames_per_side, shift)\n",
      "1.1639058589935303 : df_frame_orig['voxel_id'] =  df_frame_orig.apply(lambda x: point_to_voxel(x, voxel_size), axis=1)\n",
      "0.0019948482513427734 : df_labels = df_frame_orig.voxel_id.isin(df_subtracted_frame.voxel_id)\n",
      "(478, 5)\n",
      "0.14360666275024414 : df_frame_orig_subtracted = df_frame_orig[df_labels]\n",
      "(7244, 5)\n",
      "file_labels: voxelling_output/submission_files/vid_1_pred_lee/0000222_labels.csv\n",
      "0.08574724197387695 : df_labels.to_csv(pickles_path+\"df_labels__frame_%d__%s__voxel_size_%d.p\"%(frame_idx, vid, voxel_size))\n",
      "7244\n",
      "0.0608370304107666 : save_frame_for_movie(df_frame_orig_subtracted, \"tmp_only_labeled/\", all_files, frame_idx)\n"
     ]
    },
    {
     "name": "stderr",
     "output_type": "stream",
     "text": [
      "\r",
      " 24%|█████████████████████████████████████▏                                                                                                                        | 208/885 [22:49<1:14:17,  6.58s/it]"
     ]
    },
    {
     "name": "stdout",
     "output_type": "stream",
     "text": [
      "=========================================================================\n",
      "frame_idx = 223\n",
      "=========================================================================\n",
      "0.0 : list_idx = get_list_idx_for_frame(frame_idx, n_frames_per_side, shift)\n",
      "5.984990358352661 : df_subtracted_frame = get_df_voxel_subtracted_frame(list_df_voxel_scene, frame_idx, n_frames_per_side, shift)\n",
      "1.1599349975585938 : df_frame_orig['voxel_id'] =  df_frame_orig.apply(lambda x: point_to_voxel(x, voxel_size), axis=1)\n",
      "0.0009815692901611328 : df_labels = df_frame_orig.voxel_id.isin(df_subtracted_frame.voxel_id)\n",
      "(719, 5)\n",
      "0.15355563163757324 : df_frame_orig_subtracted = df_frame_orig[df_labels]\n",
      "(6767, 5)\n",
      "file_labels: voxelling_output/submission_files/vid_1_pred_lee/0000223_labels.csv\n",
      "0.0967411994934082 : df_labels.to_csv(pickles_path+\"df_labels__frame_%d__%s__voxel_size_%d.p\"%(frame_idx, vid, voxel_size))\n",
      "6767\n",
      "0.05884218215942383 : save_frame_for_movie(df_frame_orig_subtracted, \"tmp_only_labeled/\", all_files, frame_idx)\n"
     ]
    },
    {
     "name": "stderr",
     "output_type": "stream",
     "text": [
      "\r",
      " 24%|█████████████████████████████████████▎                                                                                                                        | 209/885 [22:56<1:14:13,  6.59s/it]"
     ]
    },
    {
     "name": "stdout",
     "output_type": "stream",
     "text": [
      "=========================================================================\n",
      "frame_idx = 224\n",
      "=========================================================================\n",
      "0.0 : list_idx = get_list_idx_for_frame(frame_idx, n_frames_per_side, shift)\n",
      "6.6202874183654785 : df_subtracted_frame = get_df_voxel_subtracted_frame(list_df_voxel_scene, frame_idx, n_frames_per_side, shift)\n",
      "1.3055074214935303 : df_frame_orig['voxel_id'] =  df_frame_orig.apply(lambda x: point_to_voxel(x, voxel_size), axis=1)\n",
      "0.0009965896606445312 : df_labels = df_frame_orig.voxel_id.isin(df_subtracted_frame.voxel_id)\n",
      "(769, 5)\n",
      "0.14758610725402832 : df_frame_orig_subtracted = df_frame_orig[df_labels]\n",
      "(6838, 5)\n",
      "file_labels: voxelling_output/submission_files/vid_1_pred_lee/0000224_labels.csv\n",
      "0.08776259422302246 : df_labels.to_csv(pickles_path+\"df_labels__frame_%d__%s__voxel_size_%d.p\"%(frame_idx, vid, voxel_size))\n",
      "6838\n",
      "0.05784487724304199 : save_frame_for_movie(df_frame_orig_subtracted, \"tmp_only_labeled/\", all_files, frame_idx)\n"
     ]
    },
    {
     "name": "stderr",
     "output_type": "stream",
     "text": [
      "\r",
      " 24%|█████████████████████████████████████▍                                                                                                                        | 210/885 [23:05<1:14:12,  6.60s/it]"
     ]
    },
    {
     "name": "stdout",
     "output_type": "stream",
     "text": [
      "=========================================================================\n",
      "frame_idx = 225\n",
      "=========================================================================\n",
      "0.0 : list_idx = get_list_idx_for_frame(frame_idx, n_frames_per_side, shift)\n",
      "6.243300437927246 : df_subtracted_frame = get_df_voxel_subtracted_frame(list_df_voxel_scene, frame_idx, n_frames_per_side, shift)\n",
      "1.162916898727417 : df_frame_orig['voxel_id'] =  df_frame_orig.apply(lambda x: point_to_voxel(x, voxel_size), axis=1)\n",
      "0.002006053924560547 : df_labels = df_frame_orig.voxel_id.isin(df_subtracted_frame.voxel_id)\n",
      "(930, 5)\n",
      "0.15362071990966797 : df_frame_orig_subtracted = df_frame_orig[df_labels]\n",
      "(6534, 5)\n",
      "file_labels: voxelling_output/submission_files/vid_1_pred_lee/0000225_labels.csv\n",
      "0.09873676300048828 : df_labels.to_csv(pickles_path+\"df_labels__frame_%d__%s__voxel_size_%d.p\"%(frame_idx, vid, voxel_size))\n",
      "6534\n",
      "0.06981253623962402 : save_frame_for_movie(df_frame_orig_subtracted, \"tmp_only_labeled/\", all_files, frame_idx)\n"
     ]
    },
    {
     "name": "stderr",
     "output_type": "stream",
     "text": [
      "\r",
      " 24%|█████████████████████████████████████▋                                                                                                                        | 211/885 [23:12<1:14:09,  6.60s/it]"
     ]
    },
    {
     "name": "stdout",
     "output_type": "stream",
     "text": [
      "=========================================================================\n",
      "frame_idx = 226\n",
      "=========================================================================\n",
      "0.0 : list_idx = get_list_idx_for_frame(frame_idx, n_frames_per_side, shift)\n",
      "6.1276514530181885 : df_subtracted_frame = get_df_voxel_subtracted_frame(list_df_voxel_scene, frame_idx, n_frames_per_side, shift)\n",
      "1.2785792350769043 : df_frame_orig['voxel_id'] =  df_frame_orig.apply(lambda x: point_to_voxel(x, voxel_size), axis=1)\n",
      "0.001995563507080078 : df_labels = df_frame_orig.voxel_id.isin(df_subtracted_frame.voxel_id)\n",
      "(1007, 5)\n",
      "0.15657329559326172 : df_frame_orig_subtracted = df_frame_orig[df_labels]\n",
      "(5533, 5)\n",
      "file_labels: voxelling_output/submission_files/vid_1_pred_lee/0000226_labels.csv\n",
      "0.08477282524108887 : df_labels.to_csv(pickles_path+\"df_labels__frame_%d__%s__voxel_size_%d.p\"%(frame_idx, vid, voxel_size))\n",
      "5533\n",
      "0.059839487075805664 : save_frame_for_movie(df_frame_orig_subtracted, \"tmp_only_labeled/\", all_files, frame_idx)\n"
     ]
    },
    {
     "name": "stderr",
     "output_type": "stream",
     "text": [
      "\r",
      " 24%|█████████████████████████████████████▊                                                                                                                        | 212/885 [23:20<1:14:06,  6.61s/it]"
     ]
    },
    {
     "name": "stdout",
     "output_type": "stream",
     "text": [
      "=========================================================================\n",
      "frame_idx = 227\n",
      "=========================================================================\n",
      "0.0 : list_idx = get_list_idx_for_frame(frame_idx, n_frames_per_side, shift)\n",
      "6.336052417755127 : df_subtracted_frame = get_df_voxel_subtracted_frame(list_df_voxel_scene, frame_idx, n_frames_per_side, shift)\n",
      "1.2506558895111084 : df_frame_orig['voxel_id'] =  df_frame_orig.apply(lambda x: point_to_voxel(x, voxel_size), axis=1)\n",
      "0.0009832382202148438 : df_labels = df_frame_orig.voxel_id.isin(df_subtracted_frame.voxel_id)\n",
      "(1030, 5)\n",
      "0.1294865608215332 : df_frame_orig_subtracted = df_frame_orig[df_labels]\n",
      "(5293, 5)\n",
      "file_labels: voxelling_output/submission_files/vid_1_pred_lee/0000227_labels.csv\n",
      "0.08174657821655273 : df_labels.to_csv(pickles_path+\"df_labels__frame_%d__%s__voxel_size_%d.p\"%(frame_idx, vid, voxel_size))\n",
      "5293\n",
      "0.05188155174255371 : save_frame_for_movie(df_frame_orig_subtracted, \"tmp_only_labeled/\", all_files, frame_idx)\n"
     ]
    },
    {
     "name": "stderr",
     "output_type": "stream",
     "text": [
      "\r",
      " 24%|██████████████████████████████████████                                                                                                                        | 213/885 [23:28<1:14:03,  6.61s/it]"
     ]
    },
    {
     "name": "stdout",
     "output_type": "stream",
     "text": [
      "=========================================================================\n",
      "frame_idx = 228\n",
      "=========================================================================\n",
      "0.0 : list_idx = get_list_idx_for_frame(frame_idx, n_frames_per_side, shift)\n",
      "6.42584490776062 : df_subtracted_frame = get_df_voxel_subtracted_frame(list_df_voxel_scene, frame_idx, n_frames_per_side, shift)\n",
      "1.2257590293884277 : df_frame_orig['voxel_id'] =  df_frame_orig.apply(lambda x: point_to_voxel(x, voxel_size), axis=1)\n",
      "0.001993894577026367 : df_labels = df_frame_orig.voxel_id.isin(df_subtracted_frame.voxel_id)\n",
      "(1019, 5)\n",
      "0.1314091682434082 : df_frame_orig_subtracted = df_frame_orig[df_labels]\n",
      "(5617, 5)\n",
      "file_labels: voxelling_output/submission_files/vid_1_pred_lee/0000228_labels.csv\n",
      "0.07879996299743652 : df_labels.to_csv(pickles_path+\"df_labels__frame_%d__%s__voxel_size_%d.p\"%(frame_idx, vid, voxel_size))\n",
      "5617\n",
      "0.047872304916381836 : save_frame_for_movie(df_frame_orig_subtracted, \"tmp_only_labeled/\", all_files, frame_idx)\n"
     ]
    },
    {
     "name": "stderr",
     "output_type": "stream",
     "text": [
      "\r",
      " 24%|██████████████████████████████████████▏                                                                                                                       | 214/885 [23:36<1:14:01,  6.62s/it]"
     ]
    },
    {
     "name": "stdout",
     "output_type": "stream",
     "text": [
      "=========================================================================\n",
      "frame_idx = 229\n",
      "=========================================================================\n",
      "0.0 : list_idx = get_list_idx_for_frame(frame_idx, n_frames_per_side, shift)\n",
      "6.483093023300171 : df_subtracted_frame = get_df_voxel_subtracted_frame(list_df_voxel_scene, frame_idx, n_frames_per_side, shift)\n",
      "1.1748569011688232 : df_frame_orig['voxel_id'] =  df_frame_orig.apply(lambda x: point_to_voxel(x, voxel_size), axis=1)\n",
      "0.002012968063354492 : df_labels = df_frame_orig.voxel_id.isin(df_subtracted_frame.voxel_id)\n",
      "(1191, 5)\n",
      "0.13665246963500977 : df_frame_orig_subtracted = df_frame_orig[df_labels]\n",
      "(5683, 5)\n",
      "file_labels: voxelling_output/submission_files/vid_1_pred_lee/0000229_labels.csv\n",
      "0.08473515510559082 : df_labels.to_csv(pickles_path+\"df_labels__frame_%d__%s__voxel_size_%d.p\"%(frame_idx, vid, voxel_size))\n",
      "5683\n",
      "0.0528409481048584 : save_frame_for_movie(df_frame_orig_subtracted, \"tmp_only_labeled/\", all_files, frame_idx)\n"
     ]
    },
    {
     "name": "stderr",
     "output_type": "stream",
     "text": [
      "\r",
      " 24%|██████████████████████████████████████▍                                                                                                                       | 215/885 [23:44<1:13:58,  6.63s/it]"
     ]
    },
    {
     "name": "stdout",
     "output_type": "stream",
     "text": [
      "=========================================================================\n",
      "frame_idx = 230\n",
      "=========================================================================\n",
      "0.0 : list_idx = get_list_idx_for_frame(frame_idx, n_frames_per_side, shift)\n",
      "6.438404321670532 : df_subtracted_frame = get_df_voxel_subtracted_frame(list_df_voxel_scene, frame_idx, n_frames_per_side, shift)\n",
      "1.2875568866729736 : df_frame_orig['voxel_id'] =  df_frame_orig.apply(lambda x: point_to_voxel(x, voxel_size), axis=1)\n",
      "0.000997781753540039 : df_labels = df_frame_orig.voxel_id.isin(df_subtracted_frame.voxel_id)\n",
      "(968, 5)\n",
      "0.13862848281860352 : df_frame_orig_subtracted = df_frame_orig[df_labels]\n",
      "(6004, 5)\n",
      "file_labels: voxelling_output/submission_files/vid_1_pred_lee/0000230_labels.csv\n",
      "0.08178114891052246 : df_labels.to_csv(pickles_path+\"df_labels__frame_%d__%s__voxel_size_%d.p\"%(frame_idx, vid, voxel_size))\n",
      "6004\n",
      "0.049906015396118164 : save_frame_for_movie(df_frame_orig_subtracted, \"tmp_only_labeled/\", all_files, frame_idx)\n"
     ]
    },
    {
     "name": "stderr",
     "output_type": "stream",
     "text": [
      "\r",
      " 24%|██████████████████████████████████████▌                                                                                                                       | 216/885 [23:52<1:13:56,  6.63s/it]"
     ]
    },
    {
     "name": "stdout",
     "output_type": "stream",
     "text": [
      "=========================================================================\n",
      "frame_idx = 231\n",
      "=========================================================================\n",
      "0.0 : list_idx = get_list_idx_for_frame(frame_idx, n_frames_per_side, shift)\n",
      "6.584431171417236 : df_subtracted_frame = get_df_voxel_subtracted_frame(list_df_voxel_scene, frame_idx, n_frames_per_side, shift)\n",
      "1.2626464366912842 : df_frame_orig['voxel_id'] =  df_frame_orig.apply(lambda x: point_to_voxel(x, voxel_size), axis=1)\n",
      "0.0019948482513427734 : df_labels = df_frame_orig.voxel_id.isin(df_subtracted_frame.voxel_id)\n",
      "(1010, 5)\n",
      "0.13965606689453125 : df_frame_orig_subtracted = df_frame_orig[df_labels]\n",
      "(6238, 5)\n",
      "file_labels: voxelling_output/submission_files/vid_1_pred_lee/0000231_labels.csv\n",
      "0.07778811454772949 : df_labels.to_csv(pickles_path+\"df_labels__frame_%d__%s__voxel_size_%d.p\"%(frame_idx, vid, voxel_size))\n",
      "6238\n",
      "0.04886126518249512 : save_frame_for_movie(df_frame_orig_subtracted, \"tmp_only_labeled/\", all_files, frame_idx)\n"
     ]
    },
    {
     "name": "stderr",
     "output_type": "stream",
     "text": [
      "\r",
      " 25%|██████████████████████████████████████▋                                                                                                                       | 217/885 [24:00<1:13:54,  6.64s/it]"
     ]
    },
    {
     "name": "stdout",
     "output_type": "stream",
     "text": [
      "=========================================================================\n",
      "frame_idx = 232\n",
      "=========================================================================\n",
      "0.0009794235229492188 : list_idx = get_list_idx_for_frame(frame_idx, n_frames_per_side, shift)\n",
      "6.301146507263184 : df_subtracted_frame = get_df_voxel_subtracted_frame(list_df_voxel_scene, frame_idx, n_frames_per_side, shift)\n",
      "1.2296981811523438 : df_frame_orig['voxel_id'] =  df_frame_orig.apply(lambda x: point_to_voxel(x, voxel_size), axis=1)\n",
      "0.0009992122650146484 : df_labels = df_frame_orig.voxel_id.isin(df_subtracted_frame.voxel_id)\n",
      "(953, 5)\n",
      "0.13463997840881348 : df_frame_orig_subtracted = df_frame_orig[df_labels]\n",
      "(6167, 5)\n",
      "file_labels: voxelling_output/submission_files/vid_1_pred_lee/0000232_labels.csv\n",
      "0.07978653907775879 : df_labels.to_csv(pickles_path+\"df_labels__frame_%d__%s__voxel_size_%d.p\"%(frame_idx, vid, voxel_size))\n",
      "6167\n",
      "0.0508427619934082 : save_frame_for_movie(df_frame_orig_subtracted, \"tmp_only_labeled/\", all_files, frame_idx)\n"
     ]
    },
    {
     "name": "stderr",
     "output_type": "stream",
     "text": [
      "\r",
      " 25%|██████████████████████████████████████▉                                                                                                                       | 218/885 [24:08<1:13:51,  6.64s/it]"
     ]
    },
    {
     "name": "stdout",
     "output_type": "stream",
     "text": [
      "=========================================================================\n",
      "frame_idx = 233\n",
      "=========================================================================\n",
      "0.0 : list_idx = get_list_idx_for_frame(frame_idx, n_frames_per_side, shift)\n",
      "6.397924184799194 : df_subtracted_frame = get_df_voxel_subtracted_frame(list_df_voxel_scene, frame_idx, n_frames_per_side, shift)\n",
      "1.210794448852539 : df_frame_orig['voxel_id'] =  df_frame_orig.apply(lambda x: point_to_voxel(x, voxel_size), axis=1)\n",
      "0.001995086669921875 : df_labels = df_frame_orig.voxel_id.isin(df_subtracted_frame.voxel_id)\n",
      "(888, 5)\n",
      "0.1396632194519043 : df_frame_orig_subtracted = df_frame_orig[df_labels]\n",
      "(6295, 5)\n",
      "file_labels: voxelling_output/submission_files/vid_1_pred_lee/0000233_labels.csv\n",
      "0.08077526092529297 : df_labels.to_csv(pickles_path+\"df_labels__frame_%d__%s__voxel_size_%d.p\"%(frame_idx, vid, voxel_size))\n",
      "6295\n",
      "0.05385589599609375 : save_frame_for_movie(df_frame_orig_subtracted, \"tmp_only_labeled/\", all_files, frame_idx)\n"
     ]
    },
    {
     "name": "stderr",
     "output_type": "stream",
     "text": [
      "\r",
      " 25%|███████████████████████████████████████                                                                                                                       | 219/885 [24:16<1:13:48,  6.65s/it]"
     ]
    },
    {
     "name": "stdout",
     "output_type": "stream",
     "text": [
      "=========================================================================\n",
      "frame_idx = 234\n",
      "=========================================================================\n",
      "0.0 : list_idx = get_list_idx_for_frame(frame_idx, n_frames_per_side, shift)\n",
      "6.363001346588135 : df_subtracted_frame = get_df_voxel_subtracted_frame(list_df_voxel_scene, frame_idx, n_frames_per_side, shift)\n",
      "1.2077677249908447 : df_frame_orig['voxel_id'] =  df_frame_orig.apply(lambda x: point_to_voxel(x, voxel_size), axis=1)\n",
      "0.0009980201721191406 : df_labels = df_frame_orig.voxel_id.isin(df_subtracted_frame.voxel_id)\n",
      "(901, 5)\n",
      "0.14261674880981445 : df_frame_orig_subtracted = df_frame_orig[df_labels]\n",
      "(6548, 5)\n",
      "file_labels: voxelling_output/submission_files/vid_1_pred_lee/0000234_labels.csv\n",
      "0.08477258682250977 : df_labels.to_csv(pickles_path+\"df_labels__frame_%d__%s__voxel_size_%d.p\"%(frame_idx, vid, voxel_size))\n",
      "6548\n",
      "0.05584907531738281 : save_frame_for_movie(df_frame_orig_subtracted, \"tmp_only_labeled/\", all_files, frame_idx)\n"
     ]
    },
    {
     "name": "stderr",
     "output_type": "stream",
     "text": [
      "\r",
      " 25%|███████████████████████████████████████▎                                                                                                                      | 220/885 [24:24<1:13:45,  6.66s/it]"
     ]
    },
    {
     "name": "stdout",
     "output_type": "stream",
     "text": [
      "=========================================================================\n",
      "frame_idx = 235\n",
      "=========================================================================\n",
      "0.0 : list_idx = get_list_idx_for_frame(frame_idx, n_frames_per_side, shift)\n",
      "6.39988112449646 : df_subtracted_frame = get_df_voxel_subtracted_frame(list_df_voxel_scene, frame_idx, n_frames_per_side, shift)\n",
      "1.1848654747009277 : df_frame_orig['voxel_id'] =  df_frame_orig.apply(lambda x: point_to_voxel(x, voxel_size), axis=1)\n",
      "0.0009965896606445312 : df_labels = df_frame_orig.voxel_id.isin(df_subtracted_frame.voxel_id)\n",
      "(905, 5)\n",
      "0.14264893531799316 : df_frame_orig_subtracted = df_frame_orig[df_labels]\n",
      "(6494, 5)\n",
      "file_labels: voxelling_output/submission_files/vid_1_pred_lee/0000235_labels.csv\n",
      "0.08377599716186523 : df_labels.to_csv(pickles_path+\"df_labels__frame_%d__%s__voxel_size_%d.p\"%(frame_idx, vid, voxel_size))\n",
      "6494\n",
      "0.05385565757751465 : save_frame_for_movie(df_frame_orig_subtracted, \"tmp_only_labeled/\", all_files, frame_idx)\n"
     ]
    },
    {
     "name": "stderr",
     "output_type": "stream",
     "text": [
      "\r",
      " 25%|███████████████████████████████████████▍                                                                                                                      | 221/885 [24:32<1:13:42,  6.66s/it]"
     ]
    },
    {
     "name": "stdout",
     "output_type": "stream",
     "text": [
      "=========================================================================\n",
      "frame_idx = 236\n",
      "=========================================================================\n",
      "0.0 : list_idx = get_list_idx_for_frame(frame_idx, n_frames_per_side, shift)\n",
      "6.511961460113525 : df_subtracted_frame = get_df_voxel_subtracted_frame(list_df_voxel_scene, frame_idx, n_frames_per_side, shift)\n",
      "1.2686097621917725 : df_frame_orig['voxel_id'] =  df_frame_orig.apply(lambda x: point_to_voxel(x, voxel_size), axis=1)\n",
      "0.001994609832763672 : df_labels = df_frame_orig.voxel_id.isin(df_subtracted_frame.voxel_id)\n",
      "(897, 5)\n",
      "0.1476433277130127 : df_frame_orig_subtracted = df_frame_orig[df_labels]\n",
      "(6639, 5)\n",
      "file_labels: voxelling_output/submission_files/vid_1_pred_lee/0000236_labels.csv\n",
      "0.08876371383666992 : df_labels.to_csv(pickles_path+\"df_labels__frame_%d__%s__voxel_size_%d.p\"%(frame_idx, vid, voxel_size))\n",
      "6639\n",
      "0.05685853958129883 : save_frame_for_movie(df_frame_orig_subtracted, \"tmp_only_labeled/\", all_files, frame_idx)\n"
     ]
    },
    {
     "name": "stderr",
     "output_type": "stream",
     "text": [
      "\r",
      " 25%|███████████████████████████████████████▋                                                                                                                      | 222/885 [24:40<1:13:40,  6.67s/it]"
     ]
    },
    {
     "name": "stdout",
     "output_type": "stream",
     "text": [
      "=========================================================================\n",
      "frame_idx = 237\n",
      "=========================================================================\n",
      "0.0 : list_idx = get_list_idx_for_frame(frame_idx, n_frames_per_side, shift)\n",
      "6.676074028015137 : df_subtracted_frame = get_df_voxel_subtracted_frame(list_df_voxel_scene, frame_idx, n_frames_per_side, shift)\n",
      "1.3155152797698975 : df_frame_orig['voxel_id'] =  df_frame_orig.apply(lambda x: point_to_voxel(x, voxel_size), axis=1)\n",
      "0.0010008811950683594 : df_labels = df_frame_orig.voxel_id.isin(df_subtracted_frame.voxel_id)\n",
      "(902, 5)\n",
      "0.1317307949066162 : df_frame_orig_subtracted = df_frame_orig[df_labels]\n",
      "(6464, 5)\n",
      "file_labels: voxelling_output/submission_files/vid_1_pred_lee/0000237_labels.csv\n",
      "0.08974790573120117 : df_labels.to_csv(pickles_path+\"df_labels__frame_%d__%s__voxel_size_%d.p\"%(frame_idx, vid, voxel_size))\n",
      "6464\n",
      "0.05884194374084473 : save_frame_for_movie(df_frame_orig_subtracted, \"tmp_only_labeled/\", all_files, frame_idx)\n"
     ]
    },
    {
     "name": "stderr",
     "output_type": "stream",
     "text": [
      "\r",
      " 25%|███████████████████████████████████████▊                                                                                                                      | 223/885 [24:48<1:13:38,  6.67s/it]"
     ]
    },
    {
     "name": "stdout",
     "output_type": "stream",
     "text": [
      "=========================================================================\n",
      "frame_idx = 238\n",
      "=========================================================================\n",
      "0.0 : list_idx = get_list_idx_for_frame(frame_idx, n_frames_per_side, shift)\n",
      "6.572454214096069 : df_subtracted_frame = get_df_voxel_subtracted_frame(list_df_voxel_scene, frame_idx, n_frames_per_side, shift)\n",
      "1.2187399864196777 : df_frame_orig['voxel_id'] =  df_frame_orig.apply(lambda x: point_to_voxel(x, voxel_size), axis=1)\n",
      "0.000997304916381836 : df_labels = df_frame_orig.voxel_id.isin(df_subtracted_frame.voxel_id)\n",
      "(962, 5)\n",
      "0.15257692337036133 : df_frame_orig_subtracted = df_frame_orig[df_labels]\n",
      "(6926, 5)\n",
      "file_labels: voxelling_output/submission_files/vid_1_pred_lee/0000238_labels.csv\n",
      "0.16000819206237793 : df_labels.to_csv(pickles_path+\"df_labels__frame_%d__%s__voxel_size_%d.p\"%(frame_idx, vid, voxel_size))\n",
      "6926\n",
      "0.12583518028259277 : save_frame_for_movie(df_frame_orig_subtracted, \"tmp_only_labeled/\", all_files, frame_idx)\n"
     ]
    },
    {
     "name": "stderr",
     "output_type": "stream",
     "text": [
      "\r",
      " 25%|███████████████████████████████████████▉                                                                                                                      | 224/885 [24:56<1:13:36,  6.68s/it]"
     ]
    },
    {
     "name": "stdout",
     "output_type": "stream",
     "text": [
      "=========================================================================\n",
      "frame_idx = 239\n",
      "=========================================================================\n",
      "0.0 : list_idx = get_list_idx_for_frame(frame_idx, n_frames_per_side, shift)\n",
      "6.552473306655884 : df_subtracted_frame = get_df_voxel_subtracted_frame(list_df_voxel_scene, frame_idx, n_frames_per_side, shift)\n",
      "1.2449476718902588 : df_frame_orig['voxel_id'] =  df_frame_orig.apply(lambda x: point_to_voxel(x, voxel_size), axis=1)\n",
      "0.000997304916381836 : df_labels = df_frame_orig.voxel_id.isin(df_subtracted_frame.voxel_id)\n",
      "(1002, 5)\n",
      "0.14664387702941895 : df_frame_orig_subtracted = df_frame_orig[df_labels]\n",
      "(7023, 5)\n",
      "file_labels: voxelling_output/submission_files/vid_1_pred_lee/0000239_labels.csv\n",
      "0.07878661155700684 : df_labels.to_csv(pickles_path+\"df_labels__frame_%d__%s__voxel_size_%d.p\"%(frame_idx, vid, voxel_size))\n",
      "7023\n",
      "0.05285811424255371 : save_frame_for_movie(df_frame_orig_subtracted, \"tmp_only_labeled/\", all_files, frame_idx)\n"
     ]
    },
    {
     "name": "stderr",
     "output_type": "stream",
     "text": [
      "\r",
      " 25%|████████████████████████████████████████▏                                                                                                                     | 225/885 [25:04<1:13:34,  6.69s/it]"
     ]
    },
    {
     "name": "stdout",
     "output_type": "stream",
     "text": [
      "=========================================================================\n",
      "frame_idx = 240\n",
      "=========================================================================\n",
      "0.0 : list_idx = get_list_idx_for_frame(frame_idx, n_frames_per_side, shift)\n",
      "6.609315395355225 : df_subtracted_frame = get_df_voxel_subtracted_frame(list_df_voxel_scene, frame_idx, n_frames_per_side, shift)\n",
      "1.288573980331421 : df_frame_orig['voxel_id'] =  df_frame_orig.apply(lambda x: point_to_voxel(x, voxel_size), axis=1)\n",
      "0.0009975433349609375 : df_labels = df_frame_orig.voxel_id.isin(df_subtracted_frame.voxel_id)\n",
      "(978, 5)\n",
      "0.13463807106018066 : df_frame_orig_subtracted = df_frame_orig[df_labels]\n",
      "(7048, 5)\n",
      "file_labels: voxelling_output/submission_files/vid_1_pred_lee/0000240_labels.csv\n",
      "0.08078265190124512 : df_labels.to_csv(pickles_path+\"df_labels__frame_%d__%s__voxel_size_%d.p\"%(frame_idx, vid, voxel_size))\n",
      "7048\n",
      "0.05385470390319824 : save_frame_for_movie(df_frame_orig_subtracted, \"tmp_only_labeled/\", all_files, frame_idx)\n"
     ]
    },
    {
     "name": "stderr",
     "output_type": "stream",
     "text": [
      "\r",
      " 26%|████████████████████████████████████████▎                                                                                                                     | 226/885 [25:13<1:13:31,  6.69s/it]"
     ]
    },
    {
     "name": "stdout",
     "output_type": "stream",
     "text": [
      "=========================================================================\n",
      "frame_idx = 241\n",
      "=========================================================================\n",
      "0.0 : list_idx = get_list_idx_for_frame(frame_idx, n_frames_per_side, shift)\n",
      "6.6083245277404785 : df_subtracted_frame = get_df_voxel_subtracted_frame(list_df_voxel_scene, frame_idx, n_frames_per_side, shift)\n",
      "1.2696361541748047 : df_frame_orig['voxel_id'] =  df_frame_orig.apply(lambda x: point_to_voxel(x, voxel_size), axis=1)\n",
      "0.0009982585906982422 : df_labels = df_frame_orig.voxel_id.isin(df_subtracted_frame.voxel_id)\n",
      "(1007, 5)\n",
      "0.13462257385253906 : df_frame_orig_subtracted = df_frame_orig[df_labels]\n",
      "(7062, 5)\n",
      "file_labels: voxelling_output/submission_files/vid_1_pred_lee/0000241_labels.csv\n",
      "0.07878875732421875 : df_labels.to_csv(pickles_path+\"df_labels__frame_%d__%s__voxel_size_%d.p\"%(frame_idx, vid, voxel_size))\n",
      "7062\n",
      "0.059850454330444336 : save_frame_for_movie(df_frame_orig_subtracted, \"tmp_only_labeled/\", all_files, frame_idx)\n"
     ]
    },
    {
     "name": "stderr",
     "output_type": "stream",
     "text": [
      "\r",
      " 26%|████████████████████████████████████████▌                                                                                                                     | 227/885 [25:21<1:13:29,  6.70s/it]"
     ]
    },
    {
     "name": "stdout",
     "output_type": "stream",
     "text": [
      "=========================================================================\n",
      "frame_idx = 242\n",
      "=========================================================================\n",
      "0.0009980201721191406 : list_idx = get_list_idx_for_frame(frame_idx, n_frames_per_side, shift)\n",
      "6.593363046646118 : df_subtracted_frame = get_df_voxel_subtracted_frame(list_df_voxel_scene, frame_idx, n_frames_per_side, shift)\n",
      "1.2396843433380127 : df_frame_orig['voxel_id'] =  df_frame_orig.apply(lambda x: point_to_voxel(x, voxel_size), axis=1)\n",
      "0.0009970664978027344 : df_labels = df_frame_orig.voxel_id.isin(df_subtracted_frame.voxel_id)\n",
      "(996, 5)\n",
      "0.12865400314331055 : df_frame_orig_subtracted = df_frame_orig[df_labels]\n",
      "(7288, 5)\n",
      "file_labels: voxelling_output/submission_files/vid_1_pred_lee/0000242_labels.csv\n",
      "0.07874631881713867 : df_labels.to_csv(pickles_path+\"df_labels__frame_%d__%s__voxel_size_%d.p\"%(frame_idx, vid, voxel_size))\n",
      "7288\n",
      "0.05786013603210449 : save_frame_for_movie(df_frame_orig_subtracted, \"tmp_only_labeled/\", all_files, frame_idx)\n"
     ]
    },
    {
     "name": "stderr",
     "output_type": "stream",
     "text": [
      "\r",
      " 26%|████████████████████████████████████████▋                                                                                                                     | 228/885 [25:29<1:13:26,  6.71s/it]"
     ]
    },
    {
     "name": "stdout",
     "output_type": "stream",
     "text": [
      "=========================================================================\n",
      "frame_idx = 243\n",
      "=========================================================================\n",
      "0.0 : list_idx = get_list_idx_for_frame(frame_idx, n_frames_per_side, shift)\n",
      "6.583390951156616 : df_subtracted_frame = get_df_voxel_subtracted_frame(list_df_voxel_scene, frame_idx, n_frames_per_side, shift)\n",
      "1.299851417541504 : df_frame_orig['voxel_id'] =  df_frame_orig.apply(lambda x: point_to_voxel(x, voxel_size), axis=1)\n",
      "0.0009965896606445312 : df_labels = df_frame_orig.voxel_id.isin(df_subtracted_frame.voxel_id)\n",
      "(999, 5)\n",
      "0.15658140182495117 : df_frame_orig_subtracted = df_frame_orig[df_labels]\n",
      "(7287, 5)\n",
      "file_labels: voxelling_output/submission_files/vid_1_pred_lee/0000243_labels.csv\n",
      "0.08975839614868164 : df_labels.to_csv(pickles_path+\"df_labels__frame_%d__%s__voxel_size_%d.p\"%(frame_idx, vid, voxel_size))\n",
      "7287\n",
      "0.06482625007629395 : save_frame_for_movie(df_frame_orig_subtracted, \"tmp_only_labeled/\", all_files, frame_idx)\n"
     ]
    },
    {
     "name": "stderr",
     "output_type": "stream",
     "text": [
      "\r",
      " 26%|████████████████████████████████████████▉                                                                                                                     | 229/885 [25:37<1:13:24,  6.71s/it]"
     ]
    },
    {
     "name": "stdout",
     "output_type": "stream",
     "text": [
      "=========================================================================\n",
      "frame_idx = 244\n",
      "=========================================================================\n",
      "0.0 : list_idx = get_list_idx_for_frame(frame_idx, n_frames_per_side, shift)\n",
      "6.983759164810181 : df_subtracted_frame = get_df_voxel_subtracted_frame(list_df_voxel_scene, frame_idx, n_frames_per_side, shift)\n",
      "1.208780288696289 : df_frame_orig['voxel_id'] =  df_frame_orig.apply(lambda x: point_to_voxel(x, voxel_size), axis=1)\n",
      "0.0019953250885009766 : df_labels = df_frame_orig.voxel_id.isin(df_subtracted_frame.voxel_id)\n",
      "(1043, 5)\n",
      "0.1376633644104004 : df_frame_orig_subtracted = df_frame_orig[df_labels]\n",
      "(7504, 5)\n",
      "file_labels: voxelling_output/submission_files/vid_1_pred_lee/0000244_labels.csv\n",
      "0.08676671981811523 : df_labels.to_csv(pickles_path+\"df_labels__frame_%d__%s__voxel_size_%d.p\"%(frame_idx, vid, voxel_size))\n",
      "7504\n",
      "0.05884146690368652 : save_frame_for_movie(df_frame_orig_subtracted, \"tmp_only_labeled/\", all_files, frame_idx)\n"
     ]
    },
    {
     "name": "stderr",
     "output_type": "stream",
     "text": [
      "\r",
      " 26%|█████████████████████████████████████████                                                                                                                     | 230/885 [25:46<1:13:22,  6.72s/it]"
     ]
    },
    {
     "name": "stdout",
     "output_type": "stream",
     "text": [
      "=========================================================================\n",
      "frame_idx = 245\n",
      "=========================================================================\n",
      "0.0 : list_idx = get_list_idx_for_frame(frame_idx, n_frames_per_side, shift)\n",
      "6.618326187133789 : df_subtracted_frame = get_df_voxel_subtracted_frame(list_df_voxel_scene, frame_idx, n_frames_per_side, shift)\n",
      "1.137965440750122 : df_frame_orig['voxel_id'] =  df_frame_orig.apply(lambda x: point_to_voxel(x, voxel_size), axis=1)\n",
      "0.0009968280792236328 : df_labels = df_frame_orig.voxel_id.isin(df_subtracted_frame.voxel_id)\n",
      "(991, 5)\n",
      "0.13763022422790527 : df_frame_orig_subtracted = df_frame_orig[df_labels]\n",
      "(7496, 5)\n",
      "file_labels: voxelling_output/submission_files/vid_1_pred_lee/0000245_labels.csv\n",
      "0.08178091049194336 : df_labels.to_csv(pickles_path+\"df_labels__frame_%d__%s__voxel_size_%d.p\"%(frame_idx, vid, voxel_size))\n",
      "7496\n",
      "0.060836076736450195 : save_frame_for_movie(df_frame_orig_subtracted, \"tmp_only_labeled/\", all_files, frame_idx)\n"
     ]
    },
    {
     "name": "stderr",
     "output_type": "stream",
     "text": [
      "\r",
      " 26%|█████████████████████████████████████████▏                                                                                                                    | 231/885 [25:54<1:13:19,  6.73s/it]"
     ]
    },
    {
     "name": "stdout",
     "output_type": "stream",
     "text": [
      "=========================================================================\n",
      "frame_idx = 246\n",
      "=========================================================================\n",
      "0.0 : list_idx = get_list_idx_for_frame(frame_idx, n_frames_per_side, shift)\n",
      "6.619292497634888 : df_subtracted_frame = get_df_voxel_subtracted_frame(list_df_voxel_scene, frame_idx, n_frames_per_side, shift)\n",
      "1.2217302322387695 : df_frame_orig['voxel_id'] =  df_frame_orig.apply(lambda x: point_to_voxel(x, voxel_size), axis=1)\n",
      "0.0019941329956054688 : df_labels = df_frame_orig.voxel_id.isin(df_subtracted_frame.voxel_id)\n",
      "(858, 5)\n",
      "0.1436910629272461 : df_frame_orig_subtracted = df_frame_orig[df_labels]\n",
      "(7611, 5)\n",
      "file_labels: voxelling_output/submission_files/vid_1_pred_lee/0000246_labels.csv\n",
      "0.09773683547973633 : df_labels.to_csv(pickles_path+\"df_labels__frame_%d__%s__voxel_size_%d.p\"%(frame_idx, vid, voxel_size))\n",
      "7611\n",
      "0.06781816482543945 : save_frame_for_movie(df_frame_orig_subtracted, \"tmp_only_labeled/\", all_files, frame_idx)\n"
     ]
    },
    {
     "name": "stderr",
     "output_type": "stream",
     "text": [
      "\r",
      " 26%|█████████████████████████████████████████▍                                                                                                                    | 232/885 [26:02<1:13:17,  6.73s/it]"
     ]
    },
    {
     "name": "stdout",
     "output_type": "stream",
     "text": [
      "=========================================================================\n",
      "frame_idx = 247\n",
      "=========================================================================\n",
      "0.0 : list_idx = get_list_idx_for_frame(frame_idx, n_frames_per_side, shift)\n",
      "7.349342346191406 : df_subtracted_frame = get_df_voxel_subtracted_frame(list_df_voxel_scene, frame_idx, n_frames_per_side, shift)\n",
      "1.5039761066436768 : df_frame_orig['voxel_id'] =  df_frame_orig.apply(lambda x: point_to_voxel(x, voxel_size), axis=1)\n",
      "0.000988006591796875 : df_labels = df_frame_orig.voxel_id.isin(df_subtracted_frame.voxel_id)\n",
      "(866, 5)\n",
      "0.14162158966064453 : df_frame_orig_subtracted = df_frame_orig[df_labels]\n",
      "(7768, 5)\n",
      "file_labels: voxelling_output/submission_files/vid_1_pred_lee/0000247_labels.csv\n",
      "0.09474563598632812 : df_labels.to_csv(pickles_path+\"df_labels__frame_%d__%s__voxel_size_%d.p\"%(frame_idx, vid, voxel_size))\n",
      "7768\n",
      "0.07080626487731934 : save_frame_for_movie(df_frame_orig_subtracted, \"tmp_only_labeled/\", all_files, frame_idx)\n"
     ]
    },
    {
     "name": "stderr",
     "output_type": "stream",
     "text": [
      "\r",
      " 26%|█████████████████████████████████████████▌                                                                                                                    | 233/885 [26:11<1:13:17,  6.74s/it]"
     ]
    },
    {
     "name": "stdout",
     "output_type": "stream",
     "text": [
      "=========================================================================\n",
      "frame_idx = 248\n",
      "=========================================================================\n",
      "0.0 : list_idx = get_list_idx_for_frame(frame_idx, n_frames_per_side, shift)\n",
      "6.830581426620483 : df_subtracted_frame = get_df_voxel_subtracted_frame(list_df_voxel_scene, frame_idx, n_frames_per_side, shift)\n",
      "1.2366905212402344 : df_frame_orig['voxel_id'] =  df_frame_orig.apply(lambda x: point_to_voxel(x, voxel_size), axis=1)\n",
      "0.001995563507080078 : df_labels = df_frame_orig.voxel_id.isin(df_subtracted_frame.voxel_id)\n",
      "(880, 5)\n",
      "0.15059661865234375 : df_frame_orig_subtracted = df_frame_orig[df_labels]\n",
      "(7728, 5)\n",
      "file_labels: voxelling_output/submission_files/vid_1_pred_lee/0000248_labels.csv\n",
      "0.08577990531921387 : df_labels.to_csv(pickles_path+\"df_labels__frame_%d__%s__voxel_size_%d.p\"%(frame_idx, vid, voxel_size))\n",
      "7728\n",
      "0.0608367919921875 : save_frame_for_movie(df_frame_orig_subtracted, \"tmp_only_labeled/\", all_files, frame_idx)\n"
     ]
    },
    {
     "name": "stderr",
     "output_type": "stream",
     "text": [
      "\r",
      " 26%|█████████████████████████████████████████▊                                                                                                                    | 234/885 [26:19<1:13:15,  6.75s/it]"
     ]
    },
    {
     "name": "stdout",
     "output_type": "stream",
     "text": [
      "=========================================================================\n",
      "frame_idx = 249\n",
      "=========================================================================\n",
      "0.0 : list_idx = get_list_idx_for_frame(frame_idx, n_frames_per_side, shift)\n",
      "6.543537616729736 : df_subtracted_frame = get_df_voxel_subtracted_frame(list_df_voxel_scene, frame_idx, n_frames_per_side, shift)\n",
      "1.179884910583496 : df_frame_orig['voxel_id'] =  df_frame_orig.apply(lambda x: point_to_voxel(x, voxel_size), axis=1)\n",
      "0.0019943714141845703 : df_labels = df_frame_orig.voxel_id.isin(df_subtracted_frame.voxel_id)\n",
      "(780, 5)\n",
      "0.1406550407409668 : df_frame_orig_subtracted = df_frame_orig[df_labels]\n",
      "(8031, 5)\n",
      "file_labels: voxelling_output/submission_files/vid_1_pred_lee/0000249_labels.csv\n",
      "0.08078646659851074 : df_labels.to_csv(pickles_path+\"df_labels__frame_%d__%s__voxel_size_%d.p\"%(frame_idx, vid, voxel_size))\n",
      "8031\n",
      "0.0688166618347168 : save_frame_for_movie(df_frame_orig_subtracted, \"tmp_only_labeled/\", all_files, frame_idx)\n"
     ]
    },
    {
     "name": "stderr",
     "output_type": "stream",
     "text": [
      "\r",
      " 27%|█████████████████████████████████████████▉                                                                                                                    | 235/885 [26:27<1:13:12,  6.76s/it]"
     ]
    },
    {
     "name": "stdout",
     "output_type": "stream",
     "text": [
      "=========================================================================\n",
      "frame_idx = 250\n",
      "=========================================================================\n",
      "0.0 : list_idx = get_list_idx_for_frame(frame_idx, n_frames_per_side, shift)\n",
      "6.930551767349243 : df_subtracted_frame = get_df_voxel_subtracted_frame(list_df_voxel_scene, frame_idx, n_frames_per_side, shift)\n",
      "1.253007173538208 : df_frame_orig['voxel_id'] =  df_frame_orig.apply(lambda x: point_to_voxel(x, voxel_size), axis=1)\n",
      "0.001992940902709961 : df_labels = df_frame_orig.voxel_id.isin(df_subtracted_frame.voxel_id)\n",
      "(548, 5)\n",
      "0.138627290725708 : df_frame_orig_subtracted = df_frame_orig[df_labels]\n",
      "(8330, 5)\n",
      "file_labels: voxelling_output/submission_files/vid_1_pred_lee/0000250_labels.csv\n",
      "0.07878804206848145 : df_labels.to_csv(pickles_path+\"df_labels__frame_%d__%s__voxel_size_%d.p\"%(frame_idx, vid, voxel_size))\n",
      "8330\n",
      "0.05983853340148926 : save_frame_for_movie(df_frame_orig_subtracted, \"tmp_only_labeled/\", all_files, frame_idx)\n"
     ]
    },
    {
     "name": "stderr",
     "output_type": "stream",
     "text": [
      "\r",
      " 27%|██████████████████████████████████████████▏                                                                                                                   | 236/885 [26:36<1:13:10,  6.76s/it]"
     ]
    },
    {
     "name": "stdout",
     "output_type": "stream",
     "text": [
      "=========================================================================\n",
      "frame_idx = 251\n",
      "=========================================================================\n",
      "0.0010061264038085938 : list_idx = get_list_idx_for_frame(frame_idx, n_frames_per_side, shift)\n",
      "6.699563264846802 : df_subtracted_frame = get_df_voxel_subtracted_frame(list_df_voxel_scene, frame_idx, n_frames_per_side, shift)\n",
      "1.2307078838348389 : df_frame_orig['voxel_id'] =  df_frame_orig.apply(lambda x: point_to_voxel(x, voxel_size), axis=1)\n",
      "0.001978635787963867 : df_labels = df_frame_orig.voxel_id.isin(df_subtracted_frame.voxel_id)\n",
      "(548, 5)\n",
      "0.14261507987976074 : df_frame_orig_subtracted = df_frame_orig[df_labels]\n",
      "(8749, 5)\n",
      "file_labels: voxelling_output/submission_files/vid_1_pred_lee/0000251_labels.csv\n",
      "0.09075736999511719 : df_labels.to_csv(pickles_path+\"df_labels__frame_%d__%s__voxel_size_%d.p\"%(frame_idx, vid, voxel_size))\n",
      "8749\n",
      "0.07879209518432617 : save_frame_for_movie(df_frame_orig_subtracted, \"tmp_only_labeled/\", all_files, frame_idx)\n"
     ]
    },
    {
     "name": "stderr",
     "output_type": "stream",
     "text": [
      "\r",
      " 27%|██████████████████████████████████████████▎                                                                                                                   | 237/885 [26:44<1:13:07,  6.77s/it]"
     ]
    },
    {
     "name": "stdout",
     "output_type": "stream",
     "text": [
      "=========================================================================\n",
      "frame_idx = 252\n",
      "=========================================================================\n",
      "0.0 : list_idx = get_list_idx_for_frame(frame_idx, n_frames_per_side, shift)\n",
      "6.853966951370239 : df_subtracted_frame = get_df_voxel_subtracted_frame(list_df_voxel_scene, frame_idx, n_frames_per_side, shift)\n",
      "1.3384208679199219 : df_frame_orig['voxel_id'] =  df_frame_orig.apply(lambda x: point_to_voxel(x, voxel_size), axis=1)\n",
      "0.0009970664978027344 : df_labels = df_frame_orig.voxel_id.isin(df_subtracted_frame.voxel_id)\n",
      "(511, 5)\n",
      "0.16158008575439453 : df_frame_orig_subtracted = df_frame_orig[df_labels]\n",
      "(9133, 5)\n",
      "file_labels: voxelling_output/submission_files/vid_1_pred_lee/0000252_labels.csv\n",
      "0.1017465591430664 : df_labels.to_csv(pickles_path+\"df_labels__frame_%d__%s__voxel_size_%d.p\"%(frame_idx, vid, voxel_size))\n",
      "9133\n",
      "0.08181047439575195 : save_frame_for_movie(df_frame_orig_subtracted, \"tmp_only_labeled/\", all_files, frame_idx)\n"
     ]
    },
    {
     "name": "stderr",
     "output_type": "stream",
     "text": [
      "\r",
      " 27%|██████████████████████████████████████████▍                                                                                                                   | 238/885 [26:53<1:13:05,  6.78s/it]"
     ]
    },
    {
     "name": "stdout",
     "output_type": "stream",
     "text": [
      "=========================================================================\n",
      "frame_idx = 253\n",
      "=========================================================================\n",
      "0.0 : list_idx = get_list_idx_for_frame(frame_idx, n_frames_per_side, shift)\n",
      "7.139195919036865 : df_subtracted_frame = get_df_voxel_subtracted_frame(list_df_voxel_scene, frame_idx, n_frames_per_side, shift)\n",
      "1.303514003753662 : df_frame_orig['voxel_id'] =  df_frame_orig.apply(lambda x: point_to_voxel(x, voxel_size), axis=1)\n",
      "0.001995086669921875 : df_labels = df_frame_orig.voxel_id.isin(df_subtracted_frame.voxel_id)\n",
      "(639, 5)\n",
      "0.15358805656433105 : df_frame_orig_subtracted = df_frame_orig[df_labels]\n",
      "(9484, 5)\n",
      "file_labels: voxelling_output/submission_files/vid_1_pred_lee/0000253_labels.csv\n",
      "0.10771059989929199 : df_labels.to_csv(pickles_path+\"df_labels__frame_%d__%s__voxel_size_%d.p\"%(frame_idx, vid, voxel_size))\n",
      "9484\n",
      "0.08377408981323242 : save_frame_for_movie(df_frame_orig_subtracted, \"tmp_only_labeled/\", all_files, frame_idx)\n"
     ]
    },
    {
     "name": "stderr",
     "output_type": "stream",
     "text": [
      "\r",
      " 27%|██████████████████████████████████████████▋                                                                                                                   | 239/885 [27:02<1:13:04,  6.79s/it]"
     ]
    },
    {
     "name": "stdout",
     "output_type": "stream",
     "text": [
      "=========================================================================\n",
      "frame_idx = 254\n",
      "=========================================================================\n",
      "0.0 : list_idx = get_list_idx_for_frame(frame_idx, n_frames_per_side, shift)\n",
      "6.59835147857666 : df_subtracted_frame = get_df_voxel_subtracted_frame(list_df_voxel_scene, frame_idx, n_frames_per_side, shift)\n",
      "1.317500114440918 : df_frame_orig['voxel_id'] =  df_frame_orig.apply(lambda x: point_to_voxel(x, voxel_size), axis=1)\n",
      "0.001995563507080078 : df_labels = df_frame_orig.voxel_id.isin(df_subtracted_frame.voxel_id)\n",
      "(456, 5)\n",
      "0.1575784683227539 : df_frame_orig_subtracted = df_frame_orig[df_labels]\n",
      "(9983, 5)\n",
      "file_labels: voxelling_output/submission_files/vid_1_pred_lee/0000254_labels.csv\n",
      "0.10373282432556152 : df_labels.to_csv(pickles_path+\"df_labels__frame_%d__%s__voxel_size_%d.p\"%(frame_idx, vid, voxel_size))\n",
      "9983\n",
      "0.08180570602416992 : save_frame_for_movie(df_frame_orig_subtracted, \"tmp_only_labeled/\", all_files, frame_idx)\n"
     ]
    },
    {
     "name": "stderr",
     "output_type": "stream",
     "text": [
      "\r",
      " 27%|██████████████████████████████████████████▊                                                                                                                   | 240/885 [27:10<1:13:01,  6.79s/it]"
     ]
    },
    {
     "name": "stdout",
     "output_type": "stream",
     "text": [
      "=========================================================================\n",
      "frame_idx = 255\n",
      "=========================================================================\n",
      "0.0 : list_idx = get_list_idx_for_frame(frame_idx, n_frames_per_side, shift)\n",
      "7.0192224979400635 : df_subtracted_frame = get_df_voxel_subtracted_frame(list_df_voxel_scene, frame_idx, n_frames_per_side, shift)\n",
      "1.2701406478881836 : df_frame_orig['voxel_id'] =  df_frame_orig.apply(lambda x: point_to_voxel(x, voxel_size), axis=1)\n",
      "0.001983642578125 : df_labels = df_frame_orig.voxel_id.isin(df_subtracted_frame.voxel_id)\n",
      "(501, 5)\n",
      "0.15956711769104004 : df_frame_orig_subtracted = df_frame_orig[df_labels]\n",
      "(10095, 5)\n",
      "file_labels: voxelling_output/submission_files/vid_1_pred_lee/0000255_labels.csv\n",
      "0.08676719665527344 : df_labels.to_csv(pickles_path+\"df_labels__frame_%d__%s__voxel_size_%d.p\"%(frame_idx, vid, voxel_size))\n",
      "10095\n",
      "0.08277320861816406 : save_frame_for_movie(df_frame_orig_subtracted, \"tmp_only_labeled/\", all_files, frame_idx)\n"
     ]
    },
    {
     "name": "stderr",
     "output_type": "stream",
     "text": [
      "\r",
      " 27%|███████████████████████████████████████████                                                                                                                   | 241/885 [27:18<1:12:59,  6.80s/it]"
     ]
    },
    {
     "name": "stdout",
     "output_type": "stream",
     "text": [
      "=========================================================================\n",
      "frame_idx = 256\n",
      "=========================================================================\n",
      "0.0 : list_idx = get_list_idx_for_frame(frame_idx, n_frames_per_side, shift)\n",
      "6.890605688095093 : df_subtracted_frame = get_df_voxel_subtracted_frame(list_df_voxel_scene, frame_idx, n_frames_per_side, shift)\n",
      "1.2267498970031738 : df_frame_orig['voxel_id'] =  df_frame_orig.apply(lambda x: point_to_voxel(x, voxel_size), axis=1)\n",
      "0.0019922256469726562 : df_labels = df_frame_orig.voxel_id.isin(df_subtracted_frame.voxel_id)\n",
      "(458, 5)\n",
      "0.14062237739562988 : df_frame_orig_subtracted = df_frame_orig[df_labels]\n",
      "(10535, 5)\n",
      "file_labels: voxelling_output/submission_files/vid_1_pred_lee/0000256_labels.csv\n",
      "0.09871411323547363 : df_labels.to_csv(pickles_path+\"df_labels__frame_%d__%s__voxel_size_%d.p\"%(frame_idx, vid, voxel_size))\n",
      "10535\n",
      "0.1198728084564209 : save_frame_for_movie(df_frame_orig_subtracted, \"tmp_only_labeled/\", all_files, frame_idx)\n"
     ]
    },
    {
     "name": "stderr",
     "output_type": "stream",
     "text": [
      "\r",
      " 27%|███████████████████████████████████████████▏                                                                                                                  | 242/885 [27:27<1:12:57,  6.81s/it]"
     ]
    },
    {
     "name": "stdout",
     "output_type": "stream",
     "text": [
      "=========================================================================\n",
      "frame_idx = 257\n",
      "=========================================================================\n",
      "0.0 : list_idx = get_list_idx_for_frame(frame_idx, n_frames_per_side, shift)\n",
      "6.986312389373779 : df_subtracted_frame = get_df_voxel_subtracted_frame(list_df_voxel_scene, frame_idx, n_frames_per_side, shift)\n",
      "1.2187457084655762 : df_frame_orig['voxel_id'] =  df_frame_orig.apply(lambda x: point_to_voxel(x, voxel_size), axis=1)\n",
      "0.001992940902709961 : df_labels = df_frame_orig.voxel_id.isin(df_subtracted_frame.voxel_id)\n",
      "(473, 5)\n",
      "0.14763164520263672 : df_frame_orig_subtracted = df_frame_orig[df_labels]\n",
      "(10631, 5)\n",
      "file_labels: voxelling_output/submission_files/vid_1_pred_lee/0000257_labels.csv\n",
      "0.08377456665039062 : df_labels.to_csv(pickles_path+\"df_labels__frame_%d__%s__voxel_size_%d.p\"%(frame_idx, vid, voxel_size))\n",
      "10631\n",
      "0.10272431373596191 : save_frame_for_movie(df_frame_orig_subtracted, \"tmp_only_labeled/\", all_files, frame_idx)\n"
     ]
    },
    {
     "name": "stderr",
     "output_type": "stream",
     "text": [
      "\r",
      " 27%|███████████████████████████████████████████▍                                                                                                                  | 243/885 [27:36<1:12:55,  6.81s/it]"
     ]
    },
    {
     "name": "stdout",
     "output_type": "stream",
     "text": [
      "=========================================================================\n",
      "frame_idx = 258\n",
      "=========================================================================\n",
      "0.0 : list_idx = get_list_idx_for_frame(frame_idx, n_frames_per_side, shift)\n",
      "6.95140814781189 : df_subtracted_frame = get_df_voxel_subtracted_frame(list_df_voxel_scene, frame_idx, n_frames_per_side, shift)\n",
      "1.3045377731323242 : df_frame_orig['voxel_id'] =  df_frame_orig.apply(lambda x: point_to_voxel(x, voxel_size), axis=1)\n",
      "0.0009944438934326172 : df_labels = df_frame_orig.voxel_id.isin(df_subtracted_frame.voxel_id)\n",
      "(512, 5)\n",
      "0.18350577354431152 : df_frame_orig_subtracted = df_frame_orig[df_labels]\n",
      "(10651, 5)\n",
      "file_labels: voxelling_output/submission_files/vid_1_pred_lee/0000258_labels.csv\n",
      "0.1017303466796875 : df_labels.to_csv(pickles_path+\"df_labels__frame_%d__%s__voxel_size_%d.p\"%(frame_idx, vid, voxel_size))\n",
      "10651\n",
      "0.09175372123718262 : save_frame_for_movie(df_frame_orig_subtracted, \"tmp_only_labeled/\", all_files, frame_idx)\n"
     ]
    },
    {
     "name": "stderr",
     "output_type": "stream",
     "text": [
      "\r",
      " 28%|███████████████████████████████████████████▌                                                                                                                  | 244/885 [27:44<1:12:53,  6.82s/it]"
     ]
    },
    {
     "name": "stdout",
     "output_type": "stream",
     "text": [
      "=========================================================================\n",
      "frame_idx = 259\n",
      "=========================================================================\n",
      "0.0 : list_idx = get_list_idx_for_frame(frame_idx, n_frames_per_side, shift)\n",
      "7.192209482192993 : df_subtracted_frame = get_df_voxel_subtracted_frame(list_df_voxel_scene, frame_idx, n_frames_per_side, shift)\n",
      "1.414215326309204 : df_frame_orig['voxel_id'] =  df_frame_orig.apply(lambda x: point_to_voxel(x, voxel_size), axis=1)\n",
      "0.0020074844360351562 : df_labels = df_frame_orig.voxel_id.isin(df_subtracted_frame.voxel_id)\n",
      "(503, 5)\n",
      "0.14163756370544434 : df_frame_orig_subtracted = df_frame_orig[df_labels]\n",
      "(10131, 5)\n",
      "file_labels: voxelling_output/submission_files/vid_1_pred_lee/0000259_labels.csv\n",
      "0.08180928230285645 : df_labels.to_csv(pickles_path+\"df_labels__frame_%d__%s__voxel_size_%d.p\"%(frame_idx, vid, voxel_size))\n",
      "10131\n",
      "0.08678054809570312 : save_frame_for_movie(df_frame_orig_subtracted, \"tmp_only_labeled/\", all_files, frame_idx)\n"
     ]
    },
    {
     "name": "stderr",
     "output_type": "stream",
     "text": [
      "\r",
      " 28%|███████████████████████████████████████████▋                                                                                                                  | 245/885 [27:53<1:12:51,  6.83s/it]"
     ]
    },
    {
     "name": "stdout",
     "output_type": "stream",
     "text": [
      "=========================================================================\n",
      "frame_idx = 260\n",
      "=========================================================================\n",
      "0.0 : list_idx = get_list_idx_for_frame(frame_idx, n_frames_per_side, shift)\n",
      "6.904528379440308 : df_subtracted_frame = get_df_voxel_subtracted_frame(list_df_voxel_scene, frame_idx, n_frames_per_side, shift)\n",
      "1.2915749549865723 : df_frame_orig['voxel_id'] =  df_frame_orig.apply(lambda x: point_to_voxel(x, voxel_size), axis=1)\n",
      "0.0019948482513427734 : df_labels = df_frame_orig.voxel_id.isin(df_subtracted_frame.voxel_id)\n",
      "(545, 5)\n",
      "0.13763117790222168 : df_frame_orig_subtracted = df_frame_orig[df_labels]\n",
      "(9762, 5)\n",
      "file_labels: voxelling_output/submission_files/vid_1_pred_lee/0000260_labels.csv\n",
      "0.08779549598693848 : df_labels.to_csv(pickles_path+\"df_labels__frame_%d__%s__voxel_size_%d.p\"%(frame_idx, vid, voxel_size))\n",
      "9762\n",
      "0.08178043365478516 : save_frame_for_movie(df_frame_orig_subtracted, \"tmp_only_labeled/\", all_files, frame_idx)\n"
     ]
    },
    {
     "name": "stderr",
     "output_type": "stream",
     "text": [
      "\r",
      " 28%|███████████████████████████████████████████▉                                                                                                                  | 246/885 [28:02<1:12:49,  6.84s/it]"
     ]
    },
    {
     "name": "stdout",
     "output_type": "stream",
     "text": [
      "=========================================================================\n",
      "frame_idx = 261\n",
      "=========================================================================\n",
      "0.0 : list_idx = get_list_idx_for_frame(frame_idx, n_frames_per_side, shift)\n",
      "7.110016107559204 : df_subtracted_frame = get_df_voxel_subtracted_frame(list_df_voxel_scene, frame_idx, n_frames_per_side, shift)\n",
      "1.254676342010498 : df_frame_orig['voxel_id'] =  df_frame_orig.apply(lambda x: point_to_voxel(x, voxel_size), axis=1)\n",
      "0.0019948482513427734 : df_labels = df_frame_orig.voxel_id.isin(df_subtracted_frame.voxel_id)\n",
      "(632, 5)\n",
      "0.14863276481628418 : df_frame_orig_subtracted = df_frame_orig[df_labels]\n",
      "(9672, 5)\n",
      "file_labels: voxelling_output/submission_files/vid_1_pred_lee/0000261_labels.csv\n",
      "0.08277750015258789 : df_labels.to_csv(pickles_path+\"df_labels__frame_%d__%s__voxel_size_%d.p\"%(frame_idx, vid, voxel_size))\n",
      "9672\n",
      "0.07579636573791504 : save_frame_for_movie(df_frame_orig_subtracted, \"tmp_only_labeled/\", all_files, frame_idx)\n"
     ]
    },
    {
     "name": "stderr",
     "output_type": "stream",
     "text": [
      "\r",
      " 28%|████████████████████████████████████████████                                                                                                                  | 247/885 [28:10<1:12:47,  6.85s/it]"
     ]
    },
    {
     "name": "stdout",
     "output_type": "stream",
     "text": [
      "=========================================================================\n",
      "frame_idx = 262\n",
      "=========================================================================\n",
      "0.0 : list_idx = get_list_idx_for_frame(frame_idx, n_frames_per_side, shift)\n",
      "7.071117639541626 : df_subtracted_frame = get_df_voxel_subtracted_frame(list_df_voxel_scene, frame_idx, n_frames_per_side, shift)\n",
      "1.211787223815918 : df_frame_orig['voxel_id'] =  df_frame_orig.apply(lambda x: point_to_voxel(x, voxel_size), axis=1)\n",
      "0.001993894577026367 : df_labels = df_frame_orig.voxel_id.isin(df_subtracted_frame.voxel_id)\n",
      "(735, 5)\n",
      "0.13466644287109375 : df_frame_orig_subtracted = df_frame_orig[df_labels]\n",
      "(9472, 5)\n",
      "file_labels: voxelling_output/submission_files/vid_1_pred_lee/0000262_labels.csv\n",
      "0.07874941825866699 : df_labels.to_csv(pickles_path+\"df_labels__frame_%d__%s__voxel_size_%d.p\"%(frame_idx, vid, voxel_size))\n",
      "9472\n",
      "0.07480525970458984 : save_frame_for_movie(df_frame_orig_subtracted, \"tmp_only_labeled/\", all_files, frame_idx)\n"
     ]
    },
    {
     "name": "stderr",
     "output_type": "stream",
     "text": [
      "\r",
      " 28%|████████████████████████████████████████████▎                                                                                                                 | 248/885 [28:19<1:12:45,  6.85s/it]"
     ]
    },
    {
     "name": "stdout",
     "output_type": "stream",
     "text": [
      "=========================================================================\n",
      "frame_idx = 263\n",
      "=========================================================================\n",
      "0.0 : list_idx = get_list_idx_for_frame(frame_idx, n_frames_per_side, shift)\n",
      "6.983326435089111 : df_subtracted_frame = get_df_voxel_subtracted_frame(list_df_voxel_scene, frame_idx, n_frames_per_side, shift)\n",
      "1.2486927509307861 : df_frame_orig['voxel_id'] =  df_frame_orig.apply(lambda x: point_to_voxel(x, voxel_size), axis=1)\n",
      "0.0009980201721191406 : df_labels = df_frame_orig.voxel_id.isin(df_subtracted_frame.voxel_id)\n",
      "(1059, 5)\n",
      "0.12967967987060547 : df_frame_orig_subtracted = df_frame_orig[df_labels]\n",
      "(8148, 5)\n",
      "file_labels: voxelling_output/submission_files/vid_1_pred_lee/0000263_labels.csv\n",
      "0.07976102828979492 : df_labels.to_csv(pickles_path+\"df_labels__frame_%d__%s__voxel_size_%d.p\"%(frame_idx, vid, voxel_size))\n",
      "8148\n",
      "0.0684206485748291 : save_frame_for_movie(df_frame_orig_subtracted, \"tmp_only_labeled/\", all_files, frame_idx)\n"
     ]
    },
    {
     "name": "stderr",
     "output_type": "stream",
     "text": [
      "\r",
      " 28%|████████████████████████████████████████████▍                                                                                                                 | 249/885 [28:27<1:12:42,  6.86s/it]"
     ]
    },
    {
     "name": "stdout",
     "output_type": "stream",
     "text": [
      "=========================================================================\n",
      "frame_idx = 264\n",
      "=========================================================================\n",
      "0.0 : list_idx = get_list_idx_for_frame(frame_idx, n_frames_per_side, shift)\n",
      "6.9872963428497314 : df_subtracted_frame = get_df_voxel_subtracted_frame(list_df_voxel_scene, frame_idx, n_frames_per_side, shift)\n",
      "1.2596304416656494 : df_frame_orig['voxel_id'] =  df_frame_orig.apply(lambda x: point_to_voxel(x, voxel_size), axis=1)\n",
      "0.0009984970092773438 : df_labels = df_frame_orig.voxel_id.isin(df_subtracted_frame.voxel_id)\n",
      "(1109, 5)\n",
      "0.14459490776062012 : df_frame_orig_subtracted = df_frame_orig[df_labels]\n",
      "(8615, 5)\n",
      "file_labels: voxelling_output/submission_files/vid_1_pred_lee/0000264_labels.csv\n",
      "0.08477282524108887 : df_labels.to_csv(pickles_path+\"df_labels__frame_%d__%s__voxel_size_%d.p\"%(frame_idx, vid, voxel_size))\n",
      "8615\n",
      "0.07579708099365234 : save_frame_for_movie(df_frame_orig_subtracted, \"tmp_only_labeled/\", all_files, frame_idx)\n"
     ]
    },
    {
     "name": "stderr",
     "output_type": "stream",
     "text": [
      "\r",
      " 28%|████████████████████████████████████████████▋                                                                                                                 | 250/885 [28:36<1:12:40,  6.87s/it]"
     ]
    },
    {
     "name": "stdout",
     "output_type": "stream",
     "text": [
      "=========================================================================\n",
      "frame_idx = 265\n",
      "=========================================================================\n",
      "0.0 : list_idx = get_list_idx_for_frame(frame_idx, n_frames_per_side, shift)\n",
      "6.884619474411011 : df_subtracted_frame = get_df_voxel_subtracted_frame(list_df_voxel_scene, frame_idx, n_frames_per_side, shift)\n",
      "1.2715857028961182 : df_frame_orig['voxel_id'] =  df_frame_orig.apply(lambda x: point_to_voxel(x, voxel_size), axis=1)\n",
      "0.0009984970092773438 : df_labels = df_frame_orig.voxel_id.isin(df_subtracted_frame.voxel_id)\n",
      "(1187, 5)\n",
      "0.1576097011566162 : df_frame_orig_subtracted = df_frame_orig[df_labels]\n",
      "(8674, 5)\n",
      "file_labels: voxelling_output/submission_files/vid_1_pred_lee/0000265_labels.csv\n",
      "0.07579684257507324 : df_labels.to_csv(pickles_path+\"df_labels__frame_%d__%s__voxel_size_%d.p\"%(frame_idx, vid, voxel_size))\n",
      "8674\n",
      "0.066802978515625 : save_frame_for_movie(df_frame_orig_subtracted, \"tmp_only_labeled/\", all_files, frame_idx)\n"
     ]
    },
    {
     "name": "stderr",
     "output_type": "stream",
     "text": [
      "\r",
      " 28%|████████████████████████████████████████████▊                                                                                                                 | 251/885 [28:45<1:12:37,  6.87s/it]"
     ]
    },
    {
     "name": "stdout",
     "output_type": "stream",
     "text": [
      "=========================================================================\n",
      "frame_idx = 266\n",
      "=========================================================================\n",
      "0.0 : list_idx = get_list_idx_for_frame(frame_idx, n_frames_per_side, shift)\n",
      "7.212677717208862 : df_subtracted_frame = get_df_voxel_subtracted_frame(list_df_voxel_scene, frame_idx, n_frames_per_side, shift)\n",
      "1.2247087955474854 : df_frame_orig['voxel_id'] =  df_frame_orig.apply(lambda x: point_to_voxel(x, voxel_size), axis=1)\n",
      "0.001995086669921875 : df_labels = df_frame_orig.voxel_id.isin(df_subtracted_frame.voxel_id)\n",
      "(1209, 5)\n",
      "0.1466362476348877 : df_frame_orig_subtracted = df_frame_orig[df_labels]\n",
      "(8676, 5)\n",
      "file_labels: voxelling_output/submission_files/vid_1_pred_lee/0000266_labels.csv\n",
      "0.07878923416137695 : df_labels.to_csv(pickles_path+\"df_labels__frame_%d__%s__voxel_size_%d.p\"%(frame_idx, vid, voxel_size))\n",
      "8676\n",
      "0.06880640983581543 : save_frame_for_movie(df_frame_orig_subtracted, \"tmp_only_labeled/\", all_files, frame_idx)\n"
     ]
    },
    {
     "name": "stderr",
     "output_type": "stream",
     "text": [
      "\r",
      " 28%|████████████████████████████████████████████▉                                                                                                                 | 252/885 [28:53<1:12:35,  6.88s/it]"
     ]
    },
    {
     "name": "stdout",
     "output_type": "stream",
     "text": [
      "=========================================================================\n",
      "frame_idx = 267\n",
      "=========================================================================\n",
      "0.0 : list_idx = get_list_idx_for_frame(frame_idx, n_frames_per_side, shift)\n",
      "7.248638153076172 : df_subtracted_frame = get_df_voxel_subtracted_frame(list_df_voxel_scene, frame_idx, n_frames_per_side, shift)\n",
      "1.2908368110656738 : df_frame_orig['voxel_id'] =  df_frame_orig.apply(lambda x: point_to_voxel(x, voxel_size), axis=1)\n",
      "0.0010044574737548828 : df_labels = df_frame_orig.voxel_id.isin(df_subtracted_frame.voxel_id)\n",
      "(1265, 5)\n",
      "0.14161992073059082 : df_frame_orig_subtracted = df_frame_orig[df_labels]\n",
      "(8661, 5)\n",
      "file_labels: voxelling_output/submission_files/vid_1_pred_lee/0000267_labels.csv\n",
      "0.07779145240783691 : df_labels.to_csv(pickles_path+\"df_labels__frame_%d__%s__voxel_size_%d.p\"%(frame_idx, vid, voxel_size))\n",
      "8661\n",
      "0.07679438591003418 : save_frame_for_movie(df_frame_orig_subtracted, \"tmp_only_labeled/\", all_files, frame_idx)\n"
     ]
    },
    {
     "name": "stderr",
     "output_type": "stream",
     "text": [
      "\r",
      " 29%|█████████████████████████████████████████████▏                                                                                                                | 253/885 [29:02<1:12:33,  6.89s/it]"
     ]
    },
    {
     "name": "stdout",
     "output_type": "stream",
     "text": [
      "=========================================================================\n",
      "frame_idx = 268\n",
      "=========================================================================\n",
      "0.0 : list_idx = get_list_idx_for_frame(frame_idx, n_frames_per_side, shift)\n",
      "7.145920276641846 : df_subtracted_frame = get_df_voxel_subtracted_frame(list_df_voxel_scene, frame_idx, n_frames_per_side, shift)\n",
      "1.1959450244903564 : df_frame_orig['voxel_id'] =  df_frame_orig.apply(lambda x: point_to_voxel(x, voxel_size), axis=1)\n",
      "0.000997781753540039 : df_labels = df_frame_orig.voxel_id.isin(df_subtracted_frame.voxel_id)\n",
      "(1383, 5)\n",
      "0.14962983131408691 : df_frame_orig_subtracted = df_frame_orig[df_labels]\n",
      "(8755, 5)\n",
      "file_labels: voxelling_output/submission_files/vid_1_pred_lee/0000268_labels.csv\n",
      "0.09478259086608887 : df_labels.to_csv(pickles_path+\"df_labels__frame_%d__%s__voxel_size_%d.p\"%(frame_idx, vid, voxel_size))\n",
      "8755\n",
      "0.07182979583740234 : save_frame_for_movie(df_frame_orig_subtracted, \"tmp_only_labeled/\", all_files, frame_idx)\n"
     ]
    },
    {
     "name": "stderr",
     "output_type": "stream",
     "text": [
      "\r",
      " 29%|█████████████████████████████████████████████▎                                                                                                                | 254/885 [29:11<1:12:30,  6.90s/it]"
     ]
    },
    {
     "name": "stdout",
     "output_type": "stream",
     "text": [
      "=========================================================================\n",
      "frame_idx = 269\n",
      "=========================================================================\n",
      "0.0 : list_idx = get_list_idx_for_frame(frame_idx, n_frames_per_side, shift)\n",
      "7.215958118438721 : df_subtracted_frame = get_df_voxel_subtracted_frame(list_df_voxel_scene, frame_idx, n_frames_per_side, shift)\n",
      "1.2287976741790771 : df_frame_orig['voxel_id'] =  df_frame_orig.apply(lambda x: point_to_voxel(x, voxel_size), axis=1)\n",
      "0.0019943714141845703 : df_labels = df_frame_orig.voxel_id.isin(df_subtracted_frame.voxel_id)\n",
      "(1501, 5)\n",
      "0.13666272163391113 : df_frame_orig_subtracted = df_frame_orig[df_labels]\n",
      "(8910, 5)\n",
      "file_labels: voxelling_output/submission_files/vid_1_pred_lee/0000269_labels.csv\n",
      "0.08177900314331055 : df_labels.to_csv(pickles_path+\"df_labels__frame_%d__%s__voxel_size_%d.p\"%(frame_idx, vid, voxel_size))\n",
      "8910\n",
      "0.07281160354614258 : save_frame_for_movie(df_frame_orig_subtracted, \"tmp_only_labeled/\", all_files, frame_idx)\n"
     ]
    },
    {
     "name": "stderr",
     "output_type": "stream",
     "text": [
      "\r",
      " 29%|█████████████████████████████████████████████▌                                                                                                                | 255/885 [29:20<1:12:28,  6.90s/it]"
     ]
    },
    {
     "name": "stdout",
     "output_type": "stream",
     "text": [
      "=========================================================================\n",
      "frame_idx = 270\n",
      "=========================================================================\n",
      "0.000997781753540039 : list_idx = get_list_idx_for_frame(frame_idx, n_frames_per_side, shift)\n",
      "7.017235040664673 : df_subtracted_frame = get_df_voxel_subtracted_frame(list_df_voxel_scene, frame_idx, n_frames_per_side, shift)\n",
      "1.146930456161499 : df_frame_orig['voxel_id'] =  df_frame_orig.apply(lambda x: point_to_voxel(x, voxel_size), axis=1)\n",
      "0.0009694099426269531 : df_labels = df_frame_orig.voxel_id.isin(df_subtracted_frame.voxel_id)\n",
      "(1566, 5)\n",
      "0.13474106788635254 : df_frame_orig_subtracted = df_frame_orig[df_labels]\n",
      "(8817, 5)\n",
      "file_labels: voxelling_output/submission_files/vid_1_pred_lee/0000270_labels.csv\n",
      "0.07679343223571777 : df_labels.to_csv(pickles_path+\"df_labels__frame_%d__%s__voxel_size_%d.p\"%(frame_idx, vid, voxel_size))\n",
      "8817\n",
      "0.06781744956970215 : save_frame_for_movie(df_frame_orig_subtracted, \"tmp_only_labeled/\", all_files, frame_idx)\n"
     ]
    },
    {
     "name": "stderr",
     "output_type": "stream",
     "text": [
      "\r",
      " 29%|█████████████████████████████████████████████▋                                                                                                                | 256/885 [29:28<1:12:25,  6.91s/it]"
     ]
    },
    {
     "name": "stdout",
     "output_type": "stream",
     "text": [
      "=========================================================================\n",
      "frame_idx = 271\n",
      "=========================================================================\n",
      "0.0 : list_idx = get_list_idx_for_frame(frame_idx, n_frames_per_side, shift)\n",
      "7.310128688812256 : df_subtracted_frame = get_df_voxel_subtracted_frame(list_df_voxel_scene, frame_idx, n_frames_per_side, shift)\n",
      "1.3264882564544678 : df_frame_orig['voxel_id'] =  df_frame_orig.apply(lambda x: point_to_voxel(x, voxel_size), axis=1)\n",
      "0.0019845962524414062 : df_labels = df_frame_orig.voxel_id.isin(df_subtracted_frame.voxel_id)\n",
      "(1616, 5)\n",
      "0.1466081142425537 : df_frame_orig_subtracted = df_frame_orig[df_labels]\n",
      "(8640, 5)\n",
      "file_labels: voxelling_output/submission_files/vid_1_pred_lee/0000271_labels.csv\n",
      "0.08676791191101074 : df_labels.to_csv(pickles_path+\"df_labels__frame_%d__%s__voxel_size_%d.p\"%(frame_idx, vid, voxel_size))\n",
      "8640\n",
      "0.0747988224029541 : save_frame_for_movie(df_frame_orig_subtracted, \"tmp_only_labeled/\", all_files, frame_idx)\n"
     ]
    },
    {
     "name": "stderr",
     "output_type": "stream",
     "text": [
      "\r",
      " 29%|█████████████████████████████████████████████▉                                                                                                                | 257/885 [29:37<1:12:23,  6.92s/it]"
     ]
    },
    {
     "name": "stdout",
     "output_type": "stream",
     "text": [
      "=========================================================================\n",
      "frame_idx = 272\n",
      "=========================================================================\n",
      "0.0 : list_idx = get_list_idx_for_frame(frame_idx, n_frames_per_side, shift)\n",
      "7.296124219894409 : df_subtracted_frame = get_df_voxel_subtracted_frame(list_df_voxel_scene, frame_idx, n_frames_per_side, shift)\n",
      "1.2556569576263428 : df_frame_orig['voxel_id'] =  df_frame_orig.apply(lambda x: point_to_voxel(x, voxel_size), axis=1)\n",
      "0.0019867420196533203 : df_labels = df_frame_orig.voxel_id.isin(df_subtracted_frame.voxel_id)\n",
      "(1593, 5)\n",
      "0.17253708839416504 : df_frame_orig_subtracted = df_frame_orig[df_labels]\n",
      "(8515, 5)\n",
      "file_labels: voxelling_output/submission_files/vid_1_pred_lee/0000272_labels.csv\n",
      "0.0897529125213623 : df_labels.to_csv(pickles_path+\"df_labels__frame_%d__%s__voxel_size_%d.p\"%(frame_idx, vid, voxel_size))\n",
      "8515\n",
      "0.07278585433959961 : save_frame_for_movie(df_frame_orig_subtracted, \"tmp_only_labeled/\", all_files, frame_idx)\n"
     ]
    },
    {
     "name": "stderr",
     "output_type": "stream",
     "text": [
      "\r",
      " 29%|██████████████████████████████████████████████                                                                                                                | 258/885 [29:46<1:12:21,  6.92s/it]"
     ]
    },
    {
     "name": "stdout",
     "output_type": "stream",
     "text": [
      "=========================================================================\n",
      "frame_idx = 273\n",
      "=========================================================================\n",
      "0.0 : list_idx = get_list_idx_for_frame(frame_idx, n_frames_per_side, shift)\n",
      "7.432121753692627 : df_subtracted_frame = get_df_voxel_subtracted_frame(list_df_voxel_scene, frame_idx, n_frames_per_side, shift)\n",
      "1.3115174770355225 : df_frame_orig['voxel_id'] =  df_frame_orig.apply(lambda x: point_to_voxel(x, voxel_size), axis=1)\n",
      "0.0019953250885009766 : df_labels = df_frame_orig.voxel_id.isin(df_subtracted_frame.voxel_id)\n",
      "(1546, 5)\n",
      "0.1436142921447754 : df_frame_orig_subtracted = df_frame_orig[df_labels]\n",
      "(8640, 5)\n",
      "file_labels: voxelling_output/submission_files/vid_1_pred_lee/0000273_labels.csv\n",
      "0.08277726173400879 : df_labels.to_csv(pickles_path+\"df_labels__frame_%d__%s__voxel_size_%d.p\"%(frame_idx, vid, voxel_size))\n",
      "8640\n",
      "0.06885433197021484 : save_frame_for_movie(df_frame_orig_subtracted, \"tmp_only_labeled/\", all_files, frame_idx)\n"
     ]
    },
    {
     "name": "stderr",
     "output_type": "stream",
     "text": [
      "\r",
      " 29%|██████████████████████████████████████████████▏                                                                                                               | 259/885 [29:55<1:12:19,  6.93s/it]"
     ]
    },
    {
     "name": "stdout",
     "output_type": "stream",
     "text": [
      "=========================================================================\n",
      "frame_idx = 274\n",
      "=========================================================================\n",
      "0.0 : list_idx = get_list_idx_for_frame(frame_idx, n_frames_per_side, shift)\n",
      "7.243141412734985 : df_subtracted_frame = get_df_voxel_subtracted_frame(list_df_voxel_scene, frame_idx, n_frames_per_side, shift)\n",
      "1.2357146739959717 : df_frame_orig['voxel_id'] =  df_frame_orig.apply(lambda x: point_to_voxel(x, voxel_size), axis=1)\n",
      "0.001992940902709961 : df_labels = df_frame_orig.voxel_id.isin(df_subtracted_frame.voxel_id)\n",
      "(1603, 5)\n",
      "0.13962578773498535 : df_frame_orig_subtracted = df_frame_orig[df_labels]\n",
      "(8409, 5)\n",
      "file_labels: voxelling_output/submission_files/vid_1_pred_lee/0000274_labels.csv\n",
      "0.08178043365478516 : df_labels.to_csv(pickles_path+\"df_labels__frame_%d__%s__voxel_size_%d.p\"%(frame_idx, vid, voxel_size))\n",
      "8409\n",
      "0.06682229042053223 : save_frame_for_movie(df_frame_orig_subtracted, \"tmp_only_labeled/\", all_files, frame_idx)\n"
     ]
    },
    {
     "name": "stderr",
     "output_type": "stream",
     "text": [
      "\r",
      " 29%|██████████████████████████████████████████████▍                                                                                                               | 260/885 [30:04<1:12:17,  6.94s/it]"
     ]
    },
    {
     "name": "stdout",
     "output_type": "stream",
     "text": [
      "=========================================================================\n",
      "frame_idx = 275\n",
      "=========================================================================\n",
      "0.0 : list_idx = get_list_idx_for_frame(frame_idx, n_frames_per_side, shift)\n",
      "6.972668409347534 : df_subtracted_frame = get_df_voxel_subtracted_frame(list_df_voxel_scene, frame_idx, n_frames_per_side, shift)\n",
      "1.2117598056793213 : df_frame_orig['voxel_id'] =  df_frame_orig.apply(lambda x: point_to_voxel(x, voxel_size), axis=1)\n",
      "0.0029990673065185547 : df_labels = df_frame_orig.voxel_id.isin(df_subtracted_frame.voxel_id)\n",
      "(1602, 5)\n",
      "0.1755073070526123 : df_frame_orig_subtracted = df_frame_orig[df_labels]\n",
      "(8454, 5)\n",
      "file_labels: voxelling_output/submission_files/vid_1_pred_lee/0000275_labels.csv\n",
      "0.08975744247436523 : df_labels.to_csv(pickles_path+\"df_labels__frame_%d__%s__voxel_size_%d.p\"%(frame_idx, vid, voxel_size))\n",
      "8454\n",
      "0.07280325889587402 : save_frame_for_movie(df_frame_orig_subtracted, \"tmp_only_labeled/\", all_files, frame_idx)\n"
     ]
    },
    {
     "name": "stderr",
     "output_type": "stream",
     "text": [
      "\r",
      " 29%|██████████████████████████████████████████████▌                                                                                                               | 261/885 [30:12<1:12:14,  6.95s/it]"
     ]
    },
    {
     "name": "stdout",
     "output_type": "stream",
     "text": [
      "=========================================================================\n",
      "frame_idx = 276\n",
      "=========================================================================\n",
      "0.0 : list_idx = get_list_idx_for_frame(frame_idx, n_frames_per_side, shift)\n",
      "7.331401824951172 : df_subtracted_frame = get_df_voxel_subtracted_frame(list_df_voxel_scene, frame_idx, n_frames_per_side, shift)\n",
      "1.2356953620910645 : df_frame_orig['voxel_id'] =  df_frame_orig.apply(lambda x: point_to_voxel(x, voxel_size), axis=1)\n",
      "0.0009949207305908203 : df_labels = df_frame_orig.voxel_id.isin(df_subtracted_frame.voxel_id)\n",
      "(1547, 5)\n",
      "0.12769579887390137 : df_frame_orig_subtracted = df_frame_orig[df_labels]\n",
      "(8628, 5)\n",
      "file_labels: voxelling_output/submission_files/vid_1_pred_lee/0000276_labels.csv\n",
      "0.08876490592956543 : df_labels.to_csv(pickles_path+\"df_labels__frame_%d__%s__voxel_size_%d.p\"%(frame_idx, vid, voxel_size))\n",
      "8628\n",
      "0.06682085990905762 : save_frame_for_movie(df_frame_orig_subtracted, \"tmp_only_labeled/\", all_files, frame_idx)\n"
     ]
    },
    {
     "name": "stderr",
     "output_type": "stream",
     "text": [
      "\r",
      " 30%|██████████████████████████████████████████████▊                                                                                                               | 262/885 [30:21<1:12:11,  6.95s/it]"
     ]
    },
    {
     "name": "stdout",
     "output_type": "stream",
     "text": [
      "=========================================================================\n",
      "frame_idx = 277\n",
      "=========================================================================\n",
      "0.0 : list_idx = get_list_idx_for_frame(frame_idx, n_frames_per_side, shift)\n",
      "7.346349239349365 : df_subtracted_frame = get_df_voxel_subtracted_frame(list_df_voxel_scene, frame_idx, n_frames_per_side, shift)\n",
      "1.3583667278289795 : df_frame_orig['voxel_id'] =  df_frame_orig.apply(lambda x: point_to_voxel(x, voxel_size), axis=1)\n",
      "0.0019953250885009766 : df_labels = df_frame_orig.voxel_id.isin(df_subtracted_frame.voxel_id)\n",
      "(1533, 5)\n",
      "0.14365291595458984 : df_frame_orig_subtracted = df_frame_orig[df_labels]\n",
      "(8669, 5)\n",
      "file_labels: voxelling_output/submission_files/vid_1_pred_lee/0000277_labels.csv\n",
      "0.0827784538269043 : df_labels.to_csv(pickles_path+\"df_labels__frame_%d__%s__voxel_size_%d.p\"%(frame_idx, vid, voxel_size))\n",
      "8669\n",
      "0.06781888008117676 : save_frame_for_movie(df_frame_orig_subtracted, \"tmp_only_labeled/\", all_files, frame_idx)\n"
     ]
    },
    {
     "name": "stderr",
     "output_type": "stream",
     "text": [
      "\r",
      " 30%|██████████████████████████████████████████████▉                                                                                                               | 263/885 [30:30<1:12:09,  6.96s/it]"
     ]
    },
    {
     "name": "stdout",
     "output_type": "stream",
     "text": [
      "=========================================================================\n",
      "frame_idx = 278\n",
      "=========================================================================\n",
      "0.0 : list_idx = get_list_idx_for_frame(frame_idx, n_frames_per_side, shift)\n",
      "7.7143683433532715 : df_subtracted_frame = get_df_voxel_subtracted_frame(list_df_voxel_scene, frame_idx, n_frames_per_side, shift)\n",
      "1.3224623203277588 : df_frame_orig['voxel_id'] =  df_frame_orig.apply(lambda x: point_to_voxel(x, voxel_size), axis=1)\n",
      "0.0019948482513427734 : df_labels = df_frame_orig.voxel_id.isin(df_subtracted_frame.voxel_id)\n",
      "(1513, 5)\n",
      "0.14462947845458984 : df_frame_orig_subtracted = df_frame_orig[df_labels]\n",
      "(9008, 5)\n",
      "file_labels: voxelling_output/submission_files/vid_1_pred_lee/0000278_labels.csv\n",
      "0.08377647399902344 : df_labels.to_csv(pickles_path+\"df_labels__frame_%d__%s__voxel_size_%d.p\"%(frame_idx, vid, voxel_size))\n",
      "9008\n",
      "0.07379555702209473 : save_frame_for_movie(df_frame_orig_subtracted, \"tmp_only_labeled/\", all_files, frame_idx)\n"
     ]
    },
    {
     "name": "stderr",
     "output_type": "stream",
     "text": [
      "\r",
      " 30%|███████████████████████████████████████████████▏                                                                                                              | 264/885 [30:40<1:12:08,  6.97s/it]"
     ]
    },
    {
     "name": "stdout",
     "output_type": "stream",
     "text": [
      "=========================================================================\n",
      "frame_idx = 279\n",
      "=========================================================================\n",
      "0.0 : list_idx = get_list_idx_for_frame(frame_idx, n_frames_per_side, shift)\n",
      "7.5946831703186035 : df_subtracted_frame = get_df_voxel_subtracted_frame(list_df_voxel_scene, frame_idx, n_frames_per_side, shift)\n",
      "1.4032478332519531 : df_frame_orig['voxel_id'] =  df_frame_orig.apply(lambda x: point_to_voxel(x, voxel_size), axis=1)\n",
      "0.001992940902709961 : df_labels = df_frame_orig.voxel_id.isin(df_subtracted_frame.voxel_id)\n",
      "(1591, 5)\n",
      "0.15362119674682617 : df_frame_orig_subtracted = df_frame_orig[df_labels]\n",
      "(8815, 5)\n",
      "file_labels: voxelling_output/submission_files/vid_1_pred_lee/0000279_labels.csv\n",
      "0.08477306365966797 : df_labels.to_csv(pickles_path+\"df_labels__frame_%d__%s__voxel_size_%d.p\"%(frame_idx, vid, voxel_size))\n",
      "8815\n",
      "0.08181333541870117 : save_frame_for_movie(df_frame_orig_subtracted, \"tmp_only_labeled/\", all_files, frame_idx)\n"
     ]
    },
    {
     "name": "stderr",
     "output_type": "stream",
     "text": [
      "\r",
      " 30%|███████████████████████████████████████████████▎                                                                                                              | 265/885 [30:49<1:12:07,  6.98s/it]"
     ]
    },
    {
     "name": "stdout",
     "output_type": "stream",
     "text": [
      "=========================================================================\n",
      "frame_idx = 280\n",
      "=========================================================================\n",
      "0.0 : list_idx = get_list_idx_for_frame(frame_idx, n_frames_per_side, shift)\n",
      "7.449077606201172 : df_subtracted_frame = get_df_voxel_subtracted_frame(list_df_voxel_scene, frame_idx, n_frames_per_side, shift)\n",
      "1.2696025371551514 : df_frame_orig['voxel_id'] =  df_frame_orig.apply(lambda x: point_to_voxel(x, voxel_size), axis=1)\n",
      "0.0009968280792236328 : df_labels = df_frame_orig.voxel_id.isin(df_subtracted_frame.voxel_id)\n",
      "(1550, 5)\n",
      "0.1516251564025879 : df_frame_orig_subtracted = df_frame_orig[df_labels]\n",
      "(8639, 5)\n",
      "file_labels: voxelling_output/submission_files/vid_1_pred_lee/0000280_labels.csv\n",
      "0.0937490463256836 : df_labels.to_csv(pickles_path+\"df_labels__frame_%d__%s__voxel_size_%d.p\"%(frame_idx, vid, voxel_size))\n",
      "8639\n",
      "0.0797886848449707 : save_frame_for_movie(df_frame_orig_subtracted, \"tmp_only_labeled/\", all_files, frame_idx)\n"
     ]
    },
    {
     "name": "stderr",
     "output_type": "stream",
     "text": [
      "\r",
      " 30%|███████████████████████████████████████████████▍                                                                                                              | 266/885 [30:58<1:12:04,  6.99s/it]"
     ]
    },
    {
     "name": "stdout",
     "output_type": "stream",
     "text": [
      "=========================================================================\n",
      "frame_idx = 281\n",
      "=========================================================================\n",
      "0.0 : list_idx = get_list_idx_for_frame(frame_idx, n_frames_per_side, shift)\n",
      "7.770216464996338 : df_subtracted_frame = get_df_voxel_subtracted_frame(list_df_voxel_scene, frame_idx, n_frames_per_side, shift)\n",
      "1.2167832851409912 : df_frame_orig['voxel_id'] =  df_frame_orig.apply(lambda x: point_to_voxel(x, voxel_size), axis=1)\n",
      "0.0020012855529785156 : df_labels = df_frame_orig.voxel_id.isin(df_subtracted_frame.voxel_id)\n",
      "(1611, 5)\n",
      "0.1645505428314209 : df_frame_orig_subtracted = df_frame_orig[df_labels]\n",
      "(8441, 5)\n",
      "file_labels: voxelling_output/submission_files/vid_1_pred_lee/0000281_labels.csv\n",
      "0.08876800537109375 : df_labels.to_csv(pickles_path+\"df_labels__frame_%d__%s__voxel_size_%d.p\"%(frame_idx, vid, voxel_size))\n",
      "8441\n",
      "0.06981158256530762 : save_frame_for_movie(df_frame_orig_subtracted, \"tmp_only_labeled/\", all_files, frame_idx)\n"
     ]
    },
    {
     "name": "stderr",
     "output_type": "stream",
     "text": [
      "\r",
      " 30%|███████████████████████████████████████████████▋                                                                                                              | 267/885 [31:07<1:12:03,  7.00s/it]"
     ]
    },
    {
     "name": "stdout",
     "output_type": "stream",
     "text": [
      "=========================================================================\n",
      "frame_idx = 282\n",
      "=========================================================================\n",
      "0.0 : list_idx = get_list_idx_for_frame(frame_idx, n_frames_per_side, shift)\n",
      "7.056448459625244 : df_subtracted_frame = get_df_voxel_subtracted_frame(list_df_voxel_scene, frame_idx, n_frames_per_side, shift)\n",
      "1.2865588665008545 : df_frame_orig['voxel_id'] =  df_frame_orig.apply(lambda x: point_to_voxel(x, voxel_size), axis=1)\n",
      "0.0019953250885009766 : df_labels = df_frame_orig.voxel_id.isin(df_subtracted_frame.voxel_id)\n",
      "(1615, 5)\n",
      "0.15658092498779297 : df_frame_orig_subtracted = df_frame_orig[df_labels]\n",
      "(8411, 5)\n",
      "file_labels: voxelling_output/submission_files/vid_1_pred_lee/0000282_labels.csv\n",
      "0.0847623348236084 : df_labels.to_csv(pickles_path+\"df_labels__frame_%d__%s__voxel_size_%d.p\"%(frame_idx, vid, voxel_size))\n",
      "8411\n",
      "0.06981062889099121 : save_frame_for_movie(df_frame_orig_subtracted, \"tmp_only_labeled/\", all_files, frame_idx)\n"
     ]
    },
    {
     "name": "stderr",
     "output_type": "stream",
     "text": [
      "\r",
      " 30%|███████████████████████████████████████████████▊                                                                                                              | 268/885 [31:16<1:12:00,  7.00s/it]"
     ]
    },
    {
     "name": "stdout",
     "output_type": "stream",
     "text": [
      "=========================================================================\n",
      "frame_idx = 283\n",
      "=========================================================================\n",
      "0.0 : list_idx = get_list_idx_for_frame(frame_idx, n_frames_per_side, shift)\n",
      "6.955462217330933 : df_subtracted_frame = get_df_voxel_subtracted_frame(list_df_voxel_scene, frame_idx, n_frames_per_side, shift)\n",
      "1.269643783569336 : df_frame_orig['voxel_id'] =  df_frame_orig.apply(lambda x: point_to_voxel(x, voxel_size), axis=1)\n",
      "0.0019490718841552734 : df_labels = df_frame_orig.voxel_id.isin(df_subtracted_frame.voxel_id)\n",
      "(1704, 5)\n",
      "0.13666439056396484 : df_frame_orig_subtracted = df_frame_orig[df_labels]\n",
      "(8351, 5)\n",
      "file_labels: voxelling_output/submission_files/vid_1_pred_lee/0000283_labels.csv\n",
      "0.07779192924499512 : df_labels.to_csv(pickles_path+\"df_labels__frame_%d__%s__voxel_size_%d.p\"%(frame_idx, vid, voxel_size))\n",
      "8351\n",
      "0.061835527420043945 : save_frame_for_movie(df_frame_orig_subtracted, \"tmp_only_labeled/\", all_files, frame_idx)\n"
     ]
    },
    {
     "name": "stderr",
     "output_type": "stream",
     "text": [
      "\r",
      " 30%|████████████████████████████████████████████████                                                                                                              | 269/885 [31:25<1:11:56,  7.01s/it]"
     ]
    },
    {
     "name": "stdout",
     "output_type": "stream",
     "text": [
      "=========================================================================\n",
      "frame_idx = 284\n",
      "=========================================================================\n",
      "0.0 : list_idx = get_list_idx_for_frame(frame_idx, n_frames_per_side, shift)\n",
      "7.021231651306152 : df_subtracted_frame = get_df_voxel_subtracted_frame(list_df_voxel_scene, frame_idx, n_frames_per_side, shift)\n",
      "1.2348437309265137 : df_frame_orig['voxel_id'] =  df_frame_orig.apply(lambda x: point_to_voxel(x, voxel_size), axis=1)\n",
      "0.0019953250885009766 : df_labels = df_frame_orig.voxel_id.isin(df_subtracted_frame.voxel_id)\n",
      "(1852, 5)\n",
      "0.14265751838684082 : df_frame_orig_subtracted = df_frame_orig[df_labels]\n",
      "(8342, 5)\n",
      "file_labels: voxelling_output/submission_files/vid_1_pred_lee/0000284_labels.csv\n",
      "0.0827791690826416 : df_labels.to_csv(pickles_path+\"df_labels__frame_%d__%s__voxel_size_%d.p\"%(frame_idx, vid, voxel_size))\n",
      "8342\n",
      "0.06919145584106445 : save_frame_for_movie(df_frame_orig_subtracted, \"tmp_only_labeled/\", all_files, frame_idx)\n"
     ]
    },
    {
     "name": "stderr",
     "output_type": "stream",
     "text": [
      "\r",
      " 31%|████████████████████████████████████████████████▏                                                                                                             | 270/885 [31:33<1:11:53,  7.01s/it]"
     ]
    },
    {
     "name": "stdout",
     "output_type": "stream",
     "text": [
      "=========================================================================\n",
      "frame_idx = 285\n",
      "=========================================================================\n",
      "0.0 : list_idx = get_list_idx_for_frame(frame_idx, n_frames_per_side, shift)\n",
      "7.648542881011963 : df_subtracted_frame = get_df_voxel_subtracted_frame(list_df_voxel_scene, frame_idx, n_frames_per_side, shift)\n",
      "1.331437110900879 : df_frame_orig['voxel_id'] =  df_frame_orig.apply(lambda x: point_to_voxel(x, voxel_size), axis=1)\n",
      "0.001995086669921875 : df_labels = df_frame_orig.voxel_id.isin(df_subtracted_frame.voxel_id)\n",
      "(1901, 5)\n",
      "0.18151330947875977 : df_frame_orig_subtracted = df_frame_orig[df_labels]\n",
      "(8358, 5)\n",
      "file_labels: voxelling_output/submission_files/vid_1_pred_lee/0000285_labels.csv\n",
      "0.0857701301574707 : df_labels.to_csv(pickles_path+\"df_labels__frame_%d__%s__voxel_size_%d.p\"%(frame_idx, vid, voxel_size))\n",
      "8358\n",
      "0.07878923416137695 : save_frame_for_movie(df_frame_orig_subtracted, \"tmp_only_labeled/\", all_files, frame_idx)\n"
     ]
    },
    {
     "name": "stderr",
     "output_type": "stream",
     "text": [
      "\r",
      " 31%|████████████████████████████████████████████████▍                                                                                                             | 271/885 [31:43<1:11:51,  7.02s/it]"
     ]
    },
    {
     "name": "stdout",
     "output_type": "stream",
     "text": [
      "=========================================================================\n",
      "frame_idx = 286\n",
      "=========================================================================\n",
      "0.0 : list_idx = get_list_idx_for_frame(frame_idx, n_frames_per_side, shift)\n",
      "7.545847177505493 : df_subtracted_frame = get_df_voxel_subtracted_frame(list_df_voxel_scene, frame_idx, n_frames_per_side, shift)\n",
      "1.205772876739502 : df_frame_orig['voxel_id'] =  df_frame_orig.apply(lambda x: point_to_voxel(x, voxel_size), axis=1)\n",
      "0.001996278762817383 : df_labels = df_frame_orig.voxel_id.isin(df_subtracted_frame.voxel_id)\n",
      "(1998, 5)\n",
      "0.1386246681213379 : df_frame_orig_subtracted = df_frame_orig[df_labels]\n",
      "(8473, 5)\n",
      "file_labels: voxelling_output/submission_files/vid_1_pred_lee/0000286_labels.csv\n",
      "0.0857701301574707 : df_labels.to_csv(pickles_path+\"df_labels__frame_%d__%s__voxel_size_%d.p\"%(frame_idx, vid, voxel_size))\n",
      "8473\n",
      "0.06881475448608398 : save_frame_for_movie(df_frame_orig_subtracted, \"tmp_only_labeled/\", all_files, frame_idx)\n"
     ]
    },
    {
     "name": "stderr",
     "output_type": "stream",
     "text": [
      "\r",
      " 31%|████████████████████████████████████████████████▌                                                                                                             | 272/885 [31:52<1:11:49,  7.03s/it]"
     ]
    },
    {
     "name": "stdout",
     "output_type": "stream",
     "text": [
      "=========================================================================\n",
      "frame_idx = 287\n",
      "=========================================================================\n",
      "0.000997304916381836 : list_idx = get_list_idx_for_frame(frame_idx, n_frames_per_side, shift)\n",
      "6.945397615432739 : df_subtracted_frame = get_df_voxel_subtracted_frame(list_df_voxel_scene, frame_idx, n_frames_per_side, shift)\n",
      "1.19179105758667 : df_frame_orig['voxel_id'] =  df_frame_orig.apply(lambda x: point_to_voxel(x, voxel_size), axis=1)\n",
      "0.0019943714141845703 : df_labels = df_frame_orig.voxel_id.isin(df_subtracted_frame.voxel_id)\n",
      "(1996, 5)\n",
      "0.14265990257263184 : df_frame_orig_subtracted = df_frame_orig[df_labels]\n",
      "(8575, 5)\n",
      "file_labels: voxelling_output/submission_files/vid_1_pred_lee/0000287_labels.csv\n",
      "0.08377575874328613 : df_labels.to_csv(pickles_path+\"df_labels__frame_%d__%s__voxel_size_%d.p\"%(frame_idx, vid, voxel_size))\n",
      "8575\n",
      "0.06886100769042969 : save_frame_for_movie(df_frame_orig_subtracted, \"tmp_only_labeled/\", all_files, frame_idx)\n"
     ]
    },
    {
     "name": "stderr",
     "output_type": "stream",
     "text": [
      "\r",
      " 31%|████████████████████████████████████████████████▋                                                                                                             | 273/885 [32:00<1:11:45,  7.03s/it]"
     ]
    },
    {
     "name": "stdout",
     "output_type": "stream",
     "text": [
      "=========================================================================\n",
      "frame_idx = 288\n",
      "=========================================================================\n",
      "0.0 : list_idx = get_list_idx_for_frame(frame_idx, n_frames_per_side, shift)\n",
      "6.9512670040130615 : df_subtracted_frame = get_df_voxel_subtracted_frame(list_df_voxel_scene, frame_idx, n_frames_per_side, shift)\n",
      "1.2606284618377686 : df_frame_orig['voxel_id'] =  df_frame_orig.apply(lambda x: point_to_voxel(x, voxel_size), axis=1)\n",
      "0.0009899139404296875 : df_labels = df_frame_orig.voxel_id.isin(df_subtracted_frame.voxel_id)\n",
      "(1997, 5)\n",
      "0.15861177444458008 : df_frame_orig_subtracted = df_frame_orig[df_labels]\n",
      "(8798, 5)\n",
      "file_labels: voxelling_output/submission_files/vid_1_pred_lee/0000288_labels.csv\n",
      "0.08377337455749512 : df_labels.to_csv(pickles_path+\"df_labels__frame_%d__%s__voxel_size_%d.p\"%(frame_idx, vid, voxel_size))\n",
      "8798\n",
      "0.0718076229095459 : save_frame_for_movie(df_frame_orig_subtracted, \"tmp_only_labeled/\", all_files, frame_idx)\n"
     ]
    },
    {
     "name": "stderr",
     "output_type": "stream",
     "text": [
      "\r",
      " 31%|████████████████████████████████████████████████▉                                                                                                             | 274/885 [32:09<1:11:41,  7.04s/it]"
     ]
    },
    {
     "name": "stdout",
     "output_type": "stream",
     "text": [
      "=========================================================================\n",
      "frame_idx = 289\n",
      "=========================================================================\n",
      "0.0 : list_idx = get_list_idx_for_frame(frame_idx, n_frames_per_side, shift)\n",
      "6.972338914871216 : df_subtracted_frame = get_df_voxel_subtracted_frame(list_df_voxel_scene, frame_idx, n_frames_per_side, shift)\n",
      "1.1938064098358154 : df_frame_orig['voxel_id'] =  df_frame_orig.apply(lambda x: point_to_voxel(x, voxel_size), axis=1)\n",
      "0.0019931793212890625 : df_labels = df_frame_orig.voxel_id.isin(df_subtracted_frame.voxel_id)\n",
      "(2076, 5)\n",
      "0.2543058395385742 : df_frame_orig_subtracted = df_frame_orig[df_labels]\n",
      "(9103, 5)\n",
      "file_labels: voxelling_output/submission_files/vid_1_pred_lee/0000289_labels.csv\n",
      "0.18567204475402832 : df_labels.to_csv(pickles_path+\"df_labels__frame_%d__%s__voxel_size_%d.p\"%(frame_idx, vid, voxel_size))\n",
      "9103\n",
      "0.10175418853759766 : save_frame_for_movie(df_frame_orig_subtracted, \"tmp_only_labeled/\", all_files, frame_idx)\n"
     ]
    },
    {
     "name": "stderr",
     "output_type": "stream",
     "text": [
      "\r",
      " 31%|█████████████████████████████████████████████████                                                                                                             | 275/885 [32:17<1:11:38,  7.05s/it]"
     ]
    },
    {
     "name": "stdout",
     "output_type": "stream",
     "text": [
      "=========================================================================\n",
      "frame_idx = 290\n",
      "=========================================================================\n",
      "0.0010166168212890625 : list_idx = get_list_idx_for_frame(frame_idx, n_frames_per_side, shift)\n",
      "7.196750640869141 : df_subtracted_frame = get_df_voxel_subtracted_frame(list_df_voxel_scene, frame_idx, n_frames_per_side, shift)\n",
      "1.32448410987854 : df_frame_orig['voxel_id'] =  df_frame_orig.apply(lambda x: point_to_voxel(x, voxel_size), axis=1)\n",
      "0.0010066032409667969 : df_labels = df_frame_orig.voxel_id.isin(df_subtracted_frame.voxel_id)\n",
      "(2093, 5)\n",
      "0.13766217231750488 : df_frame_orig_subtracted = df_frame_orig[df_labels]\n",
      "(9684, 5)\n",
      "file_labels: voxelling_output/submission_files/vid_1_pred_lee/0000290_labels.csv\n",
      "0.09275245666503906 : df_labels.to_csv(pickles_path+\"df_labels__frame_%d__%s__voxel_size_%d.p\"%(frame_idx, vid, voxel_size))\n",
      "9684\n",
      "0.10172677040100098 : save_frame_for_movie(df_frame_orig_subtracted, \"tmp_only_labeled/\", all_files, frame_idx)\n"
     ]
    },
    {
     "name": "stderr",
     "output_type": "stream",
     "text": [
      "\r",
      " 31%|█████████████████████████████████████████████████▎                                                                                                            | 276/885 [32:26<1:11:35,  7.05s/it]"
     ]
    },
    {
     "name": "stdout",
     "output_type": "stream",
     "text": [
      "=========================================================================\n",
      "frame_idx = 291\n",
      "=========================================================================\n",
      "0.0 : list_idx = get_list_idx_for_frame(frame_idx, n_frames_per_side, shift)\n",
      "7.176830530166626 : df_subtracted_frame = get_df_voxel_subtracted_frame(list_df_voxel_scene, frame_idx, n_frames_per_side, shift)\n",
      "1.2745838165283203 : df_frame_orig['voxel_id'] =  df_frame_orig.apply(lambda x: point_to_voxel(x, voxel_size), axis=1)\n",
      "0.0009968280792236328 : df_labels = df_frame_orig.voxel_id.isin(df_subtracted_frame.voxel_id)\n",
      "(1967, 5)\n",
      "0.1495985984802246 : df_frame_orig_subtracted = df_frame_orig[df_labels]\n",
      "(10300, 5)\n",
      "file_labels: voxelling_output/submission_files/vid_1_pred_lee/0000291_labels.csv\n",
      "0.08578038215637207 : df_labels.to_csv(pickles_path+\"df_labels__frame_%d__%s__voxel_size_%d.p\"%(frame_idx, vid, voxel_size))\n",
      "10300\n",
      "0.07978630065917969 : save_frame_for_movie(df_frame_orig_subtracted, \"tmp_only_labeled/\", all_files, frame_idx)\n"
     ]
    },
    {
     "name": "stderr",
     "output_type": "stream",
     "text": [
      "\r",
      " 31%|█████████████████████████████████████████████████▍                                                                                                            | 277/885 [32:35<1:11:32,  7.06s/it]"
     ]
    },
    {
     "name": "stdout",
     "output_type": "stream",
     "text": [
      "=========================================================================\n",
      "frame_idx = 292\n",
      "=========================================================================\n",
      "0.0010151863098144531 : list_idx = get_list_idx_for_frame(frame_idx, n_frames_per_side, shift)\n",
      "7.062096118927002 : df_subtracted_frame = get_df_voxel_subtracted_frame(list_df_voxel_scene, frame_idx, n_frames_per_side, shift)\n",
      "1.251692771911621 : df_frame_orig['voxel_id'] =  df_frame_orig.apply(lambda x: point_to_voxel(x, voxel_size), axis=1)\n",
      "0.0019948482513427734 : df_labels = df_frame_orig.voxel_id.isin(df_subtracted_frame.voxel_id)\n",
      "(2035, 5)\n",
      "0.13765859603881836 : df_frame_orig_subtracted = df_frame_orig[df_labels]\n",
      "(10710, 5)\n",
      "file_labels: voxelling_output/submission_files/vid_1_pred_lee/0000292_labels.csv\n",
      "0.0797731876373291 : df_labels.to_csv(pickles_path+\"df_labels__frame_%d__%s__voxel_size_%d.p\"%(frame_idx, vid, voxel_size))\n",
      "10710\n",
      "0.08081507682800293 : save_frame_for_movie(df_frame_orig_subtracted, \"tmp_only_labeled/\", all_files, frame_idx)\n"
     ]
    },
    {
     "name": "stderr",
     "output_type": "stream",
     "text": [
      "\r",
      " 31%|█████████████████████████████████████████████████▋                                                                                                            | 278/885 [32:44<1:11:28,  7.07s/it]"
     ]
    },
    {
     "name": "stdout",
     "output_type": "stream",
     "text": [
      "=========================================================================\n",
      "frame_idx = 293\n",
      "=========================================================================\n",
      "0.0 : list_idx = get_list_idx_for_frame(frame_idx, n_frames_per_side, shift)\n",
      "6.99828577041626 : df_subtracted_frame = get_df_voxel_subtracted_frame(list_df_voxel_scene, frame_idx, n_frames_per_side, shift)\n",
      "1.2566406726837158 : df_frame_orig['voxel_id'] =  df_frame_orig.apply(lambda x: point_to_voxel(x, voxel_size), axis=1)\n",
      "0.0009980201721191406 : df_labels = df_frame_orig.voxel_id.isin(df_subtracted_frame.voxel_id)\n",
      "(1821, 5)\n",
      "0.13866138458251953 : df_frame_orig_subtracted = df_frame_orig[df_labels]\n",
      "(10978, 5)\n",
      "file_labels: voxelling_output/submission_files/vid_1_pred_lee/0000293_labels.csv\n",
      "0.07979369163513184 : df_labels.to_csv(pickles_path+\"df_labels__frame_%d__%s__voxel_size_%d.p\"%(frame_idx, vid, voxel_size))\n",
      "10978\n",
      "0.09179353713989258 : save_frame_for_movie(df_frame_orig_subtracted, \"tmp_only_labeled/\", all_files, frame_idx)\n"
     ]
    },
    {
     "name": "stderr",
     "output_type": "stream",
     "text": [
      "\r",
      " 32%|█████████████████████████████████████████████████▊                                                                                                            | 279/885 [32:52<1:11:24,  7.07s/it]"
     ]
    },
    {
     "name": "stdout",
     "output_type": "stream",
     "text": [
      "=========================================================================\n",
      "frame_idx = 294\n",
      "=========================================================================\n",
      "0.0 : list_idx = get_list_idx_for_frame(frame_idx, n_frames_per_side, shift)\n",
      "7.149914026260376 : df_subtracted_frame = get_df_voxel_subtracted_frame(list_df_voxel_scene, frame_idx, n_frames_per_side, shift)\n",
      "1.2935397624969482 : df_frame_orig['voxel_id'] =  df_frame_orig.apply(lambda x: point_to_voxel(x, voxel_size), axis=1)\n",
      "0.001983165740966797 : df_labels = df_frame_orig.voxel_id.isin(df_subtracted_frame.voxel_id)\n",
      "(1931, 5)\n",
      "0.15358829498291016 : df_frame_orig_subtracted = df_frame_orig[df_labels]\n",
      "(11307, 5)\n",
      "file_labels: voxelling_output/submission_files/vid_1_pred_lee/0000294_labels.csv\n",
      "0.09476780891418457 : df_labels.to_csv(pickles_path+\"df_labels__frame_%d__%s__voxel_size_%d.p\"%(frame_idx, vid, voxel_size))\n",
      "11307\n",
      "0.09175348281860352 : save_frame_for_movie(df_frame_orig_subtracted, \"tmp_only_labeled/\", all_files, frame_idx)\n"
     ]
    },
    {
     "name": "stderr",
     "output_type": "stream",
     "text": [
      "\r",
      " 32%|█████████████████████████████████████████████████▉                                                                                                            | 280/885 [33:01<1:11:21,  7.08s/it]"
     ]
    },
    {
     "name": "stdout",
     "output_type": "stream",
     "text": [
      "=========================================================================\n",
      "frame_idx = 295\n",
      "=========================================================================\n",
      "0.0 : list_idx = get_list_idx_for_frame(frame_idx, n_frames_per_side, shift)\n",
      "7.158853530883789 : df_subtracted_frame = get_df_voxel_subtracted_frame(list_df_voxel_scene, frame_idx, n_frames_per_side, shift)\n",
      "1.2666492462158203 : df_frame_orig['voxel_id'] =  df_frame_orig.apply(lambda x: point_to_voxel(x, voxel_size), axis=1)\n",
      "0.001994609832763672 : df_labels = df_frame_orig.voxel_id.isin(df_subtracted_frame.voxel_id)\n",
      "(1870, 5)\n",
      "0.14664363861083984 : df_frame_orig_subtracted = df_frame_orig[df_labels]\n",
      "(11451, 5)\n",
      "file_labels: voxelling_output/submission_files/vid_1_pred_lee/0000295_labels.csv\n",
      "0.07779145240783691 : df_labels.to_csv(pickles_path+\"df_labels__frame_%d__%s__voxel_size_%d.p\"%(frame_idx, vid, voxel_size))\n",
      "11451\n",
      "0.08382534980773926 : save_frame_for_movie(df_frame_orig_subtracted, \"tmp_only_labeled/\", all_files, frame_idx)\n"
     ]
    },
    {
     "name": "stderr",
     "output_type": "stream",
     "text": [
      "\r",
      " 32%|██████████████████████████████████████████████████▏                                                                                                           | 281/885 [33:10<1:11:18,  7.08s/it]"
     ]
    },
    {
     "name": "stdout",
     "output_type": "stream",
     "text": [
      "=========================================================================\n",
      "frame_idx = 296\n",
      "=========================================================================\n",
      "0.0 : list_idx = get_list_idx_for_frame(frame_idx, n_frames_per_side, shift)\n",
      "6.889709711074829 : df_subtracted_frame = get_df_voxel_subtracted_frame(list_df_voxel_scene, frame_idx, n_frames_per_side, shift)\n",
      "1.2406809329986572 : df_frame_orig['voxel_id'] =  df_frame_orig.apply(lambda x: point_to_voxel(x, voxel_size), axis=1)\n",
      "0.002003908157348633 : df_labels = df_frame_orig.voxel_id.isin(df_subtracted_frame.voxel_id)\n",
      "(1843, 5)\n",
      "0.13865876197814941 : df_frame_orig_subtracted = df_frame_orig[df_labels]\n",
      "(11072, 5)\n",
      "file_labels: voxelling_output/submission_files/vid_1_pred_lee/0000296_labels.csv\n",
      "0.07978630065917969 : df_labels.to_csv(pickles_path+\"df_labels__frame_%d__%s__voxel_size_%d.p\"%(frame_idx, vid, voxel_size))\n",
      "11072\n",
      "0.09476423263549805 : save_frame_for_movie(df_frame_orig_subtracted, \"tmp_only_labeled/\", all_files, frame_idx)\n"
     ]
    },
    {
     "name": "stderr",
     "output_type": "stream",
     "text": [
      "\r",
      " 32%|██████████████████████████████████████████████████▎                                                                                                           | 282/885 [33:18<1:11:13,  7.09s/it]"
     ]
    },
    {
     "name": "stdout",
     "output_type": "stream",
     "text": [
      "=========================================================================\n",
      "frame_idx = 297\n",
      "=========================================================================\n",
      "0.0 : list_idx = get_list_idx_for_frame(frame_idx, n_frames_per_side, shift)\n",
      "6.8397417068481445 : df_subtracted_frame = get_df_voxel_subtracted_frame(list_df_voxel_scene, frame_idx, n_frames_per_side, shift)\n",
      "1.271599292755127 : df_frame_orig['voxel_id'] =  df_frame_orig.apply(lambda x: point_to_voxel(x, voxel_size), axis=1)\n",
      "0.0009953975677490234 : df_labels = df_frame_orig.voxel_id.isin(df_subtracted_frame.voxel_id)\n",
      "(1945, 5)\n",
      "0.13366031646728516 : df_frame_orig_subtracted = df_frame_orig[df_labels]\n",
      "(10692, 5)\n",
      "file_labels: voxelling_output/submission_files/vid_1_pred_lee/0000297_labels.csv\n",
      "0.08078336715698242 : df_labels.to_csv(pickles_path+\"df_labels__frame_%d__%s__voxel_size_%d.p\"%(frame_idx, vid, voxel_size))\n",
      "10692\n",
      "0.08580875396728516 : save_frame_for_movie(df_frame_orig_subtracted, \"tmp_only_labeled/\", all_files, frame_idx)\n"
     ]
    },
    {
     "name": "stderr",
     "output_type": "stream",
     "text": [
      "\r",
      " 32%|██████████████████████████████████████████████████▌                                                                                                           | 283/885 [33:27<1:11:09,  7.09s/it]"
     ]
    },
    {
     "name": "stdout",
     "output_type": "stream",
     "text": [
      "=========================================================================\n",
      "frame_idx = 298\n",
      "=========================================================================\n",
      "0.0 : list_idx = get_list_idx_for_frame(frame_idx, n_frames_per_side, shift)\n",
      "6.9607298374176025 : df_subtracted_frame = get_df_voxel_subtracted_frame(list_df_voxel_scene, frame_idx, n_frames_per_side, shift)\n",
      "1.3655402660369873 : df_frame_orig['voxel_id'] =  df_frame_orig.apply(lambda x: point_to_voxel(x, voxel_size), axis=1)\n",
      "0.0019936561584472656 : df_labels = df_frame_orig.voxel_id.isin(df_subtracted_frame.voxel_id)\n",
      "(1990, 5)\n",
      "0.15356969833374023 : df_frame_orig_subtracted = df_frame_orig[df_labels]\n",
      "(10643, 5)\n",
      "file_labels: voxelling_output/submission_files/vid_1_pred_lee/0000298_labels.csv\n",
      "0.09486770629882812 : df_labels.to_csv(pickles_path+\"df_labels__frame_%d__%s__voxel_size_%d.p\"%(frame_idx, vid, voxel_size))\n",
      "10643\n",
      "0.08376240730285645 : save_frame_for_movie(df_frame_orig_subtracted, \"tmp_only_labeled/\", all_files, frame_idx)\n"
     ]
    },
    {
     "name": "stderr",
     "output_type": "stream",
     "text": [
      "\r",
      " 32%|██████████████████████████████████████████████████▋                                                                                                           | 284/885 [33:35<1:11:06,  7.10s/it]"
     ]
    },
    {
     "name": "stdout",
     "output_type": "stream",
     "text": [
      "=========================================================================\n",
      "frame_idx = 299\n",
      "=========================================================================\n",
      "0.0 : list_idx = get_list_idx_for_frame(frame_idx, n_frames_per_side, shift)\n",
      "7.152886390686035 : df_subtracted_frame = get_df_voxel_subtracted_frame(list_df_voxel_scene, frame_idx, n_frames_per_side, shift)\n",
      "1.2646558284759521 : df_frame_orig['voxel_id'] =  df_frame_orig.apply(lambda x: point_to_voxel(x, voxel_size), axis=1)\n",
      "0.001994609832763672 : df_labels = df_frame_orig.voxel_id.isin(df_subtracted_frame.voxel_id)\n",
      "(2015, 5)\n",
      "0.1349775791168213 : df_frame_orig_subtracted = df_frame_orig[df_labels]\n",
      "(10348, 5)\n",
      "file_labels: voxelling_output/submission_files/vid_1_pred_lee/0000299_labels.csv\n",
      "0.07878780364990234 : df_labels.to_csv(pickles_path+\"df_labels__frame_%d__%s__voxel_size_%d.p\"%(frame_idx, vid, voxel_size))\n",
      "10348\n",
      "0.07180047035217285 : save_frame_for_movie(df_frame_orig_subtracted, \"tmp_only_labeled/\", all_files, frame_idx)\n"
     ]
    },
    {
     "name": "stderr",
     "output_type": "stream",
     "text": [
      "\r",
      " 32%|██████████████████████████████████████████████████▉                                                                                                           | 285/885 [33:44<1:11:02,  7.10s/it]"
     ]
    },
    {
     "name": "stdout",
     "output_type": "stream",
     "text": [
      "=========================================================================\n",
      "frame_idx = 300\n",
      "=========================================================================\n",
      "0.0 : list_idx = get_list_idx_for_frame(frame_idx, n_frames_per_side, shift)\n",
      "7.165754795074463 : df_subtracted_frame = get_df_voxel_subtracted_frame(list_df_voxel_scene, frame_idx, n_frames_per_side, shift)\n",
      "1.24171781539917 : df_frame_orig['voxel_id'] =  df_frame_orig.apply(lambda x: point_to_voxel(x, voxel_size), axis=1)\n",
      "0.0009822845458984375 : df_labels = df_frame_orig.voxel_id.isin(df_subtracted_frame.voxel_id)\n",
      "(2165, 5)\n",
      "0.1326427459716797 : df_frame_orig_subtracted = df_frame_orig[df_labels]\n",
      "(9301, 5)\n",
      "file_labels: voxelling_output/submission_files/vid_1_pred_lee/0000300_labels.csv\n",
      "0.07977843284606934 : df_labels.to_csv(pickles_path+\"df_labels__frame_%d__%s__voxel_size_%d.p\"%(frame_idx, vid, voxel_size))\n",
      "9301\n",
      "0.06881046295166016 : save_frame_for_movie(df_frame_orig_subtracted, \"tmp_only_labeled/\", all_files, frame_idx)\n"
     ]
    },
    {
     "name": "stderr",
     "output_type": "stream",
     "text": [
      "\r",
      " 32%|███████████████████████████████████████████████████                                                                                                           | 286/885 [33:53<1:10:58,  7.11s/it]"
     ]
    },
    {
     "name": "stdout",
     "output_type": "stream",
     "text": [
      "=========================================================================\n",
      "frame_idx = 301\n",
      "=========================================================================\n",
      "0.0 : list_idx = get_list_idx_for_frame(frame_idx, n_frames_per_side, shift)\n",
      "7.106295585632324 : df_subtracted_frame = get_df_voxel_subtracted_frame(list_df_voxel_scene, frame_idx, n_frames_per_side, shift)\n",
      "1.2496962547302246 : df_frame_orig['voxel_id'] =  df_frame_orig.apply(lambda x: point_to_voxel(x, voxel_size), axis=1)\n",
      "0.001996278762817383 : df_labels = df_frame_orig.voxel_id.isin(df_subtracted_frame.voxel_id)\n",
      "(2103, 5)\n",
      "0.14165306091308594 : df_frame_orig_subtracted = df_frame_orig[df_labels]\n",
      "(8799, 5)\n",
      "file_labels: voxelling_output/submission_files/vid_1_pred_lee/0000301_labels.csv\n",
      "0.0827779769897461 : df_labels.to_csv(pickles_path+\"df_labels__frame_%d__%s__voxel_size_%d.p\"%(frame_idx, vid, voxel_size))\n",
      "8799\n",
      "0.07383036613464355 : save_frame_for_movie(df_frame_orig_subtracted, \"tmp_only_labeled/\", all_files, frame_idx)\n"
     ]
    },
    {
     "name": "stderr",
     "output_type": "stream",
     "text": [
      "\r",
      " 32%|███████████████████████████████████████████████████▏                                                                                                          | 287/885 [34:02<1:10:54,  7.12s/it]"
     ]
    },
    {
     "name": "stdout",
     "output_type": "stream",
     "text": [
      "=========================================================================\n",
      "frame_idx = 302\n",
      "=========================================================================\n",
      "0.0 : list_idx = get_list_idx_for_frame(frame_idx, n_frames_per_side, shift)\n",
      "7.1588544845581055 : df_subtracted_frame = get_df_voxel_subtracted_frame(list_df_voxel_scene, frame_idx, n_frames_per_side, shift)\n",
      "1.225015640258789 : df_frame_orig['voxel_id'] =  df_frame_orig.apply(lambda x: point_to_voxel(x, voxel_size), axis=1)\n",
      "0.000997781753540039 : df_labels = df_frame_orig.voxel_id.isin(df_subtracted_frame.voxel_id)\n",
      "(2207, 5)\n",
      "0.1370713710784912 : df_frame_orig_subtracted = df_frame_orig[df_labels]\n",
      "(8621, 5)\n",
      "file_labels: voxelling_output/submission_files/vid_1_pred_lee/0000302_labels.csv\n",
      "0.09275579452514648 : df_labels.to_csv(pickles_path+\"df_labels__frame_%d__%s__voxel_size_%d.p\"%(frame_idx, vid, voxel_size))\n",
      "8621\n",
      "0.07978343963623047 : save_frame_for_movie(df_frame_orig_subtracted, \"tmp_only_labeled/\", all_files, frame_idx)\n"
     ]
    },
    {
     "name": "stderr",
     "output_type": "stream",
     "text": [
      "\r",
      " 33%|███████████████████████████████████████████████████▍                                                                                                          | 288/885 [34:10<1:10:50,  7.12s/it]"
     ]
    },
    {
     "name": "stdout",
     "output_type": "stream",
     "text": [
      "=========================================================================\n",
      "frame_idx = 303\n",
      "=========================================================================\n",
      "0.0 : list_idx = get_list_idx_for_frame(frame_idx, n_frames_per_side, shift)\n",
      "7.057163238525391 : df_subtracted_frame = get_df_voxel_subtracted_frame(list_df_voxel_scene, frame_idx, n_frames_per_side, shift)\n",
      "1.2824389934539795 : df_frame_orig['voxel_id'] =  df_frame_orig.apply(lambda x: point_to_voxel(x, voxel_size), axis=1)\n",
      "0.0019915103912353516 : df_labels = df_frame_orig.voxel_id.isin(df_subtracted_frame.voxel_id)\n",
      "(2344, 5)\n",
      "0.13965964317321777 : df_frame_orig_subtracted = df_frame_orig[df_labels]\n",
      "(8589, 5)\n",
      "file_labels: voxelling_output/submission_files/vid_1_pred_lee/0000303_labels.csv\n",
      "0.07975363731384277 : df_labels.to_csv(pickles_path+\"df_labels__frame_%d__%s__voxel_size_%d.p\"%(frame_idx, vid, voxel_size))\n",
      "8589\n",
      "0.06482696533203125 : save_frame_for_movie(df_frame_orig_subtracted, \"tmp_only_labeled/\", all_files, frame_idx)\n"
     ]
    },
    {
     "name": "stderr",
     "output_type": "stream",
     "text": [
      "\r",
      " 33%|███████████████████████████████████████████████████▌                                                                                                          | 289/885 [34:19<1:10:47,  7.13s/it]"
     ]
    },
    {
     "name": "stdout",
     "output_type": "stream",
     "text": [
      "=========================================================================\n",
      "frame_idx = 304\n",
      "=========================================================================\n",
      "0.0 : list_idx = get_list_idx_for_frame(frame_idx, n_frames_per_side, shift)\n",
      "7.801497936248779 : df_subtracted_frame = get_df_voxel_subtracted_frame(list_df_voxel_scene, frame_idx, n_frames_per_side, shift)\n",
      "1.3573997020721436 : df_frame_orig['voxel_id'] =  df_frame_orig.apply(lambda x: point_to_voxel(x, voxel_size), axis=1)\n",
      "0.0019969940185546875 : df_labels = df_frame_orig.voxel_id.isin(df_subtracted_frame.voxel_id)\n",
      "(2333, 5)\n",
      "0.1616511344909668 : df_frame_orig_subtracted = df_frame_orig[df_labels]\n",
      "(8257, 5)\n",
      "file_labels: voxelling_output/submission_files/vid_1_pred_lee/0000304_labels.csv\n",
      "0.08777618408203125 : df_labels.to_csv(pickles_path+\"df_labels__frame_%d__%s__voxel_size_%d.p\"%(frame_idx, vid, voxel_size))\n",
      "8257\n",
      "0.06781792640686035 : save_frame_for_movie(df_frame_orig_subtracted, \"tmp_only_labeled/\", all_files, frame_idx)\n"
     ]
    },
    {
     "name": "stderr",
     "output_type": "stream",
     "text": [
      "\r",
      " 33%|███████████████████████████████████████████████████▊                                                                                                          | 290/885 [34:28<1:10:44,  7.13s/it]"
     ]
    },
    {
     "name": "stdout",
     "output_type": "stream",
     "text": [
      "=========================================================================\n",
      "frame_idx = 305\n",
      "=========================================================================\n",
      "0.0 : list_idx = get_list_idx_for_frame(frame_idx, n_frames_per_side, shift)\n",
      "7.18081521987915 : df_subtracted_frame = get_df_voxel_subtracted_frame(list_df_voxel_scene, frame_idx, n_frames_per_side, shift)\n",
      "1.2486705780029297 : df_frame_orig['voxel_id'] =  df_frame_orig.apply(lambda x: point_to_voxel(x, voxel_size), axis=1)\n",
      "0.001995086669921875 : df_labels = df_frame_orig.voxel_id.isin(df_subtracted_frame.voxel_id)\n",
      "(2449, 5)\n",
      "0.14062285423278809 : df_frame_orig_subtracted = df_frame_orig[df_labels]\n",
      "(8613, 5)\n",
      "file_labels: voxelling_output/submission_files/vid_1_pred_lee/0000305_labels.csv\n",
      "0.08677029609680176 : df_labels.to_csv(pickles_path+\"df_labels__frame_%d__%s__voxel_size_%d.p\"%(frame_idx, vid, voxel_size))\n",
      "8613\n",
      "0.07084417343139648 : save_frame_for_movie(df_frame_orig_subtracted, \"tmp_only_labeled/\", all_files, frame_idx)\n"
     ]
    },
    {
     "name": "stderr",
     "output_type": "stream",
     "text": [
      "\r",
      " 33%|███████████████████████████████████████████████████▉                                                                                                          | 291/885 [34:37<1:10:40,  7.14s/it]"
     ]
    },
    {
     "name": "stdout",
     "output_type": "stream",
     "text": [
      "=========================================================================\n",
      "frame_idx = 306\n",
      "=========================================================================\n",
      "0.0 : list_idx = get_list_idx_for_frame(frame_idx, n_frames_per_side, shift)\n",
      "7.765255689620972 : df_subtracted_frame = get_df_voxel_subtracted_frame(list_df_voxel_scene, frame_idx, n_frames_per_side, shift)\n",
      "1.3414106369018555 : df_frame_orig['voxel_id'] =  df_frame_orig.apply(lambda x: point_to_voxel(x, voxel_size), axis=1)\n",
      "0.0019941329956054688 : df_labels = df_frame_orig.voxel_id.isin(df_subtracted_frame.voxel_id)\n",
      "(2528, 5)\n",
      "0.1515944004058838 : df_frame_orig_subtracted = df_frame_orig[df_labels]\n",
      "(8770, 5)\n",
      "file_labels: voxelling_output/submission_files/vid_1_pred_lee/0000306_labels.csv\n",
      "0.08676695823669434 : df_labels.to_csv(pickles_path+\"df_labels__frame_%d__%s__voxel_size_%d.p\"%(frame_idx, vid, voxel_size))\n",
      "8770\n",
      "0.07080316543579102 : save_frame_for_movie(df_frame_orig_subtracted, \"tmp_only_labeled/\", all_files, frame_idx)\n"
     ]
    },
    {
     "name": "stderr",
     "output_type": "stream",
     "text": [
      "\r",
      " 33%|████████████████████████████████████████████████████▏                                                                                                         | 292/885 [34:47<1:10:38,  7.15s/it]"
     ]
    },
    {
     "name": "stdout",
     "output_type": "stream",
     "text": [
      "=========================================================================\n",
      "frame_idx = 307\n",
      "=========================================================================\n",
      "0.0 : list_idx = get_list_idx_for_frame(frame_idx, n_frames_per_side, shift)\n",
      "7.363303184509277 : df_subtracted_frame = get_df_voxel_subtracted_frame(list_df_voxel_scene, frame_idx, n_frames_per_side, shift)\n",
      "1.3823037147521973 : df_frame_orig['voxel_id'] =  df_frame_orig.apply(lambda x: point_to_voxel(x, voxel_size), axis=1)\n",
      "0.001993894577026367 : df_labels = df_frame_orig.voxel_id.isin(df_subtracted_frame.voxel_id)\n",
      "(2524, 5)\n",
      "0.16755104064941406 : df_frame_orig_subtracted = df_frame_orig[df_labels]\n",
      "(9042, 5)\n",
      "file_labels: voxelling_output/submission_files/vid_1_pred_lee/0000307_labels.csv\n",
      "0.10471916198730469 : df_labels.to_csv(pickles_path+\"df_labels__frame_%d__%s__voxel_size_%d.p\"%(frame_idx, vid, voxel_size))\n",
      "9042\n",
      "0.09374833106994629 : save_frame_for_movie(df_frame_orig_subtracted, \"tmp_only_labeled/\", all_files, frame_idx)\n"
     ]
    },
    {
     "name": "stderr",
     "output_type": "stream",
     "text": [
      "\r",
      " 33%|████████████████████████████████████████████████████▎                                                                                                         | 293/885 [34:56<1:10:35,  7.15s/it]"
     ]
    },
    {
     "name": "stdout",
     "output_type": "stream",
     "text": [
      "=========================================================================\n",
      "frame_idx = 308\n",
      "=========================================================================\n",
      "0.0 : list_idx = get_list_idx_for_frame(frame_idx, n_frames_per_side, shift)\n",
      "7.654545068740845 : df_subtracted_frame = get_df_voxel_subtracted_frame(list_df_voxel_scene, frame_idx, n_frames_per_side, shift)\n",
      "1.4351394176483154 : df_frame_orig['voxel_id'] =  df_frame_orig.apply(lambda x: point_to_voxel(x, voxel_size), axis=1)\n",
      "0.0019943714141845703 : df_labels = df_frame_orig.voxel_id.isin(df_subtracted_frame.voxel_id)\n",
      "(2578, 5)\n",
      "0.16054630279541016 : df_frame_orig_subtracted = df_frame_orig[df_labels]\n",
      "(9132, 5)\n",
      "file_labels: voxelling_output/submission_files/vid_1_pred_lee/0000308_labels.csv\n",
      "0.08880114555358887 : df_labels.to_csv(pickles_path+\"df_labels__frame_%d__%s__voxel_size_%d.p\"%(frame_idx, vid, voxel_size))\n",
      "9132\n",
      "0.07480001449584961 : save_frame_for_movie(df_frame_orig_subtracted, \"tmp_only_labeled/\", all_files, frame_idx)\n"
     ]
    },
    {
     "name": "stderr",
     "output_type": "stream",
     "text": [
      "\r",
      " 33%|████████████████████████████████████████████████████▍                                                                                                         | 294/885 [35:05<1:10:32,  7.16s/it]"
     ]
    },
    {
     "name": "stdout",
     "output_type": "stream",
     "text": [
      "=========================================================================\n",
      "frame_idx = 309\n",
      "=========================================================================\n",
      "0.0 : list_idx = get_list_idx_for_frame(frame_idx, n_frames_per_side, shift)\n",
      "7.727329254150391 : df_subtracted_frame = get_df_voxel_subtracted_frame(list_df_voxel_scene, frame_idx, n_frames_per_side, shift)\n",
      "1.2806127071380615 : df_frame_orig['voxel_id'] =  df_frame_orig.apply(lambda x: point_to_voxel(x, voxel_size), axis=1)\n",
      "0.001994609832763672 : df_labels = df_frame_orig.voxel_id.isin(df_subtracted_frame.voxel_id)\n",
      "(2638, 5)\n",
      "0.15163064002990723 : df_frame_orig_subtracted = df_frame_orig[df_labels]\n",
      "(9272, 5)\n",
      "file_labels: voxelling_output/submission_files/vid_1_pred_lee/0000309_labels.csv\n",
      "0.0818023681640625 : df_labels.to_csv(pickles_path+\"df_labels__frame_%d__%s__voxel_size_%d.p\"%(frame_idx, vid, voxel_size))\n",
      "9272\n",
      "0.07083868980407715 : save_frame_for_movie(df_frame_orig_subtracted, \"tmp_only_labeled/\", all_files, frame_idx)\n"
     ]
    },
    {
     "name": "stderr",
     "output_type": "stream",
     "text": [
      "\r",
      " 33%|████████████████████████████████████████████████████▋                                                                                                         | 295/885 [35:14<1:10:29,  7.17s/it]"
     ]
    },
    {
     "name": "stdout",
     "output_type": "stream",
     "text": [
      "=========================================================================\n",
      "frame_idx = 310\n",
      "=========================================================================\n",
      "0.0 : list_idx = get_list_idx_for_frame(frame_idx, n_frames_per_side, shift)\n",
      "7.382287263870239 : df_subtracted_frame = get_df_voxel_subtracted_frame(list_df_voxel_scene, frame_idx, n_frames_per_side, shift)\n",
      "1.370271921157837 : df_frame_orig['voxel_id'] =  df_frame_orig.apply(lambda x: point_to_voxel(x, voxel_size), axis=1)\n",
      "0.0010273456573486328 : df_labels = df_frame_orig.voxel_id.isin(df_subtracted_frame.voxel_id)\n",
      "(2712, 5)\n",
      "0.1403336524963379 : df_frame_orig_subtracted = df_frame_orig[df_labels]\n",
      "(9551, 5)\n",
      "file_labels: voxelling_output/submission_files/vid_1_pred_lee/0000310_labels.csv\n",
      "0.08279204368591309 : df_labels.to_csv(pickles_path+\"df_labels__frame_%d__%s__voxel_size_%d.p\"%(frame_idx, vid, voxel_size))\n",
      "9551\n",
      "0.07683229446411133 : save_frame_for_movie(df_frame_orig_subtracted, \"tmp_only_labeled/\", all_files, frame_idx)\n"
     ]
    },
    {
     "name": "stderr",
     "output_type": "stream",
     "text": [
      "\r",
      " 33%|████████████████████████████████████████████████████▊                                                                                                         | 296/885 [35:24<1:10:26,  7.18s/it]"
     ]
    },
    {
     "name": "stdout",
     "output_type": "stream",
     "text": [
      "=========================================================================\n",
      "frame_idx = 311\n",
      "=========================================================================\n",
      "0.0 : list_idx = get_list_idx_for_frame(frame_idx, n_frames_per_side, shift)\n",
      "7.229661703109741 : df_subtracted_frame = get_df_voxel_subtracted_frame(list_df_voxel_scene, frame_idx, n_frames_per_side, shift)\n",
      "1.4332432746887207 : df_frame_orig['voxel_id'] =  df_frame_orig.apply(lambda x: point_to_voxel(x, voxel_size), axis=1)\n",
      "0.0019927024841308594 : df_labels = df_frame_orig.voxel_id.isin(df_subtracted_frame.voxel_id)\n",
      "(2713, 5)\n",
      "0.163560152053833 : df_frame_orig_subtracted = df_frame_orig[df_labels]\n",
      "(9565, 5)\n",
      "file_labels: voxelling_output/submission_files/vid_1_pred_lee/0000311_labels.csv\n",
      "0.0827791690826416 : df_labels.to_csv(pickles_path+\"df_labels__frame_%d__%s__voxel_size_%d.p\"%(frame_idx, vid, voxel_size))\n",
      "9565\n",
      "0.07779169082641602 : save_frame_for_movie(df_frame_orig_subtracted, \"tmp_only_labeled/\", all_files, frame_idx)\n"
     ]
    },
    {
     "name": "stderr",
     "output_type": "stream",
     "text": [
      "\r",
      " 34%|█████████████████████████████████████████████████████                                                                                                         | 297/885 [35:33<1:10:23,  7.18s/it]"
     ]
    },
    {
     "name": "stdout",
     "output_type": "stream",
     "text": [
      "=========================================================================\n",
      "frame_idx = 312\n",
      "=========================================================================\n",
      "0.0 : list_idx = get_list_idx_for_frame(frame_idx, n_frames_per_side, shift)\n",
      "7.57274317741394 : df_subtracted_frame = get_df_voxel_subtracted_frame(list_df_voxel_scene, frame_idx, n_frames_per_side, shift)\n",
      "1.3534197807312012 : df_frame_orig['voxel_id'] =  df_frame_orig.apply(lambda x: point_to_voxel(x, voxel_size), axis=1)\n",
      "0.0019948482513427734 : df_labels = df_frame_orig.voxel_id.isin(df_subtracted_frame.voxel_id)\n",
      "(2736, 5)\n",
      "0.14164066314697266 : df_frame_orig_subtracted = df_frame_orig[df_labels]\n",
      "(9630, 5)\n",
      "file_labels: voxelling_output/submission_files/vid_1_pred_lee/0000312_labels.csv\n",
      "0.08477520942687988 : df_labels.to_csv(pickles_path+\"df_labels__frame_%d__%s__voxel_size_%d.p\"%(frame_idx, vid, voxel_size))\n",
      "9630\n",
      "0.08078479766845703 : save_frame_for_movie(df_frame_orig_subtracted, \"tmp_only_labeled/\", all_files, frame_idx)\n"
     ]
    },
    {
     "name": "stderr",
     "output_type": "stream",
     "text": [
      "\r",
      " 34%|█████████████████████████████████████████████████████▏                                                                                                        | 298/885 [35:42<1:10:19,  7.19s/it]"
     ]
    },
    {
     "name": "stdout",
     "output_type": "stream",
     "text": [
      "=========================================================================\n",
      "frame_idx = 313\n",
      "=========================================================================\n",
      "0.0 : list_idx = get_list_idx_for_frame(frame_idx, n_frames_per_side, shift)\n",
      "7.249595403671265 : df_subtracted_frame = get_df_voxel_subtracted_frame(list_df_voxel_scene, frame_idx, n_frames_per_side, shift)\n",
      "1.2915840148925781 : df_frame_orig['voxel_id'] =  df_frame_orig.apply(lambda x: point_to_voxel(x, voxel_size), axis=1)\n",
      "0.0009970664978027344 : df_labels = df_frame_orig.voxel_id.isin(df_subtracted_frame.voxel_id)\n",
      "(2743, 5)\n",
      "0.1356360912322998 : df_frame_orig_subtracted = df_frame_orig[df_labels]\n",
      "(9396, 5)\n",
      "file_labels: voxelling_output/submission_files/vid_1_pred_lee/0000313_labels.csv\n",
      "0.0847616195678711 : df_labels.to_csv(pickles_path+\"df_labels__frame_%d__%s__voxel_size_%d.p\"%(frame_idx, vid, voxel_size))\n",
      "9396\n",
      "0.07280492782592773 : save_frame_for_movie(df_frame_orig_subtracted, \"tmp_only_labeled/\", all_files, frame_idx)\n"
     ]
    },
    {
     "name": "stderr",
     "output_type": "stream",
     "text": [
      "\r",
      " 34%|█████████████████████████████████████████████████████▍                                                                                                        | 299/885 [35:51<1:10:16,  7.19s/it]"
     ]
    },
    {
     "name": "stdout",
     "output_type": "stream",
     "text": [
      "=========================================================================\n",
      "frame_idx = 314\n",
      "=========================================================================\n",
      "0.0 : list_idx = get_list_idx_for_frame(frame_idx, n_frames_per_side, shift)\n",
      "6.968401193618774 : df_subtracted_frame = get_df_voxel_subtracted_frame(list_df_voxel_scene, frame_idx, n_frames_per_side, shift)\n",
      "1.2985255718231201 : df_frame_orig['voxel_id'] =  df_frame_orig.apply(lambda x: point_to_voxel(x, voxel_size), axis=1)\n",
      "0.001995563507080078 : df_labels = df_frame_orig.voxel_id.isin(df_subtracted_frame.voxel_id)\n",
      "(2686, 5)\n",
      "0.14216256141662598 : df_frame_orig_subtracted = df_frame_orig[df_labels]\n",
      "(9503, 5)\n",
      "file_labels: voxelling_output/submission_files/vid_1_pred_lee/0000314_labels.csv\n",
      "0.0937495231628418 : df_labels.to_csv(pickles_path+\"df_labels__frame_%d__%s__voxel_size_%d.p\"%(frame_idx, vid, voxel_size))\n",
      "9503\n",
      "0.07579612731933594 : save_frame_for_movie(df_frame_orig_subtracted, \"tmp_only_labeled/\", all_files, frame_idx)\n"
     ]
    },
    {
     "name": "stderr",
     "output_type": "stream",
     "text": [
      "\r",
      " 34%|█████████████████████████████████████████████████████▌                                                                                                        | 300/885 [35:59<1:10:11,  7.20s/it]"
     ]
    },
    {
     "name": "stdout",
     "output_type": "stream",
     "text": [
      "=========================================================================\n",
      "frame_idx = 315\n",
      "=========================================================================\n",
      "0.0 : list_idx = get_list_idx_for_frame(frame_idx, n_frames_per_side, shift)\n",
      "6.957916021347046 : df_subtracted_frame = get_df_voxel_subtracted_frame(list_df_voxel_scene, frame_idx, n_frames_per_side, shift)\n",
      "1.3119211196899414 : df_frame_orig['voxel_id'] =  df_frame_orig.apply(lambda x: point_to_voxel(x, voxel_size), axis=1)\n",
      "0.001995086669921875 : df_labels = df_frame_orig.voxel_id.isin(df_subtracted_frame.voxel_id)\n",
      "(2568, 5)\n",
      "0.148637056350708 : df_frame_orig_subtracted = df_frame_orig[df_labels]\n",
      "(9272, 5)\n",
      "file_labels: voxelling_output/submission_files/vid_1_pred_lee/0000315_labels.csv\n",
      "0.08377599716186523 : df_labels.to_csv(pickles_path+\"df_labels__frame_%d__%s__voxel_size_%d.p\"%(frame_idx, vid, voxel_size))\n",
      "9272\n",
      "0.12665939331054688 : save_frame_for_movie(df_frame_orig_subtracted, \"tmp_only_labeled/\", all_files, frame_idx)\n"
     ]
    },
    {
     "name": "stderr",
     "output_type": "stream",
     "text": [
      "\r",
      " 34%|█████████████████████████████████████████████████████▋                                                                                                        | 301/885 [36:08<1:10:07,  7.20s/it]"
     ]
    },
    {
     "name": "stdout",
     "output_type": "stream",
     "text": [
      "=========================================================================\n",
      "frame_idx = 316\n",
      "=========================================================================\n",
      "0.0 : list_idx = get_list_idx_for_frame(frame_idx, n_frames_per_side, shift)\n",
      "7.279708623886108 : df_subtracted_frame = get_df_voxel_subtracted_frame(list_df_voxel_scene, frame_idx, n_frames_per_side, shift)\n",
      "1.4142520427703857 : df_frame_orig['voxel_id'] =  df_frame_orig.apply(lambda x: point_to_voxel(x, voxel_size), axis=1)\n",
      "0.0009984970092773438 : df_labels = df_frame_orig.voxel_id.isin(df_subtracted_frame.voxel_id)\n",
      "(2405, 5)\n",
      "0.16156864166259766 : df_frame_orig_subtracted = df_frame_orig[df_labels]\n",
      "(8517, 5)\n",
      "file_labels: voxelling_output/submission_files/vid_1_pred_lee/0000316_labels.csv\n",
      "0.09075665473937988 : df_labels.to_csv(pickles_path+\"df_labels__frame_%d__%s__voxel_size_%d.p\"%(frame_idx, vid, voxel_size))\n",
      "8517\n",
      "0.06881570816040039 : save_frame_for_movie(df_frame_orig_subtracted, \"tmp_only_labeled/\", all_files, frame_idx)\n"
     ]
    },
    {
     "name": "stderr",
     "output_type": "stream",
     "text": [
      "\r",
      " 34%|█████████████████████████████████████████████████████▉                                                                                                        | 302/885 [36:17<1:10:03,  7.21s/it]"
     ]
    },
    {
     "name": "stdout",
     "output_type": "stream",
     "text": [
      "=========================================================================\n",
      "frame_idx = 317\n",
      "=========================================================================\n",
      "0.0 : list_idx = get_list_idx_for_frame(frame_idx, n_frames_per_side, shift)\n",
      "7.477031707763672 : df_subtracted_frame = get_df_voxel_subtracted_frame(list_df_voxel_scene, frame_idx, n_frames_per_side, shift)\n",
      "1.2945740222930908 : df_frame_orig['voxel_id'] =  df_frame_orig.apply(lambda x: point_to_voxel(x, voxel_size), axis=1)\n",
      "0.0019941329956054688 : df_labels = df_frame_orig.voxel_id.isin(df_subtracted_frame.voxel_id)\n",
      "(2392, 5)\n",
      "0.1366584300994873 : df_frame_orig_subtracted = df_frame_orig[df_labels]\n",
      "(8432, 5)\n",
      "file_labels: voxelling_output/submission_files/vid_1_pred_lee/0000317_labels.csv\n",
      "0.08376646041870117 : df_labels.to_csv(pickles_path+\"df_labels__frame_%d__%s__voxel_size_%d.p\"%(frame_idx, vid, voxel_size))\n",
      "8432\n",
      "0.06283235549926758 : save_frame_for_movie(df_frame_orig_subtracted, \"tmp_only_labeled/\", all_files, frame_idx)\n"
     ]
    },
    {
     "name": "stderr",
     "output_type": "stream",
     "text": [
      "\r",
      " 34%|██████████████████████████████████████████████████████                                                                                                        | 303/885 [36:26<1:09:59,  7.22s/it]"
     ]
    },
    {
     "name": "stdout",
     "output_type": "stream",
     "text": [
      "=========================================================================\n",
      "frame_idx = 318\n",
      "=========================================================================\n",
      "0.0 : list_idx = get_list_idx_for_frame(frame_idx, n_frames_per_side, shift)\n",
      "7.362304449081421 : df_subtracted_frame = get_df_voxel_subtracted_frame(list_df_voxel_scene, frame_idx, n_frames_per_side, shift)\n",
      "1.411226511001587 : df_frame_orig['voxel_id'] =  df_frame_orig.apply(lambda x: point_to_voxel(x, voxel_size), axis=1)\n",
      "0.0019936561584472656 : df_labels = df_frame_orig.voxel_id.isin(df_subtracted_frame.voxel_id)\n",
      "(2712, 5)\n",
      "0.1545848846435547 : df_frame_orig_subtracted = df_frame_orig[df_labels]\n",
      "(10460, 5)\n",
      "file_labels: voxelling_output/submission_files/vid_1_pred_lee/0000318_labels.csv\n",
      "0.08776497840881348 : df_labels.to_csv(pickles_path+\"df_labels__frame_%d__%s__voxel_size_%d.p\"%(frame_idx, vid, voxel_size))\n",
      "10460\n",
      "0.0767979621887207 : save_frame_for_movie(df_frame_orig_subtracted, \"tmp_only_labeled/\", all_files, frame_idx)\n"
     ]
    },
    {
     "name": "stderr",
     "output_type": "stream",
     "text": [
      "\r",
      " 34%|██████████████████████████████████████████████████████▎                                                                                                       | 304/885 [36:35<1:09:56,  7.22s/it]"
     ]
    },
    {
     "name": "stdout",
     "output_type": "stream",
     "text": [
      "=========================================================================\n",
      "frame_idx = 319\n",
      "=========================================================================\n",
      "0.0009946823120117188 : list_idx = get_list_idx_for_frame(frame_idx, n_frames_per_side, shift)\n",
      "7.227665662765503 : df_subtracted_frame = get_df_voxel_subtracted_frame(list_df_voxel_scene, frame_idx, n_frames_per_side, shift)\n",
      "1.2935736179351807 : df_frame_orig['voxel_id'] =  df_frame_orig.apply(lambda x: point_to_voxel(x, voxel_size), axis=1)\n",
      "0.001983165740966797 : df_labels = df_frame_orig.voxel_id.isin(df_subtracted_frame.voxel_id)\n",
      "(2768, 5)\n",
      "0.14265894889831543 : df_frame_orig_subtracted = df_frame_orig[df_labels]\n",
      "(10756, 5)\n",
      "file_labels: voxelling_output/submission_files/vid_1_pred_lee/0000319_labels.csv\n",
      "0.08276152610778809 : df_labels.to_csv(pickles_path+\"df_labels__frame_%d__%s__voxel_size_%d.p\"%(frame_idx, vid, voxel_size))\n",
      "10756\n",
      "0.07877469062805176 : save_frame_for_movie(df_frame_orig_subtracted, \"tmp_only_labeled/\", all_files, frame_idx)\n"
     ]
    },
    {
     "name": "stderr",
     "output_type": "stream",
     "text": [
      "\r",
      " 34%|██████████████████████████████████████████████████████▍                                                                                                       | 305/885 [36:44<1:09:52,  7.23s/it]"
     ]
    },
    {
     "name": "stdout",
     "output_type": "stream",
     "text": [
      "=========================================================================\n",
      "frame_idx = 320\n",
      "=========================================================================\n",
      "0.0 : list_idx = get_list_idx_for_frame(frame_idx, n_frames_per_side, shift)\n",
      "7.990626573562622 : df_subtracted_frame = get_df_voxel_subtracted_frame(list_df_voxel_scene, frame_idx, n_frames_per_side, shift)\n",
      "1.414228916168213 : df_frame_orig['voxel_id'] =  df_frame_orig.apply(lambda x: point_to_voxel(x, voxel_size), axis=1)\n",
      "0.002009868621826172 : df_labels = df_frame_orig.voxel_id.isin(df_subtracted_frame.voxel_id)\n",
      "(2771, 5)\n",
      "0.1545851230621338 : df_frame_orig_subtracted = df_frame_orig[df_labels]\n",
      "(9874, 5)\n",
      "file_labels: voxelling_output/submission_files/vid_1_pred_lee/0000320_labels.csv\n",
      "0.09075498580932617 : df_labels.to_csv(pickles_path+\"df_labels__frame_%d__%s__voxel_size_%d.p\"%(frame_idx, vid, voxel_size))\n",
      "9874\n",
      "0.07878684997558594 : save_frame_for_movie(df_frame_orig_subtracted, \"tmp_only_labeled/\", all_files, frame_idx)\n"
     ]
    },
    {
     "name": "stderr",
     "output_type": "stream",
     "text": [
      "\r",
      " 35%|██████████████████████████████████████████████████████▋                                                                                                       | 306/885 [36:54<1:09:49,  7.24s/it]"
     ]
    },
    {
     "name": "stdout",
     "output_type": "stream",
     "text": [
      "=========================================================================\n",
      "frame_idx = 321\n",
      "=========================================================================\n",
      "0.0 : list_idx = get_list_idx_for_frame(frame_idx, n_frames_per_side, shift)\n",
      "7.252603054046631 : df_subtracted_frame = get_df_voxel_subtracted_frame(list_df_voxel_scene, frame_idx, n_frames_per_side, shift)\n",
      "1.5807716846466064 : df_frame_orig['voxel_id'] =  df_frame_orig.apply(lambda x: point_to_voxel(x, voxel_size), axis=1)\n",
      "0.001993894577026367 : df_labels = df_frame_orig.voxel_id.isin(df_subtracted_frame.voxel_id)\n",
      "(2810, 5)\n",
      "0.1795196533203125 : df_frame_orig_subtracted = df_frame_orig[df_labels]\n",
      "(8057, 5)\n",
      "file_labels: voxelling_output/submission_files/vid_1_pred_lee/0000321_labels.csv\n",
      "0.1107032299041748 : df_labels.to_csv(pickles_path+\"df_labels__frame_%d__%s__voxel_size_%d.p\"%(frame_idx, vid, voxel_size))\n",
      "8057\n",
      "0.07579612731933594 : save_frame_for_movie(df_frame_orig_subtracted, \"tmp_only_labeled/\", all_files, frame_idx)\n"
     ]
    },
    {
     "name": "stderr",
     "output_type": "stream",
     "text": [
      "\r",
      " 35%|██████████████████████████████████████████████████████▊                                                                                                       | 307/885 [37:03<1:09:46,  7.24s/it]"
     ]
    },
    {
     "name": "stdout",
     "output_type": "stream",
     "text": [
      "=========================================================================\n",
      "frame_idx = 322\n",
      "=========================================================================\n",
      "0.0 : list_idx = get_list_idx_for_frame(frame_idx, n_frames_per_side, shift)\n",
      "7.835068225860596 : df_subtracted_frame = get_df_voxel_subtracted_frame(list_df_voxel_scene, frame_idx, n_frames_per_side, shift)\n",
      "1.4271767139434814 : df_frame_orig['voxel_id'] =  df_frame_orig.apply(lambda x: point_to_voxel(x, voxel_size), axis=1)\n",
      "0.001993417739868164 : df_labels = df_frame_orig.voxel_id.isin(df_subtracted_frame.voxel_id)\n",
      "(2815, 5)\n",
      "0.15859556198120117 : df_frame_orig_subtracted = df_frame_orig[df_labels]\n",
      "(8631, 5)\n",
      "file_labels: voxelling_output/submission_files/vid_1_pred_lee/0000322_labels.csv\n",
      "0.11269617080688477 : df_labels.to_csv(pickles_path+\"df_labels__frame_%d__%s__voxel_size_%d.p\"%(frame_idx, vid, voxel_size))\n",
      "8631\n",
      "0.09074783325195312 : save_frame_for_movie(df_frame_orig_subtracted, \"tmp_only_labeled/\", all_files, frame_idx)\n"
     ]
    },
    {
     "name": "stderr",
     "output_type": "stream",
     "text": [
      "\r",
      " 35%|██████████████████████████████████████████████████████▉                                                                                                       | 308/885 [37:13<1:09:43,  7.25s/it]"
     ]
    },
    {
     "name": "stdout",
     "output_type": "stream",
     "text": [
      "=========================================================================\n",
      "frame_idx = 323\n",
      "=========================================================================\n",
      "0.0009963512420654297 : list_idx = get_list_idx_for_frame(frame_idx, n_frames_per_side, shift)\n",
      "7.639450788497925 : df_subtracted_frame = get_df_voxel_subtracted_frame(list_df_voxel_scene, frame_idx, n_frames_per_side, shift)\n",
      "1.3613600730895996 : df_frame_orig['voxel_id'] =  df_frame_orig.apply(lambda x: point_to_voxel(x, voxel_size), axis=1)\n",
      "0.001994609832763672 : df_labels = df_frame_orig.voxel_id.isin(df_subtracted_frame.voxel_id)\n",
      "(2942, 5)\n",
      "0.14162206649780273 : df_frame_orig_subtracted = df_frame_orig[df_labels]\n",
      "(8777, 5)\n",
      "file_labels: voxelling_output/submission_files/vid_1_pred_lee/0000323_labels.csv\n",
      "0.08776378631591797 : df_labels.to_csv(pickles_path+\"df_labels__frame_%d__%s__voxel_size_%d.p\"%(frame_idx, vid, voxel_size))\n",
      "8777\n",
      "0.07080960273742676 : save_frame_for_movie(df_frame_orig_subtracted, \"tmp_only_labeled/\", all_files, frame_idx)\n"
     ]
    },
    {
     "name": "stderr",
     "output_type": "stream",
     "text": [
      "\r",
      " 35%|███████████████████████████████████████████████████████▏                                                                                                      | 309/885 [37:22<1:09:40,  7.26s/it]"
     ]
    },
    {
     "name": "stdout",
     "output_type": "stream",
     "text": [
      "=========================================================================\n",
      "frame_idx = 324\n",
      "=========================================================================\n",
      "0.0 : list_idx = get_list_idx_for_frame(frame_idx, n_frames_per_side, shift)\n",
      "7.566795587539673 : df_subtracted_frame = get_df_voxel_subtracted_frame(list_df_voxel_scene, frame_idx, n_frames_per_side, shift)\n",
      "1.2556416988372803 : df_frame_orig['voxel_id'] =  df_frame_orig.apply(lambda x: point_to_voxel(x, voxel_size), axis=1)\n",
      "0.00199127197265625 : df_labels = df_frame_orig.voxel_id.isin(df_subtracted_frame.voxel_id)\n",
      "(2997, 5)\n",
      "0.15957164764404297 : df_frame_orig_subtracted = df_frame_orig[df_labels]\n",
      "(7630, 5)\n",
      "file_labels: voxelling_output/submission_files/vid_1_pred_lee/0000324_labels.csv\n",
      "0.08879637718200684 : df_labels.to_csv(pickles_path+\"df_labels__frame_%d__%s__voxel_size_%d.p\"%(frame_idx, vid, voxel_size))\n",
      "7630\n",
      "0.08478188514709473 : save_frame_for_movie(df_frame_orig_subtracted, \"tmp_only_labeled/\", all_files, frame_idx)\n"
     ]
    },
    {
     "name": "stderr",
     "output_type": "stream",
     "text": [
      "\r",
      " 35%|███████████████████████████████████████████████████████▎                                                                                                      | 310/885 [37:31<1:09:36,  7.26s/it]"
     ]
    },
    {
     "name": "stdout",
     "output_type": "stream",
     "text": [
      "=========================================================================\n",
      "frame_idx = 325\n",
      "=========================================================================\n",
      "0.0 : list_idx = get_list_idx_for_frame(frame_idx, n_frames_per_side, shift)\n",
      "7.388239145278931 : df_subtracted_frame = get_df_voxel_subtracted_frame(list_df_voxel_scene, frame_idx, n_frames_per_side, shift)\n",
      "1.3534150123596191 : df_frame_orig['voxel_id'] =  df_frame_orig.apply(lambda x: point_to_voxel(x, voxel_size), axis=1)\n",
      "0.001986265182495117 : df_labels = df_frame_orig.voxel_id.isin(df_subtracted_frame.voxel_id)\n",
      "(2963, 5)\n",
      "0.154618501663208 : df_frame_orig_subtracted = df_frame_orig[df_labels]\n",
      "(7736, 5)\n",
      "file_labels: voxelling_output/submission_files/vid_1_pred_lee/0000325_labels.csv\n",
      "0.0857701301574707 : df_labels.to_csv(pickles_path+\"df_labels__frame_%d__%s__voxel_size_%d.p\"%(frame_idx, vid, voxel_size))\n",
      "7736\n",
      "0.06781673431396484 : save_frame_for_movie(df_frame_orig_subtracted, \"tmp_only_labeled/\", all_files, frame_idx)\n"
     ]
    },
    {
     "name": "stderr",
     "output_type": "stream",
     "text": [
      "\r",
      " 35%|███████████████████████████████████████████████████████▌                                                                                                      | 311/885 [37:40<1:09:32,  7.27s/it]"
     ]
    },
    {
     "name": "stdout",
     "output_type": "stream",
     "text": [
      "=========================================================================\n",
      "frame_idx = 326\n",
      "=========================================================================\n",
      "0.0 : list_idx = get_list_idx_for_frame(frame_idx, n_frames_per_side, shift)\n",
      "7.600677251815796 : df_subtracted_frame = get_df_voxel_subtracted_frame(list_df_voxel_scene, frame_idx, n_frames_per_side, shift)\n",
      "1.4371557235717773 : df_frame_orig['voxel_id'] =  df_frame_orig.apply(lambda x: point_to_voxel(x, voxel_size), axis=1)\n",
      "0.0019958019256591797 : df_labels = df_frame_orig.voxel_id.isin(df_subtracted_frame.voxel_id)\n",
      "(3043, 5)\n",
      "0.16360044479370117 : df_frame_orig_subtracted = df_frame_orig[df_labels]\n",
      "(8086, 5)\n",
      "file_labels: voxelling_output/submission_files/vid_1_pred_lee/0000326_labels.csv\n",
      "0.09574365615844727 : df_labels.to_csv(pickles_path+\"df_labels__frame_%d__%s__voxel_size_%d.p\"%(frame_idx, vid, voxel_size))\n",
      "8086\n",
      "0.07181262969970703 : save_frame_for_movie(df_frame_orig_subtracted, \"tmp_only_labeled/\", all_files, frame_idx)\n"
     ]
    },
    {
     "name": "stderr",
     "output_type": "stream",
     "text": [
      "\r",
      " 35%|███████████████████████████████████████████████████████▋                                                                                                      | 312/885 [37:50<1:09:29,  7.28s/it]"
     ]
    },
    {
     "name": "stdout",
     "output_type": "stream",
     "text": [
      "=========================================================================\n",
      "frame_idx = 327\n",
      "=========================================================================\n",
      "0.0 : list_idx = get_list_idx_for_frame(frame_idx, n_frames_per_side, shift)\n",
      "7.148879528045654 : df_subtracted_frame = get_df_voxel_subtracted_frame(list_df_voxel_scene, frame_idx, n_frames_per_side, shift)\n",
      "1.3085222244262695 : df_frame_orig['voxel_id'] =  df_frame_orig.apply(lambda x: point_to_voxel(x, voxel_size), axis=1)\n",
      "0.001995086669921875 : df_labels = df_frame_orig.voxel_id.isin(df_subtracted_frame.voxel_id)\n",
      "(3078, 5)\n",
      "0.1565690040588379 : df_frame_orig_subtracted = df_frame_orig[df_labels]\n",
      "(7804, 5)\n",
      "file_labels: voxelling_output/submission_files/vid_1_pred_lee/0000327_labels.csv\n",
      "0.08281207084655762 : df_labels.to_csv(pickles_path+\"df_labels__frame_%d__%s__voxel_size_%d.p\"%(frame_idx, vid, voxel_size))\n",
      "7804\n",
      "0.06185746192932129 : save_frame_for_movie(df_frame_orig_subtracted, \"tmp_only_labeled/\", all_files, frame_idx)\n"
     ]
    },
    {
     "name": "stderr",
     "output_type": "stream",
     "text": [
      "\r",
      " 35%|███████████████████████████████████████████████████████▉                                                                                                      | 313/885 [37:58<1:09:24,  7.28s/it]"
     ]
    },
    {
     "name": "stdout",
     "output_type": "stream",
     "text": [
      "=========================================================================\n",
      "frame_idx = 328\n",
      "=========================================================================\n",
      "0.0 : list_idx = get_list_idx_for_frame(frame_idx, n_frames_per_side, shift)\n",
      "7.0990517139434814 : df_subtracted_frame = get_df_voxel_subtracted_frame(list_df_voxel_scene, frame_idx, n_frames_per_side, shift)\n",
      "1.3573479652404785 : df_frame_orig['voxel_id'] =  df_frame_orig.apply(lambda x: point_to_voxel(x, voxel_size), axis=1)\n",
      "0.0019943714141845703 : df_labels = df_frame_orig.voxel_id.isin(df_subtracted_frame.voxel_id)\n",
      "(3065, 5)\n",
      "0.1456129550933838 : df_frame_orig_subtracted = df_frame_orig[df_labels]\n",
      "(7907, 5)\n",
      "file_labels: voxelling_output/submission_files/vid_1_pred_lee/0000328_labels.csv\n",
      "0.08577084541320801 : df_labels.to_csv(pickles_path+\"df_labels__frame_%d__%s__voxel_size_%d.p\"%(frame_idx, vid, voxel_size))\n",
      "7907\n",
      "0.0628669261932373 : save_frame_for_movie(df_frame_orig_subtracted, \"tmp_only_labeled/\", all_files, frame_idx)\n"
     ]
    },
    {
     "name": "stderr",
     "output_type": "stream",
     "text": [
      "\r",
      " 35%|████████████████████████████████████████████████████████                                                                                                      | 314/885 [38:07<1:09:20,  7.29s/it]"
     ]
    },
    {
     "name": "stdout",
     "output_type": "stream",
     "text": [
      "=========================================================================\n",
      "frame_idx = 329\n",
      "=========================================================================\n",
      "0.0 : list_idx = get_list_idx_for_frame(frame_idx, n_frames_per_side, shift)\n",
      "7.1239402294158936 : df_subtracted_frame = get_df_voxel_subtracted_frame(list_df_voxel_scene, frame_idx, n_frames_per_side, shift)\n",
      "1.2706055641174316 : df_frame_orig['voxel_id'] =  df_frame_orig.apply(lambda x: point_to_voxel(x, voxel_size), axis=1)\n",
      "0.001987934112548828 : df_labels = df_frame_orig.voxel_id.isin(df_subtracted_frame.voxel_id)\n",
      "(3145, 5)\n",
      "0.19655799865722656 : df_frame_orig_subtracted = df_frame_orig[df_labels]\n",
      "(7851, 5)\n",
      "file_labels: voxelling_output/submission_files/vid_1_pred_lee/0000329_labels.csv\n",
      "0.08978772163391113 : df_labels.to_csv(pickles_path+\"df_labels__frame_%d__%s__voxel_size_%d.p\"%(frame_idx, vid, voxel_size))\n",
      "7851\n",
      "0.13592839241027832 : save_frame_for_movie(df_frame_orig_subtracted, \"tmp_only_labeled/\", all_files, frame_idx)\n"
     ]
    },
    {
     "name": "stderr",
     "output_type": "stream",
     "text": [
      "\r",
      " 36%|████████████████████████████████████████████████████████▏                                                                                                     | 315/885 [38:16<1:09:15,  7.29s/it]"
     ]
    },
    {
     "name": "stdout",
     "output_type": "stream",
     "text": [
      "=========================================================================\n",
      "frame_idx = 330\n",
      "=========================================================================\n",
      "0.0 : list_idx = get_list_idx_for_frame(frame_idx, n_frames_per_side, shift)\n",
      "7.084149599075317 : df_subtracted_frame = get_df_voxel_subtracted_frame(list_df_voxel_scene, frame_idx, n_frames_per_side, shift)\n",
      "1.3285751342773438 : df_frame_orig['voxel_id'] =  df_frame_orig.apply(lambda x: point_to_voxel(x, voxel_size), axis=1)\n",
      "0.001994609832763672 : df_labels = df_frame_orig.voxel_id.isin(df_subtracted_frame.voxel_id)\n",
      "(3130, 5)\n",
      "0.1446089744567871 : df_frame_orig_subtracted = df_frame_orig[df_labels]\n",
      "(7999, 5)\n",
      "file_labels: voxelling_output/submission_files/vid_1_pred_lee/0000330_labels.csv\n",
      "0.08776473999023438 : df_labels.to_csv(pickles_path+\"df_labels__frame_%d__%s__voxel_size_%d.p\"%(frame_idx, vid, voxel_size))\n",
      "7999\n",
      "0.06586217880249023 : save_frame_for_movie(df_frame_orig_subtracted, \"tmp_only_labeled/\", all_files, frame_idx)\n"
     ]
    },
    {
     "name": "stderr",
     "output_type": "stream",
     "text": [
      "\r",
      " 36%|████████████████████████████████████████████████████████▍                                                                                                     | 316/885 [38:25<1:09:11,  7.30s/it]"
     ]
    },
    {
     "name": "stdout",
     "output_type": "stream",
     "text": [
      "=========================================================================\n",
      "frame_idx = 331\n",
      "=========================================================================\n",
      "0.0 : list_idx = get_list_idx_for_frame(frame_idx, n_frames_per_side, shift)\n",
      "7.009421348571777 : df_subtracted_frame = get_df_voxel_subtracted_frame(list_df_voxel_scene, frame_idx, n_frames_per_side, shift)\n",
      "1.2855610847473145 : df_frame_orig['voxel_id'] =  df_frame_orig.apply(lambda x: point_to_voxel(x, voxel_size), axis=1)\n",
      "0.0019774436950683594 : df_labels = df_frame_orig.voxel_id.isin(df_subtracted_frame.voxel_id)\n",
      "(3141, 5)\n",
      "0.14461326599121094 : df_frame_orig_subtracted = df_frame_orig[df_labels]\n",
      "(8298, 5)\n",
      "file_labels: voxelling_output/submission_files/vid_1_pred_lee/0000331_labels.csv\n",
      "0.08477330207824707 : df_labels.to_csv(pickles_path+\"df_labels__frame_%d__%s__voxel_size_%d.p\"%(frame_idx, vid, voxel_size))\n",
      "8298\n",
      "0.06482648849487305 : save_frame_for_movie(df_frame_orig_subtracted, \"tmp_only_labeled/\", all_files, frame_idx)\n"
     ]
    },
    {
     "name": "stderr",
     "output_type": "stream",
     "text": [
      "\r",
      " 36%|████████████████████████████████████████████████████████▌                                                                                                     | 317/885 [38:33<1:09:06,  7.30s/it]"
     ]
    },
    {
     "name": "stdout",
     "output_type": "stream",
     "text": [
      "=========================================================================\n",
      "frame_idx = 332\n",
      "=========================================================================\n",
      "0.0 : list_idx = get_list_idx_for_frame(frame_idx, n_frames_per_side, shift)\n",
      "7.139890909194946 : df_subtracted_frame = get_df_voxel_subtracted_frame(list_df_voxel_scene, frame_idx, n_frames_per_side, shift)\n",
      "1.2108032703399658 : df_frame_orig['voxel_id'] =  df_frame_orig.apply(lambda x: point_to_voxel(x, voxel_size), axis=1)\n",
      "0.001994609832763672 : df_labels = df_frame_orig.voxel_id.isin(df_subtracted_frame.voxel_id)\n",
      "(3064, 5)\n",
      "0.15181469917297363 : df_frame_orig_subtracted = df_frame_orig[df_labels]\n",
      "(8623, 5)\n",
      "file_labels: voxelling_output/submission_files/vid_1_pred_lee/0000332_labels.csv\n",
      "0.0857703685760498 : df_labels.to_csv(pickles_path+\"df_labels__frame_%d__%s__voxel_size_%d.p\"%(frame_idx, vid, voxel_size))\n",
      "8623\n",
      "0.09456729888916016 : save_frame_for_movie(df_frame_orig_subtracted, \"tmp_only_labeled/\", all_files, frame_idx)\n"
     ]
    },
    {
     "name": "stderr",
     "output_type": "stream",
     "text": [
      "\r",
      " 36%|████████████████████████████████████████████████████████▊                                                                                                     | 318/885 [38:42<1:09:01,  7.30s/it]"
     ]
    },
    {
     "name": "stdout",
     "output_type": "stream",
     "text": [
      "=========================================================================\n",
      "frame_idx = 333\n",
      "=========================================================================\n",
      "0.0 : list_idx = get_list_idx_for_frame(frame_idx, n_frames_per_side, shift)\n",
      "7.14488959312439 : df_subtracted_frame = get_df_voxel_subtracted_frame(list_df_voxel_scene, frame_idx, n_frames_per_side, shift)\n",
      "1.421184778213501 : df_frame_orig['voxel_id'] =  df_frame_orig.apply(lambda x: point_to_voxel(x, voxel_size), axis=1)\n",
      "0.0019953250885009766 : df_labels = df_frame_orig.voxel_id.isin(df_subtracted_frame.voxel_id)\n",
      "(3115, 5)\n",
      "0.16156673431396484 : df_frame_orig_subtracted = df_frame_orig[df_labels]\n",
      "(8995, 5)\n",
      "file_labels: voxelling_output/submission_files/vid_1_pred_lee/0000333_labels.csv\n",
      "0.10672402381896973 : df_labels.to_csv(pickles_path+\"df_labels__frame_%d__%s__voxel_size_%d.p\"%(frame_idx, vid, voxel_size))\n",
      "8995\n",
      "0.0747981071472168 : save_frame_for_movie(df_frame_orig_subtracted, \"tmp_only_labeled/\", all_files, frame_idx)\n"
     ]
    },
    {
     "name": "stderr",
     "output_type": "stream",
     "text": [
      "\r",
      " 36%|████████████████████████████████████████████████████████▉                                                                                                     | 319/885 [38:51<1:08:56,  7.31s/it]"
     ]
    },
    {
     "name": "stdout",
     "output_type": "stream",
     "text": [
      "=========================================================================\n",
      "frame_idx = 334\n",
      "=========================================================================\n",
      "0.0 : list_idx = get_list_idx_for_frame(frame_idx, n_frames_per_side, shift)\n",
      "7.200727224349976 : df_subtracted_frame = get_df_voxel_subtracted_frame(list_df_voxel_scene, frame_idx, n_frames_per_side, shift)\n",
      "1.2858965396881104 : df_frame_orig['voxel_id'] =  df_frame_orig.apply(lambda x: point_to_voxel(x, voxel_size), axis=1)\n",
      "0.0009965896606445312 : df_labels = df_frame_orig.voxel_id.isin(df_subtracted_frame.voxel_id)\n",
      "(3160, 5)\n",
      "0.13420391082763672 : df_frame_orig_subtracted = df_frame_orig[df_labels]\n",
      "(9083, 5)\n",
      "file_labels: voxelling_output/submission_files/vid_1_pred_lee/0000334_labels.csv\n",
      "0.0827782154083252 : df_labels.to_csv(pickles_path+\"df_labels__frame_%d__%s__voxel_size_%d.p\"%(frame_idx, vid, voxel_size))\n",
      "9083\n",
      "0.07085180282592773 : save_frame_for_movie(df_frame_orig_subtracted, \"tmp_only_labeled/\", all_files, frame_idx)\n"
     ]
    },
    {
     "name": "stderr",
     "output_type": "stream",
     "text": [
      "\r",
      " 36%|█████████████████████████████████████████████████████████▏                                                                                                    | 320/885 [39:00<1:08:52,  7.31s/it]"
     ]
    },
    {
     "name": "stdout",
     "output_type": "stream",
     "text": [
      "=========================================================================\n",
      "frame_idx = 335\n",
      "=========================================================================\n",
      "0.0 : list_idx = get_list_idx_for_frame(frame_idx, n_frames_per_side, shift)\n",
      "7.203985929489136 : df_subtracted_frame = get_df_voxel_subtracted_frame(list_df_voxel_scene, frame_idx, n_frames_per_side, shift)\n",
      "1.4371893405914307 : df_frame_orig['voxel_id'] =  df_frame_orig.apply(lambda x: point_to_voxel(x, voxel_size), axis=1)\n",
      "0.002994060516357422 : df_labels = df_frame_orig.voxel_id.isin(df_subtracted_frame.voxel_id)\n",
      "(3041, 5)\n",
      "0.14659833908081055 : df_frame_orig_subtracted = df_frame_orig[df_labels]\n",
      "(9248, 5)\n",
      "file_labels: voxelling_output/submission_files/vid_1_pred_lee/0000335_labels.csv\n",
      "0.08094143867492676 : df_labels.to_csv(pickles_path+\"df_labels__frame_%d__%s__voxel_size_%d.p\"%(frame_idx, vid, voxel_size))\n",
      "9248\n",
      "0.06979656219482422 : save_frame_for_movie(df_frame_orig_subtracted, \"tmp_only_labeled/\", all_files, frame_idx)\n"
     ]
    },
    {
     "name": "stderr",
     "output_type": "stream",
     "text": [
      "\r",
      " 36%|█████████████████████████████████████████████████████████▎                                                                                                    | 321/885 [39:09<1:08:47,  7.32s/it]"
     ]
    },
    {
     "name": "stdout",
     "output_type": "stream",
     "text": [
      "=========================================================================\n",
      "frame_idx = 336\n",
      "=========================================================================\n",
      "0.0 : list_idx = get_list_idx_for_frame(frame_idx, n_frames_per_side, shift)\n",
      "7.416176080703735 : df_subtracted_frame = get_df_voxel_subtracted_frame(list_df_voxel_scene, frame_idx, n_frames_per_side, shift)\n",
      "1.3106133937835693 : df_frame_orig['voxel_id'] =  df_frame_orig.apply(lambda x: point_to_voxel(x, voxel_size), axis=1)\n",
      "0.0019948482513427734 : df_labels = df_frame_orig.voxel_id.isin(df_subtracted_frame.voxel_id)\n",
      "(3119, 5)\n",
      "0.14066052436828613 : df_frame_orig_subtracted = df_frame_orig[df_labels]\n",
      "(9345, 5)\n",
      "file_labels: voxelling_output/submission_files/vid_1_pred_lee/0000336_labels.csv\n",
      "0.08078169822692871 : df_labels.to_csv(pickles_path+\"df_labels__frame_%d__%s__voxel_size_%d.p\"%(frame_idx, vid, voxel_size))\n",
      "9345\n",
      "0.07080984115600586 : save_frame_for_movie(df_frame_orig_subtracted, \"tmp_only_labeled/\", all_files, frame_idx)\n"
     ]
    },
    {
     "name": "stderr",
     "output_type": "stream",
     "text": [
      "\r",
      " 36%|█████████████████████████████████████████████████████████▍                                                                                                    | 322/885 [39:18<1:08:43,  7.32s/it]"
     ]
    },
    {
     "name": "stdout",
     "output_type": "stream",
     "text": [
      "=========================================================================\n",
      "frame_idx = 337\n",
      "=========================================================================\n",
      "0.0 : list_idx = get_list_idx_for_frame(frame_idx, n_frames_per_side, shift)\n",
      "7.252824544906616 : df_subtracted_frame = get_df_voxel_subtracted_frame(list_df_voxel_scene, frame_idx, n_frames_per_side, shift)\n",
      "1.2277162075042725 : df_frame_orig['voxel_id'] =  df_frame_orig.apply(lambda x: point_to_voxel(x, voxel_size), axis=1)\n",
      "0.0019958019256591797 : df_labels = df_frame_orig.voxel_id.isin(df_subtracted_frame.voxel_id)\n",
      "(3064, 5)\n",
      "0.15370655059814453 : df_frame_orig_subtracted = df_frame_orig[df_labels]\n",
      "(9580, 5)\n",
      "file_labels: voxelling_output/submission_files/vid_1_pred_lee/0000337_labels.csv\n",
      "0.09173727035522461 : df_labels.to_csv(pickles_path+\"df_labels__frame_%d__%s__voxel_size_%d.p\"%(frame_idx, vid, voxel_size))\n",
      "9580\n",
      "0.07878375053405762 : save_frame_for_movie(df_frame_orig_subtracted, \"tmp_only_labeled/\", all_files, frame_idx)\n"
     ]
    },
    {
     "name": "stderr",
     "output_type": "stream",
     "text": [
      "\r",
      " 36%|█████████████████████████████████████████████████████████▋                                                                                                    | 323/885 [39:27<1:08:38,  7.33s/it]"
     ]
    },
    {
     "name": "stdout",
     "output_type": "stream",
     "text": [
      "=========================================================================\n",
      "frame_idx = 338\n",
      "=========================================================================\n",
      "0.0 : list_idx = get_list_idx_for_frame(frame_idx, n_frames_per_side, shift)\n",
      "7.076984405517578 : df_subtracted_frame = get_df_voxel_subtracted_frame(list_df_voxel_scene, frame_idx, n_frames_per_side, shift)\n",
      "1.320500373840332 : df_frame_orig['voxel_id'] =  df_frame_orig.apply(lambda x: point_to_voxel(x, voxel_size), axis=1)\n",
      "0.001994609832763672 : df_labels = df_frame_orig.voxel_id.isin(df_subtracted_frame.voxel_id)\n",
      "(3018, 5)\n",
      "0.1655569076538086 : df_frame_orig_subtracted = df_frame_orig[df_labels]\n",
      "(9874, 5)\n",
      "file_labels: voxelling_output/submission_files/vid_1_pred_lee/0000338_labels.csv\n",
      "0.10471463203430176 : df_labels.to_csv(pickles_path+\"df_labels__frame_%d__%s__voxel_size_%d.p\"%(frame_idx, vid, voxel_size))\n",
      "9874\n",
      "0.08078265190124512 : save_frame_for_movie(df_frame_orig_subtracted, \"tmp_only_labeled/\", all_files, frame_idx)\n"
     ]
    },
    {
     "name": "stderr",
     "output_type": "stream",
     "text": [
      "\r",
      " 37%|█████████████████████████████████████████████████████████▊                                                                                                    | 324/885 [39:35<1:08:33,  7.33s/it]"
     ]
    },
    {
     "name": "stdout",
     "output_type": "stream",
     "text": [
      "=========================================================================\n",
      "frame_idx = 339\n",
      "=========================================================================\n",
      "0.0 : list_idx = get_list_idx_for_frame(frame_idx, n_frames_per_side, shift)\n",
      "7.31048583984375 : df_subtracted_frame = get_df_voxel_subtracted_frame(list_df_voxel_scene, frame_idx, n_frames_per_side, shift)\n",
      "1.3264892101287842 : df_frame_orig['voxel_id'] =  df_frame_orig.apply(lambda x: point_to_voxel(x, voxel_size), axis=1)\n",
      "0.0009989738464355469 : df_labels = df_frame_orig.voxel_id.isin(df_subtracted_frame.voxel_id)\n",
      "(3107, 5)\n",
      "0.14764118194580078 : df_frame_orig_subtracted = df_frame_orig[df_labels]\n",
      "(10373, 5)\n",
      "file_labels: voxelling_output/submission_files/vid_1_pred_lee/0000339_labels.csv\n",
      "0.0827794075012207 : df_labels.to_csv(pickles_path+\"df_labels__frame_%d__%s__voxel_size_%d.p\"%(frame_idx, vid, voxel_size))\n",
      "10373\n",
      "0.0748133659362793 : save_frame_for_movie(df_frame_orig_subtracted, \"tmp_only_labeled/\", all_files, frame_idx)\n"
     ]
    },
    {
     "name": "stderr",
     "output_type": "stream",
     "text": [
      "\r",
      " 37%|██████████████████████████████████████████████████████████                                                                                                    | 325/885 [39:44<1:08:29,  7.34s/it]"
     ]
    },
    {
     "name": "stdout",
     "output_type": "stream",
     "text": [
      "=========================================================================\n",
      "frame_idx = 340\n",
      "=========================================================================\n",
      "0.0 : list_idx = get_list_idx_for_frame(frame_idx, n_frames_per_side, shift)\n",
      "7.345386266708374 : df_subtracted_frame = get_df_voxel_subtracted_frame(list_df_voxel_scene, frame_idx, n_frames_per_side, shift)\n",
      "1.2766156196594238 : df_frame_orig['voxel_id'] =  df_frame_orig.apply(lambda x: point_to_voxel(x, voxel_size), axis=1)\n",
      "0.001993894577026367 : df_labels = df_frame_orig.voxel_id.isin(df_subtracted_frame.voxel_id)\n",
      "(3103, 5)\n",
      "0.1490767002105713 : df_frame_orig_subtracted = df_frame_orig[df_labels]\n",
      "(10526, 5)\n",
      "file_labels: voxelling_output/submission_files/vid_1_pred_lee/0000340_labels.csv\n",
      "0.08182430267333984 : df_labels.to_csv(pickles_path+\"df_labels__frame_%d__%s__voxel_size_%d.p\"%(frame_idx, vid, voxel_size))\n",
      "10526\n",
      "0.07781696319580078 : save_frame_for_movie(df_frame_orig_subtracted, \"tmp_only_labeled/\", all_files, frame_idx)\n"
     ]
    },
    {
     "name": "stderr",
     "output_type": "stream",
     "text": [
      "\r",
      " 37%|██████████████████████████████████████████████████████████▏                                                                                                   | 326/885 [39:53<1:08:24,  7.34s/it]"
     ]
    },
    {
     "name": "stdout",
     "output_type": "stream",
     "text": [
      "=========================================================================\n",
      "frame_idx = 341\n",
      "=========================================================================\n",
      "0.0 : list_idx = get_list_idx_for_frame(frame_idx, n_frames_per_side, shift)\n",
      "7.405088424682617 : df_subtracted_frame = get_df_voxel_subtracted_frame(list_df_voxel_scene, frame_idx, n_frames_per_side, shift)\n",
      "1.4401335716247559 : df_frame_orig['voxel_id'] =  df_frame_orig.apply(lambda x: point_to_voxel(x, voxel_size), axis=1)\n",
      "0.0009763240814208984 : df_labels = df_frame_orig.voxel_id.isin(df_subtracted_frame.voxel_id)\n",
      "(3087, 5)\n",
      "0.15661215782165527 : df_frame_orig_subtracted = df_frame_orig[df_labels]\n",
      "(10689, 5)\n",
      "file_labels: voxelling_output/submission_files/vid_1_pred_lee/0000341_labels.csv\n",
      "0.08975815773010254 : df_labels.to_csv(pickles_path+\"df_labels__frame_%d__%s__voxel_size_%d.p\"%(frame_idx, vid, voxel_size))\n",
      "10689\n",
      "0.0827791690826416 : save_frame_for_movie(df_frame_orig_subtracted, \"tmp_only_labeled/\", all_files, frame_idx)\n"
     ]
    },
    {
     "name": "stderr",
     "output_type": "stream",
     "text": [
      "\r",
      " 37%|██████████████████████████████████████████████████████████▍                                                                                                   | 327/885 [40:03<1:08:20,  7.35s/it]"
     ]
    },
    {
     "name": "stdout",
     "output_type": "stream",
     "text": [
      "=========================================================================\n",
      "frame_idx = 342\n",
      "=========================================================================\n",
      "0.0009987354278564453 : list_idx = get_list_idx_for_frame(frame_idx, n_frames_per_side, shift)\n",
      "7.566954135894775 : df_subtracted_frame = get_df_voxel_subtracted_frame(list_df_voxel_scene, frame_idx, n_frames_per_side, shift)\n",
      "1.2745893001556396 : df_frame_orig['voxel_id'] =  df_frame_orig.apply(lambda x: point_to_voxel(x, voxel_size), axis=1)\n",
      "0.0019960403442382812 : df_labels = df_frame_orig.voxel_id.isin(df_subtracted_frame.voxel_id)\n",
      "(3200, 5)\n",
      "0.14165568351745605 : df_frame_orig_subtracted = df_frame_orig[df_labels]\n",
      "(10689, 5)\n",
      "file_labels: voxelling_output/submission_files/vid_1_pred_lee/0000342_labels.csv\n",
      "0.08074426651000977 : df_labels.to_csv(pickles_path+\"df_labels__frame_%d__%s__voxel_size_%d.p\"%(frame_idx, vid, voxel_size))\n",
      "10689\n",
      "0.07683467864990234 : save_frame_for_movie(df_frame_orig_subtracted, \"tmp_only_labeled/\", all_files, frame_idx)\n"
     ]
    },
    {
     "name": "stderr",
     "output_type": "stream",
     "text": [
      "\r",
      " 37%|██████████████████████████████████████████████████████████▌                                                                                                   | 328/885 [40:12<1:08:16,  7.35s/it]"
     ]
    },
    {
     "name": "stdout",
     "output_type": "stream",
     "text": [
      "=========================================================================\n",
      "frame_idx = 343\n",
      "=========================================================================\n",
      "0.0 : list_idx = get_list_idx_for_frame(frame_idx, n_frames_per_side, shift)\n",
      "7.271549701690674 : df_subtracted_frame = get_df_voxel_subtracted_frame(list_df_voxel_scene, frame_idx, n_frames_per_side, shift)\n",
      "1.3053529262542725 : df_frame_orig['voxel_id'] =  df_frame_orig.apply(lambda x: point_to_voxel(x, voxel_size), axis=1)\n",
      "0.001995086669921875 : df_labels = df_frame_orig.voxel_id.isin(df_subtracted_frame.voxel_id)\n",
      "(3226, 5)\n",
      "0.15191435813903809 : df_frame_orig_subtracted = df_frame_orig[df_labels]\n",
      "(10396, 5)\n",
      "file_labels: voxelling_output/submission_files/vid_1_pred_lee/0000343_labels.csv\n",
      "0.09973311424255371 : df_labels.to_csv(pickles_path+\"df_labels__frame_%d__%s__voxel_size_%d.p\"%(frame_idx, vid, voxel_size))\n",
      "10396\n",
      "0.08676481246948242 : save_frame_for_movie(df_frame_orig_subtracted, \"tmp_only_labeled/\", all_files, frame_idx)\n"
     ]
    },
    {
     "name": "stderr",
     "output_type": "stream",
     "text": [
      "\r",
      " 37%|██████████████████████████████████████████████████████████▋                                                                                                   | 329/885 [40:21<1:08:11,  7.36s/it]"
     ]
    },
    {
     "name": "stdout",
     "output_type": "stream",
     "text": [
      "=========================================================================\n",
      "frame_idx = 344\n",
      "=========================================================================\n",
      "0.0 : list_idx = get_list_idx_for_frame(frame_idx, n_frames_per_side, shift)\n",
      "7.380254507064819 : df_subtracted_frame = get_df_voxel_subtracted_frame(list_df_voxel_scene, frame_idx, n_frames_per_side, shift)\n",
      "1.2376906871795654 : df_frame_orig['voxel_id'] =  df_frame_orig.apply(lambda x: point_to_voxel(x, voxel_size), axis=1)\n",
      "0.0009777545928955078 : df_labels = df_frame_orig.voxel_id.isin(df_subtracted_frame.voxel_id)\n",
      "(3212, 5)\n",
      "0.14774584770202637 : df_frame_orig_subtracted = df_frame_orig[df_labels]\n",
      "(10007, 5)\n",
      "file_labels: voxelling_output/submission_files/vid_1_pred_lee/0000344_labels.csv\n",
      "0.0917673110961914 : df_labels.to_csv(pickles_path+\"df_labels__frame_%d__%s__voxel_size_%d.p\"%(frame_idx, vid, voxel_size))\n",
      "10007\n",
      "0.08477187156677246 : save_frame_for_movie(df_frame_orig_subtracted, \"tmp_only_labeled/\", all_files, frame_idx)\n"
     ]
    },
    {
     "name": "stderr",
     "output_type": "stream",
     "text": [
      "\r",
      " 37%|██████████████████████████████████████████████████████████▉                                                                                                   | 330/885 [40:30<1:08:07,  7.36s/it]"
     ]
    },
    {
     "name": "stdout",
     "output_type": "stream",
     "text": [
      "=========================================================================\n",
      "frame_idx = 345\n",
      "=========================================================================\n",
      "0.0009989738464355469 : list_idx = get_list_idx_for_frame(frame_idx, n_frames_per_side, shift)\n",
      "7.259577035903931 : df_subtracted_frame = get_df_voxel_subtracted_frame(list_df_voxel_scene, frame_idx, n_frames_per_side, shift)\n",
      "1.4082651138305664 : df_frame_orig['voxel_id'] =  df_frame_orig.apply(lambda x: point_to_voxel(x, voxel_size), axis=1)\n",
      "0.0009791851043701172 : df_labels = df_frame_orig.voxel_id.isin(df_subtracted_frame.voxel_id)\n",
      "(3126, 5)\n",
      "0.14563608169555664 : df_frame_orig_subtracted = df_frame_orig[df_labels]\n",
      "(9744, 5)\n",
      "file_labels: voxelling_output/submission_files/vid_1_pred_lee/0000345_labels.csv\n",
      "0.08477377891540527 : df_labels.to_csv(pickles_path+\"df_labels__frame_%d__%s__voxel_size_%d.p\"%(frame_idx, vid, voxel_size))\n",
      "9744\n",
      "0.07881808280944824 : save_frame_for_movie(df_frame_orig_subtracted, \"tmp_only_labeled/\", all_files, frame_idx)\n"
     ]
    },
    {
     "name": "stderr",
     "output_type": "stream",
     "text": [
      "\r",
      " 37%|███████████████████████████████████████████████████████████                                                                                                   | 331/885 [40:39<1:08:02,  7.37s/it]"
     ]
    },
    {
     "name": "stdout",
     "output_type": "stream",
     "text": [
      "=========================================================================\n",
      "frame_idx = 346\n",
      "=========================================================================\n",
      "0.0 : list_idx = get_list_idx_for_frame(frame_idx, n_frames_per_side, shift)\n",
      "8.122274160385132 : df_subtracted_frame = get_df_voxel_subtracted_frame(list_df_voxel_scene, frame_idx, n_frames_per_side, shift)\n",
      "1.3714747428894043 : df_frame_orig['voxel_id'] =  df_frame_orig.apply(lambda x: point_to_voxel(x, voxel_size), axis=1)\n",
      "0.0009965896606445312 : df_labels = df_frame_orig.voxel_id.isin(df_subtracted_frame.voxel_id)\n",
      "(3259, 5)\n",
      "0.1565713882446289 : df_frame_orig_subtracted = df_frame_orig[df_labels]\n",
      "(9247, 5)\n",
      "file_labels: voxelling_output/submission_files/vid_1_pred_lee/0000346_labels.csv\n",
      "0.08875846862792969 : df_labels.to_csv(pickles_path+\"df_labels__frame_%d__%s__voxel_size_%d.p\"%(frame_idx, vid, voxel_size))\n",
      "9247\n",
      "0.07381486892700195 : save_frame_for_movie(df_frame_orig_subtracted, \"tmp_only_labeled/\", all_files, frame_idx)\n"
     ]
    },
    {
     "name": "stderr",
     "output_type": "stream",
     "text": [
      "\r",
      " 38%|███████████████████████████████████████████████████████████▎                                                                                                  | 332/885 [40:49<1:07:59,  7.38s/it]"
     ]
    },
    {
     "name": "stdout",
     "output_type": "stream",
     "text": [
      "=========================================================================\n",
      "frame_idx = 347\n",
      "=========================================================================\n",
      "0.0009970664978027344 : list_idx = get_list_idx_for_frame(frame_idx, n_frames_per_side, shift)\n",
      "7.442949056625366 : df_subtracted_frame = get_df_voxel_subtracted_frame(list_df_voxel_scene, frame_idx, n_frames_per_side, shift)\n",
      "1.3414406776428223 : df_frame_orig['voxel_id'] =  df_frame_orig.apply(lambda x: point_to_voxel(x, voxel_size), axis=1)\n",
      "0.002025604248046875 : df_labels = df_frame_orig.voxel_id.isin(df_subtracted_frame.voxel_id)\n",
      "(3198, 5)\n",
      "0.14862990379333496 : df_frame_orig_subtracted = df_frame_orig[df_labels]\n",
      "(8673, 5)\n",
      "file_labels: voxelling_output/submission_files/vid_1_pred_lee/0000347_labels.csv\n",
      "0.08275151252746582 : df_labels.to_csv(pickles_path+\"df_labels__frame_%d__%s__voxel_size_%d.p\"%(frame_idx, vid, voxel_size))\n",
      "8673\n",
      "0.06583118438720703 : save_frame_for_movie(df_frame_orig_subtracted, \"tmp_only_labeled/\", all_files, frame_idx)\n"
     ]
    },
    {
     "name": "stderr",
     "output_type": "stream",
     "text": [
      "\r",
      " 38%|███████████████████████████████████████████████████████████▍                                                                                                  | 333/885 [40:58<1:07:54,  7.38s/it]"
     ]
    },
    {
     "name": "stdout",
     "output_type": "stream",
     "text": [
      "=========================================================================\n",
      "frame_idx = 348\n",
      "=========================================================================\n",
      "0.0 : list_idx = get_list_idx_for_frame(frame_idx, n_frames_per_side, shift)\n",
      "7.3664257526397705 : df_subtracted_frame = get_df_voxel_subtracted_frame(list_df_voxel_scene, frame_idx, n_frames_per_side, shift)\n",
      "1.2775793075561523 : df_frame_orig['voxel_id'] =  df_frame_orig.apply(lambda x: point_to_voxel(x, voxel_size), axis=1)\n",
      "0.0009844303131103516 : df_labels = df_frame_orig.voxel_id.isin(df_subtracted_frame.voxel_id)\n",
      "(3164, 5)\n",
      "0.1546156406402588 : df_frame_orig_subtracted = df_frame_orig[df_labels]\n",
      "(8156, 5)\n",
      "file_labels: voxelling_output/submission_files/vid_1_pred_lee/0000348_labels.csv\n",
      "0.07978653907775879 : df_labels.to_csv(pickles_path+\"df_labels__frame_%d__%s__voxel_size_%d.p\"%(frame_idx, vid, voxel_size))\n",
      "8156\n",
      "0.06286406517028809 : save_frame_for_movie(df_frame_orig_subtracted, \"tmp_only_labeled/\", all_files, frame_idx)\n"
     ]
    },
    {
     "name": "stderr",
     "output_type": "stream",
     "text": [
      "\r",
      " 38%|███████████████████████████████████████████████████████████▋                                                                                                  | 334/885 [41:07<1:07:49,  7.39s/it]"
     ]
    },
    {
     "name": "stdout",
     "output_type": "stream",
     "text": [
      "=========================================================================\n",
      "frame_idx = 349\n",
      "=========================================================================\n",
      "0.0 : list_idx = get_list_idx_for_frame(frame_idx, n_frames_per_side, shift)\n",
      "7.336695671081543 : df_subtracted_frame = get_df_voxel_subtracted_frame(list_df_voxel_scene, frame_idx, n_frames_per_side, shift)\n",
      "1.2809550762176514 : df_frame_orig['voxel_id'] =  df_frame_orig.apply(lambda x: point_to_voxel(x, voxel_size), axis=1)\n",
      "0.0019826889038085938 : df_labels = df_frame_orig.voxel_id.isin(df_subtracted_frame.voxel_id)\n",
      "(3112, 5)\n",
      "0.1575777530670166 : df_frame_orig_subtracted = df_frame_orig[df_labels]\n",
      "(8164, 5)\n",
      "file_labels: voxelling_output/submission_files/vid_1_pred_lee/0000349_labels.csv\n",
      "0.08676815032958984 : df_labels.to_csv(pickles_path+\"df_labels__frame_%d__%s__voxel_size_%d.p\"%(frame_idx, vid, voxel_size))\n",
      "8164\n",
      "0.06083369255065918 : save_frame_for_movie(df_frame_orig_subtracted, \"tmp_only_labeled/\", all_files, frame_idx)\n"
     ]
    },
    {
     "name": "stderr",
     "output_type": "stream",
     "text": [
      "\r",
      " 38%|███████████████████████████████████████████████████████████▊                                                                                                  | 335/885 [41:16<1:07:45,  7.39s/it]"
     ]
    },
    {
     "name": "stdout",
     "output_type": "stream",
     "text": [
      "=========================================================================\n",
      "frame_idx = 350\n",
      "=========================================================================\n",
      "0.0 : list_idx = get_list_idx_for_frame(frame_idx, n_frames_per_side, shift)\n",
      "7.508309841156006 : df_subtracted_frame = get_df_voxel_subtracted_frame(list_df_voxel_scene, frame_idx, n_frames_per_side, shift)\n",
      "1.4102349281311035 : df_frame_orig['voxel_id'] =  df_frame_orig.apply(lambda x: point_to_voxel(x, voxel_size), axis=1)\n",
      "0.001996278762817383 : df_labels = df_frame_orig.voxel_id.isin(df_subtracted_frame.voxel_id)\n",
      "(3021, 5)\n",
      "0.1795210838317871 : df_frame_orig_subtracted = df_frame_orig[df_labels]\n",
      "(8840, 5)\n",
      "file_labels: voxelling_output/submission_files/vid_1_pred_lee/0000350_labels.csv\n",
      "0.0967404842376709 : df_labels.to_csv(pickles_path+\"df_labels__frame_%d__%s__voxel_size_%d.p\"%(frame_idx, vid, voxel_size))\n",
      "8840\n",
      "0.07679486274719238 : save_frame_for_movie(df_frame_orig_subtracted, \"tmp_only_labeled/\", all_files, frame_idx)\n"
     ]
    },
    {
     "name": "stderr",
     "output_type": "stream",
     "text": [
      "\r",
      " 38%|███████████████████████████████████████████████████████████▉                                                                                                  | 336/885 [41:25<1:07:40,  7.40s/it]"
     ]
    },
    {
     "name": "stdout",
     "output_type": "stream",
     "text": [
      "=========================================================================\n",
      "frame_idx = 351\n",
      "=========================================================================\n",
      "0.0 : list_idx = get_list_idx_for_frame(frame_idx, n_frames_per_side, shift)\n",
      "7.392990350723267 : df_subtracted_frame = get_df_voxel_subtracted_frame(list_df_voxel_scene, frame_idx, n_frames_per_side, shift)\n",
      "1.2676353454589844 : df_frame_orig['voxel_id'] =  df_frame_orig.apply(lambda x: point_to_voxel(x, voxel_size), axis=1)\n",
      "0.001994609832763672 : df_labels = df_frame_orig.voxel_id.isin(df_subtracted_frame.voxel_id)\n",
      "(2881, 5)\n",
      "0.159590482711792 : df_frame_orig_subtracted = df_frame_orig[df_labels]\n",
      "(9026, 5)\n",
      "file_labels: voxelling_output/submission_files/vid_1_pred_lee/0000351_labels.csv\n",
      "0.10073137283325195 : df_labels.to_csv(pickles_path+\"df_labels__frame_%d__%s__voxel_size_%d.p\"%(frame_idx, vid, voxel_size))\n",
      "9026\n",
      "0.07579684257507324 : save_frame_for_movie(df_frame_orig_subtracted, \"tmp_only_labeled/\", all_files, frame_idx)\n"
     ]
    },
    {
     "name": "stderr",
     "output_type": "stream",
     "text": [
      "\r",
      " 38%|████████████████████████████████████████████████████████████▏                                                                                                 | 337/885 [41:34<1:07:36,  7.40s/it]"
     ]
    },
    {
     "name": "stdout",
     "output_type": "stream",
     "text": [
      "=========================================================================\n",
      "frame_idx = 352\n",
      "=========================================================================\n",
      "0.0 : list_idx = get_list_idx_for_frame(frame_idx, n_frames_per_side, shift)\n",
      "7.304414510726929 : df_subtracted_frame = get_df_voxel_subtracted_frame(list_df_voxel_scene, frame_idx, n_frames_per_side, shift)\n",
      "1.22713303565979 : df_frame_orig['voxel_id'] =  df_frame_orig.apply(lambda x: point_to_voxel(x, voxel_size), axis=1)\n",
      "0.0009992122650146484 : df_labels = df_frame_orig.voxel_id.isin(df_subtracted_frame.voxel_id)\n",
      "(2880, 5)\n",
      "0.1466388702392578 : df_frame_orig_subtracted = df_frame_orig[df_labels]\n",
      "(7605, 5)\n",
      "file_labels: voxelling_output/submission_files/vid_1_pred_lee/0000352_labels.csv\n",
      "0.10370707511901855 : df_labels.to_csv(pickles_path+\"df_labels__frame_%d__%s__voxel_size_%d.p\"%(frame_idx, vid, voxel_size))\n",
      "7605\n",
      "0.06881308555603027 : save_frame_for_movie(df_frame_orig_subtracted, \"tmp_only_labeled/\", all_files, frame_idx)\n"
     ]
    },
    {
     "name": "stderr",
     "output_type": "stream",
     "text": [
      "\r",
      " 38%|████████████████████████████████████████████████████████████▎                                                                                                 | 338/885 [41:43<1:07:31,  7.41s/it]"
     ]
    },
    {
     "name": "stdout",
     "output_type": "stream",
     "text": [
      "=========================================================================\n",
      "frame_idx = 353\n",
      "=========================================================================\n",
      "0.000997781753540039 : list_idx = get_list_idx_for_frame(frame_idx, n_frames_per_side, shift)\n",
      "7.313037395477295 : df_subtracted_frame = get_df_voxel_subtracted_frame(list_df_voxel_scene, frame_idx, n_frames_per_side, shift)\n",
      "1.2586324214935303 : df_frame_orig['voxel_id'] =  df_frame_orig.apply(lambda x: point_to_voxel(x, voxel_size), axis=1)\n",
      "0.00299072265625 : df_labels = df_frame_orig.voxel_id.isin(df_subtracted_frame.voxel_id)\n",
      "(2823, 5)\n",
      "0.13761687278747559 : df_frame_orig_subtracted = df_frame_orig[df_labels]\n",
      "(7584, 5)\n",
      "file_labels: voxelling_output/submission_files/vid_1_pred_lee/0000353_labels.csv\n",
      "0.08378148078918457 : df_labels.to_csv(pickles_path+\"df_labels__frame_%d__%s__voxel_size_%d.p\"%(frame_idx, vid, voxel_size))\n",
      "7584\n",
      "0.05688595771789551 : save_frame_for_movie(df_frame_orig_subtracted, \"tmp_only_labeled/\", all_files, frame_idx)\n"
     ]
    },
    {
     "name": "stderr",
     "output_type": "stream",
     "text": [
      "\r",
      " 38%|████████████████████████████████████████████████████████████▌                                                                                                 | 339/885 [41:52<1:07:26,  7.41s/it]"
     ]
    },
    {
     "name": "stdout",
     "output_type": "stream",
     "text": [
      "=========================================================================\n",
      "frame_idx = 354\n",
      "=========================================================================\n",
      "0.0009958744049072266 : list_idx = get_list_idx_for_frame(frame_idx, n_frames_per_side, shift)\n",
      "7.456097841262817 : df_subtracted_frame = get_df_voxel_subtracted_frame(list_df_voxel_scene, frame_idx, n_frames_per_side, shift)\n",
      "1.2337431907653809 : df_frame_orig['voxel_id'] =  df_frame_orig.apply(lambda x: point_to_voxel(x, voxel_size), axis=1)\n",
      "0.001996278762817383 : df_labels = df_frame_orig.voxel_id.isin(df_subtracted_frame.voxel_id)\n",
      "(2826, 5)\n",
      "0.16194868087768555 : df_frame_orig_subtracted = df_frame_orig[df_labels]\n",
      "(8517, 5)\n",
      "file_labels: voxelling_output/submission_files/vid_1_pred_lee/0000354_labels.csv\n",
      "0.09374856948852539 : df_labels.to_csv(pickles_path+\"df_labels__frame_%d__%s__voxel_size_%d.p\"%(frame_idx, vid, voxel_size))\n",
      "8517\n",
      "0.07380175590515137 : save_frame_for_movie(df_frame_orig_subtracted, \"tmp_only_labeled/\", all_files, frame_idx)\n"
     ]
    },
    {
     "name": "stderr",
     "output_type": "stream",
     "text": [
      "\r",
      " 38%|████████████████████████████████████████████████████████████▋                                                                                                 | 340/885 [42:01<1:07:21,  7.42s/it]"
     ]
    },
    {
     "name": "stdout",
     "output_type": "stream",
     "text": [
      "=========================================================================\n",
      "frame_idx = 355\n",
      "=========================================================================\n",
      "0.0 : list_idx = get_list_idx_for_frame(frame_idx, n_frames_per_side, shift)\n",
      "7.6019556522369385 : df_subtracted_frame = get_df_voxel_subtracted_frame(list_df_voxel_scene, frame_idx, n_frames_per_side, shift)\n",
      "1.2586753368377686 : df_frame_orig['voxel_id'] =  df_frame_orig.apply(lambda x: point_to_voxel(x, voxel_size), axis=1)\n",
      "0.001987457275390625 : df_labels = df_frame_orig.voxel_id.isin(df_subtracted_frame.voxel_id)\n",
      "(2951, 5)\n",
      "0.13356375694274902 : df_frame_orig_subtracted = df_frame_orig[df_labels]\n",
      "(10605, 5)\n",
      "file_labels: voxelling_output/submission_files/vid_1_pred_lee/0000355_labels.csv\n",
      "0.08277416229248047 : df_labels.to_csv(pickles_path+\"df_labels__frame_%d__%s__voxel_size_%d.p\"%(frame_idx, vid, voxel_size))\n",
      "10605\n",
      "0.08214640617370605 : save_frame_for_movie(df_frame_orig_subtracted, \"tmp_only_labeled/\", all_files, frame_idx)\n"
     ]
    },
    {
     "name": "stderr",
     "output_type": "stream",
     "text": [
      "\r",
      " 39%|████████████████████████████████████████████████████████████▉                                                                                                 | 341/885 [42:10<1:07:16,  7.42s/it]"
     ]
    },
    {
     "name": "stdout",
     "output_type": "stream",
     "text": [
      "=========================================================================\n",
      "frame_idx = 356\n",
      "=========================================================================\n",
      "0.0 : list_idx = get_list_idx_for_frame(frame_idx, n_frames_per_side, shift)\n",
      "7.563802719116211 : df_subtracted_frame = get_df_voxel_subtracted_frame(list_df_voxel_scene, frame_idx, n_frames_per_side, shift)\n",
      "1.2407152652740479 : df_frame_orig['voxel_id'] =  df_frame_orig.apply(lambda x: point_to_voxel(x, voxel_size), axis=1)\n",
      "0.0019974708557128906 : df_labels = df_frame_orig.voxel_id.isin(df_subtracted_frame.voxel_id)\n",
      "(2870, 5)\n",
      "0.13802218437194824 : df_frame_orig_subtracted = df_frame_orig[df_labels]\n",
      "(8519, 5)\n",
      "file_labels: voxelling_output/submission_files/vid_1_pred_lee/0000356_labels.csv\n",
      "0.08572149276733398 : df_labels.to_csv(pickles_path+\"df_labels__frame_%d__%s__voxel_size_%d.p\"%(frame_idx, vid, voxel_size))\n",
      "8519\n",
      "0.07280492782592773 : save_frame_for_movie(df_frame_orig_subtracted, \"tmp_only_labeled/\", all_files, frame_idx)\n"
     ]
    },
    {
     "name": "stderr",
     "output_type": "stream",
     "text": [
      "\r",
      " 39%|█████████████████████████████████████████████████████████████                                                                                                 | 342/885 [42:19<1:07:11,  7.43s/it]"
     ]
    },
    {
     "name": "stdout",
     "output_type": "stream",
     "text": [
      "=========================================================================\n",
      "frame_idx = 357\n",
      "=========================================================================\n",
      "0.0 : list_idx = get_list_idx_for_frame(frame_idx, n_frames_per_side, shift)\n",
      "7.650584697723389 : df_subtracted_frame = get_df_voxel_subtracted_frame(list_df_voxel_scene, frame_idx, n_frames_per_side, shift)\n",
      "1.258634328842163 : df_frame_orig['voxel_id'] =  df_frame_orig.apply(lambda x: point_to_voxel(x, voxel_size), axis=1)\n",
      "0.0009984970092773438 : df_labels = df_frame_orig.voxel_id.isin(df_subtracted_frame.voxel_id)\n",
      "(3141, 5)\n",
      "0.13766169548034668 : df_frame_orig_subtracted = df_frame_orig[df_labels]\n",
      "(11328, 5)\n",
      "file_labels: voxelling_output/submission_files/vid_1_pred_lee/0000357_labels.csv\n",
      "0.08676815032958984 : df_labels.to_csv(pickles_path+\"df_labels__frame_%d__%s__voxel_size_%d.p\"%(frame_idx, vid, voxel_size))\n",
      "11328\n",
      "0.09175372123718262 : save_frame_for_movie(df_frame_orig_subtracted, \"tmp_only_labeled/\", all_files, frame_idx)\n"
     ]
    },
    {
     "name": "stderr",
     "output_type": "stream",
     "text": [
      "\r",
      " 39%|█████████████████████████████████████████████████████████████▏                                                                                                | 343/885 [42:28<1:07:07,  7.43s/it]"
     ]
    },
    {
     "name": "stdout",
     "output_type": "stream",
     "text": [
      "=========================================================================\n",
      "frame_idx = 358\n",
      "=========================================================================\n",
      "0.0010018348693847656 : list_idx = get_list_idx_for_frame(frame_idx, n_frames_per_side, shift)\n",
      "7.324444770812988 : df_subtracted_frame = get_df_voxel_subtracted_frame(list_df_voxel_scene, frame_idx, n_frames_per_side, shift)\n",
      "1.2158617973327637 : df_frame_orig['voxel_id'] =  df_frame_orig.apply(lambda x: point_to_voxel(x, voxel_size), axis=1)\n",
      "0.001995563507080078 : df_labels = df_frame_orig.voxel_id.isin(df_subtracted_frame.voxel_id)\n",
      "(3049, 5)\n",
      "0.14762425422668457 : df_frame_orig_subtracted = df_frame_orig[df_labels]\n",
      "(7955, 5)\n",
      "file_labels: voxelling_output/submission_files/vid_1_pred_lee/0000358_labels.csv\n",
      "0.08577108383178711 : df_labels.to_csv(pickles_path+\"df_labels__frame_%d__%s__voxel_size_%d.p\"%(frame_idx, vid, voxel_size))\n",
      "7955\n",
      "0.06981372833251953 : save_frame_for_movie(df_frame_orig_subtracted, \"tmp_only_labeled/\", all_files, frame_idx)\n"
     ]
    },
    {
     "name": "stderr",
     "output_type": "stream",
     "text": [
      "\r",
      " 39%|█████████████████████████████████████████████████████████████▍                                                                                                | 344/885 [42:37<1:07:02,  7.43s/it]"
     ]
    },
    {
     "name": "stdout",
     "output_type": "stream",
     "text": [
      "=========================================================================\n",
      "frame_idx = 359\n",
      "=========================================================================\n",
      "0.0 : list_idx = get_list_idx_for_frame(frame_idx, n_frames_per_side, shift)\n",
      "7.542834281921387 : df_subtracted_frame = get_df_voxel_subtracted_frame(list_df_voxel_scene, frame_idx, n_frames_per_side, shift)\n",
      "1.2566380500793457 : df_frame_orig['voxel_id'] =  df_frame_orig.apply(lambda x: point_to_voxel(x, voxel_size), axis=1)\n",
      "0.0009903907775878906 : df_labels = df_frame_orig.voxel_id.isin(df_subtracted_frame.voxel_id)\n",
      "(3133, 5)\n",
      "0.14261603355407715 : df_frame_orig_subtracted = df_frame_orig[df_labels]\n",
      "(7928, 5)\n",
      "file_labels: voxelling_output/submission_files/vid_1_pred_lee/0000359_labels.csv\n",
      "0.07978701591491699 : df_labels.to_csv(pickles_path+\"df_labels__frame_%d__%s__voxel_size_%d.p\"%(frame_idx, vid, voxel_size))\n",
      "7928\n",
      "0.0608372688293457 : save_frame_for_movie(df_frame_orig_subtracted, \"tmp_only_labeled/\", all_files, frame_idx)\n"
     ]
    },
    {
     "name": "stderr",
     "output_type": "stream",
     "text": [
      "\r",
      " 39%|█████████████████████████████████████████████████████████████▌                                                                                                | 345/885 [42:46<1:06:57,  7.44s/it]"
     ]
    },
    {
     "name": "stdout",
     "output_type": "stream",
     "text": [
      "=========================================================================\n",
      "frame_idx = 360\n",
      "=========================================================================\n",
      "0.0 : list_idx = get_list_idx_for_frame(frame_idx, n_frames_per_side, shift)\n",
      "7.517210245132446 : df_subtracted_frame = get_df_voxel_subtracted_frame(list_df_voxel_scene, frame_idx, n_frames_per_side, shift)\n",
      "1.3384499549865723 : df_frame_orig['voxel_id'] =  df_frame_orig.apply(lambda x: point_to_voxel(x, voxel_size), axis=1)\n",
      "0.000997304916381836 : df_labels = df_frame_orig.voxel_id.isin(df_subtracted_frame.voxel_id)\n",
      "(3171, 5)\n",
      "0.14564800262451172 : df_frame_orig_subtracted = df_frame_orig[df_labels]\n",
      "(10289, 5)\n",
      "file_labels: voxelling_output/submission_files/vid_1_pred_lee/0000360_labels.csv\n",
      "0.0857701301574707 : df_labels.to_csv(pickles_path+\"df_labels__frame_%d__%s__voxel_size_%d.p\"%(frame_idx, vid, voxel_size))\n",
      "10289\n",
      "0.07779216766357422 : save_frame_for_movie(df_frame_orig_subtracted, \"tmp_only_labeled/\", all_files, frame_idx)\n"
     ]
    },
    {
     "name": "stderr",
     "output_type": "stream",
     "text": [
      "\r",
      " 39%|█████████████████████████████████████████████████████████████▊                                                                                                | 346/885 [42:55<1:06:52,  7.44s/it]"
     ]
    },
    {
     "name": "stdout",
     "output_type": "stream",
     "text": [
      "=========================================================================\n",
      "frame_idx = 361\n",
      "=========================================================================\n",
      "0.0009987354278564453 : list_idx = get_list_idx_for_frame(frame_idx, n_frames_per_side, shift)\n",
      "7.473386287689209 : df_subtracted_frame = get_df_voxel_subtracted_frame(list_df_voxel_scene, frame_idx, n_frames_per_side, shift)\n",
      "1.2237656116485596 : df_frame_orig['voxel_id'] =  df_frame_orig.apply(lambda x: point_to_voxel(x, voxel_size), axis=1)\n",
      "0.0009980201721191406 : df_labels = df_frame_orig.voxel_id.isin(df_subtracted_frame.voxel_id)\n",
      "(3092, 5)\n",
      "0.1585700511932373 : df_frame_orig_subtracted = df_frame_orig[df_labels]\n",
      "(8073, 5)\n",
      "file_labels: voxelling_output/submission_files/vid_1_pred_lee/0000361_labels.csv\n",
      "0.09474444389343262 : df_labels.to_csv(pickles_path+\"df_labels__frame_%d__%s__voxel_size_%d.p\"%(frame_idx, vid, voxel_size))\n",
      "8073\n",
      "0.06482577323913574 : save_frame_for_movie(df_frame_orig_subtracted, \"tmp_only_labeled/\", all_files, frame_idx)\n"
     ]
    },
    {
     "name": "stderr",
     "output_type": "stream",
     "text": [
      "\r",
      " 39%|█████████████████████████████████████████████████████████████▉                                                                                                | 347/885 [43:04<1:06:47,  7.45s/it]"
     ]
    },
    {
     "name": "stdout",
     "output_type": "stream",
     "text": [
      "=========================================================================\n",
      "frame_idx = 362\n",
      "=========================================================================\n",
      "0.0 : list_idx = get_list_idx_for_frame(frame_idx, n_frames_per_side, shift)\n",
      "7.316464185714722 : df_subtracted_frame = get_df_voxel_subtracted_frame(list_df_voxel_scene, frame_idx, n_frames_per_side, shift)\n",
      "1.4666543006896973 : df_frame_orig['voxel_id'] =  df_frame_orig.apply(lambda x: point_to_voxel(x, voxel_size), axis=1)\n",
      "0.0009970664978027344 : df_labels = df_frame_orig.voxel_id.isin(df_subtracted_frame.voxel_id)\n",
      "(3151, 5)\n",
      "0.14161944389343262 : df_frame_orig_subtracted = df_frame_orig[df_labels]\n",
      "(8068, 5)\n",
      "file_labels: voxelling_output/submission_files/vid_1_pred_lee/0000362_labels.csv\n",
      "0.07978534698486328 : df_labels.to_csv(pickles_path+\"df_labels__frame_%d__%s__voxel_size_%d.p\"%(frame_idx, vid, voxel_size))\n",
      "8068\n",
      "0.0608367919921875 : save_frame_for_movie(df_frame_orig_subtracted, \"tmp_only_labeled/\", all_files, frame_idx)\n"
     ]
    },
    {
     "name": "stderr",
     "output_type": "stream",
     "text": [
      "\r",
      " 39%|██████████████████████████████████████████████████████████████▏                                                                                               | 348/885 [43:14<1:06:42,  7.45s/it]"
     ]
    },
    {
     "name": "stdout",
     "output_type": "stream",
     "text": [
      "=========================================================================\n",
      "frame_idx = 363\n",
      "=========================================================================\n",
      "0.0009846687316894531 : list_idx = get_list_idx_for_frame(frame_idx, n_frames_per_side, shift)\n",
      "7.441640138626099 : df_subtracted_frame = get_df_voxel_subtracted_frame(list_df_voxel_scene, frame_idx, n_frames_per_side, shift)\n",
      "1.2017509937286377 : df_frame_orig['voxel_id'] =  df_frame_orig.apply(lambda x: point_to_voxel(x, voxel_size), axis=1)\n",
      "0.0009992122650146484 : df_labels = df_frame_orig.voxel_id.isin(df_subtracted_frame.voxel_id)\n",
      "(3083, 5)\n",
      "0.15958690643310547 : df_frame_orig_subtracted = df_frame_orig[df_labels]\n",
      "(8157, 5)\n",
      "file_labels: voxelling_output/submission_files/vid_1_pred_lee/0000363_labels.csv\n",
      "0.0967404842376709 : df_labels.to_csv(pickles_path+\"df_labels__frame_%d__%s__voxel_size_%d.p\"%(frame_idx, vid, voxel_size))\n",
      "8157\n",
      "0.0787813663482666 : save_frame_for_movie(df_frame_orig_subtracted, \"tmp_only_labeled/\", all_files, frame_idx)\n"
     ]
    },
    {
     "name": "stderr",
     "output_type": "stream",
     "text": [
      "\r",
      " 39%|██████████████████████████████████████████████████████████████▎                                                                                               | 349/885 [43:23<1:06:37,  7.46s/it]"
     ]
    },
    {
     "name": "stdout",
     "output_type": "stream",
     "text": [
      "=========================================================================\n",
      "frame_idx = 364\n",
      "=========================================================================\n",
      "0.0 : list_idx = get_list_idx_for_frame(frame_idx, n_frames_per_side, shift)\n",
      "7.692607402801514 : df_subtracted_frame = get_df_voxel_subtracted_frame(list_df_voxel_scene, frame_idx, n_frames_per_side, shift)\n",
      "1.2446706295013428 : df_frame_orig['voxel_id'] =  df_frame_orig.apply(lambda x: point_to_voxel(x, voxel_size), axis=1)\n",
      "0.0009946823120117188 : df_labels = df_frame_orig.voxel_id.isin(df_subtracted_frame.voxel_id)\n",
      "(3050, 5)\n",
      "0.1486365795135498 : df_frame_orig_subtracted = df_frame_orig[df_labels]\n",
      "(8177, 5)\n",
      "file_labels: voxelling_output/submission_files/vid_1_pred_lee/0000364_labels.csv\n",
      "0.08377695083618164 : df_labels.to_csv(pickles_path+\"df_labels__frame_%d__%s__voxel_size_%d.p\"%(frame_idx, vid, voxel_size))\n",
      "8177\n",
      "0.08178043365478516 : save_frame_for_movie(df_frame_orig_subtracted, \"tmp_only_labeled/\", all_files, frame_idx)\n"
     ]
    },
    {
     "name": "stderr",
     "output_type": "stream",
     "text": [
      "\r",
      " 40%|██████████████████████████████████████████████████████████████▍                                                                                               | 350/885 [43:32<1:06:33,  7.46s/it]"
     ]
    },
    {
     "name": "stdout",
     "output_type": "stream",
     "text": [
      "=========================================================================\n",
      "frame_idx = 365\n",
      "=========================================================================\n",
      "0.0 : list_idx = get_list_idx_for_frame(frame_idx, n_frames_per_side, shift)\n",
      "7.808192729949951 : df_subtracted_frame = get_df_voxel_subtracted_frame(list_df_voxel_scene, frame_idx, n_frames_per_side, shift)\n",
      "1.4232254028320312 : df_frame_orig['voxel_id'] =  df_frame_orig.apply(lambda x: point_to_voxel(x, voxel_size), axis=1)\n",
      "0.0009968280792236328 : df_labels = df_frame_orig.voxel_id.isin(df_subtracted_frame.voxel_id)\n",
      "(2982, 5)\n",
      "0.1545870304107666 : df_frame_orig_subtracted = df_frame_orig[df_labels]\n",
      "(8205, 5)\n",
      "file_labels: voxelling_output/submission_files/vid_1_pred_lee/0000365_labels.csv\n",
      "0.09574294090270996 : df_labels.to_csv(pickles_path+\"df_labels__frame_%d__%s__voxel_size_%d.p\"%(frame_idx, vid, voxel_size))\n",
      "8205\n",
      "0.06980514526367188 : save_frame_for_movie(df_frame_orig_subtracted, \"tmp_only_labeled/\", all_files, frame_idx)\n"
     ]
    },
    {
     "name": "stderr",
     "output_type": "stream",
     "text": [
      "\r",
      " 40%|██████████████████████████████████████████████████████████████▋                                                                                               | 351/885 [43:41<1:06:28,  7.47s/it]"
     ]
    },
    {
     "name": "stdout",
     "output_type": "stream",
     "text": [
      "=========================================================================\n",
      "frame_idx = 366\n",
      "=========================================================================\n",
      "0.0 : list_idx = get_list_idx_for_frame(frame_idx, n_frames_per_side, shift)\n",
      "7.685299873352051 : df_subtracted_frame = get_df_voxel_subtracted_frame(list_df_voxel_scene, frame_idx, n_frames_per_side, shift)\n",
      "1.360403060913086 : df_frame_orig['voxel_id'] =  df_frame_orig.apply(lambda x: point_to_voxel(x, voxel_size), axis=1)\n",
      "0.001995086669921875 : df_labels = df_frame_orig.voxel_id.isin(df_subtracted_frame.voxel_id)\n",
      "(2944, 5)\n",
      "0.20544219017028809 : df_frame_orig_subtracted = df_frame_orig[df_labels]\n",
      "(8177, 5)\n",
      "file_labels: voxelling_output/submission_files/vid_1_pred_lee/0000366_labels.csv\n",
      "0.10372209548950195 : df_labels.to_csv(pickles_path+\"df_labels__frame_%d__%s__voxel_size_%d.p\"%(frame_idx, vid, voxel_size))\n",
      "8177\n",
      "0.07779121398925781 : save_frame_for_movie(df_frame_orig_subtracted, \"tmp_only_labeled/\", all_files, frame_idx)\n"
     ]
    },
    {
     "name": "stderr",
     "output_type": "stream",
     "text": [
      "\r",
      " 40%|██████████████████████████████████████████████████████████████▊                                                                                               | 352/885 [43:51<1:06:24,  7.48s/it]"
     ]
    },
    {
     "name": "stdout",
     "output_type": "stream",
     "text": [
      "=========================================================================\n",
      "frame_idx = 367\n",
      "=========================================================================\n",
      "0.0 : list_idx = get_list_idx_for_frame(frame_idx, n_frames_per_side, shift)\n",
      "7.680458068847656 : df_subtracted_frame = get_df_voxel_subtracted_frame(list_df_voxel_scene, frame_idx, n_frames_per_side, shift)\n",
      "1.2746129035949707 : df_frame_orig['voxel_id'] =  df_frame_orig.apply(lambda x: point_to_voxel(x, voxel_size), axis=1)\n",
      "0.0009949207305908203 : df_labels = df_frame_orig.voxel_id.isin(df_subtracted_frame.voxel_id)\n",
      "(3013, 5)\n",
      "0.15362906455993652 : df_frame_orig_subtracted = df_frame_orig[df_labels]\n",
      "(8505, 5)\n",
      "file_labels: voxelling_output/submission_files/vid_1_pred_lee/0000367_labels.csv\n",
      "0.09474587440490723 : df_labels.to_csv(pickles_path+\"df_labels__frame_%d__%s__voxel_size_%d.p\"%(frame_idx, vid, voxel_size))\n",
      "8505\n",
      "0.0718069076538086 : save_frame_for_movie(df_frame_orig_subtracted, \"tmp_only_labeled/\", all_files, frame_idx)\n"
     ]
    },
    {
     "name": "stderr",
     "output_type": "stream",
     "text": [
      "\r",
      " 40%|███████████████████████████████████████████████████████████████                                                                                               | 353/885 [44:00<1:06:19,  7.48s/it]"
     ]
    },
    {
     "name": "stdout",
     "output_type": "stream",
     "text": [
      "=========================================================================\n",
      "frame_idx = 368\n",
      "=========================================================================\n",
      "0.0 : list_idx = get_list_idx_for_frame(frame_idx, n_frames_per_side, shift)\n",
      "7.733315944671631 : df_subtracted_frame = get_df_voxel_subtracted_frame(list_df_voxel_scene, frame_idx, n_frames_per_side, shift)\n",
      "1.321458339691162 : df_frame_orig['voxel_id'] =  df_frame_orig.apply(lambda x: point_to_voxel(x, voxel_size), axis=1)\n",
      "0.0019941329956054688 : df_labels = df_frame_orig.voxel_id.isin(df_subtracted_frame.voxel_id)\n",
      "(2971, 5)\n",
      "0.1605691909790039 : df_frame_orig_subtracted = df_frame_orig[df_labels]\n",
      "(8424, 5)\n",
      "file_labels: voxelling_output/submission_files/vid_1_pred_lee/0000368_labels.csv\n",
      "0.08876180648803711 : df_labels.to_csv(pickles_path+\"df_labels__frame_%d__%s__voxel_size_%d.p\"%(frame_idx, vid, voxel_size))\n",
      "8424\n",
      "0.0688326358795166 : save_frame_for_movie(df_frame_orig_subtracted, \"tmp_only_labeled/\", all_files, frame_idx)\n"
     ]
    },
    {
     "name": "stderr",
     "output_type": "stream",
     "text": [
      "\r",
      " 40%|███████████████████████████████████████████████████████████████▏                                                                                              | 354/885 [44:10<1:06:15,  7.49s/it]"
     ]
    },
    {
     "name": "stdout",
     "output_type": "stream",
     "text": [
      "=========================================================================\n",
      "frame_idx = 369\n",
      "=========================================================================\n",
      "0.0 : list_idx = get_list_idx_for_frame(frame_idx, n_frames_per_side, shift)\n",
      "7.797145128250122 : df_subtracted_frame = get_df_voxel_subtracted_frame(list_df_voxel_scene, frame_idx, n_frames_per_side, shift)\n",
      "1.3763203620910645 : df_frame_orig['voxel_id'] =  df_frame_orig.apply(lambda x: point_to_voxel(x, voxel_size), axis=1)\n",
      "0.0019807815551757812 : df_labels = df_frame_orig.voxel_id.isin(df_subtracted_frame.voxel_id)\n",
      "(2923, 5)\n",
      "0.1546187400817871 : df_frame_orig_subtracted = df_frame_orig[df_labels]\n",
      "(7640, 5)\n",
      "file_labels: voxelling_output/submission_files/vid_1_pred_lee/0000369_labels.csv\n",
      "0.09174132347106934 : df_labels.to_csv(pickles_path+\"df_labels__frame_%d__%s__voxel_size_%d.p\"%(frame_idx, vid, voxel_size))\n",
      "7640\n",
      "0.06183338165283203 : save_frame_for_movie(df_frame_orig_subtracted, \"tmp_only_labeled/\", all_files, frame_idx)\n"
     ]
    },
    {
     "name": "stderr",
     "output_type": "stream",
     "text": [
      "\r",
      " 40%|███████████████████████████████████████████████████████████████▍                                                                                              | 355/885 [44:19<1:06:10,  7.49s/it]"
     ]
    },
    {
     "name": "stdout",
     "output_type": "stream",
     "text": [
      "=========================================================================\n",
      "frame_idx = 370\n",
      "=========================================================================\n",
      "0.0 : list_idx = get_list_idx_for_frame(frame_idx, n_frames_per_side, shift)\n",
      "7.767239809036255 : df_subtracted_frame = get_df_voxel_subtracted_frame(list_df_voxel_scene, frame_idx, n_frames_per_side, shift)\n",
      "1.279576063156128 : df_frame_orig['voxel_id'] =  df_frame_orig.apply(lambda x: point_to_voxel(x, voxel_size), axis=1)\n",
      "0.001995086669921875 : df_labels = df_frame_orig.voxel_id.isin(df_subtracted_frame.voxel_id)\n",
      "(2917, 5)\n",
      "0.15359020233154297 : df_frame_orig_subtracted = df_frame_orig[df_labels]\n",
      "(7410, 5)\n",
      "file_labels: voxelling_output/submission_files/vid_1_pred_lee/0000370_labels.csv\n",
      "0.09275341033935547 : df_labels.to_csv(pickles_path+\"df_labels__frame_%d__%s__voxel_size_%d.p\"%(frame_idx, vid, voxel_size))\n",
      "7410\n",
      "0.06282973289489746 : save_frame_for_movie(df_frame_orig_subtracted, \"tmp_only_labeled/\", all_files, frame_idx)\n"
     ]
    },
    {
     "name": "stderr",
     "output_type": "stream",
     "text": [
      "\r",
      " 40%|███████████████████████████████████████████████████████████████▌                                                                                              | 356/885 [44:28<1:06:05,  7.50s/it]"
     ]
    },
    {
     "name": "stdout",
     "output_type": "stream",
     "text": [
      "=========================================================================\n",
      "frame_idx = 371\n",
      "=========================================================================\n",
      "0.0 : list_idx = get_list_idx_for_frame(frame_idx, n_frames_per_side, shift)\n",
      "7.697411775588989 : df_subtracted_frame = get_df_voxel_subtracted_frame(list_df_voxel_scene, frame_idx, n_frames_per_side, shift)\n",
      "1.2895839214324951 : df_frame_orig['voxel_id'] =  df_frame_orig.apply(lambda x: point_to_voxel(x, voxel_size), axis=1)\n",
      "0.0009987354278564453 : df_labels = df_frame_orig.voxel_id.isin(df_subtracted_frame.voxel_id)\n",
      "(2942, 5)\n",
      "0.13466238975524902 : df_frame_orig_subtracted = df_frame_orig[df_labels]\n",
      "(6908, 5)\n",
      "file_labels: voxelling_output/submission_files/vid_1_pred_lee/0000371_labels.csv\n",
      "0.08377504348754883 : df_labels.to_csv(pickles_path+\"df_labels__frame_%d__%s__voxel_size_%d.p\"%(frame_idx, vid, voxel_size))\n",
      "6908\n",
      "0.059873104095458984 : save_frame_for_movie(df_frame_orig_subtracted, \"tmp_only_labeled/\", all_files, frame_idx)\n"
     ]
    },
    {
     "name": "stderr",
     "output_type": "stream",
     "text": [
      "\r",
      " 40%|███████████████████████████████████████████████████████████████▋                                                                                              | 357/885 [44:38<1:06:01,  7.50s/it]"
     ]
    },
    {
     "name": "stdout",
     "output_type": "stream",
     "text": [
      "=========================================================================\n",
      "frame_idx = 372\n",
      "=========================================================================\n",
      "0.0 : list_idx = get_list_idx_for_frame(frame_idx, n_frames_per_side, shift)\n",
      "7.963948488235474 : df_subtracted_frame = get_df_voxel_subtracted_frame(list_df_voxel_scene, frame_idx, n_frames_per_side, shift)\n",
      "1.3874340057373047 : df_frame_orig['voxel_id'] =  df_frame_orig.apply(lambda x: point_to_voxel(x, voxel_size), axis=1)\n",
      "0.0019865036010742188 : df_labels = df_frame_orig.voxel_id.isin(df_subtracted_frame.voxel_id)\n",
      "(2949, 5)\n",
      "0.13718819618225098 : df_frame_orig_subtracted = df_frame_orig[df_labels]\n",
      "(5691, 5)\n",
      "file_labels: voxelling_output/submission_files/vid_1_pred_lee/0000372_labels.csv\n",
      "0.0827789306640625 : df_labels.to_csv(pickles_path+\"df_labels__frame_%d__%s__voxel_size_%d.p\"%(frame_idx, vid, voxel_size))\n",
      "5691\n",
      "0.06085777282714844 : save_frame_for_movie(df_frame_orig_subtracted, \"tmp_only_labeled/\", all_files, frame_idx)\n"
     ]
    },
    {
     "name": "stderr",
     "output_type": "stream",
     "text": [
      "\r",
      " 40%|███████████████████████████████████████████████████████████████▉                                                                                              | 358/885 [44:47<1:05:56,  7.51s/it]"
     ]
    },
    {
     "name": "stdout",
     "output_type": "stream",
     "text": [
      "=========================================================================\n",
      "frame_idx = 373\n",
      "=========================================================================\n",
      "0.0 : list_idx = get_list_idx_for_frame(frame_idx, n_frames_per_side, shift)\n",
      "8.112473726272583 : df_subtracted_frame = get_df_voxel_subtracted_frame(list_df_voxel_scene, frame_idx, n_frames_per_side, shift)\n",
      "1.359769344329834 : df_frame_orig['voxel_id'] =  df_frame_orig.apply(lambda x: point_to_voxel(x, voxel_size), axis=1)\n",
      "0.0009975433349609375 : df_labels = df_frame_orig.voxel_id.isin(df_subtracted_frame.voxel_id)\n",
      "(2979, 5)\n",
      "0.14078426361083984 : df_frame_orig_subtracted = df_frame_orig[df_labels]\n",
      "(5424, 5)\n",
      "file_labels: voxelling_output/submission_files/vid_1_pred_lee/0000373_labels.csv\n",
      "0.08432412147521973 : df_labels.to_csv(pickles_path+\"df_labels__frame_%d__%s__voxel_size_%d.p\"%(frame_idx, vid, voxel_size))\n",
      "5424\n",
      "0.04591703414916992 : save_frame_for_movie(df_frame_orig_subtracted, \"tmp_only_labeled/\", all_files, frame_idx)\n"
     ]
    },
    {
     "name": "stderr",
     "output_type": "stream",
     "text": [
      "\r",
      " 41%|████████████████████████████████████████████████████████████████                                                                                              | 359/885 [44:57<1:05:52,  7.51s/it]"
     ]
    },
    {
     "name": "stdout",
     "output_type": "stream",
     "text": [
      "=========================================================================\n",
      "frame_idx = 374\n",
      "=========================================================================\n",
      "0.0 : list_idx = get_list_idx_for_frame(frame_idx, n_frames_per_side, shift)\n",
      "7.7538251876831055 : df_subtracted_frame = get_df_voxel_subtracted_frame(list_df_voxel_scene, frame_idx, n_frames_per_side, shift)\n",
      "1.368377685546875 : df_frame_orig['voxel_id'] =  df_frame_orig.apply(lambda x: point_to_voxel(x, voxel_size), axis=1)\n",
      "0.0009963512420654297 : df_labels = df_frame_orig.voxel_id.isin(df_subtracted_frame.voxel_id)\n",
      "(3035, 5)\n",
      "0.15387964248657227 : df_frame_orig_subtracted = df_frame_orig[df_labels]\n",
      "(5489, 5)\n",
      "file_labels: voxelling_output/submission_files/vid_1_pred_lee/0000374_labels.csv\n",
      "0.08277630805969238 : df_labels.to_csv(pickles_path+\"df_labels__frame_%d__%s__voxel_size_%d.p\"%(frame_idx, vid, voxel_size))\n",
      "5489\n",
      "0.042923927307128906 : save_frame_for_movie(df_frame_orig_subtracted, \"tmp_only_labeled/\", all_files, frame_idx)\n"
     ]
    },
    {
     "name": "stderr",
     "output_type": "stream",
     "text": [
      "\r",
      " 41%|████████████████████████████████████████████████████████████████▎                                                                                             | 360/885 [45:07<1:05:47,  7.52s/it]"
     ]
    },
    {
     "name": "stdout",
     "output_type": "stream",
     "text": [
      "=========================================================================\n",
      "frame_idx = 375\n",
      "=========================================================================\n",
      "0.0 : list_idx = get_list_idx_for_frame(frame_idx, n_frames_per_side, shift)\n",
      "8.246052503585815 : df_subtracted_frame = get_df_voxel_subtracted_frame(list_df_voxel_scene, frame_idx, n_frames_per_side, shift)\n",
      "1.4644463062286377 : df_frame_orig['voxel_id'] =  df_frame_orig.apply(lambda x: point_to_voxel(x, voxel_size), axis=1)\n",
      "0.0009961128234863281 : df_labels = df_frame_orig.voxel_id.isin(df_subtracted_frame.voxel_id)\n",
      "(2868, 5)\n",
      "0.15558362007141113 : df_frame_orig_subtracted = df_frame_orig[df_labels]\n",
      "(5568, 5)\n",
      "file_labels: voxelling_output/submission_files/vid_1_pred_lee/0000375_labels.csv\n",
      "0.08975934982299805 : df_labels.to_csv(pickles_path+\"df_labels__frame_%d__%s__voxel_size_%d.p\"%(frame_idx, vid, voxel_size))\n",
      "5568\n",
      "0.052855730056762695 : save_frame_for_movie(df_frame_orig_subtracted, \"tmp_only_labeled/\", all_files, frame_idx)\n"
     ]
    },
    {
     "name": "stderr",
     "output_type": "stream",
     "text": [
      "\r",
      " 41%|████████████████████████████████████████████████████████████████▍                                                                                             | 361/885 [45:17<1:05:44,  7.53s/it]"
     ]
    },
    {
     "name": "stdout",
     "output_type": "stream",
     "text": [
      "=========================================================================\n",
      "frame_idx = 376\n",
      "=========================================================================\n",
      "0.0009922981262207031 : list_idx = get_list_idx_for_frame(frame_idx, n_frames_per_side, shift)\n",
      "8.043238878250122 : df_subtracted_frame = get_df_voxel_subtracted_frame(list_df_voxel_scene, frame_idx, n_frames_per_side, shift)\n",
      "1.3135197162628174 : df_frame_orig['voxel_id'] =  df_frame_orig.apply(lambda x: point_to_voxel(x, voxel_size), axis=1)\n",
      "0.0009970664978027344 : df_labels = df_frame_orig.voxel_id.isin(df_subtracted_frame.voxel_id)\n",
      "(2906, 5)\n",
      "0.14461326599121094 : df_frame_orig_subtracted = df_frame_orig[df_labels]\n",
      "(5672, 5)\n",
      "file_labels: voxelling_output/submission_files/vid_1_pred_lee/0000376_labels.csv\n",
      "0.08575940132141113 : df_labels.to_csv(pickles_path+\"df_labels__frame_%d__%s__voxel_size_%d.p\"%(frame_idx, vid, voxel_size))\n",
      "5672\n",
      "0.04986691474914551 : save_frame_for_movie(df_frame_orig_subtracted, \"tmp_only_labeled/\", all_files, frame_idx)\n"
     ]
    },
    {
     "name": "stderr",
     "output_type": "stream",
     "text": [
      "\r",
      " 41%|████████████████████████████████████████████████████████████████▋                                                                                             | 362/885 [45:26<1:05:39,  7.53s/it]"
     ]
    },
    {
     "name": "stdout",
     "output_type": "stream",
     "text": [
      "=========================================================================\n",
      "frame_idx = 377\n",
      "=========================================================================\n",
      "0.0 : list_idx = get_list_idx_for_frame(frame_idx, n_frames_per_side, shift)\n",
      "8.191092729568481 : df_subtracted_frame = get_df_voxel_subtracted_frame(list_df_voxel_scene, frame_idx, n_frames_per_side, shift)\n",
      "1.4052741527557373 : df_frame_orig['voxel_id'] =  df_frame_orig.apply(lambda x: point_to_voxel(x, voxel_size), axis=1)\n",
      "0.0009982585906982422 : df_labels = df_frame_orig.voxel_id.isin(df_subtracted_frame.voxel_id)\n",
      "(2869, 5)\n",
      "0.15358972549438477 : df_frame_orig_subtracted = df_frame_orig[df_labels]\n",
      "(5744, 5)\n",
      "file_labels: voxelling_output/submission_files/vid_1_pred_lee/0000377_labels.csv\n",
      "0.10871148109436035 : df_labels.to_csv(pickles_path+\"df_labels__frame_%d__%s__voxel_size_%d.p\"%(frame_idx, vid, voxel_size))\n",
      "5744\n",
      "0.058841705322265625 : save_frame_for_movie(df_frame_orig_subtracted, \"tmp_only_labeled/\", all_files, frame_idx)\n"
     ]
    },
    {
     "name": "stderr",
     "output_type": "stream",
     "text": [
      "\r",
      " 41%|████████████████████████████████████████████████████████████████▊                                                                                             | 363/885 [45:36<1:05:35,  7.54s/it]"
     ]
    },
    {
     "name": "stdout",
     "output_type": "stream",
     "text": [
      "=========================================================================\n",
      "frame_idx = 378\n",
      "=========================================================================\n",
      "0.0 : list_idx = get_list_idx_for_frame(frame_idx, n_frames_per_side, shift)\n"
     ]
    },
    {
     "ename": "KeyboardInterrupt",
     "evalue": "",
     "output_type": "error",
     "traceback": [
      "\u001b[1;31m---------------------------------------------------------------------------\u001b[0m",
      "\u001b[1;31mKeyboardInterrupt\u001b[0m                         Traceback (most recent call last)",
      "\u001b[1;32m<ipython-input-31-607e420688c3>\u001b[0m in \u001b[0;36m<module>\u001b[1;34m()\u001b[0m\n\u001b[0;32m     11\u001b[0m     \u001b[0mtoc\u001b[0m \u001b[1;33m=\u001b[0m \u001b[0mtime\u001b[0m\u001b[1;33m(\u001b[0m\u001b[1;33m)\u001b[0m\u001b[1;33m;\u001b[0m \u001b[0mprint\u001b[0m\u001b[1;33m(\u001b[0m\u001b[0mtoc\u001b[0m\u001b[1;33m-\u001b[0m\u001b[0mtic\u001b[0m\u001b[1;33m,\u001b[0m \u001b[1;34m\": list_idx = get_list_idx_for_frame(frame_idx, n_frames_per_side, shift)\"\u001b[0m\u001b[1;33m)\u001b[0m\u001b[1;33m;\u001b[0m \u001b[0mtic\u001b[0m\u001b[1;33m=\u001b[0m\u001b[0mtime\u001b[0m\u001b[1;33m(\u001b[0m\u001b[1;33m)\u001b[0m\u001b[1;33m\u001b[0m\u001b[0m\n\u001b[0;32m     12\u001b[0m \u001b[1;33m\u001b[0m\u001b[0m\n\u001b[1;32m---> 13\u001b[1;33m     \u001b[0mdf_scene\u001b[0m \u001b[1;33m=\u001b[0m \u001b[0mcreate_scene_voxel_df\u001b[0m\u001b[1;33m(\u001b[0m\u001b[0mlist_df_voxel_scene\u001b[0m\u001b[1;33m,\u001b[0m \u001b[0mlist_idx\u001b[0m\u001b[1;33m)\u001b[0m\u001b[1;33m\u001b[0m\u001b[0m\n\u001b[0m\u001b[0;32m     14\u001b[0m \u001b[1;33m\u001b[0m\u001b[0m\n\u001b[0;32m     15\u001b[0m     \u001b[0mdf_subtracted_frame\u001b[0m \u001b[1;33m=\u001b[0m \u001b[0mget_df_voxel_subtracted_frame\u001b[0m\u001b[1;33m(\u001b[0m\u001b[0mlist_df_voxel_scene\u001b[0m\u001b[1;33m,\u001b[0m \u001b[0mframe_idx\u001b[0m\u001b[1;33m,\u001b[0m \u001b[0mn_frames_per_side\u001b[0m\u001b[1;33m,\u001b[0m \u001b[0mshift\u001b[0m\u001b[1;33m)\u001b[0m\u001b[1;33m\u001b[0m\u001b[0m\n",
      "\u001b[1;32m<ipython-input-9-e78d0aaf4df7>\u001b[0m in \u001b[0;36mcreate_scene_voxel_df\u001b[1;34m(list_df_voxel_scene, list_idx, frac_to_drop)\u001b[0m\n\u001b[0;32m      3\u001b[0m     \u001b[0mdf_scene\u001b[0m \u001b[1;33m=\u001b[0m \u001b[0mpd\u001b[0m\u001b[1;33m.\u001b[0m\u001b[0mconcat\u001b[0m\u001b[1;33m(\u001b[0m\u001b[0mlist_df_voxel_scene_for_frame\u001b[0m\u001b[1;33m)\u001b[0m\u001b[1;31m#.drop_duplicates(\"voxel_id\")\u001b[0m\u001b[1;33m\u001b[0m\u001b[0m\n\u001b[0;32m      4\u001b[0m \u001b[1;31m#     df_scene.groupby([\"x_grid\", \"y_grid\", \"z_grid\"]).value_counts()\u001b[0m\u001b[1;33m\u001b[0m\u001b[1;33m\u001b[0m\u001b[0m\n\u001b[1;32m----> 5\u001b[1;33m     \u001b[0mdfff\u001b[0m \u001b[1;33m=\u001b[0m \u001b[0mdf_scene\u001b[0m\u001b[1;33m.\u001b[0m\u001b[0mgroupby\u001b[0m\u001b[1;33m(\u001b[0m\u001b[1;33m[\u001b[0m\u001b[1;34m\"x_grid\"\u001b[0m\u001b[1;33m,\u001b[0m \u001b[1;34m\"y_grid\"\u001b[0m\u001b[1;33m,\u001b[0m \u001b[1;34m\"z_grid\"\u001b[0m\u001b[1;33m]\u001b[0m\u001b[1;33m)\u001b[0m\u001b[1;33m.\u001b[0m\u001b[0mapply\u001b[0m\u001b[1;33m(\u001b[0m\u001b[0mlen\u001b[0m\u001b[1;33m)\u001b[0m\u001b[1;33m.\u001b[0m\u001b[0mreset_index\u001b[0m\u001b[1;33m(\u001b[0m\u001b[0mdrop\u001b[0m\u001b[1;33m=\u001b[0m\u001b[1;32mFalse\u001b[0m\u001b[1;33m)\u001b[0m\u001b[1;33m\u001b[0m\u001b[0m\n\u001b[0m\u001b[0;32m      6\u001b[0m \u001b[1;33m\u001b[0m\u001b[0m\n\u001b[0;32m      7\u001b[0m     \u001b[0mdfff\u001b[0m \u001b[1;33m=\u001b[0m \u001b[0mdfff\u001b[0m\u001b[1;33m[\u001b[0m\u001b[0mdfff\u001b[0m\u001b[1;33m[\u001b[0m\u001b[1;36m0\u001b[0m\u001b[1;33m]\u001b[0m\u001b[1;33m>\u001b[0m\u001b[0mfrac_to_drop\u001b[0m\u001b[1;33m*\u001b[0m\u001b[0mlen\u001b[0m\u001b[1;33m(\u001b[0m\u001b[0mlist_idx\u001b[0m\u001b[1;33m)\u001b[0m\u001b[1;33m]\u001b[0m\u001b[1;33m\u001b[0m\u001b[0m\n",
      "\u001b[1;32mC:\\ProgramData\\Miniconda3\\envs\\DataHack\\lib\\site-packages\\pandas\\core\\groupby\\groupby.py\u001b[0m in \u001b[0;36mapply\u001b[1;34m(self, func, *args, **kwargs)\u001b[0m\n\u001b[0;32m    916\u001b[0m         \u001b[1;32mwith\u001b[0m \u001b[0moption_context\u001b[0m\u001b[1;33m(\u001b[0m\u001b[1;34m'mode.chained_assignment'\u001b[0m\u001b[1;33m,\u001b[0m \u001b[1;32mNone\u001b[0m\u001b[1;33m)\u001b[0m\u001b[1;33m:\u001b[0m\u001b[1;33m\u001b[0m\u001b[0m\n\u001b[0;32m    917\u001b[0m             \u001b[1;32mtry\u001b[0m\u001b[1;33m:\u001b[0m\u001b[1;33m\u001b[0m\u001b[0m\n\u001b[1;32m--> 918\u001b[1;33m                 \u001b[0mresult\u001b[0m \u001b[1;33m=\u001b[0m \u001b[0mself\u001b[0m\u001b[1;33m.\u001b[0m\u001b[0m_python_apply_general\u001b[0m\u001b[1;33m(\u001b[0m\u001b[0mf\u001b[0m\u001b[1;33m)\u001b[0m\u001b[1;33m\u001b[0m\u001b[0m\n\u001b[0m\u001b[0;32m    919\u001b[0m             \u001b[1;32mexcept\u001b[0m \u001b[0mException\u001b[0m\u001b[1;33m:\u001b[0m\u001b[1;33m\u001b[0m\u001b[0m\n\u001b[0;32m    920\u001b[0m \u001b[1;33m\u001b[0m\u001b[0m\n",
      "\u001b[1;32mC:\\ProgramData\\Miniconda3\\envs\\DataHack\\lib\\site-packages\\pandas\\core\\groupby\\groupby.py\u001b[0m in \u001b[0;36m_python_apply_general\u001b[1;34m(self, f)\u001b[0m\n\u001b[0;32m    934\u001b[0m     \u001b[1;32mdef\u001b[0m \u001b[0m_python_apply_general\u001b[0m\u001b[1;33m(\u001b[0m\u001b[0mself\u001b[0m\u001b[1;33m,\u001b[0m \u001b[0mf\u001b[0m\u001b[1;33m)\u001b[0m\u001b[1;33m:\u001b[0m\u001b[1;33m\u001b[0m\u001b[0m\n\u001b[0;32m    935\u001b[0m         keys, values, mutated = self.grouper.apply(f, self._selected_obj,\n\u001b[1;32m--> 936\u001b[1;33m                                                    self.axis)\n\u001b[0m\u001b[0;32m    937\u001b[0m \u001b[1;33m\u001b[0m\u001b[0m\n\u001b[0;32m    938\u001b[0m         return self._wrap_applied_output(\n",
      "\u001b[1;32mC:\\ProgramData\\Miniconda3\\envs\\DataHack\\lib\\site-packages\\pandas\\core\\groupby\\groupby.py\u001b[0m in \u001b[0;36mapply\u001b[1;34m(self, f, data, axis)\u001b[0m\n\u001b[0;32m   2247\u001b[0m     \u001b[1;32mdef\u001b[0m \u001b[0mapply\u001b[0m\u001b[1;33m(\u001b[0m\u001b[0mself\u001b[0m\u001b[1;33m,\u001b[0m \u001b[0mf\u001b[0m\u001b[1;33m,\u001b[0m \u001b[0mdata\u001b[0m\u001b[1;33m,\u001b[0m \u001b[0maxis\u001b[0m\u001b[1;33m=\u001b[0m\u001b[1;36m0\u001b[0m\u001b[1;33m)\u001b[0m\u001b[1;33m:\u001b[0m\u001b[1;33m\u001b[0m\u001b[0m\n\u001b[0;32m   2248\u001b[0m         \u001b[0mmutated\u001b[0m \u001b[1;33m=\u001b[0m \u001b[0mself\u001b[0m\u001b[1;33m.\u001b[0m\u001b[0mmutated\u001b[0m\u001b[1;33m\u001b[0m\u001b[0m\n\u001b[1;32m-> 2249\u001b[1;33m         \u001b[0msplitter\u001b[0m \u001b[1;33m=\u001b[0m \u001b[0mself\u001b[0m\u001b[1;33m.\u001b[0m\u001b[0m_get_splitter\u001b[0m\u001b[1;33m(\u001b[0m\u001b[0mdata\u001b[0m\u001b[1;33m,\u001b[0m \u001b[0maxis\u001b[0m\u001b[1;33m=\u001b[0m\u001b[0maxis\u001b[0m\u001b[1;33m)\u001b[0m\u001b[1;33m\u001b[0m\u001b[0m\n\u001b[0m\u001b[0;32m   2250\u001b[0m         \u001b[0mgroup_keys\u001b[0m \u001b[1;33m=\u001b[0m \u001b[0mself\u001b[0m\u001b[1;33m.\u001b[0m\u001b[0m_get_group_keys\u001b[0m\u001b[1;33m(\u001b[0m\u001b[1;33m)\u001b[0m\u001b[1;33m\u001b[0m\u001b[0m\n\u001b[0;32m   2251\u001b[0m \u001b[1;33m\u001b[0m\u001b[0m\n",
      "\u001b[1;32mC:\\ProgramData\\Miniconda3\\envs\\DataHack\\lib\\site-packages\\pandas\\core\\groupby\\groupby.py\u001b[0m in \u001b[0;36m_get_splitter\u001b[1;34m(self, data, axis)\u001b[0m\n\u001b[0;32m   2230\u001b[0m \u001b[1;33m\u001b[0m\u001b[0m\n\u001b[0;32m   2231\u001b[0m     \u001b[1;32mdef\u001b[0m \u001b[0m_get_splitter\u001b[0m\u001b[1;33m(\u001b[0m\u001b[0mself\u001b[0m\u001b[1;33m,\u001b[0m \u001b[0mdata\u001b[0m\u001b[1;33m,\u001b[0m \u001b[0maxis\u001b[0m\u001b[1;33m=\u001b[0m\u001b[1;36m0\u001b[0m\u001b[1;33m)\u001b[0m\u001b[1;33m:\u001b[0m\u001b[1;33m\u001b[0m\u001b[0m\n\u001b[1;32m-> 2232\u001b[1;33m         \u001b[0mcomp_ids\u001b[0m\u001b[1;33m,\u001b[0m \u001b[0m_\u001b[0m\u001b[1;33m,\u001b[0m \u001b[0mngroups\u001b[0m \u001b[1;33m=\u001b[0m \u001b[0mself\u001b[0m\u001b[1;33m.\u001b[0m\u001b[0mgroup_info\u001b[0m\u001b[1;33m\u001b[0m\u001b[0m\n\u001b[0m\u001b[0;32m   2233\u001b[0m         \u001b[1;32mreturn\u001b[0m \u001b[0mget_splitter\u001b[0m\u001b[1;33m(\u001b[0m\u001b[0mdata\u001b[0m\u001b[1;33m,\u001b[0m \u001b[0mcomp_ids\u001b[0m\u001b[1;33m,\u001b[0m \u001b[0mngroups\u001b[0m\u001b[1;33m,\u001b[0m \u001b[0maxis\u001b[0m\u001b[1;33m=\u001b[0m\u001b[0maxis\u001b[0m\u001b[1;33m)\u001b[0m\u001b[1;33m\u001b[0m\u001b[0m\n\u001b[0;32m   2234\u001b[0m \u001b[1;33m\u001b[0m\u001b[0m\n",
      "\u001b[1;32mpandas\\_libs\\properties.pyx\u001b[0m in \u001b[0;36mpandas._libs.properties.CachedProperty.__get__\u001b[1;34m()\u001b[0m\n",
      "\u001b[1;32mC:\\ProgramData\\Miniconda3\\envs\\DataHack\\lib\\site-packages\\pandas\\core\\groupby\\groupby.py\u001b[0m in \u001b[0;36mgroup_info\u001b[1;34m(self)\u001b[0m\n\u001b[0;32m   2333\u001b[0m     \u001b[1;33m@\u001b[0m\u001b[0mcache_readonly\u001b[0m\u001b[1;33m\u001b[0m\u001b[0m\n\u001b[0;32m   2334\u001b[0m     \u001b[1;32mdef\u001b[0m \u001b[0mgroup_info\u001b[0m\u001b[1;33m(\u001b[0m\u001b[0mself\u001b[0m\u001b[1;33m)\u001b[0m\u001b[1;33m:\u001b[0m\u001b[1;33m\u001b[0m\u001b[0m\n\u001b[1;32m-> 2335\u001b[1;33m         \u001b[0mcomp_ids\u001b[0m\u001b[1;33m,\u001b[0m \u001b[0mobs_group_ids\u001b[0m \u001b[1;33m=\u001b[0m \u001b[0mself\u001b[0m\u001b[1;33m.\u001b[0m\u001b[0m_get_compressed_labels\u001b[0m\u001b[1;33m(\u001b[0m\u001b[1;33m)\u001b[0m\u001b[1;33m\u001b[0m\u001b[0m\n\u001b[0m\u001b[0;32m   2336\u001b[0m \u001b[1;33m\u001b[0m\u001b[0m\n\u001b[0;32m   2337\u001b[0m         \u001b[0mngroups\u001b[0m \u001b[1;33m=\u001b[0m \u001b[0mlen\u001b[0m\u001b[1;33m(\u001b[0m\u001b[0mobs_group_ids\u001b[0m\u001b[1;33m)\u001b[0m\u001b[1;33m\u001b[0m\u001b[0m\n",
      "\u001b[1;32mC:\\ProgramData\\Miniconda3\\envs\\DataHack\\lib\\site-packages\\pandas\\core\\groupby\\groupby.py\u001b[0m in \u001b[0;36m_get_compressed_labels\u001b[1;34m(self)\u001b[0m\n\u001b[0;32m   2353\u001b[0m             group_index = get_group_index(all_labels, self.shape,\n\u001b[0;32m   2354\u001b[0m                                           sort=True, xnull=True)\n\u001b[1;32m-> 2355\u001b[1;33m             \u001b[1;32mreturn\u001b[0m \u001b[0mcompress_group_index\u001b[0m\u001b[1;33m(\u001b[0m\u001b[0mgroup_index\u001b[0m\u001b[1;33m,\u001b[0m \u001b[0msort\u001b[0m\u001b[1;33m=\u001b[0m\u001b[0mself\u001b[0m\u001b[1;33m.\u001b[0m\u001b[0msort\u001b[0m\u001b[1;33m)\u001b[0m\u001b[1;33m\u001b[0m\u001b[0m\n\u001b[0m\u001b[0;32m   2356\u001b[0m \u001b[1;33m\u001b[0m\u001b[0m\n\u001b[0;32m   2357\u001b[0m         \u001b[0mping\u001b[0m \u001b[1;33m=\u001b[0m \u001b[0mself\u001b[0m\u001b[1;33m.\u001b[0m\u001b[0mgroupings\u001b[0m\u001b[1;33m[\u001b[0m\u001b[1;36m0\u001b[0m\u001b[1;33m]\u001b[0m\u001b[1;33m\u001b[0m\u001b[0m\n",
      "\u001b[1;32mC:\\ProgramData\\Miniconda3\\envs\\DataHack\\lib\\site-packages\\pandas\\core\\sorting.py\u001b[0m in \u001b[0;36mcompress_group_index\u001b[1;34m(group_index, sort)\u001b[0m\n\u001b[0;32m    362\u001b[0m \u001b[1;33m\u001b[0m\u001b[0m\n\u001b[0;32m    363\u001b[0m     \u001b[1;32mif\u001b[0m \u001b[0msort\u001b[0m \u001b[1;32mand\u001b[0m \u001b[0mlen\u001b[0m\u001b[1;33m(\u001b[0m\u001b[0mobs_group_ids\u001b[0m\u001b[1;33m)\u001b[0m \u001b[1;33m>\u001b[0m \u001b[1;36m0\u001b[0m\u001b[1;33m:\u001b[0m\u001b[1;33m\u001b[0m\u001b[0m\n\u001b[1;32m--> 364\u001b[1;33m         \u001b[0mobs_group_ids\u001b[0m\u001b[1;33m,\u001b[0m \u001b[0mcomp_ids\u001b[0m \u001b[1;33m=\u001b[0m \u001b[0m_reorder_by_uniques\u001b[0m\u001b[1;33m(\u001b[0m\u001b[0mobs_group_ids\u001b[0m\u001b[1;33m,\u001b[0m \u001b[0mcomp_ids\u001b[0m\u001b[1;33m)\u001b[0m\u001b[1;33m\u001b[0m\u001b[0m\n\u001b[0m\u001b[0;32m    365\u001b[0m \u001b[1;33m\u001b[0m\u001b[0m\n\u001b[0;32m    366\u001b[0m     \u001b[1;32mreturn\u001b[0m \u001b[0mcomp_ids\u001b[0m\u001b[1;33m,\u001b[0m \u001b[0mobs_group_ids\u001b[0m\u001b[1;33m\u001b[0m\u001b[0m\n",
      "\u001b[1;32mC:\\ProgramData\\Miniconda3\\envs\\DataHack\\lib\\site-packages\\pandas\\core\\sorting.py\u001b[0m in \u001b[0;36m_reorder_by_uniques\u001b[1;34m(uniques, labels)\u001b[0m\n\u001b[0;32m    373\u001b[0m     \u001b[1;31m# reverse_indexer is where elements came from\u001b[0m\u001b[1;33m\u001b[0m\u001b[1;33m\u001b[0m\u001b[0m\n\u001b[0;32m    374\u001b[0m     \u001b[0mreverse_indexer\u001b[0m \u001b[1;33m=\u001b[0m \u001b[0mnp\u001b[0m\u001b[1;33m.\u001b[0m\u001b[0mempty\u001b[0m\u001b[1;33m(\u001b[0m\u001b[0mlen\u001b[0m\u001b[1;33m(\u001b[0m\u001b[0msorter\u001b[0m\u001b[1;33m)\u001b[0m\u001b[1;33m,\u001b[0m \u001b[0mdtype\u001b[0m\u001b[1;33m=\u001b[0m\u001b[0mnp\u001b[0m\u001b[1;33m.\u001b[0m\u001b[0mint64\u001b[0m\u001b[1;33m)\u001b[0m\u001b[1;33m\u001b[0m\u001b[0m\n\u001b[1;32m--> 375\u001b[1;33m     \u001b[0mreverse_indexer\u001b[0m\u001b[1;33m.\u001b[0m\u001b[0mput\u001b[0m\u001b[1;33m(\u001b[0m\u001b[0msorter\u001b[0m\u001b[1;33m,\u001b[0m \u001b[0mnp\u001b[0m\u001b[1;33m.\u001b[0m\u001b[0marange\u001b[0m\u001b[1;33m(\u001b[0m\u001b[0mlen\u001b[0m\u001b[1;33m(\u001b[0m\u001b[0msorter\u001b[0m\u001b[1;33m)\u001b[0m\u001b[1;33m)\u001b[0m\u001b[1;33m)\u001b[0m\u001b[1;33m\u001b[0m\u001b[0m\n\u001b[0m\u001b[0;32m    376\u001b[0m \u001b[1;33m\u001b[0m\u001b[0m\n\u001b[0;32m    377\u001b[0m     \u001b[0mmask\u001b[0m \u001b[1;33m=\u001b[0m \u001b[0mlabels\u001b[0m \u001b[1;33m<\u001b[0m \u001b[1;36m0\u001b[0m\u001b[1;33m\u001b[0m\u001b[0m\n",
      "\u001b[1;31mKeyboardInterrupt\u001b[0m: "
     ]
    }
   ],
   "source": [
    "# frame_idx=15\n",
    "for frame_idx in tqdm(range(15,900)):\n",
    "    print(\"=========================================================================\")\n",
    "    print(\"frame_idx = %d\"%frame_idx)\n",
    "    print(\"=========================================================================\")\n",
    "\n",
    "    tic = time()\n",
    "    list_idx_uf = get_list_idx_for_frame(frame_idx, n_frames_per_side, shift)\n",
    "    list_idx = [i for i in list_idx_uf if i>=0 and i<=list_df_voxel_scene.shape[0]]\n",
    "#     print ('--main--\\nlist idx_uf: {}\\nlist_idx   :{}\\n-------'.format(list_idx_uf, list_idx))\n",
    "    toc = time(); print(toc-tic, \": list_idx = get_list_idx_for_frame(frame_idx, n_frames_per_side, shift)\"); tic=time()\n",
    "    \n",
    "    df_scene = create_scene_voxel_df(list_df_voxel_scene, list_idx)\n",
    "    \n",
    "    df_subtracted_frame = get_df_voxel_subtracted_frame(list_df_voxel_scene, frame_idx, n_frames_per_side, shift)\n",
    "    toc = time(); print(toc-tic, \": df_subtracted_frame = get_df_voxel_subtracted_frame(list_df_voxel_scene, frame_idx, n_frames_per_side, shift)\"); tic=time()\n",
    "    \n",
    "    df_frame_orig = pd.read_csv(all_files[frame_idx], header=None)\n",
    "#     df_frame_orig[\"voxel_id\"] =  df_frame_orig.apply(lambda x: point_to_voxel(x, voxel_size), axis=1)\n",
    "    df_frame_orig[\"voxel_id\"] =  ((df_frame_orig.iloc[:, :3]//voxel_size)*voxel_size + voxel_size//2).apply(lambda x: hash((x[0], x[1], x[2])), axis=1)\n",
    "    toc = time(); print(toc-tic, \": df_frame_orig['voxel_id'] =  df_frame_orig.apply(lambda x: point_to_voxel(x, voxel_size), axis=1)\"); tic=time()\n",
    "    \n",
    "    df_labels = df_frame_orig.voxel_id.isin(df_subtracted_frame.voxel_id)\n",
    "    toc = time(); print(toc-tic, \": df_labels = df_frame_orig.voxel_id.isin(df_subtracted_frame.voxel_id)\"); tic=time()\n",
    "    \n",
    "    # filters\n",
    "    df_labels = remove_distant_lines(frame_idx, df_labels, orig_files_path)\n",
    "    df_labels = remove_distant_points(frame_idx, df_labels, orig_files_path)\n",
    "    df_labels = remove_close_lines(frame_idx, df_labels, orig_files_path)\n",
    "    df_labels = remove_high_points(frame_idx, df_labels, orig_files_path)\n",
    "    df_labels = remove_high_theta_points(frame_idx, df_labels, orig_files_path)\n",
    "#     df_labels.iloc[:] = False\n",
    "    \n",
    "    df_frame_orig_subtracted = df_frame_orig[df_labels]\n",
    "    toc = time(); print(toc-tic, \": df_frame_orig_subtracted = df_frame_orig[df_labels]\"); tic=time()\n",
    "    \n",
    "    print(df_frame_orig_subtracted.shape)\n",
    "    df_labels = df_labels.astype(int)\n",
    "    file_labels = \"voxelling_output/submission_files/vid_1_pred_lee/\" + os.path.basename(all_files[frame_idx]).replace(\"pointcloud\", \"labels\")\n",
    "    print(\"file_labels:\", file_labels)\n",
    "    df_labels.to_csv(file_labels, header=None, index=False)\n",
    "    toc = time(); print(toc-tic, ': df_labels.to_csv(pickles_path+\"df_labels__frame_%d__%s__voxel_size_%d_(%d,%d,%d).p\"%(frame_idx, vid, voxel_size, n_frames_per_side, shift, n_frames_per_side))'); tic=time()\n",
    "    \n",
    "    print(df_labels.sum())\n",
    "    df_frame_orig_subtracted = df_frame_orig_subtracted.iloc[:, :4]\n",
    "    df_frame_orig_subtracted.to_csv(pickles_path+\"df_frame_orig_subtracted__frame_%d__%s__voxel_size%d_(%d,%d,%d).p\"%(frame_idx, vid, voxel_size, n_frames_per_side, shift, n_frames_per_side)), header=None, index=False)\n",
    "#     save_frame_for_movie(df_frame_orig_subtracted, \"tmp_only_labeled/\", all_files, frame_idx)\n",
    "    toc = time(); print(toc-tic, ': save_frame_for_movie(df_frame_orig_subtracted, \"tmp_only_labeled/\", all_files, frame_idx)'); tic=time()"
   ]
  },
  {
   "cell_type": "code",
   "execution_count": null,
   "metadata": {},
   "outputs": [],
   "source": [
    "df_scene.head()"
   ]
  },
  {
   "cell_type": "code",
   "execution_count": null,
   "metadata": {},
   "outputs": [],
   "source": [
    "# frac_to_drop=0.5\n",
    "# dfff = df_scene.groupby([\"x_grid\", \"y_grid\", \"z_grid\"]).apply(len).reset_index(drop=False)\n",
    "\n",
    "# dfff = dfff[dfff[0]>frac_to_drop*len(list_idx)]\n",
    "# dfff[\"v_index\"] = dfff.iloc[:, :3].apply(lambda x: hash((x.iloc[0], x.iloc[1], x.iloc[2])), axis=1)\n",
    "# print(df_scene.shape)\n",
    "# df_scene.drop_duplicates([\"x_grid\", \"y_grid\", \"z_grid\"], inplace=True)\n",
    "# print(df_scene.shape)\n",
    "# df_scene = df_scene[df_scene.voxel_id.isin(dfff.v_index)]\n",
    "# print(df_scene.shape)"
   ]
  },
  {
   "cell_type": "code",
   "execution_count": null,
   "metadata": {},
   "outputs": [],
   "source": [
    "# df_scene"
   ]
  },
  {
   "cell_type": "code",
   "execution_count": null,
   "metadata": {},
   "outputs": [],
   "source": [
    "# base_dir = \"E:/Datasets/DataHack/Train\"\n",
    "# for sub_dir in os.listdir(base_dir):\n",
    "#     print(sub_dir)\n",
    "# #     for f in glob(sub_dir+\"/*point*\"):\n",
    "# #     df = add_grid_and_hash(pd.read_csv(f), header=None), 20)"
   ]
  },
  {
   "cell_type": "markdown",
   "metadata": {},
   "source": [
    "--------------------"
   ]
  },
  {
   "cell_type": "code",
   "execution_count": null,
   "metadata": {},
   "outputs": [],
   "source": [
    "# # for road distant lines:\n",
    "# df_frame_orig_subtracted.columns = list(\"xyzr\")\n",
    "# df_frame_orig_subtracted.plot(kind=\"scatter\", x=\"x\", y=\"y\", figsize=(10, 10))"
   ]
  },
  {
   "cell_type": "code",
   "execution_count": null,
   "metadata": {},
   "outputs": [],
   "source": [
    "# dff = pd.read_csv(\"voxelling_output/Original_Frames/0000033_pointcloud.csv\", header=None)\n",
    "# dff.columns = list(\"xyzr\")\n",
    "# dff[\"l\"] = df_labels.tolist()\n",
    "# dff = dff[dff.l==1]\n",
    "# print(dff.shape)\n",
    "# dff.head()"
   ]
  },
  {
   "cell_type": "code",
   "execution_count": null,
   "metadata": {},
   "outputs": [],
   "source": [
    "# dff = dff[dff.x>dff.x.min()+(dff.x.max()-dff.x.min())*0.4]\n",
    "# print(dff.shape)\n",
    "# dff.head()"
   ]
  },
  {
   "cell_type": "code",
   "execution_count": null,
   "metadata": {},
   "outputs": [],
   "source": [
    "# dff = dff[dff.z<dff.z.min()+(dff.z.max()-dff.z.min())*0.3]\n",
    "# print(dff.shape)\n",
    "# dff.head()"
   ]
  },
  {
   "cell_type": "code",
   "execution_count": null,
   "metadata": {},
   "outputs": [],
   "source": [
    "# dff = dff[(dff[\"r\"]>5)&(dff[\"r\"]<15)]\n",
    "# print(dff.shape)\n",
    "# dff.head()"
   ]
  },
  {
   "cell_type": "code",
   "execution_count": null,
   "metadata": {},
   "outputs": [],
   "source": [
    "# dff.plot(kind=\"scatter\", x=\"x\", y=\"y\", figsize=(10, 10))"
   ]
  },
  {
   "cell_type": "code",
   "execution_count": null,
   "metadata": {},
   "outputs": [],
   "source": []
  },
  {
   "cell_type": "code",
   "execution_count": null,
   "metadata": {},
   "outputs": [],
   "source": [
    "# (df_frame_orig_subtracted.iloc[:, :2]//2*2).plot(kind=\"scatter\", x=0, y=1)"
   ]
  },
  {
   "cell_type": "code",
   "execution_count": null,
   "metadata": {},
   "outputs": [],
   "source": [
    "ddf = df_frame_orig_subtracted.iloc[:, :2]//2*2"
   ]
  },
  {
   "cell_type": "code",
   "execution_count": null,
   "metadata": {},
   "outputs": [],
   "source": [
    "ddf = (ddf - ddf.min())\n",
    "ddf = np.floor((ddf/ddf.max()*256).values)\n",
    "ddf"
   ]
  },
  {
   "cell_type": "code",
   "execution_count": null,
   "metadata": {},
   "outputs": [],
   "source": []
  },
  {
   "cell_type": "code",
   "execution_count": null,
   "metadata": {},
   "outputs": [],
   "source": [
    "import cv2\n",
    "edges = cv2.Canny(gray,50,150,apertureSize = 3)\n",
    "minLineLength = 100\n",
    "maxLineGap = 10\n",
    "lines = cv2.HoughLinesP(edges,1,np.pi/180,100,minLineLength,maxLineGap)\n",
    "for x1,y1,x2,y2 in lines[0]:\n",
    "    cv2.line(img,(x1,y1),(x2,y2),(0,255,0),2)\n",
    "\n",
    "cv2.imwrite('houghlines5.jpg',img)"
   ]
  },
  {
   "cell_type": "code",
   "execution_count": null,
   "metadata": {},
   "outputs": [],
   "source": []
  },
  {
   "cell_type": "code",
   "execution_count": null,
   "metadata": {},
   "outputs": [],
   "source": []
  },
  {
   "cell_type": "code",
   "execution_count": null,
   "metadata": {},
   "outputs": [],
   "source": []
  },
  {
   "cell_type": "code",
   "execution_count": null,
   "metadata": {},
   "outputs": [],
   "source": [
    "# def pc_to_grid(df, voxel_size, dest_dir, dest_name):\n",
    "#     # df_frame points are in world coordinate system\n",
    "#     # dest_name may be frame number\n",
    "#     start_time = time()\n",
    "# #     df = pd.read_csv(csv_path, header=None)\n",
    "\n",
    "#     df_xyz = df.iloc[:,:3]\n",
    "#     ref_ser = df.iloc[:, 3]\n",
    "#     df_grid = df_xyz//voxel_size\n",
    "#     df_grid[3] = ref_ser\n",
    "#     df_grid.columns=list(\"xyzr\")\n",
    "#     df_voxel = df_grid.groupby(['x','y','z']).apply(lambda x: x.iloc[:, 3].mean()).to_frame()\n",
    "#     df_voxel.reset_index(drop=False, inplace=True)\n",
    "#     df_voxel.iloc[:, :3] = df_voxel.iloc[:, :3]*voxel_size + voxel_size//2\n",
    "#     df_voxel= df_voxel.astype(np.int)\n",
    "#     base_name = os.path.join(dest_dir, dest_name)\n",
    "#     df_voxel.to_csv(base_name + '_pointcloud.csv', header=None, index=False)\n",
    "#     pd.DataFrame([0]*df_voxel.shape[0]).to_csv(base_name+'_labels.csv', header=None, index=False)\n",
    "#     pd.DataFrame([0.]*6).T.to_csv(base_name+'_egomotion.csv', header=None, index=False)\n",
    "#     print('single file runtime: {}'.format(time()-start_time))\n",
    "    \n",
    "#     return df_voxel"
   ]
  },
  {
   "cell_type": "code",
   "execution_count": null,
   "metadata": {},
   "outputs": [],
   "source": [
    "# world_dir = \"E:/Datasets/DataHack/World/Train/vid_1/\""
   ]
  },
  {
   "cell_type": "code",
   "execution_count": null,
   "metadata": {},
   "outputs": [],
   "source": [
    "# scene_frames = glob(world_dir+\"/*point*\")[:10] + glob(world_dir+\"/*point*\")[20:30]\n",
    "# cur_frame = glob(world_dir+\"/*point*\")[15]"
   ]
  },
  {
   "cell_type": "code",
   "execution_count": null,
   "metadata": {},
   "outputs": [],
   "source": [
    "# s_pcs = []\n",
    "# for f in scene_frames:\n",
    "#     s_pcs.append(pd.read_csv(f, header=None))\n",
    "# df_scene_pcs = pd.concat(s_pcs, axis=0)"
   ]
  },
  {
   "cell_type": "code",
   "execution_count": null,
   "metadata": {},
   "outputs": [],
   "source": [
    "# %%time\n",
    "# try:\n",
    "#     os.mkdir(\"tmp/\")\n",
    "# except:\n",
    "#     pass\n",
    "# pc_to_grid(df_scene_pcs, 20, \"tmp\", \"0000000\")"
   ]
  },
  {
   "cell_type": "code",
   "execution_count": null,
   "metadata": {},
   "outputs": [],
   "source": [
    "# %%time\n",
    "# df_cur_pc = pd.read_csv(cur_frame, header=None)\n",
    "# pc_to_grid(df_cur_pc, 20, \"tmp\", \"0000001\")"
   ]
  },
  {
   "cell_type": "code",
   "execution_count": null,
   "metadata": {},
   "outputs": [],
   "source": [
    "# w = pd.read_csv(\"tmp/0000000_pointcloud.csv\", header=None)\n",
    "# c = pd.read_csv(\"tmp/0000001_pointcloud.csv\", header=None)"
   ]
  },
  {
   "cell_type": "code",
   "execution_count": null,
   "metadata": {},
   "outputs": [],
   "source": [
    "# w['voxel_id'] = w.apply(lambda x: hash((x[0], x[1], x[2])), axis=1)\n",
    "# c['voxel_id'] = c.apply(lambda x: hash((x[0], x[1], x[2])), axis=1)"
   ]
  },
  {
   "cell_type": "code",
   "execution_count": null,
   "metadata": {},
   "outputs": [],
   "source": [
    "# c_out = c[~c.voxel_id.isin(w.voxel_id)]"
   ]
  },
  {
   "cell_type": "code",
   "execution_count": null,
   "metadata": {},
   "outputs": [],
   "source": [
    "# c.shape, c_out.shape"
   ]
  },
  {
   "cell_type": "code",
   "execution_count": null,
   "metadata": {},
   "outputs": [],
   "source": [
    "# c_out = c_out.iloc[:, :4]\n",
    "# c_out.head()"
   ]
  },
  {
   "cell_type": "code",
   "execution_count": null,
   "metadata": {},
   "outputs": [],
   "source": [
    "# try:\n",
    "#     os.mkdir(\"tmp_out/\")\n",
    "# except:\n",
    "#     pass\n",
    "# pc_to_grid(c_out, 20, \"tmp_out\", \"0000002\")"
   ]
  },
  {
   "cell_type": "code",
   "execution_count": null,
   "metadata": {},
   "outputs": [],
   "source": [
    "# list_df_voxels = []\n",
    "# for f in g\n"
   ]
  },
  {
   "cell_type": "code",
   "execution_count": null,
   "metadata": {},
   "outputs": [],
   "source": [
    "# def voxel_classification_for_frame(vid_dir, frame_idx):\n",
    "#     df_pc_scene = ...\n",
    "#     df_pc_frame = ...\n",
    "#     df_voxel_scene = build_voxel(df_pc_scene)\n",
    "#     df_voxel_frame = build_voxel()\n",
    "    \n",
    "    "
   ]
  }
 ],
 "metadata": {
  "kernelspec": {
   "display_name": "DataHack",
   "language": "python",
   "name": "datahack"
  },
  "language_info": {
   "codemirror_mode": {
    "name": "ipython",
    "version": 3
   },
   "file_extension": ".py",
   "mimetype": "text/x-python",
   "name": "python",
   "nbconvert_exporter": "python",
   "pygments_lexer": "ipython3",
   "version": "3.6.4"
  }
 },
 "nbformat": 4,
 "nbformat_minor": 2
}
