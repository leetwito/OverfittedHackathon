{
 "cells": [
  {
   "cell_type": "code",
   "execution_count": 1,
   "metadata": {},
   "outputs": [],
   "source": [
    "import pandas as pd\n",
    "import numpy as np\n",
    "import os\n",
    "from time import time\n",
    "from tqdm import tqdm\n",
    "from utilities.math_utils import RotationTranslationData\n",
    "from utilities import data_utils\n",
    "from glob import glob\n",
    "import pickle\n",
    "\n",
    "from time import time\n",
    "%matplotlib inline"
   ]
  },
  {
   "cell_type": "code",
   "execution_count": 2,
   "metadata": {},
   "outputs": [],
   "source": [
    "def add_grid_and_hash(df, voxel_size):\n",
    "    \"\"\" \n",
    "    add grid and hash to each point of a given point cloud\n",
    "    \"\"\"\n",
    "    df_grid = df.iloc[:,:3]//voxel_size\n",
    "    df_grid.iloc[:, :3] = df_grid.iloc[:, :3]*voxel_size + voxel_size//2\n",
    "    df_grid['voxel_id'] = df_grid.apply(lambda x: hash((x[0], x[1], x[2])), axis=1)\n",
    "    df_grid = pd.concat([df, df_grid], axis=1)\n",
    "    df_grid.columns = ['x', 'y', 'z', 'r', 'x_grid', 'y_grid', 'z_grid', 'voxel_id']\n",
    "    return df_grid"
   ]
  },
  {
   "cell_type": "markdown",
   "metadata": {},
   "source": [
    "-----------------------------"
   ]
  },
  {
   "cell_type": "code",
   "execution_count": 3,
   "metadata": {},
   "outputs": [],
   "source": [
    "base_dir = \"voxelling_output/World2/Train/vid_1/\"\n",
    "pickles_path = \"voxelling_output/\"\n",
    "orig_files_path = \"voxelling_output/Original_Frames/vid_1/\"\n",
    "n_frames_per_side=10\n",
    "shift=5\n",
    "voxel_size=20"
   ]
  },
  {
   "cell_type": "code",
   "execution_count": 4,
   "metadata": {},
   "outputs": [],
   "source": [
    "all_files = glob(base_dir+\"/*point*\")"
   ]
  },
  {
   "cell_type": "code",
   "execution_count": 5,
   "metadata": {},
   "outputs": [],
   "source": [
    "vid = base_dir.split(\"/\")[-2]"
   ]
  },
  {
   "cell_type": "code",
   "execution_count": 6,
   "metadata": {},
   "outputs": [],
   "source": [
    "def create_list_dfs_voxel_scene(base_dir, voxel_size, upto=None):\n",
    "    global all_files\n",
    "    list_df_voxel_scene = []\n",
    "#     all_files = glob(base_dir+\"/*point*\")\n",
    "    if upto is not None:\n",
    "        all_files = all_files[:upto]\n",
    "    \n",
    "    for f in tqdm(all_files):\n",
    "        list_df_voxel_scene.append( add_grid_and_hash(pd.read_csv(f, header=None), voxel_size))\n",
    "    list_df_voxel_scene = pd.Series(list_df_voxel_scene).values\n",
    "    return list_df_voxel_scene"
   ]
  },
  {
   "cell_type": "code",
   "execution_count": 7,
   "metadata": {},
   "outputs": [],
   "source": [
    "list_df_file = pickles_path+\"list_df_voxel_scene__%s__voxel_size_%d.p\"%(vid, voxel_size)\n",
    "\n",
    "if os.path.exists(list_df_file):\n",
    "    list_df_voxel_scene = pickle.load(open(list_df_file, \"rb\"))\n",
    "else:\n",
    "    list_df_voxel_scene = create_list_dfs_voxel_scene(base_dir, voxel_size, upto=None)\n",
    "    pickle.dump(list_df_voxel_scene, open(pickles_path+\"list_df_voxel_scene__%s__voxel_size_%d.p\"%(vid, voxel_size), \"wb\"))"
   ]
  },
  {
   "cell_type": "markdown",
   "metadata": {},
   "source": [
    "----------------------"
   ]
  },
  {
   "cell_type": "code",
   "execution_count": 8,
   "metadata": {},
   "outputs": [],
   "source": [
    "def get_list_idx_for_frame(frame_idx, n_frames_per_side, shift):\n",
    "    list_idx = np.array(list(np.arange(frame_idx-shift-n_frames_per_side,frame_idx-shift)) + list(np.arange(frame_idx+shift+1,frame_idx+shift+n_frames_per_side+1)))\n",
    "    return list_idx"
   ]
  },
  {
   "cell_type": "code",
   "execution_count": 9,
   "metadata": {},
   "outputs": [],
   "source": [
    "def create_scene_voxel_df(list_df_voxel_scene, list_idx, frac_to_drop=0.35):\n",
    "    list_df_voxel_scene_for_frame = list_df_voxel_scene[list_idx]\n",
    "    df_scene = pd.concat(list_df_voxel_scene_for_frame)#.drop_duplicates(\"voxel_id\")\n",
    "#     df_scene.groupby([\"x_grid\", \"y_grid\", \"z_grid\"]).value_counts()\n",
    "    dfff = df_scene.groupby([\"x_grid\", \"y_grid\", \"z_grid\"]).apply(len).reset_index(drop=False)\n",
    "\n",
    "    dfff = dfff[dfff[0]>frac_to_drop*len(list_idx)]\n",
    "    dfff[\"v_index\"] = dfff.iloc[:, :3].apply(lambda x: hash((x.iloc[0], x.iloc[1], x.iloc[2])), axis=1)\n",
    "#     print(df_scene.shape)\n",
    "    df_scene.drop_duplicates([\"x_grid\", \"y_grid\", \"z_grid\"], inplace=True)\n",
    "#     print(df_scene.shape)\n",
    "    df_scene = df_scene[df_scene.voxel_id.isin(dfff.v_index)]\n",
    "#     print(df_scene.shape)\n",
    "    \n",
    "    return df_scene"
   ]
  },
  {
   "cell_type": "code",
   "execution_count": 10,
   "metadata": {},
   "outputs": [],
   "source": [
    "def get_df_voxel_subtracted_frame(list_df_voxel_scene, frame_idx, n_frames_per_side, shift):\n",
    "    \n",
    "    list_idx = get_list_idx_for_frame(frame_idx, n_frames_per_side, shift)\n",
    "    \n",
    "    df_voxel_scene = create_scene_voxel_df(list_df_voxel_scene, list_idx)\n",
    "    df_voxel_frame = create_scene_voxel_df(list_df_voxel_scene, [frame_idx])\n",
    "\n",
    "    df_subtracted_frame = df_voxel_frame[~df_voxel_frame.voxel_id.isin(df_voxel_scene.voxel_id)]\n",
    "    return df_subtracted_frame"
   ]
  },
  {
   "cell_type": "code",
   "execution_count": 11,
   "metadata": {},
   "outputs": [],
   "source": [
    "def point_to_voxel(ser, voxel_size):\n",
    "    # ser: [x, y, z, r]\n",
    "    ser_out = ser.iloc[:3]//voxel_size\n",
    "    ser_out = ser_out*voxel_size + voxel_size//2\n",
    "    voxel_id = hash((ser_out[0], ser_out[1], ser_out[2]))\n",
    "    \n",
    "#     return pd.Series(ser_out.tolist()+[voxel_id])\n",
    "    return voxel_id"
   ]
  },
  {
   "cell_type": "code",
   "execution_count": 12,
   "metadata": {},
   "outputs": [],
   "source": [
    "def save_frame_for_movie(frame, folder, all_files, frame_idx):\n",
    "    if not os.path.exists(folder):\n",
    "        os.mkdir(folder)\n",
    "    filename = os.path.basename(all_files[frame_idx])\n",
    "    frame.to_csv(folder + filename, header=None, index=False)\n",
    "    labels_filename = filename.replace('pointcloud', 'labels')\n",
    "    pd.DataFrame([0]*frame.shape[0]).to_csv(folder + labels_filename, header=None, index=False)\n",
    "\n",
    "    egomotion_filename = filename.replace('pointcloud', 'egomotion')\n",
    "    pd.DataFrame([0.]*6).T.to_csv(folder + egomotion_filename, header=None, index=False)\n",
    "    print('frame {} saved successfuly'.format(frame_idx))"
   ]
  },
  {
   "cell_type": "code",
   "execution_count": 13,
   "metadata": {},
   "outputs": [],
   "source": [
    "# frame_idx=15\n",
    "# todo: add skips"
   ]
  },
  {
   "cell_type": "code",
   "execution_count": 14,
   "metadata": {},
   "outputs": [],
   "source": [
    "# list_idx = get_list_idx_for_frame(frame_idx, n_frames_per_side, shift)\n",
    "# list_idx"
   ]
  },
  {
   "cell_type": "code",
   "execution_count": 15,
   "metadata": {},
   "outputs": [],
   "source": [
    "# df_subtracted_frame = get_df_voxel_subtracted_frame(list_df_voxel_scene, frame_idx, n_frames_per_side, shift)"
   ]
  },
  {
   "cell_type": "code",
   "execution_count": 16,
   "metadata": {},
   "outputs": [],
   "source": [
    "# df_subtracted_frame.head()"
   ]
  },
  {
   "cell_type": "code",
   "execution_count": 17,
   "metadata": {},
   "outputs": [],
   "source": [
    "# df_frame_orig = pd.read_csv(all_files[frame_idx], header=None)"
   ]
  },
  {
   "cell_type": "code",
   "execution_count": 18,
   "metadata": {},
   "outputs": [],
   "source": [
    "# %%time\n",
    "# df_frame_orig[\"voxel_id\"] =  df_frame_orig.apply(lambda x: point_to_voxel(x, voxel_size), axis=1)"
   ]
  },
  {
   "cell_type": "code",
   "execution_count": 19,
   "metadata": {},
   "outputs": [],
   "source": [
    "# df_frame_orig.head()"
   ]
  },
  {
   "cell_type": "code",
   "execution_count": 20,
   "metadata": {},
   "outputs": [],
   "source": [
    "# df_labels = df_frame_orig.voxel_id.isin(df_subtracted_frame.voxel_id)\n",
    "# df_labels.sum()"
   ]
  },
  {
   "cell_type": "code",
   "execution_count": 21,
   "metadata": {},
   "outputs": [],
   "source": [
    "# df_frame_orig_subtracted = df_frame_orig[df_labels]\n",
    "# df_labels = df_labels.astype(int)"
   ]
  },
  {
   "cell_type": "code",
   "execution_count": 22,
   "metadata": {},
   "outputs": [],
   "source": [
    "# df_frame_orig_subtracted.shape"
   ]
  },
  {
   "cell_type": "code",
   "execution_count": 23,
   "metadata": {},
   "outputs": [],
   "source": [
    "# df_frame_orig_subtracted = df_frame_orig_subtracted.iloc[:4]"
   ]
  },
  {
   "cell_type": "code",
   "execution_count": 24,
   "metadata": {},
   "outputs": [],
   "source": [
    "# # \n",
    "# save_frame_for_movie(df_frame_orig_subtracted, \"tmp_only_labeled/\", all_files, frame_idx)"
   ]
  },
  {
   "cell_type": "code",
   "execution_count": 25,
   "metadata": {},
   "outputs": [],
   "source": [
    "def remove_distant_lines(frame_idx, df_labels, orig_files_path):\n",
    "    filename = (7-len(str(frame_idx)))*\"0\"+str(frame_idx)+\"_pointcloud.csv\"\n",
    "    dff = pd.read_csv(orig_files_path+filename, header=None)\n",
    "    dff.columns = list(\"xyzr\")\n",
    "    dff[\"l\"] = df_labels.tolist()\n",
    "    dff = dff[dff.l==1]\n",
    "#     print(dff.shape)\n",
    "#     dff.head() \n",
    "\n",
    "#     dff = dff[dff.x>dff.x.min()+(dff.x.max()-dff.x.min())*0.2]\n",
    "#     print(dff.shape)\n",
    "#     dff.head()\n",
    "    \n",
    "    dff = dff[dff.z<dff.z.min()+(dff.z.max()-dff.z.min())*0.3]\n",
    "#     print(dff.shape)\n",
    "#     dff.head()\n",
    "\n",
    "    dff = dff[(dff[\"r\"]>5)&(dff[\"r\"]<15)]\n",
    "#     print(dff.shape)\n",
    "#     dff.head()\n",
    "\n",
    "    df_labels.loc[dff.index] = False\n",
    "    return df_labels"
   ]
  },
  {
   "cell_type": "code",
   "execution_count": 26,
   "metadata": {},
   "outputs": [],
   "source": [
    "def remove_distant_points(frame_idx, df_labels, orig_files_path):\n",
    "    filename = (7-len(str(frame_idx)))*\"0\"+str(frame_idx)+\"_pointcloud.csv\"\n",
    "    dff = pd.read_csv(orig_files_path+filename, header=None)\n",
    "    dff.columns = list(\"xyzr\")\n",
    "    dff[\"l\"] = df_labels.tolist()\n",
    "    dff = dff[dff.l==1]\n",
    "#     print(dff.shape)\n",
    "#     dff.head() \n",
    "#     print(dff.describe())\n",
    "    dff = dff[dff[\"x\"]>5500]\n",
    "#     print(dff.describe())\n",
    "#     rr = np.sqrt(dff.x**2+dff.y**2)\n",
    "#     dff = dff[rr<10]\n",
    "#     print(dff.shape)\n",
    "#     dff.head()\n",
    "    \n",
    "#     dff = dff[dff.z<dff.z.min()+(dff.z.max()-dff.z.min())*0.3]\n",
    "#     print(dff.shape)\n",
    "#     dff.head()\n",
    "\n",
    "#     dff = dff[(dff[\"r\"]>5)&(dff[\"r\"]<15)]\n",
    "#     print(dff.shape)\n",
    "#     dff.head()\n",
    "\n",
    "    df_labels.loc[dff.index] = False\n",
    "    return df_labels"
   ]
  },
  {
   "cell_type": "code",
   "execution_count": 27,
   "metadata": {},
   "outputs": [],
   "source": [
    "def remove_high_theta_points(frame_idx, df_labels, orig_files_path):\n",
    "    filename = (7-len(str(frame_idx)))*\"0\"+str(frame_idx)+\"_pointcloud.csv\"\n",
    "    dff = pd.read_csv(orig_files_path+filename, header=None)\n",
    "    dff.columns = list(\"xyzr\")\n",
    "    dff[\"l\"] = df_labels.tolist()\n",
    "    dff = dff[dff.l==1]\n",
    "#     print(dff.shape)\n",
    "#     dff.head() \n",
    "\n",
    "    theta = np.abs(np.arctan(dff.y/dff.x))\n",
    "    dff = dff[theta>0.9*theta.max()]\n",
    "#     print(dff.shape)\n",
    "#     dff.head()\n",
    "    \n",
    "#     dff = dff[dff.z<dff.z.min()+(dff.z.max()-dff.z.min())*0.3]\n",
    "#     print(dff.shape)\n",
    "#     dff.head()\n",
    "\n",
    "#     dff = dff[(dff[\"r\"]>5)&(dff[\"r\"]<15)]\n",
    "#     print(dff.shape)\n",
    "#     dff.head()\n",
    "\n",
    "    df_labels.loc[dff.index] = False\n",
    "    return df_labels"
   ]
  },
  {
   "cell_type": "code",
   "execution_count": 28,
   "metadata": {},
   "outputs": [],
   "source": [
    "def remove_close_lines(frame_idx, df_labels, orig_files_path):\n",
    "    filename = (7-len(str(frame_idx)))*\"0\"+str(frame_idx)+\"_pointcloud.csv\"\n",
    "    dff = pd.read_csv(orig_files_path+filename, header=None)\n",
    "    dff.columns = list(\"xyzr\")\n",
    "    dff[\"l\"] = df_labels.tolist()\n",
    "    dff = dff[dff.l==1]\n",
    "#     print(dff.shape)\n",
    "#     dff.head() \n",
    "\n",
    "    dff = dff[dff.x<dff.x.min()+(dff.x.max()-dff.x.min())*0.1]\n",
    "#     print(dff.shape)\n",
    "#     dff.head()\n",
    "    \n",
    "    dff = dff[dff.z<dff.z.min()+(dff.z.max()-dff.z.min())*0.01]\n",
    "#     print(dff.shape)\n",
    "#     dff.head()\n",
    "\n",
    "#     dff = dff[(dff[\"r\"]>5)&(dff[\"r\"]<15)]\n",
    "# #     print(dff.shape)\n",
    "# #     dff.head()\n",
    "\n",
    "    df_labels.loc[dff.index] = False\n",
    "    return df_labels"
   ]
  },
  {
   "cell_type": "code",
   "execution_count": 29,
   "metadata": {},
   "outputs": [],
   "source": [
    "def remove_high_points(frame_idx, df_labels, orig_files_path):\n",
    "    filename = (7-len(str(frame_idx)))*\"0\"+str(frame_idx)+\"_pointcloud.csv\"\n",
    "    dff = pd.read_csv(orig_files_path+filename, header=None)\n",
    "    dff.columns = list(\"xyzr\")\n",
    "    dff[\"l\"] = df_labels.tolist()\n",
    "    dff = dff[dff.l==1]\n",
    "#     print(dff.shape)\n",
    "#     dff.head() \n",
    "\n",
    "#     dff = dff[dff.x<dff.x.min()+(dff.x.max()-dff.x.min())*0.15]\n",
    "#     print(dff.shape)\n",
    "#     dff.head()\n",
    "    \n",
    "    dff = dff[dff.z>400]\n",
    "    print(dff.shape)\n",
    "    dff.head()\n",
    "\n",
    "#     dff = dff[(dff[\"r\"]>5)&(dff[\"r\"]<15)]\n",
    "# #     print(dff.shape)\n",
    "# #     dff.head()\n",
    "\n",
    "    df_labels.loc[dff.index] = False\n",
    "    return df_labels"
   ]
  },
  {
   "cell_type": "markdown",
   "metadata": {},
   "source": [
    "---------------------------------"
   ]
  },
  {
   "cell_type": "code",
   "execution_count": null,
   "metadata": {},
   "outputs": [
    {
     "name": "stderr",
     "output_type": "stream",
     "text": [
      "\r",
      "  0%|                                                                                                                                                                          | 0/885 [00:00<?, ?it/s]"
     ]
    },
    {
     "name": "stdout",
     "output_type": "stream",
     "text": [
      "=========================================================================\n",
      "frame_idx = 15\n",
      "=========================================================================\n",
      "0.0 : list_idx = get_list_idx_for_frame(frame_idx, n_frames_per_side, shift)\n",
      "2.1754817962646484 : df_subtracted_frame = get_df_voxel_subtracted_frame(list_df_voxel_scene, frame_idx, n_frames_per_side, shift)\n",
      "1.0612502098083496 : df_frame_orig['voxel_id'] =  df_frame_orig.apply(lambda x: point_to_voxel(x, voxel_size), axis=1)\n",
      "0.0009965896606445312 : df_labels = df_frame_orig.voxel_id.isin(df_subtracted_frame.voxel_id)\n",
      "(16, 5)\n",
      "0.1336517333984375 : df_frame_orig_subtracted = df_frame_orig[df_labels]\n",
      "(168, 5)\n",
      "file_labels: voxelling_output/submission_files/vid_1_pred/0000015_labels.csv\n",
      "0.08577680587768555 : df_labels.to_csv(pickles_path+\"df_labels__frame_%d__%s__voxel_size_%d.p\"%(frame_idx, vid, voxel_size))\n",
      "168\n",
      "0.009983301162719727 : save_frame_for_movie(df_frame_orig_subtracted, \"tmp_only_labeled/\", all_files, frame_idx)\n"
     ]
    },
    {
     "name": "stderr",
     "output_type": "stream",
     "text": [
      "\r",
      "  0%|▏                                                                                                                                                                 | 1/885 [00:03<51:33,  3.50s/it]"
     ]
    },
    {
     "name": "stdout",
     "output_type": "stream",
     "text": [
      "=========================================================================\n",
      "frame_idx = 16\n",
      "=========================================================================\n",
      "0.0 : list_idx = get_list_idx_for_frame(frame_idx, n_frames_per_side, shift)\n",
      "2.0251071453094482 : df_subtracted_frame = get_df_voxel_subtracted_frame(list_df_voxel_scene, frame_idx, n_frames_per_side, shift)\n",
      "1.0220470428466797 : df_frame_orig['voxel_id'] =  df_frame_orig.apply(lambda x: point_to_voxel(x, voxel_size), axis=1)\n",
      "0.004076242446899414 : df_labels = df_frame_orig.voxel_id.isin(df_subtracted_frame.voxel_id)\n",
      "(14, 5)\n",
      "0.12722086906433105 : df_frame_orig_subtracted = df_frame_orig[df_labels]\n",
      "(164, 5)\n",
      "file_labels: voxelling_output/submission_files/vid_1_pred/0000016_labels.csv\n",
      "0.07106661796569824 : df_labels.to_csv(pickles_path+\"df_labels__frame_%d__%s__voxel_size_%d.p\"%(frame_idx, vid, voxel_size))\n",
      "164\n",
      "0.026230812072753906 : save_frame_for_movie(df_frame_orig_subtracted, \"tmp_only_labeled/\", all_files, frame_idx)\n"
     ]
    },
    {
     "name": "stderr",
     "output_type": "stream",
     "text": [
      "\r",
      "  0%|▎                                                                                                                                                                 | 2/885 [00:06<50:02,  3.40s/it]"
     ]
    },
    {
     "name": "stdout",
     "output_type": "stream",
     "text": [
      "=========================================================================\n",
      "frame_idx = 17\n",
      "=========================================================================\n",
      "0.0 : list_idx = get_list_idx_for_frame(frame_idx, n_frames_per_side, shift)\n",
      "2.0267136096954346 : df_subtracted_frame = get_df_voxel_subtracted_frame(list_df_voxel_scene, frame_idx, n_frames_per_side, shift)\n",
      "1.0320074558258057 : df_frame_orig['voxel_id'] =  df_frame_orig.apply(lambda x: point_to_voxel(x, voxel_size), axis=1)\n",
      "0.0009875297546386719 : df_labels = df_frame_orig.voxel_id.isin(df_subtracted_frame.voxel_id)\n",
      "(9, 5)\n",
      "0.12161803245544434 : df_frame_orig_subtracted = df_frame_orig[df_labels]\n",
      "(164, 5)\n",
      "file_labels: voxelling_output/submission_files/vid_1_pred/0000017_labels.csv\n",
      "0.0780181884765625 : df_labels.to_csv(pickles_path+\"df_labels__frame_%d__%s__voxel_size_%d.p\"%(frame_idx, vid, voxel_size))\n",
      "164\n",
      "0.01918482780456543 : save_frame_for_movie(df_frame_orig_subtracted, \"tmp_only_labeled/\", all_files, frame_idx)\n"
     ]
    },
    {
     "name": "stderr",
     "output_type": "stream",
     "text": [
      "\r",
      "  0%|▌                                                                                                                                                                 | 3/885 [00:10<49:29,  3.37s/it]"
     ]
    },
    {
     "name": "stdout",
     "output_type": "stream",
     "text": [
      "=========================================================================\n",
      "frame_idx = 18\n",
      "=========================================================================\n",
      "0.0 : list_idx = get_list_idx_for_frame(frame_idx, n_frames_per_side, shift)\n",
      "2.2354860305786133 : df_subtracted_frame = get_df_voxel_subtracted_frame(list_df_voxel_scene, frame_idx, n_frames_per_side, shift)\n",
      "1.1315720081329346 : df_frame_orig['voxel_id'] =  df_frame_orig.apply(lambda x: point_to_voxel(x, voxel_size), axis=1)\n",
      "0.0009920597076416016 : df_labels = df_frame_orig.voxel_id.isin(df_subtracted_frame.voxel_id)\n",
      "(15, 5)\n",
      "0.12386059761047363 : df_frame_orig_subtracted = df_frame_orig[df_labels]\n",
      "(263, 5)\n",
      "file_labels: voxelling_output/submission_files/vid_1_pred/0000018_labels.csv\n",
      "0.09275078773498535 : df_labels.to_csv(pickles_path+\"df_labels__frame_%d__%s__voxel_size_%d.p\"%(frame_idx, vid, voxel_size))\n",
      "263\n",
      "0.012964487075805664 : save_frame_for_movie(df_frame_orig_subtracted, \"tmp_only_labeled/\", all_files, frame_idx)\n"
     ]
    },
    {
     "name": "stderr",
     "output_type": "stream",
     "text": [
      "\r",
      "  0%|▋                                                                                                                                                                 | 4/885 [00:13<50:23,  3.43s/it]"
     ]
    },
    {
     "name": "stdout",
     "output_type": "stream",
     "text": [
      "=========================================================================\n",
      "frame_idx = 19\n",
      "=========================================================================\n",
      "0.0 : list_idx = get_list_idx_for_frame(frame_idx, n_frames_per_side, shift)\n",
      "2.0327985286712646 : df_subtracted_frame = get_df_voxel_subtracted_frame(list_df_voxel_scene, frame_idx, n_frames_per_side, shift)\n",
      "1.0352015495300293 : df_frame_orig['voxel_id'] =  df_frame_orig.apply(lambda x: point_to_voxel(x, voxel_size), axis=1)\n",
      "0.0037674903869628906 : df_labels = df_frame_orig.voxel_id.isin(df_subtracted_frame.voxel_id)\n",
      "(20, 5)\n",
      "0.1268329620361328 : df_frame_orig_subtracted = df_frame_orig[df_labels]\n",
      "(262, 5)\n",
      "file_labels: voxelling_output/submission_files/vid_1_pred/0000019_labels.csv\n",
      "0.07319045066833496 : df_labels.to_csv(pickles_path+\"df_labels__frame_%d__%s__voxel_size_%d.p\"%(frame_idx, vid, voxel_size))\n",
      "262\n",
      "0.024611949920654297 : save_frame_for_movie(df_frame_orig_subtracted, \"tmp_only_labeled/\", all_files, frame_idx)\n"
     ]
    },
    {
     "name": "stderr",
     "output_type": "stream",
     "text": [
      "\r",
      "  1%|▉                                                                                                                                                                 | 5/885 [00:17<49:59,  3.41s/it]"
     ]
    },
    {
     "name": "stdout",
     "output_type": "stream",
     "text": [
      "=========================================================================\n",
      "frame_idx = 20\n",
      "=========================================================================\n",
      "0.0 : list_idx = get_list_idx_for_frame(frame_idx, n_frames_per_side, shift)\n",
      "2.004894256591797 : df_subtracted_frame = get_df_voxel_subtracted_frame(list_df_voxel_scene, frame_idx, n_frames_per_side, shift)\n",
      "1.0317151546478271 : df_frame_orig['voxel_id'] =  df_frame_orig.apply(lambda x: point_to_voxel(x, voxel_size), axis=1)\n",
      "0.001947641372680664 : df_labels = df_frame_orig.voxel_id.isin(df_subtracted_frame.voxel_id)\n",
      "(25, 5)\n",
      "0.1257476806640625 : df_frame_orig_subtracted = df_frame_orig[df_labels]\n",
      "(272, 5)\n",
      "file_labels: voxelling_output/submission_files/vid_1_pred/0000020_labels.csv\n",
      "0.0857694149017334 : df_labels.to_csv(pickles_path+\"df_labels__frame_%d__%s__voxel_size_%d.p\"%(frame_idx, vid, voxel_size))\n",
      "272\n",
      "0.011968612670898438 : save_frame_for_movie(df_frame_orig_subtracted, \"tmp_only_labeled/\", all_files, frame_idx)\n"
     ]
    },
    {
     "name": "stderr",
     "output_type": "stream",
     "text": [
      "\r",
      "  1%|█                                                                                                                                                                 | 6/885 [00:20<49:39,  3.39s/it]"
     ]
    },
    {
     "name": "stdout",
     "output_type": "stream",
     "text": [
      "=========================================================================\n",
      "frame_idx = 21\n",
      "=========================================================================\n",
      "0.0 : list_idx = get_list_idx_for_frame(frame_idx, n_frames_per_side, shift)\n",
      "2.3537309169769287 : df_subtracted_frame = get_df_voxel_subtracted_frame(list_df_voxel_scene, frame_idx, n_frames_per_side, shift)\n",
      "1.140941858291626 : df_frame_orig['voxel_id'] =  df_frame_orig.apply(lambda x: point_to_voxel(x, voxel_size), axis=1)\n",
      "0.0019860267639160156 : df_labels = df_frame_orig.voxel_id.isin(df_subtracted_frame.voxel_id)\n",
      "(29, 5)\n",
      "0.12220978736877441 : df_frame_orig_subtracted = df_frame_orig[df_labels]\n",
      "(295, 5)\n",
      "file_labels: voxelling_output/submission_files/vid_1_pred/0000021_labels.csv\n",
      "0.08473825454711914 : df_labels.to_csv(pickles_path+\"df_labels__frame_%d__%s__voxel_size_%d.p\"%(frame_idx, vid, voxel_size))\n",
      "295\n",
      "0.0110015869140625 : save_frame_for_movie(df_frame_orig_subtracted, \"tmp_only_labeled/\", all_files, frame_idx)\n"
     ]
    },
    {
     "name": "stderr",
     "output_type": "stream",
     "text": [
      "\r",
      "  1%|█▎                                                                                                                                                                | 7/885 [00:24<50:20,  3.44s/it]"
     ]
    },
    {
     "name": "stdout",
     "output_type": "stream",
     "text": [
      "=========================================================================\n",
      "frame_idx = 22\n",
      "=========================================================================\n",
      "0.0 : list_idx = get_list_idx_for_frame(frame_idx, n_frames_per_side, shift)\n",
      "2.2791450023651123 : df_subtracted_frame = get_df_voxel_subtracted_frame(list_df_voxel_scene, frame_idx, n_frames_per_side, shift)\n",
      "1.1413633823394775 : df_frame_orig['voxel_id'] =  df_frame_orig.apply(lambda x: point_to_voxel(x, voxel_size), axis=1)\n",
      "0.001995563507080078 : df_labels = df_frame_orig.voxel_id.isin(df_subtracted_frame.voxel_id)\n",
      "(30, 5)\n",
      "0.13064932823181152 : df_frame_orig_subtracted = df_frame_orig[df_labels]\n",
      "(302, 5)\n",
      "file_labels: voxelling_output/submission_files/vid_1_pred/0000022_labels.csv\n",
      "0.07326364517211914 : df_labels.to_csv(pickles_path+\"df_labels__frame_%d__%s__voxel_size_%d.p\"%(frame_idx, vid, voxel_size))\n",
      "302\n",
      "0.011992692947387695 : save_frame_for_movie(df_frame_orig_subtracted, \"tmp_only_labeled/\", all_files, frame_idx)\n"
     ]
    },
    {
     "name": "stderr",
     "output_type": "stream",
     "text": [
      "\r",
      "  1%|█▍                                                                                                                                                                | 8/885 [00:27<50:43,  3.47s/it]"
     ]
    },
    {
     "name": "stdout",
     "output_type": "stream",
     "text": [
      "=========================================================================\n",
      "frame_idx = 23\n",
      "=========================================================================\n",
      "0.0 : list_idx = get_list_idx_for_frame(frame_idx, n_frames_per_side, shift)\n",
      "2.223405599594116 : df_subtracted_frame = get_df_voxel_subtracted_frame(list_df_voxel_scene, frame_idx, n_frames_per_side, shift)\n",
      "1.0576677322387695 : df_frame_orig['voxel_id'] =  df_frame_orig.apply(lambda x: point_to_voxel(x, voxel_size), axis=1)\n",
      "0.001889944076538086 : df_labels = df_frame_orig.voxel_id.isin(df_subtracted_frame.voxel_id)\n",
      "(30, 5)\n",
      "0.13367366790771484 : df_frame_orig_subtracted = df_frame_orig[df_labels]\n",
      "(322, 5)\n",
      "file_labels: voxelling_output/submission_files/vid_1_pred/0000023_labels.csv\n",
      "0.08682441711425781 : df_labels.to_csv(pickles_path+\"df_labels__frame_%d__%s__voxel_size_%d.p\"%(frame_idx, vid, voxel_size))\n",
      "322\n",
      "0.012964487075805664 : save_frame_for_movie(df_frame_orig_subtracted, \"tmp_only_labeled/\", all_files, frame_idx)\n"
     ]
    },
    {
     "name": "stderr",
     "output_type": "stream",
     "text": [
      "\r",
      "  1%|█▋                                                                                                                                                                | 9/885 [00:31<50:47,  3.48s/it]"
     ]
    },
    {
     "name": "stdout",
     "output_type": "stream",
     "text": [
      "=========================================================================\n",
      "frame_idx = 24\n",
      "=========================================================================\n",
      "0.0 : list_idx = get_list_idx_for_frame(frame_idx, n_frames_per_side, shift)\n",
      "2.28251051902771 : df_subtracted_frame = get_df_voxel_subtracted_frame(list_df_voxel_scene, frame_idx, n_frames_per_side, shift)\n",
      "1.098170518875122 : df_frame_orig['voxel_id'] =  df_frame_orig.apply(lambda x: point_to_voxel(x, voxel_size), axis=1)\n",
      "0.0010602474212646484 : df_labels = df_frame_orig.voxel_id.isin(df_subtracted_frame.voxel_id)\n",
      "(30, 5)\n",
      "0.12274885177612305 : df_frame_orig_subtracted = df_frame_orig[df_labels]\n",
      "(319, 5)\n",
      "file_labels: voxelling_output/submission_files/vid_1_pred/0000024_labels.csv\n",
      "0.08177876472473145 : df_labels.to_csv(pickles_path+\"df_labels__frame_%d__%s__voxel_size_%d.p\"%(frame_idx, vid, voxel_size))\n",
      "319\n",
      "0.010957002639770508 : save_frame_for_movie(df_frame_orig_subtracted, \"tmp_only_labeled/\", all_files, frame_idx)\n"
     ]
    },
    {
     "name": "stderr",
     "output_type": "stream",
     "text": [
      "\r",
      "  1%|█▊                                                                                                                                                               | 10/885 [00:34<50:57,  3.49s/it]"
     ]
    },
    {
     "name": "stdout",
     "output_type": "stream",
     "text": [
      "=========================================================================\n",
      "frame_idx = 25\n",
      "=========================================================================\n",
      "0.0 : list_idx = get_list_idx_for_frame(frame_idx, n_frames_per_side, shift)\n",
      "2.1366536617279053 : df_subtracted_frame = get_df_voxel_subtracted_frame(list_df_voxel_scene, frame_idx, n_frames_per_side, shift)\n",
      "1.060079574584961 : df_frame_orig['voxel_id'] =  df_frame_orig.apply(lambda x: point_to_voxel(x, voxel_size), axis=1)\n",
      "0.0009992122650146484 : df_labels = df_frame_orig.voxel_id.isin(df_subtracted_frame.voxel_id)\n",
      "(32, 5)\n",
      "0.12188911437988281 : df_frame_orig_subtracted = df_frame_orig[df_labels]\n",
      "(304, 5)\n",
      "file_labels: voxelling_output/submission_files/vid_1_pred/0000025_labels.csv\n",
      "0.06717181205749512 : df_labels.to_csv(pickles_path+\"df_labels__frame_%d__%s__voxel_size_%d.p\"%(frame_idx, vid, voxel_size))\n",
      "304\n",
      "0.013131141662597656 : save_frame_for_movie(df_frame_orig_subtracted, \"tmp_only_labeled/\", all_files, frame_idx)\n"
     ]
    },
    {
     "name": "stderr",
     "output_type": "stream",
     "text": [
      "\r",
      "  1%|██                                                                                                                                                               | 11/885 [00:38<50:50,  3.49s/it]"
     ]
    },
    {
     "name": "stdout",
     "output_type": "stream",
     "text": [
      "=========================================================================\n",
      "frame_idx = 26\n",
      "=========================================================================\n",
      "0.0 : list_idx = get_list_idx_for_frame(frame_idx, n_frames_per_side, shift)\n",
      "2.195985794067383 : df_subtracted_frame = get_df_voxel_subtracted_frame(list_df_voxel_scene, frame_idx, n_frames_per_side, shift)\n",
      "1.0857157707214355 : df_frame_orig['voxel_id'] =  df_frame_orig.apply(lambda x: point_to_voxel(x, voxel_size), axis=1)\n",
      "0.007986068725585938 : df_labels = df_frame_orig.voxel_id.isin(df_subtracted_frame.voxel_id)\n",
      "(24, 5)\n",
      "0.12486720085144043 : df_frame_orig_subtracted = df_frame_orig[df_labels]\n",
      "(287, 5)\n",
      "file_labels: voxelling_output/submission_files/vid_1_pred/0000026_labels.csv\n",
      "0.0799264907836914 : df_labels.to_csv(pickles_path+\"df_labels__frame_%d__%s__voxel_size_%d.p\"%(frame_idx, vid, voxel_size))\n",
      "287\n",
      "0.018229007720947266 : save_frame_for_movie(df_frame_orig_subtracted, \"tmp_only_labeled/\", all_files, frame_idx)\n"
     ]
    },
    {
     "name": "stderr",
     "output_type": "stream",
     "text": [
      "\r",
      "  1%|██▏                                                                                                                                                              | 12/885 [00:41<50:50,  3.49s/it]"
     ]
    },
    {
     "name": "stdout",
     "output_type": "stream",
     "text": [
      "=========================================================================\n",
      "frame_idx = 27\n",
      "=========================================================================\n",
      "0.0 : list_idx = get_list_idx_for_frame(frame_idx, n_frames_per_side, shift)\n",
      "2.1946146488189697 : df_subtracted_frame = get_df_voxel_subtracted_frame(list_df_voxel_scene, frame_idx, n_frames_per_side, shift)\n",
      "1.1486263275146484 : df_frame_orig['voxel_id'] =  df_frame_orig.apply(lambda x: point_to_voxel(x, voxel_size), axis=1)\n",
      "0.0024633407592773438 : df_labels = df_frame_orig.voxel_id.isin(df_subtracted_frame.voxel_id)\n",
      "(22, 5)\n",
      "0.1276569366455078 : df_frame_orig_subtracted = df_frame_orig[df_labels]\n",
      "(248, 5)\n",
      "file_labels: voxelling_output/submission_files/vid_1_pred/0000027_labels.csv\n",
      "0.06621503829956055 : df_labels.to_csv(pickles_path+\"df_labels__frame_%d__%s__voxel_size_%d.p\"%(frame_idx, vid, voxel_size))\n",
      "248\n",
      "0.013373136520385742 : save_frame_for_movie(df_frame_orig_subtracted, \"tmp_only_labeled/\", all_files, frame_idx)\n"
     ]
    },
    {
     "name": "stderr",
     "output_type": "stream",
     "text": [
      "\r",
      "  1%|██▎                                                                                                                                                              | 13/885 [00:45<50:53,  3.50s/it]"
     ]
    },
    {
     "name": "stdout",
     "output_type": "stream",
     "text": [
      "=========================================================================\n",
      "frame_idx = 28\n",
      "=========================================================================\n",
      "0.0 : list_idx = get_list_idx_for_frame(frame_idx, n_frames_per_side, shift)\n",
      "2.292142868041992 : df_subtracted_frame = get_df_voxel_subtracted_frame(list_df_voxel_scene, frame_idx, n_frames_per_side, shift)\n",
      "1.1920933723449707 : df_frame_orig['voxel_id'] =  df_frame_orig.apply(lambda x: point_to_voxel(x, voxel_size), axis=1)\n",
      "0.000997304916381836 : df_labels = df_frame_orig.voxel_id.isin(df_subtracted_frame.voxel_id)\n",
      "(19, 5)\n",
      "0.13763713836669922 : df_frame_orig_subtracted = df_frame_orig[df_labels]\n",
      "(244, 5)\n",
      "file_labels: voxelling_output/submission_files/vid_1_pred/0000028_labels.csv\n",
      "0.0917673110961914 : df_labels.to_csv(pickles_path+\"df_labels__frame_%d__%s__voxel_size_%d.p\"%(frame_idx, vid, voxel_size))\n",
      "244\n",
      "0.013971090316772461 : save_frame_for_movie(df_frame_orig_subtracted, \"tmp_only_labeled/\", all_files, frame_idx)\n"
     ]
    },
    {
     "name": "stderr",
     "output_type": "stream",
     "text": [
      "\r",
      "  2%|██▌                                                                                                                                                              | 14/885 [00:49<51:05,  3.52s/it]"
     ]
    },
    {
     "name": "stdout",
     "output_type": "stream",
     "text": [
      "=========================================================================\n",
      "frame_idx = 29\n",
      "=========================================================================\n",
      "0.0 : list_idx = get_list_idx_for_frame(frame_idx, n_frames_per_side, shift)\n",
      "2.3794753551483154 : df_subtracted_frame = get_df_voxel_subtracted_frame(list_df_voxel_scene, frame_idx, n_frames_per_side, shift)\n",
      "1.0604429244995117 : df_frame_orig['voxel_id'] =  df_frame_orig.apply(lambda x: point_to_voxel(x, voxel_size), axis=1)\n",
      "0.0009927749633789062 : df_labels = df_frame_orig.voxel_id.isin(df_subtracted_frame.voxel_id)\n",
      "(15, 5)\n",
      "0.12966632843017578 : df_frame_orig_subtracted = df_frame_orig[df_labels]\n",
      "(235, 5)\n",
      "file_labels: voxelling_output/submission_files/vid_1_pred/0000029_labels.csv\n",
      "0.08178234100341797 : df_labels.to_csv(pickles_path+\"df_labels__frame_%d__%s__voxel_size_%d.p\"%(frame_idx, vid, voxel_size))\n",
      "235\n",
      "0.011961936950683594 : save_frame_for_movie(df_frame_orig_subtracted, \"tmp_only_labeled/\", all_files, frame_idx)\n"
     ]
    },
    {
     "name": "stderr",
     "output_type": "stream",
     "text": [
      "\r",
      "  2%|██▋                                                                                                                                                              | 15/885 [00:52<51:12,  3.53s/it]"
     ]
    },
    {
     "name": "stdout",
     "output_type": "stream",
     "text": [
      "=========================================================================\n",
      "frame_idx = 30\n",
      "=========================================================================\n",
      "0.0 : list_idx = get_list_idx_for_frame(frame_idx, n_frames_per_side, shift)\n",
      "2.231090784072876 : df_subtracted_frame = get_df_voxel_subtracted_frame(list_df_voxel_scene, frame_idx, n_frames_per_side, shift)\n",
      "1.1344568729400635 : df_frame_orig['voxel_id'] =  df_frame_orig.apply(lambda x: point_to_voxel(x, voxel_size), axis=1)\n",
      "0.0028815269470214844 : df_labels = df_frame_orig.voxel_id.isin(df_subtracted_frame.voxel_id)\n",
      "(7, 5)\n",
      "0.13017630577087402 : df_frame_orig_subtracted = df_frame_orig[df_labels]\n",
      "(238, 5)\n",
      "file_labels: voxelling_output/submission_files/vid_1_pred/0000030_labels.csv\n",
      "0.08776426315307617 : df_labels.to_csv(pickles_path+\"df_labels__frame_%d__%s__voxel_size_%d.p\"%(frame_idx, vid, voxel_size))\n",
      "238\n",
      "0.011962652206420898 : save_frame_for_movie(df_frame_orig_subtracted, \"tmp_only_labeled/\", all_files, frame_idx)\n"
     ]
    },
    {
     "name": "stderr",
     "output_type": "stream",
     "text": [
      "\r",
      "  2%|██▉                                                                                                                                                              | 16/885 [00:56<51:14,  3.54s/it]"
     ]
    },
    {
     "name": "stdout",
     "output_type": "stream",
     "text": [
      "=========================================================================\n",
      "frame_idx = 31\n",
      "=========================================================================\n",
      "0.0 : list_idx = get_list_idx_for_frame(frame_idx, n_frames_per_side, shift)\n",
      "2.4236671924591064 : df_subtracted_frame = get_df_voxel_subtracted_frame(list_df_voxel_scene, frame_idx, n_frames_per_side, shift)\n",
      "1.2155728340148926 : df_frame_orig['voxel_id'] =  df_frame_orig.apply(lambda x: point_to_voxel(x, voxel_size), axis=1)\n",
      "0.0019958019256591797 : df_labels = df_frame_orig.voxel_id.isin(df_subtracted_frame.voxel_id)\n",
      "(279, 5)\n",
      "0.1669461727142334 : df_frame_orig_subtracted = df_frame_orig[df_labels]\n",
      "(1564, 5)\n",
      "file_labels: voxelling_output/submission_files/vid_1_pred/0000031_labels.csv\n",
      "0.09573245048522949 : df_labels.to_csv(pickles_path+\"df_labels__frame_%d__%s__voxel_size_%d.p\"%(frame_idx, vid, voxel_size))\n",
      "1564\n",
      "0.022937297821044922 : save_frame_for_movie(df_frame_orig_subtracted, \"tmp_only_labeled/\", all_files, frame_idx)\n"
     ]
    },
    {
     "name": "stderr",
     "output_type": "stream",
     "text": [
      "\r",
      "  2%|███                                                                                                                                                              | 17/885 [01:00<51:31,  3.56s/it]"
     ]
    },
    {
     "name": "stdout",
     "output_type": "stream",
     "text": [
      "=========================================================================\n",
      "frame_idx = 32\n",
      "=========================================================================\n",
      "0.0 : list_idx = get_list_idx_for_frame(frame_idx, n_frames_per_side, shift)\n",
      "2.449634552001953 : df_subtracted_frame = get_df_voxel_subtracted_frame(list_df_voxel_scene, frame_idx, n_frames_per_side, shift)\n",
      "1.132713794708252 : df_frame_orig['voxel_id'] =  df_frame_orig.apply(lambda x: point_to_voxel(x, voxel_size), axis=1)\n",
      "0.0044705867767333984 : df_labels = df_frame_orig.voxel_id.isin(df_subtracted_frame.voxel_id)\n",
      "(179, 5)\n",
      "0.11315035820007324 : df_frame_orig_subtracted = df_frame_orig[df_labels]\n",
      "(1089, 5)\n",
      "file_labels: voxelling_output/submission_files/vid_1_pred/0000032_labels.csv\n",
      "0.08861041069030762 : df_labels.to_csv(pickles_path+\"df_labels__frame_%d__%s__voxel_size_%d.p\"%(frame_idx, vid, voxel_size))\n",
      "1089\n",
      "0.01562643051147461 : save_frame_for_movie(df_frame_orig_subtracted, \"tmp_only_labeled/\", all_files, frame_idx)\n"
     ]
    },
    {
     "name": "stderr",
     "output_type": "stream",
     "text": [
      "\r",
      "  2%|███▎                                                                                                                                                             | 18/885 [01:04<51:40,  3.58s/it]"
     ]
    },
    {
     "name": "stdout",
     "output_type": "stream",
     "text": [
      "=========================================================================\n",
      "frame_idx = 33\n",
      "=========================================================================\n",
      "0.0 : list_idx = get_list_idx_for_frame(frame_idx, n_frames_per_side, shift)\n",
      "2.6216259002685547 : df_subtracted_frame = get_df_voxel_subtracted_frame(list_df_voxel_scene, frame_idx, n_frames_per_side, shift)\n",
      "1.0526609420776367 : df_frame_orig['voxel_id'] =  df_frame_orig.apply(lambda x: point_to_voxel(x, voxel_size), axis=1)\n",
      "0.000995635986328125 : df_labels = df_frame_orig.voxel_id.isin(df_subtracted_frame.voxel_id)\n",
      "(243, 5)\n",
      "0.12469267845153809 : df_frame_orig_subtracted = df_frame_orig[df_labels]\n",
      "(1745, 5)\n",
      "file_labels: voxelling_output/submission_files/vid_1_pred/0000033_labels.csv\n",
      "0.07779240608215332 : df_labels.to_csv(pickles_path+\"df_labels__frame_%d__%s__voxel_size_%d.p\"%(frame_idx, vid, voxel_size))\n",
      "1745\n",
      "0.025928974151611328 : save_frame_for_movie(df_frame_orig_subtracted, \"tmp_only_labeled/\", all_files, frame_idx)\n"
     ]
    },
    {
     "name": "stderr",
     "output_type": "stream",
     "text": [
      "\r",
      "  2%|███▍                                                                                                                                                             | 19/885 [01:08<51:53,  3.60s/it]"
     ]
    },
    {
     "name": "stdout",
     "output_type": "stream",
     "text": [
      "=========================================================================\n",
      "frame_idx = 34\n",
      "=========================================================================\n",
      "0.0 : list_idx = get_list_idx_for_frame(frame_idx, n_frames_per_side, shift)\n",
      "2.5616166591644287 : df_subtracted_frame = get_df_voxel_subtracted_frame(list_df_voxel_scene, frame_idx, n_frames_per_side, shift)\n",
      "1.1268761157989502 : df_frame_orig['voxel_id'] =  df_frame_orig.apply(lambda x: point_to_voxel(x, voxel_size), axis=1)\n",
      "0.001981496810913086 : df_labels = df_frame_orig.voxel_id.isin(df_subtracted_frame.voxel_id)\n",
      "(257, 5)\n",
      "0.12667131423950195 : df_frame_orig_subtracted = df_frame_orig[df_labels]\n",
      "(1970, 5)\n",
      "file_labels: voxelling_output/submission_files/vid_1_pred/0000034_labels.csv\n",
      "0.08284664154052734 : df_labels.to_csv(pickles_path+\"df_labels__frame_%d__%s__voxel_size_%d.p\"%(frame_idx, vid, voxel_size))\n",
      "1970\n",
      "0.02396702766418457 : save_frame_for_movie(df_frame_orig_subtracted, \"tmp_only_labeled/\", all_files, frame_idx)\n"
     ]
    },
    {
     "name": "stderr",
     "output_type": "stream",
     "text": [
      "\r",
      "  2%|███▋                                                                                                                                                             | 20/885 [01:12<52:05,  3.61s/it]"
     ]
    },
    {
     "name": "stdout",
     "output_type": "stream",
     "text": [
      "=========================================================================\n",
      "frame_idx = 35\n",
      "=========================================================================\n",
      "0.0 : list_idx = get_list_idx_for_frame(frame_idx, n_frames_per_side, shift)\n",
      "2.397874355316162 : df_subtracted_frame = get_df_voxel_subtracted_frame(list_df_voxel_scene, frame_idx, n_frames_per_side, shift)\n",
      "1.0936505794525146 : df_frame_orig['voxel_id'] =  df_frame_orig.apply(lambda x: point_to_voxel(x, voxel_size), axis=1)\n",
      "0.001995563507080078 : df_labels = df_frame_orig.voxel_id.isin(df_subtracted_frame.voxel_id)\n",
      "(268, 5)\n",
      "0.11374974250793457 : df_frame_orig_subtracted = df_frame_orig[df_labels]\n",
      "(2034, 5)\n",
      "file_labels: voxelling_output/submission_files/vid_1_pred/0000035_labels.csv\n",
      "0.08309793472290039 : df_labels.to_csv(pickles_path+\"df_labels__frame_%d__%s__voxel_size_%d.p\"%(frame_idx, vid, voxel_size))\n",
      "2034\n",
      "0.014030933380126953 : save_frame_for_movie(df_frame_orig_subtracted, \"tmp_only_labeled/\", all_files, frame_idx)\n"
     ]
    },
    {
     "name": "stderr",
     "output_type": "stream",
     "text": [
      "\r",
      "  2%|███▊                                                                                                                                                             | 21/885 [01:16<52:07,  3.62s/it]"
     ]
    },
    {
     "name": "stdout",
     "output_type": "stream",
     "text": [
      "=========================================================================\n",
      "frame_idx = 36\n",
      "=========================================================================\n",
      "0.0 : list_idx = get_list_idx_for_frame(frame_idx, n_frames_per_side, shift)\n",
      "2.449183225631714 : df_subtracted_frame = get_df_voxel_subtracted_frame(list_df_voxel_scene, frame_idx, n_frames_per_side, shift)\n",
      "1.0906858444213867 : df_frame_orig['voxel_id'] =  df_frame_orig.apply(lambda x: point_to_voxel(x, voxel_size), axis=1)\n",
      "0.000982522964477539 : df_labels = df_frame_orig.voxel_id.isin(df_subtracted_frame.voxel_id)\n",
      "(306, 5)\n",
      "0.12569403648376465 : df_frame_orig_subtracted = df_frame_orig[df_labels]\n",
      "(2275, 5)\n",
      "file_labels: voxelling_output/submission_files/vid_1_pred/0000036_labels.csv\n",
      "0.08776044845581055 : df_labels.to_csv(pickles_path+\"df_labels__frame_%d__%s__voxel_size_%d.p\"%(frame_idx, vid, voxel_size))\n",
      "2275\n",
      "0.030914306640625 : save_frame_for_movie(df_frame_orig_subtracted, \"tmp_only_labeled/\", all_files, frame_idx)\n"
     ]
    },
    {
     "name": "stderr",
     "output_type": "stream",
     "text": [
      "\r",
      "  2%|████                                                                                                                                                             | 22/885 [01:19<52:11,  3.63s/it]"
     ]
    },
    {
     "name": "stdout",
     "output_type": "stream",
     "text": [
      "=========================================================================\n",
      "frame_idx = 37\n",
      "=========================================================================\n",
      "0.0 : list_idx = get_list_idx_for_frame(frame_idx, n_frames_per_side, shift)\n",
      "2.8400607109069824 : df_subtracted_frame = get_df_voxel_subtracted_frame(list_df_voxel_scene, frame_idx, n_frames_per_side, shift)\n",
      "1.2908742427825928 : df_frame_orig['voxel_id'] =  df_frame_orig.apply(lambda x: point_to_voxel(x, voxel_size), axis=1)\n",
      "0.0019927024841308594 : df_labels = df_frame_orig.voxel_id.isin(df_subtracted_frame.voxel_id)\n",
      "(321, 5)\n",
      "0.17353558540344238 : df_frame_orig_subtracted = df_frame_orig[df_labels]\n",
      "(2047, 5)\n",
      "file_labels: voxelling_output/submission_files/vid_1_pred/0000037_labels.csv\n",
      "0.09374809265136719 : df_labels.to_csv(pickles_path+\"df_labels__frame_%d__%s__voxel_size_%d.p\"%(frame_idx, vid, voxel_size))\n",
      "2047\n",
      "0.03191113471984863 : save_frame_for_movie(df_frame_orig_subtracted, \"tmp_only_labeled/\", all_files, frame_idx)\n"
     ]
    },
    {
     "name": "stderr",
     "output_type": "stream",
     "text": [
      "\r",
      "  3%|████▏                                                                                                                                                            | 23/885 [01:24<52:38,  3.66s/it]"
     ]
    },
    {
     "name": "stdout",
     "output_type": "stream",
     "text": [
      "=========================================================================\n",
      "frame_idx = 38\n",
      "=========================================================================\n",
      "0.0 : list_idx = get_list_idx_for_frame(frame_idx, n_frames_per_side, shift)\n",
      "2.8858115673065186 : df_subtracted_frame = get_df_voxel_subtracted_frame(list_df_voxel_scene, frame_idx, n_frames_per_side, shift)\n",
      "1.1463208198547363 : df_frame_orig['voxel_id'] =  df_frame_orig.apply(lambda x: point_to_voxel(x, voxel_size), axis=1)\n",
      "0.0011010169982910156 : df_labels = df_frame_orig.voxel_id.isin(df_subtracted_frame.voxel_id)\n",
      "(302, 5)\n",
      "0.12330079078674316 : df_frame_orig_subtracted = df_frame_orig[df_labels]\n",
      "(1821, 5)\n",
      "file_labels: voxelling_output/submission_files/vid_1_pred/0000038_labels.csv\n",
      "0.08008670806884766 : df_labels.to_csv(pickles_path+\"df_labels__frame_%d__%s__voxel_size_%d.p\"%(frame_idx, vid, voxel_size))\n",
      "1821\n",
      "0.029981374740600586 : save_frame_for_movie(df_frame_orig_subtracted, \"tmp_only_labeled/\", all_files, frame_idx)\n"
     ]
    },
    {
     "name": "stderr",
     "output_type": "stream",
     "text": [
      "\r",
      "  3%|████▎                                                                                                                                                            | 24/885 [01:28<52:57,  3.69s/it]"
     ]
    },
    {
     "name": "stdout",
     "output_type": "stream",
     "text": [
      "=========================================================================\n",
      "frame_idx = 39\n",
      "=========================================================================\n",
      "0.0 : list_idx = get_list_idx_for_frame(frame_idx, n_frames_per_side, shift)\n",
      "2.7537801265716553 : df_subtracted_frame = get_df_voxel_subtracted_frame(list_df_voxel_scene, frame_idx, n_frames_per_side, shift)\n",
      "1.0982565879821777 : df_frame_orig['voxel_id'] =  df_frame_orig.apply(lambda x: point_to_voxel(x, voxel_size), axis=1)\n",
      "0.010087728500366211 : df_labels = df_frame_orig.voxel_id.isin(df_subtracted_frame.voxel_id)\n",
      "(317, 5)\n",
      "0.11962485313415527 : df_frame_orig_subtracted = df_frame_orig[df_labels]\n",
      "(1778, 5)\n",
      "file_labels: voxelling_output/submission_files/vid_1_pred/0000039_labels.csv\n",
      "0.07967066764831543 : df_labels.to_csv(pickles_path+\"df_labels__frame_%d__%s__voxel_size_%d.p\"%(frame_idx, vid, voxel_size))\n",
      "1778\n",
      "0.0200960636138916 : save_frame_for_movie(df_frame_orig_subtracted, \"tmp_only_labeled/\", all_files, frame_idx)\n"
     ]
    },
    {
     "name": "stderr",
     "output_type": "stream",
     "text": [
      "\r",
      "  3%|████▌                                                                                                                                                            | 25/885 [01:32<53:08,  3.71s/it]"
     ]
    },
    {
     "name": "stdout",
     "output_type": "stream",
     "text": [
      "=========================================================================\n",
      "frame_idx = 40\n",
      "=========================================================================\n",
      "0.0 : list_idx = get_list_idx_for_frame(frame_idx, n_frames_per_side, shift)\n",
      "2.7572643756866455 : df_subtracted_frame = get_df_voxel_subtracted_frame(list_df_voxel_scene, frame_idx, n_frames_per_side, shift)\n",
      "1.1304442882537842 : df_frame_orig['voxel_id'] =  df_frame_orig.apply(lambda x: point_to_voxel(x, voxel_size), axis=1)\n",
      "0.008744001388549805 : df_labels = df_frame_orig.voxel_id.isin(df_subtracted_frame.voxel_id)\n",
      "(346, 5)\n",
      "0.13073301315307617 : df_frame_orig_subtracted = df_frame_orig[df_labels]\n",
      "(1730, 5)\n",
      "file_labels: voxelling_output/submission_files/vid_1_pred/0000040_labels.csv\n",
      "0.08005380630493164 : df_labels.to_csv(pickles_path+\"df_labels__frame_%d__%s__voxel_size_%d.p\"%(frame_idx, vid, voxel_size))\n",
      "1730\n",
      "0.01968097686767578 : save_frame_for_movie(df_frame_orig_subtracted, \"tmp_only_labeled/\", all_files, frame_idx)\n"
     ]
    },
    {
     "name": "stderr",
     "output_type": "stream",
     "text": [
      "\r",
      "  3%|████▋                                                                                                                                                            | 26/885 [01:36<53:19,  3.72s/it]"
     ]
    },
    {
     "name": "stdout",
     "output_type": "stream",
     "text": [
      "=========================================================================\n",
      "frame_idx = 41\n",
      "=========================================================================\n",
      "0.0 : list_idx = get_list_idx_for_frame(frame_idx, n_frames_per_side, shift)\n",
      "2.7617228031158447 : df_subtracted_frame = get_df_voxel_subtracted_frame(list_df_voxel_scene, frame_idx, n_frames_per_side, shift)\n",
      "1.0996322631835938 : df_frame_orig['voxel_id'] =  df_frame_orig.apply(lambda x: point_to_voxel(x, voxel_size), axis=1)\n",
      "0.0039615631103515625 : df_labels = df_frame_orig.voxel_id.isin(df_subtracted_frame.voxel_id)\n",
      "(319, 5)\n",
      "0.1260852813720703 : df_frame_orig_subtracted = df_frame_orig[df_labels]\n",
      "(1701, 5)\n",
      "file_labels: voxelling_output/submission_files/vid_1_pred/0000041_labels.csv\n",
      "0.09993267059326172 : df_labels.to_csv(pickles_path+\"df_labels__frame_%d__%s__voxel_size_%d.p\"%(frame_idx, vid, voxel_size))\n",
      "1701\n",
      "0.02016592025756836 : save_frame_for_movie(df_frame_orig_subtracted, \"tmp_only_labeled/\", all_files, frame_idx)\n"
     ]
    },
    {
     "name": "stderr",
     "output_type": "stream",
     "text": [
      "\r",
      "  3%|████▉                                                                                                                                                            | 27/885 [01:40<53:28,  3.74s/it]"
     ]
    },
    {
     "name": "stdout",
     "output_type": "stream",
     "text": [
      "=========================================================================\n",
      "frame_idx = 42\n",
      "=========================================================================\n",
      "0.0 : list_idx = get_list_idx_for_frame(frame_idx, n_frames_per_side, shift)\n",
      "2.729135274887085 : df_subtracted_frame = get_df_voxel_subtracted_frame(list_df_voxel_scene, frame_idx, n_frames_per_side, shift)\n",
      "1.11472749710083 : df_frame_orig['voxel_id'] =  df_frame_orig.apply(lambda x: point_to_voxel(x, voxel_size), axis=1)\n",
      "0.0 : df_labels = df_frame_orig.voxel_id.isin(df_subtracted_frame.voxel_id)\n",
      "(341, 5)\n",
      "0.12860417366027832 : df_frame_orig_subtracted = df_frame_orig[df_labels]\n",
      "(1576, 5)\n",
      "file_labels: voxelling_output/submission_files/vid_1_pred/0000042_labels.csv\n",
      "0.08021163940429688 : df_labels.to_csv(pickles_path+\"df_labels__frame_%d__%s__voxel_size_%d.p\"%(frame_idx, vid, voxel_size))\n",
      "1576\n",
      "0.020210742950439453 : save_frame_for_movie(df_frame_orig_subtracted, \"tmp_only_labeled/\", all_files, frame_idx)\n"
     ]
    },
    {
     "name": "stderr",
     "output_type": "stream",
     "text": [
      "\r",
      "  3%|█████                                                                                                                                                            | 28/885 [01:45<53:36,  3.75s/it]"
     ]
    },
    {
     "name": "stdout",
     "output_type": "stream",
     "text": [
      "=========================================================================\n",
      "frame_idx = 43\n",
      "=========================================================================\n",
      "0.0 : list_idx = get_list_idx_for_frame(frame_idx, n_frames_per_side, shift)\n",
      "2.809898853302002 : df_subtracted_frame = get_df_voxel_subtracted_frame(list_df_voxel_scene, frame_idx, n_frames_per_side, shift)\n",
      "1.117187738418579 : df_frame_orig['voxel_id'] =  df_frame_orig.apply(lambda x: point_to_voxel(x, voxel_size), axis=1)\n",
      "0.0027725696563720703 : df_labels = df_frame_orig.voxel_id.isin(df_subtracted_frame.voxel_id)\n",
      "(331, 5)\n",
      "0.12200236320495605 : df_frame_orig_subtracted = df_frame_orig[df_labels]\n",
      "(1681, 5)\n",
      "file_labels: voxelling_output/submission_files/vid_1_pred/0000043_labels.csv\n",
      "0.08021712303161621 : df_labels.to_csv(pickles_path+\"df_labels__frame_%d__%s__voxel_size_%d.p\"%(frame_idx, vid, voxel_size))\n",
      "1681\n",
      "0.01969456672668457 : save_frame_for_movie(df_frame_orig_subtracted, \"tmp_only_labeled/\", all_files, frame_idx)\n"
     ]
    },
    {
     "name": "stderr",
     "output_type": "stream",
     "text": [
      "\r",
      "  3%|█████▎                                                                                                                                                           | 29/885 [01:49<53:45,  3.77s/it]"
     ]
    },
    {
     "name": "stdout",
     "output_type": "stream",
     "text": [
      "=========================================================================\n",
      "frame_idx = 44\n",
      "=========================================================================\n",
      "0.0 : list_idx = get_list_idx_for_frame(frame_idx, n_frames_per_side, shift)\n",
      "2.625990390777588 : df_subtracted_frame = get_df_voxel_subtracted_frame(list_df_voxel_scene, frame_idx, n_frames_per_side, shift)\n",
      "1.0176146030426025 : df_frame_orig['voxel_id'] =  df_frame_orig.apply(lambda x: point_to_voxel(x, voxel_size), axis=1)\n",
      "0.005304574966430664 : df_labels = df_frame_orig.voxel_id.isin(df_subtracted_frame.voxel_id)\n",
      "(443, 5)\n",
      "0.10632801055908203 : df_frame_orig_subtracted = df_frame_orig[df_labels]\n",
      "(1935, 5)\n",
      "file_labels: voxelling_output/submission_files/vid_1_pred/0000044_labels.csv\n",
      "0.0727999210357666 : df_labels.to_csv(pickles_path+\"df_labels__frame_%d__%s__voxel_size_%d.p\"%(frame_idx, vid, voxel_size))\n",
      "1935\n",
      "0.024959802627563477 : save_frame_for_movie(df_frame_orig_subtracted, \"tmp_only_labeled/\", all_files, frame_idx)\n"
     ]
    },
    {
     "name": "stderr",
     "output_type": "stream",
     "text": [
      "\r",
      "  3%|█████▍                                                                                                                                                           | 30/885 [01:53<53:44,  3.77s/it]"
     ]
    },
    {
     "name": "stdout",
     "output_type": "stream",
     "text": [
      "=========================================================================\n",
      "frame_idx = 45\n",
      "=========================================================================\n",
      "0.0 : list_idx = get_list_idx_for_frame(frame_idx, n_frames_per_side, shift)\n",
      "2.666658401489258 : df_subtracted_frame = get_df_voxel_subtracted_frame(list_df_voxel_scene, frame_idx, n_frames_per_side, shift)\n",
      "1.0154087543487549 : df_frame_orig['voxel_id'] =  df_frame_orig.apply(lambda x: point_to_voxel(x, voxel_size), axis=1)\n",
      "0.0067441463470458984 : df_labels = df_frame_orig.voxel_id.isin(df_subtracted_frame.voxel_id)\n",
      "(423, 5)\n",
      "0.11031723022460938 : df_frame_orig_subtracted = df_frame_orig[df_labels]\n",
      "(2249, 5)\n",
      "file_labels: voxelling_output/submission_files/vid_1_pred/0000045_labels.csv\n",
      "0.06879830360412598 : df_labels.to_csv(pickles_path+\"df_labels__frame_%d__%s__voxel_size_%d.p\"%(frame_idx, vid, voxel_size))\n",
      "2249\n",
      "0.03116464614868164 : save_frame_for_movie(df_frame_orig_subtracted, \"tmp_only_labeled/\", all_files, frame_idx)\n"
     ]
    },
    {
     "name": "stderr",
     "output_type": "stream",
     "text": [
      "\r",
      "  4%|█████▋                                                                                                                                                           | 31/885 [01:57<53:45,  3.78s/it]"
     ]
    },
    {
     "name": "stdout",
     "output_type": "stream",
     "text": [
      "=========================================================================\n",
      "frame_idx = 46\n",
      "=========================================================================\n",
      "0.0 : list_idx = get_list_idx_for_frame(frame_idx, n_frames_per_side, shift)\n",
      "2.4559600353240967 : df_subtracted_frame = get_df_voxel_subtracted_frame(list_df_voxel_scene, frame_idx, n_frames_per_side, shift)\n",
      "0.9871156215667725 : df_frame_orig['voxel_id'] =  df_frame_orig.apply(lambda x: point_to_voxel(x, voxel_size), axis=1)\n",
      "0.0013213157653808594 : df_labels = df_frame_orig.voxel_id.isin(df_subtracted_frame.voxel_id)\n",
      "(511, 5)\n",
      "0.1227266788482666 : df_frame_orig_subtracted = df_frame_orig[df_labels]\n",
      "(2574, 5)\n",
      "file_labels: voxelling_output/submission_files/vid_1_pred/0000046_labels.csv\n",
      "0.07932829856872559 : df_labels.to_csv(pickles_path+\"df_labels__frame_%d__%s__voxel_size_%d.p\"%(frame_idx, vid, voxel_size))\n",
      "2574\n",
      "0.028949737548828125 : save_frame_for_movie(df_frame_orig_subtracted, \"tmp_only_labeled/\", all_files, frame_idx)\n"
     ]
    },
    {
     "name": "stderr",
     "output_type": "stream",
     "text": [
      "\r",
      "  4%|█████▊                                                                                                                                                           | 32/885 [02:00<53:39,  3.77s/it]"
     ]
    },
    {
     "name": "stdout",
     "output_type": "stream",
     "text": [
      "=========================================================================\n",
      "frame_idx = 47\n",
      "=========================================================================\n",
      "0.0 : list_idx = get_list_idx_for_frame(frame_idx, n_frames_per_side, shift)\n",
      "2.490985631942749 : df_subtracted_frame = get_df_voxel_subtracted_frame(list_df_voxel_scene, frame_idx, n_frames_per_side, shift)\n",
      "1.0632562637329102 : df_frame_orig['voxel_id'] =  df_frame_orig.apply(lambda x: point_to_voxel(x, voxel_size), axis=1)\n",
      "0.0022492408752441406 : df_labels = df_frame_orig.voxel_id.isin(df_subtracted_frame.voxel_id)\n",
      "(437, 5)\n",
      "0.12469887733459473 : df_frame_orig_subtracted = df_frame_orig[df_labels]\n",
      "(2469, 5)\n",
      "file_labels: voxelling_output/submission_files/vid_1_pred/0000047_labels.csv\n",
      "0.07878851890563965 : df_labels.to_csv(pickles_path+\"df_labels__frame_%d__%s__voxel_size_%d.p\"%(frame_idx, vid, voxel_size))\n",
      "2469\n",
      "0.01819443702697754 : save_frame_for_movie(df_frame_orig_subtracted, \"tmp_only_labeled/\", all_files, frame_idx)\n"
     ]
    },
    {
     "name": "stderr",
     "output_type": "stream",
     "text": [
      "\r",
      "  4%|██████                                                                                                                                                           | 33/885 [02:04<53:36,  3.78s/it]"
     ]
    },
    {
     "name": "stdout",
     "output_type": "stream",
     "text": [
      "=========================================================================\n",
      "frame_idx = 48\n",
      "=========================================================================\n",
      "0.0 : list_idx = get_list_idx_for_frame(frame_idx, n_frames_per_side, shift)\n",
      "2.5776901245117188 : df_subtracted_frame = get_df_voxel_subtracted_frame(list_df_voxel_scene, frame_idx, n_frames_per_side, shift)\n",
      "1.0505971908569336 : df_frame_orig['voxel_id'] =  df_frame_orig.apply(lambda x: point_to_voxel(x, voxel_size), axis=1)\n",
      "0.009158134460449219 : df_labels = df_frame_orig.voxel_id.isin(df_subtracted_frame.voxel_id)\n",
      "(428, 5)\n",
      "0.12292146682739258 : df_frame_orig_subtracted = df_frame_orig[df_labels]\n",
      "(2471, 5)\n",
      "file_labels: voxelling_output/submission_files/vid_1_pred/0000048_labels.csv\n",
      "0.08463406562805176 : df_labels.to_csv(pickles_path+\"df_labels__frame_%d__%s__voxel_size_%d.p\"%(frame_idx, vid, voxel_size))\n",
      "2471\n",
      "0.028832674026489258 : save_frame_for_movie(df_frame_orig_subtracted, \"tmp_only_labeled/\", all_files, frame_idx)\n"
     ]
    },
    {
     "name": "stderr",
     "output_type": "stream",
     "text": [
      "\r",
      "  4%|██████▏                                                                                                                                                          | 34/885 [02:08<53:36,  3.78s/it]"
     ]
    },
    {
     "name": "stdout",
     "output_type": "stream",
     "text": [
      "=========================================================================\n",
      "frame_idx = 49\n",
      "=========================================================================\n",
      "0.0 : list_idx = get_list_idx_for_frame(frame_idx, n_frames_per_side, shift)\n",
      "2.590437412261963 : df_subtracted_frame = get_df_voxel_subtracted_frame(list_df_voxel_scene, frame_idx, n_frames_per_side, shift)\n",
      "1.0500833988189697 : df_frame_orig['voxel_id'] =  df_frame_orig.apply(lambda x: point_to_voxel(x, voxel_size), axis=1)\n",
      "0.0019943714141845703 : df_labels = df_frame_orig.voxel_id.isin(df_subtracted_frame.voxel_id)\n",
      "(423, 5)\n",
      "0.12409138679504395 : df_frame_orig_subtracted = df_frame_orig[df_labels]\n",
      "(2412, 5)\n",
      "file_labels: voxelling_output/submission_files/vid_1_pred/0000049_labels.csv\n",
      "0.060494422912597656 : df_labels.to_csv(pickles_path+\"df_labels__frame_%d__%s__voxel_size_%d.p\"%(frame_idx, vid, voxel_size))\n",
      "2412\n",
      "0.0279238224029541 : save_frame_for_movie(df_frame_orig_subtracted, \"tmp_only_labeled/\", all_files, frame_idx)\n"
     ]
    },
    {
     "name": "stderr",
     "output_type": "stream",
     "text": [
      "\r",
      "  4%|██████▎                                                                                                                                                          | 35/885 [02:12<53:35,  3.78s/it]"
     ]
    },
    {
     "name": "stdout",
     "output_type": "stream",
     "text": [
      "=========================================================================\n",
      "frame_idx = 50\n",
      "=========================================================================\n",
      "0.0 : list_idx = get_list_idx_for_frame(frame_idx, n_frames_per_side, shift)\n",
      "2.6769089698791504 : df_subtracted_frame = get_df_voxel_subtracted_frame(list_df_voxel_scene, frame_idx, n_frames_per_side, shift)\n",
      "1.1258959770202637 : df_frame_orig['voxel_id'] =  df_frame_orig.apply(lambda x: point_to_voxel(x, voxel_size), axis=1)\n",
      "0.0018701553344726562 : df_labels = df_frame_orig.voxel_id.isin(df_subtracted_frame.voxel_id)\n",
      "(476, 5)\n",
      "0.11559295654296875 : df_frame_orig_subtracted = df_frame_orig[df_labels]\n",
      "(2333, 5)\n",
      "file_labels: voxelling_output/submission_files/vid_1_pred/0000050_labels.csv\n",
      "0.08379578590393066 : df_labels.to_csv(pickles_path+\"df_labels__frame_%d__%s__voxel_size_%d.p\"%(frame_idx, vid, voxel_size))\n",
      "2333\n",
      "0.030635595321655273 : save_frame_for_movie(df_frame_orig_subtracted, \"tmp_only_labeled/\", all_files, frame_idx)\n"
     ]
    },
    {
     "name": "stderr",
     "output_type": "stream",
     "text": [
      "\r",
      "  4%|██████▌                                                                                                                                                          | 36/885 [02:16<53:37,  3.79s/it]"
     ]
    },
    {
     "name": "stdout",
     "output_type": "stream",
     "text": [
      "=========================================================================\n",
      "frame_idx = 51\n",
      "=========================================================================\n",
      "0.0 : list_idx = get_list_idx_for_frame(frame_idx, n_frames_per_side, shift)\n",
      "2.518519878387451 : df_subtracted_frame = get_df_voxel_subtracted_frame(list_df_voxel_scene, frame_idx, n_frames_per_side, shift)\n",
      "1.1251909732818604 : df_frame_orig['voxel_id'] =  df_frame_orig.apply(lambda x: point_to_voxel(x, voxel_size), axis=1)\n",
      "0.0009975433349609375 : df_labels = df_frame_orig.voxel_id.isin(df_subtracted_frame.voxel_id)\n",
      "(476, 5)\n",
      "0.12710189819335938 : df_frame_orig_subtracted = df_frame_orig[df_labels]\n",
      "(2465, 5)\n",
      "file_labels: voxelling_output/submission_files/vid_1_pred/0000051_labels.csv\n",
      "0.07498836517333984 : df_labels.to_csv(pickles_path+\"df_labels__frame_%d__%s__voxel_size_%d.p\"%(frame_idx, vid, voxel_size))\n",
      "2465\n",
      "0.031281471252441406 : save_frame_for_movie(df_frame_orig_subtracted, \"tmp_only_labeled/\", all_files, frame_idx)\n"
     ]
    },
    {
     "name": "stderr",
     "output_type": "stream",
     "text": [
      "\r",
      "  4%|██████▋                                                                                                                                                          | 37/885 [02:20<53:36,  3.79s/it]"
     ]
    },
    {
     "name": "stdout",
     "output_type": "stream",
     "text": [
      "=========================================================================\n",
      "frame_idx = 52\n",
      "=========================================================================\n",
      "0.0 : list_idx = get_list_idx_for_frame(frame_idx, n_frames_per_side, shift)\n",
      "2.633296251296997 : df_subtracted_frame = get_df_voxel_subtracted_frame(list_df_voxel_scene, frame_idx, n_frames_per_side, shift)\n",
      "1.10184645652771 : df_frame_orig['voxel_id'] =  df_frame_orig.apply(lambda x: point_to_voxel(x, voxel_size), axis=1)\n",
      "0.001995086669921875 : df_labels = df_frame_orig.voxel_id.isin(df_subtracted_frame.voxel_id)\n",
      "(568, 5)\n",
      "0.10529708862304688 : df_frame_orig_subtracted = df_frame_orig[df_labels]\n",
      "(2244, 5)\n",
      "file_labels: voxelling_output/submission_files/vid_1_pred/0000052_labels.csv\n",
      "0.0781099796295166 : df_labels.to_csv(pickles_path+\"df_labels__frame_%d__%s__voxel_size_%d.p\"%(frame_idx, vid, voxel_size))\n",
      "2244\n",
      "0.022158384323120117 : save_frame_for_movie(df_frame_orig_subtracted, \"tmp_only_labeled/\", all_files, frame_idx)\n"
     ]
    },
    {
     "name": "stderr",
     "output_type": "stream",
     "text": [
      "\r",
      "  4%|██████▉                                                                                                                                                          | 38/885 [02:24<53:36,  3.80s/it]"
     ]
    },
    {
     "name": "stdout",
     "output_type": "stream",
     "text": [
      "=========================================================================\n",
      "frame_idx = 53\n",
      "=========================================================================\n",
      "0.0 : list_idx = get_list_idx_for_frame(frame_idx, n_frames_per_side, shift)\n",
      "2.971208095550537 : df_subtracted_frame = get_df_voxel_subtracted_frame(list_df_voxel_scene, frame_idx, n_frames_per_side, shift)\n",
      "1.2532718181610107 : df_frame_orig['voxel_id'] =  df_frame_orig.apply(lambda x: point_to_voxel(x, voxel_size), axis=1)\n",
      "0.0009970664978027344 : df_labels = df_frame_orig.voxel_id.isin(df_subtracted_frame.voxel_id)\n",
      "(596, 5)\n",
      "0.14124274253845215 : df_frame_orig_subtracted = df_frame_orig[df_labels]\n",
      "(2084, 5)\n",
      "file_labels: voxelling_output/submission_files/vid_1_pred/0000053_labels.csv\n",
      "0.09275269508361816 : df_labels.to_csv(pickles_path+\"df_labels__frame_%d__%s__voxel_size_%d.p\"%(frame_idx, vid, voxel_size))\n",
      "2084\n",
      "0.026549100875854492 : save_frame_for_movie(df_frame_orig_subtracted, \"tmp_only_labeled/\", all_files, frame_idx)\n"
     ]
    },
    {
     "name": "stderr",
     "output_type": "stream",
     "text": [
      "\r",
      "  4%|███████                                                                                                                                                          | 39/885 [02:28<53:48,  3.82s/it]"
     ]
    },
    {
     "name": "stdout",
     "output_type": "stream",
     "text": [
      "=========================================================================\n",
      "frame_idx = 54\n",
      "=========================================================================\n",
      "0.0 : list_idx = get_list_idx_for_frame(frame_idx, n_frames_per_side, shift)\n",
      "3.032707691192627 : df_subtracted_frame = get_df_voxel_subtracted_frame(list_df_voxel_scene, frame_idx, n_frames_per_side, shift)\n",
      "1.2571148872375488 : df_frame_orig['voxel_id'] =  df_frame_orig.apply(lambda x: point_to_voxel(x, voxel_size), axis=1)\n",
      "0.0027365684509277344 : df_labels = df_frame_orig.voxel_id.isin(df_subtracted_frame.voxel_id)\n",
      "(733, 5)\n",
      "0.13248014450073242 : df_frame_orig_subtracted = df_frame_orig[df_labels]\n",
      "(1800, 5)\n",
      "file_labels: voxelling_output/submission_files/vid_1_pred/0000054_labels.csv\n",
      "0.08491373062133789 : df_labels.to_csv(pickles_path+\"df_labels__frame_%d__%s__voxel_size_%d.p\"%(frame_idx, vid, voxel_size))\n",
      "1800\n",
      "0.021157264709472656 : save_frame_for_movie(df_frame_orig_subtracted, \"tmp_only_labeled/\", all_files, frame_idx)\n"
     ]
    },
    {
     "name": "stderr",
     "output_type": "stream",
     "text": [
      "\r",
      "  5%|███████▎                                                                                                                                                         | 40/885 [02:33<53:59,  3.83s/it]"
     ]
    },
    {
     "name": "stdout",
     "output_type": "stream",
     "text": [
      "=========================================================================\n",
      "frame_idx = 55\n",
      "=========================================================================\n",
      "0.0 : list_idx = get_list_idx_for_frame(frame_idx, n_frames_per_side, shift)\n",
      "2.929957628250122 : df_subtracted_frame = get_df_voxel_subtracted_frame(list_df_voxel_scene, frame_idx, n_frames_per_side, shift)\n",
      "1.3001840114593506 : df_frame_orig['voxel_id'] =  df_frame_orig.apply(lambda x: point_to_voxel(x, voxel_size), axis=1)\n",
      "0.001997232437133789 : df_labels = df_frame_orig.voxel_id.isin(df_subtracted_frame.voxel_id)\n",
      "(765, 5)\n",
      "0.15516042709350586 : df_frame_orig_subtracted = df_frame_orig[df_labels]\n",
      "(2243, 5)\n",
      "file_labels: voxelling_output/submission_files/vid_1_pred/0000055_labels.csv\n",
      "0.11070990562438965 : df_labels.to_csv(pickles_path+\"df_labels__frame_%d__%s__voxel_size_%d.p\"%(frame_idx, vid, voxel_size))\n",
      "2243\n",
      "0.02992868423461914 : save_frame_for_movie(df_frame_orig_subtracted, \"tmp_only_labeled/\", all_files, frame_idx)\n"
     ]
    },
    {
     "name": "stderr",
     "output_type": "stream",
     "text": [
      "\r",
      "  5%|███████▍                                                                                                                                                         | 41/885 [02:37<54:11,  3.85s/it]"
     ]
    },
    {
     "name": "stdout",
     "output_type": "stream",
     "text": [
      "=========================================================================\n",
      "frame_idx = 56\n",
      "=========================================================================\n",
      "0.0 : list_idx = get_list_idx_for_frame(frame_idx, n_frames_per_side, shift)\n",
      "3.038607358932495 : df_subtracted_frame = get_df_voxel_subtracted_frame(list_df_voxel_scene, frame_idx, n_frames_per_side, shift)\n",
      "1.2786431312561035 : df_frame_orig['voxel_id'] =  df_frame_orig.apply(lambda x: point_to_voxel(x, voxel_size), axis=1)\n",
      "0.0009965896606445312 : df_labels = df_frame_orig.voxel_id.isin(df_subtracted_frame.voxel_id)\n",
      "(768, 5)\n",
      "0.136122465133667 : df_frame_orig_subtracted = df_frame_orig[df_labels]\n",
      "(2268, 5)\n",
      "file_labels: voxelling_output/submission_files/vid_1_pred/0000056_labels.csv\n",
      "0.08687257766723633 : df_labels.to_csv(pickles_path+\"df_labels__frame_%d__%s__voxel_size_%d.p\"%(frame_idx, vid, voxel_size))\n",
      "2268\n",
      "0.029918670654296875 : save_frame_for_movie(df_frame_orig_subtracted, \"tmp_only_labeled/\", all_files, frame_idx)\n"
     ]
    },
    {
     "name": "stderr",
     "output_type": "stream",
     "text": [
      "\r",
      "  5%|███████▋                                                                                                                                                         | 42/885 [02:42<54:22,  3.87s/it]"
     ]
    },
    {
     "name": "stdout",
     "output_type": "stream",
     "text": [
      "=========================================================================\n",
      "frame_idx = 57\n",
      "=========================================================================\n",
      "0.0 : list_idx = get_list_idx_for_frame(frame_idx, n_frames_per_side, shift)\n",
      "2.927595615386963 : df_subtracted_frame = get_df_voxel_subtracted_frame(list_df_voxel_scene, frame_idx, n_frames_per_side, shift)\n",
      "1.2397451400756836 : df_frame_orig['voxel_id'] =  df_frame_orig.apply(lambda x: point_to_voxel(x, voxel_size), axis=1)\n",
      "0.0037865638732910156 : df_labels = df_frame_orig.voxel_id.isin(df_subtracted_frame.voxel_id)\n",
      "(686, 5)\n",
      "0.1393110752105713 : df_frame_orig_subtracted = df_frame_orig[df_labels]\n",
      "(2973, 5)\n",
      "file_labels: voxelling_output/submission_files/vid_1_pred/0000057_labels.csv\n",
      "0.08041620254516602 : df_labels.to_csv(pickles_path+\"df_labels__frame_%d__%s__voxel_size_%d.p\"%(frame_idx, vid, voxel_size))\n",
      "2973\n",
      "0.029888391494750977 : save_frame_for_movie(df_frame_orig_subtracted, \"tmp_only_labeled/\", all_files, frame_idx)\n"
     ]
    },
    {
     "name": "stderr",
     "output_type": "stream",
     "text": [
      "\r",
      "  5%|███████▊                                                                                                                                                         | 43/885 [02:46<54:29,  3.88s/it]"
     ]
    },
    {
     "name": "stdout",
     "output_type": "stream",
     "text": [
      "=========================================================================\n",
      "frame_idx = 58\n",
      "=========================================================================\n",
      "0.0 : list_idx = get_list_idx_for_frame(frame_idx, n_frames_per_side, shift)\n",
      "2.738379716873169 : df_subtracted_frame = get_df_voxel_subtracted_frame(list_df_voxel_scene, frame_idx, n_frames_per_side, shift)\n",
      "1.201890230178833 : df_frame_orig['voxel_id'] =  df_frame_orig.apply(lambda x: point_to_voxel(x, voxel_size), axis=1)\n",
      "0.0036308765411376953 : df_labels = df_frame_orig.voxel_id.isin(df_subtracted_frame.voxel_id)\n",
      "(489, 5)\n",
      "0.12281656265258789 : df_frame_orig_subtracted = df_frame_orig[df_labels]\n",
      "(2214, 5)\n",
      "file_labels: voxelling_output/submission_files/vid_1_pred/0000058_labels.csv\n",
      "0.07887840270996094 : df_labels.to_csv(pickles_path+\"df_labels__frame_%d__%s__voxel_size_%d.p\"%(frame_idx, vid, voxel_size))\n",
      "2214\n",
      "0.02064228057861328 : save_frame_for_movie(df_frame_orig_subtracted, \"tmp_only_labeled/\", all_files, frame_idx)\n"
     ]
    },
    {
     "name": "stderr",
     "output_type": "stream",
     "text": [
      "\r",
      "  5%|████████                                                                                                                                                         | 44/885 [02:51<54:32,  3.89s/it]"
     ]
    },
    {
     "name": "stdout",
     "output_type": "stream",
     "text": [
      "=========================================================================\n",
      "frame_idx = 59\n",
      "=========================================================================\n",
      "0.0 : list_idx = get_list_idx_for_frame(frame_idx, n_frames_per_side, shift)\n",
      "2.6823127269744873 : df_subtracted_frame = get_df_voxel_subtracted_frame(list_df_voxel_scene, frame_idx, n_frames_per_side, shift)\n",
      "1.188148021697998 : df_frame_orig['voxel_id'] =  df_frame_orig.apply(lambda x: point_to_voxel(x, voxel_size), axis=1)\n",
      "0.0024437904357910156 : df_labels = df_frame_orig.voxel_id.isin(df_subtracted_frame.voxel_id)\n",
      "(342, 5)\n",
      "0.1289057731628418 : df_frame_orig_subtracted = df_frame_orig[df_labels]\n",
      "(2544, 5)\n",
      "file_labels: voxelling_output/submission_files/vid_1_pred/0000059_labels.csv\n",
      "0.07995295524597168 : df_labels.to_csv(pickles_path+\"df_labels__frame_%d__%s__voxel_size_%d.p\"%(frame_idx, vid, voxel_size))\n",
      "2544\n",
      "0.029819011688232422 : save_frame_for_movie(df_frame_orig_subtracted, \"tmp_only_labeled/\", all_files, frame_idx)\n"
     ]
    },
    {
     "name": "stderr",
     "output_type": "stream",
     "text": [
      "\r",
      "  5%|████████▏                                                                                                                                                        | 45/885 [02:55<54:33,  3.90s/it]"
     ]
    },
    {
     "name": "stdout",
     "output_type": "stream",
     "text": [
      "=========================================================================\n",
      "frame_idx = 60\n",
      "=========================================================================\n",
      "0.0 : list_idx = get_list_idx_for_frame(frame_idx, n_frames_per_side, shift)\n",
      "2.6421515941619873 : df_subtracted_frame = get_df_voxel_subtracted_frame(list_df_voxel_scene, frame_idx, n_frames_per_side, shift)\n",
      "1.2252445220947266 : df_frame_orig['voxel_id'] =  df_frame_orig.apply(lambda x: point_to_voxel(x, voxel_size), axis=1)\n",
      "0.0016689300537109375 : df_labels = df_frame_orig.voxel_id.isin(df_subtracted_frame.voxel_id)\n",
      "(320, 5)\n",
      "0.13077926635742188 : df_frame_orig_subtracted = df_frame_orig[df_labels]\n",
      "(2784, 5)\n",
      "file_labels: voxelling_output/submission_files/vid_1_pred/0000060_labels.csv\n",
      "0.08007931709289551 : df_labels.to_csv(pickles_path+\"df_labels__frame_%d__%s__voxel_size_%d.p\"%(frame_idx, vid, voxel_size))\n",
      "2784\n",
      "0.029891490936279297 : save_frame_for_movie(df_frame_orig_subtracted, \"tmp_only_labeled/\", all_files, frame_idx)\n"
     ]
    },
    {
     "name": "stderr",
     "output_type": "stream",
     "text": [
      "\r",
      "  5%|████████▎                                                                                                                                                        | 46/885 [02:59<54:33,  3.90s/it]"
     ]
    },
    {
     "name": "stdout",
     "output_type": "stream",
     "text": [
      "=========================================================================\n",
      "frame_idx = 61\n",
      "=========================================================================\n",
      "0.0 : list_idx = get_list_idx_for_frame(frame_idx, n_frames_per_side, shift)\n",
      "2.6385812759399414 : df_subtracted_frame = get_df_voxel_subtracted_frame(list_df_voxel_scene, frame_idx, n_frames_per_side, shift)\n",
      "1.19374418258667 : df_frame_orig['voxel_id'] =  df_frame_orig.apply(lambda x: point_to_voxel(x, voxel_size), axis=1)\n",
      "0.001926422119140625 : df_labels = df_frame_orig.voxel_id.isin(df_subtracted_frame.voxel_id)\n",
      "(430, 5)\n",
      "0.13099908828735352 : df_frame_orig_subtracted = df_frame_orig[df_labels]\n",
      "(3059, 5)\n",
      "file_labels: voxelling_output/submission_files/vid_1_pred/0000061_labels.csv\n",
      "0.06952738761901855 : df_labels.to_csv(pickles_path+\"df_labels__frame_%d__%s__voxel_size_%d.p\"%(frame_idx, vid, voxel_size))\n",
      "3059\n",
      "0.035329341888427734 : save_frame_for_movie(df_frame_orig_subtracted, \"tmp_only_labeled/\", all_files, frame_idx)\n"
     ]
    },
    {
     "name": "stderr",
     "output_type": "stream",
     "text": [
      "\r",
      "  5%|████████▌                                                                                                                                                        | 47/885 [03:03<54:33,  3.91s/it]"
     ]
    },
    {
     "name": "stdout",
     "output_type": "stream",
     "text": [
      "=========================================================================\n",
      "frame_idx = 62\n",
      "=========================================================================\n",
      "0.0 : list_idx = get_list_idx_for_frame(frame_idx, n_frames_per_side, shift)\n",
      "2.308480978012085 : df_subtracted_frame = get_df_voxel_subtracted_frame(list_df_voxel_scene, frame_idx, n_frames_per_side, shift)\n",
      "1.135481357574463 : df_frame_orig['voxel_id'] =  df_frame_orig.apply(lambda x: point_to_voxel(x, voxel_size), axis=1)\n",
      "0.002045154571533203 : df_labels = df_frame_orig.voxel_id.isin(df_subtracted_frame.voxel_id)\n",
      "(579, 5)\n",
      "0.13065171241760254 : df_frame_orig_subtracted = df_frame_orig[df_labels]\n",
      "(3112, 5)\n",
      "file_labels: voxelling_output/submission_files/vid_1_pred/0000062_labels.csv\n",
      "0.07494926452636719 : df_labels.to_csv(pickles_path+\"df_labels__frame_%d__%s__voxel_size_%d.p\"%(frame_idx, vid, voxel_size))\n",
      "3112\n",
      "0.03127312660217285 : save_frame_for_movie(df_frame_orig_subtracted, \"tmp_only_labeled/\", all_files, frame_idx)\n"
     ]
    },
    {
     "name": "stderr",
     "output_type": "stream",
     "text": [
      "\r",
      "  5%|████████▋                                                                                                                                                        | 48/885 [03:07<54:26,  3.90s/it]"
     ]
    },
    {
     "name": "stdout",
     "output_type": "stream",
     "text": [
      "=========================================================================\n",
      "frame_idx = 63\n",
      "=========================================================================\n",
      "0.0 : list_idx = get_list_idx_for_frame(frame_idx, n_frames_per_side, shift)\n",
      "2.5826494693756104 : df_subtracted_frame = get_df_voxel_subtracted_frame(list_df_voxel_scene, frame_idx, n_frames_per_side, shift)\n",
      "1.165210485458374 : df_frame_orig['voxel_id'] =  df_frame_orig.apply(lambda x: point_to_voxel(x, voxel_size), axis=1)\n",
      "0.004391193389892578 : df_labels = df_frame_orig.voxel_id.isin(df_subtracted_frame.voxel_id)\n",
      "(707, 5)\n",
      "0.12437868118286133 : df_frame_orig_subtracted = df_frame_orig[df_labels]\n",
      "(3132, 5)\n",
      "file_labels: voxelling_output/submission_files/vid_1_pred/0000063_labels.csv\n",
      "0.08299660682678223 : df_labels.to_csv(pickles_path+\"df_labels__frame_%d__%s__voxel_size_%d.p\"%(frame_idx, vid, voxel_size))\n",
      "3132\n",
      "0.034390926361083984 : save_frame_for_movie(df_frame_orig_subtracted, \"tmp_only_labeled/\", all_files, frame_idx)\n"
     ]
    },
    {
     "name": "stderr",
     "output_type": "stream",
     "text": [
      "\r",
      "  6%|████████▉                                                                                                                                                        | 49/885 [03:11<54:24,  3.90s/it]"
     ]
    },
    {
     "name": "stdout",
     "output_type": "stream",
     "text": [
      "=========================================================================\n",
      "frame_idx = 64\n",
      "=========================================================================\n",
      "0.0 : list_idx = get_list_idx_for_frame(frame_idx, n_frames_per_side, shift)\n",
      "2.5551047325134277 : df_subtracted_frame = get_df_voxel_subtracted_frame(list_df_voxel_scene, frame_idx, n_frames_per_side, shift)\n",
      "1.228287696838379 : df_frame_orig['voxel_id'] =  df_frame_orig.apply(lambda x: point_to_voxel(x, voxel_size), axis=1)\n",
      "0.0019948482513427734 : df_labels = df_frame_orig.voxel_id.isin(df_subtracted_frame.voxel_id)\n",
      "(650, 5)\n",
      "0.12394189834594727 : df_frame_orig_subtracted = df_frame_orig[df_labels]\n",
      "(3006, 5)\n",
      "file_labels: voxelling_output/submission_files/vid_1_pred/0000064_labels.csv\n",
      "0.09374761581420898 : df_labels.to_csv(pickles_path+\"df_labels__frame_%d__%s__voxel_size_%d.p\"%(frame_idx, vid, voxel_size))\n",
      "3006\n",
      "0.03891134262084961 : save_frame_for_movie(df_frame_orig_subtracted, \"tmp_only_labeled/\", all_files, frame_idx)\n"
     ]
    },
    {
     "name": "stderr",
     "output_type": "stream",
     "text": [
      "\r",
      "  6%|█████████                                                                                                                                                        | 50/885 [03:15<54:23,  3.91s/it]"
     ]
    },
    {
     "name": "stdout",
     "output_type": "stream",
     "text": [
      "=========================================================================\n",
      "frame_idx = 65\n",
      "=========================================================================\n",
      "0.0 : list_idx = get_list_idx_for_frame(frame_idx, n_frames_per_side, shift)\n",
      "2.3435773849487305 : df_subtracted_frame = get_df_voxel_subtracted_frame(list_df_voxel_scene, frame_idx, n_frames_per_side, shift)\n",
      "1.1563389301300049 : df_frame_orig['voxel_id'] =  df_frame_orig.apply(lambda x: point_to_voxel(x, voxel_size), axis=1)\n",
      "0.0010001659393310547 : df_labels = df_frame_orig.voxel_id.isin(df_subtracted_frame.voxel_id)\n",
      "(647, 5)\n",
      "0.13159418106079102 : df_frame_orig_subtracted = df_frame_orig[df_labels]\n",
      "(3474, 5)\n",
      "file_labels: voxelling_output/submission_files/vid_1_pred/0000065_labels.csv\n",
      "0.07492828369140625 : df_labels.to_csv(pickles_path+\"df_labels__frame_%d__%s__voxel_size_%d.p\"%(frame_idx, vid, voxel_size))\n",
      "3474\n",
      "0.0434722900390625 : save_frame_for_movie(df_frame_orig_subtracted, \"tmp_only_labeled/\", all_files, frame_idx)\n"
     ]
    },
    {
     "name": "stderr",
     "output_type": "stream",
     "text": [
      "\r",
      "  6%|█████████▎                                                                                                                                                       | 51/885 [03:19<54:17,  3.91s/it]"
     ]
    },
    {
     "name": "stdout",
     "output_type": "stream",
     "text": [
      "=========================================================================\n",
      "frame_idx = 66\n",
      "=========================================================================\n",
      "0.0 : list_idx = get_list_idx_for_frame(frame_idx, n_frames_per_side, shift)\n",
      "2.5341250896453857 : df_subtracted_frame = get_df_voxel_subtracted_frame(list_df_voxel_scene, frame_idx, n_frames_per_side, shift)\n",
      "1.1609184741973877 : df_frame_orig['voxel_id'] =  df_frame_orig.apply(lambda x: point_to_voxel(x, voxel_size), axis=1)\n",
      "0.008197546005249023 : df_labels = df_frame_orig.voxel_id.isin(df_subtracted_frame.voxel_id)\n",
      "(467, 5)\n",
      "0.1285719871520996 : df_frame_orig_subtracted = df_frame_orig[df_labels]\n",
      "(3984, 5)\n",
      "file_labels: voxelling_output/submission_files/vid_1_pred/0000066_labels.csv\n",
      "0.07418346405029297 : df_labels.to_csv(pickles_path+\"df_labels__frame_%d__%s__voxel_size_%d.p\"%(frame_idx, vid, voxel_size))\n",
      "3984\n",
      "0.05251169204711914 : save_frame_for_movie(df_frame_orig_subtracted, \"tmp_only_labeled/\", all_files, frame_idx)\n"
     ]
    },
    {
     "name": "stderr",
     "output_type": "stream",
     "text": [
      "\r",
      "  6%|█████████▍                                                                                                                                                       | 52/885 [03:23<54:14,  3.91s/it]"
     ]
    },
    {
     "name": "stdout",
     "output_type": "stream",
     "text": [
      "=========================================================================\n",
      "frame_idx = 67\n",
      "=========================================================================\n",
      "0.0 : list_idx = get_list_idx_for_frame(frame_idx, n_frames_per_side, shift)\n",
      "2.4071807861328125 : df_subtracted_frame = get_df_voxel_subtracted_frame(list_df_voxel_scene, frame_idx, n_frames_per_side, shift)\n",
      "1.1975297927856445 : df_frame_orig['voxel_id'] =  df_frame_orig.apply(lambda x: point_to_voxel(x, voxel_size), axis=1)\n",
      "0.0019943714141845703 : df_labels = df_frame_orig.voxel_id.isin(df_subtracted_frame.voxel_id)\n",
      "(244, 5)\n",
      "0.132676362991333 : df_frame_orig_subtracted = df_frame_orig[df_labels]\n",
      "(4070, 5)\n",
      "file_labels: voxelling_output/submission_files/vid_1_pred/0000067_labels.csv\n",
      "0.08377480506896973 : df_labels.to_csv(pickles_path+\"df_labels__frame_%d__%s__voxel_size_%d.p\"%(frame_idx, vid, voxel_size))\n",
      "4070\n",
      "0.03992509841918945 : save_frame_for_movie(df_frame_orig_subtracted, \"tmp_only_labeled/\", all_files, frame_idx)\n"
     ]
    },
    {
     "name": "stderr",
     "output_type": "stream",
     "text": [
      "\r",
      "  6%|█████████▋                                                                                                                                                       | 53/885 [03:27<54:10,  3.91s/it]"
     ]
    },
    {
     "name": "stdout",
     "output_type": "stream",
     "text": [
      "=========================================================================\n",
      "frame_idx = 68\n",
      "=========================================================================\n",
      "0.0 : list_idx = get_list_idx_for_frame(frame_idx, n_frames_per_side, shift)\n",
      "2.4571127891540527 : df_subtracted_frame = get_df_voxel_subtracted_frame(list_df_voxel_scene, frame_idx, n_frames_per_side, shift)\n",
      "1.1191363334655762 : df_frame_orig['voxel_id'] =  df_frame_orig.apply(lambda x: point_to_voxel(x, voxel_size), axis=1)\n",
      "0.00685882568359375 : df_labels = df_frame_orig.voxel_id.isin(df_subtracted_frame.voxel_id)\n",
      "(199, 5)\n",
      "0.1311020851135254 : df_frame_orig_subtracted = df_frame_orig[df_labels]\n",
      "(4672, 5)\n",
      "file_labels: voxelling_output/submission_files/vid_1_pred/0000068_labels.csv\n",
      "0.08477354049682617 : df_labels.to_csv(pickles_path+\"df_labels__frame_%d__%s__voxel_size_%d.p\"%(frame_idx, vid, voxel_size))\n",
      "4672\n",
      "0.04388165473937988 : save_frame_for_movie(df_frame_orig_subtracted, \"tmp_only_labeled/\", all_files, frame_idx)\n"
     ]
    },
    {
     "name": "stderr",
     "output_type": "stream",
     "text": [
      "\r",
      "  6%|█████████▊                                                                                                                                                       | 54/885 [03:30<54:05,  3.91s/it]"
     ]
    },
    {
     "name": "stdout",
     "output_type": "stream",
     "text": [
      "=========================================================================\n",
      "frame_idx = 69\n",
      "=========================================================================\n",
      "0.0 : list_idx = get_list_idx_for_frame(frame_idx, n_frames_per_side, shift)\n",
      "2.2536072731018066 : df_subtracted_frame = get_df_voxel_subtracted_frame(list_df_voxel_scene, frame_idx, n_frames_per_side, shift)\n",
      "1.2161478996276855 : df_frame_orig['voxel_id'] =  df_frame_orig.apply(lambda x: point_to_voxel(x, voxel_size), axis=1)\n",
      "0.0064814090728759766 : df_labels = df_frame_orig.voxel_id.isin(df_subtracted_frame.voxel_id)\n",
      "(217, 5)\n",
      "0.13565564155578613 : df_frame_orig_subtracted = df_frame_orig[df_labels]\n",
      "(5365, 5)\n",
      "file_labels: voxelling_output/submission_files/vid_1_pred/0000069_labels.csv\n",
      "0.10172653198242188 : df_labels.to_csv(pickles_path+\"df_labels__frame_%d__%s__voxel_size_%d.p\"%(frame_idx, vid, voxel_size))\n",
      "5365\n",
      "0.05088305473327637 : save_frame_for_movie(df_frame_orig_subtracted, \"tmp_only_labeled/\", all_files, frame_idx)\n"
     ]
    },
    {
     "name": "stderr",
     "output_type": "stream",
     "text": [
      "\r",
      "  6%|██████████                                                                                                                                                       | 55/885 [03:34<54:00,  3.90s/it]"
     ]
    },
    {
     "name": "stdout",
     "output_type": "stream",
     "text": [
      "=========================================================================\n",
      "frame_idx = 70\n",
      "=========================================================================\n",
      "0.0 : list_idx = get_list_idx_for_frame(frame_idx, n_frames_per_side, shift)\n",
      "2.289010763168335 : df_subtracted_frame = get_df_voxel_subtracted_frame(list_df_voxel_scene, frame_idx, n_frames_per_side, shift)\n",
      "1.1677796840667725 : df_frame_orig['voxel_id'] =  df_frame_orig.apply(lambda x: point_to_voxel(x, voxel_size), axis=1)\n",
      "0.0037016868591308594 : df_labels = df_frame_orig.voxel_id.isin(df_subtracted_frame.voxel_id)\n",
      "(270, 5)\n",
      "0.13666176795959473 : df_frame_orig_subtracted = df_frame_orig[df_labels]\n",
      "(4439, 5)\n",
      "file_labels: voxelling_output/submission_files/vid_1_pred/0000070_labels.csv\n",
      "0.0790095329284668 : df_labels.to_csv(pickles_path+\"df_labels__frame_%d__%s__voxel_size_%d.p\"%(frame_idx, vid, voxel_size))\n",
      "4439\n",
      "0.06399130821228027 : save_frame_for_movie(df_frame_orig_subtracted, \"tmp_only_labeled/\", all_files, frame_idx)\n"
     ]
    },
    {
     "name": "stderr",
     "output_type": "stream",
     "text": [
      "\r",
      "  6%|██████████▏                                                                                                                                                      | 56/885 [03:38<53:54,  3.90s/it]"
     ]
    },
    {
     "name": "stdout",
     "output_type": "stream",
     "text": [
      "=========================================================================\n",
      "frame_idx = 71\n",
      "=========================================================================\n",
      "0.0 : list_idx = get_list_idx_for_frame(frame_idx, n_frames_per_side, shift)\n",
      "2.4946813583374023 : df_subtracted_frame = get_df_voxel_subtracted_frame(list_df_voxel_scene, frame_idx, n_frames_per_side, shift)\n",
      "1.2980189323425293 : df_frame_orig['voxel_id'] =  df_frame_orig.apply(lambda x: point_to_voxel(x, voxel_size), axis=1)\n",
      "0.0019941329956054688 : df_labels = df_frame_orig.voxel_id.isin(df_subtracted_frame.voxel_id)\n",
      "(355, 5)\n",
      "0.1406235694885254 : df_frame_orig_subtracted = df_frame_orig[df_labels]\n",
      "(3479, 5)\n",
      "file_labels: voxelling_output/submission_files/vid_1_pred/0000071_labels.csv\n",
      "0.10571575164794922 : df_labels.to_csv(pickles_path+\"df_labels__frame_%d__%s__voxel_size_%d.p\"%(frame_idx, vid, voxel_size))\n",
      "3479\n",
      "0.03793478012084961 : save_frame_for_movie(df_frame_orig_subtracted, \"tmp_only_labeled/\", all_files, frame_idx)\n"
     ]
    },
    {
     "name": "stderr",
     "output_type": "stream",
     "text": [
      "\r",
      "  6%|██████████▎                                                                                                                                                      | 57/885 [03:42<53:53,  3.91s/it]"
     ]
    },
    {
     "name": "stdout",
     "output_type": "stream",
     "text": [
      "=========================================================================\n",
      "frame_idx = 72\n",
      "=========================================================================\n",
      "0.0 : list_idx = get_list_idx_for_frame(frame_idx, n_frames_per_side, shift)\n",
      "2.4532010555267334 : df_subtracted_frame = get_df_voxel_subtracted_frame(list_df_voxel_scene, frame_idx, n_frames_per_side, shift)\n",
      "1.26163649559021 : df_frame_orig['voxel_id'] =  df_frame_orig.apply(lambda x: point_to_voxel(x, voxel_size), axis=1)\n",
      "0.001992940902709961 : df_labels = df_frame_orig.voxel_id.isin(df_subtracted_frame.voxel_id)\n",
      "(513, 5)\n",
      "0.13465261459350586 : df_frame_orig_subtracted = df_frame_orig[df_labels]\n",
      "(2416, 5)\n",
      "file_labels: voxelling_output/submission_files/vid_1_pred/0000072_labels.csv\n",
      "0.08377528190612793 : df_labels.to_csv(pickles_path+\"df_labels__frame_%d__%s__voxel_size_%d.p\"%(frame_idx, vid, voxel_size))\n",
      "2416\n",
      "0.01678299903869629 : save_frame_for_movie(df_frame_orig_subtracted, \"tmp_only_labeled/\", all_files, frame_idx)\n"
     ]
    },
    {
     "name": "stderr",
     "output_type": "stream",
     "text": [
      "\r",
      "  7%|██████████▌                                                                                                                                                      | 58/885 [03:46<53:50,  3.91s/it]"
     ]
    },
    {
     "name": "stdout",
     "output_type": "stream",
     "text": [
      "=========================================================================\n",
      "frame_idx = 73\n",
      "=========================================================================\n",
      "0.0 : list_idx = get_list_idx_for_frame(frame_idx, n_frames_per_side, shift)\n",
      "2.431424379348755 : df_subtracted_frame = get_df_voxel_subtracted_frame(list_df_voxel_scene, frame_idx, n_frames_per_side, shift)\n",
      "1.1551475524902344 : df_frame_orig['voxel_id'] =  df_frame_orig.apply(lambda x: point_to_voxel(x, voxel_size), axis=1)\n",
      "0.001252889633178711 : df_labels = df_frame_orig.voxel_id.isin(df_subtracted_frame.voxel_id)\n",
      "(603, 5)\n",
      "0.12830519676208496 : df_frame_orig_subtracted = df_frame_orig[df_labels]\n",
      "(1409, 5)\n",
      "file_labels: voxelling_output/submission_files/vid_1_pred/0000073_labels.csv\n",
      "0.0851595401763916 : df_labels.to_csv(pickles_path+\"df_labels__frame_%d__%s__voxel_size_%d.p\"%(frame_idx, vid, voxel_size))\n",
      "1409\n",
      "0.022105693817138672 : save_frame_for_movie(df_frame_orig_subtracted, \"tmp_only_labeled/\", all_files, frame_idx)\n"
     ]
    },
    {
     "name": "stderr",
     "output_type": "stream",
     "text": [
      "\r",
      "  7%|██████████▋                                                                                                                                                      | 59/885 [03:50<53:46,  3.91s/it]"
     ]
    },
    {
     "name": "stdout",
     "output_type": "stream",
     "text": [
      "=========================================================================\n",
      "frame_idx = 74\n",
      "=========================================================================\n",
      "0.0 : list_idx = get_list_idx_for_frame(frame_idx, n_frames_per_side, shift)\n",
      "2.364962577819824 : df_subtracted_frame = get_df_voxel_subtracted_frame(list_df_voxel_scene, frame_idx, n_frames_per_side, shift)\n",
      "1.2065010070800781 : df_frame_orig['voxel_id'] =  df_frame_orig.apply(lambda x: point_to_voxel(x, voxel_size), axis=1)\n",
      "0.0019817352294921875 : df_labels = df_frame_orig.voxel_id.isin(df_subtracted_frame.voxel_id)\n",
      "(562, 5)\n",
      "0.14560985565185547 : df_frame_orig_subtracted = df_frame_orig[df_labels]\n",
      "(1105, 5)\n",
      "file_labels: voxelling_output/submission_files/vid_1_pred/0000074_labels.csv\n",
      "0.09575176239013672 : df_labels.to_csv(pickles_path+\"df_labels__frame_%d__%s__voxel_size_%d.p\"%(frame_idx, vid, voxel_size))\n",
      "1105\n",
      "0.01898360252380371 : save_frame_for_movie(df_frame_orig_subtracted, \"tmp_only_labeled/\", all_files, frame_idx)\n"
     ]
    },
    {
     "name": "stderr",
     "output_type": "stream",
     "text": [
      "\r",
      "  7%|██████████▉                                                                                                                                                      | 60/885 [03:54<53:41,  3.91s/it]"
     ]
    },
    {
     "name": "stdout",
     "output_type": "stream",
     "text": [
      "=========================================================================\n",
      "frame_idx = 75\n",
      "=========================================================================\n",
      "0.0009992122650146484 : list_idx = get_list_idx_for_frame(frame_idx, n_frames_per_side, shift)\n",
      "2.563286542892456 : df_subtracted_frame = get_df_voxel_subtracted_frame(list_df_voxel_scene, frame_idx, n_frames_per_side, shift)\n",
      "1.139066457748413 : df_frame_orig['voxel_id'] =  df_frame_orig.apply(lambda x: point_to_voxel(x, voxel_size), axis=1)\n",
      "0.0019941329956054688 : df_labels = df_frame_orig.voxel_id.isin(df_subtracted_frame.voxel_id)\n",
      "(448, 5)\n",
      "0.13364267349243164 : df_frame_orig_subtracted = df_frame_orig[df_labels]\n",
      "(1089, 5)\n",
      "file_labels: voxelling_output/submission_files/vid_1_pred/0000075_labels.csv\n",
      "0.08100724220275879 : df_labels.to_csv(pickles_path+\"df_labels__frame_%d__%s__voxel_size_%d.p\"%(frame_idx, vid, voxel_size))\n",
      "1089\n",
      "0.021944046020507812 : save_frame_for_movie(df_frame_orig_subtracted, \"tmp_only_labeled/\", all_files, frame_idx)\n"
     ]
    },
    {
     "name": "stderr",
     "output_type": "stream",
     "text": [
      "\r",
      "  7%|███████████                                                                                                                                                      | 61/885 [03:58<53:38,  3.91s/it]"
     ]
    },
    {
     "name": "stdout",
     "output_type": "stream",
     "text": [
      "=========================================================================\n",
      "frame_idx = 76\n",
      "=========================================================================\n",
      "0.0 : list_idx = get_list_idx_for_frame(frame_idx, n_frames_per_side, shift)\n",
      "2.341135025024414 : df_subtracted_frame = get_df_voxel_subtracted_frame(list_df_voxel_scene, frame_idx, n_frames_per_side, shift)\n",
      "1.1080193519592285 : df_frame_orig['voxel_id'] =  df_frame_orig.apply(lambda x: point_to_voxel(x, voxel_size), axis=1)\n",
      "0.0010004043579101562 : df_labels = df_frame_orig.voxel_id.isin(df_subtracted_frame.voxel_id)\n",
      "(213, 5)\n",
      "0.13964009284973145 : df_frame_orig_subtracted = df_frame_orig[df_labels]\n",
      "(1077, 5)\n",
      "file_labels: voxelling_output/submission_files/vid_1_pred/0000076_labels.csv\n",
      "0.07923364639282227 : df_labels.to_csv(pickles_path+\"df_labels__frame_%d__%s__voxel_size_%d.p\"%(frame_idx, vid, voxel_size))\n",
      "1077\n",
      "0.0199429988861084 : save_frame_for_movie(df_frame_orig_subtracted, \"tmp_only_labeled/\", all_files, frame_idx)\n"
     ]
    },
    {
     "name": "stderr",
     "output_type": "stream",
     "text": [
      "\r",
      "  7%|███████████▎                                                                                                                                                     | 62/885 [04:02<53:32,  3.90s/it]"
     ]
    },
    {
     "name": "stdout",
     "output_type": "stream",
     "text": [
      "=========================================================================\n",
      "frame_idx = 77\n",
      "=========================================================================\n",
      "0.0 : list_idx = get_list_idx_for_frame(frame_idx, n_frames_per_side, shift)\n",
      "2.4609575271606445 : df_subtracted_frame = get_df_voxel_subtracted_frame(list_df_voxel_scene, frame_idx, n_frames_per_side, shift)\n",
      "1.2023584842681885 : df_frame_orig['voxel_id'] =  df_frame_orig.apply(lambda x: point_to_voxel(x, voxel_size), axis=1)\n",
      "0.002006053924560547 : df_labels = df_frame_orig.voxel_id.isin(df_subtracted_frame.voxel_id)\n",
      "(113, 5)\n",
      "0.1216728687286377 : df_frame_orig_subtracted = df_frame_orig[df_labels]\n",
      "(1116, 5)\n",
      "file_labels: voxelling_output/submission_files/vid_1_pred/0000077_labels.csv\n",
      "0.08975911140441895 : df_labels.to_csv(pickles_path+\"df_labels__frame_%d__%s__voxel_size_%d.p\"%(frame_idx, vid, voxel_size))\n",
      "1116\n",
      "0.018979310989379883 : save_frame_for_movie(df_frame_orig_subtracted, \"tmp_only_labeled/\", all_files, frame_idx)\n"
     ]
    },
    {
     "name": "stderr",
     "output_type": "stream",
     "text": [
      "\r",
      "  7%|███████████▍                                                                                                                                                     | 63/885 [04:05<53:28,  3.90s/it]"
     ]
    },
    {
     "name": "stdout",
     "output_type": "stream",
     "text": [
      "=========================================================================\n",
      "frame_idx = 78\n",
      "=========================================================================\n",
      "0.0 : list_idx = get_list_idx_for_frame(frame_idx, n_frames_per_side, shift)\n",
      "2.3198084831237793 : df_subtracted_frame = get_df_voxel_subtracted_frame(list_df_voxel_scene, frame_idx, n_frames_per_side, shift)\n",
      "1.1382880210876465 : df_frame_orig['voxel_id'] =  df_frame_orig.apply(lambda x: point_to_voxel(x, voxel_size), axis=1)\n",
      "0.00934600830078125 : df_labels = df_frame_orig.voxel_id.isin(df_subtracted_frame.voxel_id)\n",
      "(63, 5)\n",
      "0.12722468376159668 : df_frame_orig_subtracted = df_frame_orig[df_labels]\n",
      "(1186, 5)\n",
      "file_labels: voxelling_output/submission_files/vid_1_pred/0000078_labels.csv\n",
      "0.06969547271728516 : df_labels.to_csv(pickles_path+\"df_labels__frame_%d__%s__voxel_size_%d.p\"%(frame_idx, vid, voxel_size))\n",
      "1186\n",
      "0.016955137252807617 : save_frame_for_movie(df_frame_orig_subtracted, \"tmp_only_labeled/\", all_files, frame_idx)\n"
     ]
    },
    {
     "name": "stderr",
     "output_type": "stream",
     "text": [
      "\r",
      "  7%|███████████▋                                                                                                                                                     | 64/885 [04:09<53:22,  3.90s/it]"
     ]
    },
    {
     "name": "stdout",
     "output_type": "stream",
     "text": [
      "=========================================================================\n",
      "frame_idx = 79\n",
      "=========================================================================\n",
      "0.0 : list_idx = get_list_idx_for_frame(frame_idx, n_frames_per_side, shift)\n",
      "2.1985392570495605 : df_subtracted_frame = get_df_voxel_subtracted_frame(list_df_voxel_scene, frame_idx, n_frames_per_side, shift)\n",
      "1.1692836284637451 : df_frame_orig['voxel_id'] =  df_frame_orig.apply(lambda x: point_to_voxel(x, voxel_size), axis=1)\n",
      "0.0009982585906982422 : df_labels = df_frame_orig.voxel_id.isin(df_subtracted_frame.voxel_id)\n",
      "(18, 5)\n",
      "0.12494277954101562 : df_frame_orig_subtracted = df_frame_orig[df_labels]\n",
      "(1164, 5)\n",
      "file_labels: voxelling_output/submission_files/vid_1_pred/0000079_labels.csv\n",
      "0.09742999076843262 : df_labels.to_csv(pickles_path+\"df_labels__frame_%d__%s__voxel_size_%d.p\"%(frame_idx, vid, voxel_size))\n",
      "1164\n",
      "0.01112675666809082 : save_frame_for_movie(df_frame_orig_subtracted, \"tmp_only_labeled/\", all_files, frame_idx)\n"
     ]
    },
    {
     "name": "stderr",
     "output_type": "stream",
     "text": [
      "\r",
      "  7%|███████████▊                                                                                                                                                     | 65/885 [04:13<53:15,  3.90s/it]"
     ]
    },
    {
     "name": "stdout",
     "output_type": "stream",
     "text": [
      "=========================================================================\n",
      "frame_idx = 80\n",
      "=========================================================================\n",
      "0.0 : list_idx = get_list_idx_for_frame(frame_idx, n_frames_per_side, shift)\n",
      "2.122189998626709 : df_subtracted_frame = get_df_voxel_subtracted_frame(list_df_voxel_scene, frame_idx, n_frames_per_side, shift)\n",
      "1.0662553310394287 : df_frame_orig['voxel_id'] =  df_frame_orig.apply(lambda x: point_to_voxel(x, voxel_size), axis=1)\n",
      "0.0031652450561523438 : df_labels = df_frame_orig.voxel_id.isin(df_subtracted_frame.voxel_id)\n",
      "(15, 5)\n",
      "0.1154015064239502 : df_frame_orig_subtracted = df_frame_orig[df_labels]\n",
      "(1135, 5)\n",
      "file_labels: voxelling_output/submission_files/vid_1_pred/0000080_labels.csv\n",
      "0.07811307907104492 : df_labels.to_csv(pickles_path+\"df_labels__frame_%d__%s__voxel_size_%d.p\"%(frame_idx, vid, voxel_size))\n",
      "1135\n",
      "0.01565861701965332 : save_frame_for_movie(df_frame_orig_subtracted, \"tmp_only_labeled/\", all_files, frame_idx)\n"
     ]
    },
    {
     "name": "stderr",
     "output_type": "stream",
     "text": [
      "\r",
      "  7%|████████████                                                                                                                                                     | 66/885 [04:16<53:05,  3.89s/it]"
     ]
    },
    {
     "name": "stdout",
     "output_type": "stream",
     "text": [
      "=========================================================================\n",
      "frame_idx = 81\n",
      "=========================================================================\n",
      "0.0 : list_idx = get_list_idx_for_frame(frame_idx, n_frames_per_side, shift)\n",
      "2.0663890838623047 : df_subtracted_frame = get_df_voxel_subtracted_frame(list_df_voxel_scene, frame_idx, n_frames_per_side, shift)\n",
      "1.0605061054229736 : df_frame_orig['voxel_id'] =  df_frame_orig.apply(lambda x: point_to_voxel(x, voxel_size), axis=1)\n",
      "0.0014455318450927734 : df_labels = df_frame_orig.voxel_id.isin(df_subtracted_frame.voxel_id)\n",
      "(26, 5)\n",
      "0.11333870887756348 : df_frame_orig_subtracted = df_frame_orig[df_labels]\n",
      "(1131, 5)\n",
      "file_labels: voxelling_output/submission_files/vid_1_pred/0000081_labels.csv\n",
      "0.08278107643127441 : df_labels.to_csv(pickles_path+\"df_labels__frame_%d__%s__voxel_size_%d.p\"%(frame_idx, vid, voxel_size))\n",
      "1131\n",
      "0.016976594924926758 : save_frame_for_movie(df_frame_orig_subtracted, \"tmp_only_labeled/\", all_files, frame_idx)\n"
     ]
    },
    {
     "name": "stderr",
     "output_type": "stream",
     "text": [
      "\r",
      "  8%|████████████▏                                                                                                                                                    | 67/885 [04:20<52:55,  3.88s/it]"
     ]
    },
    {
     "name": "stdout",
     "output_type": "stream",
     "text": [
      "=========================================================================\n",
      "frame_idx = 82\n",
      "=========================================================================\n",
      "0.0 : list_idx = get_list_idx_for_frame(frame_idx, n_frames_per_side, shift)\n",
      "2.299924612045288 : df_subtracted_frame = get_df_voxel_subtracted_frame(list_df_voxel_scene, frame_idx, n_frames_per_side, shift)\n",
      "1.1219754219055176 : df_frame_orig['voxel_id'] =  df_frame_orig.apply(lambda x: point_to_voxel(x, voxel_size), axis=1)\n",
      "0.0009980201721191406 : df_labels = df_frame_orig.voxel_id.isin(df_subtracted_frame.voxel_id)\n",
      "(11, 5)\n",
      "0.12868976593017578 : df_frame_orig_subtracted = df_frame_orig[df_labels]\n",
      "(1143, 5)\n",
      "file_labels: voxelling_output/submission_files/vid_1_pred/0000082_labels.csv\n",
      "0.08079910278320312 : df_labels.to_csv(pickles_path+\"df_labels__frame_%d__%s__voxel_size_%d.p\"%(frame_idx, vid, voxel_size))\n",
      "1143\n",
      "0.01898050308227539 : save_frame_for_movie(df_frame_orig_subtracted, \"tmp_only_labeled/\", all_files, frame_idx)\n"
     ]
    },
    {
     "name": "stderr",
     "output_type": "stream",
     "text": [
      "\r",
      "  8%|████████████▎                                                                                                                                                    | 68/885 [04:23<52:49,  3.88s/it]"
     ]
    },
    {
     "name": "stdout",
     "output_type": "stream",
     "text": [
      "=========================================================================\n",
      "frame_idx = 83\n",
      "=========================================================================\n",
      "0.0 : list_idx = get_list_idx_for_frame(frame_idx, n_frames_per_side, shift)\n",
      "2.2786526679992676 : df_subtracted_frame = get_df_voxel_subtracted_frame(list_df_voxel_scene, frame_idx, n_frames_per_side, shift)\n",
      "1.2390270233154297 : df_frame_orig['voxel_id'] =  df_frame_orig.apply(lambda x: point_to_voxel(x, voxel_size), axis=1)\n",
      "0.004860639572143555 : df_labels = df_frame_orig.voxel_id.isin(df_subtracted_frame.voxel_id)\n",
      "(32, 5)\n",
      "0.13738226890563965 : df_frame_orig_subtracted = df_frame_orig[df_labels]\n",
      "(1087, 5)\n",
      "file_labels: voxelling_output/submission_files/vid_1_pred/0000083_labels.csv\n",
      "0.06899428367614746 : df_labels.to_csv(pickles_path+\"df_labels__frame_%d__%s__voxel_size_%d.p\"%(frame_idx, vid, voxel_size))\n",
      "1087\n",
      "0.030253887176513672 : save_frame_for_movie(df_frame_orig_subtracted, \"tmp_only_labeled/\", all_files, frame_idx)\n"
     ]
    },
    {
     "name": "stderr",
     "output_type": "stream",
     "text": [
      "\r",
      "  8%|████████████▌                                                                                                                                                    | 69/885 [04:27<52:44,  3.88s/it]"
     ]
    },
    {
     "name": "stdout",
     "output_type": "stream",
     "text": [
      "=========================================================================\n",
      "frame_idx = 84\n",
      "=========================================================================\n",
      "0.0 : list_idx = get_list_idx_for_frame(frame_idx, n_frames_per_side, shift)\n",
      "2.190103769302368 : df_subtracted_frame = get_df_voxel_subtracted_frame(list_df_voxel_scene, frame_idx, n_frames_per_side, shift)\n",
      "1.1111276149749756 : df_frame_orig['voxel_id'] =  df_frame_orig.apply(lambda x: point_to_voxel(x, voxel_size), axis=1)\n",
      "0.0017015933990478516 : df_labels = df_frame_orig.voxel_id.isin(df_subtracted_frame.voxel_id)\n",
      "(20, 5)\n",
      "0.12234640121459961 : df_frame_orig_subtracted = df_frame_orig[df_labels]\n",
      "(1081, 5)\n",
      "file_labels: voxelling_output/submission_files/vid_1_pred/0000084_labels.csv\n",
      "0.07461357116699219 : df_labels.to_csv(pickles_path+\"df_labels__frame_%d__%s__voxel_size_%d.p\"%(frame_idx, vid, voxel_size))\n",
      "1081\n",
      "0.026170969009399414 : save_frame_for_movie(df_frame_orig_subtracted, \"tmp_only_labeled/\", all_files, frame_idx)\n"
     ]
    },
    {
     "name": "stderr",
     "output_type": "stream",
     "text": [
      "\r",
      "  8%|████████████▋                                                                                                                                                    | 70/885 [04:31<52:36,  3.87s/it]"
     ]
    },
    {
     "name": "stdout",
     "output_type": "stream",
     "text": [
      "=========================================================================\n",
      "frame_idx = 85\n",
      "=========================================================================\n",
      "0.0 : list_idx = get_list_idx_for_frame(frame_idx, n_frames_per_side, shift)\n",
      "2.0867581367492676 : df_subtracted_frame = get_df_voxel_subtracted_frame(list_df_voxel_scene, frame_idx, n_frames_per_side, shift)\n",
      "1.1228461265563965 : df_frame_orig['voxel_id'] =  df_frame_orig.apply(lambda x: point_to_voxel(x, voxel_size), axis=1)\n",
      "0.008479118347167969 : df_labels = df_frame_orig.voxel_id.isin(df_subtracted_frame.voxel_id)\n",
      "(23, 5)\n",
      "0.12423133850097656 : df_frame_orig_subtracted = df_frame_orig[df_labels]\n",
      "(1141, 5)\n",
      "file_labels: voxelling_output/submission_files/vid_1_pred/0000085_labels.csv\n",
      "0.08464431762695312 : df_labels.to_csv(pickles_path+\"df_labels__frame_%d__%s__voxel_size_%d.p\"%(frame_idx, vid, voxel_size))\n",
      "1141\n",
      "0.015627384185791016 : save_frame_for_movie(df_frame_orig_subtracted, \"tmp_only_labeled/\", all_files, frame_idx)\n"
     ]
    },
    {
     "name": "stderr",
     "output_type": "stream",
     "text": [
      "\r",
      "  8%|████████████▉                                                                                                                                                    | 71/885 [04:34<52:28,  3.87s/it]"
     ]
    },
    {
     "name": "stdout",
     "output_type": "stream",
     "text": [
      "=========================================================================\n",
      "frame_idx = 86\n",
      "=========================================================================\n",
      "0.0 : list_idx = get_list_idx_for_frame(frame_idx, n_frames_per_side, shift)\n",
      "2.088376760482788 : df_subtracted_frame = get_df_voxel_subtracted_frame(list_df_voxel_scene, frame_idx, n_frames_per_side, shift)\n",
      "1.1119987964630127 : df_frame_orig['voxel_id'] =  df_frame_orig.apply(lambda x: point_to_voxel(x, voxel_size), axis=1)\n",
      "0.008021354675292969 : df_labels = df_frame_orig.voxel_id.isin(df_subtracted_frame.voxel_id)\n",
      "(21, 5)\n",
      "0.11989116668701172 : df_frame_orig_subtracted = df_frame_orig[df_labels]\n",
      "(1134, 5)\n",
      "file_labels: voxelling_output/submission_files/vid_1_pred/0000086_labels.csv\n",
      "0.08076810836791992 : df_labels.to_csv(pickles_path+\"df_labels__frame_%d__%s__voxel_size_%d.p\"%(frame_idx, vid, voxel_size))\n",
      "1134\n",
      "0.018090486526489258 : save_frame_for_movie(df_frame_orig_subtracted, \"tmp_only_labeled/\", all_files, frame_idx)\n"
     ]
    },
    {
     "name": "stderr",
     "output_type": "stream",
     "text": [
      "\r",
      "  8%|█████████████                                                                                                                                                    | 72/885 [04:38<52:19,  3.86s/it]"
     ]
    },
    {
     "name": "stdout",
     "output_type": "stream",
     "text": [
      "=========================================================================\n",
      "frame_idx = 87\n",
      "=========================================================================\n",
      "0.0 : list_idx = get_list_idx_for_frame(frame_idx, n_frames_per_side, shift)\n",
      "2.132641553878784 : df_subtracted_frame = get_df_voxel_subtracted_frame(list_df_voxel_scene, frame_idx, n_frames_per_side, shift)\n",
      "1.1563653945922852 : df_frame_orig['voxel_id'] =  df_frame_orig.apply(lambda x: point_to_voxel(x, voxel_size), axis=1)\n",
      "0.0019605159759521484 : df_labels = df_frame_orig.voxel_id.isin(df_subtracted_frame.voxel_id)\n",
      "(31, 5)\n",
      "0.10841941833496094 : df_frame_orig_subtracted = df_frame_orig[df_labels]\n",
      "(1169, 5)\n",
      "file_labels: voxelling_output/submission_files/vid_1_pred/0000087_labels.csv\n",
      "0.08410954475402832 : df_labels.to_csv(pickles_path+\"df_labels__frame_%d__%s__voxel_size_%d.p\"%(frame_idx, vid, voxel_size))\n",
      "1169\n",
      "0.013295412063598633 : save_frame_for_movie(df_frame_orig_subtracted, \"tmp_only_labeled/\", all_files, frame_idx)\n"
     ]
    },
    {
     "name": "stderr",
     "output_type": "stream",
     "text": [
      "\r",
      "  8%|█████████████▎                                                                                                                                                   | 73/885 [04:41<52:11,  3.86s/it]"
     ]
    },
    {
     "name": "stdout",
     "output_type": "stream",
     "text": [
      "=========================================================================\n",
      "frame_idx = 88\n",
      "=========================================================================\n",
      "0.0 : list_idx = get_list_idx_for_frame(frame_idx, n_frames_per_side, shift)\n",
      "2.1815876960754395 : df_subtracted_frame = get_df_voxel_subtracted_frame(list_df_voxel_scene, frame_idx, n_frames_per_side, shift)\n",
      "1.1250598430633545 : df_frame_orig['voxel_id'] =  df_frame_orig.apply(lambda x: point_to_voxel(x, voxel_size), axis=1)\n",
      "0.0009992122650146484 : df_labels = df_frame_orig.voxel_id.isin(df_subtracted_frame.voxel_id)\n",
      "(25, 5)\n",
      "0.12865543365478516 : df_frame_orig_subtracted = df_frame_orig[df_labels]\n",
      "(1131, 5)\n",
      "file_labels: voxelling_output/submission_files/vid_1_pred/0000088_labels.csv\n",
      "0.07309484481811523 : df_labels.to_csv(pickles_path+\"df_labels__frame_%d__%s__voxel_size_%d.p\"%(frame_idx, vid, voxel_size))\n",
      "1131\n",
      "0.015656709671020508 : save_frame_for_movie(df_frame_orig_subtracted, \"tmp_only_labeled/\", all_files, frame_idx)\n"
     ]
    },
    {
     "name": "stderr",
     "output_type": "stream",
     "text": [
      "\r",
      "  8%|█████████████▍                                                                                                                                                   | 74/885 [04:45<52:04,  3.85s/it]"
     ]
    },
    {
     "name": "stdout",
     "output_type": "stream",
     "text": [
      "=========================================================================\n",
      "frame_idx = 89\n",
      "=========================================================================\n",
      "0.0 : list_idx = get_list_idx_for_frame(frame_idx, n_frames_per_side, shift)\n",
      "2.1931166648864746 : df_subtracted_frame = get_df_voxel_subtracted_frame(list_df_voxel_scene, frame_idx, n_frames_per_side, shift)\n",
      "1.1638386249542236 : df_frame_orig['voxel_id'] =  df_frame_orig.apply(lambda x: point_to_voxel(x, voxel_size), axis=1)\n",
      "0.0009970664978027344 : df_labels = df_frame_orig.voxel_id.isin(df_subtracted_frame.voxel_id)\n",
      "(26, 5)\n",
      "0.12888455390930176 : df_frame_orig_subtracted = df_frame_orig[df_labels]\n",
      "(1116, 5)\n",
      "file_labels: voxelling_output/submission_files/vid_1_pred/0000089_labels.csv\n",
      "0.08464670181274414 : df_labels.to_csv(pickles_path+\"df_labels__frame_%d__%s__voxel_size_%d.p\"%(frame_idx, vid, voxel_size))\n",
      "1116\n",
      "0.015626907348632812 : save_frame_for_movie(df_frame_orig_subtracted, \"tmp_only_labeled/\", all_files, frame_idx)\n"
     ]
    },
    {
     "name": "stderr",
     "output_type": "stream",
     "text": [
      "\r",
      "  8%|█████████████▋                                                                                                                                                   | 75/885 [04:48<51:58,  3.85s/it]"
     ]
    },
    {
     "name": "stdout",
     "output_type": "stream",
     "text": [
      "=========================================================================\n",
      "frame_idx = 90\n",
      "=========================================================================\n",
      "0.0 : list_idx = get_list_idx_for_frame(frame_idx, n_frames_per_side, shift)\n",
      "1.990149736404419 : df_subtracted_frame = get_df_voxel_subtracted_frame(list_df_voxel_scene, frame_idx, n_frames_per_side, shift)\n",
      "1.1211400032043457 : df_frame_orig['voxel_id'] =  df_frame_orig.apply(lambda x: point_to_voxel(x, voxel_size), axis=1)\n",
      "0.0034956932067871094 : df_labels = df_frame_orig.voxel_id.isin(df_subtracted_frame.voxel_id)\n",
      "(25, 5)\n",
      "0.10683798789978027 : df_frame_orig_subtracted = df_frame_orig[df_labels]\n",
      "(1327, 5)\n",
      "file_labels: voxelling_output/submission_files/vid_1_pred/0000090_labels.csv\n",
      "0.07814979553222656 : df_labels.to_csv(pickles_path+\"df_labels__frame_%d__%s__voxel_size_%d.p\"%(frame_idx, vid, voxel_size))\n",
      "1327\n",
      "0.022098064422607422 : save_frame_for_movie(df_frame_orig_subtracted, \"tmp_only_labeled/\", all_files, frame_idx)\n"
     ]
    },
    {
     "name": "stderr",
     "output_type": "stream",
     "text": [
      "\r",
      "  9%|█████████████▊                                                                                                                                                   | 76/885 [04:52<51:49,  3.84s/it]"
     ]
    },
    {
     "name": "stdout",
     "output_type": "stream",
     "text": [
      "=========================================================================\n",
      "frame_idx = 91\n",
      "=========================================================================\n",
      "0.0 : list_idx = get_list_idx_for_frame(frame_idx, n_frames_per_side, shift)\n",
      "2.1535167694091797 : df_subtracted_frame = get_df_voxel_subtracted_frame(list_df_voxel_scene, frame_idx, n_frames_per_side, shift)\n",
      "1.117175579071045 : df_frame_orig['voxel_id'] =  df_frame_orig.apply(lambda x: point_to_voxel(x, voxel_size), axis=1)\n",
      "0.001997232437133789 : df_labels = df_frame_orig.voxel_id.isin(df_subtracted_frame.voxel_id)\n",
      "(21, 5)\n",
      "0.13367629051208496 : df_frame_orig_subtracted = df_frame_orig[df_labels]\n",
      "(1137, 5)\n",
      "file_labels: voxelling_output/submission_files/vid_1_pred/0000091_labels.csv\n",
      "0.07978582382202148 : df_labels.to_csv(pickles_path+\"df_labels__frame_%d__%s__voxel_size_%d.p\"%(frame_idx, vid, voxel_size))\n",
      "1137\n",
      "0.002511262893676758 : save_frame_for_movie(df_frame_orig_subtracted, \"tmp_only_labeled/\", all_files, frame_idx)\n"
     ]
    },
    {
     "name": "stderr",
     "output_type": "stream",
     "text": [
      "\r",
      "  9%|██████████████                                                                                                                                                   | 77/885 [04:55<51:42,  3.84s/it]"
     ]
    },
    {
     "name": "stdout",
     "output_type": "stream",
     "text": [
      "=========================================================================\n",
      "frame_idx = 92\n",
      "=========================================================================\n",
      "0.0 : list_idx = get_list_idx_for_frame(frame_idx, n_frames_per_side, shift)\n",
      "2.1384408473968506 : df_subtracted_frame = get_df_voxel_subtracted_frame(list_df_voxel_scene, frame_idx, n_frames_per_side, shift)\n",
      "1.1064915657043457 : df_frame_orig['voxel_id'] =  df_frame_orig.apply(lambda x: point_to_voxel(x, voxel_size), axis=1)\n",
      "0.004772663116455078 : df_labels = df_frame_orig.voxel_id.isin(df_subtracted_frame.voxel_id)\n",
      "(8, 5)\n",
      "0.1088097095489502 : df_frame_orig_subtracted = df_frame_orig[df_labels]\n",
      "(1527, 5)\n",
      "file_labels: voxelling_output/submission_files/vid_1_pred/0000092_labels.csv\n",
      "0.07811141014099121 : df_labels.to_csv(pickles_path+\"df_labels__frame_%d__%s__voxel_size_%d.p\"%(frame_idx, vid, voxel_size))\n",
      "1527\n",
      "0.02213001251220703 : save_frame_for_movie(df_frame_orig_subtracted, \"tmp_only_labeled/\", all_files, frame_idx)\n"
     ]
    },
    {
     "name": "stderr",
     "output_type": "stream",
     "text": [
      "\r",
      "  9%|██████████████▏                                                                                                                                                  | 78/885 [04:59<51:34,  3.83s/it]"
     ]
    },
    {
     "name": "stdout",
     "output_type": "stream",
     "text": [
      "=========================================================================\n",
      "frame_idx = 93\n",
      "=========================================================================\n",
      "0.0 : list_idx = get_list_idx_for_frame(frame_idx, n_frames_per_side, shift)\n",
      "2.1166138648986816 : df_subtracted_frame = get_df_voxel_subtracted_frame(list_df_voxel_scene, frame_idx, n_frames_per_side, shift)\n",
      "1.1998445987701416 : df_frame_orig['voxel_id'] =  df_frame_orig.apply(lambda x: point_to_voxel(x, voxel_size), axis=1)\n",
      "0.0009772777557373047 : df_labels = df_frame_orig.voxel_id.isin(df_subtracted_frame.voxel_id)\n",
      "(11, 5)\n",
      "0.11586570739746094 : df_frame_orig_subtracted = df_frame_orig[df_labels]\n",
      "(1414, 5)\n",
      "file_labels: voxelling_output/submission_files/vid_1_pred/0000093_labels.csv\n",
      "0.08975958824157715 : df_labels.to_csv(pickles_path+\"df_labels__frame_%d__%s__voxel_size_%d.p\"%(frame_idx, vid, voxel_size))\n",
      "1414\n",
      "0.017985820770263672 : save_frame_for_movie(df_frame_orig_subtracted, \"tmp_only_labeled/\", all_files, frame_idx)\n"
     ]
    },
    {
     "name": "stderr",
     "output_type": "stream",
     "text": [
      "\r",
      "  9%|██████████████▎                                                                                                                                                  | 79/885 [05:02<51:27,  3.83s/it]"
     ]
    },
    {
     "name": "stdout",
     "output_type": "stream",
     "text": [
      "=========================================================================\n",
      "frame_idx = 94\n",
      "=========================================================================\n",
      "0.0 : list_idx = get_list_idx_for_frame(frame_idx, n_frames_per_side, shift)\n",
      "2.0086653232574463 : df_subtracted_frame = get_df_voxel_subtracted_frame(list_df_voxel_scene, frame_idx, n_frames_per_side, shift)\n",
      "1.1205863952636719 : df_frame_orig['voxel_id'] =  df_frame_orig.apply(lambda x: point_to_voxel(x, voxel_size), axis=1)\n",
      "0.00816798210144043 : df_labels = df_frame_orig.voxel_id.isin(df_subtracted_frame.voxel_id)\n",
      "(6, 5)\n",
      "0.12844491004943848 : df_frame_orig_subtracted = df_frame_orig[df_labels]\n",
      "(1226, 5)\n",
      "file_labels: voxelling_output/submission_files/vid_1_pred/0000094_labels.csv\n",
      "0.07799339294433594 : df_labels.to_csv(pickles_path+\"df_labels__frame_%d__%s__voxel_size_%d.p\"%(frame_idx, vid, voxel_size))\n",
      "1226\n",
      "0.015621662139892578 : save_frame_for_movie(df_frame_orig_subtracted, \"tmp_only_labeled/\", all_files, frame_idx)\n"
     ]
    },
    {
     "name": "stderr",
     "output_type": "stream",
     "text": [
      "\r",
      "  9%|██████████████▌                                                                                                                                                  | 80/885 [05:06<51:19,  3.83s/it]"
     ]
    },
    {
     "name": "stdout",
     "output_type": "stream",
     "text": [
      "=========================================================================\n",
      "frame_idx = 95\n",
      "=========================================================================\n",
      "0.0 : list_idx = get_list_idx_for_frame(frame_idx, n_frames_per_side, shift)\n",
      "1.9944603443145752 : df_subtracted_frame = get_df_voxel_subtracted_frame(list_df_voxel_scene, frame_idx, n_frames_per_side, shift)\n",
      "1.0879595279693604 : df_frame_orig['voxel_id'] =  df_frame_orig.apply(lambda x: point_to_voxel(x, voxel_size), axis=1)\n",
      "0.0 : df_labels = df_frame_orig.voxel_id.isin(df_subtracted_frame.voxel_id)\n",
      "(8, 5)\n",
      "0.12253713607788086 : df_frame_orig_subtracted = df_frame_orig[df_labels]\n",
      "(1405, 5)\n",
      "file_labels: voxelling_output/submission_files/vid_1_pred/0000095_labels.csv\n",
      "0.08458065986633301 : df_labels.to_csv(pickles_path+\"df_labels__frame_%d__%s__voxel_size_%d.p\"%(frame_idx, vid, voxel_size))\n",
      "1405\n",
      "0.01896357536315918 : save_frame_for_movie(df_frame_orig_subtracted, \"tmp_only_labeled/\", all_files, frame_idx)\n"
     ]
    },
    {
     "name": "stderr",
     "output_type": "stream",
     "text": [
      "\r",
      "  9%|██████████████▋                                                                                                                                                  | 81/885 [05:09<51:10,  3.82s/it]"
     ]
    },
    {
     "name": "stdout",
     "output_type": "stream",
     "text": [
      "=========================================================================\n",
      "frame_idx = 96\n",
      "=========================================================================\n",
      "0.0 : list_idx = get_list_idx_for_frame(frame_idx, n_frames_per_side, shift)\n",
      "2.122638702392578 : df_subtracted_frame = get_df_voxel_subtracted_frame(list_df_voxel_scene, frame_idx, n_frames_per_side, shift)\n",
      "1.2190089225769043 : df_frame_orig['voxel_id'] =  df_frame_orig.apply(lambda x: point_to_voxel(x, voxel_size), axis=1)\n",
      "0.0009920597076416016 : df_labels = df_frame_orig.voxel_id.isin(df_subtracted_frame.voxel_id)\n",
      "(6, 5)\n",
      "0.13464093208312988 : df_frame_orig_subtracted = df_frame_orig[df_labels]\n",
      "(1251, 5)\n",
      "file_labels: voxelling_output/submission_files/vid_1_pred/0000096_labels.csv\n",
      "0.09075760841369629 : df_labels.to_csv(pickles_path+\"df_labels__frame_%d__%s__voxel_size_%d.p\"%(frame_idx, vid, voxel_size))\n",
      "1251\n",
      "0.02094244956970215 : save_frame_for_movie(df_frame_orig_subtracted, \"tmp_only_labeled/\", all_files, frame_idx)\n"
     ]
    },
    {
     "name": "stderr",
     "output_type": "stream",
     "text": [
      "\r",
      "  9%|██████████████▉                                                                                                                                                  | 82/885 [05:12<51:05,  3.82s/it]"
     ]
    },
    {
     "name": "stdout",
     "output_type": "stream",
     "text": [
      "=========================================================================\n",
      "frame_idx = 97\n",
      "=========================================================================\n",
      "0.0 : list_idx = get_list_idx_for_frame(frame_idx, n_frames_per_side, shift)\n",
      "2.0142548084259033 : df_subtracted_frame = get_df_voxel_subtracted_frame(list_df_voxel_scene, frame_idx, n_frames_per_side, shift)\n",
      "1.2000348567962646 : df_frame_orig['voxel_id'] =  df_frame_orig.apply(lambda x: point_to_voxel(x, voxel_size), axis=1)\n",
      "0.0020067691802978516 : df_labels = df_frame_orig.voxel_id.isin(df_subtracted_frame.voxel_id)\n",
      "(8, 5)\n",
      "0.1296067237854004 : df_frame_orig_subtracted = df_frame_orig[df_labels]\n",
      "(1450, 5)\n",
      "file_labels: voxelling_output/submission_files/vid_1_pred/0000097_labels.csv\n",
      "0.07812356948852539 : df_labels.to_csv(pickles_path+\"df_labels__frame_%d__%s__voxel_size_%d.p\"%(frame_idx, vid, voxel_size))\n",
      "1450\n",
      "0.01947474479675293 : save_frame_for_movie(df_frame_orig_subtracted, \"tmp_only_labeled/\", all_files, frame_idx)\n"
     ]
    },
    {
     "name": "stderr",
     "output_type": "stream",
     "text": [
      "\r",
      "  9%|███████████████                                                                                                                                                  | 83/885 [05:16<50:58,  3.81s/it]"
     ]
    },
    {
     "name": "stdout",
     "output_type": "stream",
     "text": [
      "=========================================================================\n",
      "frame_idx = 98\n",
      "=========================================================================\n",
      "0.0 : list_idx = get_list_idx_for_frame(frame_idx, n_frames_per_side, shift)\n",
      "1.9904780387878418 : df_subtracted_frame = get_df_voxel_subtracted_frame(list_df_voxel_scene, frame_idx, n_frames_per_side, shift)\n",
      "1.125971794128418 : df_frame_orig['voxel_id'] =  df_frame_orig.apply(lambda x: point_to_voxel(x, voxel_size), axis=1)\n",
      "0.001008749008178711 : df_labels = df_frame_orig.voxel_id.isin(df_subtracted_frame.voxel_id)\n",
      "(10, 5)\n",
      "0.13359808921813965 : df_frame_orig_subtracted = df_frame_orig[df_labels]\n",
      "(1569, 5)\n",
      "file_labels: voxelling_output/submission_files/vid_1_pred/0000098_labels.csv\n",
      "0.08776330947875977 : df_labels.to_csv(pickles_path+\"df_labels__frame_%d__%s__voxel_size_%d.p\"%(frame_idx, vid, voxel_size))\n",
      "1569\n",
      "0.02093219757080078 : save_frame_for_movie(df_frame_orig_subtracted, \"tmp_only_labeled/\", all_files, frame_idx)\n"
     ]
    },
    {
     "name": "stderr",
     "output_type": "stream",
     "text": [
      "\r",
      "  9%|███████████████▎                                                                                                                                                 | 84/885 [05:19<50:50,  3.81s/it]"
     ]
    },
    {
     "name": "stdout",
     "output_type": "stream",
     "text": [
      "=========================================================================\n",
      "frame_idx = 99\n",
      "=========================================================================\n",
      "0.0 : list_idx = get_list_idx_for_frame(frame_idx, n_frames_per_side, shift)\n",
      "2.0513107776641846 : df_subtracted_frame = get_df_voxel_subtracted_frame(list_df_voxel_scene, frame_idx, n_frames_per_side, shift)\n",
      "1.1904335021972656 : df_frame_orig['voxel_id'] =  df_frame_orig.apply(lambda x: point_to_voxel(x, voxel_size), axis=1)\n",
      "0.0009992122650146484 : df_labels = df_frame_orig.voxel_id.isin(df_subtracted_frame.voxel_id)\n",
      "(13, 5)\n",
      "0.13663434982299805 : df_frame_orig_subtracted = df_frame_orig[df_labels]\n",
      "(1528, 5)\n",
      "file_labels: voxelling_output/submission_files/vid_1_pred/0000099_labels.csv\n",
      "0.08078455924987793 : df_labels.to_csv(pickles_path+\"df_labels__frame_%d__%s__voxel_size_%d.p\"%(frame_idx, vid, voxel_size))\n",
      "1528\n",
      "0.004167795181274414 : save_frame_for_movie(df_frame_orig_subtracted, \"tmp_only_labeled/\", all_files, frame_idx)\n"
     ]
    },
    {
     "name": "stderr",
     "output_type": "stream",
     "text": [
      "\r",
      " 10%|███████████████▍                                                                                                                                                 | 85/885 [05:23<50:43,  3.80s/it]"
     ]
    },
    {
     "name": "stdout",
     "output_type": "stream",
     "text": [
      "=========================================================================\n",
      "frame_idx = 100\n",
      "=========================================================================\n",
      "0.0 : list_idx = get_list_idx_for_frame(frame_idx, n_frames_per_side, shift)\n",
      "1.9504647254943848 : df_subtracted_frame = get_df_voxel_subtracted_frame(list_df_voxel_scene, frame_idx, n_frames_per_side, shift)\n",
      "1.0799353122711182 : df_frame_orig['voxel_id'] =  df_frame_orig.apply(lambda x: point_to_voxel(x, voxel_size), axis=1)\n",
      "0.0009984970092773438 : df_labels = df_frame_orig.voxel_id.isin(df_subtracted_frame.voxel_id)\n",
      "(11, 5)\n",
      "0.10628581047058105 : df_frame_orig_subtracted = df_frame_orig[df_labels]\n",
      "(1488, 5)\n",
      "file_labels: voxelling_output/submission_files/vid_1_pred/0000100_labels.csv\n",
      "0.07814908027648926 : df_labels.to_csv(pickles_path+\"df_labels__frame_%d__%s__voxel_size_%d.p\"%(frame_idx, vid, voxel_size))\n",
      "1488\n",
      "0.022122621536254883 : save_frame_for_movie(df_frame_orig_subtracted, \"tmp_only_labeled/\", all_files, frame_idx)\n"
     ]
    },
    {
     "name": "stderr",
     "output_type": "stream",
     "text": [
      "\r",
      " 10%|███████████████▋                                                                                                                                                 | 86/885 [05:26<50:34,  3.80s/it]"
     ]
    },
    {
     "name": "stdout",
     "output_type": "stream",
     "text": [
      "=========================================================================\n",
      "frame_idx = 101\n",
      "=========================================================================\n",
      "0.0 : list_idx = get_list_idx_for_frame(frame_idx, n_frames_per_side, shift)\n",
      "1.9093236923217773 : df_subtracted_frame = get_df_voxel_subtracted_frame(list_df_voxel_scene, frame_idx, n_frames_per_side, shift)\n",
      "1.070061206817627 : df_frame_orig['voxel_id'] =  df_frame_orig.apply(lambda x: point_to_voxel(x, voxel_size), axis=1)\n",
      "0.0009989738464355469 : df_labels = df_frame_orig.voxel_id.isin(df_subtracted_frame.voxel_id)\n",
      "(9, 5)\n",
      "0.11496782302856445 : df_frame_orig_subtracted = df_frame_orig[df_labels]\n",
      "(1399, 5)\n",
      "file_labels: voxelling_output/submission_files/vid_1_pred/0000101_labels.csv\n",
      "0.08079361915588379 : df_labels.to_csv(pickles_path+\"df_labels__frame_%d__%s__voxel_size_%d.p\"%(frame_idx, vid, voxel_size))\n",
      "1399\n",
      "0.017966270446777344 : save_frame_for_movie(df_frame_orig_subtracted, \"tmp_only_labeled/\", all_files, frame_idx)\n"
     ]
    },
    {
     "name": "stderr",
     "output_type": "stream",
     "text": [
      "\r",
      " 10%|███████████████▊                                                                                                                                                 | 87/885 [05:29<50:25,  3.79s/it]"
     ]
    },
    {
     "name": "stdout",
     "output_type": "stream",
     "text": [
      "=========================================================================\n",
      "frame_idx = 102\n",
      "=========================================================================\n",
      "0.0 : list_idx = get_list_idx_for_frame(frame_idx, n_frames_per_side, shift)\n",
      "1.9602577686309814 : df_subtracted_frame = get_df_voxel_subtracted_frame(list_df_voxel_scene, frame_idx, n_frames_per_side, shift)\n",
      "1.0042335987091064 : df_frame_orig['voxel_id'] =  df_frame_orig.apply(lambda x: point_to_voxel(x, voxel_size), axis=1)\n",
      "0.008994817733764648 : df_labels = df_frame_orig.voxel_id.isin(df_subtracted_frame.voxel_id)\n",
      "(9, 5)\n",
      "0.10656476020812988 : df_frame_orig_subtracted = df_frame_orig[df_labels]\n",
      "(1315, 5)\n",
      "file_labels: voxelling_output/submission_files/vid_1_pred/0000102_labels.csv\n",
      "0.06248784065246582 : df_labels.to_csv(pickles_path+\"df_labels__frame_%d__%s__voxel_size_%d.p\"%(frame_idx, vid, voxel_size))\n",
      "1315\n",
      "0.015622615814208984 : save_frame_for_movie(df_frame_orig_subtracted, \"tmp_only_labeled/\", all_files, frame_idx)\n"
     ]
    },
    {
     "name": "stderr",
     "output_type": "stream",
     "text": [
      "\r",
      " 10%|████████████████                                                                                                                                                 | 88/885 [05:33<50:16,  3.78s/it]"
     ]
    },
    {
     "name": "stdout",
     "output_type": "stream",
     "text": [
      "=========================================================================\n",
      "frame_idx = 103\n",
      "=========================================================================\n",
      "0.0 : list_idx = get_list_idx_for_frame(frame_idx, n_frames_per_side, shift)\n",
      "1.8480441570281982 : df_subtracted_frame = get_df_voxel_subtracted_frame(list_df_voxel_scene, frame_idx, n_frames_per_side, shift)\n",
      "1.0700068473815918 : df_frame_orig['voxel_id'] =  df_frame_orig.apply(lambda x: point_to_voxel(x, voxel_size), axis=1)\n",
      "0.002154111862182617 : df_labels = df_frame_orig.voxel_id.isin(df_subtracted_frame.voxel_id)\n",
      "(8, 5)\n",
      "0.12922310829162598 : df_frame_orig_subtracted = df_frame_orig[df_labels]\n",
      "(1128, 5)\n",
      "file_labels: voxelling_output/submission_files/vid_1_pred/0000103_labels.csv\n",
      "0.07505345344543457 : df_labels.to_csv(pickles_path+\"df_labels__frame_%d__%s__voxel_size_%d.p\"%(frame_idx, vid, voxel_size))\n",
      "1128\n",
      "0.018947601318359375 : save_frame_for_movie(df_frame_orig_subtracted, \"tmp_only_labeled/\", all_files, frame_idx)\n"
     ]
    },
    {
     "name": "stderr",
     "output_type": "stream",
     "text": [
      "\r",
      " 10%|████████████████▏                                                                                                                                                | 89/885 [05:36<50:06,  3.78s/it]"
     ]
    },
    {
     "name": "stdout",
     "output_type": "stream",
     "text": [
      "=========================================================================\n",
      "frame_idx = 104\n",
      "=========================================================================\n",
      "0.0 : list_idx = get_list_idx_for_frame(frame_idx, n_frames_per_side, shift)\n",
      "1.9924139976501465 : df_subtracted_frame = get_df_voxel_subtracted_frame(list_df_voxel_scene, frame_idx, n_frames_per_side, shift)\n",
      "1.1107726097106934 : df_frame_orig['voxel_id'] =  df_frame_orig.apply(lambda x: point_to_voxel(x, voxel_size), axis=1)\n",
      "0.0072252750396728516 : df_labels = df_frame_orig.voxel_id.isin(df_subtracted_frame.voxel_id)\n",
      "(7, 5)\n",
      "0.12097907066345215 : df_frame_orig_subtracted = df_frame_orig[df_labels]\n",
      "(633, 5)\n",
      "file_labels: voxelling_output/submission_files/vid_1_pred/0000104_labels.csv\n",
      "0.07106542587280273 : df_labels.to_csv(pickles_path+\"df_labels__frame_%d__%s__voxel_size_%d.p\"%(frame_idx, vid, voxel_size))\n",
      "633\n",
      "0.015038013458251953 : save_frame_for_movie(df_frame_orig_subtracted, \"tmp_only_labeled/\", all_files, frame_idx)\n"
     ]
    },
    {
     "name": "stderr",
     "output_type": "stream",
     "text": [
      "\r",
      " 10%|████████████████▎                                                                                                                                                | 90/885 [05:39<49:59,  3.77s/it]"
     ]
    },
    {
     "name": "stdout",
     "output_type": "stream",
     "text": [
      "=========================================================================\n",
      "frame_idx = 105\n",
      "=========================================================================\n",
      "0.0 : list_idx = get_list_idx_for_frame(frame_idx, n_frames_per_side, shift)\n"
     ]
    }
   ],
   "source": [
    "# frame_idx=15\n",
    "for frame_idx in tqdm(range(15,900)):\n",
    "    print(\"=========================================================================\")\n",
    "    print(\"frame_idx = %d\"%frame_idx)\n",
    "    print(\"=========================================================================\")\n",
    "\n",
    "    tic = time()\n",
    "    list_idx = get_list_idx_for_frame(frame_idx, n_frames_per_side, shift)\n",
    "    toc = time(); print(toc-tic, \": list_idx = get_list_idx_for_frame(frame_idx, n_frames_per_side, shift)\"); tic=time()\n",
    "    \n",
    "    df_scene = create_scene_voxel_df(list_df_voxel_scene, list_idx)\n",
    "    \n",
    "    df_subtracted_frame = get_df_voxel_subtracted_frame(list_df_voxel_scene, frame_idx, n_frames_per_side, shift)\n",
    "    toc = time(); print(toc-tic, \": df_subtracted_frame = get_df_voxel_subtracted_frame(list_df_voxel_scene, frame_idx, n_frames_per_side, shift)\"); tic=time()\n",
    "    \n",
    "    df_frame_orig = pd.read_csv(all_files[frame_idx], header=None)\n",
    "#     df_frame_orig[\"voxel_id\"] =  df_frame_orig.apply(lambda x: point_to_voxel(x, voxel_size), axis=1)\n",
    "    df_frame_orig[\"voxel_id\"] =  ((df_frame_orig.iloc[:, :3]//voxel_size)*voxel_size + voxel_size//2).apply(lambda x: hash((x[0], x[1], x[2])), axis=1)\n",
    "    toc = time(); print(toc-tic, \": df_frame_orig['voxel_id'] =  df_frame_orig.apply(lambda x: point_to_voxel(x, voxel_size), axis=1)\"); tic=time()\n",
    "    \n",
    "    df_labels = df_frame_orig.voxel_id.isin(df_subtracted_frame.voxel_id)\n",
    "    toc = time(); print(toc-tic, \": df_labels = df_frame_orig.voxel_id.isin(df_subtracted_frame.voxel_id)\"); tic=time()\n",
    "    \n",
    "    # filters\n",
    "    df_labels = remove_distant_lines(frame_idx, df_labels, orig_files_path)\n",
    "    df_labels = remove_distant_points(frame_idx, df_labels, orig_files_path)\n",
    "    df_labels = remove_close_lines(frame_idx, df_labels, orig_files_path)\n",
    "    df_labels = remove_high_points(frame_idx, df_labels, orig_files_path)\n",
    "    df_labels = remove_high_theta_points(frame_idx, df_labels, orig_files_path)\n",
    "#     df_labels.iloc[:] = False\n",
    "    \n",
    "    df_frame_orig_subtracted = df_frame_orig[df_labels]\n",
    "    toc = time(); print(toc-tic, \": df_frame_orig_subtracted = df_frame_orig[df_labels]\"); tic=time()\n",
    "    \n",
    "    print(df_frame_orig_subtracted.shape)\n",
    "    df_labels = df_labels.astype(int)\n",
    "    file_labels = \"voxelling_output/submission_files/vid_1_pred/\" + os.path.basename(all_files[frame_idx]).replace(\"pointcloud\", \"labels\")\n",
    "    print(\"file_labels:\", file_labels)\n",
    "    df_labels.to_csv(file_labels, header=None, index=False)\n",
    "    toc = time(); print(toc-tic, ': df_labels.to_csv(pickles_path+\"df_labels__frame_%d__%s__voxel_size_%d.p\"%(frame_idx, vid, voxel_size))'); tic=time()\n",
    "    \n",
    "    print(df_labels.sum())\n",
    "    df_frame_orig_subtracted = df_frame_orig_subtracted.iloc[:, :4]\n",
    "    df_frame_orig_subtracted.to_csv(pickles_path+\"df_frame_orig_subtracted__frame_%d__%s__voxel_size_%d.csv\"%(frame_idx, vid, voxel_size), header=None, index=False)\n",
    "#     save_frame_for_movie(df_frame_orig_subtracted, \"tmp_only_labeled/\", all_files, frame_idx)\n",
    "    toc = time(); print(toc-tic, ': save_frame_for_movie(df_frame_orig_subtracted, \"tmp_only_labeled/\", all_files, frame_idx)'); tic=time()"
   ]
  },
  {
   "cell_type": "code",
   "execution_count": null,
   "metadata": {},
   "outputs": [],
   "source": [
    "df_scene.head()"
   ]
  },
  {
   "cell_type": "code",
   "execution_count": null,
   "metadata": {},
   "outputs": [],
   "source": [
    "# frac_to_drop=0.5\n",
    "# dfff = df_scene.groupby([\"x_grid\", \"y_grid\", \"z_grid\"]).apply(len).reset_index(drop=False)\n",
    "\n",
    "# dfff = dfff[dfff[0]>frac_to_drop*len(list_idx)]\n",
    "# dfff[\"v_index\"] = dfff.iloc[:, :3].apply(lambda x: hash((x.iloc[0], x.iloc[1], x.iloc[2])), axis=1)\n",
    "# print(df_scene.shape)\n",
    "# df_scene.drop_duplicates([\"x_grid\", \"y_grid\", \"z_grid\"], inplace=True)\n",
    "# print(df_scene.shape)\n",
    "# df_scene = df_scene[df_scene.voxel_id.isin(dfff.v_index)]\n",
    "# print(df_scene.shape)"
   ]
  },
  {
   "cell_type": "code",
   "execution_count": null,
   "metadata": {},
   "outputs": [],
   "source": [
    "# df_scene"
   ]
  },
  {
   "cell_type": "code",
   "execution_count": null,
   "metadata": {},
   "outputs": [],
   "source": [
    "# base_dir = \"E:/Datasets/DataHack/Train\"\n",
    "# for sub_dir in os.listdir(base_dir):\n",
    "#     print(sub_dir)\n",
    "# #     for f in glob(sub_dir+\"/*point*\"):\n",
    "# #     df = add_grid_and_hash(pd.read_csv(f), header=None), 20)"
   ]
  },
  {
   "cell_type": "markdown",
   "metadata": {},
   "source": [
    "--------------------"
   ]
  },
  {
   "cell_type": "code",
   "execution_count": null,
   "metadata": {},
   "outputs": [],
   "source": [
    "# # for road distant lines:\n",
    "# df_frame_orig_subtracted.columns = list(\"xyzr\")\n",
    "# df_frame_orig_subtracted.plot(kind=\"scatter\", x=\"x\", y=\"y\", figsize=(10, 10))"
   ]
  },
  {
   "cell_type": "code",
   "execution_count": null,
   "metadata": {},
   "outputs": [],
   "source": [
    "# dff = pd.read_csv(\"voxelling_output/Original_Frames/0000033_pointcloud.csv\", header=None)\n",
    "# dff.columns = list(\"xyzr\")\n",
    "# dff[\"l\"] = df_labels.tolist()\n",
    "# dff = dff[dff.l==1]\n",
    "# print(dff.shape)\n",
    "# dff.head()"
   ]
  },
  {
   "cell_type": "code",
   "execution_count": null,
   "metadata": {},
   "outputs": [],
   "source": [
    "# dff = dff[dff.x>dff.x.min()+(dff.x.max()-dff.x.min())*0.4]\n",
    "# print(dff.shape)\n",
    "# dff.head()"
   ]
  },
  {
   "cell_type": "code",
   "execution_count": null,
   "metadata": {},
   "outputs": [],
   "source": [
    "# dff = dff[dff.z<dff.z.min()+(dff.z.max()-dff.z.min())*0.3]\n",
    "# print(dff.shape)\n",
    "# dff.head()"
   ]
  },
  {
   "cell_type": "code",
   "execution_count": null,
   "metadata": {},
   "outputs": [],
   "source": [
    "# dff = dff[(dff[\"r\"]>5)&(dff[\"r\"]<15)]\n",
    "# print(dff.shape)\n",
    "# dff.head()"
   ]
  },
  {
   "cell_type": "code",
   "execution_count": null,
   "metadata": {},
   "outputs": [],
   "source": [
    "# dff.plot(kind=\"scatter\", x=\"x\", y=\"y\", figsize=(10, 10))"
   ]
  },
  {
   "cell_type": "code",
   "execution_count": null,
   "metadata": {},
   "outputs": [],
   "source": []
  },
  {
   "cell_type": "code",
   "execution_count": null,
   "metadata": {},
   "outputs": [],
   "source": [
    "# (df_frame_orig_subtracted.iloc[:, :2]//2*2).plot(kind=\"scatter\", x=0, y=1)"
   ]
  },
  {
   "cell_type": "code",
   "execution_count": null,
   "metadata": {},
   "outputs": [],
   "source": [
    "ddf = df_frame_orig_subtracted.iloc[:, :2]//2*2"
   ]
  },
  {
   "cell_type": "code",
   "execution_count": null,
   "metadata": {},
   "outputs": [],
   "source": [
    "ddf = (ddf - ddf.min())\n",
    "ddf = np.floor((ddf/ddf.max()*256).values)\n",
    "ddf"
   ]
  },
  {
   "cell_type": "code",
   "execution_count": null,
   "metadata": {},
   "outputs": [],
   "source": []
  },
  {
   "cell_type": "code",
   "execution_count": null,
   "metadata": {},
   "outputs": [],
   "source": [
    "import cv2\n",
    "edges = cv2.Canny(gray,50,150,apertureSize = 3)\n",
    "minLineLength = 100\n",
    "maxLineGap = 10\n",
    "lines = cv2.HoughLinesP(edges,1,np.pi/180,100,minLineLength,maxLineGap)\n",
    "for x1,y1,x2,y2 in lines[0]:\n",
    "    cv2.line(img,(x1,y1),(x2,y2),(0,255,0),2)\n",
    "\n",
    "cv2.imwrite('houghlines5.jpg',img)"
   ]
  },
  {
   "cell_type": "code",
   "execution_count": null,
   "metadata": {},
   "outputs": [],
   "source": []
  },
  {
   "cell_type": "code",
   "execution_count": null,
   "metadata": {},
   "outputs": [],
   "source": []
  },
  {
   "cell_type": "code",
   "execution_count": null,
   "metadata": {},
   "outputs": [],
   "source": []
  },
  {
   "cell_type": "code",
   "execution_count": null,
   "metadata": {},
   "outputs": [],
   "source": [
    "# def pc_to_grid(df, voxel_size, dest_dir, dest_name):\n",
    "#     # df_frame points are in world coordinate system\n",
    "#     # dest_name may be frame number\n",
    "#     start_time = time()\n",
    "# #     df = pd.read_csv(csv_path, header=None)\n",
    "\n",
    "#     df_xyz = df.iloc[:,:3]\n",
    "#     ref_ser = df.iloc[:, 3]\n",
    "#     df_grid = df_xyz//voxel_size\n",
    "#     df_grid[3] = ref_ser\n",
    "#     df_grid.columns=list(\"xyzr\")\n",
    "#     df_voxel = df_grid.groupby(['x','y','z']).apply(lambda x: x.iloc[:, 3].mean()).to_frame()\n",
    "#     df_voxel.reset_index(drop=False, inplace=True)\n",
    "#     df_voxel.iloc[:, :3] = df_voxel.iloc[:, :3]*voxel_size + voxel_size//2\n",
    "#     df_voxel= df_voxel.astype(np.int)\n",
    "#     base_name = os.path.join(dest_dir, dest_name)\n",
    "#     df_voxel.to_csv(base_name + '_pointcloud.csv', header=None, index=False)\n",
    "#     pd.DataFrame([0]*df_voxel.shape[0]).to_csv(base_name+'_labels.csv', header=None, index=False)\n",
    "#     pd.DataFrame([0.]*6).T.to_csv(base_name+'_egomotion.csv', header=None, index=False)\n",
    "#     print('single file runtime: {}'.format(time()-start_time))\n",
    "    \n",
    "#     return df_voxel"
   ]
  },
  {
   "cell_type": "code",
   "execution_count": null,
   "metadata": {},
   "outputs": [],
   "source": [
    "# world_dir = \"E:/Datasets/DataHack/World/Train/vid_1/\""
   ]
  },
  {
   "cell_type": "code",
   "execution_count": null,
   "metadata": {},
   "outputs": [],
   "source": [
    "# scene_frames = glob(world_dir+\"/*point*\")[:10] + glob(world_dir+\"/*point*\")[20:30]\n",
    "# cur_frame = glob(world_dir+\"/*point*\")[15]"
   ]
  },
  {
   "cell_type": "code",
   "execution_count": null,
   "metadata": {},
   "outputs": [],
   "source": [
    "# s_pcs = []\n",
    "# for f in scene_frames:\n",
    "#     s_pcs.append(pd.read_csv(f, header=None))\n",
    "# df_scene_pcs = pd.concat(s_pcs, axis=0)"
   ]
  },
  {
   "cell_type": "code",
   "execution_count": null,
   "metadata": {},
   "outputs": [],
   "source": [
    "# %%time\n",
    "# try:\n",
    "#     os.mkdir(\"tmp/\")\n",
    "# except:\n",
    "#     pass\n",
    "# pc_to_grid(df_scene_pcs, 20, \"tmp\", \"0000000\")"
   ]
  },
  {
   "cell_type": "code",
   "execution_count": null,
   "metadata": {},
   "outputs": [],
   "source": [
    "# %%time\n",
    "# df_cur_pc = pd.read_csv(cur_frame, header=None)\n",
    "# pc_to_grid(df_cur_pc, 20, \"tmp\", \"0000001\")"
   ]
  },
  {
   "cell_type": "code",
   "execution_count": null,
   "metadata": {},
   "outputs": [],
   "source": [
    "# w = pd.read_csv(\"tmp/0000000_pointcloud.csv\", header=None)\n",
    "# c = pd.read_csv(\"tmp/0000001_pointcloud.csv\", header=None)"
   ]
  },
  {
   "cell_type": "code",
   "execution_count": null,
   "metadata": {},
   "outputs": [],
   "source": [
    "# w['voxel_id'] = w.apply(lambda x: hash((x[0], x[1], x[2])), axis=1)\n",
    "# c['voxel_id'] = c.apply(lambda x: hash((x[0], x[1], x[2])), axis=1)"
   ]
  },
  {
   "cell_type": "code",
   "execution_count": null,
   "metadata": {},
   "outputs": [],
   "source": [
    "# c_out = c[~c.voxel_id.isin(w.voxel_id)]"
   ]
  },
  {
   "cell_type": "code",
   "execution_count": null,
   "metadata": {},
   "outputs": [],
   "source": [
    "# c.shape, c_out.shape"
   ]
  },
  {
   "cell_type": "code",
   "execution_count": null,
   "metadata": {},
   "outputs": [],
   "source": [
    "# c_out = c_out.iloc[:, :4]\n",
    "# c_out.head()"
   ]
  },
  {
   "cell_type": "code",
   "execution_count": null,
   "metadata": {},
   "outputs": [],
   "source": [
    "# try:\n",
    "#     os.mkdir(\"tmp_out/\")\n",
    "# except:\n",
    "#     pass\n",
    "# pc_to_grid(c_out, 20, \"tmp_out\", \"0000002\")"
   ]
  },
  {
   "cell_type": "code",
   "execution_count": null,
   "metadata": {},
   "outputs": [],
   "source": [
    "# list_df_voxels = []\n",
    "# for f in g\n"
   ]
  },
  {
   "cell_type": "code",
   "execution_count": null,
   "metadata": {},
   "outputs": [],
   "source": [
    "# def voxel_classification_for_frame(vid_dir, frame_idx):\n",
    "#     df_pc_scene = ...\n",
    "#     df_pc_frame = ...\n",
    "#     df_voxel_scene = build_voxel(df_pc_scene)\n",
    "#     df_voxel_frame = build_voxel()\n",
    "    \n",
    "    "
   ]
  }
 ],
 "metadata": {
  "kernelspec": {
   "display_name": "DataHack",
   "language": "python",
   "name": "datahack"
  },
  "language_info": {
   "codemirror_mode": {
    "name": "ipython",
    "version": 3
   },
   "file_extension": ".py",
   "mimetype": "text/x-python",
   "name": "python",
   "nbconvert_exporter": "python",
   "pygments_lexer": "ipython3",
   "version": "3.6.4"
  }
 },
 "nbformat": 4,
 "nbformat_minor": 2
}
